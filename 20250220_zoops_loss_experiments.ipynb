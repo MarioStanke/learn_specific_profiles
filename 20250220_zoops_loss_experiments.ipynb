{
 "cells": [
  {
   "cell_type": "markdown",
   "metadata": {},
   "source": [
    "STREME utilizes the ZOOPS (zero or one occurrence per sequence) model -> for sensitivity experiments, this enables\n",
    "STREME to work with diluted data sets where only a fraction of input sequences actually contains the desired motif(s).\n",
    "\n",
    "Our loss quickly begins to struggle with diluted input data. Try to find a loss function that does not penalize input\n",
    "sequences without any good motif."
   ]
  },
  {
   "cell_type": "code",
   "execution_count": 1,
   "metadata": {},
   "outputs": [
    {
     "name": "stderr",
     "output_type": "stream",
     "text": [
      "2025-02-21 13:53:26.511307: I tensorflow/core/util/port.cc:113] oneDNN custom operations are on. You may see slightly different numerical results due to floating-point round-off errors from different computation orders. To turn them off, set the environment variable `TF_ENABLE_ONEDNN_OPTS=0`.\n",
      "2025-02-21 13:53:26.536872: I external/local_tsl/tsl/cuda/cudart_stub.cc:32] Could not find cuda drivers on your machine, GPU will not be used.\n",
      "2025-02-21 13:53:26.783493: I external/local_tsl/tsl/cuda/cudart_stub.cc:32] Could not find cuda drivers on your machine, GPU will not be used.\n",
      "2025-02-21 13:53:27.731350: I tensorflow/core/platform/cpu_feature_guard.cc:210] This TensorFlow binary is optimized to use available CPU instructions in performance-critical operations.\n",
      "To enable the following instructions: AVX2 AVX512F AVX512_VNNI AVX512_BF16 FMA, in other operations, rebuild TensorFlow with the appropriate compiler flags.\n",
      "2025-02-21 13:53:31.654585: W tensorflow/compiler/tf2tensorrt/utils/py_utils.cc:38] TF-TRT Warning: Could not find TensorRT\n"
     ]
    }
   ],
   "source": [
    "import logging\n",
    "from pathlib import Path\n",
    "import sys\n",
    "\n",
    "from modules import ModelDataSet, plotting, SequenceRepresentation\n",
    "\n",
    "logger = logging.getLogger()\n",
    "logging.basicConfig(format=\"%(asctime)s %(levelname)s: %(message)s\", \n",
    "                    encoding='utf-8', level=logging.DEBUG)"
   ]
  },
  {
   "cell_type": "code",
   "execution_count": 2,
   "metadata": {},
   "outputs": [],
   "source": [
    "# set some args\n",
    "SEED = 42\n",
    "MAXSEQS = 100\n",
    "mode = 'DNA'\n",
    "phylo_t = 0"
   ]
  },
  {
   "cell_type": "code",
   "execution_count": 3,
   "metadata": {},
   "outputs": [
    {
     "name": "stderr",
     "output_type": "stream",
     "text": [
      "2025-02-21 13:53:41,524 INFO: [main] Data mode: DataMode.DNA\n",
      "2025-02-21 13:53:41,524 INFO: [main] Loading sequences\n",
      "2025-02-21 13:53:42,305 INFO: [main] Limiting data to 100/51992 sequences from the input fasta\n"
     ]
    }
   ],
   "source": [
    "# load data\n",
    "\n",
    "fasta = Path('../data/STREME_benchmark_data/diluted_ds_primary/1.00/wgEncodeAwgTfbsBroadK562CtcfUniPk.narrowPeak.centered100bp.1.00pure.fasta')\n",
    "assert fasta.is_file(), f\"[ERROR] >>> Input file '{fasta}' not found\"\n",
    "\n",
    "\n",
    "if mode == 'DNA':\n",
    "    datamode = ModelDataSet.DataMode.DNA\n",
    "else:\n",
    "    if phylo_t == 0:\n",
    "        datamode = ModelDataSet.DataMode.Translated\n",
    "    else:\n",
    "        logging.warning(\"[main] Phylo_t is not 0.0 and data mode is set to 'Translated'. Setting data mode to \" \\\n",
    "                        + \"'Translated_noStop', using only 20-letter aa alphabet without stop codon.\")\n",
    "        datamode = ModelDataSet.DataMode.Translated_noStop\n",
    "        \n",
    "logging.info(f\"[main] Data mode: {datamode}\")\n",
    "\n",
    "# === LOAD DATA ===\n",
    "\n",
    "logging.info(\"[main] Loading sequences\")\n",
    "sequences = SequenceRepresentation.loadFasta_agnostic(fasta)\n",
    "if MAXSEQS is not None and MAXSEQS < len(sequences):\n",
    "    logging.info(f\"[main] Limiting data to {MAXSEQS}/{len(sequences)} sequences from the input fasta\")\n",
    "    sequences = sequences[:MAXSEQS]\n",
    "\n",
    "genomes = [SequenceRepresentation.Genome([s]) for s in sequences]"
   ]
  },
  {
   "cell_type": "code",
   "execution_count": 4,
   "metadata": {},
   "outputs": [
    {
     "data": {
      "text/plain": [
       "[Genome from chr22:22901677-22901578 with 1 chromosomes: 0 (1 sequence[s]),\n",
       " Genome from chr22:20918741-20918642 with 1 chromosomes: 0 (1 sequence[s]),\n",
       " Genome from chr22:23285067-23284968 with 1 chromosomes: 0 (1 sequence[s]),\n",
       " Genome from chr22:21239921-21239822 with 1 chromosomes: 0 (1 sequence[s]),\n",
       " Genome from chr22:23624139-23624040 with 1 chromosomes: 0 (1 sequence[s])]"
      ]
     },
     "execution_count": 4,
     "metadata": {},
     "output_type": "execute_result"
    }
   ],
   "source": [
    "genomes[:5]"
   ]
  },
  {
   "cell_type": "code",
   "execution_count": null,
   "metadata": {},
   "outputs": [],
   "source": [
    "data = ModelDataSet.ModelDataSet(genomes, datamode,\n",
    "                                 tile_size=args.tile_size, tiles_per_X=args.tiles_per_X,\n",
    "                                 batch_size=args.batch_size, prefetch=args.prefetch)\n",
    "trainsetup = ProfileFindingSetup.ProfileFindingTrainingSetup(data,\n",
    "                                                             U = args.U, k = args.k, \n",
    "                                                             midK = args.midK, s = args.s, \n",
    "                                                             epochs = 350, gamma = args.gamma, l2 = args.l2,\n",
    "                                                             match_score_factor = args.match_score_factor,\n",
    "                                                             learning_rate = args.learning_rate,\n",
    "                                                             lr_patience = args.lr_patience,\n",
    "                                                             lr_factor = args.lr_factor,\n",
    "                                                             rho = args.rho, sigma = args.sigma,\n",
    "                                                             profile_plateau = args.profile_plateau,\n",
    "                                                             profile_plateau_dev = args.profile_plateau_dev,\n",
    "                                                             n_best_profiles = args.n_best_profiles,\n",
    "                                                             phylo_t = args.phylo_t)\n",
    "                                                             \n",
    "trainsetup.initializeProfiles_kmers(enforceU=args.enforceU, \n",
    "                                    minU=args.minU, minOcc=args.minOcc,\n",
    "                                    overlapTilesize=args.overlapTilesize,\n",
    "                                    plot=False)\n",
    "\n",
    "logging.info(f\"[main] Start training and evaluation\")\n",
    "training.trainAndEvaluate(fasta.name, trainsetup, evaluator, \n",
    "                          outdir,  # type: ignore\n",
    "                          do_not_train=args.do_not_train,\n",
    "                          rand_seed=SEED) # type: ignore"
   ]
  }
 ],
 "metadata": {
  "kernelspec": {
   "display_name": ".venv",
   "language": "python",
   "name": "python3"
  },
  "language_info": {
   "codemirror_mode": {
    "name": "ipython",
    "version": 3
   },
   "file_extension": ".py",
   "mimetype": "text/x-python",
   "name": "python",
   "nbconvert_exporter": "python",
   "pygments_lexer": "ipython3",
   "version": "3.10.6"
  },
  "orig_nbformat": 4
 },
 "nbformat": 4,
 "nbformat_minor": 2
}
