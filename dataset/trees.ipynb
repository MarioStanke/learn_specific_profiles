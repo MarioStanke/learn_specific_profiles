{
 "cells": [
  {
   "cell_type": "code",
   "execution_count": 2,
   "metadata": {},
   "outputs": [
    {
     "name": "stdout",
     "output_type": "stream",
     "text": [
      "\n",
      "         /-A\n",
      "      /-|\n",
      "   /-|   \\-B\n",
      "  |  |\n",
      "  |   \\-C\n",
      "  |\n",
      "  |               /-D\n",
      "  |            /-|\n",
      "--|         /-|   \\-I\n",
      "  |        |  |\n",
      "  |      /-|   \\-F\n",
      "  |     |  |\n",
      "  |   /-|   \\-G\n",
      "  |  |  |\n",
      "   \\-|   \\-H\n",
      "     |\n",
      "      \\-E\n"
     ]
    }
   ],
   "source": [
    "from ete3 import Tree\n",
    "\n",
    "nw = \"\"\"(((A:0.1, B:0.01):0.001, C:0.0001):1.0,\n",
    "(((((D:0.00001,I:0):0,F:0):0,G:0):0,H:0):0,\n",
    "E:0.000001):0.0000001):2.0;\"\"\"\n",
    "t = Tree(nw)\n",
    "print(t)"
   ]
  },
  {
   "cell_type": "code",
   "execution_count": 3,
   "metadata": {},
   "outputs": [
    {
     "name": "stdout",
     "output_type": "stream",
     "text": [
      "The distance between A and C is 0.10110000000000001\n",
      "The distance between A and C is 0.10110000000000001\n",
      "The number of nodes between A and D is  8.0\n"
     ]
    }
   ],
   "source": [
    "# Locate some nodes\n",
    "A = t&\"A\"\n",
    "C = t&\"C\"\n",
    "# Calculate distance from current node\n",
    "print(\"The distance between A and C is\",  A.get_distance(\"C\"))\n",
    "# Calculate distance between two descendants of current node\n",
    "print(\"The distance between A and C is\",  t.get_distance(\"A\",\"C\"))\n",
    "# Calculate the toplogical distance (number of nodes in between)\n",
    "print(\"The number of nodes between A and D is \", t.get_distance(\"A\",\"D\", topology_only=True))"
   ]
  },
  {
   "cell_type": "code",
   "execution_count": 4,
   "metadata": {},
   "outputs": [
    {
     "name": "stdout",
     "output_type": "stream",
     "text": [
      "\n",
      "      /-C\n",
      "   /-|\n",
      "  |   \\-A\n",
      "  |\n",
      "  |               /-D\n",
      "  |            /-|\n",
      "--|         /-|   \\-I\n",
      "  |        |  |\n",
      "  |      /-|   \\-F\n",
      "  |     |  |\n",
      "  |   /-|   \\-G\n",
      "  |  |  |\n",
      "   \\-|   \\-H\n",
      "     |\n",
      "      \\-E\n",
      "The distance between A and C is 0.10010000000000001\n"
     ]
    }
   ],
   "source": [
    "t.prune([\"A\",\"C\",\"D\",\"E\",\"F\",\"G\",\"H\",\"I\"])\n",
    "print(t)\n",
    "print(\"The distance between A and C is\",  t.get_distance(\"A\",\"C\"))"
   ]
  },
  {
   "cell_type": "markdown",
   "metadata": {},
   "source": [
    "Branch lengths are reduced if one leaf in a cherry is removed."
   ]
  },
  {
   "cell_type": "markdown",
   "metadata": {},
   "source": [
    "---"
   ]
  },
  {
   "cell_type": "markdown",
   "metadata": {},
   "source": [
    "## Load and prune the tree"
   ]
  },
  {
   "cell_type": "code",
   "execution_count": 10,
   "metadata": {},
   "outputs": [
    {
     "data": {
      "text/plain": [
       "'((((((((Nycticebus_coucang:0.0444738,Otolemur_garnettii:0.0477624)1:0.0911439,(Daubentonia_madagascariensis:0.0490055,(((Propithecus_coquereli:0.0230615,Indri_indri:0.0246489)1:0.0179709,(Cheirogaleus_medius:0.02989,(Microcebus_murinus:0.0231249,Mirza_coquereli:0.0213344)1:0.020395)1:0.0139642)1:0.00270909,(Lemur_catta:0.0244063,(Eulemur_fulvus:0.0068866,Eulemur_flavifrons:0.00724181)1:0.017756)1:0.0184412)1:0.0264308)1:0.006572)1:0.0417511,(((Pithecia_pithecia:0.0214208,Callicebus_donacophilus:0.0249708)1:0.00629947,((((Saguinus_imperator:0.0202271,Callithrix_jacchus:0.0215731)1:0.0102484,Aotus_nancymaae:0.0219195)1:0.000848199,(Saimiri_boliviensis:0.0290607,(Cebus_albifrons:0.00116156,Cebus_capucinus:0.00123031)1:0.0231422)1:0.00338164)1:0.00521416,(Alouatta_palliata:0.0216518,Ateles_geoffroyi:0.0173184)1:0.0087333)1:0.00205742)1:0.0346155,((((((Mandrillus_leucophaeus:0.00533692,Cercocebus_atys:0.00648606)1:0.00102316,Papio_anubis:0.0062452)1:0.00153489,((Macaca_mulatta:0.002437,Macaca_fascicularis:0.00137817)1:0.000850094,Macaca_nemestrina:0.00360292)1:0.0042712)1:0.00406285,((Erythrocebus_patas:0.00502593,Chlorocebus_sabaeus:0.00521092)1:0.00367446,Cercopithecus_neglectus:0.0087225)1:0.00342492)1:0.00497113,(((((Rhinopithecus_roxellana:0.00191151,Rhinopithecus_bieti:0.00205667)1:0.00352917,Pygathrix_nemaeus:0.00563105)1:0.000789786,Nasalis_larvatus:0.00576141)1:0.00103401,Semnopithecus_entellus:0.00717381)1:0.00424428,(Piliocolobus_tephrosceles:0.00947201,Colobus_angolensis:0.00940061)1:0.00265393)1:0.0059408)1:0.0205879,(Nomascus_leucogenys:0.0200067,((Gorilla_gorilla:0.00787409,((Pan_troglodytes:0.00186328,Pan_paniscus:0.00201277)1:0.0041711,Homo_sapiens:0.00596652)1:0.00180399)1:0.00821903,Pongo_abelii:0.0162776)1:0.00269165)1:0.00935966)1:0.01633)1:0.0781501)1:0.0179149,Galeopterus_variegatus:0.118679)1:0.00492359,(Tupaia_tana:0.0226527,Tupaia_chinensis:0.024326)1:0.191341)1:0.00425506,(((Oryctolagus_cuniculus:0.0240056,Lepus_americanus:0.0269948)1:0.0908953,Ochotona_princeps:0.207439)1:0.133198,((Ctenodactylus_gundi:0.223044,((((Petromus_typicus:0.0995181,Thryonomys_swinderianus:0.0925407)1:0.062875,(Heterocephalus_glaber:0.0546792,Fukomys_damarensis:0.0880425)1:0.0177473)1:0.0196576,(((((Dolichotis_patagonum:0.0499996,Hydrochoerus_hydrochaeris:0.0514088)1:0.00488873,((Cavia_tschudii:0.00054425,Cavia_porcellus:0.000567569)1:0.00559602,Cavia_aperea:0.0063012)1:0.059292)1:0.032865,Dasyprocta_punctata:0.0652806)1:0.00482226,Cuniculus_paca:0.0619951)1:0.0271482,(((Octodon_degus:0.0576698,Ctenomys_sociabilis:0.0734714)1:0.0170223,(Myocastor_coypus:0.0682231,Capromys_pilorides:0.0560422)1:0.035835)1:0.0673955,(Chinchilla_lanigera:0.0562139,Dinomys_branickii:0.0754232)1:0.0272904)1:0.0103578)1:0.0235053)1:0.0144821,Hystrix_cristata:0.105634)1:0.0749634)1:0.0412383,((((((((Rattus_norvegicus:0.0874217,(((Mus_musculus:0.00924972,Mus_spretus:0.0101563)1:0.0107604,Mus_caroli:0.020095)1:0.0195744,Mus_pahari:0.0413405)1:0.0408984)1:0.0570242,(Acomys_cahirinus:0.112279,(Meriones_unguiculatus:0.0220597,Psammomys_obesus:0.0205485)1:0.0864389)1:0.0174384)1:0.0211475,((((Mesocricetus_auratus:0.0656922,Cricetulus_griseus:0.0528434)1:0.0405445,((Microtus_ochrogaster:0.0418356,Ondatra_zibethicus:0.042491)1:0.00152182,(Ellobius_talpinus:0.0174039,Ellobius_lutescens:0.0232536)1:0.0157722)1:0.0710828)1:0.00395732,Sigmodon_hispidus:0.120005)1:0.00086594,(Peromyscus_maniculatus:0.0382197,Onychomys_torridus:0.0439474)1:0.0424194)1:0.0305787)1:0.0105444,Cricetomys_gambianus:0.115507)1:0.0914955,Nannospalax_galili:0.165816)1:0.0579529,((Jaculus_jaculus:0.0745115,Allactaga_bullata:0.0621989)1:0.0503164,Zapus_hudsonius:0.119097)1:0.115351)1:0.059747,((Perognathus_longimembris:0.0978638,(Dipodomys_stephensi:0.010742,Dipodomys_ordii:0.0104325)1:0.0738883)1:0.158718,Castor_canadensis:0.146477)1:0.0346142)1:0.0189499,(((Xerus_inauris:0.0646653,(Spermophilus_dauricus:0.0124983,(Ictidomys_tridecemlineatus:0.0151679,Marmota_marmota:0.02328)1:0.000864876)1:0.0662678)1:0.040991,Aplodontia_rufa:0.127182)1:0.0565896,(Muscardinus_avellanarius:0.115865,(Glis_glis:0.053554,Graphiurus_murinus:0.0788132)1:0.00260922)1:0.0806378)1:0.0235284)1:0.00286498)1:0.0368586)1:0.0119995)1:0.0309181,((Solenodon_paradoxus:0.188715,((Erinaceus_europaeus:0.273082,(Crocidura_indochinensis:0.159606,Sorex_araneus:0.15035)1:0.1531)1:0.0331808,(Uropsilus_gracilis:0.14234,(Condylura_cristata:0.11322,Scalopus_aquaticus:0.0720299)1:0.0375338)1:0.0972456)1:0.00618255)1:0.034528,(((((Megaderma_lyra:0.105744,Craseonycteris_thonglongyai:0.108551)1:0.0162116,((Hipposideros_armiger:0.0203138,Hipposideros_galeritus:0.0306626)1:0.0410022,Rhinolophus_sinicus:0.0620693)1:0.025064)1:0.0144121,(Macroglossus_sobrinus:0.0485012,(Eidolon_helvum:0.0368024,((Pteropus_vampyrus:0.00773022,Pteropus_alecto:0.00765902)1:0.023597,Rousettus_aegyptiacus:0.0460818)1:0.00110244)1:0.0015825)1:0.07307)1:0.0129515,((Noctilio_leporinus:0.112432,((Pteronotus_parnellii:0.0762277,Mormoops_blainvillei:0.0756986)1:0.00615123,((((Carollia_perspicillata:0.0463677,Artibeus_jamaicensis:0.0532932)1:0.00829348,Anoura_caudifer:0.0471892)1:0.00556975,(Tonatia_saurophila:0.0556458,Micronycteris_hirsuta:0.06216)1:0.00107207)1:0.00668961,Desmodus_rotundus:0.051037)1:0.032065)1:0.00927408)1:0.0292215,(((((Pipistrellus_pipistrellus:0.0506466,Eptesicus_fuscus:0.0220734)1:0.0041352,Lasiurus_borealis:0.0605436)1:0.0119485,(Murina_feae:0.0504109,((Myotis_myotis:0.0187742,(Myotis_brandtii:0.0104471,Myotis_lucifugus:0.0112979)1:0.00504464)1:0.000528275,Myotis_davidii:0.0226421)1:0.01349)1:0.00882098)1:0.0543687,(Miniopterus_natalensis:0.00586294,Miniopterus_schreibersii:0.00456451)1:0.0778056)1:0.00540425,Tadarida_brasiliensis:0.0823886)1:0.0120421)1:0.0288209)1:0.0309109,(((Vicugna_pacos:0.0161542,(Camelus_dromedarius:0.00213989,(Camelus_ferus:0.000850508,Camelus_bactrianus:0.000871318)1:0.0014944)1:0.010578)1:0.0985471,(((Hippopotamus_amphibius:0.065968,((Eubalaena_japonica:0.00899281,((Balaenoptera_bonaerensis:0.00328319,Balaenoptera_acutorostrata:0.00366598)1:0.00456391,Eschrichtius_robustus:0.00751182)1:0.00404813)1:0.00489926,(Kogia_breviceps:0.0256282,((Platanista_gangetica:0.0220232,(Mesoplodon_bidens:0.00835738,Ziphius_cavirostris:0.00712219)1:0.0109255)1:0.000649044,((Inia_geoffrensis:0.017649,Lipotes_vexillifer:0.0146758)1:0.00136477,(((Neophocaena_asiaeorientalis:0.00275064,Phocoena_phocoena:0.00291638)1:0.00609037,(Delphinapterus_leucas:0.0027973,Monodon_monoceros:0.00271068)1:0.00379645)1:0.00365908,(Tursiops_truncatus:0.00604089,Orcinus_orca:0.00547522)1:0.00540204)1:0.00459986)1:0.00486166)1:0.00136361)1:0.00223711)1:0.0297733)1:0.00895057,(Tragulus_javanicus:0.112051,((((Moschus_moschiferus:0.0355731,((Bubalus_bubalis:0.0139861,(((Bos_taurus:0.00179196,Bos_indicus:0.0010459)1:0.00346266,Bos_mutus:0.00383084)1:0.000793344,Bison_bison:0.00360608)1:0.0114444)1:0.011807,((Beatragus_hunteri:0.019251,((Ammotragus_lervia:0.0112527,(Hemitragus_hylocrius:0.00960627,(Capra_hircus:0.00127421,Capra_aegagrus:0.00132388)1:0.010265)1:0.000580624)1:0.000375989,(Ovis_aries:0.00411911,Ovis_canadensis:0.00377704)1:0.00610953)1:0.00984738)1:0.000588638,(Pantholops_hodgsonii:0.0187902,Saiga_tatarica:0.0351989)1:0.000282699)1:0.0128519)1:0.00596243)1:0.00540578,(Okapia_johnstoni:0.0154247,Giraffa_tippelskirchi:0.0137997)1:0.0179989)1:0.000692532,Antilocapra_americana:0.0458179)1:0.000869571,((Odocoileus_virginianus:0.00941114,Rangifer_tarandus:0.00855783)1:0.0106369,Elaphurus_davidianus:0.0157769)1:0.0196287)1:0.0456221)1:0.03955)1:0.0168069,(Catagonus_wagneri:0.0590217,Sus_scrofa:0.0546012)1:0.0790445)1:0.00922581)1:0.042973,(((((((Cryptoprocta_ferox:0.0288816,((Mungos_mungo:0.0164892,Suricata_suricatta:0.0210133)1:0.00155311,Helogale_parvula:0.0166399)1:0.034537)1:0.0120662,Hyaena_hyaena:0.0546481)1:0.0128108,Paradoxurus_hermaphroditus:0.0688099)1:0.0043172,((Panthera_tigris:0.00374445,(Panthera_pardus:0.00305537,Panthera_onca:0.00283851)1:0.00120797)1:0.00700279,(((Felis_catus:0.0044349,Felis_nigripes:0.00433618)1:0.0056696,Puma_concolor:0.00760549)1:0.000229991,Acinonyx_jubatus:0.0076367)1:0.00390523)1:0.0439043)1:0.0422144,(((Lycaon_pictus:0.00317753,(Canis_lupus:0.000855048,Canis_lupus_familiaris:0.000719825)1:0.00250948)1:0.00745495,Vulpes_lagopus:0.0116066)1:0.0789321,(((((((Pteronura_brasiliensis:0.0148711,Enhydra_lutris:0.0133004)1:0.0050052,Mustela_putorius:0.0276805)1:0.00756741,Mellivora_capensis:0.025145)1:0.036409,Ailurus_fulgens:0.051433)1:0.0047934,Spilogale_gracilis:0.0737598)1:0.0147182,((Zalophus_californianus:0.0119673,Odobenus_rosmarus:0.00992681)1:0.0115403,((Leptonychotes_weddellii:0.00508881,Mirounga_angustirostris:0.00668415)1:0.00105575,Neomonachus_schauinslandi:0.00589716)1:0.0133017)1:0.0234271)1:0.00381819,(Ailuropoda_melanoleuca:0.0177149,Ursus_maritimus:0.0163806)1:0.0403555)1:0.0146122)1:0.0206851)1:0.054329,(Manis_javanica:0.0188823,Manis_pentadactyla:0.0166994)1:0.126338)1:0.010882,(((Equus_caballus:0.00114315,Equus_przewalskii:0.0010401)1:0.00521467,Equus_asinus:0.00584092)1:0.0732343,((Tapirus_indicus:0.0118193,Tapirus_terrestris:0.0122556)1:0.043933,(Dicerorhinus_sumatrensis:0.0162128,(Diceros_bicornis:0.00707959,(Ceratotherium_simum:0.0008334,Ceratotherium_simum_cottoni:0.000651415)1:0.00587245)1:0.00853708)1:0.0379943)1:0.00747818)1:0.0316661)1:0.00536403)1:0.00390038)1:0.00981566)1:0.0298015)1:0.0186332,(((Dasypus_novemcinctus:0.0756033,(Tolypeutes_matacus:0.0368079,Chaetophractus_vellerosus:0.0403063)1:0.0179267)1:0.0477178,((Tamandua_tetradactyla:0.023757,Myrmecophaga_tridactyla:0.0201329)1:0.0931132,(Choloepus_didactylus:0.00497399,Choloepus_hoffmanni:0.0054127)1:0.0758897)1:0.0201781)1:0.0735203,(((Trichechus_manatus:0.057642,(Procavia_capensis:0.00973613,Heterohyrax_brucei:0.00978952)1:0.148229)1:0.00306748,Loxodonta_africana:0.0723374)1:0.0270351,((((Microgale_talazaci:0.110452,Echinops_telfairi:0.0663548)1:0.162896,Chrysochloris_asiatica:0.159471)1:0.0174762,Elephantulus_edwardii:0.249855)1:0.00411745,Orycteropus_afer:0.11751)1:0.0122588)1:0.0661424)1:0.0186332);'"
      ]
     },
     "execution_count": 10,
     "metadata": {},
     "output_type": "execute_result"
    }
   ],
   "source": [
    "cgp = Tree(\"/home/ebelm/genomegraph/data/241_species/241-mammalian-2020v2.phast-242.nh\", format=1)\n",
    "cgp.write()\n",
    "#print(cgp)"
   ]
  },
  {
   "cell_type": "code",
   "execution_count": 11,
   "metadata": {},
   "outputs": [
    {
     "name": "stdout",
     "output_type": "stream",
     "text": [
      "['Homo_sapiens', 'Mus_musculus', 'Felis_catus', 'Canis_lupus_familiaris', 'Bos_taurus', 'Rattus_norvegicus', 'Sus_scrofa', 'Gorilla_gorilla', 'Pongo_abelii', 'Microgale_talazaci', 'Crocidura_indochinensis', 'Ochotona_princeps', 'Myocastor_coypus', 'Perognathus_longimembris', 'Erinaceus_europaeus', 'Elephantulus_edwardii', 'Condylura_cristata', 'Jaculus_jaculus', 'Ctenodactylus_gundi', 'Muscardinus_avellanarius', 'Tupaia_chinensis', 'Tamandua_tetradactyla', 'Artibeus_jamaicensis', 'Solenodon_paradoxus', 'Heterohyrax_brucei', 'Marmota_marmota', 'Petromus_typicus', 'Otolemur_garnettii', 'Nannospalax_galili', 'Chrysochloris_asiatica', 'Craseonycteris_thonglongyai', 'Sigmodon_hispidus', 'Sorex_araneus', 'Castor_canadensis', 'Manis_javanica', 'Lasiurus_borealis', 'Uropsilus_gracilis', 'Cavia_aperea', 'Acomys_cahirinus', 'Aplodontia_rufa', 'Dasypus_novemcinctus', 'Rousettus_aegyptiacus', 'Zapus_hudsonius', 'Ondatra_zibethicus', 'Galeopterus_variegatus', 'Lepus_americanus', 'Orycteropus_afer', 'Cricetomys_gambianus', 'Vicugna_pacos', 'Noctilio_leporinus', 'Tragulus_javanicus', 'Equus_caballus', 'Mustela_putorius', 'Meriones_unguiculatus', 'Mesocricetus_auratus', 'Fukomys_damarensis', 'Megaderma_lyra', 'Hystrix_cristata', 'Dinomys_branickii', 'Hipposideros_galeritus', 'Microcebus_murinus', 'Thryonomys_swinderianus', 'Ctenomys_sociabilis', 'Onychomys_torridus', 'Suricata_suricatta', 'Dipodomys_stephensi', 'Miniopterus_natalensis', 'Tadarida_brasiliensis', 'Pteronotus_parnellii', 'Graphiurus_murinus', 'Choloepus_hoffmanni', 'Mormoops_blainvillei', 'Hippopotamus_amphibius', 'Callithrix_jacchus', 'Spilogale_gracilis', 'Loxodonta_africana', 'Scalopus_aquaticus', 'Paradoxurus_hermaphroditus', 'Echinops_telfairi', 'Dasyprocta_punctata', 'Xerus_inauris', 'Tapirus_terrestris', 'Micronycteris_hirsuta', 'Allactaga_bullata', 'Rhinolophus_sinicus', 'Cuniculus_paca', 'Murina_feae', 'Catagonus_wagneri', 'Chaetophractus_vellerosus', 'Ailuropoda_melanoleuca', 'Octodon_degus', 'Trichechus_manatus', 'Kogia_breviceps', 'Hydrochoerus_hydrochaeris', 'Chinchilla_lanigera', 'Capromys_pilorides', 'Tonatia_saurophila', 'Pipistrellus_pipistrellus', 'Heterocephalus_glaber', 'Hyaena_hyaena', 'Dicerorhinus_sumatrensis', 'Glis_glis', 'Cricetulus_griseus', 'Ailurus_fulgens', 'Desmodus_rotundus', 'Dolichotis_patagonum', 'Daubentonia_madagascariensis', 'Macroglossus_sobrinus', 'Saiga_tatarica', 'Anoura_caudifer', 'Zalophus_californianus', 'Carollia_perspicillata', 'Antilocapra_americana', 'Nycticebus_coucang', 'Eulemur_flavifrons', 'Indri_indri', 'Microtus_ochrogaster', 'Mus_pahari', 'Odocoileus_virginianus', 'Ellobius_lutescens']\n"
     ]
    }
   ],
   "source": [
    "with open(\"/home/ebelm/genomegraph/data/241_species/subset120_withEnforced.names\", \"r\") as f:\n",
    "    names = f.read().splitlines()\n",
    "\n",
    "print(names)\n",
    "cgp.prune(names)"
   ]
  },
  {
   "cell_type": "code",
   "execution_count": 12,
   "metadata": {},
   "outputs": [
    {
     "name": "stdout",
     "output_type": "stream",
     "text": [
      "\n",
      "                        /-Nycticebus_coucang\n",
      "                     /-|\n",
      "                    |   \\-Otolemur_garnettii\n",
      "                  /-|\n",
      "                 |  |   /-Daubentonia_madagascariensis\n",
      "                 |  |  |\n",
      "                 |   \\-|      /-Indri_indri\n",
      "                 |     |   /-|\n",
      "               /-|      \\-|   \\-Microcebus_murinus\n",
      "              |  |        |\n",
      "              |  |         \\-Eulemur_flavifrons\n",
      "              |  |\n",
      "              |  |   /-Callithrix_jacchus\n",
      "              |  |  |\n",
      "            /-|   \\-|      /-Gorilla_gorilla\n",
      "           |  |     |   /-|\n",
      "           |  |      \\-|   \\-Homo_sapiens\n",
      "           |  |        |\n",
      "         /-|  |         \\-Pongo_abelii\n",
      "        |  |  |\n",
      "        |  |   \\-Galeopterus_variegatus\n",
      "        |  |\n",
      "        |   \\-Tupaia_chinensis\n",
      "        |\n",
      "        |      /-Ochotona_princeps\n",
      "        |   /-|\n",
      "        |  |   \\-Lepus_americanus\n",
      "        |  |\n",
      "        |  |      /-Ctenodactylus_gundi\n",
      "        |  |     |\n",
      "        |  |     |            /-Petromus_typicus\n",
      "        |  |     |         /-|\n",
      "      /-|  |     |        |   \\-Thryonomys_swinderianus\n",
      "     |  |  |     |      /-|\n",
      "     |  |  |     |     |  |   /-Heterocephalus_glaber\n",
      "     |  |  |     |     |   \\-|\n",
      "     |  |  |     |     |      \\-Fukomys_damarensis\n",
      "     |  |  |     |     |\n",
      "     |  |  |     |     |               /-Dolichotis_patagonum\n",
      "     |  |  |   /-|     |            /-|\n",
      "     |  |  |  |  |     |         /-|   \\-Hydrochoerus_hydrochaeris\n",
      "     |  |  |  |  |   /-|        |  |\n",
      "     |  |  |  |  |  |  |      /-|   \\-Cavia_aperea\n",
      "     |  |  |  |  |  |  |     |  |\n",
      "     |  |  |  |  |  |  |   /-|   \\-Dasyprocta_punctata\n",
      "     |  |  |  |  |  |  |  |  |\n",
      "     |  |  |  |  |  |  |  |   \\-Cuniculus_paca\n",
      "     |   \\-|  |  |  |  |  |\n",
      "     |     |  |  |  |  |  |         /-Octodon_degus\n",
      "     |     |  |  |  |   \\-|      /-|\n",
      "     |     |  |   \\-|     |     |   \\-Ctenomys_sociabilis\n",
      "     |     |  |     |     |   /-|\n",
      "     |     |  |     |     |  |  |   /-Myocastor_coypus\n",
      "     |     |  |     |     |  |   \\-|\n",
      "     |     |  |     |      \\-|      \\-Capromys_pilorides\n",
      "     |     |  |     |        |\n",
      "     |     |  |     |        |   /-Chinchilla_lanigera\n",
      "     |     |  |     |         \\-|\n",
      "     |     |  |     |            \\-Dinomys_branickii\n",
      "     |     |  |     |\n",
      "     |     |  |      \\-Hystrix_cristata\n",
      "     |     |  |\n",
      "     |     |  |                        /-Rattus_norvegicus\n",
      "     |     |  |                     /-|\n",
      "     |     |  |                    |  |   /-Mus_pahari\n",
      "     |     |  |                    |   \\-|\n",
      "     |     |  |                  /-|      \\-Mus_musculus\n",
      "     |     |  |                 |  |\n",
      "     |     |  |                 |  |   /-Acomys_cahirinus\n",
      "     |      \\-|                 |   \\-|\n",
      "     |        |                 |      \\-Meriones_unguiculatus\n",
      "     |        |                 |\n",
      "     |        |                 |            /-Mesocricetus_auratus\n",
      "     |        |               /-|         /-|\n",
      "     |        |              |  |        |   \\-Cricetulus_griseus\n",
      "     |        |              |  |      /-|\n",
      "     |        |              |  |     |  |      /-Microtus_ochrogaster\n",
      "     |        |              |  |     |  |   /-|\n",
      "     |        |              |  |   /-|   \\-|   \\-Ondatra_zibethicus\n",
      "     |        |            /-|  |  |  |     |\n",
      "     |        |           |  |  |  |  |      \\-Ellobius_lutescens\n",
      "     |        |           |  |   \\-|  |\n",
      "     |        |           |  |     |   \\-Sigmodon_hispidus\n",
      "     |        |         /-|  |     |\n",
      "     |        |        |  |  |      \\-Onychomys_torridus\n",
      "     |        |        |  |  |\n",
      "     |        |        |  |   \\-Cricetomys_gambianus\n",
      "   /-|        |      /-|  |\n",
      "  |  |        |     |  |   \\-Nannospalax_galili\n",
      "  |  |        |     |  |\n",
      "  |  |        |     |  |      /-Jaculus_jaculus\n",
      "  |  |        |     |  |   /-|\n",
      "  |  |        |   /-|   \\-|   \\-Allactaga_bullata\n",
      "  |  |        |  |  |     |\n",
      "  |  |        |  |  |      \\-Zapus_hudsonius\n",
      "  |  |        |  |  |\n",
      "  |  |        |  |  |      /-Perognathus_longimembris\n",
      "  |  |        |  |  |   /-|\n",
      "  |  |        |  |   \\-|   \\-Dipodomys_stephensi\n",
      "  |  |         \\-|     |\n",
      "  |  |           |      \\-Castor_canadensis\n",
      "  |  |           |\n",
      "  |  |           |         /-Xerus_inauris\n",
      "  |  |           |      /-|\n",
      "  |  |           |   /-|   \\-Marmota_marmota\n",
      "  |  |           |  |  |\n",
      "  |  |            \\-|   \\-Aplodontia_rufa\n",
      "  |  |              |\n",
      "  |  |              |   /-Muscardinus_avellanarius\n",
      "  |  |               \\-|\n",
      "  |  |                 |   /-Glis_glis\n",
      "  |  |                  \\-|\n",
      "  |  |                     \\-Graphiurus_murinus\n",
      "  |  |\n",
      "  |  |      /-Solenodon_paradoxus\n",
      "  |  |     |\n",
      "  |  |     |      /-Erinaceus_europaeus\n",
      "  |  |   /-|   /-|\n",
      "  |  |  |  |  |  |   /-Crocidura_indochinensis\n",
      "  |  |  |  |  |   \\-|\n",
      "  |  |  |   \\-|      \\-Sorex_araneus\n",
      "  |  |  |     |\n",
      "  |  |  |     |   /-Uropsilus_gracilis\n",
      "  |  |  |      \\-|\n",
      "  |  |  |        |   /-Condylura_cristata\n",
      "  |  |  |         \\-|\n",
      "  |  |  |            \\-Scalopus_aquaticus\n",
      "  |  |  |\n",
      "  |  |  |               /-Megaderma_lyra\n",
      "  |  |  |            /-|\n",
      "  |  |  |           |   \\-Craseonycteris_thonglongyai\n",
      "  |  |  |         /-|\n",
      "  |  |  |        |  |   /-Rhinolophus_sinicus\n",
      "  |  |  |        |   \\-|\n",
      "  |  |  |      /-|      \\-Hipposideros_galeritus\n",
      "  |  |  |     |  |\n",
      "  |  |  |     |  |   /-Macroglossus_sobrinus\n",
      "  |  |  |     |   \\-|\n",
      "  |  |  |     |      \\-Rousettus_aegyptiacus\n",
      "  |  |  |     |\n",
      "  |  |  |     |      /-Noctilio_leporinus\n",
      "  |  |  |     |     |\n",
      "  |  |  |     |     |      /-Pteronotus_parnellii\n",
      "  |   \\-|     |     |   /-|\n",
      "  |     |   /-|   /-|  |   \\-Mormoops_blainvillei\n",
      "  |     |  |  |  |  |  |\n",
      "  |     |  |  |  |  |  |            /-Carollia_perspicillata\n",
      "  |     |  |  |  |  |  |         /-|\n",
      "  |     |  |  |  |   \\-|      /-|   \\-Artibeus_jamaicensis\n",
      "  |     |  |  |  |     |     |  |\n",
      "  |     |  |  |  |     |   /-|   \\-Anoura_caudifer\n",
      "  |     |  |  |  |     |  |  |\n",
      "  |     |  |  |  |     |  |  |   /-Tonatia_saurophila\n",
      "  |     |  |  |  |      \\-|   \\-|\n",
      "  |     |  |   \\-|        |      \\-Micronycteris_hirsuta\n",
      "  |     |  |     |        |\n",
      "--|     |  |     |         \\-Desmodus_rotundus\n",
      "  |     |  |     |\n",
      "  |     |  |     |            /-Lasiurus_borealis\n",
      "  |     |  |     |         /-|\n",
      "  |     |  |     |      /-|   \\-Pipistrellus_pipistrellus\n",
      "  |     |  |     |     |  |\n",
      "  |     |  |     |   /-|   \\-Murina_feae\n",
      "  |     |  |     |  |  |\n",
      "  |     |  |      \\-|   \\-Miniopterus_natalensis\n",
      "  |     |  |        |\n",
      "  |     |  |         \\-Tadarida_brasiliensis\n",
      "  |     |  |\n",
      "  |     |  |               /-Hippopotamus_amphibius\n",
      "  |      \\-|            /-|\n",
      "  |        |           |   \\-Kogia_breviceps\n",
      "  |        |         /-|\n",
      "  |        |        |  |   /-Tragulus_javanicus\n",
      "  |        |        |  |  |\n",
      "  |        |        |   \\-|      /-Antilocapra_americana\n",
      "  |        |        |     |   /-|\n",
      "  |        |        |     |  |  |   /-Bos_taurus\n",
      "  |        |      /-|      \\-|   \\-|\n",
      "  |        |     |  |        |      \\-Saiga_tatarica\n",
      "  |        |     |  |        |\n",
      "  |        |     |  |         \\-Odocoileus_virginianus\n",
      "  |        |   /-|  |\n",
      "  |        |  |  |  |   /-Catagonus_wagneri\n",
      "  |        |  |  |   \\-|\n",
      "  |        |  |  |      \\-Sus_scrofa\n",
      "  |        |  |  |\n",
      "  |        |  |   \\-Vicugna_pacos\n",
      "  |        |  |\n",
      "  |        |  |                  /-Hyaena_hyaena\n",
      "  |        |  |               /-|\n",
      "  |        |  |            /-|   \\-Suricata_suricatta\n",
      "  |        |  |           |  |\n",
      "  |        |  |         /-|   \\-Paradoxurus_hermaphroditus\n",
      "  |        |  |        |  |\n",
      "  |         \\-|        |   \\-Felis_catus\n",
      "  |           |        |\n",
      "  |           |        |               /-Ailurus_fulgens\n",
      "  |           |        |            /-|\n",
      "  |           |      /-|         /-|   \\-Mustela_putorius\n",
      "  |           |     |  |        |  |\n",
      "  |           |     |  |      /-|   \\-Spilogale_gracilis\n",
      "  |           |     |  |     |  |\n",
      "  |           |     |  |   /-|   \\-Zalophus_californianus\n",
      "  |           |   /-|  |  |  |\n",
      "  |           |  |  |   \\-|   \\-Ailuropoda_melanoleuca\n",
      "  |           |  |  |     |\n",
      "  |           |  |  |      \\-Canis_lupus_familiaris\n",
      "  |            \\-|  |\n",
      "  |              |   \\-Manis_javanica\n",
      "  |              |\n",
      "  |              |      /-Tapirus_terrestris\n",
      "  |              |   /-|\n",
      "  |               \\-|   \\-Dicerorhinus_sumatrensis\n",
      "  |                 |\n",
      "  |                  \\-Equus_caballus\n",
      "  |\n",
      "  |         /-Dasypus_novemcinctus\n",
      "  |      /-|\n",
      "  |     |   \\-Chaetophractus_vellerosus\n",
      "  |   /-|\n",
      "  |  |  |   /-Tamandua_tetradactyla\n",
      "  |  |   \\-|\n",
      "  |  |      \\-Choloepus_hoffmanni\n",
      "  |  |\n",
      "  |  |         /-Trichechus_manatus\n",
      "   \\-|      /-|\n",
      "     |   /-|   \\-Heterohyrax_brucei\n",
      "     |  |  |\n",
      "     |  |   \\-Loxodonta_africana\n",
      "     |  |\n",
      "     |  |            /-Microgale_talazaci\n",
      "      \\-|         /-|\n",
      "        |      /-|   \\-Echinops_telfairi\n",
      "        |     |  |\n",
      "        |   /-|   \\-Chrysochloris_asiatica\n",
      "        |  |  |\n",
      "         \\-|   \\-Elephantulus_edwardii\n",
      "           |\n",
      "            \\-Orycteropus_afer\n"
     ]
    }
   ],
   "source": [
    "print(cgp)"
   ]
  },
  {
   "cell_type": "code",
   "execution_count": 13,
   "metadata": {},
   "outputs": [
    {
     "data": {
      "text/plain": [
       "'((((((((Nycticebus_coucang:0.0444738,Otolemur_garnettii:0.0477624)1:0.0911439,(Daubentonia_madagascariensis:0.0490055,((Indri_indri:0.0246489,Microcebus_murinus:0.0231249)1:0.00270909,Eulemur_flavifrons:0.00724181)1:0.0264308)1:0.006572)1:0.0417511,(Callithrix_jacchus:0.0215731,((Gorilla_gorilla:0.00787409,Homo_sapiens:0.00596652)1:0.00821903,Pongo_abelii:0.0162776)1:0.00269165)1:0.0781501)1:0.0179149,Galeopterus_variegatus:0.118679)1:0.00492359,Tupaia_chinensis:0.024326)1:0.00425506,((Ochotona_princeps:0.207439,Lepus_americanus:0.0269948)1:0.133198,((Ctenodactylus_gundi:0.223044,((((Petromus_typicus:0.0995181,Thryonomys_swinderianus:0.0925407)1:0.062875,(Heterocephalus_glaber:0.0546792,Fukomys_damarensis:0.0880425)1:0.0177473)1:0.0196576,(((((Dolichotis_patagonum:0.0499996,Hydrochoerus_hydrochaeris:0.0514088)1:0.00488873,Cavia_aperea:0.0063012)1:0.032865,Dasyprocta_punctata:0.0652806)1:0.00482226,Cuniculus_paca:0.0619951)1:0.0271482,(((Octodon_degus:0.0576698,Ctenomys_sociabilis:0.0734714)1:0.0170223,(Myocastor_coypus:0.0682231,Capromys_pilorides:0.0560422)1:0.035835)1:0.0673955,(Chinchilla_lanigera:0.0562139,Dinomys_branickii:0.0754232)1:0.0272904)1:0.0103578)1:0.0235053)1:0.0144821,Hystrix_cristata:0.105634)1:0.0749634)1:0.0412383,((((((((Rattus_norvegicus:0.0874217,(Mus_pahari:0.0413405,Mus_musculus:0.00924972)1:0.0408984)1:0.0570242,(Acomys_cahirinus:0.112279,Meriones_unguiculatus:0.0220597)1:0.0174384)1:0.0211475,((((Mesocricetus_auratus:0.0656922,Cricetulus_griseus:0.0528434)1:0.0405445,((Microtus_ochrogaster:0.0418356,Ondatra_zibethicus:0.042491)1:0.00152182,Ellobius_lutescens:0.0232536)1:0.0710828)1:0.00395732,Sigmodon_hispidus:0.120005)1:0.00086594,Onychomys_torridus:0.0439474)1:0.0305787)1:0.0105444,Cricetomys_gambianus:0.115507)1:0.0914955,Nannospalax_galili:0.165816)1:0.0579529,((Jaculus_jaculus:0.0745115,Allactaga_bullata:0.0621989)1:0.0503164,Zapus_hudsonius:0.119097)1:0.115351)1:0.059747,((Perognathus_longimembris:0.0978638,Dipodomys_stephensi:0.010742)1:0.158718,Castor_canadensis:0.146477)1:0.0346142)1:0.0189499,(((Xerus_inauris:0.0646653,Marmota_marmota:0.02328)1:0.040991,Aplodontia_rufa:0.127182)1:0.0565896,(Muscardinus_avellanarius:0.115865,(Glis_glis:0.053554,Graphiurus_murinus:0.0788132)1:0.00260922)1:0.0806378)1:0.0235284)1:0.00286498)1:0.0368586)1:0.0119995)1:0.0309181,((Solenodon_paradoxus:0.188715,((Erinaceus_europaeus:0.273082,(Crocidura_indochinensis:0.159606,Sorex_araneus:0.15035)1:0.1531)1:0.0331808,(Uropsilus_gracilis:0.14234,(Condylura_cristata:0.11322,Scalopus_aquaticus:0.0720299)1:0.0375338)1:0.0972456)1:0.00618255)1:0.034528,(((((Megaderma_lyra:0.105744,Craseonycteris_thonglongyai:0.108551)1:0.0162116,(Rhinolophus_sinicus:0.0620693,Hipposideros_galeritus:0.0306626)1:0.025064)1:0.0144121,(Macroglossus_sobrinus:0.0485012,Rousettus_aegyptiacus:0.0460818)1:0.07307)1:0.0129515,((Noctilio_leporinus:0.112432,((Pteronotus_parnellii:0.0762277,Mormoops_blainvillei:0.0756986)1:0.00615123,((((Carollia_perspicillata:0.0463677,Artibeus_jamaicensis:0.0532932)1:0.00829348,Anoura_caudifer:0.0471892)1:0.00556975,(Tonatia_saurophila:0.0556458,Micronycteris_hirsuta:0.06216)1:0.00107207)1:0.00668961,Desmodus_rotundus:0.051037)1:0.032065)1:0.00927408)1:0.0292215,((((Lasiurus_borealis:0.0605436,Pipistrellus_pipistrellus:0.0506466)1:0.0119485,Murina_feae:0.0504109)1:0.0543687,Miniopterus_natalensis:0.00586294)1:0.00540425,Tadarida_brasiliensis:0.0823886)1:0.0120421)1:0.0288209)1:0.0309109,(((((Hippopotamus_amphibius:0.065968,Kogia_breviceps:0.0256282)1:0.00895057,(Tragulus_javanicus:0.112051,((Antilocapra_americana:0.0458179,(Bos_taurus:0.00179196,Saiga_tatarica:0.0351989)1:0.00596243)1:0.000869571,Odocoileus_virginianus:0.00941114)1:0.0456221)1:0.03955)1:0.0168069,(Catagonus_wagneri:0.0590217,Sus_scrofa:0.0546012)1:0.0790445)1:0.00922581,Vicugna_pacos:0.0161542)1:0.042973,((((((Hyaena_hyaena:0.0546481,Suricata_suricatta:0.0210133)1:0.0128108,Paradoxurus_hermaphroditus:0.0688099)1:0.0043172,Felis_catus:0.0044349)1:0.0422144,(((((Ailurus_fulgens:0.051433,Mustela_putorius:0.0276805)1:0.0047934,Spilogale_gracilis:0.0737598)1:0.0147182,Zalophus_californianus:0.0119673)1:0.00381819,Ailuropoda_melanoleuca:0.0177149)1:0.0146122,Canis_lupus_familiaris:0.000719825)1:0.0206851)1:0.054329,Manis_javanica:0.0188823)1:0.010882,((Tapirus_terrestris:0.0122556,Dicerorhinus_sumatrensis:0.0162128)1:0.00747818,Equus_caballus:0.00114315)1:0.0316661)1:0.00536403)1:0.00390038)1:0.00981566)1:0.0298015)1:0.0186332,(((Dasypus_novemcinctus:0.0756033,Chaetophractus_vellerosus:0.0403063)1:0.0477178,(Tamandua_tetradactyla:0.023757,Choloepus_hoffmanni:0.0054127)1:0.0201781)1:0.0735203,(((Trichechus_manatus:0.057642,Heterohyrax_brucei:0.00978952)1:0.00306748,Loxodonta_africana:0.0723374)1:0.0270351,((((Microgale_talazaci:0.110452,Echinops_telfairi:0.0663548)1:0.162896,Chrysochloris_asiatica:0.159471)1:0.0174762,Elephantulus_edwardii:0.249855)1:0.00411745,Orycteropus_afer:0.11751)1:0.0122588)1:0.0661424)1:0.0186332);'"
      ]
     },
     "execution_count": 13,
     "metadata": {},
     "output_type": "execute_result"
    }
   ],
   "source": [
    "cgp.write()"
   ]
  }
 ],
 "metadata": {
  "kernelspec": {
   "display_name": "Python 3",
   "language": "python",
   "name": "python3"
  },
  "language_info": {
   "codemirror_mode": {
    "name": "ipython",
    "version": 3
   },
   "file_extension": ".py",
   "mimetype": "text/x-python",
   "name": "python",
   "nbconvert_exporter": "python",
   "pygments_lexer": "ipython3",
   "version": "3.10.6"
  },
  "orig_nbformat": 4
 },
 "nbformat": 4,
 "nbformat_minor": 2
}
