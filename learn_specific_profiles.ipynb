{
 "cells": [
  {
   "cell_type": "markdown",
   "metadata": {
    "slideshow": {
     "slide_type": "slide"
    }
   },
   "source": [
    "## <div style=\"text-align: right\"> Mario Stanke, March 3rd, 2021 </div>\n",
    "\n",
    "# Learning to Find Homologous Genome Regions\n",
    "\n",
    "## 1. Task\n",
    "### Input\n",
    "   - A set $G$ of genome regions from $s$ genomes.  \n",
    "   Each region $\\alpha \\in \\{A,C,G,T\\}^{\\ell}$ is of limited length, say $\\ell \\le 10^4$, e.g. from tiling longer chromosomes.\n",
    "   - Repeat locations\n",
    "\n",
    "### Output\n",
    "   1. **Homology clusters** $\\{S\\in G :  \\varphi(S) = j\\}$ for nonempty slots $j\\in \\{0,\\ldots, m-1\\}$\n"
   ]
  },
  {
   "cell_type": "markdown",
   "metadata": {
    "slideshow": {
     "slide_type": "slide"
    }
   },
   "source": [
    "### Use Cases\n",
    "   - Initial step in non-progressive multiple genome aligmnment\n",
    "   - Sequence clustering\n",
    "\n",
    "### Data Distribution\n",
    "   - number of species $s\\approx 100$, total genome length $n\\approx 10^9$\n",
    "   - one-to-one-to-one homology dominates\n",
    "      - The number of sequence clusters wrt homology is in the order of the number of regions per genome,  \n",
    "        too big for $k$-means clustering.\n",
    "      - The average size of a cluster is in the order of $s$.\n",
    "            \n",
    "### Challenge\n",
    "   - no pairwise comparison of sequences (too slow)\n",
    "   - should preferrably scale linear in number of genomes $s$"
   ]
  },
  {
   "cell_type": "code",
   "execution_count": 1,
   "metadata": {
    "slideshow": {
     "slide_type": "subslide"
    }
   },
   "outputs": [],
   "source": [
    "import itertools\n",
    "import numpy as np\n",
    "import sys\n",
    "from functools import cmp_to_key\n",
    "import tensorflow as tf\n",
    "\n",
    "dna_alphabet = \"ACGT\"\n",
    "complements = \"TGCA\"\n",
    "rctbl = str.maketrans(dna_alphabet, complements)\n",
    "dna_alphabet_size = len(dna_alphabet)"
   ]
  },
  {
   "cell_type": "markdown",
   "metadata": {
    "slideshow": {
     "slide_type": "fragment"
    }
   },
   "source": [
    "## 3. $k$-mers\n",
    "### Protein Sequences\n",
    "Define alphabets and six_frame_translation."
   ]
  },
  {
   "cell_type": "code",
   "execution_count": 2,
   "metadata": {
    "slideshow": {
     "slide_type": "subslide"
    }
   },
   "outputs": [
    {
     "name": "stdout",
     "output_type": "stream",
     "text": [
      "['K', 'N', 'R', 'C', 'Q', 'M', 'P', 'Y', 'T', '*', 'G', 'I', 'L', 'D', 'H', 'V', 'S', 'A', 'F', 'W', 'E']\n"
     ]
    }
   ],
   "source": [
    "codon_len = 3\n",
    "codon_alphabet_size = dna_alphabet_size ** codon_len # 64\n",
    "genetic_code = { # translation table 1 of NCBI\n",
    "    'ATA':'I', 'ATC':'I', 'ATT':'I', 'ATG':'M', \n",
    "    'ACA':'T', 'ACC':'T', 'ACG':'T', 'ACT':'T', \n",
    "    'AAC':'N', 'AAT':'N', 'AAA':'K', 'AAG':'K', \n",
    "    'AGC':'S', 'AGT':'S', 'AGA':'R', 'AGG':'R',\n",
    "    'CTA':'L', 'CTC':'L', 'CTG':'L', 'CTT':'L', \n",
    "    'CCA':'P', 'CCC':'P', 'CCG':'P', 'CCT':'P', \n",
    "    'CAC':'H', 'CAT':'H', 'CAA':'Q', 'CAG':'Q', \n",
    "    'CGA':'R', 'CGC':'R', 'CGG':'R', 'CGT':'R', \n",
    "    'GTA':'V', 'GTC':'V', 'GTG':'V', 'GTT':'V', \n",
    "    'GCA':'A', 'GCC':'A', 'GCG':'A', 'GCT':'A', \n",
    "    'GAC':'D', 'GAT':'D', 'GAA':'E', 'GAG':'E', \n",
    "    'GGA':'G', 'GGC':'G', 'GGG':'G', 'GGT':'G', \n",
    "    'TCA':'S', 'TCC':'S', 'TCG':'S', 'TCT':'S', \n",
    "    'TTC':'F', 'TTT':'F', 'TTA':'L', 'TTG':'L', \n",
    "    'TAC':'Y', 'TAT':'Y', 'TAA':'*', 'TAG':'*', \n",
    "    'TGC':'C', 'TGT':'C', 'TGA':'*', 'TGG':'W', \n",
    "}\n",
    "\n",
    "aa_alphabet = list(set(genetic_code.values()))\n",
    "print(aa_alphabet)\n",
    "\n",
    "def six_frame_translation(S):\n",
    "    \"\"\" return all 6 conceptually translated protein sequences \"\"\"\n",
    "    T = []\n",
    "    for seq in (S, S[::-1].translate(rctbl)): # forward, reverse-complement sequence\n",
    "        for f in range(3): # frame\n",
    "            prot = \"\"\n",
    "            for i in range(f, len(S) - codon_len + 1, codon_len):\n",
    "                prot += genetic_code[seq[i:i+codon_len]]\n",
    "            T.append(prot)\n",
    "    return T\n"
   ]
  },
  {
   "cell_type": "code",
   "execution_count": 3,
   "metadata": {
    "slideshow": {
     "slide_type": "subslide"
    }
   },
   "outputs": [
    {
     "data": {
      "text/plain": [
       "['MT', '*H', 'D', 'MS', 'CH', 'V']"
      ]
     },
     "execution_count": 3,
     "metadata": {},
     "output_type": "execute_result"
    }
   ],
   "source": [
    "six_frame_translation(\"ATGACAT\")"
   ]
  },
  {
   "cell_type": "code",
   "execution_count": 4,
   "metadata": {
    "slideshow": {
     "slide_type": "subslide"
    }
   },
   "outputs": [],
   "source": [
    "nuc_idx = dict((c,i) for i,c in enumerate(dna_alphabet))\n",
    "aa_idx = dict((c,i) for i,c in enumerate(aa_alphabet))\n",
    "\n",
    "def to_idx(seq, idx): # used later to one-hot encode\n",
    "    return np.array(list(idx[c] for c in seq))"
   ]
  },
  {
   "cell_type": "code",
   "execution_count": 5,
   "metadata": {
    "slideshow": {
     "slide_type": "subslide"
    }
   },
   "outputs": [
    {
     "data": {
      "text/plain": [
       "array([0, 0, 1, 3, 2])"
      ]
     },
     "execution_count": 5,
     "metadata": {},
     "output_type": "execute_result"
    }
   ],
   "source": [
    "# example conversion of character to index sequence\n",
    "to_idx(\"AACTG\", nuc_idx)"
   ]
  },
  {
   "cell_type": "code",
   "execution_count": null,
   "metadata": {},
   "outputs": [],
   "source": []
  },
  {
   "cell_type": "markdown",
   "metadata": {
    "slideshow": {
     "slide_type": "fragment"
    }
   },
   "source": [
    "### 3.1 Compute $k$-mer Counts for Several Values of $k$ (DNA and 6-Frame-Translation)"
   ]
  },
  {
   "cell_type": "code",
   "execution_count": 6,
   "metadata": {
    "slideshow": {
     "slide_type": "fragment"
    }
   },
   "outputs": [],
   "source": [
    "nuc_ks = [5, 7] # values of k considered for DNA\n",
    "aa_ks =  [3] # values of k considered for proteins\n",
    "\n",
    "def kmer_indices(ks, alphabet):\n",
    "    C = {}\n",
    "    for k in ks:\n",
    "        tuples = itertools.product(*[alphabet for i in range(k)])\n",
    "        tuples = [''.join(c) for c in tuples]\n",
    "        C[k] = {c:i for (i,c) in enumerate(tuples)}\n",
    "    return C \n",
    "\n",
    "Cnuc  = kmer_indices(nuc_ks, dna_alphabet)\n",
    "Cprot = kmer_indices(aa_ks, aa_alphabet)"
   ]
  },
  {
   "cell_type": "code",
   "execution_count": 7,
   "metadata": {
    "slideshow": {
     "slide_type": "fragment"
    }
   },
   "outputs": [
    {
     "name": "stdout",
     "output_type": "stream",
     "text": [
      "Indices of nucleotide and amino acid tuples\n",
      "[('AAAAA', 0), ('AAAAC', 1), ('AAAAG', 2), ('AAAAT', 3), ('AAACA', 4), ('AAACC', 5), ('AAACG', 6), ('AAACT', 7)]\n",
      "[('AAAAAAA', 0), ('AAAAAAC', 1), ('AAAAAAG', 2), ('AAAAAAT', 3), ('AAAAACA', 4), ('AAAAACC', 5), ('AAAAACG', 6), ('AAAAACT', 7)]\n",
      "[('KKK', 0), ('KKN', 1), ('KKR', 2), ('KKC', 3), ('KKQ', 4), ('KKM', 5), ('KKP', 6), ('KKY', 7)]\n"
     ]
    }
   ],
   "source": [
    "print (\"Indices of nucleotide and amino acid tuples\")\n",
    "for (ks, C) in ((nuc_ks, Cnuc), (aa_ks, Cprot)):\n",
    "    for k in ks:\n",
    "        print (list(C[k].items())[0:8])"
   ]
  },
  {
   "cell_type": "code",
   "execution_count": 8,
   "metadata": {
    "slideshow": {
     "slide_type": "fragment"
    }
   },
   "outputs": [],
   "source": [
    "def kmer_counts(S, C, alphabet, k, tile_size = 1):\n",
    "    counts = np.zeros(len(alphabet)**k)\n",
    "    for seq in S:\n",
    "        for i in range(0, len(seq) - k, tile_size):\n",
    "           idx = C[k][seq[i:i+k]]\n",
    "           counts[idx] += 1\n",
    "    return counts"
   ]
  },
  {
   "cell_type": "code",
   "execution_count": 9,
   "metadata": {},
   "outputs": [],
   "source": [
    "# define two similar example strings to test their comparison\n",
    "α = \"AAATGTGTCTACTGTGTCTGTGAGTGATAAAATATTTTAGGATGAGAGGCGCCGATCGCAGCGACAGCGCATCA\"\n",
    "# delete 2 chars from α, repace 2 chars, add 4 chars \n",
    "β = \"AAATGAAATGTCTACTGTGTCTGTGAGTGATAAAATATTTTAGGATGAGAGGCGCCGATCGCAGCGACAGCGCATCA\""
   ]
  },
  {
   "cell_type": "markdown",
   "metadata": {},
   "source": [
    "### Obtain Feature Vector for Sequence"
   ]
  },
  {
   "cell_type": "code",
   "execution_count": 10,
   "metadata": {},
   "outputs": [],
   "source": [
    "def kmer_features(S):\n",
    "    \"\"\" Obtain all counts of all k-mers (DNA, AA) concatenated.\"\"\"\n",
    "    T = six_frame_translation(S)\n",
    "    featurelist = []\n",
    "    for (ks, C, alphabet) in ((nuc_ks, Cnuc, dna_alphabet),\n",
    "                              (aa_ks, Cprot, aa_alphabet)):\n",
    "        for k in ks:\n",
    "            featurelist.append(kmer_counts([S], C, alphabet, k))\n",
    "    return np.concatenate(featurelist)"
   ]
  },
  {
   "cell_type": "code",
   "execution_count": 11,
   "metadata": {},
   "outputs": [
    {
     "data": {
      "text/plain": [
       "array([0., 0., 0., ..., 0., 0., 0.])"
      ]
     },
     "execution_count": 11,
     "metadata": {},
     "output_type": "execute_result"
    }
   ],
   "source": [
    "x_alpha = kmer_features(α)\n",
    "x_beta = kmer_features(β)\n",
    "x_alpha"
   ]
  },
  {
   "cell_type": "code",
   "execution_count": 12,
   "metadata": {},
   "outputs": [
    {
     "name": "stdout",
     "output_type": "stream",
     "text": [
      "number of k-mer features:  26669 , thereof non-zero:  169\n"
     ]
    }
   ],
   "source": [
    "p = x_alpha.shape[0]\n",
    "print (\"number of k-mer features: \", p, # can be expected to be large\n",
    "       \", thereof non-zero: \", np.sum(x_alpha > 0))"
   ]
  },
  {
   "cell_type": "markdown",
   "metadata": {},
   "source": [
    "#### Make features specific to input regions $G$\n",
    "Long $k$-mers avoid noise. But there are too many. \n",
    "**Solution: 2 passes**\n",
    "   1. First determine set of all $k$-mers (multiple $k$'s). [Jellyfish](https://github.com/gmarcais/Jellyfish)\n",
    "   2. Fix feature set, e.g. a (random but) fixed subset of all occuring $k$-mers.\n",
    "   3. Loop over $G$ again to compute features."
   ]
  },
  {
   "cell_type": "markdown",
   "metadata": {},
   "source": [
    "## 4. Feature Ideas\n",
    "### 4.1 Profiles\n",
    " 1. Can detect approximate patterns, rather than exact $k$-mers\n",
    " 2. Have trainable parameters\n",
    "\n",
    "Let $$p = (p_{u,v,w}) \\in [0,1]^{U \\times 4 \\times k}$$\n",
    "be a collection of $U$ DNA **profiles**, each of length $k$.\n",
    "Let $$E = (e_{v,t}) \\in \\{0,1\\}^{4 \\times \\ell}$$ be a **one-hot encoded input DNA sequence**.\n",
    "Define learnable **profile features** $x = (x_{u}) \\in \\mathbb{R}^U$ by\n",
    "$$ x_u = \\max_{t=1}^{\\ell-k+1} \\sum_{w=1}^k \\sum_{v=1}^4 e_{v,t+w} \\ln p_{u,v,w} ,$$\n",
    "\n",
    "which is similar -- and an alternative to -- a **one dimensional convolutional neural network (1-dim CNN)** with a max pooling."
   ]
  },
  {
   "cell_type": "code",
   "execution_count": null,
   "metadata": {},
   "outputs": [],
   "source": []
  },
  {
   "cell_type": "markdown",
   "metadata": {},
   "source": [
    "### 4.2 Estimated Ancestral Patterns\n",
    "The same features cannot be expected to work at **different evolutionary distances**. However, pairwise sequence distances are generally diverse when considering multiple genomes simultaneously or retraining for specific pairwise distances is not done.\n",
    "\n",
    "<img src=\"tree.jpg\" alt=\"hashing\" style=\"width: 300px;\"/>\n",
    "\n",
    "Let $\\tau=(\\tau_1,\\tau_2,\\ldots, \\tau_r)$ be a few evolutionary distances that represent the expected pairwise distances sufficiently.\n",
    "Let $Q\\in\\mathbb{R}_+^{20\\times 20}$ be an amino acid rate matrix of a time-reversible continuous-time Markov chain (CTMC) $X(t)$.\n",
    "\n",
    "Let again $E = (e_{v,t}) \\in \\{0,1\\}^{\\ell \\times 20}$ be the one-hot encoding of an input protein sequence $S$ and let \n",
    "$z = [0,1]^{r \\times \\ell \\times 20}$, where\n",
    "$$ z_{r,t,j} := P(X(\\tau_r) = j \\,|\\, X(0) = S[t]).$$"
   ]
  },
  {
   "cell_type": "code",
   "execution_count": 13,
   "metadata": {},
   "outputs": [],
   "source": [
    "# Jukes-Cantor amino acid model for demo only\n",
    "s = len(aa_alphabet)\n",
    "\n",
    "Q = 0.01 *np.ones((s, s)) - 0.2 * np.eye(s)\n",
    "# the rows sum up to 0\n",
    "\n",
    "τ = np.array([0.01, 0.1, 1.]) # considered evolutionary times\n",
    "\n",
    "S = \"KALK\" # example amino acid sequence"
   ]
  },
  {
   "cell_type": "code",
   "execution_count": 14,
   "metadata": {},
   "outputs": [
    {
     "data": {
      "text/plain": [
       "array([[1., 0., 0., 0.],\n",
       "       [0., 0., 0., 1.],\n",
       "       [0., 0., 1., 0.]])"
      ]
     },
     "execution_count": 14,
     "metadata": {},
     "output_type": "execute_result"
    }
   ],
   "source": [
    "def dna_one_hot(seq):\n",
    "    return np.eye(len(dna_alphabet))[to_idx(seq, nuc_idx)]\n",
    "\n",
    "def aa_one_hot(seq):\n",
    "    return np.eye(len(aa_alphabet))[to_idx(seq, aa_idx)]\n",
    "\n",
    "dna_one_hot(\"ATG\")"
   ]
  },
  {
   "cell_type": "code",
   "execution_count": 15,
   "metadata": {},
   "outputs": [
    {
     "name": "stdout",
     "output_type": "stream",
     "text": [
      "(4, 21)\n",
      "[[1. 0. 0. 0. 0. 0. 0. 0. 0. 0. 0. 0. 0. 0. 0. 0. 0. 0. 0. 0. 0.]\n",
      " [0. 0. 0. 0. 0. 0. 0. 0. 0. 0. 0. 0. 0. 0. 0. 0. 0. 1. 0. 0. 0.]\n",
      " [0. 0. 0. 0. 0. 0. 0. 0. 0. 0. 0. 0. 1. 0. 0. 0. 0. 0. 0. 0. 0.]\n",
      " [1. 0. 0. 0. 0. 0. 0. 0. 0. 0. 0. 0. 0. 0. 0. 0. 0. 0. 0. 0. 0.]]\n",
      "(3, 4, 21)\n",
      "ancestral profiles\n",
      " [[[0.9981 0.0001 0.0001 0.0001 0.0001 0.0001 0.0001 0.0001]\n",
      "  [0.0001 0.0001 0.0001 0.0001 0.0001 0.0001 0.0001 0.0001]\n",
      "  [0.0001 0.0001 0.0001 0.0001 0.0001 0.0001 0.0001 0.0001]\n",
      "  [0.9981 0.0001 0.0001 0.0001 0.0001 0.0001 0.0001 0.0001]]\n",
      "\n",
      " [[0.9812 0.001  0.001  0.001  0.001  0.001  0.001  0.001 ]\n",
      "  [0.001  0.001  0.001  0.001  0.001  0.001  0.001  0.001 ]\n",
      "  [0.001  0.001  0.001  0.001  0.001  0.001  0.001  0.001 ]\n",
      "  [0.9812 0.001  0.001  0.001  0.001  0.001  0.001  0.001 ]]\n",
      "\n",
      " [[0.8278 0.0091 0.0091 0.0091 0.0091 0.0091 0.0091 0.0091]\n",
      "  [0.0091 0.0091 0.0091 0.0091 0.0091 0.0091 0.0091 0.0091]\n",
      "  [0.0091 0.0091 0.0091 0.0091 0.0091 0.0091 0.0091 0.0091]\n",
      "  [0.8278 0.0091 0.0091 0.0091 0.0091 0.0091 0.0091 0.0091]]]\n"
     ]
    }
   ],
   "source": [
    "E = aa_one_hot(S)\n",
    "print(E.shape) # (4,21)\n",
    "print(E)\n",
    "\n",
    "tauQ = τ[..., None, None] * Q[None, ...]\n",
    "tauQ.shape # (3, 21, 21)\n",
    "\n",
    "P = tf.linalg.expm(tauQ) # P[r,i,j] = P(X(tau_r) = j | X(0) = i)\n",
    "\n",
    "ancprobs = tf.einsum(\"ti,rij -> rtj\", E, P) # Einstein sum, compute all ancestral character probs simultaneously\n",
    "ancprobs = ancprobs.numpy()\n",
    "\n",
    "print(ancprobs.shape) # (3, 4, 21)\n",
    "with np.printoptions(precision = 4, suppress = True):\n",
    "    print(\"ancestral profiles\\n\", ancprobs[:,:,0:8])"
   ]
  },
  {
   "cell_type": "markdown",
   "metadata": {},
   "source": [
    "### 4.3 Iterated Sum Signatures\n",
    "Contigous patterns like above cannot capture\n",
    "  1. similar sequences with indels\n",
    "  2. shared sequences of patterns, such as peptide $\\alpha_1$ is followed by peptide $\\alpha_2$ is followed by peptide $\\alpha_3$ where the peptides can be in different exons.\n",
    "  \n",
    "Let $S$ be a sequence of length $\\ell$ and \n",
    "$p=(p^1, p^2,\\ldots, p^r)$ be a sequence of $r$ profiles of lengths $k_1,\\ldots, k_r$ (fixed $k$-mers can be a special case).\n",
    "\n",
    "<img src=\"ISS.jpg\" alt=\"hashing\" style=\"width: 700px;\"/>\n",
    "\n",
    "$$ \\text{ISS} = \\sum_{1\\le i_1 < i_1+k_1 < i_2 < i_2 + k_2 < \\cdots < i_k \\le \\ell} \\prod_{j=1}^r g(i_j) \\lambda(\\ell_j)$$\n",
    "\n",
    "Here, $g(i_j)$ is the probability of $S[i_j:i_j+k_j]$ under profile $p^j$ and\n",
    "$\\ell_j:= i_j -i_{j-1} + k_{j-1}\\ge 0$ is the length of the gap between pattern occurrences $j-1$ and $j$.\n",
    "$\\lambda$ is a gap penalty function.\n",
    "\n",
    "ISS can be computed with dynamic programming (DP) in time $O(\\ell k)$, where $k=k_1+ \\cdots + k_r$ is the total pattern length, uder conditions on $\\lambda$, e.g. $\\ln\\lambda$ is affine linear.\n"
   ]
  }
 ],
 "metadata": {
  "kernelspec": {
   "display_name": "Python 3",
   "language": "python",
   "name": "python3"
  },
  "language_info": {
   "codemirror_mode": {
    "name": "ipython",
    "version": 3
   },
   "file_extension": ".py",
   "mimetype": "text/x-python",
   "name": "python",
   "nbconvert_exporter": "python",
   "pygments_lexer": "ipython3",
   "version": "3.8.10"
  }
 },
 "nbformat": 4,
 "nbformat_minor": 4
}
