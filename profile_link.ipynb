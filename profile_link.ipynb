{
 "cells": [
  {
   "cell_type": "markdown",
   "metadata": {},
   "source": [
    "### Custom ML model to identify local similarities (\"links\") with sequence profiles\n",
    "\n",
    "Let $$X \\in \\{0,1\\}^{B\\times N\\times 6 \\times T \\times 22}$$ be a batch of **one-hot encoded input translated sequences**,\n",
    "where $B$ is `batch_size`, $N$ is the number of genomes and $T$ is the `tile_size` (in aa).\n",
    "The 6 is here the number of translated frames in order (0,+),(1,+),(2,+),(0,-),(1,-),(2,-).\n",
    "The 22 is here the size of the considered amino acid alphabet.\n"
   ]
  },
  {
   "cell_type": "code",
   "execution_count": 1,
   "metadata": {},
   "outputs": [],
   "source": [
    "import numpy as np\n",
    "import tensorflow as tf\n",
    "\n",
    "import sequtils as su\n",
    "import seq"
   ]
  },
  {
   "cell_type": "markdown",
   "metadata": {},
   "source": [
    "### Create random genomes as toy data "
   ]
  },
  {
   "cell_type": "code",
   "execution_count": 2,
   "metadata": {},
   "outputs": [],
   "source": [
    "N = 4           # number of genomes\n",
    "tile_size = 20  # tile size measured in amino acids\n",
    "# A tile is a consecutive subsequence of _one_ contig/scaffold/chromosome.\n",
    "# Tiles should be about gene-sized.\n",
    "\n",
    "genome_sizes = [[210,100], [30,220,150], [230,110,120,90], [180]] # in nucleotides\n",
    "genomes = seq.getRandomGenomes(N, tile_size, genome_sizes)"
   ]
  },
  {
   "cell_type": "code",
   "execution_count": 3,
   "metadata": {},
   "outputs": [
    {
     "data": {
      "text/plain": [
       "[['CTATCAATGACGTAGATAAGGAAGGAGGTCAGCTAGCAGATAGGACGTACTTGCGATTACTATATAGGATTAGACGAGCGTCACTGGGTTTTATAAGGCTCAGTTGTCAGCTGCAATAAGGGTTCACGCCCCAAGATGCTGAACGTTGCAGCCTCAATTGATGCGGCATACGGCCCATAGATCCACTTTGTGCAAATCTTAGTCACGTAA',\n",
       "  'CGTATCCCAAGTGCATGCAGGACTGATTCACTTTGAGCTCTTAATTATGCGATGGAAGAGAGAATATATGTATTTCCGTCACGACCCGAACTACGCCACA'],\n",
       " ['ACTGCAATATTAACTGCCGGACGATCCACA',\n",
       "  'GCCAATCGTCTGCTTGTCACAACCGCAAAGCCTCTAAGCGCTTTGCCCCGATCTATAACATTGTGGGGCCGGAATATAACTGAGTGAGAGAGCCGGCCGACGGGTTATATTATTCCCCTCGTTGCAAGGGGGACTGTACGAATTAGCGCTGCGTGCAACGTTGATGACCTTACTGCTCAATCTTTGGTAGTCGCGTAAGGACTCACCACTAACTTGGAAA',\n",
       "  'GTGTTAACCTACCTATAGGCCAACGACAACTCCGACGAAATAGGGGGCATCGATGGCCGAACTGTTTATCGCCTATGGAGACCGTAAGGATCATCTGCTGTTCTCCAAAAGGGCGCCATTCTCGGCCCACGCGGAAACGCCCCCGCGTTT'],\n",
       " ['GAGAGACATACAAATGTATATAACATCAACCATCAGTCTTAACTCTTGATTATGTCAGCTGGAAATAAAGTAAGAGGGCGAACTAGTCTAAAACGGACGTTCTCTGTAGCCGATTGTAATTTCACGTACAACCGAATCGCATATGTGACACTGGGAGAAGAAGCAAGTCGTGTCCTGATTAAAAATTCAGAGATTGTCTAAAGATAGTTTGTGAAACTGTTCGTTCTTTT',\n",
       "  'CTGCGAGTATCAAACGGTTTGGGGCCGCAACTGAAAGAGAGGAAGTGACTAGGCACAAAAGAGCCTCTGACGACAGGCTGATTATCGACTAAGGAATCTGCACCGCATGA',\n",
       "  'GACCACGGTGTCTACTTCGTCACTAAAAACCTAGTCTCTGTGGACCCATGCTCTAACCATGACTGCATTAACTGACACAAGAATCCTCTATCCGAGGGTGAGCAGTCCACGGTACGATTA',\n",
       "  'TAGGCTTGAGCAAGTTCGCACCTACGAGGATGACTGGGCTGCCTGCTCGACAATAACGCGGTGCGAAGCGGTAAATCAACCGCCTAATAC'],\n",
       " ['GGAACTCTGTACCCTCCATAGGCGGTCCTTAGGCCCCTCAATTTACCAGGCCAGTCGTCGACCGATAGAAGGAAACGGATCCTGCGTCAAGACGCCACGCCGGGTCAGTTAGAAGGTTTTCAAATTAGGGCTCGTATGAACAGAATGTCGTTCTCCATAGTGTAGTACGCGCAAAATGAT']]"
      ]
     },
     "execution_count": 3,
     "metadata": {},
     "output_type": "execute_result"
    }
   ],
   "source": [
    "genomes"
   ]
  },
  {
   "cell_type": "code",
   "execution_count": 4,
   "metadata": {},
   "outputs": [
    {
     "name": "stdout",
     "output_type": "stream",
     "text": [
      "background freqs:  2840.0 *\n",
      "C 0.0310\n",
      "K 0.0320\n",
      "E 0.0310\n",
      "W 0.0120\n",
      "T 0.0616\n",
      "G 0.0546\n",
      "Y 0.0320\n",
      "A 0.0595\n",
      "I 0.0528\n",
      "N 0.0349\n",
      "V 0.0620\n",
      "H 0.0261\n",
      "S 0.0947\n",
      "D 0.0349\n",
      "F 0.0313\n",
      "M 0.0130\n",
      "R 0.0961\n",
      "L 0.1000\n",
      "P 0.0542\n",
      "Q 0.0342\n",
      "* 0.0521\n"
     ]
    }
   ],
   "source": [
    "Q = seq.backGroundAAFreqs(genomes, True)"
   ]
  },
  {
   "cell_type": "markdown",
   "metadata": {},
   "source": [
    "#### Read in the genome"
   ]
  },
  {
   "cell_type": "code",
   "execution_count": 5,
   "metadata": {},
   "outputs": [
    {
     "data": {
      "text/plain": [
       "(2, 4, 6, 20, 21)"
      ]
     },
     "execution_count": 5,
     "metadata": {},
     "output_type": "execute_result"
    }
   ],
   "source": [
    "batch_size = 2  # constrained by RAM and gradient descent performance\n",
    "\n",
    "X = seq.getNextBatch(genomes, batch_size, tile_size, verbose=False)\n",
    "X.shape"
   ]
  },
  {
   "cell_type": "markdown",
   "metadata": {},
   "source": [
    "## TensorFlow Model\n",
    "Let $$P = (P[w,c,u]) \\in [0,1]^{k \\times 21 \\times U}$$\n",
    "be a collection of $U$ amino acid **profiles**, each of length $k$.\n",
    "Let $$ Q = (Q[c]) \\in [0,1]^{21}$$ be a background amino acid distribution.\n",
    "\n",
    "Both are normalized distributions:\n",
    "$$ \\sum_c P[w,c,u] = \\sum_c Q[c] = 1 \\qquad \\forall u,w.$$\n",
    "\n",
    "Define the scores tensor \n",
    "$$ S \\in \\mathbb{R}^ {B\\times N \\times U}$$\n",
    "by\n",
    "$$ S[b,g,u] = \\max_{f=0}^5 \\max_{v=0}^{T-k} \\sum_{w=0}^{k-1} \\sum_{c=0}^{20} X[b,g,f,v+w,c] \\cdot \\ln \\frac {P[w,c,u]}{Q[c]}.$$\n",
    "\n",
    "For a given batch $S[b,g,u]$ is the maximal score that the $u$-th profile scores in the $b$-th tile of genome $g$.\n",
    "It can be computed using a **one dimensional convolution** and max pooling.\n",
    "\n",
    "Define the intermediate variables:\n",
    "\n",
    "$R \\in [0,1]^{k \\times 21 \\times U}$ by \n",
    "$$ R[w,c,u] := \\ln \\frac {P[w,c,u]}{Q[c]}.$$\n",
    "\n",
    "$Z \\in \\mathbb{R}^{B\\times N \\times 6 \\times T-k-1\\times U}$ by\n",
    "$$Z[b,g,f,v,u] := \\sum_{w=0}^{k-1} \\sum_{c=0}^{20} X[b,g,f,v+w,c] \\cdot R[w,c,u].$$\n",
    "\n",
    "**Losses:**\n",
    "Only the best score counts for each frame and tile. Sum them up.\n",
    "$$L_1 = - \\sum_{b=1}^B \\sum_{g=1}^G \\sum_{u=1}^U S[b,g,u]$$ "
   ]
  },
  {
   "cell_type": "code",
   "execution_count": 6,
   "metadata": {},
   "outputs": [],
   "source": [
    "U = 2 # number of profiles to train\n",
    "k = 3 # length of profiles"
   ]
  },
  {
   "cell_type": "code",
   "execution_count": 7,
   "metadata": {},
   "outputs": [],
   "source": [
    "class SpecificProfile(tf.keras.Model):\n",
    "    def __init__(self, k, alphabet_size, units, Q, **kwargs):\n",
    "        super().__init__(**kwargs)\n",
    "        P_logit_init = tf.random.normal([k, alphabet_size, units],\n",
    "                                    stddev=1.,\n",
    "                                    dtype=tf.float32,\n",
    "                                    seed=1)\n",
    "        self.P_logit = tf.Variable(P_logit_init, trainable=True, name=\"P_logit\") \n",
    "        self.Q = Q\n",
    "        self.k = k\n",
    "        self.alphabet_size = alphabet_size\n",
    "        self.units = units\n",
    "\n",
    "    def getP(self):\n",
    "        # P1_logit = -1000 * tf.ones([self.k, 1, self.units])\n",
    "        # P2_logit = tf.stack([P1_logit, self.P_logit], axis=1)\n",
    "        P = tf.nn.softmax(self.P_logit, axis=1, name=\"P\")\n",
    "        return P\n",
    "    \n",
    "    def call(self, X):\n",
    "        P = self.getP()\n",
    "        Q1 = tf.expand_dims(self.Q,0)\n",
    "        Q2 = tf.expand_dims(Q1,-1)\n",
    "        R = tf.math.log(P/Q2)\n",
    "\n",
    "        X1 = tf.expand_dims(X,-1) # 1 input channel\n",
    "        R1 = tf.expand_dims(R,-2) # 1 input channel\n",
    "        Z1 = tf.nn.conv2d(X1, R1, strides=1,\n",
    "                         padding='VALID', data_format=\"NHWC\", name=\"Z\")\n",
    "        Z = tf.squeeze(Z1, 4) # remove input channel dimension\n",
    "\n",
    "        S = tf.reduce_max(Z, axis=[2,3])\n",
    "        return S\n",
    "\n",
    "    # custom loss\n",
    "    def loss(self, S):\n",
    "        L1 = tf.reduce_sum(S)\n",
    "        return L1\n",
    "\n",
    "    @tf.function()\n",
    "    def train_step(self, X):\n",
    "        with tf.GradientTape() as tape:\n",
    "            S = self.call(X)\n",
    "            L = self.loss(S)\n",
    "\n",
    "        grad = tape.gradient(L, self.P_logit)\n",
    "        self.opt.apply_gradients([(grad, self.P_logit)])\n",
    "\n",
    "    def train(self, X):\n",
    "        self.opt = tf.keras.optimizers.Adam(learning_rate=1e-3)\n",
    "        for i in range(5000):\n",
    "            self.train_step(X)\n",
    "            if i%100 == 0:\n",
    "                S = self(X)\n",
    "                L = self.loss(S)\n",
    "                print(\"loss=\", L)"
   ]
  },
  {
   "cell_type": "code",
   "execution_count": 8,
   "metadata": {},
   "outputs": [],
   "source": [
    "specProModel = SpecificProfile(k, su.aa_alphabet_size, U, Q)"
   ]
  },
  {
   "cell_type": "markdown",
   "metadata": {},
   "source": [
    "### Training"
   ]
  },
  {
   "cell_type": "code",
   "execution_count": 9,
   "metadata": {},
   "outputs": [
    {
     "name": "stdout",
     "output_type": "stream",
     "text": [
      "loss= tf.Tensor(46.621666, shape=(), dtype=float32)\n",
      "loss= tf.Tensor(41.87943, shape=(), dtype=float32)\n",
      "loss= tf.Tensor(37.480217, shape=(), dtype=float32)\n",
      "loss= tf.Tensor(33.561882, shape=(), dtype=float32)\n",
      "loss= tf.Tensor(29.976177, shape=(), dtype=float32)\n",
      "loss= tf.Tensor(27.18929, shape=(), dtype=float32)\n",
      "loss= tf.Tensor(24.722656, shape=(), dtype=float32)\n",
      "loss= tf.Tensor(22.785845, shape=(), dtype=float32)\n",
      "loss= tf.Tensor(21.185722, shape=(), dtype=float32)\n",
      "loss= tf.Tensor(20.02798, shape=(), dtype=float32)\n",
      "loss= tf.Tensor(19.06369, shape=(), dtype=float32)\n",
      "loss= tf.Tensor(18.120014, shape=(), dtype=float32)\n",
      "loss= tf.Tensor(17.153564, shape=(), dtype=float32)\n",
      "loss= tf.Tensor(16.31656, shape=(), dtype=float32)\n",
      "loss= tf.Tensor(15.652744, shape=(), dtype=float32)\n",
      "loss= tf.Tensor(15.12756, shape=(), dtype=float32)\n",
      "loss= tf.Tensor(14.685108, shape=(), dtype=float32)\n",
      "loss= tf.Tensor(14.244223, shape=(), dtype=float32)\n",
      "loss= tf.Tensor(13.85676, shape=(), dtype=float32)\n",
      "loss= tf.Tensor(13.593903, shape=(), dtype=float32)\n",
      "loss= tf.Tensor(13.337698, shape=(), dtype=float32)\n",
      "loss= tf.Tensor(13.055063, shape=(), dtype=float32)\n",
      "loss= tf.Tensor(12.748266, shape=(), dtype=float32)\n",
      "loss= tf.Tensor(12.409033, shape=(), dtype=float32)\n",
      "loss= tf.Tensor(12.090324, shape=(), dtype=float32)\n",
      "loss= tf.Tensor(11.78789, shape=(), dtype=float32)\n",
      "loss= tf.Tensor(11.496447, shape=(), dtype=float32)\n",
      "loss= tf.Tensor(11.190895, shape=(), dtype=float32)\n",
      "loss= tf.Tensor(10.885876, shape=(), dtype=float32)\n",
      "loss= tf.Tensor(10.583376, shape=(), dtype=float32)\n",
      "loss= tf.Tensor(10.261142, shape=(), dtype=float32)\n",
      "loss= tf.Tensor(9.9214115, shape=(), dtype=float32)\n",
      "loss= tf.Tensor(9.596149, shape=(), dtype=float32)\n",
      "loss= tf.Tensor(9.276619, shape=(), dtype=float32)\n",
      "loss= tf.Tensor(8.949211, shape=(), dtype=float32)\n",
      "loss= tf.Tensor(8.641336, shape=(), dtype=float32)\n",
      "loss= tf.Tensor(8.329327, shape=(), dtype=float32)\n",
      "loss= tf.Tensor(7.9918537, shape=(), dtype=float32)\n",
      "loss= tf.Tensor(7.6385593, shape=(), dtype=float32)\n",
      "loss= tf.Tensor(7.249733, shape=(), dtype=float32)\n",
      "loss= tf.Tensor(6.8570623, shape=(), dtype=float32)\n",
      "loss= tf.Tensor(6.461579, shape=(), dtype=float32)\n",
      "loss= tf.Tensor(6.0644994, shape=(), dtype=float32)\n",
      "loss= tf.Tensor(5.82506, shape=(), dtype=float32)\n",
      "loss= tf.Tensor(5.575823, shape=(), dtype=float32)\n",
      "loss= tf.Tensor(5.312109, shape=(), dtype=float32)\n",
      "loss= tf.Tensor(5.032129, shape=(), dtype=float32)\n",
      "loss= tf.Tensor(4.7372284, shape=(), dtype=float32)\n",
      "loss= tf.Tensor(4.4305964, shape=(), dtype=float32)\n",
      "loss= tf.Tensor(4.1086416, shape=(), dtype=float32)\n"
     ]
    }
   ],
   "source": [
    "specProModel.train(X)"
   ]
  },
  {
   "cell_type": "code",
   "execution_count": 10,
   "metadata": {},
   "outputs": [
    {
     "data": {
      "text/plain": [
       "<tf.Tensor: shape=(3, 21, 2), dtype=float32, numpy=\n",
       "array([[[0.01979158, 0.0311601 ],\n",
       "        [0.03370087, 0.03223794],\n",
       "        [0.03215709, 0.03114062],\n",
       "        [0.17628889, 0.01203128],\n",
       "        [0.00818964, 0.06196149],\n",
       "        [0.0545333 , 0.05490521],\n",
       "        [0.05021429, 0.0322445 ],\n",
       "        [0.04629498, 0.05986211],\n",
       "        [0.03372645, 0.05310854],\n",
       "        [0.06166762, 0.03505206],\n",
       "        [0.05271186, 0.06234331],\n",
       "        [0.03044257, 0.02622861],\n",
       "        [0.11062938, 0.09526448],\n",
       "        [0.00945892, 0.03503934],\n",
       "        [0.05669836, 0.03152328],\n",
       "        [0.02683923, 0.01366758],\n",
       "        [0.02151798, 0.09667298],\n",
       "        [0.07025518, 0.09652822],\n",
       "        [0.01202133, 0.05226178],\n",
       "        [0.03856654, 0.03435517],\n",
       "        [0.05429404, 0.05241137]],\n",
       "\n",
       "       [[0.01572622, 0.0309787 ],\n",
       "        [0.02928336, 0.03203963],\n",
       "        [0.1625372 , 0.03096453],\n",
       "        [0.02559854, 0.01196104],\n",
       "        [0.04135939, 0.06162266],\n",
       "        [0.0403805 , 0.05460257],\n",
       "        [0.01707347, 0.03204706],\n",
       "        [0.03388948, 0.05952349],\n",
       "        [0.0203798 , 0.05282849],\n",
       "        [0.02986595, 0.03487766],\n",
       "        [0.04326319, 0.06194504],\n",
       "        [0.03741607, 0.02604582],\n",
       "        [0.08195237, 0.09471134],\n",
       "        [0.03039605, 0.03486398],\n",
       "        [0.18794793, 0.03135566],\n",
       "        [0.04539295, 0.01303699],\n",
       "        [0.04028068, 0.09614016],\n",
       "        [0.01769757, 0.09998763],\n",
       "        [0.04018347, 0.0541647 ],\n",
       "        [0.03009002, 0.03414562],\n",
       "        [0.02928585, 0.05215719]],\n",
       "\n",
       "       [[0.06499921, 0.03110665],\n",
       "        [0.04893533, 0.03216584],\n",
       "        [0.05899313, 0.0311044 ],\n",
       "        [0.04896788, 0.01200264],\n",
       "        [0.014875  , 0.06184571],\n",
       "        [0.00818754, 0.05258686],\n",
       "        [0.00828127, 0.03216215],\n",
       "        [0.01391403, 0.05975516],\n",
       "        [0.00821354, 0.0530114 ],\n",
       "        [0.0534324 , 0.03501304],\n",
       "        [0.01274392, 0.06220698],\n",
       "        [0.09275443, 0.02619339],\n",
       "        [0.12798668, 0.09508014],\n",
       "        [0.07219876, 0.03499065],\n",
       "        [0.07349385, 0.03147696],\n",
       "        [0.01503626, 0.01364492],\n",
       "        [0.10464643, 0.0964548 ],\n",
       "        [0.01508571, 0.10034213],\n",
       "        [0.07399398, 0.05445267],\n",
       "        [0.04050983, 0.03429154],\n",
       "        [0.0427507 , 0.05011192]]], dtype=float32)>"
      ]
     },
     "execution_count": 10,
     "metadata": {},
     "output_type": "execute_result"
    }
   ],
   "source": [
    "P = specProModel.getP()\n",
    "P"
   ]
  },
  {
   "cell_type": "markdown",
   "metadata": {},
   "source": [
    "### Visualize resulting profiles as sequence logos\n"
   ]
  },
  {
   "cell_type": "code",
   "execution_count": 11,
   "metadata": {},
   "outputs": [],
   "source": [
    "import logomaker\n",
    "dfs = su.makeDFs(P.numpy())"
   ]
  },
  {
   "cell_type": "code",
   "execution_count": 12,
   "metadata": {},
   "outputs": [
    {
     "data": {
      "image/png": "[encoded data removed]",
      "text/plain": [
       "<Figure size 720x180 with 1 Axes>"
      ]
     },
     "metadata": {
      "needs_background": "light"
     },
     "output_type": "display_data"
    },
    {
     "data": {
      "image/png": "[encoded data removed]",
      "text/plain": [
       "<Figure size 720x180 with 1 Axes>"
      ]
     },
     "metadata": {
      "needs_background": "light"
     },
     "output_type": "display_data"
    }
   ],
   "source": [
    "# print up to 5 logos\n",
    "for i in range(min(U,5)):\n",
    "    profile_df = dfs[i]\n",
    "    logo = logomaker.Logo(profile_df, vpad=.1, width=1)\n",
    "    logo.style_xticks(anchor=0, spacing=1, rotation=45)\n",
    "    logo.ax.set_ylabel('information (bits)')\n",
    "    logo.ax.set_title(f\"Profile {i}\")"
   ]
  },
  {
   "cell_type": "code",
   "execution_count": 13,
   "metadata": {},
   "outputs": [],
   "source": [
    "# dataset = tf.data.Dataset.from_tensor_slices([X])"
   ]
  },
  {
   "cell_type": "code",
   "execution_count": null,
   "metadata": {},
   "outputs": [],
   "source": []
  }
 ],
 "metadata": {
  "kernelspec": {
   "display_name": "Python 3",
   "language": "python",
   "name": "python3"
  },
  "language_info": {
   "codemirror_mode": {
    "name": "ipython",
    "version": 3
   },
   "file_extension": ".py",
   "mimetype": "text/x-python",
   "name": "python",
   "nbconvert_exporter": "python",
   "pygments_lexer": "ipython3",
   "version": "3.8.10"
  }
 },
 "nbformat": 4,
 "nbformat_minor": 4
}
