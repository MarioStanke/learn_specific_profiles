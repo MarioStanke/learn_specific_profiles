{
 "cells": [
  {
   "cell_type": "markdown",
   "metadata": {},
   "source": [
    "### Custom ML model to identify local similarities (\"links\") with sequence profiles\n",
    "\n",
    "Let $$X \\in \\{0,1\\}^{B\\times N\\times 6 \\times T \\times 21}$$ be a batch of **one-hot encoded input translated sequences**,\n",
    "where $B$ is `batch_size`, $N$ is the number of genomes and $T$ is the `tile_size` (in aa).\n",
    "The 6 is here the number of translated frames in order (0,+),(1,+),(2,+),(0,-),(1,-),(2,-).\n",
    "The 21 is here the size of the considered amino acid alphabet.\n"
   ]
  },
  {
   "cell_type": "markdown",
   "metadata": {},
   "source": [
    "---\n",
    "\n",
    "Jupyterhub keeps losing these packages, so just for setup:"
   ]
  },
  {
   "cell_type": "code",
   "execution_count": 1,
   "metadata": {},
   "outputs": [
    {
     "name": "stdout",
     "output_type": "stream",
     "text": [
      "Collecting pyvolve\n",
      "  Using cached Pyvolve-1.1.0-py3-none-any.whl (177 kB)\n",
      "Collecting Biopython\n",
      "  Downloading biopython-1.81-cp310-cp310-manylinux_2_17_x86_64.manylinux2014_x86_64.whl (3.1 MB)\n",
      "\u001b[2K     \u001b[90m━━━━━━━━━━━━━━━━━━━━━━━━━━━━━━━━━━━━━━━━\u001b[0m \u001b[32m3.1/3.1 MB\u001b[0m \u001b[31m18.5 MB/s\u001b[0m eta \u001b[36m0:00:00\u001b[0m00:01\u001b[0m00:01\u001b[0m\n",
      "\u001b[?25hRequirement already satisfied: scipy in /opt/conda/lib/python3.10/site-packages (from pyvolve) (1.10.0)\n",
      "Requirement already satisfied: numpy>=1.20.0 in /opt/conda/lib/python3.10/site-packages (from pyvolve) (1.23.5)\n",
      "Installing collected packages: Biopython, pyvolve\n",
      "Successfully installed Biopython-1.81 pyvolve-1.1.0\n"
     ]
    }
   ],
   "source": [
    "! pip install pyvolve"
   ]
  },
  {
   "cell_type": "code",
   "execution_count": 2,
   "metadata": {},
   "outputs": [
    {
     "name": "stdout",
     "output_type": "stream",
     "text": [
      "Collecting plotly\n",
      "  Downloading plotly-5.14.1-py2.py3-none-any.whl (15.3 MB)\n",
      "\u001b[2K     \u001b[90m━━━━━━━━━━━━━━━━━━━━━━━━━━━━━━━━━━━━━━━━\u001b[0m \u001b[32m15.3/15.3 MB\u001b[0m \u001b[31m61.6 MB/s\u001b[0m eta \u001b[36m0:00:00\u001b[0m00:01\u001b[0m00:01\u001b[0m\n",
      "\u001b[?25hCollecting tenacity>=6.2.0\n",
      "  Downloading tenacity-8.2.2-py3-none-any.whl (24 kB)\n",
      "Requirement already satisfied: packaging in /opt/conda/lib/python3.10/site-packages (from plotly) (23.0)\n",
      "Installing collected packages: tenacity, plotly\n",
      "Successfully installed plotly-5.14.1 tenacity-8.2.2\n"
     ]
    }
   ],
   "source": [
    "! pip install plotly"
   ]
  },
  {
   "cell_type": "code",
   "execution_count": 3,
   "metadata": {},
   "outputs": [],
   "source": [
    "import plotly.io as pio\n",
    "pio.renderers.default = \"iframe\""
   ]
  },
  {
   "cell_type": "code",
   "execution_count": 6,
   "metadata": {},
   "outputs": [
    {
     "name": "stdout",
     "output_type": "stream",
     "text": [
      "Collecting logomaker\n",
      "  Using cached logomaker-0.8-py2.py3-none-any.whl (11.8 MB)\n",
      "Requirement already satisfied: matplotlib in /opt/conda/lib/python3.10/site-packages (from logomaker) (3.6.3)\n",
      "Requirement already satisfied: numpy in /opt/conda/lib/python3.10/site-packages (from logomaker) (1.23.5)\n",
      "Requirement already satisfied: pandas in /opt/conda/lib/python3.10/site-packages (from logomaker) (1.5.3)\n",
      "Requirement already satisfied: contourpy>=1.0.1 in /opt/conda/lib/python3.10/site-packages (from matplotlib->logomaker) (1.0.7)\n",
      "Requirement already satisfied: kiwisolver>=1.0.1 in /opt/conda/lib/python3.10/site-packages (from matplotlib->logomaker) (1.4.4)\n",
      "Requirement already satisfied: cycler>=0.10 in /opt/conda/lib/python3.10/site-packages (from matplotlib->logomaker) (0.11.0)\n",
      "Requirement already satisfied: packaging>=20.0 in /opt/conda/lib/python3.10/site-packages (from matplotlib->logomaker) (23.0)\n",
      "Requirement already satisfied: pillow>=6.2.0 in /opt/conda/lib/python3.10/site-packages (from matplotlib->logomaker) (9.4.0)\n",
      "Requirement already satisfied: python-dateutil>=2.7 in /opt/conda/lib/python3.10/site-packages (from matplotlib->logomaker) (2.8.2)\n",
      "Requirement already satisfied: pyparsing>=2.2.1 in /opt/conda/lib/python3.10/site-packages (from matplotlib->logomaker) (3.0.9)\n",
      "Requirement already satisfied: fonttools>=4.22.0 in /opt/conda/lib/python3.10/site-packages (from matplotlib->logomaker) (4.38.0)\n",
      "Requirement already satisfied: pytz>=2020.1 in /opt/conda/lib/python3.10/site-packages (from pandas->logomaker) (2022.7.1)\n",
      "Requirement already satisfied: six>=1.5 in /opt/conda/lib/python3.10/site-packages (from python-dateutil>=2.7->matplotlib->logomaker) (1.16.0)\n",
      "Installing collected packages: logomaker\n",
      "Successfully installed logomaker-0.8\n"
     ]
    }
   ],
   "source": [
    "! pip install logomaker"
   ]
  },
  {
   "cell_type": "markdown",
   "metadata": {},
   "source": [
    "---"
   ]
  },
  {
   "cell_type": "code",
   "execution_count": 2,
   "metadata": {},
   "outputs": [],
   "source": [
    "# set this to None if \"true\" randomness is desired, otherwise the runs are reproducible given the same SEED and that the same simulated data is used\n",
    "SEED = 42"
   ]
  },
  {
   "cell_type": "code",
   "execution_count": 3,
   "metadata": {},
   "outputs": [
    {
     "name": "stdout",
     "output_type": "stream",
     "text": [
      "<module 'sequtils' from 'modules/sequtils.py'>\n",
      "<module 'seq' from 'modules/seq.py'>\n",
      "<module 'dataset' from 'modules/dataset.py'>\n",
      "<module 'model' from 'modules/model.py'>\n",
      "<module 'aadist' from 'modules/aadist.py'>\n",
      "<module 'initProfilesExperiment' from 'modules/initProfilesExperiment.py'>\n",
      "<module 'plotting' from 'modules/plotting.py'>\n",
      "<module 'stuff' from 'modules/stuff.py'>\n",
      "<module 'geneLinkDraw' from 'modules/GeneLinkDraw/geneLinkDraw.py'>\n",
      "<module 'MSAgen' from 'modules/MSAgen/MSAgen.py'>\n",
      "2.5.0\n"
     ]
    }
   ],
   "source": [
    "from Bio import SeqIO\n",
    "from Bio.Seq import Seq\n",
    "from Bio.SeqRecord import SeqRecord\n",
    "import copy\n",
    "import json\n",
    "import matplotlib.pyplot as plt\n",
    "import numpy as np\n",
    "import os\n",
    "import pickle\n",
    "import scipy.stats\n",
    "import tensorflow as tf\n",
    "import logomaker\n",
    "from time import time\n",
    "from tqdm import tqdm\n",
    "from IPython.display import Audio\n",
    "\n",
    "if SEED is not None:\n",
    "    # enable deterministic tensorflow behaviour (https://github.com/NVIDIA/framework-determinism/blob/master/doc/tensorflow.md)\n",
    "    os.environ['TF_DETERMINISTIC_OPS'] = '1'\n",
    "\n",
    "import sys\n",
    "sys.path.insert(0, 'modules/')\n",
    "import importlib\n",
    "import sequtils as su\n",
    "print(importlib.reload(su))\n",
    "import seq\n",
    "print(importlib.reload(seq))\n",
    "import dataset as dsg\n",
    "print(importlib.reload(dsg))\n",
    "import model\n",
    "print(importlib.reload(model))\n",
    "import aadist\n",
    "print(importlib.reload(aadist))\n",
    "import initProfilesExperiment as ipe\n",
    "print(importlib.reload(ipe))\n",
    "import plotting\n",
    "print(importlib.reload(plotting))\n",
    "import stuff\n",
    "print(importlib.reload(stuff))\n",
    "\n",
    "\n",
    "#sys.path.insert(0, '../../Software/GeneLinkDraw/')\n",
    "#sys.path.insert(0, '../../Software/MSAgen/')\n",
    "sys.path.insert(0, 'modules/GeneLinkDraw/')\n",
    "sys.path.insert(0, 'modules/MSAgen/')\n",
    "import geneLinkDraw as gld\n",
    "print(importlib.reload(gld))\n",
    "import MSAgen\n",
    "print(importlib.reload(MSAgen))\n",
    "\n",
    "print(tf.__version__)\n",
    "\n",
    "#%load_ext memory_profiler"
   ]
  },
  {
   "cell_type": "code",
   "execution_count": 13,
   "metadata": {},
   "outputs": [
    {
     "data": {
      "text/plain": [
       "False"
      ]
     },
     "execution_count": 13,
     "metadata": {},
     "output_type": "execute_result"
    }
   ],
   "source": [
    "tf.__version__.split('.')[0:2] < ['2','4']"
   ]
  },
  {
   "cell_type": "code",
   "execution_count": 9,
   "metadata": {},
   "outputs": [],
   "source": [
    "use_toy_data = False\n",
    "use_sim_data = False\n",
    "use_real_data = True\n",
    "assert use_toy_data or use_sim_data or use_real_data\n",
    "assert not (use_toy_data and use_sim_data)\n",
    "assert not (use_toy_data and use_real_data)\n",
    "assert not (use_sim_data and use_real_data)"
   ]
  },
  {
   "cell_type": "markdown",
   "metadata": {},
   "source": [
    "### Get Data\n",
    "\n",
    "#### Create random genomes as toy data "
   ]
  },
  {
   "cell_type": "code",
   "execution_count": 10,
   "metadata": {},
   "outputs": [],
   "source": [
    "if use_toy_data:\n",
    "    N = 8            # number of genomes\n",
    "    repeatsPerGenome = 10 # number of times to insert repeats into each genome\n",
    "    multiplyRepeats = 1   # multiply repeat patterns\n",
    "    # A tile is a consecutive subsequence of _one_ contig/scaffold/chromosome.\n",
    "    # Tiles should be about gene-sized.\n",
    "\n",
    "    #genome_sizes = [[210,100], [30,220,150], [230,110,120,90], [180]] # in nucleotides\n",
    "    #insertPatterns = [\"ATGATGATG\", \"CCCCCCCCCCCC\"]\n",
    "    #genomes = seq.getRandomGenomes(N, genome_sizes, insertPatterns, mutationProb=0.2, verbose=True)\n",
    "\n",
    "    genome_sizes = [[10000]] * N\n",
    "                    # in nucleotides\n",
    "    insertPatterns = [\"ATGGCAAGAATTCAATCTACTGCAAATAAAGAA\"] \n",
    "    repeatPatterns = ['AGAGAACCTGAAGCTACTGCTGAACCTGAAAGA']\n",
    "    genomes, repeatTracking, insertTracking = seq.getRandomGenomes(N, genome_sizes, insertPatterns,\n",
    "                                                                   repeatPatterns,\n",
    "                                                                   mutationProb=0.0, \n",
    "                                                                   repeatMultiple=[multiplyRepeats],#range(1,2),\n",
    "                                                                   repeatInsert=[repeatsPerGenome],#range(10,11),\n",
    "                                                                   verbose=(not use_real_data))\n",
    "    print(\"insert:\", insertTracking)\n",
    "    print(\"repeat:\", repeatTracking)"
   ]
  },
  {
   "cell_type": "code",
   "execution_count": 11,
   "metadata": {},
   "outputs": [],
   "source": [
    "if use_toy_data:\n",
    "    # assert patterns are all inserted\n",
    "    assert len(insertTracking) == N, str(len(insertTracking))\n",
    "    for g in insertTracking:\n",
    "        assert len(insertTracking[g]) == len(genome_sizes[g]), str(len(insertTracking[g]))+\", \"+str(g)\n",
    "        for c in insertTracking[g]:\n",
    "            assert len(insertTracking[g][c]['pos']) == 1\n",
    "            assert len(insertTracking[g][c]['pattern']) == 1\n",
    "            pos = insertTracking[g][c]['pos'][0]\n",
    "            pat = insertTracking[g][c]['pattern'][0]\n",
    "            k = len(pat)\n",
    "            assert genomes[g][c][pos:pos+k] == pat\n",
    "\n",
    "    assert len(repeatTracking) == N, str(len(repeatTracking))\n",
    "    for g in repeatTracking:\n",
    "        assert len(repeatTracking[g]) == len(genome_sizes[g]), str(len(repeatTracking[g]))+\", \"+str(g)\n",
    "        for c in repeatTracking[g]:\n",
    "            assert len(repeatTracking[g][c]['pos']) == repeatsPerGenome, str(len(repeatTracking[g][c]['pos']))+\", \"+str(c)+\", \"+str(g)\n",
    "            assert len(repeatTracking[g][c]['pattern']) == repeatsPerGenome, str(len(repeatTracking[g][c]['pattern']))+\", \"+str(c)+\", \"+str(g)\n",
    "            for i in range(repeatsPerGenome):\n",
    "                pos = repeatTracking[g][c]['pos'][i]\n",
    "                pat = repeatTracking[g][c]['pattern'][i]\n",
    "                k = len(pat)\n",
    "                assert genomes[g][c][pos:pos+k] == pat"
   ]
  },
  {
   "cell_type": "code",
   "execution_count": 12,
   "metadata": {},
   "outputs": [],
   "source": [
    "if use_toy_data:\n",
    "    flat_genomes = []\n",
    "    tracking = {}\n",
    "    i = 0\n",
    "    for g in range(len(genomes)):\n",
    "        for c in range(len(genomes[g])):\n",
    "            flat_genomes.append(SeqRecord(Seq(genomes[g][c]),\n",
    "                                          id=str(i), description=\"\"))\n",
    "            tracking[i] = {'insert': dict(insertTracking[g][c]),\n",
    "                           'repeat': dict(repeatTracking[g][c])}\n",
    "            i += 1\n",
    "            \n",
    "    with open(\"artificial.fasta\", \"w\") as output_handle:\n",
    "        SeqIO.write(flat_genomes, output_handle, \"fasta\")\n",
    "        \n",
    "    with open(\"tracking.json\", \"w\") as fh:\n",
    "        json.dump(tracking, fh)"
   ]
  },
  {
   "cell_type": "code",
   "execution_count": 13,
   "metadata": {},
   "outputs": [],
   "source": [
    "if not use_toy_data:\n",
    "    insertPatterns = None\n",
    "    repeatPatterns = None"
   ]
  },
  {
   "cell_type": "code",
   "execution_count": 14,
   "metadata": {},
   "outputs": [],
   "source": [
    "def printExpectedPatterns():\n",
    "    desiredPatternAA, repeatPatternAA = None, None\n",
    "    if insertPatterns is not None:\n",
    "        desiredPatternAA = []\n",
    "        for pattern in insertPatterns:\n",
    "            desiredPatternAA.extend(su.six_frame_translation(pattern))\n",
    "\n",
    "        print(\"Desired:\", desiredPatternAA)\n",
    "\n",
    "    if repeatPatterns is not None:\n",
    "        repeatPatternAA = []\n",
    "        for pattern in repeatPatterns:\n",
    "            repeatPatternAA.extend(su.six_frame_translation(pattern))\n",
    "\n",
    "        print(\"Repeat:\", repeatPatternAA)\n",
    "        \n",
    "    return desiredPatternAA, repeatPatternAA\n",
    "\n",
    "desiredPatternAA, repeatPatternAA = printExpectedPatterns()"
   ]
  },
  {
   "cell_type": "markdown",
   "metadata": {},
   "source": [
    "#### Create Simulated Data"
   ]
  },
  {
   "cell_type": "code",
   "execution_count": 15,
   "metadata": {},
   "outputs": [],
   "source": [
    "if use_sim_data:\n",
    "    N = 80\n",
    "    seqlen = 110000\n",
    "    genelen = 140\n",
    "    fname    = \"/home/jovyan/brain/genomegraph/learn_specific_profiles/simulated_sequences_c0.05_nc0.1_N80.fasta\"\n",
    "    fname_pd = \"/home/jovyan/brain/genomegraph/learn_specific_profiles/simulated_sequences_c0.05_nc0.1_N80.posdict.json\"\n",
    "    if not os.path.exists(fname):\n",
    "        print(\"[INFO] >>> Creating {}\".format(fname))\n",
    "        cdist = 0.05 #* 2\n",
    "        ncdist = 0.1 #* 2\n",
    "        sequences, posDict = MSAgen.generate_sequences(N, seqlen, genelen, coding_dist=cdist, noncoding_dist=ncdist, tree='star', omega=0.4)\n",
    "        MSAgen.store_sequences(sequences, posDict, fname)\n",
    "    else:\n",
    "        print(\"[INFO] >>> Loading {}\".format(fname))\n",
    "        sequences, posDict = MSAgen.load_sequences(fname, fname_pd)\n",
    "        \n",
    "    genomes = [[str(seq.seq)] for seq in sequences]"
   ]
  },
  {
   "cell_type": "markdown",
   "metadata": {},
   "source": [
    "#### Load Real Data"
   ]
  },
  {
   "cell_type": "code",
   "execution_count": 16,
   "metadata": {},
   "outputs": [],
   "source": [
    "# Load Real Data\n",
    "if use_real_data and False:    \n",
    "    files = ['hg38.fa', 'mm10.fa', 'hetGla2.fa', 'macFas5.fa']\n",
    "    genomes = [[] for _ in range(len(files))]\n",
    "    seqnames = [[] for _ in range(len(files))]\n",
    "    datapath = \"../data/20210517_flanked/subset\"\n",
    "    def loadRealGenomes(genomes=genomes):\n",
    "        for i in range(len(files)):\n",
    "            for seq in SeqIO.parse(os.path.join(datapath, files[i]), 'fasta'):\n",
    "                genomes[i].append(str(seq.seq))\n",
    "                seqnames[i].append(str(seq.id))\n",
    "                \n",
    "            assert len(seqnames[i]) == len(set(seqnames[i])), \"Duplicates in file \"+files[i]\n",
    "            \n",
    "    loadRealGenomes() # do not use magic commands here or loadRealGenomes might be called mutliple times!\n",
    "    \n",
    "    # load pickled Q to save time\n",
    "    Qfile = os.path.join(datapath, \"backgroundAAFreqs.pkl4\")\n",
    "    if not os.path.isfile(Qfile):\n",
    "        print(\"Getting Q\")\n",
    "        %time Q = seq.backGroundAAFreqs(genomes, True)\n",
    "        with open(Qfile, 'wb') as fh:\n",
    "            pickle.dump(Q, fh, protocol=4)\n",
    "            \n",
    "    else:\n",
    "        with open(Qfile, 'rb') as fh:\n",
    "            Q = pickle.load(fh)\n",
    "            \n",
    "if use_real_data:\n",
    "    genomes = []\n",
    "    seqnames = []\n",
    "    for seq in SeqIO.parse('combined.fasta', 'fasta'):\n",
    "        genomes.append([str(seq.seq)])\n",
    "        seqnames.append([str(seq.id)])"
   ]
  },
  {
   "cell_type": "code",
   "execution_count": 19,
   "metadata": {},
   "outputs": [
    {
     "name": "stdout",
     "output_type": "stream",
     "text": [
      "background freqs:  550838.0 *\n",
      "C 0.0381\n",
      "K 0.0298\n",
      "E 0.0395\n",
      "W 0.0249\n",
      "T 0.0509\n",
      "G 0.0936\n",
      "Y 0.0104\n",
      "A 0.0736\n",
      "I 0.0224\n",
      "N 0.0180\n",
      "V 0.0508\n",
      "H 0.0326\n",
      "S 0.0985\n",
      "D 0.0252\n",
      "F 0.0275\n",
      "M 0.0130\n",
      "R 0.0761\n",
      "L 0.1036\n",
      "P 0.0936\n",
      "Q 0.0468\n",
      "* 0.0314\n"
     ]
    }
   ],
   "source": [
    "if use_real_data:  \n",
    "    # set Q to Felix' values\n",
    "    #Q = aadist.getBackgroundDist()\n",
    "    Q = seq.backGroundAAFreqs(genomes, True)\n",
    "    #print(Q)"
   ]
  },
  {
   "cell_type": "code",
   "execution_count": 20,
   "metadata": {},
   "outputs": [],
   "source": [
    "if use_sim_data:\n",
    "    Q = seq.backGroundAAFreqs(genomes, True)\n",
    "    #Q = aadist.getBackgroundDist()\n",
    "    #Q = np.ones(21, dtype=np.float32)/21\n",
    "    print(Q)"
   ]
  },
  {
   "cell_type": "code",
   "execution_count": 21,
   "metadata": {},
   "outputs": [],
   "source": [
    "if use_toy_data:\n",
    "    # uniform background distribution appears to be rather better\n",
    "    Q = np.ones(21, dtype=np.float32)/21\n",
    "    print(Q)"
   ]
  },
  {
   "cell_type": "code",
   "execution_count": 22,
   "metadata": {},
   "outputs": [
    {
     "name": "stdout",
     "output_type": "stream",
     "text": [
      "103 1 1860\n"
     ]
    }
   ],
   "source": [
    "print(len(genomes), len(genomes[0]), len(genomes[0][0]))"
   ]
  },
  {
   "cell_type": "markdown",
   "metadata": {},
   "source": [
    "---\n",
    "\n",
    "#### Interlude: Magic Commands\n",
    "\n",
    "https://towardsdatascience.com/speed-up-jupyter-notebooks-20716cbe2025\n",
    "\n",
    "`%time command` prints runtime of command  \n",
    "`%prun command` profiler for command, what steps take how much time? Adds overhead  \n",
    "`%memit command` peak memory usage and memory increment  \n",
    "`%mprun command` memory profiling\n",
    "\n",
    "---"
   ]
  },
  {
   "cell_type": "markdown",
   "metadata": {},
   "source": [
    "#### Read in the genome"
   ]
  },
  {
   "cell_type": "code",
   "execution_count": 23,
   "metadata": {},
   "outputs": [],
   "source": [
    "tile_size = 334  # tile size measured in amino acids"
   ]
  },
  {
   "cell_type": "code",
   "execution_count": 24,
   "metadata": {},
   "outputs": [
    {
     "data": {
      "text/plain": [
       "'GCTCCCTTCGCCCTGCTGGCGCACCCCCGAGTTCCCCCGTATTGAGTGTTGTCTCACTGAGTCGAGAAGGTGGGGGGATGTGGAGAGACAGTGCAGTGGT'"
      ]
     },
     "execution_count": 24,
     "metadata": {},
     "output_type": "execute_result"
    }
   ],
   "source": [
    "genomes[0][0][0:100]"
   ]
  },
  {
   "cell_type": "code",
   "execution_count": 25,
   "metadata": {
    "scrolled": true
   },
   "outputs": [],
   "source": [
    "# disable until something changed here, no need to test every time\n",
    "if False:\n",
    "    dsg.testGenerator(genomes, 5, tile_size, 50000)"
   ]
  },
  {
   "cell_type": "code",
   "execution_count": 26,
   "metadata": {},
   "outputs": [
    {
     "name": "stdout",
     "output_type": "stream",
     "text": [
      "[1860, 4136, 4584, 2555, 2662, 4223, 4352, 4295, 4291, 4514, 4218, 5034, 4229, 2486, 1488, 2557, 4628, 517, 2867, 1422, 3654, 2489, 2895, 3826, 1265, 4330, 4373, 3923, 4053, 3467, 3854, 4050, 7380, 2732, 3279, 4060, 1651, 3121, 3959, 2028, 4632, 2351, 1653, 4230, 2792, 4793, 3689, 5587, 4261, 3323, 1416, 4243, 1678, 4363, 3400, 1682, 1736, 801, 3259, 4197, 3463, 4245, 2055, 768, 4103, 1684, 2705, 4109, 4208, 4221, 4039, 3055, 4468, 4353, 3977, 2545, 3119, 4203, 1653, 3951, 4219, 4206, 5017, 2840, 2561, 1650, 572, 3401, 4206, 4735, 3836, 3772, 3985, 1340, 4773, 3330, 3801, 4477, 4949, 2779, 4882, 4178, 693]  ->  1\n"
     ]
    }
   ],
   "source": [
    "genome_sizes = [sum([len(s) for s in genome]) for genome in genomes]\n",
    "batch_size = 1  # number of X to generate per batch\n",
    "tiles_per_X = 13 # number of tiles per X (-> X.shape[0])\n",
    "steps_per_epoch = max(1, np.mean(genome_sizes) // (batch_size*tiles_per_X*tile_size*3))\n",
    "print(genome_sizes, \" -> \", steps_per_epoch)"
   ]
  },
  {
   "cell_type": "markdown",
   "metadata": {},
   "source": [
    "## TensorFlow Model\n",
    "Let $$P = (P[w,c,u]) \\in [0,1]^{k \\times 21 \\times U}$$\n",
    "be a collection of $U$ amino acid **profiles**, each of length $k$.\n",
    "Let $$ Q = (Q[c]) \\in [0,1]^{21}$$ be a background amino acid distribution.\n",
    "\n",
    "Both are normalized distributions:\n",
    "$$ \\sum_c P[w,c,u] = \\sum_c Q[c] = 1 \\qquad \\forall u,w.$$\n",
    "\n",
    "Define the scores tensor \n",
    "$$ S \\in \\mathbb{R}^ {B\\times N \\times U}$$\n",
    "by\n",
    "$$ S[b,g,u] = \\max_{f=0}^5 \\max_{v=0}^{T-k} \\sum_{w=0}^{k-1} \\sum_{c=0}^{20} X[b,g,f,v+w,c] \\cdot \\ln \\frac {P[w,c,u]}{Q[c]}.$$\n",
    "\n",
    "For a given batch $S[b,g,u]$ is the maximal score that the $u$-th profile scores in the $b$-th tile of genome $g$.\n",
    "It can be computed using a **one dimensional convolution** and max pooling.\n",
    "\n",
    "Define the intermediate variables:\n",
    "\n",
    "$R \\in [0,1]^{k \\times 21 \\times U}$ by \n",
    "$$ R[w,c,u] := \\ln \\frac {P[w,c,u]}{Q[c]}.$$\n",
    "\n",
    "$Z \\in \\mathbb{R}^{B\\times N \\times 6 \\times T-k-1\\times U}$ by\n",
    "$$Z[b,g,f,v,u] := \\sum_{w=0}^{k-1} \\sum_{c=0}^{20} X[b,g,f,v+w,c] \\cdot R[w,c,u].$$\n",
    "\n",
    "**Losses:**\n",
    "Only the best score counts for each frame and tile. Sum them up.\n",
    "$$L_1 = - \\sum_{b=1}^B \\sum_{g=1}^G \\sum_{u=1}^U S[b,g,u]$$ "
   ]
  },
  {
   "cell_type": "code",
   "execution_count": 31,
   "metadata": {},
   "outputs": [],
   "source": [
    "U = 200 #1500 #200 # number of profiles to train\n",
    "k = 20 #20 # length of profiles\n",
    "s = 0 #6 # shift to both sides\n",
    "alpha = 1e-6 # loss norm\n",
    "gamma = 1#0.4  # softmax scale\n",
    "l2 = 0.1 # L2 reg factor\n",
    "match_score_factor = 0.7\n",
    "learning_rate = 2 #0.01 # 1.0\n",
    "rho = 0 #0.5 # influence of initial sampling position on profile initialization\n",
    "sigma = 1 #0.1 # stddev of random normal values added to profile initialization (mean 0)\n",
    "profile_plateau_dev = 150\n",
    "\n",
    "n_best_profiles=2\n",
    "lossStrategy = 'experiment' #'score' #'experiment' #'softmax'"
   ]
  },
  {
   "cell_type": "code",
   "execution_count": 35,
   "metadata": {},
   "outputs": [],
   "source": [
    "N = len(genomes)"
   ]
  },
  {
   "cell_type": "code",
   "execution_count": 32,
   "metadata": {},
   "outputs": [],
   "source": [
    "if use_sim_data:\n",
    "    print(\"[DEBUG] >>> setting parameters for simulated data\")\n",
    "    U = 200 #1500 #200 # number of profiles to train\n",
    "    k = 20 #20 # length of profiles\n",
    "    s = 0 #6 # shift to both sides\n",
    "    alpha = 1e-6 # loss norm\n",
    "    gamma = 1#0.4  # softmax scale\n",
    "    l2 = 0.01 # L2 reg factor\n",
    "    match_score_factor = 0.7\n",
    "    learning_rate = 2 # 0.5\n",
    "    rho = 0 #0.5 # influence of initial sampling position on profile initialization\n",
    "    sigma = 1 #0.1 # stddev of random normal values added to profile initialization (mean 0)\n",
    "    profile_plateau_dev = 150\n",
    "\n",
    "    n_best_profiles=2\n",
    "    lossStrategy = 'experiment' #'score' #'experiment' #'softmax'"
   ]
  },
  {
   "cell_type": "code",
   "execution_count": 33,
   "metadata": {
    "scrolled": true
   },
   "outputs": [
    {
     "name": "stdout",
     "output_type": "stream",
     "text": [
      "<module 'model' from '/home/jovyan/brain/genomegraph/learn_specific_profiles/modules/model.py'>\n"
     ]
    }
   ],
   "source": [
    "print(importlib.reload(model))"
   ]
  },
  {
   "cell_type": "code",
   "execution_count": 39,
   "metadata": {},
   "outputs": [
    {
     "name": "stdout",
     "output_type": "stream",
     "text": [
      "Threshold for mid kmers: 60\n",
      "Number of profiles: 2\n",
      "Tracking profiles: [0, 1] total: 2\n",
      "[INFO] >>> set n_best_profiles to 2\n"
     ]
    },
    {
     "data": {
      "image/png": "[encoded data removed]",
      "text/plain": [
       "<Figure size 1000x250 with 1 Axes>"
      ]
     },
     "metadata": {},
     "output_type": "display_data"
    },
    {
     "data": {
      "image/png": "[encoded data removed]",
      "text/plain": [
       "<Figure size 1000x250 with 1 Axes>"
      ]
     },
     "metadata": {},
     "output_type": "display_data"
    },
    {
     "data": {
      "image/png": "[encoded data removed]",
      "text/plain": [
       "<Figure size 1000x250 with 1 Axes>"
      ]
     },
     "metadata": {},
     "output_type": "display_data"
    },
    {
     "data": {
      "image/png": "[encoded data removed]",
      "text/plain": [
       "<Figure size 1000x250 with 1 Axes>"
      ]
     },
     "metadata": {},
     "output_type": "display_data"
    }
   ],
   "source": [
    "if True:\n",
    "    midK = 12\n",
    "    kmerCount = {}\n",
    "    for g in range(len(genomes)):\n",
    "        for c in range(len(genomes[g])):\n",
    "            translated = su.six_frame_translation(genomes[g][c])\n",
    "            for f in range(len(translated)):\n",
    "                seq = translated[f]\n",
    "                for i in range(len(seq)-midK+1):\n",
    "                    kmer = seq[i:i+midK]\n",
    "                    if (' ' not in kmer):\n",
    "                        if kmer not in kmerCount:\n",
    "                            #kmerCount[kmer] = 0\n",
    "                            kmerCount[kmer] = [] # store occs\n",
    "\n",
    "                        #kmerCount[kmer] += 1\n",
    "                        pos = su.convert_six_frame_position(i, f, len(genomes[g][c]), dna_to_aa=False)\n",
    "                        assert 0 <= pos and pos < len(genomes[g][c]), \"{} is not in [0,{})\".format(pos, len(genomes[g][c]))\n",
    "                        kmerCount[kmer].append((g,c,pos))\n",
    "                        \n",
    "    #midthresh = min(8, max(set([kmerCount[kmer] for kmer in kmerCount]))) # with higher mutation rates, 8 occurrences not always reached\n",
    "    midthresh = min(N, max(set([len(kmerCount[kmer]) for kmer in kmerCount]))) # with higher mutation rates, N occurrences not always reached\n",
    "    print(\"Threshold for mid kmers: {}\".format(midthresh))\n",
    "                        \n",
    "    #midKmers = [kmer for kmer in kmerCount if kmerCount[kmer] >= midthresh]\n",
    "    midKmers = [kmer for kmer in kmerCount if len(kmerCount[kmer]) >= midthresh]\n",
    "    kmerPositions = []\n",
    "    for kmer in midKmers:\n",
    "        kmerPositions.extend(kmerCount[kmer])\n",
    "        \n",
    "    print(\"Number of profiles:\", len(midKmers))\n",
    "    #trackProfiles = stuff.checkKmers(genomes, posDict, midKmers)\n",
    "    trackProfiles = [0, 1]\n",
    "    if len(trackProfiles) == 0:\n",
    "        print(\"[WARNING] >>> No profile spans all genes, tracking all profiles\")\n",
    "        trackProfiles = list(range(len(midKmers)))\n",
    "        \n",
    "    print(\"Tracking profiles:\", trackProfiles, \"total: {}\".format(len(trackProfiles)))\n",
    "    exhaustiveInitProfiles = ipe.getCustomMidProfiles(midKmers, k+(2*s), Q, #mid_factor=0.5, bg_factor=0.5)\n",
    "                                                      mid_factor=4, bg_factor=1)\n",
    "                                                      #mid_factor=100, bg_factor=0)\n",
    "    \n",
    "    #exhaustiveInitProfiles = ipe.getExhaustiveProfiles(k+(2*s), Q,#aadist.getBackgroundDist(), \n",
    "    #                                                   mid_factor=0.5, bg_factor=0.5, exp=2)#, mu=1, sigma=1/21)\n",
    "    \n",
    "    n_best_profiles = min(n_best_profiles, exhaustiveInitProfiles.shape[2])\n",
    "    print(\"[INFO] >>> set n_best_profiles to {}\".format(n_best_profiles))\n",
    "    \n",
    "    if False:\n",
    "        # add an all-Q profile to the beginning\n",
    "        allQprofile = np.repeat([np.array(Q, dtype=np.float32)], repeats=k, axis=0) # all-Q profile\n",
    "        allQprofile = np.expand_dims(allQprofile, 2)\n",
    "        exhaustiveInitProfiles = np.concatenate([allQprofile, exhaustiveInitProfiles], axis=2)\n",
    "        trackProfiles = [i+1 for i in trackProfiles] # update tracking indices\n",
    "    \n",
    "    U = exhaustiveInitProfiles.shape[2]\n",
    "    plotting.plotLogo(tf.constant(exhaustiveInitProfiles))\n",
    "    plotting.plotLogo(tf.nn.softmax(tf.constant(exhaustiveInitProfiles), axis=1))\n",
    "    \n",
    "    # plot genes and kmer positions\n",
    "    #plotting.drawGeneLinks_simData(genomes, [], posDict, kmerSites=kmerPositions, kmerCol='deeppink', imname=None)\n",
    "    \n",
    "else:\n",
    "    exhaustiveInitProfiles = None\n",
    "    trackProfiles = None"
   ]
  },
  {
   "cell_type": "code",
   "execution_count": 40,
   "metadata": {},
   "outputs": [
    {
     "name": "stdout",
     "output_type": "stream",
     "text": [
      "[DEBUG] >>> setting tf global seed to 42\n",
      "[DEBUG] >>> using softmaxLoss: False // using experimentLoss: True\n",
      "[DEBUG] >>> Using P_logit_init from arguments instead of random\n"
     ]
    }
   ],
   "source": [
    "# build and randomly initialize profile model\n",
    "tf.keras.backend.clear_session() # avoid memory cluttering by remains of old models\n",
    "specProModel = None\n",
    "specProModel = model.SpecificProfile(k, su.aa_alphabet_size, U, Q, \n",
    "                                     alpha=alpha, gamma=gamma, l2=l2, \n",
    "                                     shift=s, loss=lossStrategy, P_logit_init=exhaustiveInitProfiles, \n",
    "                                     track_profiles=trackProfiles, rand_seed=SEED)"
   ]
  },
  {
   "cell_type": "markdown",
   "metadata": {},
   "source": [
    "### Training Set"
   ]
  },
  {
   "cell_type": "code",
   "execution_count": 41,
   "metadata": {},
   "outputs": [],
   "source": [
    "if exhaustiveInitProfiles is None:\n",
    "    %time P_logit_init = specProModel.seed_P_genome(genomes, rho=rho, sigma=sigma)\n",
    "    specProModel.setP_logit(P_logit_init)"
   ]
  },
  {
   "cell_type": "markdown",
   "metadata": {},
   "source": [
    "### Training"
   ]
  },
  {
   "cell_type": "code",
   "execution_count": 42,
   "metadata": {},
   "outputs": [],
   "source": [
    "trainingWithReporting = True"
   ]
  },
  {
   "cell_type": "code",
   "execution_count": 43,
   "metadata": {},
   "outputs": [],
   "source": [
    "dsh = dsg.DatasetHelper(genomes, tiles_per_X, tile_size, batch_size, 3)"
   ]
  },
  {
   "cell_type": "markdown",
   "metadata": {},
   "source": [
    "toy_data:\n",
    "\n",
    "    print(np.mean(bestlosshist[340:350]))\n",
    "    print(np.std(bestlosshist[340:350]))\n",
    "    print([v-np.mean(bestlosshist[340:350]) for v in bestlosshist[340:350]])\n",
    "\n",
    "    -156128.95\n",
    "    0.21841492\n",
    "    [0.390625, 0.3125, 0.140625, 0.09375, 0.015625, -0.078125, -0.109375, -0.140625, -0.25, -0.3125]\n",
    "\n",
    "\n",
    "sim_data: best loss plateau should be fine to use 1/1000 * mean as a threshold"
   ]
  },
  {
   "cell_type": "code",
   "execution_count": 44,
   "metadata": {},
   "outputs": [
    {
     "data": {
      "text/plain": [
       "0.7"
      ]
     },
     "execution_count": 44,
     "metadata": {},
     "output_type": "execute_result"
    }
   ],
   "source": [
    "match_score_factor"
   ]
  },
  {
   "cell_type": "code",
   "execution_count": 45,
   "metadata": {},
   "outputs": [
    {
     "name": "stderr",
     "output_type": "stream",
     "text": [
      "2023-04-14 11:53:56.870313: I tensorflow/stream_executor/cuda/cuda_dnn.cc:384] Loaded cuDNN version 8100\n",
      "2023-04-14 11:53:57.605855: I tensorflow/core/platform/default/subprocess.cc:304] Start cannot spawn child process: No such file or directory\n",
      "2023-04-14 11:53:57.606296: I tensorflow/core/platform/default/subprocess.cc:304] Start cannot spawn child process: No such file or directory\n",
      "2023-04-14 11:53:57.606313: W tensorflow/stream_executor/gpu/asm_compiler.cc:80] Couldn't get ptxas version string: INTERNAL: Couldn't invoke ptxas --version\n",
      "2023-04-14 11:53:57.606842: I tensorflow/core/platform/default/subprocess.cc:304] Start cannot spawn child process: No such file or directory\n",
      "2023-04-14 11:53:57.606889: W tensorflow/stream_executor/gpu/redzone_allocator.cc:314] INTERNAL: Failed to launch ptxas\n",
      "Relying on driver to perform ptx compilation. \n",
      "Modify $PATH to customize ptxas location.\n",
      "This message will be only logged once.\n"
     ]
    },
    {
     "name": "stdout",
     "output_type": "stream",
     "text": [
      "[DEBUG] >>> nan in P: Tensor(\"cond/Any:0\", shape=(2,), dtype=bool) Tensor(\"cond/boolean_mask/GatherV2:0\", shape=(20, 21, None), dtype=float32)\n",
      "[DEBUG] >>> Q: [0.03807653 0.029771   0.03954702 0.02487846 0.05089518 0.09361373\n",
      " 0.01036602 0.07362056 0.02235503 0.01798532 0.05078081 0.03261576\n",
      " 0.09852625 0.02515259 0.02747995 0.01298385 0.07606047 0.10355131\n",
      " 0.09361555 0.0467524  0.0313722 ]\n",
      "[DEBUG] >>> nan in R\n",
      "[DEBUG] >>> nan in X\n",
      "[DEBUG] >>> nan in Z\n",
      "[DEBUG] >>> nan in P: Tensor(\"cond/Any:0\", shape=(2,), dtype=bool) Tensor(\"cond/boolean_mask/GatherV2:0\", shape=(20, 21, None), dtype=float32)\n",
      "[DEBUG] >>> Q: [0.03807653 0.029771   0.03954702 0.02487846 0.05089518 0.09361373\n",
      " 0.01036602 0.07362056 0.02235503 0.01798532 0.05078081 0.03261576\n",
      " 0.09852625 0.02515259 0.02747995 0.01298385 0.07606047 0.10355131\n",
      " 0.09361555 0.0467524  0.0313722 ]\n",
      "[DEBUG] >>> nan in R\n",
      "[DEBUG] >>> nan in X\n",
      "[DEBUG] >>> nan in Z\n",
      "epoch 0 best profile 0 with mean loss -10037325.0\n",
      "epoch     0 profile loss sum = -8110.5898 max R: 3.992 min R: -5.766 time: 2.63\n",
      "[INFO] >>> Loss did not decrease for 5 epochs, reducing learning rate from 2 to 1.5\n",
      "[DEBUG] >>> Setting learning rate to 1.5\n",
      "epoch 10 best profile 0 with mean loss -10558738.0\n",
      "epoch    10 profile loss sum = -8637.9980 max R: 3.995 min R: -13.816 time: 17.98\n",
      "epoch 20 best profile 0 with mean loss -10731355.0\n",
      "epoch    20 profile loss sum = -8780.1738 max R: 4.000 min R: -13.816 time: 33.31\n",
      "epoch 30 best profile 0 with mean loss -10870765.0\n",
      "epoch    30 profile loss sum = -8884.5879 max R: 3.999 min R: -13.816 time: 48.68\n",
      "epoch 40 best profile 0 with mean loss -10946772.0\n",
      "epoch    40 profile loss sum = -8945.3496 max R: 3.998 min R: -13.816 time: 63.92\n",
      "epoch 50 best profile 0 with mean loss -10988544.0\n",
      "epoch    50 profile loss sum = -8979.5664 max R: 3.997 min R: -13.816 time: 79.24\n",
      "epoch 60 best profile 0 with mean loss -11016377.0\n",
      "epoch    60 profile loss sum = -9001.2969 max R: 3.996 min R: -13.816 time: 94.65\n",
      "epoch 70 best profile 0 with mean loss -11033482.0\n",
      "epoch    70 profile loss sum = -9015.4160 max R: 3.996 min R: -13.816 time: 110.06\n",
      "epoch 80 best profile 0 with mean loss -11041314.0\n",
      "epoch    80 profile loss sum = -9022.3223 max R: 3.996 min R: -13.816 time: 125.42\n",
      "epoch 90 best profile 0 with mean loss -11044181.0\n",
      "epoch    90 profile loss sum = -9025.0537 max R: 3.996 min R: -13.816 time: 140.71\n",
      "epoch 100 best profile 0 with mean loss -11045336.0\n",
      "epoch   100 profile loss sum = -9026.2246 max R: 3.995 min R: -13.816 time: 156.12\n",
      "epoch 108 best profile 0 with mean loss -11045712.0\n",
      "cleaning up profile 0\n",
      "[DEBUG] >>> Resetting training\n",
      "[DEBUG] >>> Setting learning rate to 2.0\n",
      "epoch 110 best profile 1 with mean loss -2041160.5\n",
      "epoch   110 profile loss sum = -1670.1761 max R: 4.171 min R: -6.013 time: 175.04\n",
      "[INFO] >>> Loss did not decrease for 5 epochs, reducing learning rate from 2.0 to 1.5\n",
      "[DEBUG] >>> Setting learning rate to 1.5\n",
      "epoch 120 best profile 0 with mean loss -2898530.5\n",
      "epoch   120 profile loss sum = -2219.4888 max R: 3.831 min R: -13.816 time: 190.41\n",
      "epoch 130 best profile 0 with mean loss -3201896.5\n",
      "epoch   130 profile loss sum = -2631.1567 max R: 3.872 min R: -13.816 time: 205.83\n",
      "epoch 140 best profile 1 with mean loss -3385465.5\n",
      "epoch   140 profile loss sum = -2775.8018 max R: 3.978 min R: -13.816 time: 221.31\n",
      "epoch 150 best profile 0 with mean loss -3537380.2\n",
      "epoch   150 profile loss sum = -2902.7695 max R: 3.957 min R: -13.816 time: 236.75\n",
      "epoch 160 best profile 0 with mean loss -3632720.5\n",
      "epoch   160 profile loss sum = -2957.3604 max R: 3.861 min R: -13.816 time: 252.17\n",
      "epoch 170 best profile 0 with mean loss -3791212.0\n",
      "epoch   170 profile loss sum = -3031.7485 max R: 3.842 min R: -13.816 time: 267.60\n",
      "epoch 180 best profile 0 with mean loss -3815135.2\n",
      "epoch   180 profile loss sum = -3044.5420 max R: 3.830 min R: -13.816 time: 283.09\n",
      "epoch 190 best profile 0 with mean loss -3825817.5\n",
      "epoch   190 profile loss sum = -3053.7578 max R: 3.853 min R: -13.816 time: 298.57\n",
      "epoch 200 best profile 0 with mean loss -4284125.5\n",
      "epoch   200 profile loss sum = -3260.7563 max R: 3.729 min R: -13.816 time: 314.03\n",
      "epoch 210 best profile 0 with mean loss -4645187.0\n",
      "epoch   210 profile loss sum = -3416.2598 max R: 3.663 min R: -13.816 time: 329.49\n",
      "epoch 220 best profile 0 with mean loss -4764416.5\n",
      "epoch   220 profile loss sum = -3467.8782 max R: 4.125 min R: -13.816 time: 344.90\n",
      "epoch 230 best profile 0 with mean loss -4929684.0\n",
      "epoch   230 profile loss sum = -3586.9390 max R: 3.747 min R: -13.816 time: 360.40\n",
      "epoch 240 best profile 0 with mean loss -4961938.0\n",
      "epoch   240 profile loss sum = -3635.0962 max R: 3.926 min R: -13.771 time: 375.87\n",
      "epoch 250 best profile 0 with mean loss -4974791.0\n",
      "epoch   250 profile loss sum = -3653.1777 max R: 3.874 min R: -13.140 time: 391.35\n",
      "epoch 260 best profile 0 with mean loss -4980464.5\n",
      "epoch   260 profile loss sum = -3657.2126 max R: 3.871 min R: -12.977 time: 406.84\n",
      "epoch 270 best profile 0 with mean loss -4983132.5\n",
      "epoch   270 profile loss sum = -3679.8271 max R: 3.870 min R: -13.336 time: 422.29\n",
      "[INFO] >>> Loss did not decrease for 5 epochs, reducing learning rate from 1.5 to 1.125\n",
      "[DEBUG] >>> Setting learning rate to 1.125\n",
      "epoch 280 best profile 0 with mean loss -4989849.5\n",
      "epoch   280 profile loss sum = -3692.2637 max R: 3.858 min R: -13.723 time: 437.83\n",
      "epoch 290 best profile 0 with mean loss -4994709.5\n",
      "epoch   290 profile loss sum = -3695.7290 max R: 3.843 min R: -13.415 time: 453.31\n",
      "[INFO] >>> Loss did not decrease for 5 epochs, reducing learning rate from 1.125 to 0.84375\n",
      "[DEBUG] >>> Setting learning rate to 0.84375\n",
      "epoch 300 best profile 0 with mean loss -4995400.5\n",
      "epoch   300 profile loss sum = -3697.4912 max R: 3.861 min R: -13.268 time: 468.77\n",
      "epoch 310 best profile 0 with mean loss -4996013.5\n",
      "epoch   310 profile loss sum = -3698.2676 max R: 3.857 min R: -13.351 time: 484.24\n",
      "epoch 320 best profile 0 with mean loss -4997978.0\n",
      "epoch   320 profile loss sum = -3699.3110 max R: 3.848 min R: -13.361 time: 500.21\n",
      "[INFO] >>> Loss did not decrease for 5 epochs, reducing learning rate from 0.84375 to 0.6328125\n",
      "[DEBUG] >>> Setting learning rate to 0.6328125\n",
      "epoch 330 best profile 0 with mean loss -4999211.5\n",
      "epoch   330 profile loss sum = -3699.9299 max R: 3.848 min R: -13.316 time: 516.11\n",
      "epoch 338 best profile 0 with mean loss -4999246.5\n",
      "cleaning up profile 0\n",
      "[DEBUG] >>> Resetting training\n",
      "[DEBUG] >>> Setting learning rate to 2.0\n",
      "[INFO] >>> Loss did not decrease for 5 epochs, reducing learning rate from 2.0 to 1.5\n",
      "[DEBUG] >>> Setting learning rate to 1.5\n",
      "time: 534.53\n"
     ]
    }
   ],
   "source": [
    "start = time()\n",
    "if trainingWithReporting:\n",
    "    specProModel.train_reporting(genomes, dsh, steps_per_epoch, epochs=350, \n",
    "                                 learning_rate=learning_rate, profile_plateau=10, profile_plateau_dev=profile_plateau_dev,\n",
    "                                 verbose_freq=10, n_best_profiles=n_best_profiles, match_score_factor=match_score_factor)\n",
    "else:\n",
    "    ds = dsh.getDataset(repeat=True)\n",
    "    specProModel.train_classic(ds, steps_per_epoch, epochs=350, learning_rate=learning_rate)\n",
    "    \n",
    "end = time()\n",
    "print(f\"time: {end-start:.2f}\")"
   ]
  },
  {
   "cell_type": "code",
   "execution_count": 46,
   "metadata": {},
   "outputs": [
    {
     "data": {
      "image/png": "[encoded data removed]",
      "text/plain": [
       "<Figure size 640x480 with 1 Axes>"
      ]
     },
     "metadata": {},
     "output_type": "display_data"
    }
   ],
   "source": [
    "if len(specProModel.P_report):\n",
    "    plt.hist(tf.reshape(specProModel.getP_report_raw(), (-1)).numpy())\n",
    "else:\n",
    "    plt.hist(tf.reshape(specProModel.P_logit, (-1)).numpy())"
   ]
  },
  {
   "cell_type": "code",
   "execution_count": 47,
   "metadata": {},
   "outputs": [
    {
     "data": {
      "text/plain": [
       "TensorShape([339, 2])"
      ]
     },
     "execution_count": 47,
     "metadata": {},
     "output_type": "execute_result"
    }
   ],
   "source": [
    "specProModel.P_report_plosshist.shape"
   ]
  },
  {
   "cell_type": "code",
   "execution_count": 48,
   "metadata": {},
   "outputs": [
    {
     "data": {
      "text/plain": [
       "(array([211.,   7.,   0.,   0.,   0.,   0., 133., 238.,  71.,  18.]),\n",
       " array([-11045712.  , -10101842.  ,  -9157972.  ,  -8214102.5 ,\n",
       "         -7270233.  ,  -6326363.  ,  -5382493.  ,  -4438623.5 ,\n",
       "         -3494753.5 ,  -2550883.75,  -1607014.  ]),\n",
       " <BarContainer object of 10 artists>)"
      ]
     },
     "execution_count": 48,
     "metadata": {},
     "output_type": "execute_result"
    },
    {
     "data": {
      "image/png": "[encoded data removed]",
      "text/plain": [
       "<Figure size 640x480 with 1 Axes>"
      ]
     },
     "metadata": {},
     "output_type": "display_data"
    }
   ],
   "source": [
    "plt.hist(tf.reshape(specProModel.P_report_plosshist, (-1)).numpy())"
   ]
  },
  {
   "cell_type": "code",
   "execution_count": 49,
   "metadata": {},
   "outputs": [
    {
     "data": {
      "image/png": "[encoded data removed]",
      "text/plain": [
       "<Figure size 3840x2160 with 2 Axes>"
      ]
     },
     "metadata": {},
     "output_type": "display_data"
    }
   ],
   "source": [
    "plh = tf.transpose(specProModel.P_report_plosshist).numpy()\n",
    "#plh = plh + np.min(plh)\n",
    "#plhm = np.max(plh)\n",
    "#plh = plh * 255\n",
    "#plh = plh / plhm\n",
    "\n",
    "fig, ax = plt.subplots(1,1, figsize=(2*1920/100,2*1080/100), dpi=100)\n",
    "hm = ax.imshow(plh, interpolation = 'nearest', cmap=\"rainbow\")\n",
    "plt.colorbar(hm)\n",
    "fig.show()"
   ]
  },
  {
   "cell_type": "code",
   "execution_count": 50,
   "metadata": {},
   "outputs": [],
   "source": [
    "bestlosshist = [l.numpy() for l in specProModel.P_report_bestlosshist]\n",
    "bestlosshistIdx = [i.numpy() for i in specProModel.P_report_bestlosshistIdx]"
   ]
  },
  {
   "cell_type": "code",
   "execution_count": 51,
   "metadata": {},
   "outputs": [
    {
     "data": {
      "text/html": [
       "<iframe\n",
       "    scrolling=\"no\"\n",
       "    width=\"100%\"\n",
       "    height=\"545px\"\n",
       "    src=\"iframe_figures/figure_51.html\"\n",
       "    frameborder=\"0\"\n",
       "    allowfullscreen\n",
       "></iframe>\n"
      ]
     },
     "metadata": {},
     "output_type": "display_data"
    }
   ],
   "source": [
    "import plotly.express as px\n",
    "\n",
    "px.scatter(x = list(range(len(bestlosshist))),\n",
    "           y = bestlosshist, \n",
    "           color = bestlosshistIdx)"
   ]
  },
  {
   "cell_type": "code",
   "execution_count": 52,
   "metadata": {},
   "outputs": [
    {
     "data": {
      "text/html": [
       "<iframe\n",
       "    scrolling=\"no\"\n",
       "    width=\"100%\"\n",
       "    height=\"545px\"\n",
       "    src=\"iframe_figures/figure_52.html\"\n",
       "    frameborder=\"0\"\n",
       "    allowfullscreen\n",
       "></iframe>\n"
      ]
     },
     "metadata": {},
     "output_type": "display_data"
    }
   ],
   "source": [
    "c = 0\n",
    "bincol = [c]\n",
    "for i in range(1,len(bestlosshistIdx)):\n",
    "    if bestlosshistIdx[i] != bestlosshistIdx[i-1]:\n",
    "        c += 1\n",
    "        \n",
    "    bincol.append(c)\n",
    "\n",
    "bincol = [c%2 for c in bincol]\n",
    "\n",
    "px.scatter(x = list(range(len(bestlosshist))),\n",
    "           y = bestlosshist, \n",
    "           color=bincol)"
   ]
  },
  {
   "cell_type": "code",
   "execution_count": 53,
   "metadata": {},
   "outputs": [
    {
     "name": "stdout",
     "output_type": "stream",
     "text": [
      "-11007596.0\n",
      "7400.157\n",
      "[12407.0, 9246.0, 6283.0, 3325.0, 532.0, -1788.0, -3886.0, -6241.0, -8781.0, -11092.0]\n"
     ]
    },
    {
     "data": {
      "image/png": "[encoded data removed]",
      "text/plain": [
       "<Figure size 640x480 with 1 Axes>"
      ]
     },
     "metadata": {},
     "output_type": "display_data"
    }
   ],
   "source": [
    "blhwindow = bestlosshist[52:62]\n",
    "plt.hist(blhwindow)\n",
    "print(np.mean(blhwindow))\n",
    "print(np.std(blhwindow))\n",
    "print([v-np.mean(blhwindow) for v in blhwindow])"
   ]
  },
  {
   "cell_type": "code",
   "execution_count": 54,
   "metadata": {},
   "outputs": [],
   "source": [
    "#tf.reduce_sum(tf.math.square(specProModel.P_logit), axis=[0,1]) / specProModel.P_logit.shape[0] * l2"
   ]
  },
  {
   "cell_type": "code",
   "execution_count": 55,
   "metadata": {},
   "outputs": [],
   "source": [
    "#tf.reduce_sum(specProModel.P_logit, axis=[0,1]) #* 0.001"
   ]
  },
  {
   "cell_type": "code",
   "execution_count": 56,
   "metadata": {},
   "outputs": [],
   "source": [
    "#specProModel.P_logit[:,:,0]\n",
    "#specProModel.getP_report_raw()[:,:,1]"
   ]
  },
  {
   "cell_type": "code",
   "execution_count": 57,
   "metadata": {},
   "outputs": [
    {
     "data": {
      "text/plain": [
       "(<Figure size 1500x600 with 2 Axes>,\n",
       " array([<AxesSubplot: title={'center': 'Training loss'}>,\n",
       "        <AxesSubplot: title={'center': 'Training R and S'}>], dtype=object))"
      ]
     },
     "execution_count": 57,
     "metadata": {},
     "output_type": "execute_result"
    },
    {
     "data": {
      "image/png": "[encoded data removed]",
      "text/plain": [
       "<Figure size 1500x600 with 2 Axes>"
      ]
     },
     "metadata": {},
     "output_type": "display_data"
    }
   ],
   "source": [
    "#if trainingWithReporting:\n",
    "plotting.plotHistory(specProModel.history)"
   ]
  },
  {
   "cell_type": "code",
   "execution_count": 58,
   "metadata": {},
   "outputs": [
    {
     "name": "stdout",
     "output_type": "stream",
     "text": [
      "loss -- type: <class 'tensorflow.python.trackable.data_structures.ListWrapper'> -- elem type: <class 'numpy.float32'>\n",
      "Rmax -- type: <class 'tensorflow.python.trackable.data_structures.ListWrapper'> -- elem type: <class 'numpy.float32'>\n",
      "Rmin -- type: <class 'tensorflow.python.trackable.data_structures.ListWrapper'> -- elem type: <class 'numpy.float32'>\n",
      "Smax -- type: <class 'tensorflow.python.trackable.data_structures.ListWrapper'> -- elem type: <class 'numpy.float32'>\n",
      "Smin -- type: <class 'tensorflow.python.trackable.data_structures.ListWrapper'> -- elem type: <class 'numpy.float32'>\n",
      "learning rate -- type: <class 'tensorflow.python.trackable.data_structures.ListWrapper'> -- elem type: <class 'int'>\n"
     ]
    }
   ],
   "source": [
    "for key in specProModel.history:\n",
    "    print(key, \"-- type:\", type(specProModel.history[key]), \"-- elem type:\", type(specProModel.history[key][0]))"
   ]
  },
  {
   "cell_type": "markdown",
   "metadata": {},
   "source": [
    "### Visualize resulting profiles as sequence logos"
   ]
  },
  {
   "cell_type": "code",
   "execution_count": 59,
   "metadata": {},
   "outputs": [],
   "source": [
    "if len(specProModel.P_report_discarded) > 0:\n",
    "    Pedge = tf.nn.softmax(tf.transpose(specProModel.P_report_discarded, [1,2,0]), axis=1)\n",
    "    print(\"Edge cases:\")\n",
    "    plotLogo(Pedge)"
   ]
  },
  {
   "cell_type": "code",
   "execution_count": 60,
   "metadata": {},
   "outputs": [
    {
     "data": {
      "image/png": "[encoded data removed]",
      "text/plain": [
       "<Figure size 1000x250 with 1 Axes>"
      ]
     },
     "metadata": {},
     "output_type": "display_data"
    },
    {
     "data": {
      "image/png": "[encoded data removed]",
      "text/plain": [
       "<Figure size 1000x250 with 1 Axes>"
      ]
     },
     "metadata": {},
     "output_type": "display_data"
    }
   ],
   "source": [
    "if trainingWithReporting:\n",
    "    printExpectedPatterns()\n",
    "    P, Pthresh, Ploss = specProModel.getP_report()\n",
    "    Pwhole, PwholeScore, PwholeLoss = specProModel.getP_report_whole()\n",
    "    plotting.plotLogo(P=P, pScores=np.array(Pthresh)/match_score_factor, pLosses=Ploss, max_print=10)#, label=\"Score Threshold\")\n",
    "    #plotLogo(P=Pwhole, pScores=PwholeScore, pLosses=PwholeLoss, max_print=10)#, label=\"Score Threshold\")\n",
    "    \n",
    "else:\n",
    "    ds_score = dsg.getDataset(genomes, tiles_per_X, tile_size).batch(batch_size).prefetch(3)\n",
    "    printExpectedPatterns()\n",
    "    P = specProModel.getP()\n",
    "    pScores = specProModel.max_profile_scores(ds_score)\n",
    "    #plotLogo(P=P, idxarray = np.argsort(-pScores), pScores=pScores, max_print=20)\n",
    "    pLosses = specProModel.min_profile_losses(ds_score)\n",
    "    # sort after loss\n",
    "    plotting.plotLogo(P=P, idxarray = np.argsort(pLosses), pScores=pScores, pLosses=pLosses, max_print=5)#, label=\"loss\")\n",
    "    # sort after scores\n",
    "    #plotLogo(P=P, idxarray = np.argsort(pScores)[::-1], pScores=pScores, pLosses=pLosses, max_print=5)#, label=\"loss\")"
   ]
  },
  {
   "cell_type": "code",
   "execution_count": 61,
   "metadata": {},
   "outputs": [
    {
     "name": "stdout",
     "output_type": "stream",
     "text": [
      "237 3716 0.06377825618945102 0.09375\n"
     ]
    }
   ],
   "source": [
    "Rcount = 0\n",
    "sumlen = 0\n",
    "for s in su.six_frame_translation(genomes[0][0]):\n",
    "    Rcount += s.count('R')\n",
    "    sumlen += len(s)\n",
    "    \n",
    "print(Rcount, sumlen, Rcount/sumlen, 6/64)"
   ]
  },
  {
   "cell_type": "code",
   "execution_count": 62,
   "metadata": {},
   "outputs": [
    {
     "name": "stdout",
     "output_type": "stream",
     "text": [
      "profile 0 -- nsites: 88 // nlinks: 1\n",
      "profile 1 -- nsites: 14 // nlinks: 1\n"
     ]
    }
   ],
   "source": [
    "if trainingWithReporting:\n",
    "    for i in range(len(specProModel.P_report)):\n",
    "        print(\"profile\", i, \"-- nsites:\", len(specProModel.P_report_masked_sites[i]), \"// nlinks:\", specProModel.P_report_nlinks[i].numpy())"
   ]
  },
  {
   "cell_type": "code",
   "execution_count": 63,
   "metadata": {},
   "outputs": [],
   "source": [
    "if trainingWithReporting and False:\n",
    "    for s in specProModel.P_report_masked_sites[0]:\n",
    "        print(s[0])\n",
    "        g = s[1].numpy()\n",
    "        c = s[2].numpy()\n",
    "        a = s[3].numpy()\n",
    "        b = s[4].numpy()\n",
    "        print(genomes[g][c][a-5:b+5])"
   ]
  },
  {
   "cell_type": "code",
   "execution_count": 64,
   "metadata": {},
   "outputs": [],
   "source": [
    "import plotly.express as px\n",
    "\n",
    "if not trainingWithReporting:\n",
    "    fig = px.histogram(x=pLosses)\n",
    "    fig.show()\n",
    "\n",
    "    print(scipy.stats.describe(pLosses))\n",
    "    print(\"mean:\", np.mean(pLosses))\n",
    "    print(\"std: \", np.std(pLosses))\n",
    "    print(\"-Z: \", np.mean(pLosses)-np.std(pLosses))\n",
    "    print(\"-2Z:\", np.mean(pLosses)-2*np.std(pLosses))"
   ]
  },
  {
   "cell_type": "code",
   "execution_count": 65,
   "metadata": {},
   "outputs": [
    {
     "name": "stdout",
     "output_type": "stream",
     "text": [
      "profile 0 -- kmer scores: tf.Tensor([55.012825], shape=(1,), dtype=float32)\n",
      "profile 1 -- kmer scores: tf.Tensor([48.861153], shape=(1,), dtype=float32)\n"
     ]
    }
   ],
   "source": [
    "if trainingWithReporting:\n",
    "    for i in range(len(specProModel.P_report)):\n",
    "        print(\"profile\", i, \"-- kmer scores:\", specProModel.P_report_kmer_scores[i])\n",
    "        \n",
    "else:\n",
    "    printExpectedPatterns()\n",
    "    z = np.mean(pLosses)-np.std(pLosses) # more or less reasonable loss cutoff\n",
    "    P, scores, losses = specProModel.getP_optimal(dsh, z)\n",
    "    plotLogo(P=P, idxarray = np.argsort(losses), pScores=scores, pLosses=losses, max_print=5)#, label=\"loss\")"
   ]
  },
  {
   "cell_type": "code",
   "execution_count": 66,
   "metadata": {
    "tags": []
   },
   "outputs": [],
   "source": [
    "#if not trainingWithReporting:\n",
    "#    printExpectedPatterns()\n",
    "#    plotLogo(P=P, idxarray = np.argsort(-scores), pScores=scores, pLosses=losses, max_print=5)#, label=\"loss\")"
   ]
  },
  {
   "cell_type": "code",
   "execution_count": 67,
   "metadata": {},
   "outputs": [],
   "source": [
    "#assert False # stop if run all cells"
   ]
  },
  {
   "cell_type": "markdown",
   "metadata": {},
   "source": [
    "### Get Sensitivity and Specificity"
   ]
  },
  {
   "cell_type": "code",
   "execution_count": 68,
   "metadata": {},
   "outputs": [],
   "source": [
    "midK = 6\n",
    "kmerCount = {}\n",
    "for g in range(len(genomes)):\n",
    "    for c in range(len(genomes[g])):\n",
    "        for seq in su.six_frame_translation(genomes[g][c]):\n",
    "            for i in range(len(seq)-midK+1):\n",
    "                kmer = seq[i:i+midK]\n",
    "                if (' ' not in kmer):\n",
    "                    if kmer not in kmerCount:\n",
    "                        kmerCount[kmer] = 0\n",
    "\n",
    "                    kmerCount[kmer] += 1"
   ]
  },
  {
   "cell_type": "code",
   "execution_count": 69,
   "metadata": {},
   "outputs": [
    {
     "data": {
      "text/plain": [
       "353471"
      ]
     },
     "execution_count": 69,
     "metadata": {},
     "output_type": "execute_result"
    }
   ],
   "source": [
    "len(kmerCount)"
   ]
  },
  {
   "cell_type": "code",
   "execution_count": 70,
   "metadata": {},
   "outputs": [
    {
     "data": {
      "text/plain": [
       "79"
      ]
     },
     "execution_count": 70,
     "metadata": {},
     "output_type": "execute_result"
    }
   ],
   "source": [
    "maxbin = max([kmerCount[i] for i in kmerCount])\n",
    "maxbin"
   ]
  },
  {
   "cell_type": "code",
   "execution_count": 71,
   "metadata": {},
   "outputs": [
    {
     "data": {
      "image/png": "[encoded data removed]",
      "text/plain": [
       "<Figure size 640x480 with 1 Axes>"
      ]
     },
     "metadata": {},
     "output_type": "display_data"
    }
   ],
   "source": [
    "n, bins, _ = plt.hist(x = [kmerCount[i] for i in kmerCount], #if kmerCount[i] >= len(genomes)], \n",
    "                      bins = list(range(1, maxbin+1)))"
   ]
  },
  {
   "cell_type": "code",
   "execution_count": 72,
   "metadata": {},
   "outputs": [
    {
     "data": {
      "text/plain": [
       "78"
      ]
     },
     "execution_count": 72,
     "metadata": {},
     "output_type": "execute_result"
    }
   ],
   "source": [
    "len(n)"
   ]
  },
  {
   "cell_type": "code",
   "execution_count": 73,
   "metadata": {},
   "outputs": [
    {
     "name": "stdout",
     "output_type": "stream",
     "text": [
      "Cumulative number of profiles when kmer occurs >= bin times\n"
     ]
    },
    {
     "data": {
      "text/plain": [
       "[('1.0-2.0', 353471.0),\n",
       " ('2.0-3.0', 70071.0),\n",
       " ('3.0-4.0', 34767.0),\n",
       " ('4.0-5.0', 17960.0),\n",
       " ('5.0-6.0', 11536.0),\n",
       " ('6.0-7.0', 7241.0),\n",
       " ('7.0-8.0', 5082.0),\n",
       " ('8.0-9.0', 3492.0),\n",
       " ('9.0-10.0', 2295.0),\n",
       " ('10.0-11.0', 1553.0),\n",
       " ('11.0-12.0', 1053.0),\n",
       " ('12.0-13.0', 714.0),\n",
       " ('13.0-14.0', 521.0),\n",
       " ('14.0-15.0', 392.0),\n",
       " ('15.0-16.0', 295.0),\n",
       " ('16.0-17.0', 245.0),\n",
       " ('17.0-18.0', 204.0),\n",
       " ('18.0-19.0', 169.0),\n",
       " ('19.0-20.0', 141.0),\n",
       " ('20.0-21.0', 123.0),\n",
       " ('21.0-22.0', 108.0),\n",
       " ('22.0-23.0', 93.0),\n",
       " ('23.0-24.0', 77.0),\n",
       " ('24.0-25.0', 69.0),\n",
       " ('25.0-26.0', 59.0),\n",
       " ('26.0-27.0', 48.0),\n",
       " ('27.0-28.0', 44.0),\n",
       " ('28.0-29.0', 39.0),\n",
       " ('29.0-30.0', 33.0),\n",
       " ('30.0-31.0', 33.0),\n",
       " ('31.0-32.0', 29.0),\n",
       " ('32.0-33.0', 26.0),\n",
       " ('33.0-34.0', 25.0),\n",
       " ('34.0-35.0', 22.0),\n",
       " ('35.0-36.0', 20.0),\n",
       " ('36.0-37.0', 16.0),\n",
       " ('37.0-38.0', 16.0),\n",
       " ('38.0-39.0', 15.0),\n",
       " ('39.0-40.0', 15.0),\n",
       " ('40.0-41.0', 15.0),\n",
       " ('41.0-42.0', 13.0),\n",
       " ('42.0-43.0', 13.0),\n",
       " ('43.0-44.0', 13.0),\n",
       " ('44.0-45.0', 13.0),\n",
       " ('45.0-46.0', 12.0),\n",
       " ('46.0-47.0', 12.0),\n",
       " ('47.0-48.0', 12.0),\n",
       " ('48.0-49.0', 12.0),\n",
       " ('49.0-50.0', 12.0),\n",
       " ('50.0-51.0', 12.0),\n",
       " ('51.0-52.0', 11.0),\n",
       " ('52.0-53.0', 11.0),\n",
       " ('53.0-54.0', 10.0),\n",
       " ('54.0-55.0', 10.0),\n",
       " ('55.0-56.0', 10.0),\n",
       " ('56.0-57.0', 10.0),\n",
       " ('57.0-58.0', 8.0),\n",
       " ('58.0-59.0', 8.0),\n",
       " ('59.0-60.0', 8.0),\n",
       " ('60.0-61.0', 8.0),\n",
       " ('61.0-62.0', 7.0),\n",
       " ('62.0-63.0', 7.0),\n",
       " ('63.0-64.0', 5.0),\n",
       " ('64.0-65.0', 5.0),\n",
       " ('65.0-66.0', 5.0),\n",
       " ('66.0-67.0', 5.0),\n",
       " ('67.0-68.0', 4.0),\n",
       " ('68.0-69.0', 3.0),\n",
       " ('69.0-70.0', 3.0),\n",
       " ('70.0-71.0', 3.0),\n",
       " ('71.0-72.0', 3.0),\n",
       " ('72.0-73.0', 3.0),\n",
       " ('73.0-74.0', 3.0),\n",
       " ('74.0-75.0', 2.0),\n",
       " ('75.0-76.0', 2.0),\n",
       " ('76.0-77.0', 2.0),\n",
       " ('77.0-78.0', 2.0),\n",
       " ('78.0-79.0', 2.0)]"
      ]
     },
     "execution_count": 73,
     "metadata": {},
     "output_type": "execute_result"
    }
   ],
   "source": [
    "print(\"Cumulative number of profiles when kmer occurs >= bin times\")\n",
    "[(str(bins[i])+\"-\"+str(bins[i+1]), sum(n[i:])) for i in range(len(n))]"
   ]
  },
  {
   "cell_type": "code",
   "execution_count": 74,
   "metadata": {},
   "outputs": [],
   "source": [
    "def makeP(count, kmerCount=kmerCount, specProModel=specProModel, geq=False):\n",
    "    if geq:\n",
    "        kmers = [kmer for kmer in kmerCount if kmerCount[kmer] >= count]\n",
    "    else:\n",
    "        kmers = [kmer for kmer in kmerCount if kmerCount[kmer] == count]\n",
    "        \n",
    "    P = np.array([dsg.oneHot(kmer) for kmer in kmers]) # U, k, 21\n",
    "    P = np.transpose(P, (1,2,0))\n",
    "    R = specProModel.getR(P).numpy() # (k, 21, U)\n",
    "    thresh = np.sum(np.multiply(P, R), axis=(0,1), dtype=np.float32) # U, P acts as \"sequence\", thus calculating the match score of a perfect kmer match in the sequence\n",
    "    if not geq:\n",
    "        print(\"[INFO] >>> Expected number of sites:\", count, \"*\", P.shape[2], \"=\", count*P.shape[2])\n",
    "    else:\n",
    "        print(\"[INFO] >>> Expected number of sites:\", sum([kmerCount[kmer] for kmer in kmerCount if kmerCount[kmer] >= count]))\n",
    "        \n",
    "    return P, thresh"
   ]
  },
  {
   "cell_type": "code",
   "execution_count": 75,
   "metadata": {},
   "outputs": [],
   "source": [
    "if False:\n",
    "    P, Pthresh = makeP(12, geq=True)\n",
    "    print(P.shape)"
   ]
  },
  {
   "cell_type": "code",
   "execution_count": 76,
   "metadata": {},
   "outputs": [
    {
     "name": "stdout",
     "output_type": "stream",
     "text": [
      "[[  0   0 685   0   1]\n",
      " [ 14   0 652   0   1]\n",
      " [ 17   0 150   0   0]\n",
      " [ 19   0 260   0   2]\n",
      " [ 24   0 178   0   1]\n",
      " [ 36   0 251   0   2]\n",
      " [ 39   0 808   0   1]\n",
      " [ 42   0 234   0   0]\n",
      " [ 44   0 717   0   0]\n",
      " [ 50   0 251   0   2]\n",
      " [ 52   0 242   0   2]\n",
      " [ 55   0 250   0   1]\n",
      " [ 57   0 130   0   1]\n",
      " [ 62   0 805   0   1]\n",
      " [ 63   0 404   0   2]\n",
      " [ 65   0 251   0   2]\n",
      " [ 78   0 223   0   1]\n",
      " [ 83   0 538   0   1]\n",
      " [ 85   0 251   0   2]\n",
      " [102   0 368   0   2]]\n"
     ]
    }
   ],
   "source": [
    "if trainingWithReporting:\n",
    "    for g in range(len(dsh.genomes)):\n",
    "        for c in range(len(dsh.genomes[g])):\n",
    "            dsh.genomes[g][c] = dsh.genomes[g][c].upper()\n",
    "\n",
    "# get match sites of profiles\n",
    "thresh = Pthresh if trainingWithReporting else 0.9*scores #match_score_factor*scores\n",
    "\n",
    "onlyPid = None\n",
    "if onlyPid is None:\n",
    "    sites, siteScores, _ = specProModel.get_profile_match_sites(dsh.getDataset(withPosTracking = True), thresh, otherP = P)\n",
    "else:\n",
    "    sites, siteScores, _ = specProModel.get_profile_match_sites(dsh.getDataset(withPosTracking = True), thresh[onlyPid], otherP = P[:,:,onlyPid:onlyPid+1])\n",
    "    \n",
    "print(sites.numpy()[:20,]) # (sites, (genomeID, contigID, pos, u, f))\n",
    "#print(siteScores)"
   ]
  },
  {
   "cell_type": "code",
   "execution_count": 77,
   "metadata": {},
   "outputs": [
    {
     "name": "stdout",
     "output_type": "stream",
     "text": [
      "[([0, 0, 685], [14, 0, 652], [17, 0, 150], [19, 0, 260], [24, 0, 178], [36, 0, 251], [39, 0, 808], [42, 0, 234], [44, 0, 717], [50, 0, 251], [52, 0, 242], [55, 0, 250], [57, 0, 130], [62, 0, 805], [63, 0, 404], [65, 0, 251], [78, 0, 223], [83, 0, 538], [85, 0, 251], [102, 0, 368], [3, 0, 1310], [4, 0, 1453], [13, 0, 1281], [15, 0, 1400], [18, 0, 1215], [21, 0, 1198], [22, 0, 1421], [33, 0, 1421], [37, 0, 1765], [41, 0, 1200], [58, 0, 1431], [66, 0, 1075], [75, 0, 1300], [76, 0, 1011], [84, 0, 1300], [87, 0, 1383], [99, 0, 1449], [1, 0, 2700], [2, 0, 2842], [5, 0, 2931], [10, 0, 2936], [12, 0, 2946], [20, 0, 2439], [23, 0, 2527], [25, 0, 2827], [26, 0, 2881], [27, 0, 2647], [28, 0, 2793], [29, 0, 2531], [30, 0, 2538], [31, 0, 2592], [35, 0, 2770], [38, 0, 2581], [43, 0, 2948], [46, 0, 2802], [49, 0, 2078], [54, 0, 2084], [59, 0, 2910], [60, 0, 2185], [67, 0, 2849], [68, 0, 2654], [69, 0, 2939], [70, 0, 2885], [72, 0, 2763], [77, 0, 2928], [79, 0, 2779], [80, 0, 2931], [81, 0, 2940], [90, 0, 2667], [91, 0, 2541], [92, 0, 2755], [95, 0, 2032], [96, 0, 2512], [101, 0, 2806], [6, 0, 3031], [8, 0, 3056], [9, 0, 3269], [11, 0, 3131], [16, 0, 3381], [40, 0, 3406], [45, 0, 3514], [48, 0, 3028], [53, 0, 3080], [64, 0, 3034], [73, 0, 3018], [82, 0, 3747], [94, 0, 3521], [97, 0, 3241], [98, 0, 3476], [100, 0, 3684]), ([2, 0, 2622], [4, 0, 1251], [6, 0, 2802], [7, 0, 2703], [28, 0, 2580], [30, 0, 2317], [37, 0, 1528], [70, 0, 2652], [72, 0, 2517], [88, 0, 2696], [90, 0, 2446], [91, 0, 2320], [11, 0, 2906])]\n",
      "2\n"
     ]
    }
   ],
   "source": [
    "if not use_sim_data:\n",
    "    links, linkProfiles, skipped = plotting.sitesToLinks(sites.numpy(), 1000)\n",
    "    print(links[:5])\n",
    "    print(len(links))\n",
    "    links = [sorted(l) for l in links]"
   ]
  },
  {
   "cell_type": "code",
   "execution_count": 78,
   "metadata": {},
   "outputs": [],
   "source": [
    "if not use_sim_data:\n",
    "    if len(skipped):\n",
    "        fig = px.histogram(x=[s[1] for s in skipped])\n",
    "        fig.show()"
   ]
  },
  {
   "cell_type": "markdown",
   "metadata": {},
   "source": [
    "### Draw Link Image"
   ]
  },
  {
   "cell_type": "code",
   "execution_count": 79,
   "metadata": {},
   "outputs": [
    {
     "name": "stdout",
     "output_type": "stream",
     "text": [
      "ListWrapper([DictWrapper({'P_report_masked_sites_index': 0, 'after_epoch': 108}), DictWrapper({'P_report_masked_sites_index': 1, 'after_epoch': 338})])\n"
     ]
    }
   ],
   "source": [
    "print(specProModel.tracking['masking'])"
   ]
  },
  {
   "cell_type": "code",
   "execution_count": 80,
   "metadata": {},
   "outputs": [],
   "source": [
    "def getMaskedSites(idx, specProModel=specProModel):\n",
    "    sites = []\n",
    "    for site in specProModel.P_report_masked_sites[idx]:\n",
    "        seq, g, c, a, b = site\n",
    "        #print(seq, g.numpy(), c.numpy(), a.numpy(), b.numpy())\n",
    "        sites.append((g.numpy(), c.numpy(), a.numpy()))\n",
    "    \n",
    "    return sites"
   ]
  },
  {
   "cell_type": "code",
   "execution_count": 81,
   "metadata": {},
   "outputs": [
    {
     "data": {
      "text/plain": [
       "array([[   0,    0,  685,    0,    1],\n",
       "       [  14,    0,  652,    0,    1],\n",
       "       [  17,    0,  150,    0,    0],\n",
       "       [  19,    0,  260,    0,    2],\n",
       "       [  24,    0,  178,    0,    1],\n",
       "       [  36,    0,  251,    0,    2],\n",
       "       [  39,    0,  808,    0,    1],\n",
       "       [  42,    0,  234,    0,    0],\n",
       "       [  44,    0,  717,    0,    0],\n",
       "       [  50,    0,  251,    0,    2],\n",
       "       [  52,    0,  242,    0,    2],\n",
       "       [  55,    0,  250,    0,    1],\n",
       "       [  57,    0,  130,    0,    1],\n",
       "       [  62,    0,  805,    0,    1],\n",
       "       [  63,    0,  404,    0,    2],\n",
       "       [  65,    0,  251,    0,    2],\n",
       "       [  78,    0,  223,    0,    1],\n",
       "       [  83,    0,  538,    0,    1],\n",
       "       [  85,    0,  251,    0,    2],\n",
       "       [ 102,    0,  368,    0,    2],\n",
       "       [   3,    0, 1310,    0,    2],\n",
       "       [   4,    0, 1453,    0,    1],\n",
       "       [  13,    0, 1281,    0,    0],\n",
       "       [  15,    0, 1400,    0,    2],\n",
       "       [  18,    0, 1215,    0,    0],\n",
       "       [  21,    0, 1198,    0,    1],\n",
       "       [  22,    0, 1421,    0,    2],\n",
       "       [  33,    0, 1421,    0,    2],\n",
       "       [  37,    0, 1765,    0,    1],\n",
       "       [  41,    0, 1200,    0,    0],\n",
       "       [  58,    0, 1431,    0,    0],\n",
       "       [  66,    0, 1075,    0,    1],\n",
       "       [  75,    0, 1300,    0,    1],\n",
       "       [  76,    0, 1011,    0,    0],\n",
       "       [  84,    0, 1300,    0,    1],\n",
       "       [  87,    0, 1383,    0,    0],\n",
       "       [  99,    0, 1449,    0,    0],\n",
       "       [   1,    0, 2700,    0,    0],\n",
       "       [   2,    0, 2842,    0,    1],\n",
       "       [   5,    0, 2931,    0,    0],\n",
       "       [  10,    0, 2936,    0,    2],\n",
       "       [  12,    0, 2946,    0,    0],\n",
       "       [  20,    0, 2439,    0,    0],\n",
       "       [  23,    0, 2527,    0,    1],\n",
       "       [  25,    0, 2827,    0,    1],\n",
       "       [  26,    0, 2881,    0,    1],\n",
       "       [  27,    0, 2647,    0,    1],\n",
       "       [  28,    0, 2793,    0,    0],\n",
       "       [  29,    0, 2531,    0,    2],\n",
       "       [  30,    0, 2538,    0,    0],\n",
       "       [  31,    0, 2592,    0,    0],\n",
       "       [  35,    0, 2770,    0,    1],\n",
       "       [  38,    0, 2581,    0,    1],\n",
       "       [  43,    0, 2948,    0,    2],\n",
       "       [  46,    0, 2802,    0,    0],\n",
       "       [  49,    0, 2078,    0,    2],\n",
       "       [  54,    0, 2084,    0,    2],\n",
       "       [  59,    0, 2910,    0,    0],\n",
       "       [  60,    0, 2185,    0,    1],\n",
       "       [  67,    0, 2849,    0,    2],\n",
       "       [  68,    0, 2654,    0,    2],\n",
       "       [  69,    0, 2939,    0,    2],\n",
       "       [  70,    0, 2885,    0,    2],\n",
       "       [  72,    0, 2763,    0,    0],\n",
       "       [  77,    0, 2928,    0,    0],\n",
       "       [  79,    0, 2779,    0,    1],\n",
       "       [  80,    0, 2931,    0,    0],\n",
       "       [  81,    0, 2940,    0,    0],\n",
       "       [  90,    0, 2667,    0,    0],\n",
       "       [  91,    0, 2541,    0,    0],\n",
       "       [  92,    0, 2755,    0,    1],\n",
       "       [  95,    0, 2032,    0,    1],\n",
       "       [  96,    0, 2512,    0,    1],\n",
       "       [ 101,    0, 2806,    0,    1],\n",
       "       [   6,    0, 3031,    0,    1],\n",
       "       [   8,    0, 3056,    0,    2],\n",
       "       [   9,    0, 3269,    0,    2],\n",
       "       [  11,    0, 3131,    0,    2],\n",
       "       [  16,    0, 3381,    0,    0],\n",
       "       [  40,    0, 3406,    0,    1],\n",
       "       [  45,    0, 3514,    0,    1],\n",
       "       [  48,    0, 3028,    0,    1],\n",
       "       [  53,    0, 3080,    0,    2],\n",
       "       [  64,    0, 3034,    0,    1],\n",
       "       [  73,    0, 3018,    0,    0],\n",
       "       [  82,    0, 3747,    0,    0],\n",
       "       [  94,    0, 3521,    0,    2],\n",
       "       [  97,    0, 3241,    0,    1],\n",
       "       [  98,    0, 3476,    0,    2],\n",
       "       [ 100,    0, 3684,    0,    0],\n",
       "       [   2,    0, 2622,    1,    3],\n",
       "       [   4,    0, 1251,    1,    4],\n",
       "       [   6,    0, 2802,    1,    5],\n",
       "       [   7,    0, 2703,    1,    5],\n",
       "       [  28,    0, 2580,    1,    3],\n",
       "       [  30,    0, 2317,    1,    4],\n",
       "       [  37,    0, 1528,    1,    3],\n",
       "       [  70,    0, 2652,    1,    4],\n",
       "       [  72,    0, 2517,    1,    4],\n",
       "       [  88,    0, 2696,    1,    4],\n",
       "       [  90,    0, 2446,    1,    4],\n",
       "       [  91,    0, 2320,    1,    3],\n",
       "       [  11,    0, 2906,    1,    4]], dtype=int32)"
      ]
     },
     "execution_count": 81,
     "metadata": {},
     "output_type": "execute_result"
    }
   ],
   "source": [
    "sites.numpy()"
   ]
  },
  {
   "cell_type": "code",
   "execution_count": 85,
   "metadata": {},
   "outputs": [
    {
     "name": "stdout",
     "output_type": "stream",
     "text": [
      "[WARNING] >>> Too many gene rows for image height, increasing image height to 6410 pixels. Adjust outerMargin, genewidth and fontsize if you want to keep the lower image height\n"
     ]
    },
    {
     "name": "stderr",
     "output_type": "stream",
     "text": [
      "/usr/bin/xdg-open: 882: www-browser: not found\n",
      "/usr/bin/xdg-open: 882: links2: not found\n",
      "/usr/bin/xdg-open: 882: elinks: not found\n",
      "/usr/bin/xdg-open: 882: links: not found\n",
      "/usr/bin/xdg-open: 882: lynx: not found\n",
      "/usr/bin/xdg-open: 882: w3m: not found\n",
      "xdg-open: no method available for opening '/tmp/tmp3honbjqd.PNG'\n"
     ]
    }
   ],
   "source": [
    "importlib.reload(plotting)\n",
    "drawGeneLinks = True\n",
    "if drawGeneLinks:\n",
    "    if use_sim_data:\n",
    "        #plotting.drawGeneLinks_simData(genomes, links, posDict, kmerSites=kmerPositions, kmerCol='greenyellow',\n",
    "        #                               imname='/home/jovyan/brain/genomegraph/learn_specific_profiles/links.png')\n",
    "        masksides = getMaskedSites(0)\n",
    "        #masksides.extend(getMaskedSites(1))\n",
    "        plotting.drawGeneLinks_simData(genomes, sites.numpy(), posDict, linksAreSites=True, kmerSites=kmerPositions, kmerCol='deeppink',\n",
    "                                       maskingSites=masksides, maskingCol='chocolate',\n",
    "                                       imname='/home/jovyan/brain/genomegraph/learn_specific_profiles/links.png', linkwidth=4)\n",
    "        \n",
    "    if use_real_data:\n",
    "        #plotting.drawGeneLinks_realData(datapath, seqnames, links,\n",
    "        #                                '/home/jovyan/brain/genomegraph/learn_specific_profiles/links.png')\n",
    "        plotting.drawGeneLinks_toyData(genomes, links, [], [],\n",
    "                                       '/home/jovyan/brain/genomegraph/learn_specific_profiles/links.png')\n",
    "        \n",
    "    if use_toy_data:\n",
    "        plotting.drawGeneLinks_toyData(genomes, links, insertTracking, repeatTracking,\n",
    "                                       '/home/jovyan/brain/genomegraph/learn_specific_profiles/links.png')"
   ]
  },
  {
   "cell_type": "code",
   "execution_count": null,
   "metadata": {},
   "outputs": [],
   "source": [
    "if False and use_sim_data:\n",
    "    links = [sorted(l) for l in links]\n",
    "    tp = 0\n",
    "    noise = 0\n",
    "    for link in links:\n",
    "        if all([o[2] >= posDict['start_codon'] and o[2] <= posDict['3flank_start']-k for o in link]):\n",
    "            tp += 1\n",
    "        else:\n",
    "            noise += 1\n",
    "            \n",
    "    print(\"TP links:\", tp)\n",
    "    print(\"noise:   \", noise)"
   ]
  },
  {
   "cell_type": "code",
   "execution_count": null,
   "metadata": {},
   "outputs": [],
   "source": [
    "if use_real_data: \n",
    "    allcdslen = 0\n",
    "    allgenelen = 0\n",
    "    ncds = 0\n",
    "    ngenes = 0\n",
    "    for o in orthology:\n",
    "        head = parseSequenceHeader(o)\n",
    "        if head['genome'] == 'hg38':\n",
    "            allgenelen += int(head['seqlen'])\n",
    "            ngenes += 1\n",
    "            cds = gtf[head['tid']]\n",
    "            cdslens = [int(e['end'])-int(e['start']) for e in cds if e['feature'] == 'CDS']\n",
    "            allcdslen += sum(cdslens)\n",
    "            ncds += len(cdslens)\n",
    "            #print(o, cdslen)\n",
    "\n",
    "    print(\"total cds length:\", allcdslen)\n",
    "    print(\" mean cds length:\", allcdslen/ncds)\n",
    "    print(\"total gene length:\", allgenelen)\n",
    "    print(\" mean gene length:\", allgenelen/ngenes)"
   ]
  },
  {
   "cell_type": "markdown",
   "metadata": {},
   "source": [
    "    total cds length: 30074\n",
    "     mean cds length: 138.58986175115209\n",
    "    total gene length: 2189045\n",
    "     mean gene length: 109452.25"
   ]
  },
  {
   "cell_type": "code",
   "execution_count": null,
   "metadata": {},
   "outputs": [],
   "source": [
    "#if not use_real_data:\n",
    "#    assert False"
   ]
  },
  {
   "cell_type": "markdown",
   "metadata": {},
   "source": [
    "---\n",
    "\n",
    "Make video of tracked profiles"
   ]
  },
  {
   "cell_type": "code",
   "execution_count": null,
   "metadata": {},
   "outputs": [],
   "source": [
    "def removeFiles(path):\n",
    "    assert os.path.isdir(path), \"[ERROR] >>> '{}' is not a directory\".format(path)\n",
    "    for f in os.listdir(path):\n",
    "        file = os.path.join(path, f)\n",
    "        if os.path.isfile(file):\n",
    "            os.remove(file)"
   ]
  },
  {
   "cell_type": "code",
   "execution_count": null,
   "metadata": {},
   "outputs": [],
   "source": [
    "trackSuccessfullProfiles = specProModel.P_report_idx # [10, 2]\n",
    "\n",
    "def reduceTracking(newtrack, trackProfiles=trackProfiles, specProModel=specProModel):\n",
    "    \"\"\"\n",
    "    {\n",
    "            'epoch': [],\n",
    "            'P': [], # list of np.arrays of all tracked profiles (k x 21 x U') where U'=len(track_profiles)\n",
    "            'max_score': [], # list of np.arrays of respective max scores (U')\n",
    "            'masking': [] # lookup sites in self.P_report_masked_sites\n",
    "        }\n",
    "    \"\"\"\n",
    "    tracking = copy.deepcopy(specProModel.tracking)\n",
    "    subidcs = []\n",
    "    for i in newtrack:\n",
    "        subidcs.append(trackProfiles.index(i))\n",
    "        \n",
    "    newP = []\n",
    "    newScore = []\n",
    "    for i in range(len(tracking['epoch'])):\n",
    "        newP.append(tf.gather(tracking['P'][i], subidcs, axis=2))\n",
    "        newScore.append(tf.gather(tracking['max_score'][i], subidcs, axis=0))\n",
    "        \n",
    "    tracking['P'] = newP\n",
    "    tracking['max_score'] = newScore\n",
    "    \n",
    "    return tracking\n",
    "    \n",
    "\n",
    "# TODO: write code to only visualize these profiles instead of all tracked\n",
    "#trackProfiles\n",
    "successfullTracking = reduceTracking(trackSuccessfullProfiles)"
   ]
  },
  {
   "cell_type": "code",
   "execution_count": null,
   "metadata": {},
   "outputs": [],
   "source": [
    "tracking = specProModel.tracking if True else successfullTracking\n",
    "trackp = trackProfiles if True else trackSuccessfullProfiles"
   ]
  },
  {
   "cell_type": "code",
   "execution_count": null,
   "metadata": {},
   "outputs": [],
   "source": [
    "removeFiles(\"/home/jovyan/brain/genomegraph/learn_specific_profiles/track_profiles/\")\n",
    "removeFiles(\"/home/jovyan/brain/genomegraph/learn_specific_profiles/track_links/\")\n",
    "removeFiles(\"/home/jovyan/brain/genomegraph/learn_specific_profiles/track_combined/\")   \n",
    "\n",
    "masksides = None\n",
    "maskepoch = tracking['masking'][0]['after_epoch'] if len(tracking['masking']) > 0 else np.Inf\n",
    "maskepochidx = 0\n",
    "\n",
    "for i in tracking['epoch']:\n",
    "#if True:\n",
    "#    i = 0\n",
    "    print(\"[DEBUG] >>> epoch {0:0>3}/{1}\".format(i, len(tracking['epoch'])), flush=True)\n",
    "    maxLogo = 3\n",
    "    n = min(len(trackp), maxLogo)\n",
    "    dpi = 100\n",
    "    logoh = 1080\n",
    "    logow = 1080//2\n",
    "    #print(\"[DEBUG] >>> {0:0>3}/{1} --- creating logo figure\".format(i, len(specProModel.tracking['epoch'])), flush=True)\n",
    "    fig, ax = plt.subplots(n, 1, figsize=(logow/dpi, logoh/dpi), dpi=dpi)\n",
    "    #print(\"[DEBUG] >>> {0:0>3}/{1} --- plotting logos\".format(i, len(specProModel.tracking['epoch'])), flush=True)\n",
    "    plotting.plotLogo(tracking['P'][i], pNames=trackp, pScores=tracking['max_score'][i].numpy(), ax=ax, max_print=maxLogo)\n",
    "    #print(\"[DEBUG] >>> {0:0>3}/{1} --- saving logos\".format(i, len(specProModel.tracking['epoch'])), flush=True)\n",
    "    fig.savefig(\"/home/jovyan/brain/genomegraph/learn_specific_profiles/track_profiles/{0:0>3}.png\".format(i))\n",
    "    #print(\"[DEBUG] >>> {0:0>3}/{1} --- close logo figure\".format(i, len(specProModel.tracking['epoch'])), flush=True)\n",
    "    plt.close(fig)\n",
    "    \n",
    "    #print(\"[DEBUG] >>> {0:0>3}/{1} --- call allUC\".format(i, len(specProModel.tracking['epoch'])), flush=True)\n",
    "    dsh.allUC()\n",
    "    #print(\"[DEBUG] >>> {0:0>3}/{1} --- get Pt\".format(i, len(specProModel.tracking['epoch'])), flush=True)\n",
    "    Pt = tracking['P'][i]\n",
    "    #print(\"[DEBUG] >>> {0:0>3}/{1} --- get match sites for {2} profiles\".format(i, len(specProModel.tracking['epoch']), Pt.shape[2]), flush=True)\n",
    "    msf = 0.9 if i == 0 else match_score_factor # only show best matches in first epoch\n",
    "    matches, _, _ = specProModel.get_profile_match_sites(dsh.getDataset(withPosTracking=True), \n",
    "                                                         tracking['max_score'][i]*msf,\n",
    "                                                         otherP = Pt)\n",
    "    if i == maskepoch:\n",
    "        ridx = tracking['masking'][maskepochidx]['P_report_masked_sites_index']\n",
    "        if masksides is None:\n",
    "            masksides = getMaskedSites(ridx)\n",
    "        else:\n",
    "            masksides.extend(getMaskedSites(ridx))\n",
    "            \n",
    "        maskepochidx += 1\n",
    "        if maskepochidx < len(tracking['masking']):\n",
    "            maskepoch = tracking['masking'][maskepochidx]['after_epoch']\n",
    "        else:\n",
    "            maskepoch = np.Inf\n",
    "            \n",
    "    #print(\"[DEBUG] >>> {0:0>3}/{1} --- get links\".format(i, len(specProModel.tracking['epoch'])), flush=True)\n",
    "    #links, _, _ = plotting.sitesToLinks(matches.numpy())\n",
    "    #print(\"[DEBUG] >>> {0:0>3}/{1} --- draw gene link figure\".format(i, len(specProModel.tracking['epoch'])), flush=True)\n",
    "    plotting.drawGeneLinks_simData(genomes, matches.numpy(), posDict, \n",
    "                                   imname = \"/home/jovyan/brain/genomegraph/learn_specific_profiles/track_links/{0:0>3}.png\".format(i),\n",
    "                                   linksAreSites=True, kmerSites=kmerPositions, kmerCol='deeppink',\n",
    "                                   maskingSites=masksides, maskingCol='chocolate',\n",
    "                                   highlightProfiles=[i.numpy() for i in trackSuccessfullProfiles],\n",
    "                                   width = 1920-logow, height = 1080, dpi = dpi,\n",
    "                                   show=False)\n",
    "    #print(\"[DEBUG] >>> {0:0>3}/{1} --- combining plots\".format(i, len(specProModel.tracking['epoch'])), flush=True)\n",
    "    plotting.combinePlots([\"/home/jovyan/brain/genomegraph/learn_specific_profiles/track_links/{0:0>3}.png\".format(i),\n",
    "                           \"/home/jovyan/brain/genomegraph/learn_specific_profiles/track_profiles/{0:0>3}.png\".format(i)], \n",
    "                          rows = 1, cols = 2, \n",
    "                          out = \"/home/jovyan/brain/genomegraph/learn_specific_profiles/track_combined/{0:0>3}.png\".format(i))\n",
    "    #print()"
   ]
  },
  {
   "cell_type": "code",
   "execution_count": null,
   "metadata": {},
   "outputs": [],
   "source": [
    "plotting.makeVideo(\"/home/jovyan/brain/genomegraph/learn_specific_profiles/track_links/\", \"track_links.mp4\", 1)\n",
    "plotting.makeVideo(\"/home/jovyan/brain/genomegraph/learn_specific_profiles/track_profiles/\", \"track_profiles.mp4\", 1)\n",
    "plotting.makeVideo(\"/home/jovyan/brain/genomegraph/learn_specific_profiles/track_combined/\", \"track_combined.mp4\", 1)"
   ]
  },
  {
   "cell_type": "markdown",
   "metadata": {},
   "source": [
    "# TODO \n",
    "- [x] Download track_combined.mp4 as `track_combined_c0.05_nc0.1_k12_bgQ_midF4_bgF1.mp4`"
   ]
  },
  {
   "cell_type": "code",
   "execution_count": null,
   "metadata": {},
   "outputs": [],
   "source": [
    "if not use_real_data:\n",
    "    assert False"
   ]
  },
  {
   "cell_type": "markdown",
   "metadata": {},
   "source": [
    "---"
   ]
  },
  {
   "cell_type": "code",
   "execution_count": null,
   "metadata": {},
   "outputs": [],
   "source": [
    "combos = []\n",
    "for a1 in su.aa_alphabet[1:]:\n",
    "    for a2 in su.aa_alphabet[1:]:\n",
    "        for a3 in su.aa_alphabet[1:]:\n",
    "            combos.append(''.join([a1,a2,a3]))\n",
    "            \n",
    "combos"
   ]
  },
  {
   "cell_type": "code",
   "execution_count": null,
   "metadata": {},
   "outputs": [],
   "source": [
    "if False:\n",
    "    maxplot = 4\n",
    "    nplot = 0\n",
    "    P = specProModel.getP()\n",
    "    for g in list(sites.keys()):\n",
    "        for c in list(sites[g].keys()):\n",
    "            gseq = genomes[g][c]\n",
    "            for i in range(len(sites[g][c]['profile'])):\n",
    "                p = sites[g][c]['profile'][i]\n",
    "                pos = sites[g][c]['pos'][i]\n",
    "                score = sites[g][c]['score'][i]\n",
    "                f = sites[g][c]['frame'][i]\n",
    "\n",
    "                match = gseq[pos:(pos+specProModel.k*3)+2]\n",
    "                match_aa = su.six_frame_translation(match)\n",
    "                profile_df = su.makeDFs(P[:,:,p:(p+1)].numpy())[0]\n",
    "                logo = logomaker.Logo(profile_df, vpad=.1, width=1)\n",
    "                logo.style_xticks(anchor=0, spacing=1, rotation=45)\n",
    "                logo.ax.set_ylabel('information (bits)')\n",
    "                logo.ax.set_title(f\"Profile {p}\" + (f\" score={score:.1f}\") + \" | sequence match (frame \"+str(f)+\") \"+', '.join(match_aa))\n",
    "\n",
    "                nplot += 1\n",
    "                if nplot >= maxplot:\n",
    "                    break\n",
    "\n",
    "            if nplot >= maxplot:\n",
    "                break\n",
    "\n",
    "        if nplot >= maxplot:\n",
    "            break"
   ]
  },
  {
   "cell_type": "code",
   "execution_count": null,
   "metadata": {},
   "outputs": [],
   "source": [
    "def parseSequenceHeader(header):\n",
    "    fields = header.split(\"|\")\n",
    "    headDict = {}\n",
    "    for field in fields:\n",
    "        key, value = field.split(\":\")\n",
    "        assert len(field.split(\":\")) == 2, header\n",
    "        assert key not in headDict, header\n",
    "        headDict[key] = value\n",
    "\n",
    "    return headDict"
   ]
  },
  {
   "cell_type": "code",
   "execution_count": null,
   "metadata": {
    "tags": []
   },
   "outputs": [],
   "source": [
    "with open(os.path.join(datapath, \"../hg38.GTF.json\"), 'rt') as fh:\n",
    "    gtf = json.load(fh)\n",
    "    \n",
    "#gtf['ENST00000219797'][:2]"
   ]
  },
  {
   "cell_type": "code",
   "execution_count": null,
   "metadata": {},
   "outputs": [],
   "source": [
    "with open(os.path.join(datapath, \"../orthologs.json\"), 'rt') as fh:\n",
    "    orthology = json.load(fh)\n",
    "    \n",
    "#orthology[list(orthology.keys())[0]]"
   ]
  },
  {
   "cell_type": "code",
   "execution_count": null,
   "metadata": {},
   "outputs": [],
   "source": [
    "nexons = 0\n",
    "northo = 0\n",
    "for seq in seqnames[0]:\n",
    "    seqDict = parseSequenceHeader(seq)\n",
    "    if seqDict['tid'] != 'artificial':\n",
    "        northo += 1\n",
    "    if seqDict['tid'] in gtf:\n",
    "        nexons += len([1 for annot in gtf[seqDict['tid']] if annot['feature'] == 'CDS'])\n",
    "        \n",
    "print(nexons)\n",
    "print(northo)"
   ]
  },
  {
   "cell_type": "code",
   "execution_count": null,
   "metadata": {},
   "outputs": [],
   "source": [
    "# sort links such that genome0 occurrance comes first (if present), i.e. sort each link after first value in occ tuples\n",
    "print(links[0])\n",
    "links = [sorted(l) for l in links]\n",
    "print(links[0])links = [sorted(l) for l in links]"
   ]
  },
  {
   "cell_type": "code",
   "execution_count": null,
   "metadata": {},
   "outputs": [],
   "source": [
    "tolerance = 0#3*k + 3 # allow certain position mismatch in human exons\n",
    "tp = [] # accumulate scores\n",
    "tp_links = [] # collect links for further investigation\n",
    "fp = []\n",
    "noise = []\n",
    "geneNoise = []\n",
    "exonsFound = set()\n",
    "featuresFound = set()\n",
    "orthoFound = set()\n",
    "for link in links:\n",
    "    allArt = True\n",
    "    allGen = True\n",
    "    for occ in link:\n",
    "        #print(\"DEBUG\", occ)\n",
    "        seqname = seqnames[occ[0]][occ[1]]\n",
    "        seqDict = parseSequenceHeader(seqname)\n",
    "        if seqDict['gid'] == 'artificial':\n",
    "            allGen = False\n",
    "        else:\n",
    "            allArt = False\n",
    "            \n",
    "    mscore = 0#np.mean([o[3] for o in link])\n",
    "    if allArt:\n",
    "        fp.append(mscore)\n",
    "    elif not (allArt or allGen):\n",
    "        noise.append(mscore)\n",
    "    else:\n",
    "        assert allGen\n",
    "        rSeq = seqnames[link[0][0]][link[0][1]]\n",
    "        assert rSeq in orthology, rSeq\n",
    "        if all([seqnames[o[0]][o[1]] in orthology[rSeq] for o in link[1:]]):\n",
    "            tp.append(mscore)\n",
    "            tp_links.append(link)\n",
    "            orthoFound.add(rSeq)\n",
    "            seqDict = parseSequenceHeader(rSeq)\n",
    "            tid = seqDict['tid']\n",
    "            pos = link[0][2]\n",
    "            if seqDict['genome'] == 'hg38':\n",
    "                assert tid in gtf, tid+\" not in gtf\"\n",
    "            if tid in gtf:\n",
    "                for feature in gtf[tid]:\n",
    "                    if feature['rstart']-tolerance <= pos and pos <= feature['rend']+tolerance:\n",
    "                        featuresFound.add(str(feature))\n",
    "                        if feature['feature'] == 'CDS':\n",
    "                            exonsFound.add(feature['tag'])\n",
    "                    #else:\n",
    "                    #    print(\"[DEBUG]\", pos, \"not in\", feature['rstart'], feature['rend'], \"(\", feature['feature'],\")\")\n",
    "        else:\n",
    "            geneNoise.append(mscore)"
   ]
  },
  {
   "cell_type": "code",
   "execution_count": null,
   "metadata": {},
   "outputs": [],
   "source": [
    "print(\"TP:\", len(tp), \"| mean score:\", sum(tp)/len(tp) if len(tp) > 0 else 0)\n",
    "print(\"FP:\", len(fp), \"| mean score:\", sum(fp)/len(fp) if len(fp) > 0 else 0)\n",
    "print(\"noise:\", len(noise), \"| mean score:\", sum(noise)/len(noise) if len(noise) > 0 else 0)\n",
    "print(\"geneNoise:\", len(geneNoise), \"| mean score:\", sum(geneNoise)/len(geneNoise) if len(geneNoise) > 0 else 0)\n",
    "\n",
    "print(\"Sn:\", len(exonsFound), \"/\", nexons, \"=\", len(exonsFound)/nexons)\n",
    "print(\"hits:\", len(orthoFound), \"/\", northo, \"=\", len(orthoFound)/northo)"
   ]
  },
  {
   "cell_type": "code",
   "execution_count": null,
   "metadata": {},
   "outputs": [],
   "source": [
    "tp_links"
   ]
  },
  {
   "cell_type": "code",
   "execution_count": null,
   "metadata": {},
   "outputs": [],
   "source": [
    "seqnames[0][1]"
   ]
  },
  {
   "cell_type": "code",
   "execution_count": null,
   "metadata": {},
   "outputs": [],
   "source": [
    "for f in featuresFound:\n",
    "    print(f)"
   ]
  },
  {
   "cell_type": "code",
   "execution_count": null,
   "metadata": {},
   "outputs": [],
   "source": [
    "import plotly.graph_objects as go"
   ]
  },
  {
   "cell_type": "code",
   "execution_count": null,
   "metadata": {},
   "outputs": [],
   "source": [
    "fig = go.Figure()\n",
    "fig.add_trace(go.Histogram(x=tp, name=\"TP\", histnorm='probability'))\n",
    "fig.add_trace(go.Histogram(x=fp, name=\"FP\", histnorm='probability'))\n",
    "fig.add_trace(go.Histogram(x=noise, name=\"noise\", histnorm='probability'))\n",
    "fig.add_trace(go.Histogram(x=geneNoise, name=\"geneNoise\", histnorm='probability'))\n",
    "\n",
    "# Overlay both histograms and reduce opacity to see both histograms\n",
    "#fig.update_layout(barmode='overlay')\n",
    "#fig.update_traces(opacity=0.75)\n",
    "fig.show()"
   ]
  },
  {
   "cell_type": "code",
   "execution_count": null,
   "metadata": {
    "tags": []
   },
   "outputs": [],
   "source": [
    "# STOP HERE IF `RUN ALL CELLS`\n",
    "assert False"
   ]
  },
  {
   "cell_type": "markdown",
   "metadata": {},
   "source": [
    "---\n",
    "\n",
    "\\[moved from directly after model initialization\\]\n",
    "\n",
    "### See How Perfect Pattern / Repeat Profiles Score w.r.t. Loss Function"
   ]
  },
  {
   "cell_type": "code",
   "execution_count": null,
   "metadata": {},
   "outputs": [],
   "source": [
    "runExperiment = False\n",
    "\n",
    "runExperiment = runExperiment and not use_real_data"
   ]
  },
  {
   "cell_type": "code",
   "execution_count": null,
   "metadata": {},
   "outputs": [],
   "source": [
    "if runExperiment:\n",
    "    import experiment\n",
    "    print(importlib.reload(experiment))"
   ]
  },
  {
   "cell_type": "code",
   "execution_count": null,
   "metadata": {},
   "outputs": [],
   "source": [
    "if runExperiment:\n",
    "    pProfile = tf.cast( tf.math.log( dsg.oneHot('MARIQSTANKE') + 1e-6 ), tf.float32)\n",
    "    rProfile = tf.cast( tf.math.log( dsg.oneHot('REPEATAEPER') + 1e-6 ), tf.float32)\n",
    "    \n",
    "    # build and randomly initialize profile model\n",
    "    tf.keras.backend.clear_session() # avoid memory cluttering by remains of old models\n",
    "    specProModel = None\n",
    "    specProModel = model.SpecificProfile(k, su.aa_alphabet_size, units=2, Q=Q, alpha=0, gamma=gamma)\n",
    "\n",
    "    pInit = specProModel._getRandomProfiles()\n",
    "    pInit[:,:,0] = pProfile.numpy()\n",
    "    pInit[:,:,1] = rProfile.numpy()\n",
    "    print(pInit.shape)\n",
    "\n",
    "    specProModel.setP_logit(pInit)\n",
    "    print(specProModel.P_logit.shape)"
   ]
  },
  {
   "cell_type": "code",
   "execution_count": null,
   "metadata": {},
   "outputs": [],
   "source": [
    "if runExperiment:\n",
    "    plotLogo(P=specProModel.getP(), max_print=2)#, label=\"Score Threshold\")"
   ]
  },
  {
   "cell_type": "code",
   "execution_count": null,
   "metadata": {},
   "outputs": [],
   "source": [
    "if runExperiment:\n",
    "    #pscores = experiment.getLossScores(specProModel, 0, genomes, N, tiles_per_X, tile_size, batch_size)\n",
    "    #rscores = experiment.getLossScores(specProModel, 1, genomes, N, tiles_per_X, tile_size, batch_size)\n",
    "    #pscores = experiment.getLossScores_raw(specProModel, 0, genomes, tiles_per_X, tile_size, batch_size)\n",
    "    #rscores = experiment.getLossScores_raw(specProModel, 1, genomes, tiles_per_X, tile_size, batch_size)\n",
    "    #pscores_raw = experiment.getLossScores_raw(specProModel, 0, genomes, tiles_per_X, tile_size, batch_size, lossNorm=False)\n",
    "    #rscores_raw = experiment.getLossScores_raw(specProModel, 1, genomes, tiles_per_X, tile_size, batch_size, lossNorm=False)\n",
    "    #pscores_unmasked = experiment.getLossScores_raw(specProModel, 0, genomes, tiles_per_X, tile_size, batch_size, maskNonSeqScores=False)\n",
    "    #rscores_unmasked = experiment.getLossScores_raw(specProModel, 1, genomes, tiles_per_X, tile_size, batch_size, maskNonSeqScores=False)\n",
    "    pscores_raw_unmasked = experiment.getLossScores_raw(specProModel, 0, genomes, tiles_per_X, tile_size, batch_size, maskNonSeqScores=False, lossNorm=False)\n",
    "    rscores_raw_unmasked = experiment.getLossScores_raw(specProModel, 1, genomes, tiles_per_X, tile_size, batch_size, maskNonSeqScores=False, lossNorm=False)\n",
    "    \n",
    "    plosses = experiment.getLosses(specProModel, 0, genomes, tiles_per_X, tile_size, batch_size)\n",
    "    rlosses = experiment.getLosses(specProModel, 1, genomes, tiles_per_X, tile_size, batch_size)"
   ]
  },
  {
   "cell_type": "code",
   "execution_count": null,
   "metadata": {},
   "outputs": [],
   "source": [
    "if runExperiment:\n",
    "    plosses"
   ]
  },
  {
   "cell_type": "code",
   "execution_count": null,
   "metadata": {},
   "outputs": [],
   "source": [
    "if runExperiment:\n",
    "    rlosses"
   ]
  },
  {
   "cell_type": "markdown",
   "metadata": {},
   "source": [
    "#### Draw Artificial Genomes and Pattern / Repeat Locations"
   ]
  },
  {
   "cell_type": "code",
   "execution_count": null,
   "metadata": {},
   "outputs": [],
   "source": [
    "if runExperiment:\n",
    "    #bins, vals = experiment.ownHist(pscores_raw, 10)\n",
    "    #experiment.plotOwnHist(bins, vals, precision=1)#, ylim=(0, 30))\n",
    "    \n",
    "    #bins, vals = experiment.ownHist(pscores, 1)\n",
    "    #print(set([bins[i] for i in range(len(bins)) if vals[i] > 0]))\n",
    "    #experiment.plotOwnHist(bins, vals, precision=1)#, ylim=(0, 30))\n",
    "    #experiment.plotOwnHist(bins, vals, precision=1, ylim=(0, 30))\n",
    "    \n",
    "    bins, vals = experiment.ownHist(pscores_raw_unmasked, 5)\n",
    "    experiment.plotOwnHist(bins, vals, title='Pattern scores, raw, unmasked', precision=1)#, ylim=(0, 30))\n",
    "    \n",
    "    bins, vals = experiment.ownHist(pscores_raw_unmasked, 5)\n",
    "    experiment.plotOwnHist(bins, vals, title='Pattern scores, raw, unmasked (zoomed)', precision=1, ylim=(0, 10))\n",
    "    \n",
    "    #bins, vals = experiment.ownHist(pscores_unmasked, 0.1)\n",
    "    #print(set([bins[i] for i in range(len(bins)) if vals[i] > 0]))\n",
    "    #experiment.plotOwnHist(bins, vals, title='Pattern loss, unmasked', precision=1)#, ylim=(0, 30))"
   ]
  },
  {
   "cell_type": "code",
   "execution_count": null,
   "metadata": {},
   "outputs": [],
   "source": [
    "if runExperiment:\n",
    "    #bins, vals = experiment.ownHist(pscores_raw, 5)\n",
    "    #experiment.plotOwnHist(bins, vals, title=\"Pattern scores, raw\", precision=1)#, ylim=(0, 30))\n",
    "    \n",
    "    #bins, vals = experiment.ownHistRel(pscores_unmasked, 1)\n",
    "    #print(set([bins[i] for i in range(len(bins)) if vals[i] > 0]))\n",
    "    #experiment.plotOwnHist(bins, vals, precision=1)#, ylim=(0, 30))\n",
    "    print()"
   ]
  },
  {
   "cell_type": "code",
   "execution_count": null,
   "metadata": {},
   "outputs": [],
   "source": [
    "if runExperiment:\n",
    "    #bins, vals = experiment.ownHist(rscores_raw, 10)\n",
    "    #experiment.plotOwnHist(bins, vals, precision=1)#, ylim=(0, 30))\n",
    "    \n",
    "    #bins, vals = experiment.ownHist(rscores, 1)\n",
    "    #print(set([bins[i] for i in range(len(bins)) if vals[i] > 0]))\n",
    "    #experiment.plotOwnHist(bins, vals, precision=1)#, ylim=(0, 30))\n",
    "    #experiment.plotOwnHist(bins, vals, precision=1, ylim=(0, 30))\n",
    "    \n",
    "    bins, vals = experiment.ownHist(rscores_raw_unmasked, 5)\n",
    "    experiment.plotOwnHist(bins, vals, title='Repeat scores, raw, unmasked', precision=1)#, ylim=(0, 30))\n",
    "    \n",
    "    bins, vals = experiment.ownHist(rscores_raw_unmasked, 5)\n",
    "    experiment.plotOwnHist(bins, vals, title='Repeat scores, raw, unmasked (zoomed)', precision=1, ylim=(0, 100))\n",
    "    \n",
    "    #bins, vals = experiment.ownHist(rscores_unmasked, 1)\n",
    "    #print(set([bins[i] for i in range(len(bins)) if vals[i] > 0]))\n",
    "    #experiment.plotOwnHist(bins, vals, title='Repeat loss, unmasked', precision=1)#, ylim=(0, 30))"
   ]
  },
  {
   "cell_type": "markdown",
   "metadata": {},
   "source": [
    "#### Draw Genomes, Pattern and Repeat Locations, and Loss Scores for each Position\n",
    "\n",
    "(scores: thin lines; top line: pattern profile (`MARIQSTANKE`), bottom line: repeat profile (`REPEATAEPER`)"
   ]
  },
  {
   "cell_type": "code",
   "execution_count": null,
   "metadata": {},
   "outputs": [],
   "source": [
    "if runExperiment:\n",
    "    #experiment.drawLossScores(pscores, rscores, genomes, N, insertTracking, repeatTracking, tile_size)\n",
    "    experiment.drawLossScores(None, None, genomes, N, insertTracking, repeatTracking, tile_size)"
   ]
  },
  {
   "cell_type": "code",
   "execution_count": null,
   "metadata": {},
   "outputs": [],
   "source": [
    "if runExperiment:\n",
    "    # reset model\n",
    "    tf.keras.backend.clear_session() # avoid memory cluttering by remains of old models\n",
    "    specProModel = None\n",
    "    %time %memit specProModel = model.SpecificProfile(k, su.aa_alphabet_size, U, Q, alpha=alpha, gamma=gamma)"
   ]
  },
  {
   "cell_type": "markdown",
   "metadata": {},
   "source": [
    "---"
   ]
  },
  {
   "cell_type": "markdown",
   "metadata": {},
   "source": [
    "---"
   ]
  },
  {
   "cell_type": "code",
   "execution_count": null,
   "metadata": {},
   "outputs": [],
   "source": [
    "def getKmersFromSites(sites, genomes, k, P, Q, epsilon=1e-6):\n",
    "    kmers = []\n",
    "    kDNA = k*3\n",
    "    for site in sites:\n",
    "        g = site[0].numpy()\n",
    "        c = site[1].numpy()\n",
    "        a = site[2].numpy()\n",
    "        if a < 0:\n",
    "            kmers.append(\"\")\n",
    "            continue\n",
    "            \n",
    "        b = min(len(genomes[g][c]), a+kDNA)\n",
    "        f = str(site[4].numpy()) if len(site) >= 5 else \"\"\n",
    "        dna = genomes[g][c][a:b]\n",
    "        dnaUC = dna.upper()\n",
    "        dnaPre = genomes[g][c][max(0,a-kDNA):a]\n",
    "        dnaPost = genomes[g][c][b:min(len(genomes[g][c]), b+kDNA)]\n",
    "        aa = dsg.sequence_translation(dnaUC)\n",
    "        aaRC = dsg.sequence_translation(dnaUC, True)\n",
    "        \n",
    "        # re-calculate score\n",
    "        if len(aa) == k:\n",
    "            score = tf.reduce_sum(\n",
    "                tf.math.multiply( dsg.oneHot(aa),\n",
    "                                  tf.math.log( tf.maximum( tf.divide(P, Q), epsilon) ) \n",
    "                                ) \n",
    "            ).numpy()\n",
    "            scoreRC = tf.reduce_sum(\n",
    "                tf.math.multiply( dsg.oneHot(aaRC),\n",
    "                                  tf.math.log( tf.maximum( tf.divide(P, Q), epsilon) ) \n",
    "                                ) \n",
    "            ).numpy()\n",
    "        else:\n",
    "            score = None\n",
    "            scoreRC = None\n",
    "        \n",
    "        kmers.append(dnaPre+\" \"+dna+\" \"+dnaPost+\"   \"+aa+\" // \"+aaRC+\"   \"+str(g)+\", \"+str(c)+\", \"+f+\"   \"+str(a)+\"   \"+str(score)+\" // \"+str(scoreRC))\n",
    "        \n",
    "    return kmers"
   ]
  },
  {
   "cell_type": "code",
   "execution_count": null,
   "metadata": {},
   "outputs": [],
   "source": [
    "# un-mask dataset\n",
    "ucgenomes = []\n",
    "for g in range(len(genomes)):\n",
    "    ucgenomes.append([])\n",
    "    for c in range(len(genomes[g])):\n",
    "        ucgenomes[g].append( genomes[g][c].upper() )"
   ]
  },
  {
   "cell_type": "code",
   "execution_count": null,
   "metadata": {},
   "outputs": [],
   "source": [
    "P, Pthresh = specProModel.getP_report()\n",
    "specProModel.setP_logit(specProModel.getP_report_raw()) # set reported P as profiles, otherwise get matches from randomly chosen seeds\n",
    "ds_sites = dsg.getDataset(ucgenomes, tiles_per_X, tile_size, True).batch(batch_size).prefetch(3)\n",
    "sites, scores = specProModel.get_profile_match_sites(ds_sites, 0, 1)\n",
    "assert len(sites) < 100, print(sites.shape)\n",
    "idx = tf.reshape( tf.argsort(scores, axis=0, direction='DESCENDING'), (-1))\n",
    "kmers = getKmersFromSites(sites, genomes, specProModel.k, P[:,:,1], specProModel.Q, specProModel.epsilon)\n",
    "\n",
    "print(tf.gather(scores ,idx), tf.gather(kmers, idx), sep='\\n')"
   ]
  },
  {
   "cell_type": "code",
   "execution_count": null,
   "metadata": {},
   "outputs": [],
   "source": [
    "_,_=printExpectedPatterns()"
   ]
  },
  {
   "cell_type": "code",
   "execution_count": null,
   "metadata": {},
   "outputs": [],
   "source": [
    "dsg.sequence_translation('cagagaacctgaagctactgctgaacctgaaag'.upper())"
   ]
  },
  {
   "cell_type": "markdown",
   "metadata": {},
   "source": [
    "---"
   ]
  },
  {
   "cell_type": "markdown",
   "metadata": {},
   "source": [
    "## Profile Score Distribution"
   ]
  },
  {
   "cell_type": "code",
   "execution_count": null,
   "metadata": {},
   "outputs": [],
   "source": [
    "def customHist(distType: str, prec = 1):\n",
    "    validDistTypes = ['score', 'loss', 'L5score']\n",
    "    assert distType in validDistTypes, \"distType must be one of \"+str(validDistTypes)\n",
    "    \n",
    "    collect = {}\n",
    "    ds_score = getDataset().batch(batch_size).prefetch(3)\n",
    "    for batch in ds_score:\n",
    "        for X in batch:\n",
    "            S, _, _ = specProModel(X)\n",
    "            if distType == 'score':\n",
    "                for s in np.array(S).flatten():\n",
    "                    score = np.math.floor(s*prec)\n",
    "                    if score not in collect:\n",
    "                        collect[score] = 0\n",
    "                        \n",
    "                    collect[score] += 1\n",
    "                    \n",
    "            if distType == 'loss':\n",
    "                _, LpU, _ = specProModel.loss(S)\n",
    "                for l in LpU:\n",
    "                    loss = np.math.floor(l*prec)\n",
    "                    if loss not in collect:\n",
    "                        collect[loss] = 0\n",
    "                        \n",
    "                    collect[loss] += 1\n",
    "                    \n",
    "            if distType == 'L5score':\n",
    "                gamma = .2\n",
    "                S2 = tf.nn.softmax(gamma*S, axis=0)\n",
    "                S3 = tf.math.multiply(S, tf.square(S2))\n",
    "                for s in np.array(S3).flatten():\n",
    "                    score = np.math.floor(s*prec)\n",
    "                    if score not in collect:\n",
    "                        collect[score] = 0\n",
    "                        \n",
    "                    collect[score] += 1\n",
    "                    \n",
    "    fkeys = [k for k in collect.keys()]\n",
    "    bins = [b for b in range(min(fkeys), max(fkeys)+1)]\n",
    "    vals = [collect[k] if k in collect else 0 for k in bins]\n",
    "    bins = [b/prec for b in bins]\n",
    "    \n",
    "    plt.bar(list(range(len(bins))), vals, tick_label=[str(b) for b in bins])\n",
    "    \n",
    "    return bins, vals"
   ]
  },
  {
   "cell_type": "code",
   "execution_count": null,
   "metadata": {},
   "outputs": [],
   "source": [
    "bins, vals = customHist('L5score', 0.5)"
   ]
  },
  {
   "cell_type": "code",
   "execution_count": null,
   "metadata": {},
   "outputs": [],
   "source": [
    "bins, vals = customHist('loss', 100)"
   ]
  },
  {
   "cell_type": "code",
   "execution_count": null,
   "metadata": {},
   "outputs": [],
   "source": [
    "bins, vals = customHist('score', 0.1)"
   ]
  },
  {
   "cell_type": "markdown",
   "metadata": {},
   "source": [
    "     P:     (k, alphSize, U) \n",
    "     X:     (tilesPerX, N, 6, T, alphSize) \n",
    "     Z:     (tilesPerX, N, 6, T-k+1, U)\n",
    "     S:     (tilesPerX, N, U)"
   ]
  },
  {
   "cell_type": "code",
   "execution_count": null,
   "metadata": {},
   "outputs": [],
   "source": [
    "Scollect = []\n",
    "Lcollect = []\n",
    "\n",
    "if not use_real_data:\n",
    "    ds_score = getDataset().batch(batch_size).prefetch(150)\n",
    "    for batch in ds_score:\n",
    "        for X in batch:\n",
    "            S, _, Z = specProModel(X)\n",
    "            _, LpU, _ = specProModel.loss(S)\n",
    "            Scollect.extend(np.array(S).flatten())\n",
    "            Lcollect.extend(np.array(LpU).flatten())"
   ]
  },
  {
   "cell_type": "code",
   "execution_count": null,
   "metadata": {},
   "outputs": [],
   "source": [
    "plt.hist(Scollect)"
   ]
  },
  {
   "cell_type": "code",
   "execution_count": null,
   "metadata": {},
   "outputs": [],
   "source": [
    "plt.hist(Lcollect)"
   ]
  },
  {
   "cell_type": "code",
   "execution_count": null,
   "metadata": {},
   "outputs": [],
   "source": [
    "if not use_real_data:\n",
    "    gamma = .01 # a small value means a more inclusive meaning of near-best\n",
    "    S2 = tf.nn.softmax(gamma*S, axis=0)\n",
    "    S3 = tf.reduce_max(S2, axis=0) # the closer to 1, the clearer is the champion match a winner\n",
    "    S4 = tf.reduce_max(S, axis=0) # ranges over tiles, or soft max like in L1\n",
    "    S5 = tf.math.multiply(S4, S3) # effectively the best score per genome is divided by the number of matches\n",
    "    loss_by_unit = tf.reduce_sum(S5, axis=0) / U # sum over genomes\n",
    "    L5 = tf.reduce_sum(loss_by_unit) # sum over profiles=units\n",
    "    plt.hist(S4[:,0].numpy().flatten(), bins=20)\n",
    "    S5.shape"
   ]
  },
  {
   "cell_type": "markdown",
   "metadata": {},
   "source": [
    "---\n",
    "\n",
    "### Profile Match Sites"
   ]
  },
  {
   "cell_type": "code",
   "execution_count": null,
   "metadata": {},
   "outputs": [],
   "source": [
    "if trainingWithReporting:\n",
    "    # un-mask dataset\n",
    "    for g in range(len(genomes)):\n",
    "        for c in range(len(genomes[g])):\n",
    "            genomes[g][c] = genomes[g][c].upper()"
   ]
  },
  {
   "cell_type": "code",
   "execution_count": null,
   "metadata": {},
   "outputs": [],
   "source": [
    "#ds_sites = dsg.getDataset(genomes, tiles_per_X, tile_size, True).batch(batch_size).prefetch(3)\n",
    "#specProModel.setP_logit(tf.math.log(specProModel.getP_report())) # set reported P as profiles, otherwise get matches from randomly chosen seeds\n",
    "##Plogit = tf.math.log(P)\n",
    "thresh = Pthresh if trainingWithReporting else match_score_factor*scores\n",
    "sites = specProModel.get_profile_match_sites(dsh.getDataset(withPosTracking = True), thresh, otherP = P)\n",
    "sites"
   ]
  },
  {
   "cell_type": "code",
   "execution_count": null,
   "metadata": {},
   "outputs": [],
   "source": [
    "plotLogo(P=specProModel.getP_report()[:,:,2:3], max_print=1, label=\"loss\")"
   ]
  },
  {
   "cell_type": "code",
   "execution_count": null,
   "metadata": {},
   "outputs": [],
   "source": [
    "print(importlib.reload(dsg))\n",
    "print(genomes[2][28][25029:25029+33])\n",
    "print(dsg.sequence_translation( genomes[2][28][25029:25029+33] ))"
   ]
  },
  {
   "cell_type": "code",
   "execution_count": null,
   "metadata": {},
   "outputs": [],
   "source": [
    "import itertools\n",
    "\n",
    "def sitesToLinks(sites):\n",
    "    links = []\n",
    "    profileToOcc = {}\n",
    "    linkProfiles = set()\n",
    "    for g, c, p, u in sites:\n",
    "        if u not in profileToOcc:\n",
    "            profileToOcc[u] = {}\n",
    "            \n",
    "        if g not in profileToOcc[u]:\n",
    "            profileToOcc[u][g] = []\n",
    "            \n",
    "        profileToOcc[u][g].append([g,c,p])\n",
    "        \n",
    "    for p in profileToOcc:\n",
    "        if (len(profileToOcc[p].keys()) == 1) or (0 not in profileToOcc[p]):\n",
    "            continue\n",
    "            \n",
    "        occs = []\n",
    "        for g in profileToOcc[p]:\n",
    "            occs.append(profileToOcc[p][g])\n",
    "            \n",
    "        l = itertools.product(*occs)\n",
    "        links.extend(l)\n",
    "        linkProfiles.add(p)\n",
    "    \n",
    "    return links, linkProfiles\n",
    "\n",
    "links, linkProfiles = sitesToLinks(sites.numpy())\n",
    "print(links[:5])\n",
    "print(linkProfiles)"
   ]
  },
  {
   "cell_type": "code",
   "execution_count": null,
   "metadata": {},
   "outputs": [],
   "source": [
    "len(links)"
   ]
  },
  {
   "cell_type": "code",
   "execution_count": null,
   "metadata": {},
   "outputs": [],
   "source": [
    "print(insertTracking)"
   ]
  },
  {
   "cell_type": "markdown",
   "metadata": {},
   "source": [
    "#### Visualize Profile Matches"
   ]
  },
  {
   "cell_type": "code",
   "execution_count": null,
   "metadata": {},
   "outputs": [],
   "source": [
    "maxplot = 4\n",
    "nplot = 0\n",
    "P = specProModel.getP()\n",
    "for g in list(sites.keys()):\n",
    "    for c in list(sites[g].keys()):\n",
    "        gseq = genomes[g][c]\n",
    "        for i in range(len(sites[g][c]['profile'])):\n",
    "            p = sites[g][c]['profile'][i]\n",
    "            pos = sites[g][c]['pos'][i]\n",
    "            score = sites[g][c]['score'][i]\n",
    "            f = sites[g][c]['frame'][i]\n",
    "            \n",
    "            match = gseq[pos:(pos+specProModel.k*3)+2]\n",
    "            match_aa = su.six_frame_translation(match)\n",
    "            profile_df = su.makeDFs(P[:,:,p:(p+1)].numpy())[0]\n",
    "            logo = logomaker.Logo(profile_df, vpad=.1, width=1)\n",
    "            logo.style_xticks(anchor=0, spacing=1, rotation=45)\n",
    "            logo.ax.set_ylabel('information (bits)')\n",
    "            logo.ax.set_title(f\"Profile {p}\" + (f\" score={score:.1f}\") + \" | sequence match (frame \"+str(f)+\") \"+', '.join(match_aa))\n",
    "            \n",
    "            nplot += 1\n",
    "            if nplot >= maxplot:\n",
    "                break\n",
    "                \n",
    "        if nplot >= maxplot:\n",
    "            break\n",
    "            \n",
    "    if nplot >= maxplot:\n",
    "        break"
   ]
  },
  {
   "cell_type": "code",
   "execution_count": null,
   "metadata": {},
   "outputs": [],
   "source": [
    "_, _ = printExpectedPatterns()"
   ]
  },
  {
   "cell_type": "markdown",
   "metadata": {},
   "source": [
    "#### \"Sensitivity\" of Profile Matches"
   ]
  },
  {
   "cell_type": "code",
   "execution_count": null,
   "metadata": {},
   "outputs": [],
   "source": [
    "def parseSequenceHeader(header):\n",
    "    fields = header.split(\"|\")\n",
    "    headDict = {}\n",
    "    for field in fields:\n",
    "        key, value = field.split(\":\")\n",
    "        assert len(field.split(\":\")) == 2, header\n",
    "        assert key not in headDict, header\n",
    "        headDict[key] = value\n",
    "\n",
    "    return headDict"
   ]
  },
  {
   "cell_type": "code",
   "execution_count": null,
   "metadata": {
    "tags": []
   },
   "outputs": [],
   "source": [
    "with open(os.path.join(datapath, \"../hg38.GTF.json\"), 'rt') as fh:\n",
    "    gtf = json.load(fh)\n",
    "    \n",
    "gtf['ENST00000219797'][:2]"
   ]
  },
  {
   "cell_type": "code",
   "execution_count": null,
   "metadata": {},
   "outputs": [],
   "source": [
    "with open(os.path.join(datapath, \"../orthologs.json\"), 'rt') as fh:\n",
    "    orthology = json.load(fh)\n",
    "    \n",
    "orthology[list(orthology.keys())[0]]"
   ]
  },
  {
   "cell_type": "code",
   "execution_count": null,
   "metadata": {},
   "outputs": [],
   "source": [
    "seqnames[0][0:2]"
   ]
  },
  {
   "cell_type": "code",
   "execution_count": null,
   "metadata": {},
   "outputs": [],
   "source": [
    "nexons = 0\n",
    "northo = 0\n",
    "for seq in seqnames[0]:\n",
    "    seqDict = parseSequenceHeader(seq)\n",
    "    if seqDict['tid'] != 'artificial':\n",
    "        northo += 1\n",
    "    if seqDict['tid'] in gtf:\n",
    "        nexons += len([1 for annot in gtf[seqDict['tid']] if annot['feature'] == 'CDS'])\n",
    "        \n",
    "print(nexons)\n",
    "print(northo)"
   ]
  },
  {
   "cell_type": "code",
   "execution_count": null,
   "metadata": {},
   "outputs": [],
   "source": [
    "tolerance = 0#3*k + 3 # allow certain position mismatch in human exons\n",
    "tp = [] # accumulate scores\n",
    "tp_links = [] # collect links for further investigation\n",
    "fp = []\n",
    "noise = []\n",
    "geneNoise = []\n",
    "exonsFound = set()\n",
    "featuresFound = set()\n",
    "orthoFound = set()\n",
    "for link in links:\n",
    "    allArt = True\n",
    "    allGen = True\n",
    "    for occ in link:\n",
    "        #print(\"DEBUG\", occ)\n",
    "        seqname = seqnames[occ[0]][occ[1]]\n",
    "        seqDict = parseSequenceHeader(seqname)\n",
    "        if seqDict['gid'] == 'artificial':\n",
    "            allGen = False\n",
    "        else:\n",
    "            allArt = False\n",
    "            \n",
    "    mscore = 0#np.mean([o[3] for o in link])\n",
    "    if allArt:\n",
    "        fp.append(mscore)\n",
    "    elif not (allArt or allGen):\n",
    "        noise.append(mscore)\n",
    "    else:\n",
    "        assert allGen\n",
    "        rSeq = seqnames[link[0][0]][link[0][1]]\n",
    "        assert rSeq in orthology, rSeq\n",
    "        if all([seqnames[o[0]][o[1]] in orthology[rSeq] for o in link[1:]]):\n",
    "            tp.append(mscore)\n",
    "            tp_links.append(link)\n",
    "            orthoFound.add(rSeq)\n",
    "            seqDict = parseSequenceHeader(rSeq)\n",
    "            tid = seqDict['tid']\n",
    "            pos = link[0][2]\n",
    "            if tid in gtf:\n",
    "                for feature in gtf[tid]:\n",
    "                    if feature['rstart']-tolerance <= pos and pos <= feature['rend']+tolerance:\n",
    "                        featuresFound.add(str(feature))\n",
    "                        if feature['feature'] == 'CDS':\n",
    "                            exonsFound.add(feature['tag'])\n",
    "                    else:\n",
    "                        print(\"[DEBUG]\", pos, \"not in\", feature['rstart'], feature['rend'], \"(\", feature['feature'],\")\")\n",
    "        else:\n",
    "            geneNoise.append(mscore)"
   ]
  },
  {
   "cell_type": "code",
   "execution_count": null,
   "metadata": {},
   "outputs": [],
   "source": [
    "print(\"TP:\", len(tp), \"| mean score:\", sum(tp)/len(tp) if len(tp) > 0 else 0)\n",
    "print(\"FP:\", len(fp), \"| mean score:\", sum(fp)/len(fp) if len(fp) > 0 else 0)\n",
    "print(\"noise:\", len(noise), \"| mean score:\", sum(noise)/len(noise) if len(noise) > 0 else 0)\n",
    "print(\"geneNoise:\", len(geneNoise), \"| mean score:\", sum(geneNoise)/len(geneNoise) if len(geneNoise) > 0 else 0)\n",
    "\n",
    "print(\"Sn:\", len(exonsFound), \"/\", nexons, \"=\", len(exonsFound)/nexons)\n",
    "print(\"hits:\", len(orthoFound), \"/\", northo, \"=\", len(orthoFound)/northo)"
   ]
  },
  {
   "cell_type": "code",
   "execution_count": null,
   "metadata": {},
   "outputs": [],
   "source": [
    "tp_links"
   ]
  },
  {
   "cell_type": "code",
   "execution_count": null,
   "metadata": {},
   "outputs": [],
   "source": [
    "seqnames[0][2]"
   ]
  },
  {
   "cell_type": "code",
   "execution_count": null,
   "metadata": {},
   "outputs": [],
   "source": [
    "for f in featuresFound:\n",
    "    print(f)"
   ]
  },
  {
   "cell_type": "code",
   "execution_count": null,
   "metadata": {},
   "outputs": [],
   "source": [
    "import plotly.graph_objects as go"
   ]
  },
  {
   "cell_type": "code",
   "execution_count": null,
   "metadata": {},
   "outputs": [],
   "source": [
    "fig = go.Figure()\n",
    "fig.add_trace(go.Histogram(x=tp, name=\"TP\", histnorm='probability'))\n",
    "fig.add_trace(go.Histogram(x=fp, name=\"FP\", histnorm='probability'))\n",
    "fig.add_trace(go.Histogram(x=noise, name=\"noise\", histnorm='probability'))\n",
    "fig.add_trace(go.Histogram(x=geneNoise, name=\"geneNoise\", histnorm='probability'))\n",
    "\n",
    "# Overlay both histograms and reduce opacity to see both histograms\n",
    "#fig.update_layout(barmode='overlay')\n",
    "#fig.update_traces(opacity=0.75)\n",
    "fig.show()"
   ]
  },
  {
   "cell_type": "code",
   "execution_count": null,
   "metadata": {},
   "outputs": [],
   "source": [
    "assert False # stop here"
   ]
  },
  {
   "cell_type": "code",
   "execution_count": null,
   "metadata": {},
   "outputs": [],
   "source": [
    "Q"
   ]
  },
  {
   "cell_type": "code",
   "execution_count": null,
   "metadata": {},
   "outputs": [],
   "source": [
    "str(P[:,:,0][0].numpy())"
   ]
  },
  {
   "cell_type": "code",
   "execution_count": null,
   "metadata": {},
   "outputs": [],
   "source": [
    "def profileToMEME(p, Q, i):\n",
    "    assert p.shape[1] == len(Q), str(p.shape)+\", \"+str(len(Q))\n",
    "    assert p.shape[1] == len(su.aa_alphabet[1:]), str(p.shape)+\", \"+str(len(su.aa_alphabet[1:]))\n",
    "    \n",
    "    text = 'MEME version 4\\n'\n",
    "    text += 'ALPHABET \"extProtein\" PROTEIN-LIKE\\n'\n",
    "    for aa in su.aa_alphabet[1:]:\n",
    "        text += aa+\"\\n\"\n",
    "        \n",
    "    text += 'END ALPHABET\\n'\n",
    "    text += \"Background letter frequencies\\n\"\n",
    "    freq = \" \".join([su.aa_alphabet[i+1]+\" \"+str(Q[i]) for i in range(len(Q))])\n",
    "    text += freq+\"\\n\"\n",
    "    text += \"MOTIF \"+str(i)+\" \"+str(i)+\"\\n\"\n",
    "    text += \"letter-probability matrix: alength= \"+str(p.shape[1])+\" w= \"+str(p.shape[0])+\"\\n\"\n",
    "    \n"
   ]
  },
  {
   "cell_type": "markdown",
   "metadata": {},
   "source": [
    "    AC  MA0001.1\n",
    "    XX\n",
    "    ID  AGL3\n",
    "    XX\n",
    "    DE  MA0001.1 AGL3; from JASPAR\n",
    "    PO       A     C     G     T\n",
    "    1        0    94     1     2\n",
    "    2        3    75     0    19\n",
    "    3       79     4     3    11\n",
    "    4       40     3     4    50\n",
    "    5       66     1     1    29\n",
    "    6       48     2     0    47\n",
    "    7       65     5     5    22\n",
    "    8       11     2     3    81\n",
    "    9       65     3    28     1\n",
    "    10       0     3    88     6\n",
    "    XX\n",
    "    CC  program: jaspar\n",
    "    XX\n",
    "    //"
   ]
  },
  {
   "cell_type": "code",
   "execution_count": null,
   "metadata": {},
   "outputs": [],
   "source": [
    "def profileToTransfac(p, i):\n",
    "    assert p.shape[1] == len(su.aa_alphabet[1:]), str(p.shape)+\", \"+str(len(su.aa_alphabet[1:]))\n",
    "    text = \"AC  \"+str(i)+\"\\n\"\n",
    "    text += \"XX\\n\"\n",
    "    text += \"ID  \"+str(i)+\"\\n\"\n",
    "    text += \"XX\\n\"\n",
    "    text += \"DE  \"+str(i)+\"\\n\"\n",
    "    text += \"PO  \"+(\" \".join([su.aa_alphabet[i+1] for i in range(len(Q))]))+\"\\n\"\n",
    "    for i in range(p.shape[0]):\n",
    "        text += str(i+1)+\"  \"+(\" \".join(str(v) for v in p.numpy()[i]))+\"\\n\"\n",
    "        \n",
    "    text += \"XX\\n\"\n",
    "    text += \"CC  program: own\\n\"\n",
    "    text += \"//\"\n",
    "    return text"
   ]
  },
  {
   "cell_type": "code",
   "execution_count": null,
   "metadata": {},
   "outputs": [],
   "source": [
    "print(profileToTransfac(P[:,:,0], 0))"
   ]
  },
  {
   "cell_type": "code",
   "execution_count": null,
   "metadata": {},
   "outputs": [],
   "source": [
    "with open(\"/nas-hs/users/matthis/genomegraph/testProfileTransfacOutput.txt\", 'wt') as fh:\n",
    "    for i in range(P.shape[2]):\n",
    "        fh.write(profileToTransfac(P[:,:,i], i))"
   ]
  },
  {
   "cell_type": "code",
   "execution_count": null,
   "metadata": {},
   "outputs": [],
   "source": [
    "def cosineSim(a: np.ndarray, b: np.ndarray):\n",
    "    assert len(a) == len(b)\n",
    "    return np.sum(a*b) / (np.sqrt(np.sum(np.square(a))) * np.sqrt(np.sum(np.square(b))))"
   ]
  },
  {
   "cell_type": "code",
   "execution_count": null,
   "metadata": {},
   "outputs": [],
   "source": [
    "cosineSim(np.array([0,1,0,0]), np.array([1,0,0,0]))"
   ]
  },
  {
   "cell_type": "code",
   "execution_count": null,
   "metadata": {},
   "outputs": [],
   "source": [
    "# modified version of https://gist.github.com/nornagon/6326a643fc30339ece3021013ed9b48c\n",
    "# enforce gapless alignment\n",
    "def smith_waterman(a, b) -> float:\n",
    "    assert a.shape[1] == b.shape[1], str(a.shape)+\", \"+str(b.shape)\n",
    "    # H holds the alignment score at each point, computed incrementally\n",
    "    H = np.zeros((a.shape[0] + 1, b.shape[0] + 1))\n",
    "    for i in range(1, a.shape[0] + 1):\n",
    "        for j in range(1, b.shape[0] + 1):\n",
    "            # The score for substituting the letter a[i-1] for b[j-1]. Generally low\n",
    "            # for mismatch, high for match.\n",
    "            H[i,j] = H[i-1,j-1] + cosineSim(a[i-1], b[j-1])\n",
    "    # The highest score is the best local alignment.\n",
    "    # For our purposes, we don't actually care _what_ the alignment was, just how\n",
    "    # aligned the two strings were.\n",
    "    return H.max()"
   ]
  },
  {
   "cell_type": "code",
   "execution_count": null,
   "metadata": {},
   "outputs": [],
   "source": [
    "def profileLogo(i, title=\"\", P=P):\n",
    "    profile_df = su.makeDFs(P[:,:,i:(i+1)].numpy())[0]\n",
    "    logo = logomaker.Logo(profile_df, vpad=.1, width=1)\n",
    "    logo.style_xticks(anchor=0, spacing=1, rotation=45)\n",
    "    logo.ax.set_ylabel('information (bits)')\n",
    "    logo.ax.set_title(title)"
   ]
  },
  {
   "cell_type": "code",
   "execution_count": null,
   "metadata": {},
   "outputs": [],
   "source": [
    "a = P[:,:,0]\n",
    "profileLogo(0, \"Reference profile\")\n",
    "\n",
    "for i in range(5653,5658):\n",
    "    b = P[:,:,i]\n",
    "    s = smith_waterman(a,b)\n",
    "    profileLogo(i, \"Aligning with score \"+str(s))"
   ]
  },
  {
   "cell_type": "code",
   "execution_count": null,
   "metadata": {},
   "outputs": [],
   "source": [
    "for i in range(P.shape[2]):\n",
    "    for j in range(i+1, P.shape[2]):\n",
    "        if smith_waterman(P[:,:,i], P[:,:,j]) >= P.shape[0]/2:\n",
    "            print(\"Similar:\",i,\"and\",j)\n",
    "            profileLogo(i,str(i))\n",
    "            profileLogo(j,str(j))"
   ]
  },
  {
   "cell_type": "markdown",
   "metadata": {},
   "source": [
    "---"
   ]
  },
  {
   "cell_type": "markdown",
   "metadata": {},
   "source": [
    "## Find Best Profiles\n",
    "\n",
    "Idea: \n",
    "* convert profiles into aa-sequences (translate max. values into aa at each position)\n",
    "* align (or perfect match?) sequences against the 6 possible pattern translations and the insert translations\n",
    "* alignment scores give an idea of how good the profiles are -> allows multiple training runs to account for randomness, evaluate how good the profiles usually are (+ variance)"
   ]
  },
  {
   "cell_type": "code",
   "execution_count": null,
   "metadata": {},
   "outputs": [],
   "source": [
    "from Bio import pairwise2\n",
    "from Bio.pairwise2 import format_alignment"
   ]
  },
  {
   "cell_type": "code",
   "execution_count": null,
   "metadata": {},
   "outputs": [],
   "source": [
    "def runTraining():\n",
    "    tf.keras.backend.clear_session() # avoid memory cluttering by remains of old models\n",
    "    \n",
    "    # build and randomly initialize profile model\n",
    "    specProModel = SpecificProfile(k, su.aa_alphabet_size, U, Q)\n",
    "    \n",
    "    #start = time()\n",
    "    specProModel.train_ds(ds, steps_per_epoch, epochs=500, verbose=False)\n",
    "    #end = time()\n",
    "    #print(f\"time: {end-start:.2f}\")\n",
    "    \n",
    "    #S, R = specProModel(X)\n",
    "    #_, (L1, L2, L4, L7) = specProModel.loss(S)\n",
    "    #pScores = tf.reduce_sum(tf.reduce_max(S,axis=0), axis=0).numpy()\n",
    "    #print(\"pScores\", pScores)\n",
    "    #np.argsort(pScores)\n",
    "    #print (\"loss=\", L1.numpy(), \"\\tL2=\", L2.numpy(), \n",
    "    #       \"\\tL4=\", L4.numpy(), \"\\nS=\", S.numpy())\n",
    "    \n",
    "    P = specProModel.getP()\n",
    "    \n",
    "    return P"
   ]
  },
  {
   "cell_type": "code",
   "execution_count": null,
   "metadata": {},
   "outputs": [],
   "source": [
    "def aaFromProfiles(P):\n",
    "    profiles_aa = []\n",
    "    for pidx in range(P.shape[2]):\n",
    "        pmat = P[:,:,pidx]\n",
    "        profiles_aa.append(su.to_aa_seq(pmat))\n",
    "\n",
    "    return profiles_aa"
   ]
  },
  {
   "cell_type": "code",
   "execution_count": null,
   "metadata": {},
   "outputs": [],
   "source": [
    "def getBestAlignments(profiles, patterns, scoreThreshold = int(k/2)):\n",
    "    scores = []\n",
    "    alignments = []\n",
    "    best_profiles = []\n",
    "    for profile in profiles:\n",
    "        pscores = []\n",
    "        palignments = []\n",
    "        for pattern in patterns:\n",
    "            als = pairwise2.align.localxd(profile, pattern, openA=-1000, extendA=-1000, openB=-1000, extendB=-1000)\n",
    "            s = [al.score for al in als]\n",
    "            if len(s) > 0:\n",
    "                pscores.append(np.argmax(s))\n",
    "                palignments.append(als[np.argmax(s)])\n",
    "\n",
    "        best_al = palignments[np.argmax(pscores)]\n",
    "        if best_al.score >= scoreThreshold:\n",
    "            scores.append(best_al.score)\n",
    "            alignments.append(best_al)\n",
    "            best_profiles.append(profile)\n",
    "\n",
    "    if len(scores) > 0:\n",
    "        sortedIdx = np.argsort([-s for s in scores])\n",
    "        scores = [scores[i] for i in sortedIdx]\n",
    "        alignments = [alignments[i] for i in sortedIdx]\n",
    "        best_profiles = [best_profiles[i] for i in sortedIdx]\n",
    "    \n",
    "    return scores, alignments, best_profiles"
   ]
  },
  {
   "cell_type": "code",
   "execution_count": null,
   "metadata": {},
   "outputs": [],
   "source": [
    "if False:\n",
    "    for i in range(20):\n",
    "        P = runTraining()\n",
    "        profiles = aaFromProfiles(P)\n",
    "        print(\"Run\", i)\n",
    "        if insertPatterns is not None:\n",
    "            print(\"Desired profiles:\")\n",
    "            patternScores, patternAlignments, patternProfiles = getBestAlignments(profiles, desiredPatternAA)\n",
    "            for i in range(len(patternScores)):\n",
    "                    print(patternProfiles[i])\n",
    "                    print(format_alignment(*(patternAlignments[i])))\n",
    "\n",
    "        if repeatPatterns is not None:\n",
    "            print(\"Undesired profiles:\")\n",
    "            repeatScores, repeatAlignments, repeatProfiles = getBestAlignments(profiles, repeatPatternAA)\n",
    "            for i in range(len(repeatScores)):\n",
    "                    print(repeatProfiles[i])\n",
    "                    print(format_alignment(*(repeatAlignments[i])))\n",
    "\n",
    "        print(\"\")\n",
    "        print(\"-----\")\n",
    "        print(\"\")\n",
    "        \n",
    "else:\n",
    "    P = specProModel.getP()\n",
    "    profiles = aaFromProfiles(P)\n",
    "\n",
    "    if insertPatterns is not None:\n",
    "        print(\"Desired profiles:\")\n",
    "        patternScores, patternAlignments, patternProfiles = getBestAlignments(profiles, desiredPatternAA, scoreThreshold=4)\n",
    "        for i in range(len(patternScores)):\n",
    "                print(patternProfiles[i])\n",
    "                print(format_alignment(*(patternAlignments[i])))\n",
    "\n",
    "    if repeatPatterns is not None:\n",
    "        print(\"Undesired profiles:\")\n",
    "        repeatScores, repeatAlignments, repeatProfiles = getBestAlignments(profiles, repeatPatternAA, scoreThreshold=4)\n",
    "        for i in range(len(repeatScores)):\n",
    "            print(repeatProfiles[i])\n",
    "            print(format_alignment(*(repeatAlignments[i])))"
   ]
  },
  {
   "cell_type": "code",
   "execution_count": null,
   "metadata": {},
   "outputs": [],
   "source": [
    "R = specProModel.getR()\n",
    "profiles = aaFromProfiles(R)\n",
    "if insertPatterns is not None:\n",
    "    print(\"Desired profiles:\")\n",
    "    patternScores, patternAlignments, patternProfiles = getBestAlignments(profiles, desiredPatternAA, scoreThreshold=4)\n",
    "    for i in range(len(patternScores)):\n",
    "            print(patternProfiles[i])\n",
    "            print(format_alignment(*(patternAlignments[i])))\n",
    "\n",
    "if repeatPatterns is not None:\n",
    "    print(\"Undesired profiles:\")\n",
    "    repeatScores, repeatAlignments, repeatProfiles = getBestAlignments(profiles, repeatPatternAA, scoreThreshold=4)\n",
    "    for i in range(len(repeatScores)):\n",
    "        print(repeatProfiles[i])\n",
    "        print(format_alignment(*(repeatAlignments[i])))"
   ]
  },
  {
   "cell_type": "markdown",
   "metadata": {},
   "source": [
    "---\n",
    "\n",
    "### Evaluate Parameter Grid"
   ]
  },
  {
   "cell_type": "code",
   "execution_count": null,
   "metadata": {},
   "outputs": [],
   "source": [
    "from datetime import time, datetime\n",
    "import pandas as pd\n",
    "import plotly.graph_objects as go\n",
    "import plotly.express as px"
   ]
  },
  {
   "cell_type": "code",
   "execution_count": null,
   "metadata": {},
   "outputs": [],
   "source": [
    "dfN = pd.read_csv(\"20211111_evaluate_gensize_N.csv\")\n",
    "dfGS = pd.read_csv(\"20211111_evaluate_gensize_GS.csv\")\n",
    "dfNS = pd.read_csv(\"20211111_evaluate_gensize_NS.csv\")\n",
    "print(dfN)\n",
    "print(dfGS)\n",
    "print(dfNS)"
   ]
  },
  {
   "cell_type": "code",
   "execution_count": null,
   "metadata": {},
   "outputs": [],
   "source": [
    "def timeFromStr(tstr: str):\n",
    "    h,m,s = tstr.split(\":\")\n",
    "    s, us = s.split(\".\")\n",
    "    us = float(\"0.\"+us) * 1000000\n",
    "    #print(h,m,s,us)\n",
    "    return time(int(h),int(m),int(s), int(us))\n",
    "\n",
    "def secondsFromStr(tstr: str):\n",
    "    h,m,s = tstr.split(\":\")\n",
    "    seconds = (int(h)*60*60) + (int(m)*60) + float(s)\n",
    "    return seconds\n",
    "    \n",
    "runtime = [secondsFromStr(s) for s in df['runtime']]"
   ]
  },
  {
   "cell_type": "code",
   "execution_count": null,
   "metadata": {},
   "outputs": [],
   "source": [
    "fig = go.Figure()\n",
    "fig.add_trace(go.Scatter(x=df['U'], y=runtime, name=\"runtime\"))\n",
    "fig.update_xaxes(title_text='U')\n",
    "fig.update_yaxes(title_text='runtime [s]')#, type='log')\n",
    "fig.show()\n",
    "\n",
    "\n",
    "fig = go.Figure()\n",
    "fig.add_trace(go.Scatter(x=df['U'], y=df['memory'], name=\"memory [MB]\"))\n",
    "fig.update_xaxes(title_text='U')\n",
    "fig.update_yaxes(title_text='Memory [MB]')\n",
    "fig.show()"
   ]
  },
  {
   "cell_type": "code",
   "execution_count": null,
   "metadata": {},
   "outputs": [],
   "source": [
    "gsN = []\n",
    "for _, row in dfN.iterrows():\n",
    "    gsN.append(int(row['N']) * int(row['genome-sizes']))\n",
    "    \n",
    "gsGS = []\n",
    "for _, row in dfGS.iterrows():\n",
    "    gsGS.append(int(row['N']) * int(row['genome-sizes']))\n",
    "    \n",
    "gsNS = []\n",
    "for _, row in dfNS.iterrows():\n",
    "    gs = [int(s) for s in row['genome-sizes'].split()]\n",
    "    gsNS.append(int(row['N']) * sum(gs))\n",
    "\n",
    "fig = go.Figure()\n",
    "fig.add_trace(go.Scatter(x=gsN, y=[secondsFromStr(s) for s in dfN['runtime']], name=\"runtime N\"))\n",
    "fig.add_trace(go.Scatter(x=gsGS, y=[secondsFromStr(s) for s in dfGS['runtime']], name=\"runtime GS\"))\n",
    "fig.add_trace(go.Scatter(x=gsNS, y=[secondsFromStr(s) for s in dfNS['runtime']], name=\"runtime NS\"))\n",
    "fig.update_xaxes(title_text='genome size')\n",
    "fig.update_yaxes(title_text='runtime [s]')\n",
    "fig.show()\n",
    "\n",
    "\n",
    "fig = go.Figure()\n",
    "fig.add_trace(go.Scatter(x=gsN, y=dfN['memory'], name=\"memory [MB] N\"))\n",
    "fig.add_trace(go.Scatter(x=gsGS, y=dfGS['memory'], name=\"memory [MB] GS\"))\n",
    "fig.add_trace(go.Scatter(x=gsNS, y=dfNS['memory'], name=\"memory [MB] NS\"))\n",
    "fig.update_xaxes(title_text='genome size')\n",
    "fig.update_yaxes(title_text='Memory [MB]')\n",
    "fig.show()"
   ]
  },
  {
   "cell_type": "code",
   "execution_count": null,
   "metadata": {},
   "outputs": [],
   "source": [
    "x = []\n",
    "yr = []\n",
    "ym = []\n",
    "for _, row in dfN.iterrows():\n",
    "    x.append(int(row['N']))\n",
    "    yr.append(secondsFromStr(row['runtime']))\n",
    "    ym.append(float(row['memory']))\n",
    "    \n",
    "fig = go.Figure()\n",
    "fig.add_trace(go.Scatter(x=x, y=yr, name=\"runtime\"))\n",
    "fig.update_xaxes(title_text='genome size')\n",
    "fig.update_yaxes(title_text='runtime [s]')\n",
    "fig.show()\n",
    "\n",
    "\n",
    "fig = go.Figure()\n",
    "fig.add_trace(go.Scatter(x=x, y=ym, name=\"memory [MB] N\"))\n",
    "fig.update_xaxes(title_text='genome size')\n",
    "fig.update_yaxes(title_text='Memory [MB]')\n",
    "fig.show()"
   ]
  },
  {
   "cell_type": "code",
   "execution_count": null,
   "metadata": {},
   "outputs": [],
   "source": [
    "x = []\n",
    "yr = []\n",
    "ym = []\n",
    "for _, row in dfGS.iterrows():\n",
    "    x.append(int(row['genome-sizes']))\n",
    "    yr.append(secondsFromStr(row['runtime']))\n",
    "    ym.append(float(row['memory']))\n",
    "    \n",
    "fig = go.Figure()\n",
    "fig.add_trace(go.Scatter(x=x, y=yr, name=\"runtime\"))\n",
    "fig.update_xaxes(title_text='genome size')\n",
    "fig.update_yaxes(title_text='runtime [s]')\n",
    "fig.show()\n",
    "\n",
    "\n",
    "fig = go.Figure()\n",
    "fig.add_trace(go.Scatter(x=x, y=ym, name=\"memory [MB] N\"))\n",
    "fig.update_xaxes(title_text='genome size')\n",
    "fig.update_yaxes(title_text='Memory [MB]')\n",
    "fig.show()"
   ]
  },
  {
   "cell_type": "code",
   "execution_count": null,
   "metadata": {},
   "outputs": [],
   "source": [
    "x = []\n",
    "yr = []\n",
    "ym = []\n",
    "for _, row in dfNS.iterrows():\n",
    "    x.append(sum([int(s) for s in row['genome-sizes'].split()]))\n",
    "    yr.append(secondsFromStr(row['runtime']))\n",
    "    ym.append(float(row['memory']))\n",
    "    \n",
    "fig = go.Figure()\n",
    "fig.add_trace(go.Scatter(x=x, y=yr, name=\"runtime\"))\n",
    "fig.update_xaxes(title_text='genome size')\n",
    "fig.update_yaxes(title_text='runtime [s]')\n",
    "fig.show()\n",
    "\n",
    "\n",
    "fig = go.Figure()\n",
    "fig.add_trace(go.Scatter(x=x, y=ym, name=\"memory [MB] N\"))\n",
    "fig.update_xaxes(title_text='genome size')\n",
    "fig.update_yaxes(title_text='Memory [MB]')\n",
    "fig.show()"
   ]
  }
 ],
 "metadata": {
  "kernelspec": {
   "display_name": "Python 3",
   "language": "python",
   "name": "python3"
  },
  "language_info": {
   "codemirror_mode": {
    "name": "ipython",
    "version": 3
   },
   "file_extension": ".py",
   "mimetype": "text/x-python",
   "name": "python",
   "nbconvert_exporter": "python",
   "pygments_lexer": "ipython3",
   "version": "3.9.2"
  }
 },
 "nbformat": 4,
 "nbformat_minor": 4
}
