{
 "cells": [
  {
   "cell_type": "markdown",
   "metadata": {},
   "source": [
    "### Custom ML model to identify local similarities (\"links\") with sequence profiles\n",
    "\n",
    "Let $$X \\in \\{0,1\\}^{B\\times N\\times 6 \\times T \\times 21}$$ be a batch of **one-hot encoded input translated sequences**,\n",
    "where $B$ is `batch_size`, $N$ is the number of genomes and $T$ is the `tile_size` (in aa).\n",
    "The 6 is here the number of translated frames in order (0,+),(1,+),(2,+),(0,-),(1,-),(2,-).\n",
    "The 21 is here the size of the considered amino acid alphabet.\n"
   ]
  },
  {
   "cell_type": "code",
   "execution_count": 1,
   "metadata": {},
   "outputs": [
    {
     "name": "stderr",
     "output_type": "stream",
     "text": [
      "2022-03-11 16:16:38.524802: W tensorflow/stream_executor/platform/default/dso_loader.cc:64] Could not load dynamic library 'libcudart.so.11.0'; dlerror: libcudart.so.11.0: cannot open shared object file: No such file or directory\n",
      "2022-03-11 16:16:38.524874: I tensorflow/stream_executor/cuda/cudart_stub.cc:29] Ignore above cudart dlerror if you do not have a GPU set up on your machine.\n"
     ]
    },
    {
     "name": "stdout",
     "output_type": "stream",
     "text": [
      "<module 'sequtils' from '/home/mario/Dropbox/learn_specific_profiles/sequtils.py'>\n",
      "<module 'seq' from '/home/mario/Dropbox/learn_specific_profiles/seq.py'>\n",
      "2.7.0\n"
     ]
    }
   ],
   "source": [
    "import numpy as np\n",
    "import pickle\n",
    "import tensorflow as tf\n",
    "import logomaker\n",
    "from time import time\n",
    "from tqdm import tqdm\n",
    "from IPython.display import Audio\n",
    "\n",
    "import importlib\n",
    "import sequtils as su\n",
    "print(importlib.reload(su))\n",
    "import seq\n",
    "print(importlib.reload(seq))\n",
    "\n",
    "print(tf.__version__)\n",
    "\n",
    "%load_ext memory_profiler"
   ]
  },
  {
   "cell_type": "markdown",
   "metadata": {},
   "source": [
    "### Create random genomes as toy data "
   ]
  },
  {
   "cell_type": "code",
   "execution_count": 2,
   "metadata": {},
   "outputs": [],
   "source": [
    "N = 8            # number of genomes\n",
    "tile_size = 334  # tile size measured in amino acids\n",
    "# A tile is a consecutive subsequence of _one_ contig/scaffold/chromosome.\n",
    "# Tiles should be about gene-sized.\n",
    "\n",
    "#genome_sizes = [[210,100], [30,220,150], [230,110,120,90], [180]] # in nucleotides\n",
    "#insertPatterns = [\"ATGATGATG\", \"CCCCCCCCCCCC\"]\n",
    "#genomes = seq.getRandomGenomes(N, genome_sizes, insertPatterns, mutationProb=0.2, verbose=True)\n",
    "\n",
    "genome_sizes = [[10000]] * N\n",
    "                # in nucleotides\n",
    "insertPatterns = [\"ATGGCAAGAATTCAATCTACTGCAAATAAAGAA\"]\n",
    "repeatPatterns = ['AGAGAACCTGAAGCTACTGCTGAACCTGAAAGA']\n",
    "genomes = seq.getRandomGenomes(N, genome_sizes, insertPatterns,\n",
    "                               repeatPatterns,\n",
    "                               mutationProb=0.0, verbose=False)"
   ]
  },
  {
   "cell_type": "code",
   "execution_count": 3,
   "metadata": {},
   "outputs": [
    {
     "name": "stdout",
     "output_type": "stream",
     "text": [
      "Desired: ['MARIQSTANKE', 'WQEFNLLQIK', 'GKNSIYCK*R', 'FFICSRLNSCH', 'SLFAVD*ILA', 'LYLQ*IEFLP']\n",
      "Repeat: ['REPEATAEPER', 'ENLKLLLNLK', 'RT*SYC*T*K', 'SFRFSSSFRFS', 'LSGSAVASGS', 'FQVQQ*LQVL']\n"
     ]
    }
   ],
   "source": [
    "if insertPatterns is not None:\n",
    "    desiredPatternAA = []\n",
    "    for pattern in insertPatterns:\n",
    "        desiredPatternAA.extend(su.six_frame_translation(pattern))\n",
    "    \n",
    "    print(\"Desired:\", desiredPatternAA)\n",
    "    \n",
    "if repeatPatterns is not None:\n",
    "    repeatPatternAA = []\n",
    "    for pattern in repeatPatterns:\n",
    "        repeatPatternAA.extend(su.six_frame_translation(pattern))\n",
    "\n",
    "    print(\"Repeat:\", repeatPatternAA)"
   ]
  },
  {
   "cell_type": "markdown",
   "metadata": {},
   "source": [
    "---\n",
    "\n",
    "#### Interlude: Magic Commands\n",
    "\n",
    "https://towardsdatascience.com/speed-up-jupyter-notebooks-20716cbe2025\n",
    "\n",
    "`%time command` prints runtime of command  \n",
    "`%prun command` profiler for command, what steps take how much time? Adds overhead  \n",
    "`%memit command` peak memory usage and memory increment  \n",
    "`%mprun command` memory profiling\n",
    "\n",
    "---"
   ]
  },
  {
   "cell_type": "code",
   "execution_count": 4,
   "metadata": {},
   "outputs": [
    {
     "name": "stdout",
     "output_type": "stream",
     "text": [
      "background freqs:  159968.0 *\n",
      "C 0.0316\n",
      "K 0.0319\n",
      "E 0.0335\n",
      "W 0.0144\n",
      "T 0.0620\n",
      "G 0.0597\n",
      "Y 0.0310\n",
      "A 0.0623\n",
      "I 0.0457\n",
      "N 0.0311\n",
      "V 0.0620\n",
      "H 0.0303\n",
      "S 0.0966\n",
      "D 0.0306\n",
      "F 0.0331\n",
      "M 0.0153\n",
      "R 0.0931\n",
      "L 0.0958\n",
      "P 0.0598\n",
      "Q 0.0324\n",
      "* 0.0477\n",
      "CPU times: user 128 ms, sys: 1.01 ms, total: 129 ms\n",
      "Wall time: 127 ms\n"
     ]
    }
   ],
   "source": [
    "# Load Real Data\n",
    "if False:\n",
    "    from Bio import SeqIO\n",
    "    import os\n",
    "    \n",
    "    files = ['hg38.fa', 'mm10.fa', 'hetGla2.fa', 'macFas5.fa']\n",
    "    genomes = [[] for _ in range(len(files))]\n",
    "    datapath = \"/nas-hs/projs/seedFinding/data/20210517_flanked/\"\n",
    "    def loadRealGenomes(genomes=genomes):\n",
    "        for i in range(len(files)):\n",
    "            genomes[i].extend([str(seq.seq) for seq in SeqIO.parse(os.path.join(datapath, files[i]), 'fasta')])\n",
    "            \n",
    "    %memit loadRealGenomes()\n",
    "    \n",
    "    # load pickled Q to safe time\n",
    "    Qfile = os.path.join(datapath, \"backgroundAAFreqs.pkl4\")\n",
    "    if not os.path.isfile(Qfile):\n",
    "        print(\"Getting Q\")\n",
    "        %time Q = seq.backGroundAAFreqs(genomes, True)\n",
    "        with open(Qfile, 'wb') as fh:\n",
    "            pickle.dump(Q, fh, protocol=4)\n",
    "            \n",
    "    else:\n",
    "        with open(Qfile, 'rb') as fh:\n",
    "            Q = pickle.load(fh)\n",
    "    \n",
    "else:\n",
    "    %time Q = seq.backGroundAAFreqs(genomes, True)"
   ]
  },
  {
   "cell_type": "markdown",
   "metadata": {},
   "source": [
    "For seedFinding data on gs3\n",
    "\n",
    "    background freqs:  765611260.0 *\n",
    "    C 0.0329\n",
    "    K 0.0412\n",
    "    E 0.0332\n",
    "    W 0.0165\n",
    "    T 0.0578\n",
    "    G 0.0558\n",
    "    Y 0.0334\n",
    "    A 0.0510\n",
    "    I 0.0546\n",
    "    N 0.0361\n",
    "    V 0.0578\n",
    "    H 0.0321\n",
    "    S 0.0929\n",
    "    D 0.0280\n",
    "    F 0.0406\n",
    "    M 0.0172\n",
    "    R 0.0710\n",
    "    L 0.1039\n",
    "    P 0.0558\n",
    "    Q 0.0352\n",
    "    * 0.0527\n",
    "    CPU times: user 7min 14s, sys: 1.69 s, total: 7min 16s\n",
    "    Wall time: 7min 16s"
   ]
  },
  {
   "cell_type": "code",
   "execution_count": 5,
   "metadata": {},
   "outputs": [
    {
     "data": {
      "text/plain": [
       "10000"
      ]
     },
     "execution_count": 5,
     "metadata": {},
     "output_type": "execute_result"
    }
   ],
   "source": [
    "len(genomes[0][0])"
   ]
  },
  {
   "cell_type": "code",
   "execution_count": 6,
   "metadata": {},
   "outputs": [],
   "source": [
    "# uniform background distribution appears to be rather better\n",
    "Q = np.ones(21, dtype=np.float32)/21"
   ]
  },
  {
   "cell_type": "markdown",
   "metadata": {},
   "source": [
    "#### Read in the genome"
   ]
  },
  {
   "cell_type": "code",
   "execution_count": 7,
   "metadata": {},
   "outputs": [
    {
     "data": {
      "text/plain": [
       "'ACAGGATTTAATGGGCAACGATACACGTGCTGTATCGATTTCTACCTCGTGGGGAACCAGCCACAATGGAAGCACATGCCAAATTGATTAGAATATAACC'"
      ]
     },
     "execution_count": 7,
     "metadata": {},
     "output_type": "execute_result"
    }
   ],
   "source": [
    "genomes[0][0][0:100]"
   ]
  },
  {
   "attachments": {
    "20210929_profileFindingBatchTranslationSketch-5.png": {
     "image/png": "[encoded data removed]"
    }
   },
   "cell_type": "markdown",
   "metadata": {},
   "source": [
    "six frame translation in batch mode:\n",
    "\n",
    "<img src=\"attachment:20210929_profileFindingBatchTranslationSketch-5.png\" width=\"600\" />"
   ]
  },
  {
   "cell_type": "code",
   "execution_count": 8,
   "metadata": {},
   "outputs": [],
   "source": [
    "# manually handle reverse complements, assume that len(S) = x*3 + 2\n",
    "def three_frame_translation(S):\n",
    "    assert len(S) % 3 == 2, str(len(S))+\" % 3 = \"+str(len(S)%3)+\"\\n\\n'\"+str(S)+\"'\"\n",
    "    T = []\n",
    "    for f in range(3): # frame\n",
    "        prot = \"\"\n",
    "        for i in range(f, len(S)-3+1, 3):\n",
    "            codon = S[i:i+3]\n",
    "            if codon not in su.genetic_code: # real sequences may contain N's or softmasking or ambiguous bases\n",
    "                prot += ' '                  # use null aa in that case\n",
    "            else:\n",
    "                prot += su.genetic_code[codon]\n",
    "        T.append(prot)\n",
    "    return T\n",
    "\n",
    "def translateSequences(fwdSeq, pre_rcSeq, startPadding: bool):\n",
    "    rcSeq = pre_rcSeq[::-1].translate(su.rctbl)\n",
    "    if startPadding:\n",
    "        rcSeq += '  ' # add padding\n",
    "        \n",
    "    fwdSeq += ' '*(2-(len(fwdSeq)%3)) # add padding such that len%3==2\n",
    "    rcSeq = ' '*(2-(len(rcSeq)%3)) + rcSeq\n",
    "\n",
    "    # some nucleotides are part of both neighboring tiles\n",
    "    aa_seqs_fwd = three_frame_translation(fwdSeq)\n",
    "    aa_seqs_rc  = three_frame_translation(rcSeq)\n",
    "    aa_seqs_fwd.extend(aa_seqs_rc)\n",
    "    return aa_seqs_fwd\n",
    "\n",
    "# try using a generator to get genome batches\n",
    "#def createBatch(genomes, ntiles, aa_tile_size: int):\n",
    "def createBatch(ntiles, aa_tile_size: int, genomes = genomes):\n",
    "    assert aa_tile_size >= 1, \"aa_tile_size must be positive, non-zero (is: \"+str(aa_tile_size)+\")\"\n",
    "    tile_size = aa_tile_size * 3 # tile_size % 3 always 0\n",
    "    N = len(genomes)\n",
    "    state = [{'idx': 0, 'pos': 0, 'exhausted': (len(seqs) == 0)} for seqs in genomes]\n",
    "    while not all(s['exhausted'] for s in state):\n",
    "        X = np.zeros([ntiles, N, 6, aa_tile_size, su.aa_alphabet_size], dtype=np.float32)\n",
    "        I = np.eye(su.aa_alphabet_size + 1) # for numpy-style one-hot encoding\n",
    "        for t in range(ntiles):\n",
    "            for i in range(N):\n",
    "                if state[i]['exhausted']:\n",
    "                    continue\n",
    "                    \n",
    "                sidx = state[i]['idx']\n",
    "                slen = len(genomes[i][sidx])\n",
    "                \n",
    "                start = state[i]['pos']\n",
    "                end = min(slen, start+tile_size)\n",
    "                framestart = max(0, start-2)\n",
    "                frameend = min(slen, end+2)\n",
    "                assert start < end\n",
    "                assert framestart < end\n",
    "                \n",
    "                # update state\n",
    "                state[i]['pos'] = end\n",
    "                if end == slen:\n",
    "                    state[i]['idx'] += 1\n",
    "                    state[i]['pos'] = 0\n",
    "                    \n",
    "                if state[i]['idx'] == len(genomes[i]):\n",
    "                    state[i]['exhausted'] = True\n",
    "                                \n",
    "                # translate and add tiles\n",
    "                sequence = genomes[i][sidx]\n",
    "                if type(sequence) is not str:\n",
    "                    sequence = str(sequence) # with tf, input are byte-strings and need to be converted back\n",
    "                    \n",
    "                aa_seqs = translateSequences(sequence[start:frameend], \n",
    "                                             sequence[framestart:end],\n",
    "                                             (start ==0))\n",
    "                for frame in range(6):\n",
    "                    aa_seq = aa_seqs[frame]\n",
    "                    assert len(aa_seq) <= aa_tile_size, str(len(aa_seq))+\" != \"+str(aa_tile_size)+\", start, end, frameend, slen, tile, genome, frame: \"+str((start, end, frameend, slen, t, i, frame))                        \n",
    "                    x = su.to_idx(aa_seq, su.aa_idx)\n",
    "                    num_aa = x.shape[0]\n",
    "                    if (num_aa > 0):\n",
    "                        one_hot = I[x] # here still aa_alphabet_size + 1 entries\n",
    "                        # missing sequence will be represented by an all-zero vector\n",
    "                        one_hot = one_hot[:,1:] \n",
    "                        X[t,i,frame,0:num_aa,:] = one_hot\n",
    "                        \n",
    "        yield X"
   ]
  },
  {
   "cell_type": "markdown",
   "metadata": {},
   "source": [
    "---\n",
    "\n",
    "_**Test Batch Generator**_\n",
    "\n",
    "Retranslate and assemble all batches, compare to translations of genome sequences\n",
    "\n",
    "_So far, fails for seedFinding data, no idea why_"
   ]
  },
  {
   "cell_type": "code",
   "execution_count": 9,
   "metadata": {
    "scrolled": true
   },
   "outputs": [
    {
     "name": "stderr",
     "output_type": "stream",
     "text": [
      "2it [00:01,  1.06it/s]\n"
     ]
    }
   ],
   "source": [
    "# limit test to subset of sequences for large genomes\n",
    "if max([sum([len(s) for s in genome]) for genome in genomes]) > 100000:\n",
    "    testgenome = [[]]*len(genomes)\n",
    "    while max([sum([len(s) for s in genome]) for genome in testgenome]) <= 100000:\n",
    "        i = 0\n",
    "        for g in range(len(genomes)):\n",
    "            if i < len(genomes[g]):\n",
    "                testgenome[g].append(genomes[g][i])\n",
    "                \n",
    "        i += 1\n",
    "else:\n",
    "    testgenome = [[s for s in genome] for genome in genomes]\n",
    "    \n",
    "# translate and concatenate whole testgenome aa sequences\n",
    "genome_aa = [[\"\"]*6 for _ in range(len(testgenome))]\n",
    "for g in range(len(testgenome)):\n",
    "    for i in range(len(testgenome[g])):\n",
    "        aa_seqs = su.six_frame_translation(testgenome[g][i])\n",
    "        for f in range(len(aa_seqs)):\n",
    "            genome_aa[g][f] += aa_seqs[f].replace(' ', '')#.lstrip().rstrip()\n",
    "\n",
    "# prepare generator testing\n",
    "rev_aa_idx = dict((i,c) for i,c in enumerate(su.aa_alphabet))\n",
    "\n",
    "def to_aa(onehot):\n",
    "    assert onehot.shape[1] == 21, str(onehot.shape)\n",
    "    aa_seq = \"\"\n",
    "    for c in range(onehot.shape[0]):\n",
    "        if np.max(onehot[c,:]) != 1:\n",
    "            continue\n",
    "        else:\n",
    "            aa_idx = np.argmax(onehot[c,:])\n",
    "            assert onehot[c, aa_idx] == 1, str(onehot[c,:])+\", \"+str(aa_idx)+\", \"+str(onehot[c,aa_idx])\n",
    "            aa_idx += 1 # argmax + 1 as in translation, empty aa is cut out\n",
    "            aa_seq += rev_aa_idx[aa_idx]\n",
    "        \n",
    "    return aa_seq#.lstrip().rstrip()\n",
    "\n",
    "X_to_genome_aa = [[\"\"]*6 for _ in range(len(testgenome))] # for each genome and each frame, concatenate translated aa seqs\n",
    "\n",
    "# create generator\n",
    "#Xgen = createBatch(testgenome, 5, tile_size)\n",
    "Xgen = createBatch(5, tile_size, testgenome)\n",
    "\n",
    "# iterate through generator, transforming and concatenating aa sequences\n",
    "# X.shape [ntiles, N, 6, tile_size, su.aa_alphabet_size]\n",
    "for X in tqdm(Xgen):\n",
    "    for t in range(X.shape[0]):\n",
    "        for g in range(X.shape[1]):\n",
    "            for f in range(X.shape[2]):\n",
    "                x_aa_seq = to_aa(X[t,g,f,:,:])\n",
    "                if f < 3:\n",
    "                    X_to_genome_aa[g][f] += x_aa_seq\n",
    "                else:\n",
    "                    #fr = 5 if f == 3 else f-1 # for some reason, frames rotate in generator compared to direct translation\n",
    "                    #X_to_genome_aa[g][fr] = x_aa_seq + X_to_genome_aa[g][fr]\n",
    "                    X_to_genome_aa[g][f] = x_aa_seq + X_to_genome_aa[g][f]\n",
    "            \n",
    "# compare aa sequences\n",
    "# assert np.all(genome_aa == X_to_genome_aa), str(genome_aa)+\"\\n\\n!=\\n\\n\"+str(X_to_genome_aa)"
   ]
  },
  {
   "cell_type": "code",
   "execution_count": 10,
   "metadata": {
    "scrolled": true
   },
   "outputs": [],
   "source": [
    "# In case of failure, see where the sequences differ or if only frames were shifted (for some unknown reason)\n",
    "\n",
    "assert len(genome_aa) == len(X_to_genome_aa)\n",
    "for g in range(len(genome_aa)):\n",
    "    assert len(genome_aa[g]) == len(X_to_genome_aa[g])\n",
    "    for f in range(len(genome_aa[g])):\n",
    "        if genome_aa[g][f] != X_to_genome_aa[g][f]:\n",
    "            if f < 3 or (not (genome_aa[g][f] == X_to_genome_aa[g][3] \\\n",
    "                              or genome_aa[g][f] == X_to_genome_aa[g][4] \\\n",
    "                              or genome_aa[g][f] == X_to_genome_aa[g][5])):\n",
    "                print(\"genome\", g, \"-- frame\", f)\n",
    "                for i in range(len(X_to_genome_aa[g][f])):\n",
    "                    if X_to_genome_aa[g][f][i] == genome_aa[g][f][i]:\n",
    "                        print(X_to_genome_aa[g][f][i], genome_aa[g][f][i], i)\n",
    "\n",
    "                    else:\n",
    "                        print(X_to_genome_aa[g][f][i], genome_aa[g][f][i], i, \"<--\")\n",
    "\n",
    "                assert False"
   ]
  },
  {
   "cell_type": "markdown",
   "metadata": {},
   "source": [
    "---"
   ]
  },
  {
   "cell_type": "code",
   "execution_count": 11,
   "metadata": {},
   "outputs": [
    {
     "name": "stdout",
     "output_type": "stream",
     "text": [
      "[10000, 10000, 10000, 10000, 10000, 10000, 10000, 10000]  ->  1\n"
     ]
    }
   ],
   "source": [
    "genome_sizes = [sum([len(s) for s in genome]) for genome in genomes]\n",
    "batch_size = 1  # number of X to generate per batch\n",
    "tiles_per_X = 13 # number of tiles per X (-> X.shape[0])\n",
    "steps_per_epoch = max(1, np.mean(genome_sizes) // (batch_size*tiles_per_X*tile_size*3))\n",
    "print(genome_sizes, \" -> \", steps_per_epoch)"
   ]
  },
  {
   "cell_type": "code",
   "execution_count": 12,
   "metadata": {},
   "outputs": [],
   "source": [
    "def getDataset():\n",
    "    ds = tf.data.Dataset.from_generator(\n",
    "        createBatch,\n",
    "        #args = (tf.constant(genomes, dtype=tf.string), tf.constant(tiles_per_X), tf.constant(tile_size)),\n",
    "        args = (tf.constant(tiles_per_X), tf.constant(tile_size)),\n",
    "        \n",
    "        # vvv used in newer versions of TF vvv\n",
    "        # output_signature = (tf.TensorSpec(shape = [batch_size, len(genomes), 6, tile_size, su.aa_alphabet_size], \n",
    "        #                                   dtype = tf.float32))\n",
    "        \n",
    "        # vvv deprecated in newer versions of TF vvv\n",
    "        output_types = tf.float32,\n",
    "        output_shapes = tf.TensorShape([tiles_per_X, len(genomes), 6, tile_size, su.aa_alphabet_size])\n",
    "    )\n",
    "    return ds"
   ]
  },
  {
   "cell_type": "code",
   "execution_count": 13,
   "metadata": {},
   "outputs": [],
   "source": [
    "def plotLogo(P, idxarray = None, scores = None, losses = None, max_print=5):\n",
    "    \"\"\"\n",
    "    max_print  print up to this many logos\n",
    "    \"\"\"\n",
    "    dfs = su.makeDFs(P.numpy())\n",
    "    for i in range(min(U,max_print)):\n",
    "        j = idxarray[i] if idxarray is not None else i\n",
    "        profile_df = dfs[j]\n",
    "        logo = logomaker.Logo(profile_df, vpad=.1, width=1)\n",
    "        logo.style_xticks(anchor=0, spacing=1, rotation=45)\n",
    "        logo.ax.set_ylabel('information (bits)')\n",
    "        logo.ax.set_title(f\"Profile {j}\" + ((f\" score={scores[j]:.3f}\") if scores is not None else \"\")\n",
    "                         + ((f\" loss={losses[j]:.3f}\") if losses is not None else \"\"))"
   ]
  },
  {
   "cell_type": "markdown",
   "metadata": {},
   "source": [
    "## TensorFlow Model\n",
    "Let $$P = (P[w,c,u]) \\in [0,1]^{k \\times 21 \\times U}$$\n",
    "be a collection of $U$ amino acid **profiles**, each of length $k$.\n",
    "Let $$ Q = (Q[c]) \\in [0,1]^{21}$$ be a background amino acid distribution.\n",
    "\n",
    "Both are normalized distributions:\n",
    "$$ \\sum_c P[w,c,u] = \\sum_c Q[c] = 1 \\qquad \\forall u,w.$$\n",
    "\n",
    "Define the scores tensor \n",
    "$$ S \\in \\mathbb{R}^ {B\\times N \\times U}$$\n",
    "by\n",
    "$$ S[b,g,u] = \\max_{f=0}^5 \\max_{v=0}^{T-k} \\sum_{w=0}^{k-1} \\sum_{c=0}^{20} X[b,g,f,v+w,c] \\cdot \\ln \\frac {P[w,c,u]}{Q[c]}.$$\n",
    "\n",
    "For a given batch $S[b,g,u]$ is the maximal score that the $u$-th profile scores in the $b$-th tile of genome $g$.\n",
    "It can be computed using a **one dimensional convolution** and max pooling.\n",
    "\n",
    "Define the intermediate variables:\n",
    "\n",
    "$R \\in [0,1]^{k \\times 21 \\times U}$ by \n",
    "$$ R[w,c,u] := \\ln \\frac {P[w,c,u]}{Q[c]}.$$\n",
    "\n",
    "$Z \\in \\mathbb{R}^{B\\times N \\times 6 \\times T-k-1\\times U}$ by\n",
    "$$Z[b,g,f,v,u] := \\sum_{w=0}^{k-1} \\sum_{c=0}^{20} X[b,g,f,v+w,c] \\cdot R[w,c,u].$$\n",
    "\n",
    "**Losses:**\n",
    "Only the best score counts for each frame and tile. Sum them up.\n",
    "$$L_1 = - \\sum_{b=1}^B \\sum_{g=1}^G \\sum_{u=1}^U S[b,g,u]$$ "
   ]
  },
  {
   "cell_type": "code",
   "execution_count": 14,
   "metadata": {},
   "outputs": [],
   "source": [
    "U = 1500 # number of profiles to train\n",
    "k = 11 # length of profiles"
   ]
  },
  {
   "cell_type": "code",
   "execution_count": 15,
   "metadata": {},
   "outputs": [],
   "source": [
    "class SpecificProfile(tf.keras.Model):\n",
    "    def __init__(self, k, alphabet_size, units, Q, P_logit_init=None, **kwargs):\n",
    "        super().__init__(**kwargs)\n",
    "        # P_logit_init = tf.random.normal([k, alphabet_size, units], stddev=.5, dtype=tf.float32, seed=1)\n",
    "        \n",
    "        self.Q = Q\n",
    "        self.k = k\n",
    "        self.alphabet_size = alphabet_size\n",
    "        self.units = units\n",
    "        \n",
    "        if P_logit_init is None:\n",
    "            P_logit_init = self._getRandomProfiles()\n",
    "        self.setP_logit(P_logit_init)\n",
    "\n",
    "    def _getRandomProfiles(self):\n",
    "        Q1 = tf.expand_dims(self.Q,0)\n",
    "        Q2 = tf.expand_dims(Q1,-1)\n",
    "        \n",
    "        P_logit_like_Q = np.log(Q2.numpy())\n",
    "        P_logit_init = P_logit_like_Q + np.random.normal(scale=4., size=[self.k, self.alphabet_size, self.units]).astype('float32')\n",
    "        return P_logit_init\n",
    "\n",
    "    def getP(self):\n",
    "        P = tf.nn.softmax(self.P_logit, axis=1, name=\"P\")\n",
    "        return P\n",
    "    \n",
    "    def setP_logit(self, P_logit_init):\n",
    "        self.P_logit = tf.Variable(P_logit_init, trainable=True, name=\"P_logit\") \n",
    "    \n",
    "    def getR(self):\n",
    "        P = self.getP()\n",
    "        Q1 = tf.expand_dims(self.Q,0)\n",
    "        Q2 = tf.expand_dims(Q1,-1)\n",
    "        # Limit the odds-ratio, to prevent problem with log(0).\n",
    "        # Very bad matches of profiles are irrelevant anyways.\n",
    "        ratio = tf.maximum(P/Q2, 1e-6)\n",
    "        R = tf.math.log(ratio)\n",
    "        return R\n",
    "        \n",
    "    def call(self, X):\n",
    "        R = self.getR()\n",
    "\n",
    "        X1 = tf.expand_dims(X,-1) # 1 input channel\n",
    "        R1 = tf.expand_dims(R,-2) # 1 input channel\n",
    "        Z1 = tf.nn.conv2d(X1, R1, strides=1,\n",
    "                          padding='VALID', data_format=\"NHWC\", name=\"Z\")\n",
    "        Z = tf.squeeze(Z1, 4) # remove input channel dimension\n",
    "\n",
    "        S = tf.reduce_max(Z, axis=[2,3])\n",
    "        return S, R, Z\n",
    "\n",
    "    def loss(self, Z):\n",
    "        #print (\"1st of loss calculation: Z.shape=\", Z.shape)\n",
    "        # shape of Z: ntiles x N x 6 x tile_size-k+1 x U \n",
    "        S = tf.reduce_max(Z, axis=[0,2,3]) # N x U\n",
    "        score = tf.reduce_sum(S)\n",
    "        \n",
    "        Z = tf.transpose(Z, [1,4,0,2,3]) # shape N x U x ntiles x 6 x tile_size-k+1\n",
    "        # print (\"2nd of loss calculation: Z.shape=\", Z.shape)\n",
    "        Z = tf.reshape(Z, [Z.shape[0], Z.shape[1], -1])\n",
    "        # print (\"3rd of loss calculation: Z.shape=\", Z.shape, \"\\n\", tf.reduce_max(Z, axis=[-1]))\n",
    "        Zsm = tf.nn.softmax(Z, axis=-1) # compute softmax\n",
    "        Z = tf.math.multiply(Z, Zsm)\n",
    "        # print (\"4th of loss calculation: Z.shape=\", Z.shape, \"\\n\", tf.reduce_max(Z, axis=[-1]))\n",
    "        loss_by_unit = -tf.math.reduce_max(Z, axis=-1)\n",
    "        loss_by_unit = tf.reduce_sum(loss_by_unit, axis=0) # sum over genomes\n",
    "        # print (\"5th of loss calculation: loss_by_unit.shape=\", loss_by_unit.shape)\n",
    "        loss = tf.reduce_sum(loss_by_unit) # sum over profiles=units\n",
    "        \n",
    "        return score, loss_by_unit\n",
    "\n",
    "    # return for each profile the best score at any position in the dataset\n",
    "    def max_profile_scores(self, ds):\n",
    "        scores = np.ones([self.units], dtype=np.float32) * -np.infty\n",
    "        for batch in ds:\n",
    "            for X in batch:\n",
    "                S, _, _ = self.call(X)\n",
    "                scores = np.maximum(np.max(S, axis=(0,1)), scores)\n",
    "                                    \n",
    "        return scores\n",
    "\n",
    "    # return for each profile the loss contribution\n",
    "    def min_profile_losses(self, ds):\n",
    "        losses = np.zeros([self.units], dtype=np.float32)\n",
    "        for batch in ds:\n",
    "            for X in batch:\n",
    "                S, R, Z = self.call(X)\n",
    "                _, losses_by_unit = self.loss(Z)\n",
    "                losses += losses_by_unit\n",
    "                                    \n",
    "        return losses\n",
    "\n",
    "    \n",
    "    @tf.function()\n",
    "    def train_step(self, X):\n",
    "        with tf.GradientTape() as tape:\n",
    "            S, R, Z = self.call(X)\n",
    "            score, _ = self.loss(Z)\n",
    "            negscore = -score\n",
    "\n",
    "        grad = tape.gradient(negscore, self.P_logit)\n",
    "        self.opt.apply_gradients([(grad, self.P_logit)])\n",
    "\n",
    "    def train(self, X, epochs=1000, verbose=True):\n",
    "        self.opt = tf.keras.optimizers.Adam(learning_rate=.1) # large learning rate is much faster\n",
    "        for i in range(epochs):\n",
    "            self.train_step(X)\n",
    "            if verbose and (i%(100) == 0 or i==epochs-1):\n",
    "                S, R, Z = self(X)\n",
    "                score, _ = self.loss(Z)\n",
    "                print(f\"epoch {i:>5} score={score.numpy():.4f}\" +\n",
    "                      \" max R: {:.3f}\".format(tf.reduce_max(R).numpy()) +\n",
    "                      \" min R: {:.3f}\".format((tf.reduce_min(R).numpy())))\n",
    "                \n",
    "    def train_ds(self, ds, steps_per_epoch, epochs, verbose=True):\n",
    "        self.opt = tf.keras.optimizers.Adam(learning_rate=1.) # large learning rate is much faster\n",
    "        for i in range(epochs):\n",
    "            steps = 0\n",
    "            for batch in ds:\n",
    "                for X in batch:\n",
    "                    self.train_step(X)\n",
    "                    \n",
    "                steps += 1\n",
    "                if steps >= steps_per_epoch:\n",
    "                    break\n",
    "                    \n",
    "            if verbose and (i%(25) == 0 or i==epochs-1):\n",
    "                S, R, Z = self(X)\n",
    "                score, _ = self.loss(Z)\n",
    "                print(f\"epoch {i:>5} score={score.numpy():.4f}\" +\n",
    "                      \" max R: {:.3f}\".format(tf.reduce_max(R).numpy()) +\n",
    "                      \" min R: {:.3f}\".format((tf.reduce_min(R).numpy())))\n",
    "    def seed_P_ds(self, ds):\n",
    "        \"\"\"\n",
    "            Seed profiles P with profiles that represent units random positions in the input sequences.\n",
    "            Positions are drawn uniformly from all positions in all sequences. \n",
    "            This is done with an old and neat trick online, so that the data has to be read only once.\n",
    "        \"\"\"\n",
    "        rho = 2.0\n",
    "        oneProfile_logit_like_Q = np.log(self.Q)\n",
    "        P_logit_init = self._getRandomProfiles() # shape [k, alphabet_size, units]\n",
    "        m = 0 # number of positions seen so far\n",
    "        for batch in ds:\n",
    "            for X in batch:\n",
    "                X = X.numpy()\n",
    "                PP = X.reshape([-1, self.alphabet_size])\n",
    "                J = PP.shape[0]\n",
    "                # PP[j,a] is the 1 if the j-th character in an artificially concatenated sequence is char a\n",
    "                # the length k patterns extend over tile ends, which could be improved later\n",
    "                num_pos = J - self.k\n",
    "                for j in range(num_pos):\n",
    "                    i = -1 # i-th profile is to be replaced, unless i<0\n",
    "                    if m < self.units:\n",
    "                        i = m\n",
    "                    elif np.random.choice(m) < self.units:\n",
    "                        i = np.random.choice(self.units)\n",
    "                    if i >= 0:\n",
    "                        # replace i-th profile with a seed profile build from the pattern starting at position j\n",
    "                        # Seed is the background distribution, except the observed k-mer at pos j is more likely\n",
    "                        seed = rho * PP[j:j+self.k,:] + oneProfile_logit_like_Q\n",
    "                        P_logit_init[:,:,i] = seed\n",
    "                        # print (f\"replacing {i:>3}-th pattern with the one from pos {j:>6}:\\n\", seed)\n",
    "                    m += 1\n",
    "\n",
    "        return P_logit_init"
   ]
  },
  {
   "cell_type": "code",
   "execution_count": 16,
   "metadata": {},
   "outputs": [
    {
     "name": "stderr",
     "output_type": "stream",
     "text": [
      "2022-03-11 16:16:45.366566: W tensorflow/stream_executor/platform/default/dso_loader.cc:64] Could not load dynamic library 'libcuda.so.1'; dlerror: libcuda.so.1: cannot open shared object file: No such file or directory\n",
      "2022-03-11 16:16:45.366657: W tensorflow/stream_executor/cuda/cuda_driver.cc:269] failed call to cuInit: UNKNOWN ERROR (303)\n",
      "2022-03-11 16:16:45.366721: I tensorflow/stream_executor/cuda/cuda_diagnostics.cc:156] kernel driver does not appear to be running on this host (carbon): /proc/driver/nvidia/version does not exist\n",
      "2022-03-11 16:16:45.367701: I tensorflow/core/platform/cpu_feature_guard.cc:151] This TensorFlow binary is optimized with oneAPI Deep Neural Network Library (oneDNN) to use the following CPU instructions in performance-critical operations:  AVX2 FMA\n",
      "To enable them in other operations, rebuild TensorFlow with the appropriate compiler flags.\n"
     ]
    },
    {
     "name": "stdout",
     "output_type": "stream",
     "text": [
      "peak memory: 394.20 MiB, increment: 7.73 MiB\n",
      "CPU times: user 376 ms, sys: 61.5 ms, total: 438 ms\n",
      "Wall time: 581 ms\n"
     ]
    }
   ],
   "source": [
    "# build and randomly initialize profile model\n",
    "tf.keras.backend.clear_session() # avoid memory cluttering by remains of old models\n",
    "%time %memit specProModel = SpecificProfile(k, su.aa_alphabet_size, U, Q)"
   ]
  },
  {
   "cell_type": "code",
   "execution_count": 17,
   "metadata": {},
   "outputs": [],
   "source": [
    "if False:\n",
    "    P_init = specProModel.getP()\n",
    "    plotLogo(P_init)"
   ]
  },
  {
   "cell_type": "markdown",
   "metadata": {},
   "source": [
    "### Training Set"
   ]
  },
  {
   "cell_type": "code",
   "execution_count": 18,
   "metadata": {},
   "outputs": [],
   "source": [
    "ds = getDataset().repeat().batch(batch_size).prefetch(150)\n",
    "ds_score = getDataset().batch(batch_size).prefetch(150)"
   ]
  },
  {
   "cell_type": "code",
   "execution_count": 19,
   "metadata": {},
   "outputs": [],
   "source": [
    "P_logit_init = specProModel.seed_P_ds(ds_score)\n",
    "if False: # to test whether the right pattern has low loss\n",
    "    P_logit_init[:,:,0:3] = -100. #-100 *np.ones([k, 21, 2], dtype=np.float32)\n",
    "    P_logit_init[0,15,0] = 5 # M\n",
    "    P_logit_init[1,7,0] = 5 # A\n",
    "    P_logit_init[2,16,0] = 5 # R\n",
    "    P_logit_init[3,8,0] = 5 # I\n",
    "    P_logit_init[4,19,0] = 5 # Q\n",
    "    P_logit_init[5,12,0] = 5 # S\n",
    "    P_logit_init[6,4,0] = 5 # T\n",
    "    P_logit_init[7,7,0] = 5 # A\n",
    "    P_logit_init[8,9,0] = 5 # N\n",
    "    P_logit_init[9,1,0] = 5 # K\n",
    "    P_logit_init[10,2,0] = 5 # E\n",
    "    # REPEATAEPER\n",
    "    P_logit_init[0,16,1] = 5 # R\n",
    "    P_logit_init[1,2,1] = 5 # E\n",
    "    P_logit_init[2,18,1] = 5 # P\n",
    "    P_logit_init[3,2,1] = 5 # E\n",
    "    P_logit_init[4,7,1] = 5 # A\n",
    "    P_logit_init[5,4,1] = 5 # T\n",
    "    P_logit_init[6,7,1] = 5 # A\n",
    "    P_logit_init[7,2,1] = 5 # E\n",
    "    P_logit_init[8,18,1] = 5 # P\n",
    "    P_logit_init[9,2,1] = 5 # E\n",
    "    P_logit_init[10,16,1] = 5 # R\n",
    "    # EPEATAEPER\n",
    "    P_logit_init[0,2,2] = 5 # E\n",
    "    P_logit_init[1,18,2] = 5 # P\n",
    "    P_logit_init[2,2,2] = 5 # E\n",
    "    P_logit_init[3,7,2] = 5 # A\n",
    "    P_logit_init[4,4,2] = 5 # T\n",
    "    P_logit_init[5,7,2] = 5 # A\n",
    "    P_logit_init[6,2,2] = 5 # E\n",
    "    P_logit_init[7,18,2] = 5 # P\n",
    "    P_logit_init[8,2,2] = 5 # E\n",
    "    P_logit_init[9,16,2] = 5 # R\n",
    "    P_logit_init[10,10,2] = 5 # V \n",
    "    \n",
    "specProModel.setP_logit(P_logit_init)\n",
    "#P = specProModel.getP()\n",
    "#pScores = specProModel.max_profile_scores(ds_score)\n",
    "#pLosses = specProModel.min_profile_losses(ds_score)\n",
    "#plotLogo(P=P, idxarray = np.argsort(pLosses), scores=pScores, losses=pLosses.numpy(), max_print=5)"
   ]
  },
  {
   "cell_type": "markdown",
   "metadata": {},
   "source": [
    "### Training"
   ]
  },
  {
   "cell_type": "code",
   "execution_count": 20,
   "metadata": {},
   "outputs": [
    {
     "name": "stderr",
     "output_type": "stream",
     "text": [
      "2022-03-11 16:16:47.894038: W tensorflow/core/framework/cpu_allocator_impl.cc:82] Allocation of 1213056000 exceeds 10% of free system memory.\n",
      "2022-03-11 16:16:48.611027: W tensorflow/core/framework/cpu_allocator_impl.cc:82] Allocation of 1213056000 exceeds 10% of free system memory.\n",
      "2022-03-11 16:16:49.720684: W tensorflow/core/framework/cpu_allocator_impl.cc:82] Allocation of 1213056000 exceeds 10% of free system memory.\n",
      "2022-03-11 16:16:49.920959: W tensorflow/core/framework/cpu_allocator_impl.cc:82] Allocation of 1213056000 exceeds 10% of free system memory.\n",
      "2022-03-11 16:16:51.865339: W tensorflow/core/framework/cpu_allocator_impl.cc:82] Allocation of 1213056000 exceeds 10% of free system memory.\n"
     ]
    },
    {
     "name": "stdout",
     "output_type": "stream",
     "text": [
      "epoch     0 score=173248.7656 max R: 2.732 min R: -1.931\n",
      "epoch    25 score=252341.0938 max R: 3.045 min R: -13.816\n",
      "epoch    49 score=252825.8125 max R: 3.045 min R: -13.816\n",
      "peak memory: 5376.03 MiB, increment: 4957.06 MiB\n",
      "CPU times: user 20min 53s, sys: 2min 55s, total: 23min 48s\n",
      "Wall time: 3min 29s\n"
     ]
    }
   ],
   "source": [
    "%time %memit specProModel.train_ds(ds, steps_per_epoch, epochs=50)"
   ]
  },
  {
   "cell_type": "markdown",
   "metadata": {},
   "source": [
    "### Visualize resulting profiles as sequence logos"
   ]
  },
  {
   "cell_type": "code",
   "execution_count": null,
   "metadata": {},
   "outputs": [],
   "source": [
    "P = specProModel.getP()\n",
    "pScores = specProModel.max_profile_scores(ds_score)\n",
    "pLosses = specProModel.min_profile_losses(ds_score)\n",
    "plotLogo(P=P, idxarray = np.argsort(pLosses), scores=pLosses, losses=pLosses, max_print=20)\n",
    "# should be similar to one of ['MARIQSTANKE', 'WQEFNLLQIK', 'GKNSIYCK*R', 'FFICSRLNSCH', 'SLFAVD*ILA', 'LYLQ*IEFLP']\n",
    "# Repeats: ['REPEATAEPER', 'ENLKLLLNLK', 'RT*SYC*T*K', 'SFRFSSSFRFS', 'LSGSAVASGS', 'FQVQQ*LQVL']"
   ]
  },
  {
   "cell_type": "markdown",
   "metadata": {},
   "source": [
    "---"
   ]
  },
  {
   "cell_type": "markdown",
   "metadata": {},
   "source": [
    "## Profile Score Distribution"
   ]
  },
  {
   "cell_type": "code",
   "execution_count": null,
   "metadata": {},
   "outputs": [],
   "source": [
    "R = specProModel.getR()\n",
    "print (R[0,:,2])"
   ]
  },
  {
   "cell_type": "markdown",
   "metadata": {},
   "source": [
    "     P:     (k, alphSize, U) \n",
    "     X:     (batchsize, N, 6, T, alphSize) \n",
    "     Z:     (batchsize, N, 6, T-k+1, U)"
   ]
  },
  {
   "cell_type": "code",
   "execution_count": null,
   "metadata": {},
   "outputs": [],
   "source": [
    "for batch in ds_score:\n",
    "    print (\"next batch\")\n",
    "    for X in batch:\n",
    "        print (\"next X \", X.shape, \" \", X[0,0,0,0:5,:])\n",
    "        S, _, Z = specProModel(X)"
   ]
  },
  {
   "cell_type": "code",
   "execution_count": null,
   "metadata": {},
   "outputs": [],
   "source": [
    "import matplotlib.pyplot as plt\n",
    "\n",
    "plt.hist(S[:,:,2].numpy().flatten(), bins =50)\n",
    "# plt.ylim(0,90)"
   ]
  },
  {
   "cell_type": "code",
   "execution_count": null,
   "metadata": {},
   "outputs": [],
   "source": [
    "S.shape"
   ]
  },
  {
   "cell_type": "code",
   "execution_count": null,
   "metadata": {},
   "outputs": [],
   "source": [
    "S"
   ]
  },
  {
   "cell_type": "code",
   "execution_count": null,
   "metadata": {},
   "outputs": [],
   "source": [
    "gamma = .01 # a small value means a more inclusive meaning of near-best\n",
    "S2 = tf.nn.softmax(gamma*S, axis=0)\n",
    "S3 = tf.reduce_max(S2, axis=0) # the closer to 1, the clearer is the champion match a winner\n",
    "S4 = tf.reduce_max(S, axis=0) # ranges over tiles, or soft max like in L1\n",
    "S5 = tf.math.multiply(S4, S3) # effectively the best score per genome is divided by the number of matches\n",
    "loss_by_unit = tf.reduce_sum(S5, axis=0) / U # sum over genomes\n",
    "L5 = tf.reduce_sum(loss_by_unit) # sum over profiles=units\n",
    "plt.hist(S4[:,0].numpy().flatten(), bins=20)\n",
    "S5.shape"
   ]
  },
  {
   "cell_type": "markdown",
   "metadata": {},
   "source": [
    "---"
   ]
  },
  {
   "cell_type": "code",
   "execution_count": null,
   "metadata": {},
   "outputs": [],
   "source": [
    "S3[:,0]"
   ]
  },
  {
   "cell_type": "code",
   "execution_count": null,
   "metadata": {},
   "outputs": [],
   "source": [
    "assert False # don't run the rest for now"
   ]
  },
  {
   "cell_type": "markdown",
   "metadata": {},
   "source": [
    "## Find Best Profiles\n",
    "\n",
    "Idea: \n",
    "* convert profiles into aa-sequences (translate max. values into aa at each position)\n",
    "* align (or perfect match?) sequences against the 6 possible pattern translations and the insert translations\n",
    "* alignment scores give an idea of how good the profiles are -> allows multiple training runs to account for randomness, evaluate how good the profiles usually are (+ variance)"
   ]
  },
  {
   "cell_type": "code",
   "execution_count": null,
   "metadata": {},
   "outputs": [],
   "source": [
    "from Bio import pairwise2\n",
    "from Bio.pairwise2 import format_alignment"
   ]
  },
  {
   "cell_type": "code",
   "execution_count": null,
   "metadata": {},
   "outputs": [],
   "source": [
    "def runTraining():\n",
    "    tf.keras.backend.clear_session() # avoid memory cluttering by remains of old models\n",
    "    \n",
    "    # build and randomly initialize profile model\n",
    "    specProModel = SpecificProfile(k, su.aa_alphabet_size, U, Q)\n",
    "    \n",
    "    #start = time()\n",
    "    specProModel.train_ds(ds, steps_per_epoch, epochs=500, verbose=False)\n",
    "    #end = time()\n",
    "    #print(f\"time: {end-start:.2f}\")\n",
    "    \n",
    "    #S, R = specProModel(X)\n",
    "    #L1, L2, L4 = specProModel.loss(S)\n",
    "    #pScores = tf.reduce_sum(tf.reduce_max(S,axis=0), axis=0).numpy()\n",
    "    #print(\"pScores\", pScores)\n",
    "    #np.argsort(pScores)\n",
    "    #print (\"loss=\", L1.numpy(), \"\\tL2=\", L2.numpy(), \n",
    "    #       \"\\tL4=\", L4.numpy(), \"\\nS=\", S.numpy())\n",
    "    \n",
    "    P = specProModel.getP()\n",
    "    \n",
    "    return P"
   ]
  },
  {
   "cell_type": "code",
   "execution_count": null,
   "metadata": {},
   "outputs": [],
   "source": [
    "def aaFromProfiles(P):\n",
    "    profiles_aa = []\n",
    "    for pidx in range(P.shape[2]):\n",
    "        pmat = P[:,:,pidx]\n",
    "        profiles_aa.append(su.to_aa_seq(pmat))\n",
    "\n",
    "    return profiles_aa"
   ]
  },
  {
   "cell_type": "code",
   "execution_count": null,
   "metadata": {},
   "outputs": [],
   "source": [
    "def getBestAlignments(profiles, patterns, scoreThreshold = int(k/2)):\n",
    "    scores = []\n",
    "    alignments = []\n",
    "    best_profiles = []\n",
    "    for profile in profiles:\n",
    "        pscores = []\n",
    "        palignments = []\n",
    "        for pattern in patterns:\n",
    "            als = pairwise2.align.localxd(profile, pattern, openA=-1000, extendA=-1000, openB=-1000, extendB=-1000)\n",
    "            s = [al.score for al in als]\n",
    "            if len(s) > 0:\n",
    "                pscores.append(np.argmax(s))\n",
    "                palignments.append(als[np.argmax(s)])\n",
    "\n",
    "        best_al = palignments[np.argmax(pscores)]\n",
    "        if best_al.score >= scoreThreshold:\n",
    "            scores.append(best_al.score)\n",
    "            alignments.append(best_al)\n",
    "            best_profiles.append(profile)\n",
    "\n",
    "    if len(scores) > 0:\n",
    "        sortedIdx = np.argsort([-s for s in scores])\n",
    "        scores = [scores[i] for i in sortedIdx]\n",
    "        alignments = [alignments[i] for i in sortedIdx]\n",
    "        best_profiles = [best_profiles[i] for i in sortedIdx]\n",
    "    \n",
    "    return scores, alignments, best_profiles"
   ]
  },
  {
   "cell_type": "code",
   "execution_count": null,
   "metadata": {},
   "outputs": [],
   "source": [
    "if True:\n",
    "    for i in range(20):\n",
    "        P = runTraining()\n",
    "        profiles = aaFromProfiles(P)\n",
    "        print(\"Run\", i)\n",
    "        if insertPatterns is not None:\n",
    "            print(\"Desired profiles:\")\n",
    "            patternScores, patternAlignments, patternProfiles = getBestAlignments(profiles, desiredPatternAA)\n",
    "            for i in range(len(patternScores)):\n",
    "                    print(patternProfiles[i])\n",
    "                    print(format_alignment(*(patternAlignments[i])))\n",
    "\n",
    "        if repeatPatterns is not None:\n",
    "            print(\"Undesired profiles:\")\n",
    "            repeatScores, repeatAlignments, repeatProfiles = getBestAlignments(profiles, repeatPatternAA)\n",
    "            for i in range(len(repeatScores)):\n",
    "                    print(repeatProfiles[i])\n",
    "                    print(format_alignment(*(repeatAlignments[i])))\n",
    "\n",
    "        print(\"\")\n",
    "        print(\"-----\")\n",
    "        print(\"\")\n",
    "        \n",
    "else:\n",
    "    P = specProModel.getP()\n",
    "    profiles = aaFromProfiles(P)\n",
    "\n",
    "    if insertPatterns is not None:\n",
    "        print(\"Desired profiles:\")\n",
    "        patternScores, patternAlignments, patternProfiles = getBestAlignments(profiles, desiredPatternAA, scoreThreshold=4)\n",
    "        for i in range(len(patternScores)):\n",
    "                print(patternProfiles[i])\n",
    "                print(format_alignment(*(patternAlignments[i])))\n",
    "\n",
    "    if repeatPatterns is not None:\n",
    "        print(\"Undesired profiles:\")\n",
    "        repeatScores, repeatAlignments, repeatProfiles = getBestAlignments(profiles, repeatPatternAA, scoreThreshold=4)\n",
    "        for i in range(len(repeatScores)):\n",
    "            print(repeatProfiles[i])\n",
    "            print(format_alignment(*(repeatAlignments[i])))"
   ]
  },
  {
   "cell_type": "code",
   "execution_count": null,
   "metadata": {},
   "outputs": [],
   "source": [
    "R = specProModel.getR()\n",
    "profiles = aaFromProfiles(R)\n",
    "if insertPatterns is not None:\n",
    "    print(\"Desired profiles:\")\n",
    "    patternScores, patternAlignments, patternProfiles = getBestAlignments(profiles, desiredPatternAA, scoreThreshold=4)\n",
    "    for i in range(len(patternScores)):\n",
    "            print(patternProfiles[i])\n",
    "            print(format_alignment(*(patternAlignments[i])))\n",
    "\n",
    "if repeatPatterns is not None:\n",
    "    print(\"Undesired profiles:\")\n",
    "    repeatScores, repeatAlignments, repeatProfiles = getBestAlignments(profiles, repeatPatternAA, scoreThreshold=4)\n",
    "    for i in range(len(repeatScores)):\n",
    "        print(repeatProfiles[i])\n",
    "        print(format_alignment(*(repeatAlignments[i])))"
   ]
  },
  {
   "cell_type": "code",
   "execution_count": null,
   "metadata": {},
   "outputs": [],
   "source": []
  },
  {
   "cell_type": "code",
   "execution_count": null,
   "metadata": {},
   "outputs": [],
   "source": []
  }
 ],
 "metadata": {
  "kernelspec": {
   "display_name": "Python 3 (ipykernel)",
   "language": "python",
   "name": "python3"
  },
  "language_info": {
   "codemirror_mode": {
    "name": "ipython",
    "version": 3
   },
   "file_extension": ".py",
   "mimetype": "text/x-python",
   "name": "python",
   "nbconvert_exporter": "python",
   "pygments_lexer": "ipython3",
   "version": "3.8.10"
  }
 },
 "nbformat": 4,
 "nbformat_minor": 4
}
