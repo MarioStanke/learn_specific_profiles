{
 "cells": [
  {
   "cell_type": "markdown",
   "metadata": {},
   "source": [
    "### Custom ML model to identify local similarities (\"links\") with sequence profiles\n",
    "\n",
    "Let $$X \\in \\{0,1\\}^{B\\times N\\times 6 \\times T \\times 21}$$ be a batch of **one-hot encoded input translated sequences**,\n",
    "where $B$ is `batch_size`, $N$ is the number of genomes and $T$ is the `tile_size` (in aa).\n",
    "The 6 is here the number of translated frames in order (0,+),(1,+),(2,+),(0,-),(1,-),(2,-).\n",
    "The 21 is here the size of the considered amino acid alphabet.\n"
   ]
  },
  {
   "cell_type": "code",
   "execution_count": 1,
   "metadata": {},
   "outputs": [
    {
     "name": "stdout",
     "output_type": "stream",
     "text": [
      "<module 'sequtils' from '/nas-hs/users/matthis/genomegraph/learn_specific_profiles/sequtils.py'>\n",
      "<module 'seq' from '/nas-hs/users/matthis/genomegraph/learn_specific_profiles/seq.py'>\n",
      "<module 'dataset' from '/nas-hs/users/matthis/genomegraph/learn_specific_profiles/dataset.py'>\n",
      "<module 'model' from '/nas-hs/users/matthis/genomegraph/learn_specific_profiles/model.py'>\n",
      "2.3.1\n"
     ]
    }
   ],
   "source": [
    "import json\n",
    "import matplotlib.pyplot as plt\n",
    "import numpy as np\n",
    "import os\n",
    "import pickle\n",
    "import tensorflow as tf\n",
    "import logomaker\n",
    "from time import time\n",
    "from tqdm import tqdm\n",
    "from IPython.display import Audio\n",
    "\n",
    "import importlib\n",
    "import sequtils as su\n",
    "print(importlib.reload(su))\n",
    "import seq\n",
    "print(importlib.reload(seq))\n",
    "import dataset as dsg\n",
    "print(importlib.reload(dsg))\n",
    "import model\n",
    "print(importlib.reload(model))\n",
    "\n",
    "print(tf.__version__)\n",
    "\n",
    "%load_ext memory_profiler"
   ]
  },
  {
   "cell_type": "code",
   "execution_count": 2,
   "metadata": {},
   "outputs": [],
   "source": [
    "# tf.compat.v1.disable_eager_execution()"
   ]
  },
  {
   "cell_type": "code",
   "execution_count": 3,
   "metadata": {},
   "outputs": [],
   "source": [
    "use_real_data = False"
   ]
  },
  {
   "cell_type": "markdown",
   "metadata": {},
   "source": [
    "### Create random genomes as toy data "
   ]
  },
  {
   "cell_type": "code",
   "execution_count": 4,
   "metadata": {},
   "outputs": [
    {
     "name": "stdout",
     "output_type": "stream",
     "text": [
      "{0: {0: {'pos': [8018], 'pattern': ['ATGGCAAGAATTCAATCTACTGCAAATAAAGAA']}}, 1: {0: {'pos': [5559], 'pattern': ['ATGGCAAGAATTCAATCTACTGCAAATAAAGAA']}}, 2: {0: {'pos': [8202], 'pattern': ['ATGGCAAGAATTCAATCTACTGCAAATAAAGAA']}}, 3: {0: {'pos': [6591], 'pattern': ['ATGGCAAGAATTCAATCTACTGCAAATAAAGAA']}}, 4: {0: {'pos': [8774], 'pattern': ['ATGGCAAGAATTCAATCTACTGCAAATAAAGAA']}}, 5: {0: {'pos': [4300], 'pattern': ['ATGGCAAGAATTCAATCTACTGCAAATAAAGAA']}}, 6: {0: {'pos': [6530], 'pattern': ['ATGGCAAGAATTCAATCTACTGCAAATAAAGAA']}}, 7: {0: {'pos': [4476], 'pattern': ['ATGGCAAGAATTCAATCTACTGCAAATAAAGAA']}}}\n"
     ]
    }
   ],
   "source": [
    "N = 8            # number of genomes\n",
    "tile_size = 334  # tile size measured in amino acids\n",
    "# A tile is a consecutive subsequence of _one_ contig/scaffold/chromosome.\n",
    "# Tiles should be about gene-sized.\n",
    "\n",
    "#genome_sizes = [[210,100], [30,220,150], [230,110,120,90], [180]] # in nucleotides\n",
    "#insertPatterns = [\"ATGATGATG\", \"CCCCCCCCCCCC\"]\n",
    "#genomes = seq.getRandomGenomes(N, genome_sizes, insertPatterns, mutationProb=0.2, verbose=True)\n",
    "\n",
    "genome_sizes = [[10000]] * N\n",
    "                # in nucleotides\n",
    "insertPatterns = [\"ATGGCAAGAATTCAATCTACTGCAAATAAAGAA\",\n",
    "                 ] \n",
    "repeatPatterns = ['AGAGAACCTGAAGCTACTGCTGAACCTGAAAGA']\n",
    "genomes, repeatTracking, insertTracking = seq.getRandomGenomes(N, genome_sizes, insertPatterns,\n",
    "                                                               repeatPatterns,\n",
    "                                                               mutationProb=0.0, \n",
    "                                                               repeatMultiple=range(0,1),\n",
    "                                                               repeatInsert=range(10,11),\n",
    "                                                               verbose=False)\n",
    "print(insertTracking)"
   ]
  },
  {
   "cell_type": "code",
   "execution_count": 5,
   "metadata": {},
   "outputs": [
    {
     "name": "stdout",
     "output_type": "stream",
     "text": [
      "Desired: ['MARIQSTANKE', 'WQEFNLLQIK', 'GKNSIYCK*R', 'FFICSRLNSCH', 'SLFAVD*ILA', 'LYLQ*IEFLP']\n",
      "Repeat: ['REPEATAEPER', 'ENLKLLLNLK', 'RT*SYC*T*K', 'SFRFSSSFRFS', 'LSGSAVASGS', 'FQVQQ*LQVL']\n"
     ]
    }
   ],
   "source": [
    "def printExpectedPatterns():\n",
    "    desiredPatternAA, repeatPatternAA = None, None\n",
    "    if insertPatterns is not None:\n",
    "        desiredPatternAA = []\n",
    "        for pattern in insertPatterns:\n",
    "            desiredPatternAA.extend(su.six_frame_translation(pattern))\n",
    "\n",
    "        print(\"Desired:\", desiredPatternAA)\n",
    "\n",
    "    if repeatPatterns is not None:\n",
    "        repeatPatternAA = []\n",
    "        for pattern in repeatPatterns:\n",
    "            repeatPatternAA.extend(su.six_frame_translation(pattern))\n",
    "\n",
    "        print(\"Repeat:\", repeatPatternAA)\n",
    "        \n",
    "    return desiredPatternAA, repeatPatternAA\n",
    "\n",
    "desiredPatternAA, repeatPatternAA = printExpectedPatterns()"
   ]
  },
  {
   "cell_type": "markdown",
   "metadata": {},
   "source": [
    "---\n",
    "\n",
    "#### Interlude: Magic Commands\n",
    "\n",
    "https://towardsdatascience.com/speed-up-jupyter-notebooks-20716cbe2025\n",
    "\n",
    "`%time command` prints runtime of command  \n",
    "`%prun command` profiler for command, what steps take how much time? Adds overhead  \n",
    "`%memit command` peak memory usage and memory increment  \n",
    "`%mprun command` memory profiling\n",
    "\n",
    "---"
   ]
  },
  {
   "cell_type": "code",
   "execution_count": 6,
   "metadata": {},
   "outputs": [
    {
     "name": "stdout",
     "output_type": "stream",
     "text": [
      "background freqs:  159968.0 *\n",
      "C 0.0313\n",
      "K 0.0316\n",
      "E 0.0310\n",
      "W 0.0154\n",
      "T 0.0620\n",
      "G 0.0622\n",
      "Y 0.0311\n",
      "A 0.0615\n",
      "I 0.0478\n",
      "N 0.0318\n",
      "V 0.0619\n",
      "H 0.0310\n",
      "S 0.0941\n",
      "D 0.0319\n",
      "F 0.0315\n",
      "M 0.0160\n",
      "R 0.0927\n",
      "L 0.0942\n",
      "P 0.0622\n",
      "Q 0.0316\n",
      "* 0.0474\n",
      "CPU times: user 152 ms, sys: 0 ns, total: 152 ms\n",
      "Wall time: 149 ms\n"
     ]
    }
   ],
   "source": [
    "# Load Real Data\n",
    "if use_real_data:\n",
    "    from Bio import SeqIO\n",
    "    import os\n",
    "    \n",
    "    files = ['hg38.fa', 'mm10.fa', 'hetGla2.fa', 'macFas5.fa']\n",
    "    genomes = [[] for _ in range(len(files))]\n",
    "    seqnames = [[] for _ in range(len(files))]\n",
    "    datapath = \"/nas-hs/projs/seedFinding/data/20210517_flanked/subset\"\n",
    "    def loadRealGenomes(genomes=genomes):\n",
    "        for i in range(len(files)):\n",
    "            genomes[i].extend([str(seq.seq) for seq in SeqIO.parse(os.path.join(datapath, files[i]), 'fasta')])\n",
    "            seqnames[i].extend([str(seq.id) for seq in SeqIO.parse(os.path.join(datapath, files[i]), 'fasta')])\n",
    "            \n",
    "    %memit loadRealGenomes()\n",
    "    \n",
    "    # load pickled Q to safe time\n",
    "    Qfile = os.path.join(datapath, \"backgroundAAFreqs.pkl4\")\n",
    "    if not os.path.isfile(Qfile):\n",
    "        print(\"Getting Q\")\n",
    "        %time Q = seq.backGroundAAFreqs(genomes, True)\n",
    "        with open(Qfile, 'wb') as fh:\n",
    "            pickle.dump(Q, fh, protocol=4)\n",
    "            \n",
    "    else:\n",
    "        with open(Qfile, 'rb') as fh:\n",
    "            Q = pickle.load(fh)\n",
    "    \n",
    "else:\n",
    "    %time Q = seq.backGroundAAFreqs(genomes, True)"
   ]
  },
  {
   "cell_type": "markdown",
   "metadata": {},
   "source": [
    "For seedFinding data on gs3\n",
    "\n",
    "    background freqs:  765611260.0 *\n",
    "    C 0.0329\n",
    "    K 0.0412\n",
    "    E 0.0332\n",
    "    W 0.0165\n",
    "    T 0.0578\n",
    "    G 0.0558\n",
    "    Y 0.0334\n",
    "    A 0.0510\n",
    "    I 0.0546\n",
    "    N 0.0361\n",
    "    V 0.0578\n",
    "    H 0.0321\n",
    "    S 0.0929\n",
    "    D 0.0280\n",
    "    F 0.0406\n",
    "    M 0.0172\n",
    "    R 0.0710\n",
    "    L 0.1039\n",
    "    P 0.0558\n",
    "    Q 0.0352\n",
    "    * 0.0527\n",
    "    CPU times: user 7min 14s, sys: 1.69 s, total: 7min 16s\n",
    "    Wall time: 7min 16s"
   ]
  },
  {
   "cell_type": "code",
   "execution_count": 7,
   "metadata": {},
   "outputs": [
    {
     "name": "stdout",
     "output_type": "stream",
     "text": [
      "8 1 10000\n"
     ]
    }
   ],
   "source": [
    "print(len(genomes), len(genomes[0]), len(genomes[0][0]))"
   ]
  },
  {
   "cell_type": "code",
   "execution_count": 8,
   "metadata": {},
   "outputs": [],
   "source": [
    "# uniform background distribution appears to be rather better\n",
    "Q = np.ones(21, dtype=np.float32)/21"
   ]
  },
  {
   "cell_type": "markdown",
   "metadata": {},
   "source": [
    "#### Read in the genome"
   ]
  },
  {
   "cell_type": "code",
   "execution_count": 9,
   "metadata": {},
   "outputs": [
    {
     "data": {
      "text/plain": [
       "'CCTTTTGCTTTGTGAACGAAGATGTACCAGCCCGCGGGAGGGCAAGCGGGGTCTTGCTCTACCTACCTGCACCACGCCCCTACTTGGAGATCACCAGAGT'"
      ]
     },
     "execution_count": 9,
     "metadata": {},
     "output_type": "execute_result"
    }
   ],
   "source": [
    "genomes[0][0][0:100]"
   ]
  },
  {
   "cell_type": "code",
   "execution_count": 10,
   "metadata": {
    "scrolled": true
   },
   "outputs": [
    {
     "name": "stderr",
     "output_type": "stream",
     "text": [
      "\r",
      "0it [00:00, ?it/s]"
     ]
    },
    {
     "name": "stdout",
     "output_type": "stream",
     "text": [
      "[INFO] >>> Test genome lengths: [10000, 10000, 10000, 10000, 10000, 10000, 10000, 10000]\n"
     ]
    },
    {
     "name": "stderr",
     "output_type": "stream",
     "text": [
      "2it [00:04,  2.14s/it]\n",
      "0it [00:00, ?it/s]"
     ]
    },
    {
     "name": "stdout",
     "output_type": "stream",
     "text": [
      "[INFO] >>> testGenerator - restore sequences: All good\n"
     ]
    },
    {
     "name": "stderr",
     "output_type": "stream",
     "text": [
      "2it [00:35, 17.95s/it]"
     ]
    },
    {
     "name": "stdout",
     "output_type": "stream",
     "text": [
      "[INFO] >>> testGenerator - restore positions: All good\n"
     ]
    },
    {
     "name": "stderr",
     "output_type": "stream",
     "text": [
      "\n"
     ]
    }
   ],
   "source": [
    "dsg.testGenerator(genomes, 5, tile_size, 50000)"
   ]
  },
  {
   "cell_type": "code",
   "execution_count": 11,
   "metadata": {},
   "outputs": [
    {
     "name": "stdout",
     "output_type": "stream",
     "text": [
      "[10000, 10000, 10000, 10000, 10000, 10000, 10000, 10000]  ->  1\n"
     ]
    }
   ],
   "source": [
    "genome_sizes = [sum([len(s) for s in genome]) for genome in genomes]\n",
    "batch_size = 1  # number of X to generate per batch\n",
    "tiles_per_X = 13 # number of tiles per X (-> X.shape[0])\n",
    "steps_per_epoch = max(1, np.mean(genome_sizes) // (batch_size*tiles_per_X*tile_size*3))\n",
    "print(genome_sizes, \" -> \", steps_per_epoch)"
   ]
  },
  {
   "cell_type": "code",
   "execution_count": null,
   "metadata": {},
   "outputs": [],
   "source": [
    "def getDataset(tiles_per_X: int = tiles_per_X,\n",
    "               tile_size: int = tile_size,\n",
    "               genomes = genomes,\n",
    "               withPosTracking: bool = False):\n",
    "    if withPosTracking:\n",
    "        ds = tf.data.Dataset.from_generator(\n",
    "            dsg.createBatch,\n",
    "            args = (tf.constant(tiles_per_X), tf.constant(tile_size), tf.constant(genomes, dtype=tf.string), \n",
    "                    tf.constant(True)),\n",
    "\n",
    "            # vvv used in newer versions of TF vvv\n",
    "            # output_signature = (tf.TensorSpec(shape = ([batch_size, len(genomes), 6, tile_size, su.aa_alphabet_size], \n",
    "            #                                            [batch_size, len(genomes), 2]),\n",
    "            #                                   dtype = (tf.float32, tf.int32))\n",
    "\n",
    "            # vvv deprecated in newer versions of TF vvv\n",
    "            output_types = (tf.float32, tf.int32),\n",
    "            output_shapes = (tf.TensorShape([tiles_per_X, len(genomes), 6, tile_size, su.aa_alphabet_size]),\n",
    "                             tf.TensorShape([tiles_per_X, len(genomes), 4]))\n",
    "        )\n",
    "    else:\n",
    "        ds = tf.data.Dataset.from_generator(\n",
    "            dsg.createBatch,\n",
    "            args = (tf.constant(tiles_per_X), tf.constant(tile_size), tf.constant(genomes, dtype=tf.string), \n",
    "                    tf.constant(False)),\n",
    "\n",
    "            # vvv used in newer versions of TF vvv\n",
    "            # output_signature = (tf.TensorSpec(shape = [batch_size, len(genomes), 6, tile_size, su.aa_alphabet_size],\n",
    "            #                                   dtype = tf.float32))\n",
    "\n",
    "            # vvv deprecated in newer versions of TF vvv\n",
    "            output_types = (tf.float32),\n",
    "            output_shapes = (tf.TensorShape([tiles_per_X, len(genomes), 6, tile_size, su.aa_alphabet_size]))\n",
    "        )\n",
    "    return ds"
   ]
  },
  {
   "cell_type": "markdown",
   "metadata": {},
   "source": [
    "---\n",
    "\n",
    "#### Plot Functions"
   ]
  },
  {
   "cell_type": "code",
   "execution_count": 12,
   "metadata": {},
   "outputs": [],
   "source": [
    "def plotLogo(P, idxarray = None, pScores = None, max_print=5, label=\"score\"):\n",
    "    \"\"\"\n",
    "    max_print  print up to this many logos\n",
    "    \"\"\"\n",
    "    dfs = su.makeDFs(P.numpy())\n",
    "    for i in range(min(P.shape[2],max_print)):\n",
    "        j = idxarray[i] if idxarray is not None else i\n",
    "        profile_df = dfs[j]\n",
    "        logo = logomaker.Logo(profile_df, vpad=.1, width=1)\n",
    "        logo.style_xticks(anchor=0, spacing=1, rotation=45)\n",
    "        logo.ax.set_ylabel('information (bits)')\n",
    "        logo.ax.set_title(f\"Profile {j}\" + (f\" {label}={pScores[j]:.3f}\") if pScores is not None else \"\")"
   ]
  },
  {
   "cell_type": "code",
   "execution_count": 13,
   "metadata": {},
   "outputs": [],
   "source": [
    "# plot the training history as loss and accuracy curves\n",
    "def plotHistory(history):\n",
    "    loss = history['loss']\n",
    "    Rmax = history['Rmax']\n",
    "    Rmin = history['Rmin']\n",
    "    Smax = history['Smax']\n",
    "    Smin = history['Smin']\n",
    "    epochs = range(1, len(loss) + 1)\n",
    "\n",
    "    fig, ax = plt.subplots(ncols = 2, figsize = (15, 6))\n",
    "    ax[0].plot(epochs, loss, 'bo', label = 'Training loss')\n",
    "    ax[0].set_title('Training loss')\n",
    "    ax[0].legend()\n",
    "\n",
    "    ax[1].plot(epochs, Rmax, 'bo', label = 'Rmax')\n",
    "    ax[1].plot(epochs, Rmin, 'b+', label = 'Rmin')\n",
    "    ax[1].plot(epochs, Smax, 'go', label = 'Smax')\n",
    "    ax[1].plot(epochs, Smin, 'g+', label = 'Smin')\n",
    "    ax[1].set_title('Training R and S')\n",
    "    ax[1].legend();\n",
    "    \n",
    "    return fig, ax"
   ]
  },
  {
   "cell_type": "markdown",
   "metadata": {},
   "source": [
    "## TensorFlow Model\n",
    "Let $$P = (P[w,c,u]) \\in [0,1]^{k \\times 21 \\times U}$$\n",
    "be a collection of $U$ amino acid **profiles**, each of length $k$.\n",
    "Let $$ Q = (Q[c]) \\in [0,1]^{21}$$ be a background amino acid distribution.\n",
    "\n",
    "Both are normalized distributions:\n",
    "$$ \\sum_c P[w,c,u] = \\sum_c Q[c] = 1 \\qquad \\forall u,w.$$\n",
    "\n",
    "Define the scores tensor \n",
    "$$ S \\in \\mathbb{R}^ {B\\times N \\times U}$$\n",
    "by\n",
    "$$ S[b,g,u] = \\max_{f=0}^5 \\max_{v=0}^{T-k} \\sum_{w=0}^{k-1} \\sum_{c=0}^{20} X[b,g,f,v+w,c] \\cdot \\ln \\frac {P[w,c,u]}{Q[c]}.$$\n",
    "\n",
    "For a given batch $S[b,g,u]$ is the maximal score that the $u$-th profile scores in the $b$-th tile of genome $g$.\n",
    "It can be computed using a **one dimensional convolution** and max pooling.\n",
    "\n",
    "Define the intermediate variables:\n",
    "\n",
    "$R \\in [0,1]^{k \\times 21 \\times U}$ by \n",
    "$$ R[w,c,u] := \\ln \\frac {P[w,c,u]}{Q[c]}.$$\n",
    "\n",
    "$Z \\in \\mathbb{R}^{B\\times N \\times 6 \\times T-k-1\\times U}$ by\n",
    "$$Z[b,g,f,v,u] := \\sum_{w=0}^{k-1} \\sum_{c=0}^{20} X[b,g,f,v+w,c] \\cdot R[w,c,u].$$\n",
    "\n",
    "**Losses:**\n",
    "Only the best score counts for each frame and tile. Sum them up.\n",
    "$$L_1 = - \\sum_{b=1}^B \\sum_{g=1}^G \\sum_{u=1}^U S[b,g,u]$$ "
   ]
  },
  {
   "cell_type": "code",
   "execution_count": 14,
   "metadata": {},
   "outputs": [],
   "source": [
    "U = 200 # number of profiles to train\n",
    "k = 11 # length of profiles"
   ]
  },
  {
   "cell_type": "code",
   "execution_count": null,
   "metadata": {},
   "outputs": [],
   "source": [
    "class SpecificProfile(tf.keras.Model):\n",
    "    def __init__(self, k, alphabet_size, units, Q, P_logit_init=None, **kwargs):\n",
    "        super().__init__(**kwargs)\n",
    "        # P_logit_init = tf.random.normal([k, alphabet_size, units], stddev=.5, dtype=tf.float32, seed=1)\n",
    "        \n",
    "        self.Q = Q\n",
    "        self.k = k\n",
    "        self.alphabet_size = alphabet_size\n",
    "        self.units = units\n",
    "        self.history = {'loss': [],\n",
    "                        'Rmax': [],\n",
    "                        'Rmin': [],\n",
    "                        'Smax': [],\n",
    "                        'Smin': []}\n",
    "        \n",
    "        if P_logit_init is None:\n",
    "            P_logit_init = self._getRandomProfiles()\n",
    "        if False: # to test whether the right pattern has low loss\n",
    "                P_logit_init[:,:,0:2] = -100. #-100 *np.ones([k, 21, 2], dtype=np.float32)\n",
    "                P_logit_init[0,15,0] = 5 # M\n",
    "                P_logit_init[1,7,0] = 5 # A\n",
    "                P_logit_init[2,16,0] = 5 # R\n",
    "                P_logit_init[3,8,0] = 5 # I\n",
    "                P_logit_init[4,19,0] = 5 # Q\n",
    "                P_logit_init[5,12,0] = 5 # S\n",
    "                P_logit_init[6,4,0] = 5 # T\n",
    "                P_logit_init[7,7,0] = 5 # A\n",
    "                P_logit_init[8,9,0] = 5 # N\n",
    "                P_logit_init[9,1,0] = 5 # K\n",
    "                P_logit_init[10,2,0] = 5 # E\n",
    "                # REPEATAEPER\n",
    "                P_logit_init[0,16,1] = 5 # R\n",
    "                P_logit_init[1,2,1] = 5 # E\n",
    "                P_logit_init[2,18,1] = 5 # P\n",
    "                P_logit_init[3,2,1] = 5 # E\n",
    "                P_logit_init[4,7,1] = 5 # A\n",
    "                P_logit_init[5,4,1] = 5 # T\n",
    "                P_logit_init[6,7,1] = 5 # A\n",
    "                P_logit_init[7,2,1] = 5 # E\n",
    "                P_logit_init[8,18,1] = 5 # P\n",
    "                P_logit_init[9,2,1] = 5 # E\n",
    "                P_logit_init[10,16,1] = 5 # R\n",
    "                \n",
    "        self.setP_logit(P_logit_init)\n",
    "        \n",
    "    def _getRandomProfiles(self):\n",
    "        Q1 = tf.expand_dims(self.Q,0)\n",
    "        Q2 = tf.expand_dims(Q1,-1)\n",
    "        \n",
    "        P_logit_like_Q = np.log(Q2.numpy())\n",
    "        P_logit_init = P_logit_like_Q + np.random.normal(scale=4., size=[self.k, self.alphabet_size, self.units]).astype('float32')\n",
    "        return P_logit_init\n",
    "        \n",
    "    # return for each profile the best score at any position in the dataset\n",
    "    def get_profile_match_sites(self, ds, threshold, aa_tile_size, genomes, L5score: bool = False):\n",
    "        # dict of dicts of dict, for each genome, map each contig to a dict that collects profile indices and positions\n",
    "        #   (given that the profile matches with score above threshold for that genome, contig and position)\n",
    "        sites = {}\n",
    "        for batch in ds:\n",
    "            assert len(batch) == 2, str(len(batch))+\" -- use batch dataset with position tracking!\"\n",
    "            X = batch[0]        # (B, tilePerX, N, 6, tileSize, 21)\n",
    "            posTrack = batch[1] # (B, tilePerX, N, 3)\n",
    "            assert len(X.shape) == 6, str(X.shape)\n",
    "            assert len(posTrack.shape) == 4, str(posTrack.shape)\n",
    "            assert X.shape[0:3] == posTrack.shape[0:3], str(X.shape)+\" != \"+str(posTrack.shape)\n",
    "            for b in range(X.shape[0]): # iterate samples in batch\n",
    "                # get positions of best profile matches\n",
    "                _, _, Z = self.call(X[b])              # (tilePerX, N, 6, T-k+1, U)\n",
    "                if L5score:\n",
    "                    gamma = .2\n",
    "                    Z2 = tf.nn.softmax(gamma*Z, axis=0)\n",
    "                    Z3 = tf.math.multiply(Z, tf.square(Z2))\n",
    "                    Z = Z3\n",
    "                    \n",
    "                for g in range(X.shape[2]):\n",
    "                    if tf.reduce_max(Z[:,g,:,:,:]) >= threshold:\n",
    "                        p = tf.argmax( tf.reduce_max(Z[:,g,:,:,:], axis=[0,1,2]) ).numpy() # index of the profile with best hit\n",
    "                        t = tf.argmax( tf.reduce_max(Z[:,g,:,:,p], axis=[1,2]) ).numpy()   # index of the tile with best hit\n",
    "                        f = tf.argmax( tf.reduce_max(Z[t,g,:,:,p], axis=[1]) ).numpy()     # index of the frame with best hit\n",
    "                        r = tf.argmax( Z[t,g,f,:,p] ).numpy()                              # index of the rel. position with best hit\n",
    "\n",
    "                        c = posTrack[b,t,g,0].numpy()\n",
    "                        if c < 0:\n",
    "                            continue # either bug or profile matches good on padding\n",
    "                            \n",
    "                        assert c < len(genomes[g]), str(c)+\" >= \"+str(len(genomes[g]))+\" for genome \"+str(g)\n",
    "                            \n",
    "                        cStart = posTrack[b,t,g,1].numpy()\n",
    "                        tilelen = posTrack[b,t,g,2].numpy()\n",
    "                        \n",
    "                        pos = r*3 # to dna coord\n",
    "                        if f < 3:\n",
    "                            pos += f # add frame shift\n",
    "                            pos = cStart + pos\n",
    "                        else:\n",
    "                            # add appropriate frame shift\n",
    "                            seqlen = len(genomes[g][c])\n",
    "                            if seqlen%3 == tilelen%3:\n",
    "                                pos += f-3\n",
    "                            else:\n",
    "                                pos += dsg.rcFrameOffsets(seqlen)[f-3]\n",
    "                                \n",
    "                            pos = tilelen - pos - (self.k*3)\n",
    "\n",
    "                        if g not in sites:\n",
    "                            sites[g] = {}\n",
    "                        if c not in sites[g]:\n",
    "                            sites[g][c] = {'profile': [], 'pos': [], 'score': [], 'frame': []}\n",
    "\n",
    "                        sites[g][c]['profile'].append(p)\n",
    "                        sites[g][c]['pos'].append(pos)\n",
    "                        sites[g][c]['score'].append(Z[t,g,f,r,p].numpy())\n",
    "                        sites[g][c]['frame'].append(f)\n",
    "                        \n",
    "        return sites\n",
    "    \n",
    "    # return index of the profile that has the highest mean score of all scores in all tiles\n",
    "    def get_best_profile(self, ds):\n",
    "        N = np.zeros(self.units, dtype=np.float32)\n",
    "        S = np.zeros(self.units, dtype=np.float32)\n",
    "        \n",
    "        for batch in ds:\n",
    "            assert len(batch) == 2, str(len(batch))+\" -- use batch dataset with position tracking!\"\n",
    "            X = batch[0]        # (B, tilePerX, N, 6, tileSize, 21)\n",
    "            posTrack = batch[1] # (B, tilePerX, N, 3)\n",
    "            assert len(X.shape) == 6, str(X.shape)\n",
    "            assert len(posTrack.shape) == 4, str(posTrack.shape)\n",
    "            assert X.shape[0:3] == posTrack.shape[0:3], str(X.shape)+\" != \"+str(posTrack.shape)\n",
    "            for b in range(X.shape[0]): # iterate samples in batch\n",
    "                # get positions of best profile matches\n",
    "                _, _, Z = self.call(X[b])              # Z: tilePerX, N, 6, T-k+1, U), X: (batchsize, tilePerX, N, 6, T, alphSize) \n",
    "                gamma = .2\n",
    "                Z2 = tf.nn.softmax(gamma*Z, axis=0)\n",
    "                Z3 = tf.math.multiply(Z, tf.square(Z2))\n",
    "                Z = Z3\n",
    "\n",
    "                for u in range(Z.shape[-1]):\n",
    "                    for t in range(Z.shape[0]):\n",
    "                        s = tf.reduce_max(Z[t,:,:,:,u])\n",
    "                        n = tf.argmax( tf.reduce_max(Z[t,:,:,:,u], axis=[1,2]) ).numpy() # index of genome with highest score\n",
    "                        if posTrack[b,t,n,0] >= 0: # otherwise contig was exhausted\n",
    "                            N[u] += 1\n",
    "                            S[u] += s\n",
    "                            \n",
    "        M = np.array([S[i]/N[i] if N[i] > 0 else -np.inf for i in range(len(N))])\n",
    "        return np.argmax(M), np.max(M) # index, mean score\n",
    "\n",
    "    def getP(self):\n",
    "        P = tf.nn.softmax(self.P_logit, axis=1, name=\"P\")\n",
    "        return P\n",
    "    \n",
    "    def getR(self):\n",
    "        P = self.getP()\n",
    "        Q1 = tf.expand_dims(self.Q,0)\n",
    "        Q2 = tf.expand_dims(Q1,-1)\n",
    "        # Limit the odds-ratio, to prevent problem with log(0).\n",
    "        # Very bad matches of profiles are irrelevant anyways.\n",
    "        ratio = tf.maximum(P/Q2, 1e-6)\n",
    "        R = tf.math.log(ratio)\n",
    "        return R\n",
    "    \n",
    "    def getZ(self, X):\n",
    "        R = self.getR()\n",
    "\n",
    "        X1 = tf.expand_dims(X,-1) # 1 input channel\n",
    "        R1 = tf.expand_dims(R,-2) # 1 input channel\n",
    "        Z1 = tf.nn.conv2d(X1, R1, strides=1,\n",
    "                          padding='VALID', data_format=\"NHWC\", name=\"Z\")\n",
    "        Z = tf.squeeze(Z1, 4) # remove input channel dimension\n",
    "        return Z, R\n",
    "        \n",
    "    def call(self, X):\n",
    "        Z, R = self.getZ(X)\n",
    "\n",
    "        S = tf.reduce_max(Z, axis=[2,3])\n",
    "        return S, R, Z\n",
    "\n",
    "    # custom loss\n",
    "    def loss(self, S):\n",
    "        # overall fit of patterns\n",
    "        # beta = 5.0 # the larger the harder the softmax\n",
    "        # S1 = tf.math.multiply(S, tf.nn.softmax(beta*S, axis=0)) # a soft version between maximizing and summing over the tiles\n",
    "        L1 = -tf.reduce_sum(S) / self.units\n",
    "        \n",
    "        # homogeneity along pattern\n",
    "        P = self.getP()\n",
    "        H = -tf.reduce_sum(tf.math.multiply(P, tf.math.log(P)), axis=1) # entropy\n",
    "        # standard deviation of entropies\n",
    "        VH = tf.math.reduce_std(H, axis=0) # variance for each profile along site axis\n",
    "        L2 = tf.reduce_mean(VH)\n",
    "        \n",
    "        # homogeneity between genomes\n",
    "        # ignore the best score per genome, so that rather others are improved\n",
    "        # L3 = tf.reduce_sum(tf.reduce_max(S, axis=1)) # cancels out the best occurence from L1\n",
    "        \n",
    "        # other ideas: \n",
    "        # - std deviation of scores of different genomes\n",
    "        # L4 = tf.reduce_sum(tf.math.reduce_std(tf.reduce_max(S, axis=0), axis=0))\n",
    "        # - minimum score of any genome\n",
    "        \n",
    "        # penalize multiple similarly good near-best matches in the same genome\n",
    "        gamma = .2 # a small value means a more inclusive meaning of near-best\n",
    "        S2 = tf.nn.softmax(gamma*S, axis=0)\n",
    "        S3 = tf.reduce_max(S2, axis=0) # the closer to 1, the clearer is the champion match a winner\n",
    "        S4 = tf.reduce_max(S, axis=0) # ranges over tiles, or soft max like in L1\n",
    "        S5 = tf.math.multiply(S4, tf.square(S3)) # effectively the best score per genome is divided by the number of matches\n",
    "        loss_by_unit = tf.reduce_sum(-S5, axis=0) / self.units # sum over genomes\n",
    "        L5 = tf.reduce_sum(loss_by_unit) # sum over profiles=units\n",
    "        \n",
    "        #return (L1+L3)/N + 50*L2, L2, L4 # + 100*L2 # (L1 + L3)/N #+ 100*L2\n",
    "        return L5, loss_by_unit, (L1, L2, (L5, loss_by_unit)) # first: loss to use in training, last: tuple of all losses for evaluation\n",
    "\n",
    "    # return for each profile the best score at any position in the dataset\n",
    "    def max_profile_scores(self, ds):\n",
    "        scores = np.ones([self.units], dtype=np.float32) * -np.infty\n",
    "        for batch in ds:\n",
    "            assert len(batch.shape) == 6, str(batch.shape)+\" -- use batch dataset without position tracking!\"\n",
    "            for X in batch:\n",
    "                assert len(X.shape) == 5, str(X.shape)\n",
    "                S, _, _ = self.call(X)\n",
    "                scores = np.maximum(np.max(S, axis=(0,1)), scores)\n",
    "                                    \n",
    "        return scores\n",
    "    \n",
    "    # return for each profile the loss contribution\n",
    "    def min_profile_losses(self, ds):\n",
    "        losses = np.zeros([self.units], dtype=np.float32)\n",
    "        for batch in ds:\n",
    "            assert len(batch.shape) == 6, str(batch.shape)+\" -- use batch dataset without position tracking!\"\n",
    "            for X in batch:\n",
    "                assert len(X.shape) == 5, str(X.shape)\n",
    "                S, _, _ = self.call(X)\n",
    "                _, losses_by_unit, _ = self.loss(S)\n",
    "                losses += losses_by_unit\n",
    "                                    \n",
    "        return losses\n",
    "    \n",
    "    @tf.function()\n",
    "    def train_step(self, X):\n",
    "        with tf.GradientTape() as tape:\n",
    "            S, R, _ = self.call(X)\n",
    "            L, _, _ = self.loss(S)\n",
    "\n",
    "        grad = tape.gradient(L, self.P_logit)\n",
    "        self.opt.apply_gradients([(grad, self.P_logit)])\n",
    "        \n",
    "        return S, R, L\n",
    "\n",
    "    def train(self, X, epochs=1000, verbose=True):\n",
    "        self.opt = tf.keras.optimizers.Adam(learning_rate=.1) # large learning rate is much faster\n",
    "        for i in range(epochs):\n",
    "            self.train_step(X)\n",
    "            if verbose and (i%(100) == 0 or i==epochs-1):\n",
    "                S, R, _ = self(X)\n",
    "                L, _, _ = self.loss(S)\n",
    "                print(f\"epoch {i:>5} loss={L.numpy():.4f}\" +\n",
    "                      \" max R: {:.3f}\".format(tf.reduce_max(R).numpy()) +\n",
    "                      \" min R: {:.3f}\".format((tf.reduce_min(R).numpy())))\n",
    "                \n",
    "    def train_ds(self, ds_train, ds_eval, steps_per_epoch, epochs, verbose=True, verbose_freq=100):\n",
    "        self.opt = tf.keras.optimizers.Adam(learning_rate=1.) # large learning rate is much faster\n",
    "        tstart = time()\n",
    "        for i in range(epochs):\n",
    "            steps = 0\n",
    "            Lb = []\n",
    "            Smin, Smax = float('inf'), float('-inf')\n",
    "            Rmin, Rmax = float('inf'), float('-inf')\n",
    "            for batch in ds_train:\n",
    "                assert len(batch.shape) == 6, str(batch.shape)+\" -- use batch dataset without position tracking!\"\n",
    "                for X in batch:\n",
    "                    assert len(X.shape) == 5, str(X.shape)\n",
    "                    S, R, L = self.train_step(X)\n",
    "                    Lb.append(L)\n",
    "                    Rmax = max(Rmax, tf.reduce_max(R).numpy())\n",
    "                    Rmin = min(Rmin, tf.reduce_min(R).numpy())\n",
    "                    Smax = max(Smax, tf.reduce_max(S).numpy())\n",
    "                    Smin = min(Smin, tf.reduce_min(S).numpy())\n",
    "                    \n",
    "                steps += 1\n",
    "                if steps >= steps_per_epoch:\n",
    "                    break\n",
    "                    \n",
    "            p, s = self.get_best_profile(ds_eval)\n",
    "            print(\"epoch\", i, \"best profile\", p, \"with score\", s)\n",
    "                    \n",
    "            self.history['loss'].append(np.mean(Lb))\n",
    "            self.history['Rmax'].append(Rmax)\n",
    "            self.history['Rmin'].append(Rmin)\n",
    "            self.history['Smax'].append(Smax)\n",
    "            self.history['Smin'].append(Smin)\n",
    "                    \n",
    "            if verbose and (i%(verbose_freq) == 0 or i==epochs-1):\n",
    "                S, R, _ = self(X)\n",
    "                L, _, _ = self.loss(S)\n",
    "                tnow = time()\n",
    "                print(f\"epoch {i:>5} loss={L.numpy():.4f}\" +\n",
    "                      \" max R: {:.3f}\".format(tf.reduce_max(R).numpy()) +\n",
    "                      \" min R: {:.3f}\".format((tf.reduce_min(R).numpy())) +\n",
    "                      \" time: {:.2f}\".format(tnow-tstart)) \n",
    "                \n",
    "    def seed_P_ds(self, ds):\n",
    "        \"\"\"\n",
    "            Seed profiles P with profiles that represent units random positions in the input sequences.\n",
    "            Positions are drawn uniformly from all positions in all sequences. \n",
    "            This is done with an old and neat trick online, so that the data has to be read only once.\n",
    "        \"\"\"\n",
    "        rho = 2.0\n",
    "        oneProfile_logit_like_Q = np.log(self.Q)\n",
    "        P_logit_init = self._getRandomProfiles() # shape [k, alphabet_size, units]\n",
    "        m = 0 # number of positions seen so far\n",
    "        for batch in ds:\n",
    "            assert len(batch.shape) == 6, str(batch.shape)+\" -- use batch dataset without position tracking!\"\n",
    "            for X in batch:\n",
    "                assert len(X.shape) == 5, str(X.shape)\n",
    "                X = X.numpy()\n",
    "                PP = X.reshape([-1, self.alphabet_size]) # (tilesPerX, N, 6, T, alphSize) -> (tilesPerX*N*6*T, alphSize)\n",
    "                J = PP.shape[0]\n",
    "                # PP[j,a] is 1 if the j-th character in an artificially concatenated sequence is char a\n",
    "                # the length k patterns extend over tile ends, which could be improved later\n",
    "                num_pos = J - self.k\n",
    "                for j in range(num_pos):\n",
    "                    i = -1 # i-th profile is to be replaced, unless i<0\n",
    "                    if m < self.units:\n",
    "                        i = m\n",
    "                    elif np.random.choice(m) < self.units:\n",
    "                        i = np.random.choice(self.units)\n",
    "                    if i >= 0:\n",
    "                        # replace i-th profile with a seed profile build from the pattern starting at position j\n",
    "                        # Seed is the background distribution, except the observed k-mer at pos j is more likely\n",
    "                        seed = rho * PP[j:j+self.k,:] + oneProfile_logit_like_Q\n",
    "                        P_logit_init[:,:,i] = seed\n",
    "                        # print (f\"replacing {i:>3}-th pattern with the one from pos {j:>6}:\\n\", seed)\n",
    "                    m += 1\n",
    "\n",
    "        return P_logit_init\n",
    "    \n",
    "    def seed_P_triplets(self):\n",
    "        self.units = self.alphabet_size ** 3\n",
    "        P_logit = np.zeros((self.k, self.alphabet_size, self.units), dtype=np.float32)\n",
    "        p = 0\n",
    "        for i in range(self.alphabet_size):\n",
    "            for j in range(self.alphabet_size):\n",
    "                for k in range(self.alphabet_size):\n",
    "                    P_logit[0,:,p] = np.ones(self.alphabet_size, dtype=np.float32) * 1e-6\n",
    "                    P_logit[1,:,p] = np.ones(self.alphabet_size, dtype=np.float32) * 1e-6\n",
    "                    P_logit[2,:,p] = np.ones(self.alphabet_size, dtype=np.float32) * 1e-6\n",
    "                    P_logit[0,i,p] = 1e6\n",
    "                    P_logit[1,j,p] = 1e6\n",
    "                    P_logit[2,k,p] = 1e6\n",
    "                    p += 1\n",
    "                    \n",
    "        return P_logit\n",
    "                \n",
    "    def setP_logit(self, P_logit_init):\n",
    "        self.P_logit = tf.Variable(P_logit_init, trainable=True, name=\"P_logit\") "
   ]
  },
  {
   "cell_type": "code",
   "execution_count": 15,
   "metadata": {},
   "outputs": [
    {
     "name": "stdout",
     "output_type": "stream",
     "text": [
      "<module 'model' from '/nas-hs/users/matthis/genomegraph/learn_specific_profiles/model.py'>\n"
     ]
    }
   ],
   "source": [
    "print(importlib.reload(model))"
   ]
  },
  {
   "cell_type": "code",
   "execution_count": 16,
   "metadata": {},
   "outputs": [
    {
     "name": "stdout",
     "output_type": "stream",
     "text": [
      "peak memory: 325.47 MiB, increment: 9.84 MiB\n",
      "CPU times: user 192 ms, sys: 48 ms, total: 240 ms\n",
      "Wall time: 359 ms\n"
     ]
    }
   ],
   "source": [
    "# build and randomly initialize profile model\n",
    "tf.keras.backend.clear_session() # avoid memory cluttering by remains of old models\n",
    "specProModel = None\n",
    "#%time %memit specProModel = SpecificProfile(k, su.aa_alphabet_size, U, Q)\n",
    "%time %memit specProModel = model.SpecificProfile(k, su.aa_alphabet_size, U, Q)"
   ]
  },
  {
   "cell_type": "code",
   "execution_count": 17,
   "metadata": {},
   "outputs": [],
   "source": [
    "if False:\n",
    "    P_init = specProModel.getP()\n",
    "    plotLogo(P_init)"
   ]
  },
  {
   "cell_type": "markdown",
   "metadata": {},
   "source": [
    "### Training Set"
   ]
  },
  {
   "cell_type": "code",
   "execution_count": 18,
   "metadata": {},
   "outputs": [],
   "source": [
    "#ds = getDataset().repeat().batch(batch_size).prefetch(3)\n",
    "#ds_score = getDataset().batch(batch_size).prefetch(3)\n",
    "#ds_init  = getDataset().batch(batch_size).prefetch(3)\n",
    "ds_init  = dsg.getDataset(genomes, tiles_per_X, tile_size).batch(batch_size).prefetch(3)"
   ]
  },
  {
   "cell_type": "code",
   "execution_count": 19,
   "metadata": {
    "scrolled": false
   },
   "outputs": [
    {
     "name": "stdout",
     "output_type": "stream",
     "text": [
      "CPU times: user 1.54 s, sys: 20 ms, total: 1.56 s\n",
      "Wall time: 1.55 s\n"
     ]
    }
   ],
   "source": [
    "%time P_logit_init = specProModel.seed_P_ds(ds_init)\n",
    "specProModel.setP_logit(P_logit_init)\n",
    "\n",
    "#%time P_logit_init = specProModel.seed_P_triplets()\n",
    "#print(specProModel.units)\n",
    "#specProModel.setP_logit(P_logit_init)"
   ]
  },
  {
   "cell_type": "markdown",
   "metadata": {},
   "source": [
    "    CPU times: user 3min 56s, sys: 1.72 s, total: 3min 58s\n",
    "    Wall time: 3min 55s"
   ]
  },
  {
   "cell_type": "code",
   "execution_count": null,
   "metadata": {},
   "outputs": [],
   "source": [
    "# notebook's model\n",
    "tf.keras.backend.clear_session() # avoid memory cluttering by remains of old models\n",
    "%time %memit specProModel_nb = SpecificProfile(k, su.aa_alphabet_size, U, Q)\n",
    "\n",
    "%time P_logit_init = specProModel_nb.seed_P_ds(ds_init)\n",
    "#specProModel.setP_logit(P_logit_init)"
   ]
  },
  {
   "cell_type": "markdown",
   "metadata": {},
   "source": [
    "### Training\n",
    "\n",
    "    Training on seedFinding data takes 5.5 h for 10 epochs on greifserv3"
   ]
  },
  {
   "cell_type": "code",
   "execution_count": null,
   "metadata": {},
   "outputs": [],
   "source": [
    "ds_eval = getDataset(withPosTracking = True).batch(batch_size).prefetch(3)"
   ]
  },
  {
   "cell_type": "code",
   "execution_count": 20,
   "metadata": {
    "scrolled": false
   },
   "outputs": [
    {
     "name": "stdout",
     "output_type": "stream",
     "text": [
      "epoch 0 best profile 34 with score 115.84205\n",
      "epoch     0 loss=-30.6703 max R: 2.731 min R: -1.614 time: 2.27\n",
      "epoch 1 best profile 34 with score 165.51508\n",
      "epoch     1 loss=-54.8231 max R: 2.994 min R: -3.342 time: 3.20\n",
      "epoch 2 best profile 34 with score 174.91779\n",
      "epoch     2 loss=-74.4526 max R: 3.037 min R: -5.124 time: 4.10\n",
      "epoch 3 best profile 34 with score 177.06866\n",
      "epoch     3 loss=-89.8809 max R: 3.043 min R: -7.013 time: 5.07\n",
      "epoch 4 best profile 34 with score 177.62178\n",
      "epoch     4 loss=-102.3055 max R: 3.044 min R: -8.779 time: 6.01\n",
      "epoch 5 best profile 34 with score 177.70348\n",
      "epoch     5 loss=-110.3877 max R: 3.044 min R: -10.508 time: 6.92\n",
      "epoch 6 best profile 34 with score 177.7702\n",
      "epoch     6 loss=-114.9266 max R: 3.045 min R: -12.164 time: 7.81\n",
      "epoch 7 best profile 34 with score 177.84727\n",
      "cleaning up profile 34 with threshold 8.8\n",
      "epoch     7 loss=-5.3510 max R: 1.734 min R: -0.266 time: 10.64\n",
      "epoch 8 best profile 130 with score 17.900621\n",
      "epoch     8 loss=-12.4322 max R: 2.573 min R: -1.350 time: 11.54\n",
      "epoch 9 best profile 196 with score 28.4304\n",
      "epoch     9 loss=-21.7002 max R: 2.917 min R: -2.897 time: 12.48\n",
      "epoch 10 best profile 157 with score 42.538876\n",
      "epoch    10 loss=-31.9943 max R: 3.014 min R: -4.634 time: 13.45\n",
      "epoch 11 best profile 157 with score 57.240776\n",
      "epoch    11 loss=-44.1898 max R: 3.037 min R: -6.427 time: 14.42\n",
      "epoch 12 best profile 196 with score 71.42907\n",
      "epoch    12 loss=-57.6129 max R: 3.043 min R: -8.164 time: 15.37\n",
      "epoch 13 best profile 196 with score 82.28301\n",
      "epoch    13 loss=-70.0103 max R: 3.044 min R: -9.920 time: 16.33\n",
      "epoch 14 best profile 196 with score 84.79436\n",
      "epoch    14 loss=-79.8524 max R: 3.044 min R: -11.530 time: 17.29\n",
      "epoch 15 best profile 16 with score 91.07949\n",
      "epoch    15 loss=-86.6657 max R: 3.044 min R: -12.996 time: 18.21\n",
      "epoch 16 best profile 16 with score 99.44015\n",
      "epoch    16 loss=-90.9596 max R: 3.045 min R: -13.816 time: 19.18\n",
      "epoch 17 best profile 189 with score 103.37463\n",
      "epoch    17 loss=-93.7859 max R: 3.045 min R: -13.816 time: 20.06\n",
      "epoch 18 best profile 189 with score 104.22052\n",
      "epoch    18 loss=-96.2349 max R: 3.045 min R: -13.816 time: 21.01\n",
      "epoch 19 best profile 189 with score 103.514145\n",
      "epoch    19 loss=-98.4466 max R: 3.045 min R: -13.816 time: 21.96\n",
      "epoch 20 best profile 189 with score 104.52064\n",
      "epoch    20 loss=-100.3352 max R: 3.045 min R: -13.816 time: 22.86\n",
      "epoch 21 best profile 189 with score 106.01547\n",
      "epoch    21 loss=-102.0107 max R: 3.045 min R: -13.816 time: 23.78\n",
      "epoch 22 best profile 189 with score 106.745766\n",
      "epoch    22 loss=-103.4302 max R: 3.045 min R: -13.816 time: 24.70\n",
      "epoch 23 best profile 189 with score 107.346054\n",
      "epoch    23 loss=-104.4331 max R: 3.045 min R: -13.816 time: 25.55\n",
      "epoch 24 best profile 189 with score 108.57235\n",
      "epoch    24 loss=-105.1947 max R: 3.045 min R: -13.816 time: 26.46\n",
      "epoch 25 best profile 189 with score 109.7591\n",
      "epoch    25 loss=-105.9551 max R: 3.045 min R: -13.816 time: 27.45\n",
      "epoch 26 best profile 189 with score 110.38315\n",
      "epoch    26 loss=-106.6755 max R: 3.045 min R: -13.816 time: 28.36\n",
      "epoch 27 best profile 189 with score 110.72754\n",
      "epoch    27 loss=-107.2366 max R: 3.045 min R: -13.816 time: 29.31\n",
      "epoch 28 best profile 189 with score 111.798996\n",
      "epoch    28 loss=-107.6819 max R: 3.045 min R: -13.816 time: 30.19\n",
      "epoch 29 best profile 189 with score 113.28408\n",
      "epoch    29 loss=-108.1446 max R: 3.045 min R: -13.816 time: 31.12\n",
      "epoch 30 best profile 189 with score 113.933525\n",
      "epoch    30 loss=-108.5914 max R: 3.045 min R: -13.816 time: 32.04\n",
      "epoch 31 best profile 189 with score 113.48993\n",
      "epoch    31 loss=-108.9878 max R: 3.045 min R: -13.816 time: 32.94\n",
      "epoch 32 best profile 189 with score 112.75855\n",
      "epoch    32 loss=-109.3185 max R: 3.045 min R: -13.816 time: 33.89\n",
      "epoch 33 best profile 189 with score 112.73718\n",
      "cleaning up profile 189 with threshold 8.8\n",
      "epoch    33 loss=-5.0729 max R: 1.734 min R: -0.266 time: 36.69\n",
      "epoch 34 best profile 54 with score 16.565857\n",
      "epoch    34 loss=-10.5917 max R: 2.288 min R: -1.005 time: 37.64\n",
      "epoch 35 best profile 156 with score 30.27618\n",
      "epoch    35 loss=-19.0983 max R: 2.740 min R: -2.249 time: 38.51\n",
      "epoch 36 best profile 70 with score 46.960644\n",
      "epoch    36 loss=-27.2427 max R: 2.953 min R: -3.875 time: 39.42\n",
      "epoch 37 best profile 70 with score 64.13014\n",
      "epoch    37 loss=-34.7701 max R: 3.019 min R: -5.754 time: 40.30\n",
      "epoch 38 best profile 70 with score 80.630486\n",
      "epoch    38 loss=-43.2195 max R: 3.038 min R: -7.666 time: 41.21\n",
      "epoch 39 best profile 70 with score 86.890724\n",
      "epoch    39 loss=-51.6116 max R: 3.043 min R: -9.710 time: 42.09\n",
      "epoch 40 best profile 70 with score 89.68052\n",
      "epoch    40 loss=-58.5642 max R: 3.044 min R: -11.766 time: 43.03\n",
      "epoch 41 best profile 70 with score 93.08412\n",
      "epoch    41 loss=-65.2869 max R: 3.044 min R: -13.667 time: 43.91\n",
      "epoch 42 best profile 70 with score 94.05803\n",
      "epoch    42 loss=-72.9550 max R: 3.045 min R: -13.816 time: 44.83\n",
      "epoch 43 best profile 70 with score 92.488235\n",
      "epoch    43 loss=-80.4017 max R: 3.045 min R: -13.816 time: 45.79\n",
      "epoch 44 best profile 136 with score 94.75272\n",
      "epoch    44 loss=-85.8186 max R: 3.045 min R: -13.816 time: 46.73\n",
      "epoch 45 best profile 136 with score 97.36322\n",
      "epoch    45 loss=-89.2902 max R: 3.045 min R: -13.816 time: 47.64\n",
      "epoch 46 best profile 136 with score 97.22562\n",
      "epoch    46 loss=-91.8752 max R: 3.045 min R: -13.816 time: 48.52\n",
      "epoch 47 best profile 96 with score 100.51256\n",
      "epoch    47 loss=-94.0332 max R: 3.045 min R: -13.816 time: 49.43\n",
      "epoch 48 best profile 96 with score 100.01794\n",
      "epoch    48 loss=-95.8779 max R: 3.045 min R: -13.816 time: 50.34\n",
      "epoch 49 best profile 59 with score 100.70663\n",
      "epoch    49 loss=-97.3833 max R: 3.045 min R: -13.816 time: 51.24\n",
      "epoch 50 best profile 26 with score 101.74798\n",
      "epoch    50 loss=-98.5991 max R: 3.045 min R: -13.816 time: 52.12\n",
      "epoch 51 best profile 26 with score 103.85701\n",
      "epoch    51 loss=-99.5920 max R: 3.045 min R: -13.816 time: 53.10\n",
      "epoch 52 best profile 26 with score 104.01841\n",
      "epoch    52 loss=-100.4932 max R: 3.045 min R: -13.816 time: 53.99\n",
      "epoch 53 best profile 59 with score 105.208084\n",
      "epoch    53 loss=-101.2377 max R: 3.045 min R: -13.816 time: 54.90\n",
      "epoch 54 best profile 59 with score 104.58212\n",
      "epoch    54 loss=-101.8756 max R: 3.045 min R: -13.816 time: 55.78\n",
      "epoch 55 best profile 78 with score 106.10154\n",
      "epoch    55 loss=-102.4364 max R: 3.045 min R: -13.816 time: 56.73\n",
      "epoch 56 best profile 78 with score 106.97471\n",
      "epoch    56 loss=-102.9681 max R: 3.045 min R: -13.816 time: 57.62\n",
      "epoch 57 best profile 78 with score 106.08451\n",
      "epoch    57 loss=-103.4441 max R: 3.045 min R: -13.816 time: 58.52\n",
      "epoch 58 best profile 26 with score 106.45173\n",
      "epoch    58 loss=-103.8634 max R: 3.045 min R: -13.816 time: 59.48\n",
      "epoch 59 best profile 26 with score 106.49425\n",
      "epoch    59 loss=-104.2382 max R: 3.045 min R: -13.816 time: 60.34\n",
      "epoch 60 best profile 78 with score 107.51533\n",
      "epoch    60 loss=-104.5698 max R: 3.045 min R: -13.816 time: 61.21\n",
      "epoch 61 best profile 78 with score 109.458046\n",
      "epoch    61 loss=-104.8302 max R: 3.045 min R: -13.816 time: 62.13\n",
      "epoch 62 best profile 78 with score 109.458984\n",
      "epoch    62 loss=-105.0694 max R: 3.045 min R: -13.816 time: 62.99\n",
      "epoch 63 best profile 78 with score 108.543175\n",
      "epoch    63 loss=-105.3170 max R: 3.045 min R: -13.816 time: 63.89\n",
      "epoch 64 best profile 78 with score 107.96234\n",
      "cleaning up profile 78 with threshold 8.8\n",
      "epoch    64 loss=-5.6130 max R: 1.734 min R: -0.266 time: 66.55\n",
      "epoch 65 best profile 8 with score 19.521614\n",
      "epoch    65 loss=-12.2963 max R: 2.394 min R: -1.263 time: 67.50\n",
      "epoch 66 best profile 8 with score 32.638893\n",
      "epoch    66 loss=-22.0216 max R: 2.827 min R: -2.934 time: 68.45\n",
      "epoch 67 best profile 32 with score 46.72584\n",
      "epoch    67 loss=-29.5397 max R: 2.996 min R: -5.165 time: 69.35\n",
      "epoch 68 best profile 118 with score 64.668816\n",
      "epoch    68 loss=-36.0049 max R: 3.035 min R: -7.475 time: 70.24\n",
      "epoch 69 best profile 32 with score 76.53045\n",
      "epoch    69 loss=-42.8759 max R: 3.043 min R: -9.761 time: 71.13\n",
      "epoch 70 best profile 32 with score 81.26899\n",
      "epoch    70 loss=-48.6240 max R: 3.044 min R: -12.197 time: 72.06\n",
      "epoch 71 best profile 32 with score 82.63081\n",
      "epoch    71 loss=-53.3581 max R: 3.044 min R: -13.816 time: 73.06\n",
      "epoch 72 best profile 32 with score 84.16763\n",
      "epoch    72 loss=-57.8402 max R: 3.044 min R: -13.816 time: 73.99\n"
     ]
    },
    {
     "name": "stdout",
     "output_type": "stream",
     "text": [
      "epoch 73 best profile 32 with score 89.320076\n",
      "epoch    73 loss=-62.6635 max R: 3.045 min R: -13.816 time: 74.84\n",
      "epoch 74 best profile 32 with score 92.73296\n",
      "epoch    74 loss=-67.7892 max R: 3.045 min R: -13.816 time: 75.89\n",
      "epoch 75 best profile 32 with score 92.197105\n",
      "epoch    75 loss=-71.6441 max R: 3.045 min R: -13.816 time: 76.82\n",
      "epoch 76 best profile 32 with score 91.89177\n",
      "epoch    76 loss=-74.2215 max R: 3.045 min R: -13.816 time: 77.75\n",
      "epoch 77 best profile 32 with score 93.59612\n",
      "epoch    77 loss=-76.1540 max R: 3.045 min R: -13.816 time: 78.71\n",
      "epoch 78 best profile 32 with score 94.92959\n",
      "epoch    78 loss=-77.9184 max R: 3.045 min R: -13.816 time: 79.66\n",
      "epoch 79 best profile 32 with score 94.98951\n",
      "epoch    79 loss=-79.7282 max R: 3.045 min R: -13.816 time: 80.60\n",
      "epoch 80 best profile 104 with score 96.22703\n",
      "epoch    80 loss=-80.9749 max R: 3.045 min R: -13.816 time: 81.54\n",
      "epoch 81 best profile 104 with score 99.33884\n",
      "epoch    81 loss=-81.6673 max R: 3.045 min R: -13.816 time: 82.41\n",
      "epoch 82 best profile 104 with score 102.9603\n",
      "epoch    82 loss=-82.3142 max R: 3.045 min R: -13.816 time: 83.34\n",
      "epoch 83 best profile 104 with score 102.93787\n",
      "epoch    83 loss=-83.0240 max R: 3.045 min R: -13.816 time: 84.24\n",
      "epoch 84 best profile 104 with score 99.72263\n",
      "epoch    84 loss=-83.6629 max R: 3.045 min R: -13.816 time: 85.15\n",
      "epoch 85 best profile 104 with score 99.86207\n",
      "epoch    85 loss=-84.1025 max R: 3.045 min R: -13.816 time: 86.10\n",
      "epoch 86 best profile 104 with score 101.86798\n",
      "epoch    86 loss=-84.4612 max R: 3.045 min R: -13.816 time: 86.98\n",
      "epoch 87 best profile 104 with score 103.609055\n",
      "epoch    87 loss=-84.8156 max R: 3.045 min R: -13.816 time: 87.88\n",
      "epoch 88 best profile 104 with score 105.85479\n",
      "epoch    88 loss=-85.1137 max R: 3.045 min R: -13.816 time: 88.83\n",
      "epoch 89 best profile 104 with score 105.66228\n",
      "epoch    89 loss=-85.4151 max R: 3.045 min R: -13.816 time: 89.72\n",
      "epoch 90 best profile 104 with score 103.68343\n",
      "epoch    90 loss=-85.7127 max R: 3.045 min R: -13.816 time: 90.65\n",
      "epoch 91 best profile 104 with score 103.76006\n",
      "epoch    91 loss=-86.0072 max R: 3.045 min R: -13.816 time: 91.56\n",
      "epoch 92 best profile 104 with score 105.15934\n",
      "epoch    92 loss=-86.2114 max R: 3.045 min R: -13.816 time: 92.50\n",
      "epoch 93 best profile 104 with score 105.93482\n",
      "epoch    93 loss=-86.3716 max R: 3.045 min R: -13.816 time: 93.36\n",
      "epoch 94 best profile 104 with score 106.42462\n",
      "epoch    94 loss=-86.5474 max R: 3.045 min R: -13.816 time: 94.26\n",
      "epoch 95 best profile 104 with score 107.075195\n",
      "epoch    95 loss=-86.7218 max R: 3.045 min R: -13.816 time: 95.08\n",
      "epoch 96 best profile 104 with score 107.093\n",
      "cleaning up profile 104 with threshold 8.8\n",
      "epoch    96 loss=-4.8499 max R: 1.734 min R: -0.266 time: 97.81\n",
      "epoch 97 best profile 96 with score 18.449385\n",
      "epoch    97 loss=-10.8001 max R: 2.435 min R: -1.466 time: 98.73\n",
      "epoch 98 best profile 135 with score 32.497177\n",
      "epoch    98 loss=-19.1271 max R: 2.881 min R: -3.553 time: 99.72\n",
      "epoch 99 best profile 198 with score 45.072006\n",
      "epoch    99 loss=-24.8838 max R: 3.013 min R: -6.153 time: 100.66\n",
      "epoch 100 best profile 44 with score 59.181065\n",
      "epoch   100 loss=-30.1228 max R: 3.039 min R: -8.755 time: 101.53\n",
      "epoch 101 best profile 44 with score 68.28307\n",
      "epoch   101 loss=-35.5667 max R: 3.043 min R: -11.286 time: 102.40\n",
      "epoch 102 best profile 44 with score 69.54264\n",
      "epoch   102 loss=-39.9038 max R: 3.044 min R: -13.576 time: 103.29\n",
      "epoch 103 best profile 123 with score 74.260086\n",
      "epoch   103 loss=-43.7851 max R: 3.044 min R: -13.816 time: 104.20\n",
      "epoch 104 best profile 44 with score 77.32388\n",
      "epoch   104 loss=-48.2313 max R: 3.045 min R: -13.816 time: 105.10\n",
      "epoch 105 best profile 44 with score 83.48472\n",
      "epoch   105 loss=-52.9872 max R: 3.045 min R: -13.816 time: 106.01\n",
      "epoch 106 best profile 44 with score 81.999855\n",
      "epoch   106 loss=-57.7128 max R: 3.045 min R: -13.816 time: 106.90\n",
      "epoch 107 best profile 44 with score 81.02156\n",
      "epoch   107 loss=-61.6354 max R: 3.045 min R: -13.816 time: 107.88\n",
      "epoch 108 best profile 44 with score 80.98153\n",
      "epoch   108 loss=-64.4449 max R: 3.045 min R: -13.816 time: 108.83\n",
      "epoch 109 best profile 44 with score 83.38516\n",
      "epoch   109 loss=-66.7432 max R: 3.045 min R: -13.816 time: 109.75\n",
      "epoch 110 best profile 93 with score 86.91312\n",
      "epoch   110 loss=-68.5907 max R: 3.045 min R: -13.816 time: 110.62\n",
      "epoch 111 best profile 93 with score 91.475815\n",
      "epoch   111 loss=-69.8199 max R: 3.045 min R: -13.816 time: 111.57\n",
      "epoch 112 best profile 93 with score 90.35338\n",
      "epoch   112 loss=-70.6331 max R: 3.045 min R: -13.816 time: 112.54\n",
      "epoch 113 best profile 93 with score 91.333496\n",
      "epoch   113 loss=-71.5154 max R: 3.045 min R: -13.816 time: 113.48\n",
      "epoch 114 best profile 93 with score 91.880356\n",
      "epoch   114 loss=-72.3568 max R: 3.045 min R: -13.816 time: 114.39\n",
      "epoch 115 best profile 93 with score 90.47868\n",
      "cleaning up profile 93 with threshold 8.8\n",
      "epoch   115 loss=-5.4777 max R: 1.734 min R: -0.266 time: 117.00\n",
      "epoch 116 best profile 125 with score 18.989317\n",
      "epoch   116 loss=-12.4715 max R: 2.664 min R: -2.205 time: 118.12\n",
      "epoch 117 best profile 173 with score 32.99377\n",
      "epoch   117 loss=-21.5709 max R: 2.952 min R: -4.705 time: 119.06\n",
      "epoch 118 best profile 173 with score 43.900978\n",
      "epoch   118 loss=-27.1009 max R: 3.021 min R: -7.339 time: 119.97\n",
      "epoch 119 best profile 174 with score 53.017788\n",
      "epoch   119 loss=-32.1675 max R: 3.040 min R: -9.692 time: 120.89\n",
      "epoch 120 best profile 188 with score 64.4764\n",
      "epoch   120 loss=-38.6343 max R: 3.044 min R: -12.598 time: 121.75\n",
      "epoch 121 best profile 188 with score 67.7633\n",
      "epoch   121 loss=-45.2049 max R: 3.044 min R: -13.816 time: 122.67\n",
      "epoch 122 best profile 162 with score 66.49669\n",
      "epoch   122 loss=-51.4459 max R: 3.044 min R: -13.816 time: 123.65\n",
      "epoch 123 best profile 46 with score 71.19651\n",
      "epoch   123 loss=-56.3680 max R: 3.045 min R: -13.816 time: 124.58\n",
      "epoch 124 best profile 176 with score 71.52524\n",
      "epoch   124 loss=-60.0570 max R: 3.045 min R: -13.816 time: 125.51\n",
      "epoch 125 best profile 32 with score 72.03502\n",
      "epoch   125 loss=-62.7211 max R: 3.045 min R: -13.816 time: 126.38\n",
      "epoch 126 best profile 176 with score 73.83594\n",
      "epoch   126 loss=-64.3923 max R: 3.045 min R: -13.816 time: 127.27\n",
      "epoch 127 best profile 176 with score 77.44301\n",
      "epoch   127 loss=-65.6357 max R: 3.045 min R: -13.816 time: 128.17\n",
      "epoch 128 best profile 176 with score 81.66111\n",
      "epoch   128 loss=-66.8720 max R: 3.045 min R: -13.816 time: 129.10\n",
      "epoch 129 best profile 176 with score 84.49406\n",
      "epoch   129 loss=-67.7842 max R: 3.045 min R: -13.816 time: 130.01\n",
      "epoch 130 best profile 176 with score 81.95715\n",
      "epoch   130 loss=-68.4534 max R: 3.045 min R: -13.816 time: 130.90\n",
      "epoch 131 best profile 176 with score 81.61399\n",
      "epoch   131 loss=-69.1993 max R: 3.045 min R: -13.816 time: 131.86\n",
      "epoch 132 best profile 176 with score 85.04243\n",
      "epoch   132 loss=-69.9202 max R: 3.045 min R: -13.816 time: 132.77\n",
      "epoch 133 best profile 176 with score 87.230255\n",
      "epoch   133 loss=-70.3974 max R: 3.045 min R: -13.816 time: 133.65\n",
      "epoch 134 best profile 176 with score 87.18075\n",
      "epoch   134 loss=-70.7888 max R: 3.045 min R: -13.816 time: 134.57\n",
      "epoch 135 best profile 176 with score 87.47337\n",
      "epoch   135 loss=-71.2278 max R: 3.045 min R: -13.816 time: 135.51\n",
      "epoch 136 best profile 176 with score 87.52915\n",
      "epoch   136 loss=-71.6173 max R: 3.045 min R: -13.816 time: 136.38\n",
      "epoch 137 best profile 176 with score 87.69894\n",
      "cleaning up profile 176 with threshold 8.8\n",
      "epoch   137 loss=-5.9202 max R: 1.734 min R: -0.266 time: 139.32\n",
      "epoch 138 best profile 194 with score 18.20434\n",
      "epoch   138 loss=-13.3331 max R: 2.532 min R: -1.744 time: 140.24\n",
      "epoch 139 best profile 199 with score 33.080143\n",
      "epoch   139 loss=-23.1856 max R: 2.938 min R: -4.193 time: 141.12\n",
      "epoch 140 best profile 111 with score 59.409298\n",
      "epoch   140 loss=-29.3171 max R: 3.026 min R: -7.166 time: 142.01\n",
      "epoch 141 best profile 111 with score 73.81402\n",
      "epoch   141 loss=-34.7995 max R: 3.042 min R: -10.046 time: 142.91\n",
      "epoch 142 best profile 111 with score 84.02635\n",
      "epoch   142 loss=-40.4409 max R: 3.044 min R: -12.911 time: 143.83\n",
      "epoch 143 best profile 111 with score 83.01683\n",
      "epoch   143 loss=-45.0293 max R: 3.044 min R: -13.816 time: 144.79\n",
      "epoch 144 best profile 111 with score 86.4629\n",
      "epoch   144 loss=-49.5825 max R: 3.045 min R: -13.816 time: 145.76\n"
     ]
    },
    {
     "name": "stdout",
     "output_type": "stream",
     "text": [
      "epoch 145 best profile 111 with score 88.39067\n",
      "epoch   145 loss=-53.9065 max R: 3.045 min R: -13.816 time: 146.71\n",
      "epoch 146 best profile 111 with score 92.14097\n",
      "epoch   146 loss=-57.0633 max R: 3.045 min R: -13.816 time: 147.64\n",
      "epoch 147 best profile 111 with score 93.28129\n",
      "epoch   147 loss=-59.3825 max R: 3.045 min R: -13.816 time: 148.52\n",
      "epoch 148 best profile 111 with score 92.939156\n",
      "epoch   148 loss=-61.2852 max R: 3.045 min R: -13.816 time: 149.36\n",
      "epoch 149 best profile 111 with score 92.90116\n",
      "epoch   149 loss=-63.0228 max R: 3.045 min R: -13.816 time: 150.30\n",
      "epoch 150 best profile 111 with score 94.8808\n",
      "epoch   150 loss=-64.2808 max R: 3.045 min R: -13.816 time: 151.24\n",
      "epoch 151 best profile 111 with score 95.20428\n",
      "epoch   151 loss=-65.1413 max R: 3.045 min R: -13.816 time: 152.25\n",
      "epoch 152 best profile 111 with score 95.47058\n",
      "epoch   152 loss=-65.6840 max R: 3.045 min R: -13.816 time: 153.15\n",
      "epoch 153 best profile 111 with score 95.85769\n",
      "epoch   153 loss=-66.2922 max R: 3.045 min R: -13.816 time: 154.01\n",
      "epoch 154 best profile 111 with score 95.67685\n",
      "cleaning up profile 111 with threshold 8.8\n",
      "epoch   154 loss=-5.3817 max R: 1.734 min R: -0.266 time: 156.74\n",
      "epoch 155 best profile 64 with score 18.426579\n",
      "epoch   155 loss=-12.1843 max R: 2.638 min R: -1.947 time: 157.63\n",
      "epoch 156 best profile 22 with score 31.404207\n",
      "epoch   156 loss=-20.4946 max R: 2.975 min R: -4.402 time: 158.54\n",
      "epoch 157 best profile 171 with score 41.20962\n",
      "epoch   157 loss=-25.0775 max R: 3.030 min R: -7.328 time: 159.44\n",
      "epoch 158 best profile 94 with score 49.411617\n",
      "epoch   158 loss=-29.3281 max R: 3.042 min R: -10.151 time: 160.33\n",
      "epoch 159 best profile 94 with score 54.321335\n",
      "epoch   159 loss=-34.5204 max R: 3.044 min R: -12.726 time: 161.24\n",
      "epoch 160 best profile 94 with score 60.956303\n",
      "epoch   160 loss=-40.9045 max R: 3.044 min R: -13.816 time: 162.23\n",
      "epoch 161 best profile 94 with score 66.245834\n",
      "epoch   161 loss=-46.5424 max R: 3.045 min R: -13.816 time: 163.12\n",
      "epoch 162 best profile 39 with score 67.58278\n",
      "epoch   162 loss=-50.2045 max R: 3.045 min R: -13.816 time: 164.09\n",
      "epoch 163 best profile 6 with score 68.50156\n",
      "epoch   163 loss=-52.6727 max R: 3.045 min R: -13.816 time: 165.01\n",
      "epoch 164 best profile 6 with score 69.641525\n",
      "epoch   164 loss=-54.6657 max R: 3.045 min R: -13.816 time: 166.08\n",
      "epoch 165 best profile 4 with score 72.38411\n",
      "epoch   165 loss=-56.3140 max R: 3.045 min R: -13.816 time: 166.98\n",
      "epoch 166 best profile 39 with score 77.62343\n",
      "epoch   166 loss=-57.6479 max R: 3.045 min R: -13.816 time: 167.86\n",
      "epoch 167 best profile 39 with score 77.1211\n",
      "epoch   167 loss=-58.8918 max R: 3.045 min R: -13.816 time: 168.83\n",
      "epoch 168 best profile 39 with score 77.25205\n",
      "epoch   168 loss=-59.6000 max R: 3.045 min R: -13.816 time: 169.73\n",
      "epoch 169 best profile 39 with score 78.85493\n",
      "epoch   169 loss=-60.1469 max R: 3.045 min R: -13.816 time: 170.61\n",
      "epoch 170 best profile 39 with score 80.14076\n",
      "epoch   170 loss=-60.6663 max R: 3.045 min R: -13.816 time: 171.56\n",
      "epoch 171 best profile 39 with score 80.63632\n",
      "epoch   171 loss=-61.1553 max R: 3.045 min R: -13.816 time: 172.58\n",
      "epoch 172 best profile 39 with score 81.5325\n",
      "epoch   172 loss=-61.6326 max R: 3.045 min R: -13.816 time: 173.43\n",
      "epoch 173 best profile 39 with score 82.30389\n",
      "epoch   173 loss=-62.0862 max R: 3.045 min R: -13.816 time: 174.31\n",
      "epoch 174 best profile 39 with score 82.59126\n",
      "cleaning up profile 39 with threshold 8.8\n",
      "epoch   174 loss=-5.2656 max R: 1.734 min R: -0.266 time: 177.05\n",
      "epoch 175 best profile 30 with score 18.659203\n",
      "epoch   175 loss=-11.5522 max R: 2.588 min R: -1.895 time: 177.86\n",
      "epoch 176 best profile 112 with score 31.929369\n",
      "epoch   176 loss=-19.9877 max R: 2.964 min R: -4.687 time: 178.63\n",
      "epoch 177 best profile 112 with score 43.054222\n",
      "epoch   177 loss=-25.0318 max R: 3.034 min R: -7.984 time: 179.51\n",
      "epoch 178 best profile 112 with score 48.57773\n",
      "epoch   178 loss=-29.2995 max R: 3.043 min R: -10.791 time: 180.36\n",
      "epoch 179 best profile 110 with score 58.656647\n",
      "epoch   179 loss=-34.2231 max R: 3.044 min R: -13.516 time: 181.28\n",
      "epoch 180 best profile 112 with score 61.111725\n",
      "epoch   180 loss=-39.8121 max R: 3.044 min R: -13.816 time: 182.21\n",
      "epoch 181 best profile 112 with score 65.34694\n",
      "epoch   181 loss=-45.3395 max R: 3.045 min R: -13.816 time: 183.16\n",
      "epoch 182 best profile 112 with score 64.9031\n",
      "epoch   182 loss=-49.7147 max R: 3.045 min R: -13.816 time: 184.03\n",
      "epoch 183 best profile 110 with score 67.0884\n",
      "epoch   183 loss=-52.9890 max R: 3.045 min R: -13.816 time: 184.87\n",
      "epoch 184 best profile 169 with score 68.6069\n",
      "epoch   184 loss=-55.2759 max R: 3.045 min R: -13.816 time: 185.76\n",
      "epoch 185 best profile 93 with score 71.2098\n",
      "epoch   185 loss=-56.9018 max R: 3.045 min R: -13.816 time: 186.61\n",
      "epoch 186 best profile 197 with score 74.76491\n",
      "epoch   186 loss=-58.4947 max R: 3.045 min R: -13.816 time: 187.54\n",
      "epoch 187 best profile 37 with score 75.21148\n",
      "epoch   187 loss=-59.7436 max R: 3.045 min R: -13.816 time: 188.51\n",
      "epoch 188 best profile 169 with score 73.47794\n",
      "epoch   188 loss=-60.2867 max R: 3.045 min R: -13.816 time: 189.40\n",
      "epoch 189 best profile 169 with score 74.68053\n",
      "epoch   189 loss=-60.7437 max R: 3.045 min R: -13.816 time: 190.31\n",
      "epoch 190 best profile 37 with score 75.188705\n",
      "epoch   190 loss=-61.4239 max R: 3.045 min R: -13.816 time: 191.22\n",
      "epoch 191 best profile 37 with score 77.369736\n",
      "epoch   191 loss=-62.0994 max R: 3.045 min R: -13.816 time: 192.16\n",
      "epoch 192 best profile 169 with score 78.40813\n",
      "epoch   192 loss=-62.4958 max R: 3.045 min R: -13.816 time: 192.96\n",
      "epoch 193 best profile 169 with score 77.40008\n",
      "epoch   193 loss=-62.7999 max R: 3.045 min R: -13.816 time: 193.82\n",
      "epoch 194 best profile 37 with score 77.35814\n",
      "epoch   194 loss=-63.1550 max R: 3.045 min R: -13.816 time: 194.73\n",
      "epoch 195 best profile 37 with score 79.07405\n",
      "epoch   195 loss=-63.4524 max R: 3.045 min R: -13.816 time: 195.68\n",
      "epoch 196 best profile 37 with score 79.25519\n",
      "epoch   196 loss=-63.6754 max R: 3.045 min R: -13.816 time: 196.65\n",
      "epoch 197 best profile 37 with score 79.49596\n",
      "epoch   197 loss=-63.8949 max R: 3.045 min R: -13.816 time: 197.57\n",
      "epoch 198 best profile 169 with score 79.89213\n",
      "epoch   198 loss=-64.1648 max R: 3.045 min R: -13.816 time: 198.48\n",
      "epoch 199 best profile 169 with score 80.43214\n",
      "epoch   199 loss=-64.4196 max R: 3.045 min R: -13.816 time: 199.40\n",
      "epoch 200 best profile 37 with score 80.59273\n",
      "epoch   200 loss=-64.5385 max R: 3.045 min R: -13.816 time: 200.28\n",
      "epoch 201 best profile 37 with score 80.528786\n",
      "epoch   201 loss=-64.6049 max R: 3.045 min R: -13.816 time: 201.23\n",
      "epoch 202 best profile 37 with score 80.63524\n",
      "epoch   202 loss=-64.7024 max R: 3.045 min R: -13.816 time: 202.17\n",
      "epoch 203 best profile 37 with score 81.10864\n",
      "epoch   203 loss=-64.8553 max R: 3.045 min R: -13.816 time: 203.21\n",
      "epoch 204 best profile 37 with score 81.4445\n",
      "cleaning up profile 37 with threshold 8.8\n",
      "epoch   204 loss=-5.7148 max R: 1.734 min R: -0.266 time: 205.79\n",
      "epoch 205 best profile 165 with score 18.624645\n",
      "epoch   205 loss=-12.7513 max R: 2.577 min R: -2.009 time: 206.64\n",
      "epoch 206 best profile 42 with score 29.993721\n",
      "epoch   206 loss=-21.7582 max R: 2.969 min R: -5.040 time: 207.58\n",
      "epoch 207 best profile 59 with score 41.089344\n",
      "epoch   207 loss=-26.8583 max R: 3.036 min R: -8.888 time: 208.49\n",
      "epoch 208 best profile 19 with score 52.05145\n",
      "epoch   208 loss=-30.9103 max R: 3.043 min R: -12.431 time: 209.48\n",
      "epoch 209 best profile 19 with score 60.246807\n",
      "epoch   209 loss=-34.6211 max R: 3.044 min R: -13.816 time: 210.39\n",
      "epoch 210 best profile 84 with score 61.210247\n",
      "epoch   210 loss=-37.7851 max R: 3.044 min R: -13.816 time: 211.29\n",
      "epoch 211 best profile 19 with score 64.66911\n",
      "epoch   211 loss=-40.5433 max R: 3.045 min R: -13.816 time: 212.20\n",
      "epoch 212 best profile 125 with score 65.51414\n",
      "epoch   212 loss=-43.4871 max R: 3.045 min R: -13.816 time: 213.11\n",
      "epoch 213 best profile 125 with score 66.20059\n",
      "epoch   213 loss=-46.5062 max R: 3.045 min R: -13.816 time: 214.04\n",
      "epoch 214 best profile 40 with score 68.08733\n",
      "epoch   214 loss=-49.6221 max R: 3.045 min R: -13.816 time: 214.96\n",
      "epoch 215 best profile 24 with score 70.73245\n",
      "epoch   215 loss=-52.3799 max R: 3.045 min R: -13.816 time: 216.02\n",
      "epoch 216 best profile 51 with score 72.967026\n",
      "epoch   216 loss=-54.3618 max R: 3.045 min R: -13.816 time: 216.91\n"
     ]
    },
    {
     "name": "stdout",
     "output_type": "stream",
     "text": [
      "epoch 217 best profile 51 with score 77.43087\n",
      "epoch   217 loss=-55.8923 max R: 3.045 min R: -13.816 time: 217.85\n",
      "epoch 218 best profile 51 with score 75.09545\n",
      "epoch   218 loss=-56.9010 max R: 3.045 min R: -13.816 time: 218.67\n",
      "epoch 219 best profile 24 with score 73.18059\n",
      "epoch   219 loss=-57.6999 max R: 3.045 min R: -13.816 time: 219.63\n",
      "epoch 220 best profile 51 with score 75.01893\n",
      "epoch   220 loss=-58.5541 max R: 3.045 min R: -13.816 time: 220.56\n",
      "epoch 221 best profile 171 with score 79.65266\n",
      "epoch   221 loss=-59.0725 max R: 3.045 min R: -13.816 time: 221.52\n",
      "epoch 222 best profile 171 with score 83.40105\n",
      "epoch   222 loss=-59.4578 max R: 3.045 min R: -13.816 time: 222.40\n",
      "epoch 223 best profile 171 with score 78.3113\n",
      "epoch   223 loss=-59.8658 max R: 3.045 min R: -13.816 time: 223.29\n",
      "epoch 224 best profile 51 with score 78.05334\n",
      "epoch   224 loss=-60.1591 max R: 3.045 min R: -13.816 time: 224.18\n",
      "epoch 225 best profile 171 with score 79.65986\n",
      "epoch   225 loss=-60.3968 max R: 3.045 min R: -13.816 time: 225.07\n",
      "epoch 226 best profile 171 with score 79.54944\n",
      "epoch   226 loss=-60.6432 max R: 3.045 min R: -13.816 time: 226.01\n",
      "epoch 227 best profile 171 with score 82.12927\n",
      "epoch   227 loss=-60.8704 max R: 3.045 min R: -13.816 time: 226.96\n",
      "epoch 228 best profile 171 with score 83.67702\n",
      "epoch   228 loss=-61.1447 max R: 3.045 min R: -13.816 time: 227.86\n",
      "epoch 229 best profile 171 with score 81.76489\n",
      "epoch   229 loss=-61.4013 max R: 3.045 min R: -13.816 time: 228.76\n",
      "epoch 230 best profile 171 with score 82.19252\n",
      "epoch   230 loss=-61.5663 max R: 3.045 min R: -13.816 time: 229.73\n",
      "epoch 231 best profile 171 with score 83.773026\n",
      "epoch   231 loss=-61.6828 max R: 3.045 min R: -13.816 time: 230.56\n",
      "epoch 232 best profile 171 with score 83.45043\n",
      "epoch   232 loss=-61.8743 max R: 3.045 min R: -13.816 time: 231.41\n",
      "epoch 233 best profile 192 with score 83.88085\n",
      "epoch   233 loss=-62.0402 max R: 3.045 min R: -13.816 time: 232.33\n",
      "epoch 234 best profile 171 with score 84.28343\n",
      "epoch   234 loss=-62.1150 max R: 3.045 min R: -13.816 time: 233.24\n",
      "epoch 235 best profile 171 with score 84.074486\n",
      "epoch   235 loss=-62.1755 max R: 3.045 min R: -13.816 time: 234.14\n",
      "epoch 236 best profile 171 with score 84.07485\n",
      "epoch   236 loss=-62.2940 max R: 3.045 min R: -13.816 time: 235.08\n",
      "epoch 237 best profile 171 with score 84.460365\n",
      "epoch   237 loss=-62.4237 max R: 3.045 min R: -13.816 time: 236.00\n",
      "epoch 238 best profile 171 with score 84.80876\n",
      "cleaning up profile 171 with threshold 8.8\n",
      "epoch   238 loss=-5.2438 max R: 1.734 min R: -0.266 time: 238.79\n",
      "time: 238.79\n"
     ]
    }
   ],
   "source": [
    "start = time()\n",
    "#specProModel.train_ds(ds, ds_eval, steps_per_epoch, epochs=5, verbose_freq=1)\n",
    "#specProModel.train(ds, ds_eval, ds_init, steps_per_epoch, epochs=50, verbose_freq=1, n_best_profiles=10)\n",
    "specProModel.train(genomes, tiles_per_X, tile_size, batch_size, steps_per_epoch, epochs=50, verbose_freq=1, n_best_profiles=10)\n",
    "end = time()\n",
    "print(f\"time: {end-start:.2f}\")"
   ]
  },
  {
   "cell_type": "markdown",
   "metadata": {},
   "source": [
    "Real Data with best profile evaluation after each epoch:\n",
    "\n",
    "    epoch 0 best profile tf.Tensor(169, shape=(), dtype=int64) with score tf.Tensor(69.00166, shape=(), dtype=float32)\n",
    "    epoch     0 loss=-0.9485 max R: 3.045 min R: -13.816 time: 165.04\n",
    "    epoch 1 best profile tf.Tensor(9, shape=(), dtype=int64) with score tf.Tensor(69.49853, shape=(), dtype=float32)\n",
    "    epoch     1 loss=-0.9942 max R: 3.045 min R: -13.816 time: 329.26\n",
    "    epoch 2 best profile tf.Tensor(108, shape=(), dtype=int64) with score tf.Tensor(75.04097, shape=(), dtype=float32)\n",
    "    epoch     2 loss=-0.8009 max R: 3.045 min R: -13.816 time: 492.87\n",
    "    epoch 3 best profile tf.Tensor(98, shape=(), dtype=int64) with score tf.Tensor(61.438164, shape=(), dtype=float32)\n",
    "    epoch     3 loss=-0.8144 max R: 3.045 min R: -13.816 time: 657.97\n",
    "    epoch 4 best profile tf.Tensor(169, shape=(), dtype=int64) with score tf.Tensor(51.54927, shape=(), dtype=float32)\n",
    "    epoch     4 loss=-0.7948 max R: 3.045 min R: -13.816 time: 820.03\n",
    "    epoch 5 best profile tf.Tensor(169, shape=(), dtype=int64) with score tf.Tensor(51.54927, shape=(), dtype=float32)\n",
    "    epoch     5 loss=-0.8001 max R: 3.045 min R: -13.816 time: 983.94\n",
    "    epoch 6 best profile tf.Tensor(169, shape=(), dtype=int64) with score tf.Tensor(51.54927, shape=(), dtype=float32)\n",
    "    epoch     6 loss=-0.8001 max R: 3.045 min R: -13.816 time: 1146.13\n",
    "    epoch 7 best profile tf.Tensor(169, shape=(), dtype=int64) with score tf.Tensor(51.54927, shape=(), dtype=float32)\n",
    "    epoch     7 loss=-0.8001 max R: 3.045 min R: -13.816 time: 1307.16\n",
    "    epoch 8 best profile tf.Tensor(169, shape=(), dtype=int64) with score tf.Tensor(51.54927, shape=(), dtype=float32)\n",
    "    epoch     8 loss=-0.8001 max R: 3.045 min R: -13.816 time: 1467.12\n",
    "    epoch 9 best profile tf.Tensor(169, shape=(), dtype=int64) with score tf.Tensor(51.54927, shape=(), dtype=float32)\n",
    "    epoch     9 loss=-0.8001 max R: 3.045 min R: -13.816 time: 1629.19\n",
    "    epoch 10 best profile tf.Tensor(169, shape=(), dtype=int64) with score tf.Tensor(51.54927, shape=(), dtype=float32)\n",
    "    epoch    10 loss=-0.8001 max R: 3.045 min R: -13.816 time: 1792.93\n",
    "    epoch 11 best profile tf.Tensor(169, shape=(), dtype=int64) with score tf.Tensor(51.54927, shape=(), dtype=float32)\n",
    "    epoch    11 loss=-0.8001 max R: 3.045 min R: -13.816 time: 1952.92\n",
    "    epoch 12 best profile tf.Tensor(169, shape=(), dtype=int64) with score tf.Tensor(51.54927, shape=(), dtype=float32)\n",
    "    epoch    12 loss=-0.8001 max R: 3.045 min R: -13.816 time: 2112.31\n",
    "    epoch 13 best profile tf.Tensor(169, shape=(), dtype=int64) with score tf.Tensor(51.54927, shape=(), dtype=float32)\n",
    "    epoch    13 loss=-0.8001 max R: 3.045 min R: -13.816 time: 2274.57\n",
    "    epoch 14 best profile tf.Tensor(169, shape=(), dtype=int64) with score tf.Tensor(51.54927, shape=(), dtype=float32)\n",
    "    epoch    14 loss=-0.8001 max R: 3.045 min R: -13.816 time: 2432.46\n",
    "    time: 2432.46"
   ]
  },
  {
   "cell_type": "code",
   "execution_count": 22,
   "metadata": {
    "scrolled": false
   },
   "outputs": [
    {
     "data": {
      "text/plain": [
       "(<Figure size 1080x432 with 2 Axes>,\n",
       " array([<AxesSubplot:title={'center':'Training loss'}>,\n",
       "        <AxesSubplot:title={'center':'Training R and S'}>], dtype=object))"
      ]
     },
     "execution_count": 22,
     "metadata": {},
     "output_type": "execute_result"
    },
    {
     "data": {
      "image/png": "[encoded data removed]",
      "text/plain": [
       "<Figure size 1080x432 with 2 Axes>"
      ]
     },
     "metadata": {
      "needs_background": "light"
     },
     "output_type": "display_data"
    }
   ],
   "source": [
    "plotHistory(specProModel.history)"
   ]
  },
  {
   "cell_type": "markdown",
   "metadata": {},
   "source": [
    "### Visualize resulting profiles as sequence logos"
   ]
  },
  {
   "cell_type": "code",
   "execution_count": null,
   "metadata": {
    "scrolled": false
   },
   "outputs": [],
   "source": [
    "ds_score = dsg.getDataset(genomes, tiles_per_X, tile_size).batch(batch_size).prefetch(3)\n",
    "printExpectedPatterns()\n",
    "P = specProModel.getP()\n",
    "#pScores = specProModel.max_profile_scores(ds_score)\n",
    "#plotLogo(P=P, idxarray = np.argsort(-pScores), pScores=pScores, max_print=20)\n",
    "pLosses = specProModel.min_profile_losses(ds_score)\n",
    "plotLogo(P=P, idxarray = np.argsort(pLosses), pScores=pLosses, max_print=5, label=\"loss\")"
   ]
  },
  {
   "cell_type": "code",
   "execution_count": 23,
   "metadata": {
    "scrolled": false
   },
   "outputs": [
    {
     "name": "stdout",
     "output_type": "stream",
     "text": [
      "Desired: ['MARIQSTANKE', 'WQEFNLLQIK', 'GKNSIYCK*R', 'FFICSRLNSCH', 'SLFAVD*ILA', 'LYLQ*IEFLP']\n",
      "Repeat: ['REPEATAEPER', 'ENLKLLLNLK', 'RT*SYC*T*K', 'SFRFSSSFRFS', 'LSGSAVASGS', 'FQVQQ*LQVL']\n"
     ]
    },
    {
     "data": {
      "image/png": "[encoded data removed]",
      "text/plain": [
       "<Figure size 720x180 with 1 Axes>"
      ]
     },
     "metadata": {
      "needs_background": "light"
     },
     "output_type": "display_data"
    },
    {
     "data": {
      "image/png": "[encoded data removed]",
      "text/plain": [
       "<Figure size 720x180 with 1 Axes>"
      ]
     },
     "metadata": {
      "needs_background": "light"
     },
     "output_type": "display_data"
    },
    {
     "data": {
      "image/png": "[encoded data removed]",
      "text/plain": [
       "<Figure size 720x180 with 1 Axes>"
      ]
     },
     "metadata": {
      "needs_background": "light"
     },
     "output_type": "display_data"
    },
    {
     "data": {
      "image/png": "[encoded data removed]",
      "text/plain": [
       "<Figure size 720x180 with 1 Axes>"
      ]
     },
     "metadata": {
      "needs_background": "light"
     },
     "output_type": "display_data"
    },
    {
     "data": {
      "image/png": "[encoded data removed]",
      "text/plain": [
       "<Figure size 720x180 with 1 Axes>"
      ]
     },
     "metadata": {
      "needs_background": "light"
     },
     "output_type": "display_data"
    },
    {
     "data": {
      "image/png": "[encoded data removed]",
      "text/plain": [
       "<Figure size 720x180 with 1 Axes>"
      ]
     },
     "metadata": {
      "needs_background": "light"
     },
     "output_type": "display_data"
    },
    {
     "data": {
      "image/png": "[encoded data removed]",
      "text/plain": [
       "<Figure size 720x180 with 1 Axes>"
      ]
     },
     "metadata": {
      "needs_background": "light"
     },
     "output_type": "display_data"
    },
    {
     "data": {
      "image/png": "[encoded data removed]",
      "text/plain": [
       "<Figure size 720x180 with 1 Axes>"
      ]
     },
     "metadata": {
      "needs_background": "light"
     },
     "output_type": "display_data"
    },
    {
     "data": {
      "image/png": "[encoded data removed]",
      "text/plain": [
       "<Figure size 720x180 with 1 Axes>"
      ]
     },
     "metadata": {
      "needs_background": "light"
     },
     "output_type": "display_data"
    },
    {
     "data": {
      "image/png": "[encoded data removed]",
      "text/plain": [
       "<Figure size 720x180 with 1 Axes>"
      ]
     },
     "metadata": {
      "needs_background": "light"
     },
     "output_type": "display_data"
    }
   ],
   "source": [
    "printExpectedPatterns()\n",
    "plotLogo(P=specProModel.getP_report(), max_print=10, label=\"loss\")"
   ]
  },
  {
   "cell_type": "code",
   "execution_count": null,
   "metadata": {},
   "outputs": [],
   "source": [
    "pScores = specProModel.max_profile_scores(ds_score)\n",
    "plotLogo(P=P, idxarray = np.argsort(-pScores), pScores=pScores, max_print=5)"
   ]
  },
  {
   "cell_type": "markdown",
   "metadata": {},
   "source": [
    "---"
   ]
  },
  {
   "cell_type": "code",
   "execution_count": null,
   "metadata": {},
   "outputs": [],
   "source": [
    "def calculateMatches(tpl):\n",
    "    t,m = tpl\n",
    "    # shapes: z (6, T-k+1, U)\n",
    "    #         t (5) -> [:,:,0] - genome IDs, [:,:,1] - contig IDs, [:,:,2] - tile start, [:,:,3] - tile size, [:,:,4] - seqlen, -1: exhausted\n",
    "    #         m (6, t-k+1, U)\n",
    "    #assert len(z.shape) == 3, str(z.shape)\n",
    "    assert len(t.shape) == 1, str(t.shape)\n",
    "    assert len(m.shape) == 3, str(m.shape)\n",
    "    assert t[0] >= -1, str(t) # exhausted contigs should have been filtered out before\n",
    "\n",
    "    sites = []\n",
    "    for f in range(m.shape[0]):\n",
    "        for r in range(m.shape[1]):\n",
    "            for u in range(m.shape[2]):\n",
    "                if m[f,r,u]:\n",
    "                    genome = t[0].numpy()\n",
    "                    contig = t[1].numpy()\n",
    "                    assert contig < len(genomes[genome]), str(contig)+\" >= \"+str(len(genomes[genome]))+\" for genome \"+str(genome)\n",
    "                    tileStart = t[1].numpy()\n",
    "                    tileLen = t[2].numpy()\n",
    "                    seqLen = t[3].numpy()\n",
    "                    p = dsg.restoreGenomePosition(r, f, tileStart, tileLen, seqLen, k)\n",
    "\n",
    "                    sites.append((genome, contig, p, u))\n",
    "\n",
    "    return tf.constant(sites, dtype=tf.int32, shape=[None])"
   ]
  },
  {
   "cell_type": "code",
   "execution_count": null,
   "metadata": {},
   "outputs": [],
   "source": [
    "def indexTensorBC(T, N, F, P, U):\n",
    "    Uidx = tf.broadcast_to(tf.range(0, U, dtype=tf.int32), (T,N,F,P,U))\n",
    "    Pidx = tf.broadcast_to(tf.range(0, P, dtype=tf.int32), (T,N,F,P))\n",
    "    Pidx = tf.repeat(tf.expand_dims(Pidx, -1), [U], axis=-1)\n",
    "    Fidx = tf.broadcast_to(tf.range(0, F, dtype=tf.int32), (T,N,F))\n",
    "    Fidx = tf.repeat(tf.expand_dims(Fidx, -1), [P], axis=-1)\n",
    "    Fidx = tf.repeat(tf.expand_dims(Fidx, -1), [U], axis=-1)\n",
    "    I = tf.stack((Fidx, Pidx, Uidx), axis=5)\n",
    "    assert I.shape == [T,N,F,P,U,3], str(I.shape)\n",
    "    return I"
   ]
  },
  {
   "cell_type": "code",
   "execution_count": null,
   "metadata": {},
   "outputs": [],
   "source": [
    "def indexTensor(T, N, F, P, U):\n",
    "    Uidx = tf.expand_dims(tf.range(0, U, dtype=tf.int32), 0) # (1, U)\n",
    "    Uidx = tf.expand_dims(tf.repeat(Uidx, [P], axis=0), 0)   # (1, T-k+1, U)\n",
    "    Uidx = tf.expand_dims(tf.repeat(Uidx, [F], axis=0), 0)   # (1, 6, T-k+1, U)\n",
    "    Uidx = tf.expand_dims(tf.repeat(Uidx, [N], axis=0), 0)   # (1, N, 6, T-k+1, U)\n",
    "    Uidx = tf.repeat(Uidx, [T], axis=0)                      # (tilesPerX, N, 6, T-k+1, U)\n",
    "    assert Uidx.shape == [T,N,F,P,U], str(Uidx.shape)\n",
    "\n",
    "    Pidx = tf.expand_dims(tf.range(0, P, dtype=tf.int32), -1) # (T-k+1, 1)\n",
    "    Pidx = tf.expand_dims(tf.repeat(Pidx, [U], axis=-1), 0)   # (1, T-k+1, U)\n",
    "    Pidx = tf.expand_dims(tf.repeat(Pidx, [F], axis=0), 0)    # (1, 6, T-k+1, U)\n",
    "    Pidx = tf.expand_dims(tf.repeat(Pidx, [N], axis=0), 0)    # (1, N, 6, T-k+1, U)\n",
    "    Pidx = tf.repeat(Pidx, [T], axis=0)                       # (tilesPerX, N, 6, T-k+1, U)\n",
    "    assert Pidx.shape == [T,N,F,P,U], str(Pidx.shape)\n",
    "\n",
    "    Fidx = tf.expand_dims(tf.range(0, F, dtype=tf.int32), -1) # (6, 1)\n",
    "    Fidx = tf.expand_dims(tf.repeat(Fidx, [P], axis=-1), -1)  # (6, T-k+1, 1)\n",
    "    Fidx = tf.expand_dims(tf.repeat(Fidx, [U], axis=-1), 0)   # (1, 6, T-k+1, U)\n",
    "    Fidx = tf.expand_dims(tf.repeat(Fidx, [N], axis=0), 0)    # (1, N, 6, T-k+1, U)\n",
    "    Fidx = tf.repeat(Fidx, [T], axis=0)                       # (tilesPerX, N, 6, T-k+1, U)\n",
    "    assert Fidx.shape == [T,N,F,P,U], str(Fidx.shape)\n",
    "\n",
    "    I = tf.stack((Fidx, Pidx, Uidx), axis=5)\n",
    "    assert I.shape == [T,N,F,P,U,3], str(I.shape)\n",
    "    return I"
   ]
  },
  {
   "cell_type": "code",
   "execution_count": null,
   "metadata": {},
   "outputs": [],
   "source": [
    "@tf.function\n",
    "def rcFrameOffsets(seqlen):\n",
    "    sm3 = tf.math.mod(seqlen, 3)\n",
    "    if tf.equal(sm3, 0):\n",
    "        return tf.constant([2,0,1])\n",
    "    elif tf.equal(sm3, 1):\n",
    "        return tf.constant([1,2,0])\n",
    "    else:\n",
    "        return tf.constant([0,1,2])\n",
    "\n",
    "@tf.function()\n",
    "def restoreGenomePosition(aaTilePos, frame, tileStart, tileLen, seqLen, k):\n",
    "    #assert frame in range(6), str(frame)+\" must be in [0,5]\"\n",
    "    p = tf.math.multiply(aaTilePos, 3) # to dna coord\n",
    "    if tf.less(frame, 3):\n",
    "        p += frame     # add frame shift\n",
    "        p += tileStart # add tile start to get absolute position\n",
    "    else:\n",
    "        # add appropriate frame shift\n",
    "        if tf.equal(tf.math.mod(seqLen, 3), tf.math.mod(tileLen, 3)):\n",
    "            p += tf.math.subtract(frame, 3)\n",
    "        else:\n",
    "            p += rcFrameOffsets(seqLen)[frame-3]\n",
    "\n",
    "        p = tf.math.subtract(tileLen, tf.math.subtract(p, tf.math.multiply(k, 3)))\n",
    "\n",
    "    return p\n",
    "\n",
    "@tf.function\n",
    "def convertToPos(match): # (f, p, u, genomeID, contigID, tileStart, tileLen, seqLen)\n",
    "    f = match[0]#.numpy()\n",
    "    r = match[1]#.numpy()\n",
    "    u = match[2]#.numpy()\n",
    "    g = match[3]#.numpy()\n",
    "    c = match[4]#.numpy()\n",
    "    ts = match[5]#.numpy()\n",
    "    tl = match[6]#.numpy()\n",
    "    sl = match[7]#.numpy()\n",
    "    p = tf.py_function(dsg.restoreGenomePosition, \n",
    "                       (r, f, ts, tl, sl, k), tf.int32)\n",
    "    return tf.convert_to_tensor([g, c, p, u], dtype=tf.int32)"
   ]
  },
  {
   "cell_type": "code",
   "execution_count": null,
   "metadata": {},
   "outputs": [],
   "source": [
    "@tf.function\n",
    "def callMap(convertToPos, matches):\n",
    "     return tf.map_fn(convertToPos, matches, parallel_iterations=os.cpu_count())"
   ]
  },
  {
   "cell_type": "code",
   "execution_count": null,
   "metadata": {},
   "outputs": [],
   "source": [
    "#rFwd[:,4]\n",
    "#[rFwd[:,3], rFwd[:,4], posFwd, rFwd[:,2]]\n",
    "tf.concat([tf.expand_dims(rFwd[:,3], -1), \n",
    "           tf.expand_dims(rFwd[:,4], -1), \n",
    "           tf.expand_dims(posFwd, -1), \n",
    "           tf.expand_dims(rFwd[:,2], -1)], axis=1)"
   ]
  },
  {
   "cell_type": "code",
   "execution_count": null,
   "metadata": {
    "scrolled": false
   },
   "outputs": [],
   "source": [
    "#ds_eval = getDataset(withPosTracking = True).batch(batch_size).prefetch(3)\n",
    "gamma = .2\n",
    "for X_b, posTrack_b in ds_eval:\n",
    "    for b in range(X_b.shape[0]):\n",
    "        X = X_b[b]\n",
    "        posTrack = posTrack_b[b]\n",
    "        print(\"      X\", X.shape)\n",
    "        print(\"posTrac\", posTrack.shape)        \n",
    "        _, _, Z = specProModel.call(X) # (tilePerX, N, 6, T-k+1, U)\n",
    "        print(\"      Z\", Z.shape)\n",
    "        Z2 = tf.nn.softmax(gamma*Z, axis=0)\n",
    "        Z3 = tf.math.multiply(Z, tf.square(Z2))\n",
    "        \n",
    "        # use with match mask to get tile indices\n",
    "        Pidx = indexTensorBC(Z.shape[0], Z.shape[1], Z.shape[2], \n",
    "                             Z.shape[3], Z.shape[4])                                  # (tilePerX, N, 6, T-k+1, U, 3)\n",
    "        print(\"   Pidx\", Pidx.shape)\n",
    "        \n",
    "        Z = tf.reshape(Z3, [-1, Z3.shape[-3], Z3.shape[-2], Z3.shape[-1]])            # (tilesPerX*N, 6, T-k+1, U)\n",
    "        M = tf.greater_equal(Z, 0.001) # consider match if score >= avg. profile score, (tilesPerX*N, 6, T-k+1, U)\n",
    "        T = tf.reshape(posTrack, [-1, 4])                                             # (tilesPerX*N, 4)\n",
    "        Pidx = tf.reshape(Pidx, [-1, Pidx.shape[-4], Pidx.shape[-3], \n",
    "                                     Pidx.shape[-2], Pidx.shape[-1]])                 # (tilesPerX*N, 6, T-k+1, U, 3)\n",
    "        print(\"   M\", M.shape)\n",
    "        print(\"   T\", T.shape)\n",
    "        print(\"Pidx\", Pidx.shape)\n",
    "        \n",
    "        # reduce to genome tiles that have matches\n",
    "        Mgentile = tf.reduce_any(M, axis=[1,2,3]) # (tilesPerX*N), of which `matches` are True\n",
    "        Mgentile = tf.logical_and(Mgentile, tf.not_equal(T[:,0], -1)) # also set exhausted contigs to False\n",
    "        T = tf.boolean_mask(T,Mgentile)           # (matches, 5)\n",
    "        M = tf.boolean_mask(M,Mgentile)           # (matches, 6, T-k+1, U)\n",
    "        Pidx = tf.boolean_mask(Pidx, Mgentile)    # (matches, 6, T-k+1, U, 4)\n",
    "        print(\"   M\", M.shape)\n",
    "        print(\"   T\", T.shape)\n",
    "        print(\"Pidx\", Pidx.shape)\n",
    "        \n",
    "        # manual broadcast of T to the correct shape\n",
    "        Tbc = tf.repeat(tf.expand_dims(T, 1), [M.shape[-1]], axis=1)\n",
    "        Tbc = tf.repeat(tf.expand_dims(Tbc, 1), [M.shape[-2]], axis=1)\n",
    "        Tbc = tf.repeat(tf.expand_dims(Tbc, 1), [M.shape[-3]], axis=1)\n",
    "        \n",
    "        sites = tf.boolean_mask(Pidx, M)  # (sites, (f, p, u))\n",
    "        pTracks = tf.boolean_mask(Tbc, M) # (sites, (genomeID, contigID, tileStart, tileLen, seqLen))\n",
    "        \n",
    "        # (sites, (f, p, u, genomeID, contigID, tileStart, tileLen, seqLen))\n",
    "        R = tf.concat((sites, pTracks), axis=1)\n",
    "        print(sites)\n",
    "        print(pTracks)\n",
    "        print(R)\n",
    "        \n",
    "        #%time final = callMap(convertToPos, matches)\n",
    "        #print(final)\n",
    "        \n",
    "        # continue with vectorized operations as far as possible, tf.map_fn is super slow even with parallel threads enabled\n",
    "        fwdMask = tf.less(R[:,0], 3)            # (sites)\n",
    "        rcMask = tf.greater_equal(R[:,0], 3)    # (sites)\n",
    "        rFwd = tf.boolean_mask(R, fwdMask)      # (fwdSites, (f, r, u, genomeID, contigID, fwdStart, rcStart))\n",
    "        rRC = tf.boolean_mask(R, rcMask)        # ( rcSites, (f, r, u, genomeID, contigID, fwdStart, rcStart))\n",
    "\n",
    "        # fwd case: p *= 3; p += frame; p += tileStart\n",
    "        posFwd = tf.multiply(rFwd[:,1], 3)             # (fwdSites), *3\n",
    "        posFwd = tf.add(posFwd, rFwd[:,0])             # (fwdSites), add frame offset\n",
    "        posFwd = tf.add(posFwd, rFwd[:,5])             # (fwdSites), add tile start\n",
    "        sites = tf.concat([tf.expand_dims(rFwd[:,3], -1), \n",
    "                           tf.expand_dims(rFwd[:,4], -1), \n",
    "                           tf.expand_dims(posFwd, -1), \n",
    "                           tf.expand_dims(rFwd[:,2], -1)], axis=1) # (fwdSites, (genomeID, contigID, pos, u))\n",
    "        #sites = tf.concat((rFwd[:,3], rFwd[:,4], \n",
    "        #                   posFwd, rFwd[:,2]), axis=1) # (fwdSites, (genomeID, contigID, pos, u))\n",
    "\n",
    "        # rc case: p *= 3; p += frame-3; p = rcStart - p - (k*3) + 1\n",
    "        posRC = tf.multiply(rRC[:,1], 3)               # (rcSites), *3\n",
    "        posRC = tf.add(posRC, rRC[:,0])                # (rcSites), add frame offset\n",
    "        posRC = tf.subtract(posRC, 3)                  # (rcSites), -3\n",
    "        posRC = tf.subtract(rRC[:,6], posRC)           # (rcSites), rcStart - p\n",
    "        posRC = tf.subtract(posRC, (k*3))              # (rcSites), -(k*3)\n",
    "        posRC = tf.add(posRC, 1)                       # (rcSites), +1\n",
    "        sitesRC = tf.concat([tf.expand_dims(rRC[:,3], -1), \n",
    "                             tf.expand_dims(rRC[:,4], -1), \n",
    "                             tf.expand_dims(posRC, -1), \n",
    "                             tf.expand_dims(rRC[:,2], -1)], axis=1) # (fwdSites, (genomeID, contigID, pos, u))\n",
    "        #sitesRC = tf.concat((rRC[:,3], rRC[:,4], \n",
    "        #                     posRC, rRC[:,2]), axis=1) # (rcSites, (genomeID, contigID, pos, u))\n",
    "\n",
    "        sitesV = tf.concat((sites, sitesRC), axis=0) # (sites, (genomeID, contigID, pos, u))\n",
    "        print(sitesV.numpy())\n",
    "        \n",
    "        break\n",
    "    break"
   ]
  },
  {
   "cell_type": "code",
   "execution_count": null,
   "metadata": {},
   "outputs": [],
   "source": [
    "fwdMask = tf.less(matches[:,0], 3)\n",
    "rFwd = tf.boolean_mask(matches, fwdMask)\n",
    "posFwd = tf.multiply(rFwd[:,1], 3)\n",
    "posFwd = tf.add(posFwd, rFwd[:,0])\n",
    "posFwd = tf.add(posFwd, rFwd[:,5])\n",
    "posFwd"
   ]
  },
  {
   "cell_type": "code",
   "execution_count": null,
   "metadata": {},
   "outputs": [],
   "source": [
    "tf.boolean_mask(Tidx, M)"
   ]
  },
  {
   "cell_type": "markdown",
   "metadata": {},
   "source": [
    "---"
   ]
  },
  {
   "cell_type": "markdown",
   "metadata": {},
   "source": [
    "## Profile Score Distribution"
   ]
  },
  {
   "cell_type": "code",
   "execution_count": null,
   "metadata": {},
   "outputs": [],
   "source": [
    "def customHist(distType: str, prec = 1):\n",
    "    validDistTypes = ['score', 'loss', 'L5score']\n",
    "    assert distType in validDistTypes, \"distType must be one of \"+str(validDistTypes)\n",
    "    \n",
    "    collect = {}\n",
    "    ds_score = getDataset().batch(batch_size).prefetch(3)\n",
    "    for batch in ds_score:\n",
    "        for X in batch:\n",
    "            S, _, _ = specProModel(X)\n",
    "            if distType == 'score':\n",
    "                for s in np.array(S).flatten():\n",
    "                    score = np.math.floor(s*prec)\n",
    "                    if score not in collect:\n",
    "                        collect[score] = 0\n",
    "                        \n",
    "                    collect[score] += 1\n",
    "                    \n",
    "            if distType == 'loss':\n",
    "                _, LpU, _ = specProModel.loss(S)\n",
    "                for l in LpU:\n",
    "                    loss = np.math.floor(l*prec)\n",
    "                    if loss not in collect:\n",
    "                        collect[loss] = 0\n",
    "                        \n",
    "                    collect[loss] += 1\n",
    "                    \n",
    "            if distType == 'L5score':\n",
    "                gamma = .2\n",
    "                S2 = tf.nn.softmax(gamma*S, axis=0)\n",
    "                S3 = tf.math.multiply(S, tf.square(S2))\n",
    "                for s in np.array(S3).flatten():\n",
    "                    score = np.math.floor(s*prec)\n",
    "                    if score not in collect:\n",
    "                        collect[score] = 0\n",
    "                        \n",
    "                    collect[score] += 1\n",
    "                    \n",
    "    fkeys = [k for k in collect.keys()]\n",
    "    bins = [b for b in range(min(fkeys), max(fkeys)+1)]\n",
    "    vals = [collect[k] if k in collect else 0 for k in bins]\n",
    "    bins = [b/prec for b in bins]\n",
    "    \n",
    "    plt.bar(list(range(len(bins))), vals, tick_label=[str(b) for b in bins])\n",
    "    \n",
    "    return bins, vals"
   ]
  },
  {
   "cell_type": "code",
   "execution_count": null,
   "metadata": {},
   "outputs": [],
   "source": [
    "bins, vals = customHist('L5score', 0.5)"
   ]
  },
  {
   "cell_type": "code",
   "execution_count": null,
   "metadata": {},
   "outputs": [],
   "source": [
    "bins, vals = customHist('loss', 100)"
   ]
  },
  {
   "cell_type": "code",
   "execution_count": null,
   "metadata": {},
   "outputs": [],
   "source": [
    "bins, vals = customHist('score', 0.1)"
   ]
  },
  {
   "cell_type": "markdown",
   "metadata": {},
   "source": [
    "     P:     (k, alphSize, U) \n",
    "     X:     (tilesPerX, N, 6, T, alphSize) \n",
    "     Z:     (tilesPerX, N, 6, T-k+1, U)\n",
    "     S:     (tilesPerX, N, U)"
   ]
  },
  {
   "cell_type": "code",
   "execution_count": null,
   "metadata": {},
   "outputs": [],
   "source": [
    "Scollect = []\n",
    "Lcollect = []\n",
    "\n",
    "if not use_real_data:\n",
    "    ds_score = getDataset().batch(batch_size).prefetch(150)\n",
    "    for batch in ds_score:\n",
    "        for X in batch:\n",
    "            S, _, Z = specProModel(X)\n",
    "            _, LpU, _ = specProModel.loss(S)\n",
    "            Scollect.extend(np.array(S).flatten())\n",
    "            Lcollect.extend(np.array(LpU).flatten())"
   ]
  },
  {
   "cell_type": "code",
   "execution_count": null,
   "metadata": {},
   "outputs": [],
   "source": [
    "plt.hist(Scollect)"
   ]
  },
  {
   "cell_type": "code",
   "execution_count": null,
   "metadata": {},
   "outputs": [],
   "source": [
    "plt.hist(Lcollect)"
   ]
  },
  {
   "cell_type": "code",
   "execution_count": null,
   "metadata": {},
   "outputs": [],
   "source": [
    "if not use_real_data:\n",
    "    gamma = .01 # a small value means a more inclusive meaning of near-best\n",
    "    S2 = tf.nn.softmax(gamma*S, axis=0)\n",
    "    S3 = tf.reduce_max(S2, axis=0) # the closer to 1, the clearer is the champion match a winner\n",
    "    S4 = tf.reduce_max(S, axis=0) # ranges over tiles, or soft max like in L1\n",
    "    S5 = tf.math.multiply(S4, S3) # effectively the best score per genome is divided by the number of matches\n",
    "    loss_by_unit = tf.reduce_sum(S5, axis=0) / U # sum over genomes\n",
    "    L5 = tf.reduce_sum(loss_by_unit) # sum over profiles=units\n",
    "    plt.hist(S4[:,0].numpy().flatten(), bins=20)\n",
    "    S5.shape"
   ]
  },
  {
   "cell_type": "markdown",
   "metadata": {},
   "source": [
    "---\n",
    "\n",
    "### Profile Match Sites"
   ]
  },
  {
   "cell_type": "code",
   "execution_count": null,
   "metadata": {},
   "outputs": [],
   "source": [
    "ds_sites = getDataset(withPosTracking = True).batch(batch_size).prefetch(3)\n",
    "sites = specProModel.get_profile_match_sites(ds_sites, 0, tile_size, genomes, False)\n",
    "sites"
   ]
  },
  {
   "cell_type": "code",
   "execution_count": null,
   "metadata": {},
   "outputs": [],
   "source": [
    "import itertools\n",
    "\n",
    "def sitesToLinks(sites):\n",
    "    links = []\n",
    "    profileToOcc = {}\n",
    "    linkProfiles = set()\n",
    "    for g in sites:\n",
    "        for s in sites[g]:\n",
    "            for i in range(len(sites[g][s]['profile'])):\n",
    "                p = sites[g][s]['profile'][i]\n",
    "                if p not in profileToOcc:\n",
    "                    profileToOcc[p] = {}\n",
    "                    \n",
    "                if g not in profileToOcc[p]:\n",
    "                    profileToOcc[p][g] = []\n",
    "                    \n",
    "                profileToOcc[p][g].append((g, s, sites[g][s]['pos'][i], sites[g][s]['score'][i], sites[g][s]['frame'][i]))\n",
    "                \n",
    "    for p in profileToOcc:\n",
    "        if (len(profileToOcc[p].keys()) == 1) or (0 not in profileToOcc[p]):\n",
    "            continue\n",
    "            \n",
    "        occs = []\n",
    "        for g in profileToOcc[p]:\n",
    "            occs.append(profileToOcc[p][g])\n",
    "            \n",
    "        l = itertools.product(*occs)\n",
    "        links.extend(l)\n",
    "        linkProfiles.add(p)\n",
    "    \n",
    "    return links, linkProfiles\n",
    "\n",
    "links, linkProfiles = sitesToLinks(sites)\n",
    "print(links[:5])\n",
    "print(linkProfiles)"
   ]
  },
  {
   "cell_type": "code",
   "execution_count": null,
   "metadata": {},
   "outputs": [],
   "source": [
    "len(links)"
   ]
  },
  {
   "cell_type": "code",
   "execution_count": null,
   "metadata": {},
   "outputs": [],
   "source": [
    "print(insertTracking)"
   ]
  },
  {
   "cell_type": "markdown",
   "metadata": {},
   "source": [
    "#### Visualize Profile Matches"
   ]
  },
  {
   "cell_type": "code",
   "execution_count": null,
   "metadata": {
    "scrolled": false
   },
   "outputs": [],
   "source": [
    "maxplot = 4\n",
    "nplot = 0\n",
    "P = specProModel.getP()\n",
    "for g in list(sites.keys()):\n",
    "    for c in list(sites[g].keys()):\n",
    "        gseq = genomes[g][c]\n",
    "        for i in range(len(sites[g][c]['profile'])):\n",
    "            p = sites[g][c]['profile'][i]\n",
    "            pos = sites[g][c]['pos'][i]\n",
    "            score = sites[g][c]['score'][i]\n",
    "            f = sites[g][c]['frame'][i]\n",
    "            \n",
    "            match = gseq[pos:(pos+specProModel.k*3)+2]\n",
    "            match_aa = su.six_frame_translation(match)\n",
    "            profile_df = su.makeDFs(P[:,:,p:(p+1)].numpy())[0]\n",
    "            logo = logomaker.Logo(profile_df, vpad=.1, width=1)\n",
    "            logo.style_xticks(anchor=0, spacing=1, rotation=45)\n",
    "            logo.ax.set_ylabel('information (bits)')\n",
    "            logo.ax.set_title(f\"Profile {p}\" + (f\" score={score:.1f}\") + \" | sequence match (frame \"+str(f)+\") \"+', '.join(match_aa))\n",
    "            \n",
    "            nplot += 1\n",
    "            if nplot >= maxplot:\n",
    "                break\n",
    "                \n",
    "        if nplot >= maxplot:\n",
    "            break\n",
    "            \n",
    "    if nplot >= maxplot:\n",
    "        break"
   ]
  },
  {
   "cell_type": "code",
   "execution_count": null,
   "metadata": {},
   "outputs": [],
   "source": [
    "_, _ = printExpectedPatterns()"
   ]
  },
  {
   "cell_type": "markdown",
   "metadata": {},
   "source": [
    "#### \"Sensitivity\" of Profile Matches"
   ]
  },
  {
   "cell_type": "code",
   "execution_count": null,
   "metadata": {},
   "outputs": [],
   "source": [
    "def parseSequenceHeader(header):\n",
    "    fields = header.split(\"|\")\n",
    "    headDict = {}\n",
    "    for field in fields:\n",
    "        key, value = field.split(\":\")\n",
    "        assert len(field.split(\":\")) == 2, header\n",
    "        assert key not in headDict, header\n",
    "        headDict[key] = value\n",
    "\n",
    "    return headDict"
   ]
  },
  {
   "cell_type": "code",
   "execution_count": null,
   "metadata": {},
   "outputs": [],
   "source": [
    "with open(os.path.join(datapath, \"../hg38.GTF.json\"), 'rt') as fh:\n",
    "    gtf = json.load(fh)\n",
    "    \n",
    "gtf['ENST00000219797']"
   ]
  },
  {
   "cell_type": "code",
   "execution_count": null,
   "metadata": {},
   "outputs": [],
   "source": [
    "with open(os.path.join(datapath, \"../orthologs.json\"), 'rt') as fh:\n",
    "    orthology = json.load(fh)\n",
    "    \n",
    "orthology"
   ]
  },
  {
   "cell_type": "code",
   "execution_count": null,
   "metadata": {},
   "outputs": [],
   "source": [
    "seqnames[0][0:2]"
   ]
  },
  {
   "cell_type": "code",
   "execution_count": null,
   "metadata": {},
   "outputs": [],
   "source": [
    "nexons = 0\n",
    "northo = 0\n",
    "for seq in seqnames[0]:\n",
    "    seqDict = parseSequenceHeader(seq)\n",
    "    if seqDict['tid'] != 'artificial':\n",
    "        northo += 1\n",
    "    if seqDict['tid'] in gtf:\n",
    "        nexons += len([1 for annot in gtf[seqDict['tid']] if annot['feature'] == 'CDS'])\n",
    "        \n",
    "print(nexons)\n",
    "print(northo)"
   ]
  },
  {
   "cell_type": "code",
   "execution_count": null,
   "metadata": {},
   "outputs": [],
   "source": [
    "tolerance = 3*k + 3 # allow certain position mismatch in human exons\n",
    "tp = [] # accumulate scores\n",
    "fp = []\n",
    "noise = []\n",
    "geneNoise = []\n",
    "exonsFound = set()\n",
    "featuresFound = set()\n",
    "orthoFound = set()\n",
    "for link in links:\n",
    "    allArt = True\n",
    "    allGen = True\n",
    "    for occ in link:\n",
    "        #print(\"DEBUG\", occ)\n",
    "        seqname = seqnames[occ[0]][occ[1]]\n",
    "        seqDict = parseSequenceHeader(seqname)\n",
    "        if seqDict['gid'] == 'artificial':\n",
    "            allGen = False\n",
    "        else:\n",
    "            allArt = False\n",
    "            \n",
    "    mscore = np.mean([o[3] for o in link])\n",
    "    if allArt:\n",
    "        fp.append(mscore)\n",
    "    elif not (allArt or allGen):\n",
    "        noise.append(mscore)\n",
    "    else:\n",
    "        assert allGen\n",
    "        rSeq = seqnames[link[0][0]][link[0][1]]\n",
    "        assert rSeq in orthology, rSeq\n",
    "        if all([seqnames[o[0]][o[1]] in orthology[rSeq] for o in link[1:]]):\n",
    "            tp.append(mscore)\n",
    "            orthoFound.add(rSeq)\n",
    "            seqDict = parseSequenceHeader(rSeq)\n",
    "            tid = seqDict['tid']\n",
    "            pos = link[0][2]\n",
    "            if tid in gtf:\n",
    "                for feature in gtf[tid]:\n",
    "                    if feature['rstart']-tolerance <= pos and pos <= feature['rend']+tolerance:\n",
    "                        featuresFound.add(str(feature))\n",
    "                        if feature['feature'] == 'CDS':\n",
    "                            exonsFound.add(feature['tag'])\n",
    "                    else:\n",
    "                        print(\"[DEBUG]\", pos, \"not in\", feature['rstart'], feature['rend'], \"(\", feature['feature'],\")\")\n",
    "        else:\n",
    "            geneNoise.append(mscore)"
   ]
  },
  {
   "cell_type": "code",
   "execution_count": null,
   "metadata": {},
   "outputs": [],
   "source": [
    "print(\"TP:\", len(tp), \"| mean score:\", sum(tp)/len(tp) if len(tp) > 0 else 0)\n",
    "print(\"FP:\", len(fp), \"| mean score:\", sum(fp)/len(fp) if len(fp) > 0 else 0)\n",
    "print(\"noise:\", len(noise), \"| mean score:\", sum(noise)/len(noise) if len(noise) > 0 else 0)\n",
    "print(\"geneNoise:\", len(geneNoise), \"| mean score:\", sum(geneNoise)/len(geneNoise) if len(geneNoise) > 0 else 0)\n",
    "\n",
    "print(\"Sn:\", len(exonsFound), \"/\", nexons, \"=\", len(exonsFound)/nexons)\n",
    "print(\"hits:\", len(orthoFound), \"/\", northo, \"=\", len(orthoFound)/northo)"
   ]
  },
  {
   "cell_type": "code",
   "execution_count": null,
   "metadata": {},
   "outputs": [],
   "source": [
    "for f in featuresFound:\n",
    "    print(f)"
   ]
  },
  {
   "cell_type": "code",
   "execution_count": null,
   "metadata": {},
   "outputs": [],
   "source": [
    "import plotly.graph_objects as go"
   ]
  },
  {
   "cell_type": "code",
   "execution_count": null,
   "metadata": {},
   "outputs": [],
   "source": [
    "fig = go.Figure()\n",
    "fig.add_trace(go.Histogram(x=tp, name=\"TP\", histnorm='probability'))\n",
    "fig.add_trace(go.Histogram(x=fp, name=\"FP\", histnorm='probability'))\n",
    "fig.add_trace(go.Histogram(x=noise, name=\"noise\", histnorm='probability'))\n",
    "fig.add_trace(go.Histogram(x=geneNoise, name=\"geneNoise\", histnorm='probability'))\n",
    "\n",
    "# Overlay both histograms and reduce opacity to see both histograms\n",
    "#fig.update_layout(barmode='overlay')\n",
    "#fig.update_traces(opacity=0.75)\n",
    "fig.show()"
   ]
  },
  {
   "cell_type": "code",
   "execution_count": null,
   "metadata": {},
   "outputs": [],
   "source": [
    "assert False # stop here"
   ]
  },
  {
   "cell_type": "code",
   "execution_count": null,
   "metadata": {},
   "outputs": [],
   "source": [
    "Q"
   ]
  },
  {
   "cell_type": "code",
   "execution_count": null,
   "metadata": {},
   "outputs": [],
   "source": [
    "str(P[:,:,0][0].numpy())"
   ]
  },
  {
   "cell_type": "code",
   "execution_count": null,
   "metadata": {},
   "outputs": [],
   "source": [
    "def profileToMEME(p, Q, i):\n",
    "    assert p.shape[1] == len(Q), str(p.shape)+\", \"+str(len(Q))\n",
    "    assert p.shape[1] == len(su.aa_alphabet[1:]), str(p.shape)+\", \"+str(len(su.aa_alphabet[1:]))\n",
    "    \n",
    "    text = 'MEME version 4\\n'\n",
    "    text += 'ALPHABET \"extProtein\" PROTEIN-LIKE\\n'\n",
    "    for aa in su.aa_alphabet[1:]:\n",
    "        text += aa+\"\\n\"\n",
    "        \n",
    "    text += 'END ALPHABET\\n'\n",
    "    text += \"Background letter frequencies\\n\"\n",
    "    freq = \" \".join([su.aa_alphabet[i+1]+\" \"+str(Q[i]) for i in range(len(Q))])\n",
    "    text += freq+\"\\n\"\n",
    "    text += \"MOTIF \"+str(i)+\" \"+str(i)+\"\\n\"\n",
    "    text += \"letter-probability matrix: alength= \"+str(p.shape[1])+\" w= \"+str(p.shape[0])+\"\\n\"\n",
    "    \n"
   ]
  },
  {
   "cell_type": "markdown",
   "metadata": {},
   "source": [
    "    AC  MA0001.1\n",
    "    XX\n",
    "    ID  AGL3\n",
    "    XX\n",
    "    DE  MA0001.1 AGL3; from JASPAR\n",
    "    PO       A     C     G     T\n",
    "    1        0    94     1     2\n",
    "    2        3    75     0    19\n",
    "    3       79     4     3    11\n",
    "    4       40     3     4    50\n",
    "    5       66     1     1    29\n",
    "    6       48     2     0    47\n",
    "    7       65     5     5    22\n",
    "    8       11     2     3    81\n",
    "    9       65     3    28     1\n",
    "    10       0     3    88     6\n",
    "    XX\n",
    "    CC  program: jaspar\n",
    "    XX\n",
    "    //"
   ]
  },
  {
   "cell_type": "code",
   "execution_count": null,
   "metadata": {},
   "outputs": [],
   "source": [
    "def profileToTransfac(p, i):\n",
    "    assert p.shape[1] == len(su.aa_alphabet[1:]), str(p.shape)+\", \"+str(len(su.aa_alphabet[1:]))\n",
    "    text = \"AC  \"+str(i)+\"\\n\"\n",
    "    text += \"XX\\n\"\n",
    "    text += \"ID  \"+str(i)+\"\\n\"\n",
    "    text += \"XX\\n\"\n",
    "    text += \"DE  \"+str(i)+\"\\n\"\n",
    "    text += \"PO  \"+(\" \".join([su.aa_alphabet[i+1] for i in range(len(Q))]))+\"\\n\"\n",
    "    for i in range(p.shape[0]):\n",
    "        text += str(i+1)+\"  \"+(\" \".join(str(v) for v in p.numpy()[i]))+\"\\n\"\n",
    "        \n",
    "    text += \"XX\\n\"\n",
    "    text += \"CC  program: own\\n\"\n",
    "    text += \"//\"\n",
    "    return text"
   ]
  },
  {
   "cell_type": "code",
   "execution_count": null,
   "metadata": {},
   "outputs": [],
   "source": [
    "print(profileToTransfac(P[:,:,0], 0))"
   ]
  },
  {
   "cell_type": "code",
   "execution_count": null,
   "metadata": {},
   "outputs": [],
   "source": [
    "with open(\"/nas-hs/users/matthis/genomegraph/testProfileTransfacOutput.txt\", 'wt') as fh:\n",
    "    for i in range(P.shape[2]):\n",
    "        fh.write(profileToTransfac(P[:,:,i], i))"
   ]
  },
  {
   "cell_type": "code",
   "execution_count": null,
   "metadata": {},
   "outputs": [],
   "source": [
    "def cosineSim(a: np.ndarray, b: np.ndarray):\n",
    "    assert len(a) == len(b)\n",
    "    return np.sum(a*b) / (np.sqrt(np.sum(np.square(a))) * np.sqrt(np.sum(np.square(b))))"
   ]
  },
  {
   "cell_type": "code",
   "execution_count": null,
   "metadata": {},
   "outputs": [],
   "source": [
    "cosineSim(np.array([0,1,0,0]), np.array([1,0,0,0]))"
   ]
  },
  {
   "cell_type": "code",
   "execution_count": null,
   "metadata": {},
   "outputs": [],
   "source": [
    "# modified version of https://gist.github.com/nornagon/6326a643fc30339ece3021013ed9b48c\n",
    "# enforce gapless alignment\n",
    "def smith_waterman(a, b) -> float:\n",
    "    assert a.shape[1] == b.shape[1], str(a.shape)+\", \"+str(b.shape)\n",
    "    # H holds the alignment score at each point, computed incrementally\n",
    "    H = np.zeros((a.shape[0] + 1, b.shape[0] + 1))\n",
    "    for i in range(1, a.shape[0] + 1):\n",
    "        for j in range(1, b.shape[0] + 1):\n",
    "            # The score for substituting the letter a[i-1] for b[j-1]. Generally low\n",
    "            # for mismatch, high for match.\n",
    "            H[i,j] = H[i-1,j-1] + cosineSim(a[i-1], b[j-1])\n",
    "    # The highest score is the best local alignment.\n",
    "    # For our purposes, we don't actually care _what_ the alignment was, just how\n",
    "    # aligned the two strings were.\n",
    "    return H.max()"
   ]
  },
  {
   "cell_type": "code",
   "execution_count": null,
   "metadata": {},
   "outputs": [],
   "source": [
    "def profileLogo(i, title=\"\", P=P):\n",
    "    profile_df = su.makeDFs(P[:,:,i:(i+1)].numpy())[0]\n",
    "    logo = logomaker.Logo(profile_df, vpad=.1, width=1)\n",
    "    logo.style_xticks(anchor=0, spacing=1, rotation=45)\n",
    "    logo.ax.set_ylabel('information (bits)')\n",
    "    logo.ax.set_title(title)"
   ]
  },
  {
   "cell_type": "code",
   "execution_count": null,
   "metadata": {
    "scrolled": false
   },
   "outputs": [],
   "source": [
    "a = P[:,:,0]\n",
    "profileLogo(0, \"Reference profile\")\n",
    "\n",
    "for i in range(5653,5658):\n",
    "    b = P[:,:,i]\n",
    "    s = smith_waterman(a,b)\n",
    "    profileLogo(i, \"Aligning with score \"+str(s))"
   ]
  },
  {
   "cell_type": "code",
   "execution_count": null,
   "metadata": {},
   "outputs": [],
   "source": [
    "for i in range(P.shape[2]):\n",
    "    for j in range(i+1, P.shape[2]):\n",
    "        if smith_waterman(P[:,:,i], P[:,:,j]) >= P.shape[0]/2:\n",
    "            print(\"Similar:\",i,\"and\",j)\n",
    "            profileLogo(i,str(i))\n",
    "            profileLogo(j,str(j))"
   ]
  },
  {
   "cell_type": "markdown",
   "metadata": {},
   "source": [
    "---"
   ]
  },
  {
   "cell_type": "markdown",
   "metadata": {},
   "source": [
    "## Find Best Profiles\n",
    "\n",
    "Idea: \n",
    "* convert profiles into aa-sequences (translate max. values into aa at each position)\n",
    "* align (or perfect match?) sequences against the 6 possible pattern translations and the insert translations\n",
    "* alignment scores give an idea of how good the profiles are -> allows multiple training runs to account for randomness, evaluate how good the profiles usually are (+ variance)"
   ]
  },
  {
   "cell_type": "code",
   "execution_count": null,
   "metadata": {},
   "outputs": [],
   "source": [
    "from Bio import pairwise2\n",
    "from Bio.pairwise2 import format_alignment"
   ]
  },
  {
   "cell_type": "code",
   "execution_count": null,
   "metadata": {},
   "outputs": [],
   "source": [
    "def runTraining():\n",
    "    tf.keras.backend.clear_session() # avoid memory cluttering by remains of old models\n",
    "    \n",
    "    # build and randomly initialize profile model\n",
    "    specProModel = SpecificProfile(k, su.aa_alphabet_size, U, Q)\n",
    "    \n",
    "    #start = time()\n",
    "    specProModel.train_ds(ds, steps_per_epoch, epochs=500, verbose=False)\n",
    "    #end = time()\n",
    "    #print(f\"time: {end-start:.2f}\")\n",
    "    \n",
    "    #S, R = specProModel(X)\n",
    "    #_, (L1, L2, L4, L7) = specProModel.loss(S)\n",
    "    #pScores = tf.reduce_sum(tf.reduce_max(S,axis=0), axis=0).numpy()\n",
    "    #print(\"pScores\", pScores)\n",
    "    #np.argsort(pScores)\n",
    "    #print (\"loss=\", L1.numpy(), \"\\tL2=\", L2.numpy(), \n",
    "    #       \"\\tL4=\", L4.numpy(), \"\\nS=\", S.numpy())\n",
    "    \n",
    "    P = specProModel.getP()\n",
    "    \n",
    "    return P"
   ]
  },
  {
   "cell_type": "code",
   "execution_count": null,
   "metadata": {},
   "outputs": [],
   "source": [
    "def aaFromProfiles(P):\n",
    "    profiles_aa = []\n",
    "    for pidx in range(P.shape[2]):\n",
    "        pmat = P[:,:,pidx]\n",
    "        profiles_aa.append(su.to_aa_seq(pmat))\n",
    "\n",
    "    return profiles_aa"
   ]
  },
  {
   "cell_type": "code",
   "execution_count": null,
   "metadata": {},
   "outputs": [],
   "source": [
    "def getBestAlignments(profiles, patterns, scoreThreshold = int(k/2)):\n",
    "    scores = []\n",
    "    alignments = []\n",
    "    best_profiles = []\n",
    "    for profile in profiles:\n",
    "        pscores = []\n",
    "        palignments = []\n",
    "        for pattern in patterns:\n",
    "            als = pairwise2.align.localxd(profile, pattern, openA=-1000, extendA=-1000, openB=-1000, extendB=-1000)\n",
    "            s = [al.score for al in als]\n",
    "            if len(s) > 0:\n",
    "                pscores.append(np.argmax(s))\n",
    "                palignments.append(als[np.argmax(s)])\n",
    "\n",
    "        best_al = palignments[np.argmax(pscores)]\n",
    "        if best_al.score >= scoreThreshold:\n",
    "            scores.append(best_al.score)\n",
    "            alignments.append(best_al)\n",
    "            best_profiles.append(profile)\n",
    "\n",
    "    if len(scores) > 0:\n",
    "        sortedIdx = np.argsort([-s for s in scores])\n",
    "        scores = [scores[i] for i in sortedIdx]\n",
    "        alignments = [alignments[i] for i in sortedIdx]\n",
    "        best_profiles = [best_profiles[i] for i in sortedIdx]\n",
    "    \n",
    "    return scores, alignments, best_profiles"
   ]
  },
  {
   "cell_type": "code",
   "execution_count": null,
   "metadata": {
    "scrolled": false
   },
   "outputs": [],
   "source": [
    "if False:\n",
    "    for i in range(20):\n",
    "        P = runTraining()\n",
    "        profiles = aaFromProfiles(P)\n",
    "        print(\"Run\", i)\n",
    "        if insertPatterns is not None:\n",
    "            print(\"Desired profiles:\")\n",
    "            patternScores, patternAlignments, patternProfiles = getBestAlignments(profiles, desiredPatternAA)\n",
    "            for i in range(len(patternScores)):\n",
    "                    print(patternProfiles[i])\n",
    "                    print(format_alignment(*(patternAlignments[i])))\n",
    "\n",
    "        if repeatPatterns is not None:\n",
    "            print(\"Undesired profiles:\")\n",
    "            repeatScores, repeatAlignments, repeatProfiles = getBestAlignments(profiles, repeatPatternAA)\n",
    "            for i in range(len(repeatScores)):\n",
    "                    print(repeatProfiles[i])\n",
    "                    print(format_alignment(*(repeatAlignments[i])))\n",
    "\n",
    "        print(\"\")\n",
    "        print(\"-----\")\n",
    "        print(\"\")\n",
    "        \n",
    "else:\n",
    "    P = specProModel.getP()\n",
    "    profiles = aaFromProfiles(P)\n",
    "\n",
    "    if insertPatterns is not None:\n",
    "        print(\"Desired profiles:\")\n",
    "        patternScores, patternAlignments, patternProfiles = getBestAlignments(profiles, desiredPatternAA, scoreThreshold=4)\n",
    "        for i in range(len(patternScores)):\n",
    "                print(patternProfiles[i])\n",
    "                print(format_alignment(*(patternAlignments[i])))\n",
    "\n",
    "    if repeatPatterns is not None:\n",
    "        print(\"Undesired profiles:\")\n",
    "        repeatScores, repeatAlignments, repeatProfiles = getBestAlignments(profiles, repeatPatternAA, scoreThreshold=4)\n",
    "        for i in range(len(repeatScores)):\n",
    "            print(repeatProfiles[i])\n",
    "            print(format_alignment(*(repeatAlignments[i])))"
   ]
  },
  {
   "cell_type": "code",
   "execution_count": null,
   "metadata": {},
   "outputs": [],
   "source": [
    "R = specProModel.getR()\n",
    "profiles = aaFromProfiles(R)\n",
    "if insertPatterns is not None:\n",
    "    print(\"Desired profiles:\")\n",
    "    patternScores, patternAlignments, patternProfiles = getBestAlignments(profiles, desiredPatternAA, scoreThreshold=4)\n",
    "    for i in range(len(patternScores)):\n",
    "            print(patternProfiles[i])\n",
    "            print(format_alignment(*(patternAlignments[i])))\n",
    "\n",
    "if repeatPatterns is not None:\n",
    "    print(\"Undesired profiles:\")\n",
    "    repeatScores, repeatAlignments, repeatProfiles = getBestAlignments(profiles, repeatPatternAA, scoreThreshold=4)\n",
    "    for i in range(len(repeatScores)):\n",
    "        print(repeatProfiles[i])\n",
    "        print(format_alignment(*(repeatAlignments[i])))"
   ]
  },
  {
   "cell_type": "markdown",
   "metadata": {},
   "source": [
    "---\n",
    "\n",
    "### Evaluate Parameter Grid"
   ]
  },
  {
   "cell_type": "code",
   "execution_count": null,
   "metadata": {},
   "outputs": [],
   "source": [
    "from datetime import time, datetime\n",
    "import pandas as pd\n",
    "import plotly.graph_objects as go\n",
    "import plotly.express as px"
   ]
  },
  {
   "cell_type": "code",
   "execution_count": null,
   "metadata": {},
   "outputs": [],
   "source": [
    "dfN = pd.read_csv(\"20211111_evaluate_gensize_N.csv\")\n",
    "dfGS = pd.read_csv(\"20211111_evaluate_gensize_GS.csv\")\n",
    "dfNS = pd.read_csv(\"20211111_evaluate_gensize_NS.csv\")\n",
    "print(dfN)\n",
    "print(dfGS)\n",
    "print(dfNS)"
   ]
  },
  {
   "cell_type": "code",
   "execution_count": null,
   "metadata": {},
   "outputs": [],
   "source": [
    "def timeFromStr(tstr: str):\n",
    "    h,m,s = tstr.split(\":\")\n",
    "    s, us = s.split(\".\")\n",
    "    us = float(\"0.\"+us) * 1000000\n",
    "    #print(h,m,s,us)\n",
    "    return time(int(h),int(m),int(s), int(us))\n",
    "\n",
    "def secondsFromStr(tstr: str):\n",
    "    h,m,s = tstr.split(\":\")\n",
    "    seconds = (int(h)*60*60) + (int(m)*60) + float(s)\n",
    "    return seconds\n",
    "    \n",
    "runtime = [secondsFromStr(s) for s in df['runtime']]"
   ]
  },
  {
   "cell_type": "code",
   "execution_count": null,
   "metadata": {},
   "outputs": [],
   "source": [
    "fig = go.Figure()\n",
    "fig.add_trace(go.Scatter(x=df['U'], y=runtime, name=\"runtime\"))\n",
    "fig.update_xaxes(title_text='U')\n",
    "fig.update_yaxes(title_text='runtime [s]')#, type='log')\n",
    "fig.show()\n",
    "\n",
    "\n",
    "fig = go.Figure()\n",
    "fig.add_trace(go.Scatter(x=df['U'], y=df['memory'], name=\"memory [MB]\"))\n",
    "fig.update_xaxes(title_text='U')\n",
    "fig.update_yaxes(title_text='Memory [MB]')\n",
    "fig.show()"
   ]
  },
  {
   "cell_type": "code",
   "execution_count": null,
   "metadata": {},
   "outputs": [],
   "source": [
    "gsN = []\n",
    "for _, row in dfN.iterrows():\n",
    "    gsN.append(int(row['N']) * int(row['genome-sizes']))\n",
    "    \n",
    "gsGS = []\n",
    "for _, row in dfGS.iterrows():\n",
    "    gsGS.append(int(row['N']) * int(row['genome-sizes']))\n",
    "    \n",
    "gsNS = []\n",
    "for _, row in dfNS.iterrows():\n",
    "    gs = [int(s) for s in row['genome-sizes'].split()]\n",
    "    gsNS.append(int(row['N']) * sum(gs))\n",
    "\n",
    "fig = go.Figure()\n",
    "fig.add_trace(go.Scatter(x=gsN, y=[secondsFromStr(s) for s in dfN['runtime']], name=\"runtime N\"))\n",
    "fig.add_trace(go.Scatter(x=gsGS, y=[secondsFromStr(s) for s in dfGS['runtime']], name=\"runtime GS\"))\n",
    "fig.add_trace(go.Scatter(x=gsNS, y=[secondsFromStr(s) for s in dfNS['runtime']], name=\"runtime NS\"))\n",
    "fig.update_xaxes(title_text='genome size')\n",
    "fig.update_yaxes(title_text='runtime [s]')\n",
    "fig.show()\n",
    "\n",
    "\n",
    "fig = go.Figure()\n",
    "fig.add_trace(go.Scatter(x=gsN, y=dfN['memory'], name=\"memory [MB] N\"))\n",
    "fig.add_trace(go.Scatter(x=gsGS, y=dfGS['memory'], name=\"memory [MB] GS\"))\n",
    "fig.add_trace(go.Scatter(x=gsNS, y=dfNS['memory'], name=\"memory [MB] NS\"))\n",
    "fig.update_xaxes(title_text='genome size')\n",
    "fig.update_yaxes(title_text='Memory [MB]')\n",
    "fig.show()"
   ]
  },
  {
   "cell_type": "code",
   "execution_count": null,
   "metadata": {},
   "outputs": [],
   "source": [
    "x = []\n",
    "yr = []\n",
    "ym = []\n",
    "for _, row in dfN.iterrows():\n",
    "    x.append(int(row['N']))\n",
    "    yr.append(secondsFromStr(row['runtime']))\n",
    "    ym.append(float(row['memory']))\n",
    "    \n",
    "fig = go.Figure()\n",
    "fig.add_trace(go.Scatter(x=x, y=yr, name=\"runtime\"))\n",
    "fig.update_xaxes(title_text='genome size')\n",
    "fig.update_yaxes(title_text='runtime [s]')\n",
    "fig.show()\n",
    "\n",
    "\n",
    "fig = go.Figure()\n",
    "fig.add_trace(go.Scatter(x=x, y=ym, name=\"memory [MB] N\"))\n",
    "fig.update_xaxes(title_text='genome size')\n",
    "fig.update_yaxes(title_text='Memory [MB]')\n",
    "fig.show()"
   ]
  },
  {
   "cell_type": "code",
   "execution_count": null,
   "metadata": {},
   "outputs": [],
   "source": [
    "x = []\n",
    "yr = []\n",
    "ym = []\n",
    "for _, row in dfGS.iterrows():\n",
    "    x.append(int(row['genome-sizes']))\n",
    "    yr.append(secondsFromStr(row['runtime']))\n",
    "    ym.append(float(row['memory']))\n",
    "    \n",
    "fig = go.Figure()\n",
    "fig.add_trace(go.Scatter(x=x, y=yr, name=\"runtime\"))\n",
    "fig.update_xaxes(title_text='genome size')\n",
    "fig.update_yaxes(title_text='runtime [s]')\n",
    "fig.show()\n",
    "\n",
    "\n",
    "fig = go.Figure()\n",
    "fig.add_trace(go.Scatter(x=x, y=ym, name=\"memory [MB] N\"))\n",
    "fig.update_xaxes(title_text='genome size')\n",
    "fig.update_yaxes(title_text='Memory [MB]')\n",
    "fig.show()"
   ]
  },
  {
   "cell_type": "code",
   "execution_count": null,
   "metadata": {},
   "outputs": [],
   "source": [
    "x = []\n",
    "yr = []\n",
    "ym = []\n",
    "for _, row in dfNS.iterrows():\n",
    "    x.append(sum([int(s) for s in row['genome-sizes'].split()]))\n",
    "    yr.append(secondsFromStr(row['runtime']))\n",
    "    ym.append(float(row['memory']))\n",
    "    \n",
    "fig = go.Figure()\n",
    "fig.add_trace(go.Scatter(x=x, y=yr, name=\"runtime\"))\n",
    "fig.update_xaxes(title_text='genome size')\n",
    "fig.update_yaxes(title_text='runtime [s]')\n",
    "fig.show()\n",
    "\n",
    "\n",
    "fig = go.Figure()\n",
    "fig.add_trace(go.Scatter(x=x, y=ym, name=\"memory [MB] N\"))\n",
    "fig.update_xaxes(title_text='genome size')\n",
    "fig.update_yaxes(title_text='Memory [MB]')\n",
    "fig.show()"
   ]
  }
 ],
 "metadata": {
  "kernelspec": {
   "display_name": "Python 3",
   "language": "python",
   "name": "python3"
  },
  "language_info": {
   "codemirror_mode": {
    "name": "ipython",
    "version": 3
   },
   "file_extension": ".py",
   "mimetype": "text/x-python",
   "name": "python",
   "nbconvert_exporter": "python",
   "pygments_lexer": "ipython3",
   "version": "3.8.5"
  }
 },
 "nbformat": 4,
 "nbformat_minor": 4
}
