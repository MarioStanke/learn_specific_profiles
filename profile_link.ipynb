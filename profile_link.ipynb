{
 "cells": [
  {
   "cell_type": "markdown",
   "metadata": {},
   "source": [
    "### Custom ML model to identify local similarities (\"links\") with sequence profiles\n",
    "\n",
    "Let $$X \\in \\{0,1\\}^{B\\times N\\times 6 \\times T \\times 22}$$ be a batch of **one-hot encoded input translated sequences**,\n",
    "where $B$ is `batch_size`, $N$ is the number of genomes and $T$ is the `tile_size` (in aa).\n",
    "The 6 is here the number of translated frames in order (0,+),(1,+),(2,+),(0,-),(1,-),(2,-).\n",
    "The 22 is here the size of the considered amino acid alphabet.\n"
   ]
  },
  {
   "cell_type": "code",
   "execution_count": 1,
   "metadata": {},
   "outputs": [],
   "source": [
    "import numpy as np\n",
    "import tensorflow as tf\n",
    "\n",
    "import sequtils as su\n",
    "import seq"
   ]
  },
  {
   "cell_type": "markdown",
   "metadata": {},
   "source": [
    "### Create random genomes as toy data "
   ]
  },
  {
   "cell_type": "code",
   "execution_count": 2,
   "metadata": {},
   "outputs": [],
   "source": [
    "N = 4           # number of genomes\n",
    "tile_size = 20  # tile size measured in amino acids\n",
    "# A tile is a consecutive subsequence of _one_ contig/scaffold/chromosome.\n",
    "# Tiles should be about gene-sized.\n",
    "\n",
    "genome_sizes = [[210,100], [30,220,150], [230,110,120,90], [180]] # in nucleotides\n",
    "genomes = seq.getRandomGenomes(N, tile_size, genome_sizes)"
   ]
  },
  {
   "cell_type": "code",
   "execution_count": 3,
   "metadata": {},
   "outputs": [
    {
     "data": {
      "text/plain": [
       "[['TGAGGAGTCCCCCAAGGGGCACCGCCTAGGTAGATAAGACCGGGACTAAACGTGAACATTGCGGGTTACGCGTTTCCCTTTTGTTAGTCATTTTTTCCGACGAGCTGATTGGCTATTTAGCGTTCACCAGGCATACGGTTCCCTACGCTGTGGGTGGGATCACTCGAGTTTGCATAAACTAGTGGGGTGTGCTGCCGTAGCATCCGAGAA',\n",
       "  'GACAGTAGGCAATACTTATTCCGCTTTCTGCCTGCTTTCTGAAGGATTCTATCCATCGCAACACTACTAATAAAGCTTACATGCTGCGTTATTGAGCGCC'],\n",
       " ['ATGCATCATCATCAAATTGATATCACTCAT',\n",
       "  'CGACCGGGTTCTCCCTAAGTAACCCTTGCCTTCGGCTGAGTTCGACAACCACATACGAGGAGTAGGTTCCTTACGGTTATGTAAAAACTCCAAGCATACTCACAGACATCTGACTAGAAGGGTCCCCTTCGGGCTTATAAGGTCCTTTTCAACTCCGATTGAATAGTGACGGTCACGACAATTCGCCTTAAGTCCAGTGCTCTTTGGTGCCACCTAACCT',\n",
       "  'TAATGTGGTCGTGCCCCTGCTTAAGCGTTACACGCGTGCCATCAATCTGATAGAATCCTGGACTGTTCGCCAATACTAACATGGTGCATAATGCTCCCAGTGAGTAGCCTTGGTGAAAACAGAGGCGCATTACGGCCGGGCATCCTCAAC'],\n",
       " ['AGGGAGACCTTTTTTTAAATGACGCTGCCTTCGTTCTACGCAATATTTCACCCGAATCCTCACTCCCAGCTTCTTCAGGGGTGACTATTAGCAACCGAGGCGCCGTCCCGGGTCGGCCTGCTTTTCAGAGTGCAAGTCTGATGCATCTTACCGGAGAACCGTTGGACCGCAGAGTTCGTTCCTCGCTAGTTGCTTTGTGTGGGTATCAACTGCCAGTCGAATGCCAAACT',\n",
       "  'AGTTAGAGATAAGATTCCATGCTGCAACTTGGGGATATGTGTTGTGTACGCCACAAAGCTAGGCGAAAAATTAAGTTGGGCACTTTGGGTGATAACCCAACCCATTGAAG',\n",
       "  'TGAAGTTCTACAGTAAAGAATCTGTTCCGCCCCATATGTGGGATATACTGGACTCCCGATATTTGGGGTCAGGAATCCCGAACAAGAACCCTGACACCGAAGAAGAATCAGTGTAAGAGA',\n",
       "  'AGTGTTAGGGTTTCGCGGGACTGGGCGAGAATCATATCTGAGGTAGATCCGATTCACGGGGTCTTCCACTCCTTGCCGTGTTCGGCTGCC'],\n",
       " ['AGTCTTGCGCGATCTAAAAGACTGATGTTGTAAGATAAACAGGATTCAAATTTGTCGTGCACCATAGCTCCCTGGTTCGGAGTCAGAAAGGAAACCCTCGGATTAACGGCTGTTTTCCGAAACGCTTCGTGTCGCTCCGCACAGAGGGGCACAGGGCGATTCATCTAGGTTAACTTCACG']]"
      ]
     },
     "execution_count": 3,
     "metadata": {},
     "output_type": "execute_result"
    }
   ],
   "source": [
    "genomes"
   ]
  },
  {
   "cell_type": "code",
   "execution_count": 4,
   "metadata": {},
   "outputs": [
    {
     "name": "stdout",
     "output_type": "stream",
     "text": [
      "background freqs:  2840.0 *\n",
      "  0.0000\n",
      "C 0.0324\n",
      "K 0.0370\n",
      "E 0.0352\n",
      "W 0.0137\n",
      "T 0.0599\n",
      "G 0.0665\n",
      "Y 0.0243\n",
      "A 0.0577\n",
      "I 0.0447\n",
      "N 0.0345\n",
      "V 0.0602\n",
      "H 0.0310\n",
      "S 0.0951\n",
      "D 0.0289\n",
      "F 0.0398\n",
      "M 0.0137\n",
      "R 0.0870\n",
      "L 0.0940\n",
      "P 0.0658\n",
      "Q 0.0313\n",
      "* 0.0472\n"
     ]
    },
    {
     "data": {
      "text/plain": [
       "array([9.99900003e-05, 3.23911235e-02, 3.69681306e-02, 3.52077484e-02,\n",
       "       1.37310205e-02, 5.98531701e-02, 6.65426403e-02, 2.42933463e-02,\n",
       "       5.77407032e-02, 4.47138399e-02, 3.45035940e-02, 6.02052473e-02,\n",
       "       3.09828166e-02, 9.50609148e-02, 2.88703516e-02, 3.97847556e-02,\n",
       "       1.37310205e-02, 8.69631395e-02, 9.40046832e-02, 6.58384860e-02,\n",
       "       3.13348956e-02, 4.71783802e-02], dtype=float32)"
      ]
     },
     "execution_count": 4,
     "metadata": {},
     "output_type": "execute_result"
    }
   ],
   "source": [
    "Q = seq.backGroundAAFreqs(genomes, True)\n",
    "# set a small probability for 0-th character (missing aa) to avoid numerical error\n",
    "Q[0] = 0.0001\n",
    "Q /= Q.sum()\n",
    "Q"
   ]
  },
  {
   "cell_type": "markdown",
   "metadata": {},
   "source": [
    "#### Read in the genome"
   ]
  },
  {
   "cell_type": "code",
   "execution_count": 5,
   "metadata": {},
   "outputs": [
    {
     "data": {
      "text/plain": [
       "(2, 4, 6, 20, 22)"
      ]
     },
     "execution_count": 5,
     "metadata": {},
     "output_type": "execute_result"
    }
   ],
   "source": [
    "batch_size = 2  # constrained by RAM and gradient descent performance\n",
    "\n",
    "X = seq.getNextBatch(genomes, batch_size, tile_size, verbose=False)\n",
    "X.shape"
   ]
  },
  {
   "cell_type": "markdown",
   "metadata": {},
   "source": [
    "## TensorFlow Model\n",
    "Let $$P = (P[w,c,u]) \\in [0,1]^{k \\times 22 \\times U}$$\n",
    "be a collection of $U$ amino acid **profiles**, each of length $k$.\n",
    "Let $$ Q = (Q[c]) \\in [0,1]^{22}$$ be a background amino acid distribution.\n",
    "\n",
    "Both are normalized distributions:\n",
    "$$ \\sum_c P[w,c,u] = \\sum_c Q[c] = 1 \\qquad \\forall u,w.$$\n",
    "\n",
    "Define the scores tensor \n",
    "$$ S \\in \\mathbb{R}^ {B\\times N \\times U}$$\n",
    "by\n",
    "$$ S[b,g,u] = \\max_{f=0}^5 \\max_{v=0}^{T-k} \\sum_{w=0}^{k-1} \\sum_{c=0}^{21} X[b,g,f,v+w,c] \\cdot \\ln \\frac {P[w,c,u]}{Q[c]}.$$\n",
    "\n",
    "For a given batch $S[b,g,u]$ is the maximal score that the $u$-th profile scores in the $b$-th tile of genome $g$.\n",
    "It can be computed using a **one dimensional convolution** and max pooling.\n",
    "\n",
    "Define the intermediate variables:\n",
    "\n",
    "$R \\in [0,1]^{k \\times 22 \\times U}$ by \n",
    "$$ R[w,c,u] := \\ln \\frac {P[w,c,u]}{Q[c]}.$$\n",
    "\n",
    "$Z \\in \\mathbb{R}^{B\\times N \\times U \\times 6 \\times T-k-1}$ by\n",
    "$$Z[b,g,u,f,v] := \\sum_{w=0}^{k-1} \\sum_{c=0}^{21} X[b,g,f,v+w,c] \\cdot R[w,c,u].$$"
   ]
  },
  {
   "cell_type": "code",
   "execution_count": 6,
   "metadata": {},
   "outputs": [],
   "source": [
    "U = 2 # number of profiles to train\n",
    "k = 3 # length of profiles"
   ]
  },
  {
   "cell_type": "code",
   "execution_count": 7,
   "metadata": {},
   "outputs": [],
   "source": [
    "P_logit_init = tf.random.normal([k, su.aa_alphabet_size, U],\n",
    "                                stddev=1.,\n",
    "                                dtype=tf.float32,\n",
    "                                seed=1)"
   ]
  },
  {
   "cell_type": "code",
   "execution_count": 8,
   "metadata": {},
   "outputs": [],
   "source": [
    "P_logit = tf.Variable(P_logit_init)"
   ]
  },
  {
   "cell_type": "code",
   "execution_count": 9,
   "metadata": {},
   "outputs": [
    {
     "data": {
      "text/plain": [
       "<tf.Tensor: shape=(3, 22, 2), dtype=float32, numpy=\n",
       "array([[[0.01283871, 0.15297097],\n",
       "        [0.03084924, 0.00301303],\n",
       "        [0.03191357, 0.06260679],\n",
       "        [0.05227958, 0.00414839],\n",
       "        [0.01402562, 0.0327656 ],\n",
       "        [0.0549997 , 0.02661102],\n",
       "        [0.18501115, 0.06115986],\n",
       "        [0.01970647, 0.00784837],\n",
       "        [0.10205929, 0.03379603],\n",
       "        [0.02217916, 0.16052717],\n",
       "        [0.00505716, 0.0223708 ],\n",
       "        [0.01640806, 0.04776622],\n",
       "        [0.08971284, 0.00355158],\n",
       "        [0.04683332, 0.00932726],\n",
       "        [0.04129053, 0.00614332],\n",
       "        [0.02776053, 0.08522641],\n",
       "        [0.00726591, 0.15249194],\n",
       "        [0.02260764, 0.01665986],\n",
       "        [0.02375722, 0.03723903],\n",
       "        [0.05442174, 0.00720272],\n",
       "        [0.10919815, 0.01072184],\n",
       "        [0.02982442, 0.05585181]],\n",
       "\n",
       "       [[0.05235683, 0.02591239],\n",
       "        [0.02155031, 0.00584429],\n",
       "        [0.03832261, 0.01645906],\n",
       "        [0.01603701, 0.02683151],\n",
       "        [0.0047699 , 0.02537894],\n",
       "        [0.09475918, 0.16156894],\n",
       "        [0.04236398, 0.02673218],\n",
       "        [0.04425489, 0.20392275],\n",
       "        [0.08520085, 0.00453775],\n",
       "        [0.02469886, 0.1193271 ],\n",
       "        [0.06775806, 0.01225557],\n",
       "        [0.03428749, 0.01222909],\n",
       "        [0.02813644, 0.00391928],\n",
       "        [0.21065035, 0.12331232],\n",
       "        [0.02415727, 0.03417592],\n",
       "        [0.02417418, 0.02615607],\n",
       "        [0.01570864, 0.02669355],\n",
       "        [0.02518976, 0.01582552],\n",
       "        [0.00907242, 0.05177225],\n",
       "        [0.0403947 , 0.00454144],\n",
       "        [0.05083409, 0.01299152],\n",
       "        [0.04532224, 0.05961255]],\n",
       "\n",
       "       [[0.16606098, 0.02588807],\n",
       "        [0.00337157, 0.0127292 ],\n",
       "        [0.03955268, 0.01195593],\n",
       "        [0.02523167, 0.04730445],\n",
       "        [0.00630493, 0.03350794],\n",
       "        [0.00237382, 0.16904624],\n",
       "        [0.04420507, 0.03947788],\n",
       "        [0.00413458, 0.03750566],\n",
       "        [0.02398443, 0.02176237],\n",
       "        [0.07506382, 0.02053451],\n",
       "        [0.12450492, 0.07300703],\n",
       "        [0.00690369, 0.00619634],\n",
       "        [0.06475177, 0.02305818],\n",
       "        [0.01572219, 0.06084945],\n",
       "        [0.00957711, 0.0309147 ],\n",
       "        [0.01870122, 0.03100924],\n",
       "        [0.05288934, 0.0232062 ],\n",
       "        [0.08702864, 0.03435452],\n",
       "        [0.02905332, 0.01742814],\n",
       "        [0.05847539, 0.09323735],\n",
       "        [0.04586333, 0.0219409 ],\n",
       "        [0.0962455 , 0.16508567]]], dtype=float32)>"
      ]
     },
     "execution_count": 9,
     "metadata": {},
     "output_type": "execute_result"
    }
   ],
   "source": [
    "P = tf.nn.softmax(P_logit, axis=1)\n",
    "P"
   ]
  },
  {
   "cell_type": "code",
   "execution_count": 10,
   "metadata": {},
   "outputs": [
    {
     "data": {
      "text/plain": [
       "<tf.Tensor: shape=(3, 22, 2), dtype=float32, numpy=\n",
       "array([[[ 4.8551497e+00,  7.3329334e+00],\n",
       "        [-4.8772138e-02, -2.3749392e+00],\n",
       "        [-1.4702488e-01,  5.2681756e-01],\n",
       "        [ 3.9533973e-01, -2.1385465e+00],\n",
       "        [ 2.1228012e-02,  8.6972153e-01],\n",
       "        [-8.4566675e-02, -8.1056905e-01],\n",
       "        [ 1.0225731e+00, -8.4351800e-02],\n",
       "        [-2.0925546e-01, -1.1298963e+00],\n",
       "        [ 5.6959158e-01, -5.3561908e-01],\n",
       "        [-7.0112979e-01,  1.2781801e+00],\n",
       "        [-1.9202578e+00, -4.3330696e-01],\n",
       "        [-1.2999866e+00, -2.3144084e-01],\n",
       "        [ 1.0631812e+00, -2.1660404e+00],\n",
       "        [-7.0792294e-01, -2.3215771e+00],\n",
       "        [ 3.5781801e-01, -1.5474491e+00],\n",
       "        [-3.5986865e-01,  7.6182753e-01],\n",
       "        [-6.3646358e-01,  2.4074543e+00],\n",
       "        [-1.3471963e+00, -1.6524822e+00],\n",
       "        [-1.3754580e+00, -9.2598718e-01],\n",
       "        [-1.9044092e-01, -2.2127457e+00],\n",
       "        [ 1.2484318e+00, -1.0724500e+00],\n",
       "        [-4.5860830e-01,  1.6876614e-01]],\n",
       "\n",
       "       [[ 6.2607675e+00,  5.5574064e+00],\n",
       "        [-4.0749419e-01, -1.7124197e+00],\n",
       "        [ 3.5983842e-02, -8.0918020e-01],\n",
       "        [-7.8636730e-01, -2.7168933e-01],\n",
       "        [-1.0573325e+00,  6.1426198e-01],\n",
       "        [ 4.5944434e-01,  9.9303758e-01],\n",
       "        [-4.5154446e-01, -9.1197491e-01],\n",
       "        [ 5.9976333e-01,  2.1275387e+00],\n",
       "        [ 3.8904911e-01, -2.5435319e+00],\n",
       "        [-5.9352583e-01,  9.8158538e-01],\n",
       "        [ 6.7487997e-01, -1.0350832e+00],\n",
       "        [-5.6297898e-01, -1.5939419e+00],\n",
       "        [-9.6367359e-02, -2.0675259e+00],\n",
       "        [ 7.9568177e-01,  2.6020247e-01],\n",
       "        [-1.7822984e-01,  1.6870603e-01],\n",
       "        [-4.9819851e-01, -4.1940248e-01],\n",
       "        [ 1.3455313e-01,  6.6476429e-01],\n",
       "        [-1.2390468e+00, -1.7038605e+00],\n",
       "        [-2.3381059e+00, -5.9649026e-01],\n",
       "        [-4.8850584e-01, -2.6739607e+00],\n",
       "        [ 4.8383477e-01, -8.8043529e-01],\n",
       "        [-4.0137790e-02,  2.3393044e-01]],\n",
       "\n",
       "       [[ 7.4150400e+00,  5.5564671e+00],\n",
       "        [-2.2625048e+00, -9.3398607e-01],\n",
       "        [ 6.7577362e-02, -1.1288285e+00],\n",
       "        [-3.3316621e-01,  2.9533812e-01],\n",
       "        [-7.7832526e-01,  8.9212477e-01],\n",
       "        [-3.2273932e+00,  1.0382779e+00],\n",
       "        [-4.0900335e-01, -5.2210248e-01],\n",
       "        [-1.7708175e+00,  4.3428946e-01],\n",
       "        [-8.7855744e-01, -9.7578007e-01],\n",
       "        [ 5.1805562e-01, -7.7817613e-01],\n",
       "        [ 1.2832817e+00,  7.4949235e-01],\n",
       "        [-2.1657028e+00, -2.2738013e+00],\n",
       "        [ 7.3712820e-01, -2.9541206e-01],\n",
       "        [-1.7994447e+00, -4.4611514e-01],\n",
       "        [-1.1034395e+00,  6.8416670e-02],\n",
       "        [-7.5489485e-01, -2.4919863e-01],\n",
       "        [ 1.3485442e+00,  5.2476215e-01],\n",
       "        [ 7.5299991e-04, -9.2875075e-01],\n",
       "        [-1.1742120e+00, -1.6852586e+00],\n",
       "        [-1.1859855e-01,  3.4794384e-01],\n",
       "        [ 3.8093355e-01, -3.5637987e-01],\n",
       "        [ 7.1296650e-01,  1.2525288e+00]]], dtype=float32)>"
      ]
     },
     "execution_count": 10,
     "metadata": {},
     "output_type": "execute_result"
    }
   ],
   "source": [
    "Q1 = tf.expand_dims(Q,0)\n",
    "Q2 = tf.expand_dims(Q1,-1)\n",
    "R = tf.math.log(P/Q2)\n",
    "R"
   ]
  },
  {
   "cell_type": "code",
   "execution_count": 11,
   "metadata": {},
   "outputs": [
    {
     "data": {
      "text/plain": [
       "TensorShape([3, 22, 2])"
      ]
     },
     "execution_count": 11,
     "metadata": {},
     "output_type": "execute_result"
    }
   ],
   "source": [
    "R.shape"
   ]
  },
  {
   "cell_type": "code",
   "execution_count": 12,
   "metadata": {},
   "outputs": [
    {
     "name": "stdout",
     "output_type": "stream",
     "text": [
      "X  (2, 4, 6, 20, 22, 1) \tR  (3, 22, 1, 2)\n",
      "Z shape:  (2, 4, 6, 18, 2)\n"
     ]
    }
   ],
   "source": [
    "X1 = tf.expand_dims(X,-1) # 1 input channel\n",
    "R1 = tf.expand_dims(R,-2) # 1 input channel\n",
    "print (\"X \", X1.shape, \"\\tR \", R1.shape)\n",
    "Z1 = tf.nn.conv2d(X1, R1, strides=1,\n",
    "                 padding='VALID', data_format=\"NHWC\", name=\"Z\")\n",
    "Z = tf.squeeze(Z1, 4) # remove input channel dimension \n",
    "print(\"Z shape: \", Z.shape)"
   ]
  },
  {
   "cell_type": "code",
   "execution_count": 13,
   "metadata": {},
   "outputs": [
    {
     "data": {
      "text/plain": [
       "<tf.Tensor: shape=(18, 2), dtype=float32, numpy=\n",
       "array([[-3.0758557 , -3.0170102 ],\n",
       "       [ 0.34099555, -1.3303499 ],\n",
       "       [-1.4075589 , -3.2617812 ],\n",
       "       [-0.1156095 , -3.6152835 ],\n",
       "       [-0.08167011, -2.960205  ],\n",
       "       [ 1.2930237 , -2.27994   ],\n",
       "       [-0.03751284, -2.861636  ],\n",
       "       [-0.67819375, -5.8154573 ],\n",
       "       [-0.7165212 , -2.6640773 ],\n",
       "       [-0.8692785 , -2.1967278 ],\n",
       "       [-1.0513811 ,  0.22160077],\n",
       "       [-2.0587752 , -0.07773656],\n",
       "       [-2.2447054 , -4.848545  ],\n",
       "       [-1.8161974 , -4.8099794 ],\n",
       "       [-0.03225112,  0.06865031],\n",
       "       [-2.8662808 , -4.234872  ],\n",
       "       [-1.1999551 , -1.2777566 ],\n",
       "       [-0.10705101, -2.0447001 ]], dtype=float32)>"
      ]
     },
     "execution_count": 13,
     "metadata": {},
     "output_type": "execute_result"
    }
   ],
   "source": [
    "Z[0,0,0]"
   ]
  },
  {
   "cell_type": "code",
   "execution_count": 14,
   "metadata": {},
   "outputs": [],
   "source": [
    "dataset = tf.data.Dataset.from_tensor_slices(X)"
   ]
  },
  {
   "cell_type": "code",
   "execution_count": 15,
   "metadata": {},
   "outputs": [
    {
     "data": {
      "text/plain": [
       "TensorShape([22, 1])"
      ]
     },
     "execution_count": 15,
     "metadata": {},
     "output_type": "execute_result"
    }
   ],
   "source": [
    "Q = tf.expand_dims(Q,-1)\n",
    "Q.shape"
   ]
  },
  {
   "cell_type": "code",
   "execution_count": null,
   "metadata": {},
   "outputs": [],
   "source": []
  },
  {
   "cell_type": "code",
   "execution_count": null,
   "metadata": {},
   "outputs": [],
   "source": []
  }
 ],
 "metadata": {
  "kernelspec": {
   "display_name": "Python 3",
   "language": "python",
   "name": "python3"
  },
  "language_info": {
   "codemirror_mode": {
    "name": "ipython",
    "version": 3
   },
   "file_extension": ".py",
   "mimetype": "text/x-python",
   "name": "python",
   "nbconvert_exporter": "python",
   "pygments_lexer": "ipython3",
   "version": "3.8.10"
  }
 },
 "nbformat": 4,
 "nbformat_minor": 4
}
