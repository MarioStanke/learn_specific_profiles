{
 "cells": [
  {
   "cell_type": "markdown",
   "metadata": {},
   "source": [
    "### Custom ML model to identify local similarities (\"links\") with sequence profiles\n",
    "\n",
    "Let $$X \\in \\{0,1\\}^{B\\times N\\times 6 \\times T \\times 21}$$ be a batch of **one-hot encoded input translated sequences**,\n",
    "where $B$ is `batch_size`, $N$ is the number of genomes and $T$ is the `tile_size` (in aa).\n",
    "The 6 is here the number of translated frames in order (0,+),(1,+),(2,+),(0,-),(1,-),(2,-).\n",
    "The 22 is here the size of the considered amino acid alphabet.\n"
   ]
  },
  {
   "cell_type": "code",
   "execution_count": 2,
   "metadata": {},
   "outputs": [
    {
     "name": "stdout",
     "output_type": "stream",
     "text": [
      "<module 'sequtils' from '/home/matthis/genomegraph/learn_specific_profiles/sequtils.py'>\n",
      "<module 'seq' from '/home/matthis/genomegraph/learn_specific_profiles/seq.py'>\n",
      "<module 'dataset' from '/home/matthis/genomegraph/learn_specific_profiles/dataset.py'>\n",
      "2.3.1\n"
     ]
    }
   ],
   "source": [
    "import matplotlib.pyplot as plt\n",
    "import numpy as np\n",
    "import pickle\n",
    "import tensorflow as tf\n",
    "import logomaker\n",
    "from time import time\n",
    "from tqdm import tqdm\n",
    "from IPython.display import Audio\n",
    "\n",
    "import importlib\n",
    "import sequtils as su\n",
    "print(importlib.reload(su))\n",
    "import seq\n",
    "print(importlib.reload(seq))\n",
    "import dataset as dsg\n",
    "print(importlib.reload(dsg))\n",
    "\n",
    "print(tf.__version__)\n",
    "\n",
    "%load_ext memory_profiler"
   ]
  },
  {
   "cell_type": "markdown",
   "metadata": {},
   "source": [
    "### Create random genomes as toy data "
   ]
  },
  {
   "cell_type": "code",
   "execution_count": 3,
   "metadata": {},
   "outputs": [
    {
     "name": "stdout",
     "output_type": "stream",
     "text": [
      "{0: {0: {'pos': [591], 'pattern': ['ATGGCAAGGATTCAATCTACTGCAAATAAAGAG']}}, 1: {0: {'pos': [776], 'pattern': ['ATGGCAAGAATTCAATCCACCGCAAATAAAGAA']}}, 2: {0: {'pos': [658], 'pattern': ['ATGGCAAGAATTCAGTCTACTGCAAATAAGGAA']}}, 3: {0: {'pos': [854], 'pattern': ['ATTGCAAGAATTCAATCTACTGCAAATAAAGAA']}}, 4: {0: {'pos': [452], 'pattern': ['ATGGCAAGAATTCAGTCTACAGCAAATAAAGAA']}}, 5: {0: {'pos': [190], 'pattern': ['ATGGCAAGAATTCAATCTACTGCAAATAAAGAA']}}, 6: {0: {'pos': [756], 'pattern': ['ATGGCAAGAATCCAATCCACTGCGAATAAAGAA']}}, 7: {0: {'pos': [456], 'pattern': ['ATGGCCAGAATACAATCAACTGCAAATAAAGAA']}}}\n"
     ]
    }
   ],
   "source": [
    "N = 8            # number of genomes\n",
    "tile_size = 334  # tile size measured in amino acids\n",
    "# A tile is a consecutive subsequence of _one_ contig/scaffold/chromosome.\n",
    "# Tiles should be about gene-sized.\n",
    "\n",
    "#genome_sizes = [[210,100], [30,220,150], [230,110,120,90], [180]] # in nucleotides\n",
    "#insertPatterns = [\"ATGATGATG\", \"CCCCCCCCCCCC\"]\n",
    "#genomes = seq.getRandomGenomes(N, genome_sizes, insertPatterns, mutationProb=0.2, verbose=True)\n",
    "\n",
    "genome_sizes = [[1000]] * N\n",
    "                # in nucleotides\n",
    "insertPatterns = [\"ATGGCAAGAATTCAATCTACTGCAAATAAAGAA\",\n",
    "                 ] \n",
    "repeatPatterns = ['AGAGAACCTGAAGCTACTGCTGAACCTGAAAGA']\n",
    "genomes, repeatTracking, insertTracking = seq.getRandomGenomes(N, genome_sizes, insertPatterns,\n",
    "                                                               repeatPatterns,\n",
    "                                                               mutationProb=0.1, \n",
    "                                                               repeatMultiple=range(1,20),\n",
    "                                                               repeatInsert=range(1,20),\n",
    "                                                               verbose=False)\n",
    "print(insertTracking)"
   ]
  },
  {
   "cell_type": "code",
   "execution_count": 4,
   "metadata": {},
   "outputs": [
    {
     "name": "stdout",
     "output_type": "stream",
     "text": [
      "Desired: ['MARIQSTANKE', 'WQEFNLLQIK', 'GKNSIYCK*R', 'FFICSRLNSCH', 'SLFAVD*ILA', 'LYLQ*IEFLP']\n",
      "Repeat: ['REPEATAEPER', 'ENLKLLLNLK', 'RT*SYC*T*K', 'SFRFSSSFRFS', 'LSGSAVASGS', 'FQVQQ*LQVL']\n"
     ]
    }
   ],
   "source": [
    "def printExpectedPatterns():\n",
    "    desiredPatternAA, repeatPatternAA = None, None\n",
    "    if insertPatterns is not None:\n",
    "        desiredPatternAA = []\n",
    "        for pattern in insertPatterns:\n",
    "            desiredPatternAA.extend(su.six_frame_translation(pattern))\n",
    "\n",
    "        print(\"Desired:\", desiredPatternAA)\n",
    "\n",
    "    if repeatPatterns is not None:\n",
    "        repeatPatternAA = []\n",
    "        for pattern in repeatPatterns:\n",
    "            repeatPatternAA.extend(su.six_frame_translation(pattern))\n",
    "\n",
    "        print(\"Repeat:\", repeatPatternAA)\n",
    "        \n",
    "    return desiredPatternAA, repeatPatternAA\n",
    "\n",
    "desiredPatternAA, repeatPatternAA = printExpectedPatterns()"
   ]
  },
  {
   "cell_type": "markdown",
   "metadata": {},
   "source": [
    "---\n",
    "\n",
    "#### Interlude: Magic Commands\n",
    "\n",
    "https://towardsdatascience.com/speed-up-jupyter-notebooks-20716cbe2025\n",
    "\n",
    "`%time command` prints runtime of command  \n",
    "`%prun command` profiler for command, what steps take how much time? Adds overhead  \n",
    "`%memit command` peak memory usage and memory increment  \n",
    "`%mprun command` memory profiling\n",
    "\n",
    "---"
   ]
  },
  {
   "cell_type": "code",
   "execution_count": 5,
   "metadata": {},
   "outputs": [
    {
     "name": "stdout",
     "output_type": "stream",
     "text": [
      "background freqs:  15968.0 *\n",
      "C 0.0312\n",
      "K 0.0369\n",
      "E 0.0311\n",
      "W 0.0116\n",
      "T 0.0615\n",
      "G 0.0661\n",
      "Y 0.0259\n",
      "A 0.0639\n",
      "I 0.0369\n",
      "N 0.0277\n",
      "V 0.0614\n",
      "H 0.0222\n",
      "S 0.0967\n",
      "D 0.0328\n",
      "F 0.0323\n",
      "M 0.0104\n",
      "R 0.0984\n",
      "L 0.1036\n",
      "P 0.0661\n",
      "Q 0.0358\n",
      "* 0.0473\n",
      "CPU times: user 20 ms, sys: 4 ms, total: 24 ms\n",
      "Wall time: 23.6 ms\n"
     ]
    }
   ],
   "source": [
    "# Load Real Data\n",
    "if False:\n",
    "    from Bio import SeqIO\n",
    "    import os\n",
    "    \n",
    "    files = ['hg38.fa', 'mm10.fa', 'hetGla2.fa', 'macFas5.fa']\n",
    "    genomes = [[] for _ in range(len(files))]\n",
    "    datapath = \"/nas-hs/projs/seedFinding/data/20210517_flanked/\"\n",
    "    def loadRealGenomes(genomes=genomes):\n",
    "        for i in range(len(files)):\n",
    "            genomes[i].extend([str(seq.seq) for seq in SeqIO.parse(os.path.join(datapath, files[i]), 'fasta')])\n",
    "            \n",
    "    %memit loadRealGenomes()\n",
    "    \n",
    "    # load pickled Q to safe time\n",
    "    Qfile = os.path.join(datapath, \"backgroundAAFreqs.pkl4\")\n",
    "    if not os.path.isfile(Qfile):\n",
    "        print(\"Getting Q\")\n",
    "        %time Q = seq.backGroundAAFreqs(genomes, True)\n",
    "        with open(Qfile, 'wb') as fh:\n",
    "            pickle.dump(Q, fh, protocol=4)\n",
    "            \n",
    "    else:\n",
    "        with open(Qfile, 'rb') as fh:\n",
    "            Q = pickle.load(fh)\n",
    "    \n",
    "else:\n",
    "    %time Q = seq.backGroundAAFreqs(genomes, True)"
   ]
  },
  {
   "cell_type": "markdown",
   "metadata": {},
   "source": [
    "For seedFinding data on gs3\n",
    "\n",
    "    background freqs:  765611260.0 *\n",
    "    C 0.0329\n",
    "    K 0.0412\n",
    "    E 0.0332\n",
    "    W 0.0165\n",
    "    T 0.0578\n",
    "    G 0.0558\n",
    "    Y 0.0334\n",
    "    A 0.0510\n",
    "    I 0.0546\n",
    "    N 0.0361\n",
    "    V 0.0578\n",
    "    H 0.0321\n",
    "    S 0.0929\n",
    "    D 0.0280\n",
    "    F 0.0406\n",
    "    M 0.0172\n",
    "    R 0.0710\n",
    "    L 0.1039\n",
    "    P 0.0558\n",
    "    Q 0.0352\n",
    "    * 0.0527\n",
    "    CPU times: user 7min 14s, sys: 1.69 s, total: 7min 16s\n",
    "    Wall time: 7min 16s"
   ]
  },
  {
   "cell_type": "code",
   "execution_count": 6,
   "metadata": {},
   "outputs": [
    {
     "name": "stdout",
     "output_type": "stream",
     "text": [
      "8 1 1000\n"
     ]
    }
   ],
   "source": [
    "print(len(genomes), len(genomes[0]), len(genomes[0][0]))"
   ]
  },
  {
   "cell_type": "code",
   "execution_count": 7,
   "metadata": {},
   "outputs": [],
   "source": [
    "# uniform background distribution appears to be rather better\n",
    "#Q = np.ones(21, dtype=np.float32)/21"
   ]
  },
  {
   "cell_type": "markdown",
   "metadata": {},
   "source": [
    "#### Read in the genome"
   ]
  },
  {
   "cell_type": "code",
   "execution_count": 8,
   "metadata": {},
   "outputs": [
    {
     "data": {
      "text/plain": [
       "'CCCCGGAGACTGATTAGATTGCTTTTCGCCTACCGATAGACCACAAAGCCTCTAATCAACGATACCTAGCCACAATTGCATCCCGCGACCTACTCAAGCC'"
      ]
     },
     "execution_count": 8,
     "metadata": {},
     "output_type": "execute_result"
    }
   ],
   "source": [
    "genomes[0][0][0:100]"
   ]
  },
  {
   "cell_type": "code",
   "execution_count": 9,
   "metadata": {},
   "outputs": [
    {
     "name": "stderr",
     "output_type": "stream",
     "text": [
      "1it [00:01,  1.31s/it]"
     ]
    },
    {
     "name": "stdout",
     "output_type": "stream",
     "text": [
      "[INFO] >>> testGenerator: rc frames shifted, otherwise all good\n"
     ]
    },
    {
     "name": "stderr",
     "output_type": "stream",
     "text": [
      "\n"
     ]
    }
   ],
   "source": [
    "dsg.testGenerator(genomes, tile_size)"
   ]
  },
  {
   "cell_type": "code",
   "execution_count": null,
   "metadata": {},
   "outputs": [],
   "source": [
    "#batch_size = 1  # number of tile per batch, constrained by RAM and gradient descent performance\n",
    "#batch_size = np.math.ceil(maxGenomeLen/(3 * tile_size + 2)) # 124199, OOM on greifserv3 (need 78 GB)\n",
    "#batch_size = 5000\n",
    "#print(batch_size)\n",
    "\n",
    "#%time %memit \n",
    "#X = seq.getNextBatch(genomes, batch_size, tile_size, verbose=False)\n",
    "#X.shape"
   ]
  },
  {
   "cell_type": "code",
   "execution_count": 10,
   "metadata": {},
   "outputs": [
    {
     "name": "stdout",
     "output_type": "stream",
     "text": [
      "[1000, 1000, 1000, 1000, 1000, 1000, 1000, 1000]  ->  0.0\n"
     ]
    }
   ],
   "source": [
    "genome_sizes = [sum([len(s) for s in genome]) for genome in genomes]\n",
    "batch_size = 1  # number of X to generate per batch\n",
    "tiles_per_X = 15 # number of tiles per X (-> X.shape[0])\n",
    "steps_per_epoch = np.mean(genome_sizes) // (batch_size*tiles_per_X*tile_size*3)\n",
    "print(genome_sizes, \" -> \", steps_per_epoch)"
   ]
  },
  {
   "cell_type": "code",
   "execution_count": 11,
   "metadata": {},
   "outputs": [],
   "source": [
    "def getDataset():\n",
    "    ds = tf.data.Dataset.from_generator(\n",
    "        dsg.createBatch,\n",
    "        #args = (tf.constant(genomes, dtype=tf.string), tf.constant(tiles_per_X), tf.constant(tile_size)),\n",
    "        args = (tf.constant(tiles_per_X), tf.constant(tile_size), tf.constant(genomes, dtype=tf.string)),\n",
    "        \n",
    "        # vvv used in newer versions of TF vvv\n",
    "        # output_signature = (tf.TensorSpec(shape = [batch_size, len(genomes), 6, tile_size, su.aa_alphabet_size], \n",
    "        #                                   dtype = tf.float32))\n",
    "        \n",
    "        # vvv deprecated in newer versions of TF vvv\n",
    "        output_types = tf.float32,\n",
    "        output_shapes = tf.TensorShape([tiles_per_X, len(genomes), 6, tile_size, su.aa_alphabet_size])\n",
    "    )\n",
    "    return ds"
   ]
  },
  {
   "cell_type": "markdown",
   "metadata": {},
   "source": [
    "---\n",
    "\n",
    "#### Plot Functions"
   ]
  },
  {
   "cell_type": "code",
   "execution_count": 12,
   "metadata": {},
   "outputs": [],
   "source": [
    "def plotLogo(P, idxarray = None, pScores = None, max_print=5):\n",
    "    \"\"\"\n",
    "    max_print  print up to this many logos\n",
    "    \"\"\"\n",
    "    dfs = su.makeDFs(P.numpy())\n",
    "    for i in range(min(U,max_print)):\n",
    "        j = idxarray[i] if idxarray is not None else i\n",
    "        profile_df = dfs[j]\n",
    "        logo = logomaker.Logo(profile_df, vpad=.1, width=1)\n",
    "        logo.style_xticks(anchor=0, spacing=1, rotation=45)\n",
    "        logo.ax.set_ylabel('information (bits)')\n",
    "        logo.ax.set_title(f\"Profile {j}\" + (f\" score={pScores[j]:.1f}\") if pScores is not None else \"\")"
   ]
  },
  {
   "cell_type": "code",
   "execution_count": 13,
   "metadata": {},
   "outputs": [],
   "source": [
    "# plot the training history as loss and accuracy curves\n",
    "def plotHistory(history):\n",
    "    loss = history['loss']\n",
    "    Rmax = history['Rmax']\n",
    "    Rmin = history['Rmin']\n",
    "    Smax = history['Smax']\n",
    "    Smin = history['Smin']\n",
    "    epochs = range(1, len(loss) + 1)\n",
    "\n",
    "    fig, ax = plt.subplots(ncols = 2, figsize = (15, 6))\n",
    "    ax[0].plot(epochs, loss, 'bo', label = 'Training loss')\n",
    "    ax[0].set_title('Training loss')\n",
    "    ax[0].legend()\n",
    "\n",
    "    ax[1].plot(epochs, Rmax, 'bo', label = 'Rmax')\n",
    "    ax[1].plot(epochs, Rmin, 'b+', label = 'Rmin')\n",
    "    ax[1].plot(epochs, Smax, 'go', label = 'Smax')\n",
    "    ax[1].plot(epochs, Smin, 'g+', label = 'Smin')\n",
    "    ax[1].set_title('Training R and S')\n",
    "    ax[1].legend();\n",
    "    \n",
    "    return fig, ax"
   ]
  },
  {
   "cell_type": "markdown",
   "metadata": {},
   "source": [
    "## TensorFlow Model\n",
    "Let $$P = (P[w,c,u]) \\in [0,1]^{k \\times 21 \\times U}$$\n",
    "be a collection of $U$ amino acid **profiles**, each of length $k$.\n",
    "Let $$ Q = (Q[c]) \\in [0,1]^{21}$$ be a background amino acid distribution.\n",
    "\n",
    "Both are normalized distributions:\n",
    "$$ \\sum_c P[w,c,u] = \\sum_c Q[c] = 1 \\qquad \\forall u,w.$$\n",
    "\n",
    "Define the scores tensor \n",
    "$$ S \\in \\mathbb{R}^ {B\\times N \\times U}$$\n",
    "by\n",
    "$$ S[b,g,u] = \\max_{f=0}^5 \\max_{v=0}^{T-k} \\sum_{w=0}^{k-1} \\sum_{c=0}^{20} X[b,g,f,v+w,c] \\cdot \\ln \\frac {P[w,c,u]}{Q[c]}.$$\n",
    "\n",
    "For a given batch $S[b,g,u]$ is the maximal score that the $u$-th profile scores in the $b$-th tile of genome $g$.\n",
    "It can be computed using a **one dimensional convolution** and max pooling.\n",
    "\n",
    "Define the intermediate variables:\n",
    "\n",
    "$R \\in [0,1]^{k \\times 21 \\times U}$ by \n",
    "$$ R[w,c,u] := \\ln \\frac {P[w,c,u]}{Q[c]}.$$\n",
    "\n",
    "$Z \\in \\mathbb{R}^{B\\times N \\times 6 \\times T-k-1\\times U}$ by\n",
    "$$Z[b,g,f,v,u] := \\sum_{w=0}^{k-1} \\sum_{c=0}^{20} X[b,g,f,v+w,c] \\cdot R[w,c,u].$$\n",
    "\n",
    "**Losses:**\n",
    "Only the best score counts for each frame and tile. Sum them up.\n",
    "$$L_1 = - \\sum_{b=1}^B \\sum_{g=1}^G \\sum_{u=1}^U S[b,g,u]$$ "
   ]
  },
  {
   "cell_type": "code",
   "execution_count": 14,
   "metadata": {},
   "outputs": [],
   "source": [
    "U = 100 # number of profiles to train\n",
    "k = 11 # length of profiles"
   ]
  },
  {
   "cell_type": "code",
   "execution_count": 15,
   "metadata": {},
   "outputs": [],
   "source": [
    "class SpecificProfile(tf.keras.Model):\n",
    "    def __init__(self, k, alphabet_size, units, Q, **kwargs):\n",
    "        super().__init__(**kwargs)\n",
    "        # P_logit_init = tf.random.normal([k, alphabet_size, units], stddev=.5, dtype=tf.float32, seed=1)\n",
    "        \n",
    "        #np.random.seed(1)\n",
    "        #P_logit_init = np.random.normal(scale=.5, size=[k, alphabet_size, units]).astype('float32')\n",
    "        \n",
    "        Q1 = tf.expand_dims(Q,0)\n",
    "        Q2 = tf.expand_dims(Q1,-1)\n",
    "        P_logit_like_Q = np.log(Q2.numpy())\n",
    "        P_logit_init = P_logit_like_Q + np.random.normal(scale=.01, size=[k, alphabet_size, units]).astype('float32')\n",
    "        \n",
    "        #P_logit_init[4,19,:] = 5 # Q\n",
    "        #P_logit_init[5,12,:] = 5 # S\n",
    "        #P_logit_init[6,4,:] = 5 # T\n",
    "        if False: # to test whether the right pattern has low loss\n",
    "            P_logit_init = -100 *np.ones([k, 21, units], dtype=np.float32)\n",
    "            P_logit_init[0,15,:] = 5 # M\n",
    "            P_logit_init[1,7,:] = 5 # A\n",
    "            P_logit_init[2,16,:] = 5 # R\n",
    "            P_logit_init[3,8,:] = 5 # I\n",
    "            P_logit_init[4,19,:] = 5 # Q\n",
    "            P_logit_init[5,12,:] = 5 # S\n",
    "            P_logit_init[6,4,:] = 5 # T\n",
    "            P_logit_init[7,7,:] = 5 # A\n",
    "            P_logit_init[8,9,:] = 5 # N\n",
    "            P_logit_init[9,1,:] = 5 # K\n",
    "            P_logit_init[10,2,:] = 5 # E\n",
    "\n",
    "        self.P_logit = tf.Variable(P_logit_init, trainable=True, name=\"P_logit\") \n",
    "        self.Q = Q\n",
    "        self.k = k\n",
    "        self.alphabet_size = alphabet_size\n",
    "        self.units = units\n",
    "        self.history = {'loss': [],\n",
    "                        'Rmax': [],\n",
    "                        'Rmin': [],\n",
    "                        'Smax': [],\n",
    "                        'Smin': []}\n",
    "        \n",
    "    # return for each profile the best score at any position in the dataset\n",
    "    def get_profile_match_sites(self, ds, threshold, aa_tile_size, genomes):\n",
    "        # dict of dicts of dict, for each genome, map each contig to a dict that collects profile indices and positions\n",
    "        #   (given that the profile matches with score above threshold for that genome, contig and position)\n",
    "        sites = {}\n",
    "        \n",
    "        # in dataset generator, sequences get padded to fit in multiples of 3*aa_tile_size\n",
    "        dna_tile_size = aa_tile_size*3\n",
    "        dsSequenceLens = [[0 for _ in range(len(genomes[g]))] for g in range(len(genomes))]\n",
    "        dsSequenceLenSum = [[0 for _ in range(len(genomes[g]))] for g in range(len(genomes))]\n",
    "        dsGenomeLens = [0 for _ in range(len(dsSequenceLens))]\n",
    "        for g in range(len(genomes)):\n",
    "            for c in range(len(genomes[g])):\n",
    "                dsSeqLen = np.math.ceil(len(genomes[g][c])/dna_tile_size)\n",
    "                dsGenomeLens[g] += dsSeqLen\n",
    "                dsSequenceLens[g][c] = dsSeqLen\n",
    "                dsSequenceLenSum[g][c] = dsSeqLen\n",
    "                if c >= 1:\n",
    "                    dsSequenceLenSum[g][c] += dsSequenceLenSum[g][c-1] # running total\n",
    "                    \n",
    "        cIdx = [0 for _ in range(len(genomes))] # track contigs to convert position\n",
    "        tilesIdx = 0\n",
    "        for batch in ds:\n",
    "            for X in batch:\n",
    "                ntiles = X.shape[0]\n",
    "                # update contig indices\n",
    "                for g in range(len(cIdx)):\n",
    "                    if dna_tile_size*tilesIdx >= dsSequenceLenSum[g][cIdx[g]]:\n",
    "                        cIdx[g] += 1\n",
    "                \n",
    "                # get positions of best profile matches\n",
    "                _, _, Z = self.call(X)              # (tilePerX, N, 6, T-k+1, U)\n",
    "                for g in range(X.shape[1]):\n",
    "                    if tf.reduce_max(Z[:,g,:,:,:]) >= threshold:\n",
    "                        p = tf.argmax( tf.reduce_max(Z[:,g,:,:,:], axis=[0,1,2]) ).numpy() # index of the profile with best hit\n",
    "                        t = tf.argmax( tf.reduce_max(Z[:,g,:,:,p], axis=[1,2]) ).numpy()   # index of the tile with best hit\n",
    "                        f = tf.argmax( tf.reduce_max(Z[t,g,:,:,p], axis=[1]) ).numpy()     # index of the frame with best hit\n",
    "                        r = tf.argmax( Z[t,g,f,:,p] ).numpy()                              # index of the rel. position with best hit\n",
    "                        \n",
    "                        if t < 3:\n",
    "                            r += f\n",
    "                        else:\n",
    "                            r += 3-f # or so, doesn't matter for now since generator messes up rc frames anyway\n",
    "                            r = aa_tile_size-r-k+1\n",
    "                        \n",
    "                        # pos if all tiles were concatenated\n",
    "                        pos = tilesIdx*ntiles*aa_tile_size # all previous tiles\n",
    "                        pos +=              t*aa_tile_size # previous tiles in X\n",
    "                        pos += r\n",
    "                        pos *= 3\n",
    "                        \n",
    "                        # pos in contig\n",
    "                        if cIdx[g] > 0:\n",
    "                            pos -= dsSequenceLenSum[cIdx[g]-1]\n",
    "                            \n",
    "                        if g not in sites:\n",
    "                            sites[g] = {}\n",
    "                        if cIdx[g] not in sites[g]:\n",
    "                            sites[g][cIdx[g]] = {'profile': [], 'pos': [], 'score': []}\n",
    "                            \n",
    "                        sites[g][cIdx[g]]['profile'].append(p)\n",
    "                        sites[g][cIdx[g]]['pos'].append(pos)\n",
    "                        sites[g][cIdx[g]]['score'].append(Z[t,g,f,r,p].numpy())\n",
    "                        \n",
    "                tilesIdx += ntiles\n",
    "                        \n",
    "        return sites\n",
    "\n",
    "    def getP(self):\n",
    "        # P1_logit = -1000 * tf.ones([self.k, 1, self.units])\n",
    "        # P2_logit = tf.stack([P1_logit, self.P_logit], axis=1)\n",
    "        P = tf.nn.softmax(self.P_logit, axis=1, name=\"P\")\n",
    "        return P\n",
    "    \n",
    "    def getR(self):\n",
    "        P = self.getP()\n",
    "        Q1 = tf.expand_dims(self.Q,0)\n",
    "        Q2 = tf.expand_dims(Q1,-1)\n",
    "        # Limit the odds-ratio, to prevent problemt with log(0).\n",
    "        # Very bad matches of profiles are irrelevant anyways.\n",
    "        ratio = tf.maximum(P/Q2, 1e-6)\n",
    "        R = tf.math.log(ratio)\n",
    "        return R\n",
    "    \n",
    "    def getZ(self, X):\n",
    "        R = self.getR()\n",
    "\n",
    "        X1 = tf.expand_dims(X,-1) # 1 input channel\n",
    "        R1 = tf.expand_dims(R,-2) # 1 input channel\n",
    "        Z1 = tf.nn.conv2d(X1, R1, strides=1,\n",
    "                          padding='VALID', data_format=\"NHWC\", name=\"Z\")\n",
    "        Z = tf.squeeze(Z1, 4) # remove input channel dimension\n",
    "        return Z, R\n",
    "        \n",
    "    def call(self, X):\n",
    "        Z, R = self.getZ(X)\n",
    "\n",
    "        S = tf.reduce_max(Z, axis=[2,3])\n",
    "        return S, R, Z\n",
    "\n",
    "    # custom loss\n",
    "    def loss(self, S):\n",
    "        # overall fit of patterns\n",
    "        L1 = -tf.reduce_sum(S)\n",
    "        # L1 = -tf.reduce_sum(tf.reduce_max(S, axis=[0,2]))\n",
    "        \n",
    "        # homogeneity along pattern\n",
    "        P = self.getP()\n",
    "        H = -tf.reduce_sum(tf.math.multiply(P, tf.math.log(P)), axis=1) # entropy\n",
    "        # standard deviation of entropies\n",
    "        VH = tf.math.reduce_std(H, axis=0) # variance for each profile along site axis\n",
    "        L2 = tf.reduce_mean(VH)\n",
    "        \n",
    "        # homogeneity between genomes\n",
    "        # ignore the best score per genome, so that rather others are improved\n",
    "        L3 = tf.reduce_sum(tf.reduce_max(S, axis=1)) # cancels out the best occurence from L1\n",
    "        \n",
    "        # other ideas: \n",
    "        # - std deviation of scores of different genomes\n",
    "        L4 = tf.reduce_sum(tf.math.reduce_std(tf.reduce_max(S, axis=0), axis=0))\n",
    "        # - minimum score of any genome\n",
    "        \n",
    "         # penalize multiple similarly good near-best matches in the same genome\n",
    "        gamma = .1 # a small value means a more inclusive meaning of near-best\n",
    "        S2 = tf.nn.softmax(gamma*S, axis=1)\n",
    "        S3 = tf.reduce_max(S2, axis=1) # the closer to 1, the clearer is the champion match a winner\n",
    "        S4 = tf.reduce_max(S, axis=1) # or soft max like in L1\n",
    "        S5 = tf.math.multiply(S4, tf.math.square(S3)) # effectively the best score per genome is divided by the number of matches\n",
    "        L5 = -tf.reduce_sum(S5)/ self.units\n",
    "\n",
    "        # overall fit of patterns\n",
    "        beta = 5.0 # the larger the harder the softmax\n",
    "        S6 = tf.math.multiply(S, tf.nn.softmax(beta*S, axis=0)) # a soft version between maximizing and summing over the tiles\n",
    "        L6 = -tf.reduce_sum(S6) / self.units\n",
    "        L7 = L6+10*L5\n",
    "        \n",
    "        #return (L1+L3)/N + 50*L2, L2, L4 # + 100*L2 # (L1 + L3)/N #+ 100*L2\n",
    "        return L7, (L1, L2, L4, L7) # first: loss to use in training, second: tuple of all losses for evaluation\n",
    "\n",
    "    # return for each profile the best score at any position in the dataset\n",
    "    def max_profile_scores(self, ds):\n",
    "        scores = np.ones([self.units], dtype=np.float32) * -np.infty\n",
    "        for batch in ds:\n",
    "            for X in batch:\n",
    "                S, _, _ = self.call(X)\n",
    "                scores = np.maximum(np.max(S, axis=(0,1)), scores)\n",
    "                                    \n",
    "        return scores\n",
    "    \n",
    "    @tf.function()\n",
    "    def train_step(self, X):\n",
    "        with tf.GradientTape() as tape:\n",
    "            S, R, _ = self.call(X)\n",
    "            L, _ = self.loss(S)\n",
    "\n",
    "        grad = tape.gradient(L, self.P_logit)\n",
    "        self.opt.apply_gradients([(grad, self.P_logit)])\n",
    "        \n",
    "        return S, R, L\n",
    "\n",
    "    def train(self, X, epochs=1000, verbose=True):\n",
    "        self.opt = tf.keras.optimizers.Adam(learning_rate=.1) # large learning rate is much faster\n",
    "        for i in range(epochs):\n",
    "            self.train_step(X)\n",
    "            if verbose and (i%(100) == 0 or i==epochs-1):\n",
    "                S, R, _ = self(X)\n",
    "                L, _ = self.loss(S)\n",
    "                print(f\"epoch {i:>5} loss={L.numpy():.4f}\" +\n",
    "                      \" max R: {:.3f}\".format(tf.reduce_max(R).numpy()) +\n",
    "                      \" min R: {:.3f}\".format((tf.reduce_min(R).numpy())))\n",
    "                \n",
    "    def train_ds(self, ds, steps_per_epoch, epochs, verbose=True, verbose_freq=100):\n",
    "        self.opt = tf.keras.optimizers.Adam(learning_rate=.1) # large learning rate is much faster\n",
    "        tstart = time()\n",
    "        for i in range(epochs):\n",
    "            steps = 0\n",
    "            Lb = []\n",
    "            Smin, Smax = float('inf'), float('-inf')\n",
    "            Rmin, Rmax = float('inf'), float('-inf')\n",
    "            for batch in ds:\n",
    "                for X in batch:\n",
    "                    S, R, L = self.train_step(X)\n",
    "                    Lb.append(L)\n",
    "                    Rmax = max(Rmax, tf.reduce_max(R).numpy())\n",
    "                    Rmin = min(Rmin, tf.reduce_min(R).numpy())\n",
    "                    Smax = max(Smax, tf.reduce_max(S).numpy())\n",
    "                    Smin = min(Smin, tf.reduce_min(S).numpy())\n",
    "                    \n",
    "                steps += 1\n",
    "                if steps >= steps_per_epoch:\n",
    "                    break\n",
    "                    \n",
    "            self.history['loss'].append(np.mean(Lb))\n",
    "            self.history['Rmax'].append(Rmax)\n",
    "            self.history['Rmin'].append(Rmin)\n",
    "            self.history['Smax'].append(Smax)\n",
    "            self.history['Smin'].append(Smin)\n",
    "                    \n",
    "            if verbose and (i%(verbose_freq) == 0 or i==epochs-1):\n",
    "                S, R, _ = self(X)\n",
    "                L, _ = self.loss(S)\n",
    "                tnow = time()\n",
    "                print(f\"epoch {i:>5} loss={L.numpy():.4f}\" +\n",
    "                      \" max R: {:.3f}\".format(tf.reduce_max(R).numpy()) +\n",
    "                      \" min R: {:.3f}\".format((tf.reduce_min(R).numpy())) +\n",
    "                      \" time: {:.2f}\".format(tnow-tstart)) "
   ]
  },
  {
   "cell_type": "code",
   "execution_count": 16,
   "metadata": {},
   "outputs": [
    {
     "name": "stdout",
     "output_type": "stream",
     "text": [
      "peak memory: 317.36 MiB, increment: 6.89 MiB\n",
      "CPU times: user 156 ms, sys: 60 ms, total: 216 ms\n",
      "Wall time: 333 ms\n"
     ]
    }
   ],
   "source": [
    "# build and randomly initialize profile model\n",
    "tf.keras.backend.clear_session() # avoid memory cluttering by remains of old models\n",
    "%time %memit specProModel = SpecificProfile(k, su.aa_alphabet_size, U, Q)"
   ]
  },
  {
   "cell_type": "code",
   "execution_count": 17,
   "metadata": {},
   "outputs": [],
   "source": [
    "if False:\n",
    "    P_init = specProModel.getP()\n",
    "    plotLogo(P_init)"
   ]
  },
  {
   "cell_type": "markdown",
   "metadata": {},
   "source": [
    "### Training"
   ]
  },
  {
   "cell_type": "code",
   "execution_count": 18,
   "metadata": {},
   "outputs": [],
   "source": [
    "ds = getDataset().repeat().batch(batch_size).prefetch(150)\n",
    "ds_score = getDataset().batch(batch_size).prefetch(150)"
   ]
  },
  {
   "cell_type": "code",
   "execution_count": 19,
   "metadata": {},
   "outputs": [
    {
     "name": "stdout",
     "output_type": "stream",
     "text": [
      "epoch     0 loss=-12.6176 max R: 0.208 min R: -0.130 time: 2.25\n",
      "epoch    10 loss=-89.1149 max R: 1.707 min R: -1.397 time: 5.04\n",
      "epoch    20 loss=-119.7572 max R: 3.110 min R: -2.555 time: 7.64\n",
      "epoch    30 loss=-146.0909 max R: 4.089 min R: -3.511 time: 10.23\n",
      "epoch    40 loss=-232.1953 max R: 4.471 min R: -5.002 time: 12.87\n",
      "epoch    50 loss=-317.0235 max R: 4.549 min R: -7.468 time: 15.51\n",
      "epoch    60 loss=-340.3754 max R: 4.561 min R: -10.168 time: 18.09\n",
      "epoch    70 loss=-347.3671 max R: 4.564 min R: -12.391 time: 20.74\n",
      "epoch    80 loss=-349.2454 max R: 4.565 min R: -13.816 time: 23.31\n",
      "epoch    90 loss=-350.0012 max R: 4.565 min R: -13.816 time: 25.83\n",
      "epoch   100 loss=-350.4161 max R: 4.566 min R: -13.816 time: 28.37\n",
      "epoch   110 loss=-350.6923 max R: 4.566 min R: -13.816 time: 31.03\n",
      "epoch   120 loss=-350.8977 max R: 4.566 min R: -13.816 time: 33.64\n",
      "epoch   130 loss=-351.0621 max R: 4.566 min R: -13.816 time: 36.22\n",
      "epoch   140 loss=-351.1992 max R: 4.566 min R: -13.816 time: 38.68\n",
      "epoch   150 loss=-351.3165 max R: 4.566 min R: -13.816 time: 41.39\n",
      "epoch   160 loss=-351.4180 max R: 4.566 min R: -13.816 time: 44.05\n",
      "epoch   170 loss=-351.5072 max R: 4.566 min R: -13.816 time: 46.57\n",
      "epoch   180 loss=-351.5859 max R: 4.566 min R: -13.816 time: 49.09\n",
      "epoch   190 loss=-351.6558 max R: 4.566 min R: -13.816 time: 51.74\n",
      "epoch   199 loss=-351.7125 max R: 4.566 min R: -13.816 time: 53.95\n",
      "peak memory: 1112.16 MiB, increment: 790.74 MiB\n",
      "CPU times: user 10min 34s, sys: 48.1 s, total: 11min 22s\n",
      "Wall time: 54.2 s\n",
      "time: 54.21\n"
     ]
    }
   ],
   "source": [
    "start = time()\n",
    "#%time %memit specProModel.train(X, epochs=500)\n",
    "%time %memit specProModel.train_ds(ds, steps_per_epoch, epochs=200, verbose_freq=10)\n",
    "end = time()\n",
    "print(f\"time: {end-start:.2f}\")\n",
    "#Audio(\"/home/mario/audio/fertig.mp3\", autoplay=True)"
   ]
  },
  {
   "cell_type": "code",
   "execution_count": 20,
   "metadata": {},
   "outputs": [],
   "source": [
    "if False:\n",
    "    S, R, Z = specProModel(X)\n",
    "    _, (L1, L2, L4, L7) = specProModel.loss(S)\n",
    "    pScores = tf.reduce_sum(tf.reduce_max(S,axis=0), axis=0).numpy()\n",
    "    print(\"pScores\", pScores)\n",
    "    np.argsort(pScores)\n",
    "    print (\"loss=\", L1.numpy(), \"\\tL2=\", L2.numpy(), \n",
    "           \"\\tL4=\", L4.numpy(), \"\\nS=\", S.numpy())\n",
    "    #print (\"R\", R.numpy())"
   ]
  },
  {
   "cell_type": "code",
   "execution_count": 21,
   "metadata": {},
   "outputs": [
    {
     "data": {
      "text/plain": [
       "(<Figure size 1080x432 with 2 Axes>,\n",
       " array([<AxesSubplot:title={'center':'Training loss'}>,\n",
       "        <AxesSubplot:title={'center':'Training R and S'}>], dtype=object))"
      ]
     },
     "execution_count": 21,
     "metadata": {},
     "output_type": "execute_result"
    },
    {
     "data": {
      "image/png": "[encoded data removed]",
      "text/plain": [
       "<Figure size 1080x432 with 2 Axes>"
      ]
     },
     "metadata": {
      "needs_background": "light"
     },
     "output_type": "display_data"
    }
   ],
   "source": [
    "plotHistory(specProModel.history)"
   ]
  },
  {
   "cell_type": "markdown",
   "metadata": {},
   "source": [
    "### Visualize resulting profiles as sequence logos"
   ]
  },
  {
   "cell_type": "code",
   "execution_count": 22,
   "metadata": {},
   "outputs": [
    {
     "name": "stdout",
     "output_type": "stream",
     "text": [
      "Desired: ['MARIQSTANKE', 'WQEFNLLQIK', 'GKNSIYCK*R', 'FFICSRLNSCH', 'SLFAVD*ILA', 'LYLQ*IEFLP']\n",
      "Repeat: ['REPEATAEPER', 'ENLKLLLNLK', 'RT*SYC*T*K', 'SFRFSSSFRFS', 'LSGSAVASGS', 'FQVQQ*LQVL']\n"
     ]
    },
    {
     "data": {
      "text/plain": [
       "(['MARIQSTANKE',\n",
       "  'WQEFNLLQIK',\n",
       "  'GKNSIYCK*R',\n",
       "  'FFICSRLNSCH',\n",
       "  'SLFAVD*ILA',\n",
       "  'LYLQ*IEFLP'],\n",
       " ['REPEATAEPER',\n",
       "  'ENLKLLLNLK',\n",
       "  'RT*SYC*T*K',\n",
       "  'SFRFSSSFRFS',\n",
       "  'LSGSAVASGS',\n",
       "  'FQVQQ*LQVL'])"
      ]
     },
     "execution_count": 22,
     "metadata": {},
     "output_type": "execute_result"
    }
   ],
   "source": [
    "printExpectedPatterns()"
   ]
  },
  {
   "cell_type": "code",
   "execution_count": 23,
   "metadata": {
    "scrolled": false
   },
   "outputs": [
    {
     "data": {
      "image/png": "[encoded data removed]",
      "text/plain": [
       "<Figure size 720x180 with 1 Axes>"
      ]
     },
     "metadata": {
      "needs_background": "light"
     },
     "output_type": "display_data"
    },
    {
     "data": {
      "image/png": "[encoded data removed]",
      "text/plain": [
       "<Figure size 720x180 with 1 Axes>"
      ]
     },
     "metadata": {
      "needs_background": "light"
     },
     "output_type": "display_data"
    },
    {
     "data": {
      "image/png": "[encoded data removed]",
      "text/plain": [
       "<Figure size 720x180 with 1 Axes>"
      ]
     },
     "metadata": {
      "needs_background": "light"
     },
     "output_type": "display_data"
    },
    {
     "data": {
      "image/png": "[encoded data removed]",
      "text/plain": [
       "<Figure size 720x180 with 1 Axes>"
      ]
     },
     "metadata": {
      "needs_background": "light"
     },
     "output_type": "display_data"
    },
    {
     "data": {
      "image/png": "[encoded data removed]",
      "text/plain": [
       "<Figure size 720x180 with 1 Axes>"
      ]
     },
     "metadata": {
      "needs_background": "light"
     },
     "output_type": "display_data"
    }
   ],
   "source": [
    "P = specProModel.getP()\n",
    "pScores = specProModel.max_profile_scores(ds_score)\n",
    "plotLogo(P=P, idxarray = np.argsort(-pScores), pScores=pScores, max_print=5)"
   ]
  },
  {
   "cell_type": "markdown",
   "metadata": {},
   "source": [
    "---"
   ]
  },
  {
   "cell_type": "markdown",
   "metadata": {},
   "source": [
    "## Profile Score Distribution"
   ]
  },
  {
   "cell_type": "code",
   "execution_count": 24,
   "metadata": {},
   "outputs": [
    {
     "name": "stdout",
     "output_type": "stream",
     "text": [
      "-151.97061824798584 , 50.22648239135742\n"
     ]
    }
   ],
   "source": [
    "R = specProModel.getR()\n",
    "minscore = np.array(R).min() * specProModel.k # profile matches not at all\n",
    "maxscore = np.array(R).max() * specProModel.k # all bases match perfectly\n",
    "print(minscore, \",\", maxscore)\n",
    "minscore = np.math.floor(minscore)\n",
    "maxscore = np.math.floor(maxscore)"
   ]
  },
  {
   "cell_type": "markdown",
   "metadata": {},
   "source": [
    "     P:     (k, alphSize, U) \n",
    "     X:     (tilesPerX, N, 6, T, alphSize) \n",
    "     Z:     (tilesPerX, N, 6, T-k+1, U)\n",
    "     S:     (tilesPerX, N, U)"
   ]
  },
  {
   "cell_type": "code",
   "execution_count": 25,
   "metadata": {},
   "outputs": [],
   "source": [
    "scoreBins = dict([(b,0) for b in range(minscore, maxscore)])\n",
    "assert k == R.shape[0]\n",
    "Scollect = []\n",
    "\n",
    "ds_score = getDataset().batch(batch_size).prefetch(150)\n",
    "for batch in ds_score:\n",
    "    for X in batch:\n",
    "        S, _, Z = specProModel(X)\n",
    "        Scollect.extend(np.array(S).flatten())\n",
    "        #for s in np.array(Z[:,:,:,:,:]).flatten():\n",
    "        for s in np.array(S).flatten():\n",
    "            score = np.math.floor(s)\n",
    "            assert score in scoreBins, str(score)+\" (\"+str(s)+\")\"\n",
    "            scoreBins[score] += 1"
   ]
  },
  {
   "cell_type": "code",
   "execution_count": 26,
   "metadata": {},
   "outputs": [
    {
     "data": {
      "text/plain": [
       "(array([4.53e+02, 2.05e+02, 6.00e+00, 0.00e+00, 1.00e+00, 0.00e+00,\n",
       "        1.12e+04, 0.00e+00, 7.00e+00, 1.28e+02]),\n",
       " array([-61.591984 , -51.735344 , -41.878704 , -32.022068 , -22.165428 ,\n",
       "        -12.308788 ,  -2.4521492,   7.40449  ,  17.26113  ,  27.117767 ,\n",
       "         36.974407 ], dtype=float32),\n",
       " <BarContainer object of 10 artists>)"
      ]
     },
     "execution_count": 26,
     "metadata": {},
     "output_type": "execute_result"
    },
    {
     "data": {
      "image/png": "[encoded data removed]",
      "text/plain": [
       "<Figure size 432x288 with 1 Axes>"
      ]
     },
     "metadata": {
      "needs_background": "light"
     },
     "output_type": "display_data"
    }
   ],
   "source": [
    "plt.hist(Scollect)"
   ]
  },
  {
   "cell_type": "code",
   "execution_count": 27,
   "metadata": {},
   "outputs": [
    {
     "data": {
      "text/plain": [
       "<BarContainer object of 202 artists>"
      ]
     },
     "execution_count": 27,
     "metadata": {},
     "output_type": "execute_result"
    },
    {
     "data": {
      "image/png": "[encoded data removed]",
      "text/plain": [
       "<Figure size 432x288 with 1 Axes>"
      ]
     },
     "metadata": {
      "needs_background": "light"
     },
     "output_type": "display_data"
    }
   ],
   "source": [
    "plt.bar(list(scoreBins.keys()), [scoreBins[k] for k in scoreBins])"
   ]
  },
  {
   "cell_type": "markdown",
   "metadata": {},
   "source": [
    "---\n",
    "\n",
    "### Profile Match Sites"
   ]
  },
  {
   "cell_type": "code",
   "execution_count": 28,
   "metadata": {},
   "outputs": [
    {
     "data": {
      "text/plain": [
       "{0: {0: {'profile': [92], 'pos': [597], 'score': [-57.743656]}},\n",
       " 1: {0: {'profile': [26], 'pos': [543], 'score': [36.309387]}},\n",
       " 2: {0: {'profile': [72], 'pos': [30], 'score': [-81.012085]}},\n",
       " 3: {0: {'profile': [86], 'pos': [366], 'score': [-86.15143]}},\n",
       " 4: {0: {'profile': [13], 'pos': [486], 'score': [35.97698]}},\n",
       " 5: {0: {'profile': [4], 'pos': [195], 'score': [-45.32902]}},\n",
       " 6: {0: {'profile': [22], 'pos': [825], 'score': [-89.231476]}},\n",
       " 7: {0: {'profile': [92], 'pos': [462], 'score': [-58.244495]}}}"
      ]
     },
     "execution_count": 28,
     "metadata": {},
     "output_type": "execute_result"
    }
   ],
   "source": [
    "ds_sites = getDataset().batch(batch_size).prefetch(150)\n",
    "sites = specProModel.get_profile_match_sites(ds_sites, 1, tile_size, genomes)\n",
    "sites"
   ]
  },
  {
   "cell_type": "code",
   "execution_count": 29,
   "metadata": {},
   "outputs": [
    {
     "name": "stdout",
     "output_type": "stream",
     "text": [
      "{0: {0: {'pos': [591], 'pattern': ['ATGGCAAGGATTCAATCTACTGCAAATAAAGAG']}}, 1: {0: {'pos': [776], 'pattern': ['ATGGCAAGAATTCAATCCACCGCAAATAAAGAA']}}, 2: {0: {'pos': [658], 'pattern': ['ATGGCAAGAATTCAGTCTACTGCAAATAAGGAA']}}, 3: {0: {'pos': [854], 'pattern': ['ATTGCAAGAATTCAATCTACTGCAAATAAAGAA']}}, 4: {0: {'pos': [452], 'pattern': ['ATGGCAAGAATTCAGTCTACAGCAAATAAAGAA']}}, 5: {0: {'pos': [190], 'pattern': ['ATGGCAAGAATTCAATCTACTGCAAATAAAGAA']}}, 6: {0: {'pos': [756], 'pattern': ['ATGGCAAGAATCCAATCCACTGCGAATAAAGAA']}}, 7: {0: {'pos': [456], 'pattern': ['ATGGCCAGAATACAATCAACTGCAAATAAAGAA']}}}\n"
     ]
    }
   ],
   "source": [
    "print(insertTracking)"
   ]
  },
  {
   "cell_type": "markdown",
   "metadata": {},
   "source": [
    "---"
   ]
  },
  {
   "cell_type": "markdown",
   "metadata": {},
   "source": [
    "## Find Best Profiles\n",
    "\n",
    "Idea: \n",
    "* convert profiles into aa-sequences (translate max. values into aa at each position)\n",
    "* align (or perfect match?) sequences against the 6 possible pattern translations and the insert translations\n",
    "* alignment scores give an idea of how good the profiles are -> allows multiple training runs to account for randomness, evaluate how good the profiles usually are (+ variance)"
   ]
  },
  {
   "cell_type": "code",
   "execution_count": null,
   "metadata": {},
   "outputs": [],
   "source": [
    "from Bio import pairwise2\n",
    "from Bio.pairwise2 import format_alignment"
   ]
  },
  {
   "cell_type": "code",
   "execution_count": null,
   "metadata": {},
   "outputs": [],
   "source": [
    "def runTraining():\n",
    "    tf.keras.backend.clear_session() # avoid memory cluttering by remains of old models\n",
    "    \n",
    "    # build and randomly initialize profile model\n",
    "    specProModel = SpecificProfile(k, su.aa_alphabet_size, U, Q)\n",
    "    \n",
    "    #start = time()\n",
    "    specProModel.train_ds(ds, steps_per_epoch, epochs=500, verbose=False)\n",
    "    #end = time()\n",
    "    #print(f\"time: {end-start:.2f}\")\n",
    "    \n",
    "    #S, R = specProModel(X)\n",
    "    #_, (L1, L2, L4, L7) = specProModel.loss(S)\n",
    "    #pScores = tf.reduce_sum(tf.reduce_max(S,axis=0), axis=0).numpy()\n",
    "    #print(\"pScores\", pScores)\n",
    "    #np.argsort(pScores)\n",
    "    #print (\"loss=\", L1.numpy(), \"\\tL2=\", L2.numpy(), \n",
    "    #       \"\\tL4=\", L4.numpy(), \"\\nS=\", S.numpy())\n",
    "    \n",
    "    P = specProModel.getP()\n",
    "    \n",
    "    return P"
   ]
  },
  {
   "cell_type": "code",
   "execution_count": null,
   "metadata": {},
   "outputs": [],
   "source": [
    "def aaFromProfiles(P):\n",
    "    profiles_aa = []\n",
    "    for pidx in range(P.shape[2]):\n",
    "        pmat = P[:,:,pidx]\n",
    "        profiles_aa.append(su.to_aa_seq(pmat))\n",
    "\n",
    "    return profiles_aa"
   ]
  },
  {
   "cell_type": "code",
   "execution_count": null,
   "metadata": {},
   "outputs": [],
   "source": [
    "def getBestAlignments(profiles, patterns, scoreThreshold = int(k/2)):\n",
    "    scores = []\n",
    "    alignments = []\n",
    "    best_profiles = []\n",
    "    for profile in profiles:\n",
    "        pscores = []\n",
    "        palignments = []\n",
    "        for pattern in patterns:\n",
    "            als = pairwise2.align.localxd(profile, pattern, openA=-1000, extendA=-1000, openB=-1000, extendB=-1000)\n",
    "            s = [al.score for al in als]\n",
    "            if len(s) > 0:\n",
    "                pscores.append(np.argmax(s))\n",
    "                palignments.append(als[np.argmax(s)])\n",
    "\n",
    "        best_al = palignments[np.argmax(pscores)]\n",
    "        if best_al.score >= scoreThreshold:\n",
    "            scores.append(best_al.score)\n",
    "            alignments.append(best_al)\n",
    "            best_profiles.append(profile)\n",
    "\n",
    "    if len(scores) > 0:\n",
    "        sortedIdx = np.argsort([-s for s in scores])\n",
    "        scores = [scores[i] for i in sortedIdx]\n",
    "        alignments = [alignments[i] for i in sortedIdx]\n",
    "        best_profiles = [best_profiles[i] for i in sortedIdx]\n",
    "    \n",
    "    return scores, alignments, best_profiles"
   ]
  },
  {
   "cell_type": "code",
   "execution_count": null,
   "metadata": {
    "scrolled": false
   },
   "outputs": [],
   "source": [
    "if False:\n",
    "    for i in range(20):\n",
    "        P = runTraining()\n",
    "        profiles = aaFromProfiles(P)\n",
    "        print(\"Run\", i)\n",
    "        if insertPatterns is not None:\n",
    "            print(\"Desired profiles:\")\n",
    "            patternScores, patternAlignments, patternProfiles = getBestAlignments(profiles, desiredPatternAA)\n",
    "            for i in range(len(patternScores)):\n",
    "                    print(patternProfiles[i])\n",
    "                    print(format_alignment(*(patternAlignments[i])))\n",
    "\n",
    "        if repeatPatterns is not None:\n",
    "            print(\"Undesired profiles:\")\n",
    "            repeatScores, repeatAlignments, repeatProfiles = getBestAlignments(profiles, repeatPatternAA)\n",
    "            for i in range(len(repeatScores)):\n",
    "                    print(repeatProfiles[i])\n",
    "                    print(format_alignment(*(repeatAlignments[i])))\n",
    "\n",
    "        print(\"\")\n",
    "        print(\"-----\")\n",
    "        print(\"\")\n",
    "        \n",
    "else:\n",
    "    P = specProModel.getP()\n",
    "    profiles = aaFromProfiles(P)\n",
    "\n",
    "    if insertPatterns is not None:\n",
    "        print(\"Desired profiles:\")\n",
    "        patternScores, patternAlignments, patternProfiles = getBestAlignments(profiles, desiredPatternAA, scoreThreshold=4)\n",
    "        for i in range(len(patternScores)):\n",
    "                print(patternProfiles[i])\n",
    "                print(format_alignment(*(patternAlignments[i])))\n",
    "\n",
    "    if repeatPatterns is not None:\n",
    "        print(\"Undesired profiles:\")\n",
    "        repeatScores, repeatAlignments, repeatProfiles = getBestAlignments(profiles, repeatPatternAA, scoreThreshold=4)\n",
    "        for i in range(len(repeatScores)):\n",
    "            print(repeatProfiles[i])\n",
    "            print(format_alignment(*(repeatAlignments[i])))"
   ]
  },
  {
   "cell_type": "code",
   "execution_count": null,
   "metadata": {},
   "outputs": [],
   "source": [
    "R = specProModel.getR()\n",
    "profiles = aaFromProfiles(R)\n",
    "if insertPatterns is not None:\n",
    "    print(\"Desired profiles:\")\n",
    "    patternScores, patternAlignments, patternProfiles = getBestAlignments(profiles, desiredPatternAA, scoreThreshold=4)\n",
    "    for i in range(len(patternScores)):\n",
    "            print(patternProfiles[i])\n",
    "            print(format_alignment(*(patternAlignments[i])))\n",
    "\n",
    "if repeatPatterns is not None:\n",
    "    print(\"Undesired profiles:\")\n",
    "    repeatScores, repeatAlignments, repeatProfiles = getBestAlignments(profiles, repeatPatternAA, scoreThreshold=4)\n",
    "    for i in range(len(repeatScores)):\n",
    "        print(repeatProfiles[i])\n",
    "        print(format_alignment(*(repeatAlignments[i])))"
   ]
  }
 ],
 "metadata": {
  "kernelspec": {
   "display_name": "Python 3",
   "language": "python",
   "name": "python3"
  },
  "language_info": {
   "codemirror_mode": {
    "name": "ipython",
    "version": 3
   },
   "file_extension": ".py",
   "mimetype": "text/x-python",
   "name": "python",
   "nbconvert_exporter": "python",
   "pygments_lexer": "ipython3",
   "version": "3.8.5"
  }
 },
 "nbformat": 4,
 "nbformat_minor": 4
}
