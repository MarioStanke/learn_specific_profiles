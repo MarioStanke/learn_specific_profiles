{
 "cells": [
  {
   "cell_type": "markdown",
   "metadata": {},
   "source": [
    "# Custom ML model to identify local similarities (\"links\") with sequence profiles\n",
    "\n",
    "Let $$X \\in \\{0,1\\}^{B\\times N\\times 6 \\times T \\times 21}$$ be a batch of **one-hot encoded input translated sequences**,\n",
    "where $B$ is `batch_size`, $N$ is the number of genomes and $T$ is the `tile_size` (in aa).\n",
    "The 6 is here the number of translated frames in order (0,+),(1,+),(2,+),(0,-),(1,-),(2,-).\n",
    "The 21 is here the size of the considered amino acid alphabet.\n"
   ]
  },
  {
   "cell_type": "markdown",
   "metadata": {},
   "source": [
    "---\n",
    "\n",
    "Jupyterhub keeps losing these packages, so just for setup:"
   ]
  },
  {
   "cell_type": "code",
   "execution_count": 1,
   "metadata": {},
   "outputs": [
    {
     "name": "stdout",
     "output_type": "stream",
     "text": [
      "Requirement already satisfied: pyvolve in /home/jovyan/.local/lib/python3.9/site-packages (1.1.0)\n",
      "Requirement already satisfied: Biopython in /opt/conda/lib/python3.9/site-packages (from pyvolve) (1.78)\n",
      "Requirement already satisfied: numpy>=1.20.0 in /home/jovyan/.local/lib/python3.9/site-packages (from pyvolve) (1.22.4)\n",
      "Requirement already satisfied: scipy in /opt/conda/lib/python3.9/site-packages (from pyvolve) (1.6.3)\n"
     ]
    }
   ],
   "source": [
    "! pip install pyvolve"
   ]
  },
  {
   "cell_type": "code",
   "execution_count": 2,
   "metadata": {},
   "outputs": [
    {
     "name": "stdout",
     "output_type": "stream",
     "text": [
      "Requirement already satisfied: plotly in /home/jovyan/.local/lib/python3.9/site-packages (5.10.0)\n",
      "Requirement already satisfied: tenacity>=6.2.0 in /home/jovyan/.local/lib/python3.9/site-packages (from plotly) (8.1.0)\n"
     ]
    }
   ],
   "source": [
    "! pip install plotly"
   ]
  },
  {
   "cell_type": "code",
   "execution_count": 3,
   "metadata": {},
   "outputs": [
    {
     "name": "stdout",
     "output_type": "stream",
     "text": [
      "Collecting kaleido\n",
      "  Using cached kaleido-0.2.1-py2.py3-none-manylinux1_x86_64.whl (79.9 MB)\n",
      "Installing collected packages: kaleido\n",
      "Successfully installed kaleido-0.2.1\n"
     ]
    }
   ],
   "source": [
    "! pip install kaleido"
   ]
  },
  {
   "cell_type": "code",
   "execution_count": 4,
   "metadata": {},
   "outputs": [],
   "source": [
    "import plotly.io as pio\n",
    "pio.renderers.default = \"iframe\""
   ]
  },
  {
   "cell_type": "code",
   "execution_count": 5,
   "metadata": {},
   "outputs": [
    {
     "name": "stdout",
     "output_type": "stream",
     "text": [
      "Requirement already satisfied: logomaker in /home/jovyan/.local/lib/python3.9/site-packages (0.8)\n",
      "Requirement already satisfied: matplotlib in /opt/conda/lib/python3.9/site-packages (from logomaker) (3.4.2)\n",
      "Requirement already satisfied: pandas in /opt/conda/lib/python3.9/site-packages (from logomaker) (1.2.4)\n",
      "Requirement already satisfied: numpy in /home/jovyan/.local/lib/python3.9/site-packages (from logomaker) (1.22.4)\n",
      "Requirement already satisfied: python-dateutil>=2.7 in /opt/conda/lib/python3.9/site-packages (from matplotlib->logomaker) (2.8.1)\n",
      "Requirement already satisfied: cycler>=0.10 in /opt/conda/lib/python3.9/site-packages (from matplotlib->logomaker) (0.10.0)\n",
      "Requirement already satisfied: pyparsing>=2.2.1 in /opt/conda/lib/python3.9/site-packages (from matplotlib->logomaker) (2.4.7)\n",
      "Requirement already satisfied: pillow>=6.2.0 in /opt/conda/lib/python3.9/site-packages (from matplotlib->logomaker) (8.2.0)\n",
      "Requirement already satisfied: kiwisolver>=1.0.1 in /opt/conda/lib/python3.9/site-packages (from matplotlib->logomaker) (1.3.1)\n",
      "Requirement already satisfied: six in /opt/conda/lib/python3.9/site-packages (from cycler>=0.10->matplotlib->logomaker) (1.15.0)\n",
      "Requirement already satisfied: pytz>=2017.3 in /opt/conda/lib/python3.9/site-packages (from pandas->logomaker) (2021.1)\n"
     ]
    }
   ],
   "source": [
    "! pip install logomaker"
   ]
  },
  {
   "cell_type": "code",
   "execution_count": 6,
   "metadata": {},
   "outputs": [
    {
     "name": "stdout",
     "output_type": "stream",
     "text": [
      "Requirement already satisfied: numba in /opt/conda/lib/python3.9/site-packages (0.53.1)\n",
      "Requirement already satisfied: numpy>=1.15 in /home/jovyan/.local/lib/python3.9/site-packages (from numba) (1.22.4)\n",
      "Requirement already satisfied: llvmlite<0.37,>=0.36.0rc1 in /opt/conda/lib/python3.9/site-packages (from numba) (0.36.0)\n",
      "Requirement already satisfied: setuptools in /opt/conda/lib/python3.9/site-packages (from numba) (49.6.0.post20210108)\n"
     ]
    }
   ],
   "source": [
    "! pip install numba"
   ]
  },
  {
   "cell_type": "markdown",
   "metadata": {
    "tags": []
   },
   "source": [
    "## TensorFlow Model\n",
    "Let $$P = (P[w,c,u]) \\in [0,1]^{k \\times 21 \\times U}$$\n",
    "be a collection of $U$ amino acid **profiles**, each of length $k$.\n",
    "Let $$ Q = (Q[c]) \\in [0,1]^{21}$$ be a background amino acid distribution.\n",
    "\n",
    "Both are normalized distributions:\n",
    "$$ \\sum_c P[w,c,u] = \\sum_c Q[c] = 1 \\qquad \\forall u,w.$$\n",
    "\n",
    "Define the scores tensor \n",
    "$$ S \\in \\mathbb{R}^ {B\\times N \\times U}$$\n",
    "by\n",
    "$$ S[b,g,u] = \\max_{f=0}^5 \\max_{v=0}^{T-k} \\sum_{w=0}^{k-1} \\sum_{c=0}^{20} X[b,g,f,v+w,c] \\cdot \\ln \\frac {P[w,c,u]}{Q[c]}.$$\n",
    "\n",
    "For a given batch $S[b,g,u]$ is the maximal score that the $u$-th profile scores in the $b$-th tile of genome $g$.\n",
    "It can be computed using a **one dimensional convolution** and max pooling.\n",
    "\n",
    "Define the intermediate variables:\n",
    "\n",
    "$R \\in [0,1]^{k \\times 21 \\times U}$ by \n",
    "$$ R[w,c,u] := \\ln \\frac {P[w,c,u]}{Q[c]}.$$\n",
    "\n",
    "$Z \\in \\mathbb{R}^{B\\times N \\times 6 \\times T-k-1\\times U}$ by\n",
    "$$Z[b,g,f,v,u] := \\sum_{w=0}^{k-1} \\sum_{c=0}^{20} X[b,g,f,v+w,c] \\cdot R[w,c,u].$$\n",
    "\n",
    "**Losses:**\n",
    "Only the best score counts for each frame and tile. Sum them up.\n",
    "$$L_1 = - \\sum_{b=1}^B \\sum_{g=1}^G \\sum_{u=1}^U S[b,g,u]$$ "
   ]
  },
  {
   "cell_type": "markdown",
   "metadata": {},
   "source": [
    "---"
   ]
  },
  {
   "cell_type": "code",
   "execution_count": 7,
   "metadata": {},
   "outputs": [],
   "source": [
    "# set this to None if \"true\" randomness is desired, otherwise the runs are reproducible given the same SEED and that the same simulated data is used\n",
    "SEED = 42"
   ]
  },
  {
   "cell_type": "code",
   "execution_count": 36,
   "metadata": {},
   "outputs": [
    {
     "name": "stdout",
     "output_type": "stream",
     "text": [
      "<module 'sequtils' from 'modules/sequtils.py'>\n",
      "<module 'dataset' from 'modules/dataset.py'>\n",
      "<module 'model' from 'modules/model.py'>\n",
      "<module 'plotting' from 'modules/plotting.py'>\n",
      "<module 'stuff' from 'modules/stuff.py'>\n",
      "<module 'Links' from 'modules/Links.py'>\n",
      "<module 'SequenceRepresentation' from 'modules/SequenceRepresentation.py'>\n",
      "<module 'ProfileFindingSetup' from 'modules/ProfileFindingSetup.py'>\n",
      "<module 'training' from 'modules/training.py'>\n",
      "2.5.0\n"
     ]
    }
   ],
   "source": [
    "#from Bio import SeqIO\n",
    "#from Bio.Seq import Seq\n",
    "#from Bio.SeqRecord import SeqRecord\n",
    "#import copy\n",
    "from datetime import datetime, timezone\n",
    "import json\n",
    "import logging\n",
    "import matplotlib.pyplot as plt\n",
    "from numba import cuda\n",
    "import numpy as np\n",
    "import os\n",
    "import pickle\n",
    "import re\n",
    "#import scipy.stats\n",
    "import tensorflow as tf\n",
    "#import logomaker\n",
    "from time import time\n",
    "from tqdm import tqdm\n",
    "from IPython.display import Audio\n",
    "\n",
    "if SEED is not None:\n",
    "    # enable deterministic tensorflow behaviour (https://github.com/NVIDIA/framework-determinism/blob/master/doc/tensorflow.md)\n",
    "    os.environ['TF_DETERMINISTIC_OPS'] = '1'\n",
    "\n",
    "import sys\n",
    "sys.path.insert(0, 'modules/')\n",
    "import importlib\n",
    "import sequtils as su\n",
    "print(importlib.reload(su))\n",
    "import dataset as dsg\n",
    "print(importlib.reload(dsg))\n",
    "import model\n",
    "print(importlib.reload(model))\n",
    "#import aadist\n",
    "#print(importlib.reload(aadist))\n",
    "#import initProfilesExperiment as ipe\n",
    "#print(importlib.reload(ipe))\n",
    "import plotting\n",
    "print(importlib.reload(plotting))\n",
    "import stuff\n",
    "print(importlib.reload(stuff))\n",
    "\n",
    "#sys.path.insert(0, 'modules/GeneLinkDraw/')\n",
    "#sys.path.insert(0, 'modules/MSAgen/')\n",
    "#sys.path.insert(0, 'dataset/')\n",
    "#import geneLinkDraw as gld\n",
    "#print(importlib.reload(gld))\n",
    "import Links\n",
    "print(importlib.reload(Links))\n",
    "#import MSAgen\n",
    "#print(importlib.reload(MSAgen))\n",
    "import SequenceRepresentation\n",
    "print(importlib.reload(SequenceRepresentation))\n",
    "import ProfileFindingSetup\n",
    "print(importlib.reload(ProfileFindingSetup))\n",
    "import training\n",
    "print(importlib.reload(training))\n",
    "\n",
    "print(tf.__version__)\n",
    "\n",
    "#%load_ext memory_profiler"
   ]
  },
  {
   "cell_type": "code",
   "execution_count": 9,
   "metadata": {},
   "outputs": [
    {
     "name": "stdout",
     "output_type": "stream",
     "text": [
      "Python 3.9.2\n"
     ]
    }
   ],
   "source": [
    "! python3 --version"
   ]
  },
  {
   "cell_type": "code",
   "execution_count": 10,
   "metadata": {},
   "outputs": [
    {
     "data": {
      "text/plain": [
       "False"
      ]
     },
     "execution_count": 10,
     "metadata": {},
     "output_type": "execute_result"
    }
   ],
   "source": [
    "tf.__version__.split('.')[0:2] < ['2','4']"
   ]
  },
  {
   "cell_type": "code",
   "execution_count": 11,
   "metadata": {},
   "outputs": [],
   "source": [
    "#logging.basicConfig(format=\"%(asctime)s %(levelname)s: %(message)s\", encoding='utf-8', level=logging.DEBUG)"
   ]
  },
  {
   "cell_type": "code",
   "execution_count": 12,
   "metadata": {},
   "outputs": [],
   "source": [
    "#device = cuda.get_current_device()\n",
    "#device.reset()"
   ]
  },
  {
   "cell_type": "code",
   "execution_count": 13,
   "metadata": {},
   "outputs": [
    {
     "name": "stdout",
     "output_type": "stream",
     "text": [
      "GPU 0: 23.11 GB free memory\n",
      "GPU 1: 23.12 GB free memory\n"
     ]
    }
   ],
   "source": [
    "import subprocess as sp\n",
    "\n",
    "_available_gpu_memory = []\n",
    "def print_gpu_memory():\n",
    "    command = \"nvidia-smi --query-gpu=memory.free --format=csv\"\n",
    "    memory_free_info = sp.check_output(command.split()).decode('ascii').split('\\n')[:-1][1:]\n",
    "    for i, x in enumerate(memory_free_info):\n",
    "        mem_mb = int(x.split()[0])\n",
    "        print(f\"GPU {i}: {mem_mb/1024:.2f} GB free memory\")\n",
    "        _available_gpu_memory.append(mem_mb)\n",
    "\n",
    "print_gpu_memory()"
   ]
  },
  {
   "cell_type": "code",
   "execution_count": 14,
   "metadata": {},
   "outputs": [],
   "source": [
    "use_toy_data = False\n",
    "use_sim_data = False\n",
    "use_real_data = True\n",
    "assert use_toy_data or use_sim_data or use_real_data\n",
    "assert not (use_toy_data and use_sim_data)\n",
    "assert not (use_toy_data and use_real_data)\n",
    "assert not (use_sim_data and use_real_data)"
   ]
  },
  {
   "cell_type": "markdown",
   "metadata": {},
   "source": [
    "### Get Data"
   ]
  },
  {
   "cell_type": "code",
   "execution_count": 37,
   "metadata": {},
   "outputs": [],
   "source": [
    "# HOTFIX: make exon annotations unique, i.e. if the exact same region is annotated multiple times, keep only one annotation\n",
    "def bestAnnot(annotation):\n",
    "    \"\"\" `annotation` might be None, a string or a dict. Check if 'BestRefSeq' is part of the source \"\"\"\n",
    "    if annotation is None:\n",
    "        return False\n",
    "    elif type(annotation) is str:\n",
    "        return re.search(\"bestrefseq\", annotation) is not None\n",
    "    else:\n",
    "        assert type(annotation) is dict, f\"[ERROR] >>> Type of annotation {annotation} is not dict but {type(annotation)}\"\n",
    "        if \"source\" in annotation:\n",
    "            return re.search(\"bestrefseq\", annotation[\"source\"]) is not None\n",
    "        \n",
    "        return False\n",
    "\n",
    "\n",
    "\n",
    "def makeAnnotationsUnique(genomes: list[SequenceRepresentation.Genome]):\n",
    "    \"\"\" If a sequence in a genome has mutliple identical annotations w.r.t. the annotated positions, remove that redundancy\n",
    "          by trying to choose the best annotation \"\"\"\n",
    "    stats = {'altered_genomes': set(), 'altered_sequences': set(), 'nduplicates': 0, 'nremoved': 0}\n",
    "    for genome in genomes:\n",
    "        for sequence in genome:\n",
    "            assert sequence.elementsPossible, f\"[ERROR] >>> No elements possible in sequence '{sequence}'\"\n",
    "            if len(sequence.genomic_elements) <= 1:\n",
    "                continue\n",
    "                \n",
    "            elements = {} # genome region to annotations\n",
    "            for element in sequence.genomic_elements:\n",
    "                key = element.toTuple()[:-3] # without the \"source\", so identical annotations from different sources should group\n",
    "                if key not in elements:\n",
    "                    elements[key] = []\n",
    "                    \n",
    "                elements[key].append(element)\n",
    "                \n",
    "            # reduce redundant annotations\n",
    "            for key in elements:\n",
    "                if len(elements[key]) > 1:\n",
    "                    stats['altered_genomes'].add(genome.species)\n",
    "                    stats['altered_sequences'].add(sequence.id)\n",
    "                    stats['nduplicates'] += 1\n",
    "                    stats['nremoved'] += len(elements[key])-1\n",
    "                    annotQuality = [bestAnnot(element.source) for element in elements[key]]\n",
    "                    annotation = elements[key][annotQuality.index(True)] if any(annotQuality) else elements[key][0]\n",
    "                    #print(\"[DEBUG] >>> type of annotation:\", type(annotation))\n",
    "                    elements[key] = annotation\n",
    "                    #print(\"[DEBUG] >>> type of elements[key]:\", type(elements[key]))\n",
    "                else:\n",
    "                    elements[key] = elements[key][0]\n",
    "                    \n",
    "            assert all([type(elements[key]) is not list for key in elements]), f\"[ERROR] >>> Not all elements unique: {[type(elements[key]) for key in elements]},\\n\\n {elements}\"\n",
    "            sequence.genomic_elements = list(elements.values())\n",
    "            assert len(sequence.genomic_elements) == len(elements), f\"[ERROR] >>> new annotation length and elements length differ: {sequence.genomic_elements} vs. {elements}\"\n",
    "            \n",
    "    print(f\"[INFO] >>> Found and uniq-ed {stats['nduplicates']} redundant annotations in {len(stats['altered_sequences'])} sequences from\", \n",
    "          f\"{len(stats['altered_genomes'])} genomes; removed total of {stats['nremoved']} redundant annotations\")\n",
    "\n",
    "\n",
    "\n",
    "def selectLongestTranscript(genomes: list[SequenceRepresentation.Genome]):\n",
    "    \"\"\" If a sequence in a genome has mutliple annotations, check if any two of them overlap such that the shorter is completely inside the longer one.\n",
    "        If such a pair is found, discard the shorter annotation \"\"\"\n",
    "    stats = {'altered_genomes': set(), 'altered_sequences': set(), 'noverlaps': 0, 'nremoved': 0}\n",
    "    for genome in genomes:\n",
    "        for sequence in genome:\n",
    "            assert sequence.elementsPossible, f\"[ERROR] >>> No elements possible in sequence '{sequence}'\"\n",
    "            if len(sequence.genomic_elements) <= 1:\n",
    "                continue\n",
    "                \n",
    "            elements = sorted(sequence.genomic_elements, key = lambda s: s.length) # increasing sequence length\n",
    "            longest_elements = []\n",
    "            for i in range(len(elements)):\n",
    "                has_superseq = False\n",
    "                for j in range(i+1, len(elements)):\n",
    "                    if elements[i].isSubsequenceOf(elements[j]) and elements[i].strand == elements[j].strand:\n",
    "                        has_superseq = True\n",
    "                        break\n",
    "                    \n",
    "                if not has_superseq:\n",
    "                    longest_elements.append(elements[i])\n",
    "                    \n",
    "            assert len(longest_elements) >= 1, \"[ERROR] >>> selectLongestTranscript has filtered out all elements\"\n",
    "            assert len(longest_elements) <= len(elements), \"[ERROR] >>> selectLongestTranscript has duplicated something\"\n",
    "            if len(elements) > len(longest_elements):\n",
    "                stats['nremoved'] += len(elements) - len(longest_elements)\n",
    "                stats['altered_sequences'].add(sequence.id)\n",
    "                stats['altered_genomes'].add(genome.species)\n",
    "                \n",
    "            \n",
    "            sequence.genomic_elements = longest_elements\n",
    "            \n",
    "    print(f\"[INFO] >>> Found and removed subsequence annotations in {len(stats['altered_sequences'])} sequences from\", \n",
    "          f\"{len(stats['altered_genomes'])} genomes; removed total of {stats['nremoved']} subsequence annotations\")\n",
    "\n",
    "\n",
    "\n",
    "def checkUniqueAnnotations(genomes: list[SequenceRepresentation.Genome]):\n",
    "    \"\"\" Basically check if makeAnnotationsUnique() has worked \"\"\"\n",
    "    allUnique = True\n",
    "    for genome in genomes:\n",
    "        for sequence in genome:\n",
    "            assert sequence.elementsPossible, f\"[ERROR] >>> No elements possible in sequence '{sequence}'\"\n",
    "            if len(sequence.genomic_elements) <= 1:\n",
    "                continue\n",
    "                \n",
    "            elements = {} # genome region to annotations\n",
    "            for element in sequence.genomic_elements:\n",
    "                key = element.toTuple()[:-3] # without the \"source\", so identical annotations from different sources should group\n",
    "                if key not in elements:\n",
    "                    elements[key] = []\n",
    "                    \n",
    "                elements[key].append(element)\n",
    "                \n",
    "            # reduce redundant annotations\n",
    "            for key in elements:\n",
    "                if len(elements[key]) > 1:\n",
    "                    allUnique = False\n",
    "                    #print(f\"[DEBUG] >>> Not all unique, sequence {sequence} has multiple annotations for {key}: {elements[key]}\")\n",
    "                    #return allUnique # [DEBUG] early stop\n",
    "\n",
    "    return allUnique"
   ]
  },
  {
   "cell_type": "code",
   "execution_count": 38,
   "metadata": {},
   "outputs": [
    {
     "name": "stdout",
     "output_type": "stream",
     "text": [
      "[INFO] >>> Number of homologies: 7\n",
      "[INFO] >>> Total number of genomes: 149\n",
      "[INFO] >>> Total number of sequences: 759\n",
      "[INFO] >>> Sequences per genome (#seq, #genomes): [(0, 0), (1, 2), (2, 6), (3, 17), (4, 14), (5, 41), (6, 50)]\n",
      "[INFO] >>> Making annotations unique\n",
      "[INFO] >>> Unique annotations pre: False\n",
      "[INFO] >>> Found and uniq-ed 121 redundant annotations in 117 sequences from 47 genomes; removed total of 277 redundant annotations\n",
      "[INFO] >>> Unique annotations post: True\n",
      "[INFO] >>> Selecting longest transcripts in case of complete overlap\n",
      "[INFO] >>> Found and removed subsequence annotations in 9 sequences from 9 genomes; removed total of 9 subsequence annotations\n"
     ]
    }
   ],
   "source": [
    "if use_toy_data:\n",
    "    data = ProfileFindingSetup.ProfileFindingDataSetup('toy')\n",
    "    data.addGenomes(verbose = False)\n",
    "    _, _ = data.expectedPatterns()\n",
    "if use_sim_data:\n",
    "    data = ProfileFindingSetup.ProfileFindingDataSetup('sim')\n",
    "    data.addGenomes(verbose = True)\n",
    "if use_real_data:\n",
    "    # get all exon dirs\n",
    "    #datadir = \"/home/jovyan/brain/genomegraph/data/241_species/run_subset150/out_10Exons_subset150_withEnforced_20_15_20_50_15_20_15_20_mammals\"\n",
    "    #datadir = \"/home/jovyan/brain/genomegraph/data/241_species/debug_get_internal_exons/out_100Exons_subset150_withEnforced_20_15_20_50_15_20_15_20_mammals/\"\n",
    "    datadir = \"/home/jovyan/brain/genomegraph/data/241_species/20230922_subset150_NM_RefSeqBest/out_subset150_withEnforced_20_15_20_50_15_20_15_20_mammals/\"\n",
    "    seqlists = []\n",
    "    for d in os.listdir(datadir):\n",
    "        subdir = os.path.join(datadir, d)\n",
    "        if re.match(\"exon_chr.+\", d) and os.path.isdir(subdir):\n",
    "            seqlist = os.path.join(subdir, \"profile_finding_sequence_data.json\")\n",
    "            assert os.path.isfile(seqlist), f\"[ERROR] >>> Expected file {seqlist} but not found\"\n",
    "            seqlists.append(seqlist)\n",
    "\n",
    "    #sequences = SequenceRepresentation.loadJSONSequenceList(\"/home/jovyan/brain/genomegraph/data/241_species/run_subset150/out_10Exons_subset150_withEnforced_20_15_20_50_15_20_15_20_mammals/exon_chr13_100273195_100273346/profile_finding_sequence_data.json\")\n",
    "    #print(f\"Number of sequences: {len(sequences)}\")\n",
    "            \n",
    "    # load sequences\n",
    "    genomes = []\n",
    "    stoi = {}\n",
    "    for sl in seqlists:#[:2]:\n",
    "    #if True:\n",
    "        sequences = SequenceRepresentation.loadJSONSequenceList(sl)\n",
    "        for seq in sequences:#[:25]:\n",
    "            #print(\"[DEBUG] >>> genome\", seq.species)\n",
    "            if seq.species not in stoi:\n",
    "                stoi[seq.species] = len(genomes) # add new genome, remember index\n",
    "                genomes.append(SequenceRepresentation.Genome())\n",
    "            \n",
    "            genomes[stoi[seq.species]].addSequence(seq)\n",
    "    \n",
    "    data = ProfileFindingSetup.ProfileFindingDataSetup('real')\n",
    "    \n",
    "    print(\"[INFO] >>> Number of homologies:\", len(seqlists))\n",
    "    print(\"[INFO] >>> Total number of genomes:\", len(genomes))\n",
    "    print(\"[INFO] >>> Total number of sequences:\", sum([len(g) for g in genomes]))\n",
    "    print(\"[INFO] >>> Sequences per genome (#seq, #genomes):\", [(i, [len(g) for g in genomes].count(i)) for i in range(max([len(g) for g in genomes]))])\n",
    "    \n",
    "    print(\"[INFO] >>> Making annotations unique\")\n",
    "    print(\"[INFO] >>> Unique annotations pre:\", checkUniqueAnnotations(genomes))\n",
    "    makeAnnotationsUnique(genomes)\n",
    "    print(\"[INFO] >>> Unique annotations post:\", checkUniqueAnnotations(genomes))\n",
    "    print(\"[INFO] >>> Selecting longest transcripts in case of complete overlap\")\n",
    "    selectLongestTranscript(genomes)"
   ]
  },
  {
   "cell_type": "code",
   "execution_count": 39,
   "metadata": {},
   "outputs": [
    {
     "data": {
      "text/plain": [
       "[Genome from Homo_sapiens with 6 chromosomes: chr17 (1 sequence[s]), chr2 (1 sequence[s]), chr3 (1 sequence[s]), chr13 (2 sequence[s]), chr9 (1 sequence[s]), chr6 (1 sequence[s]),\n",
       " Genome from Canis_lupus_familiaris with 6 chromosomes: chr5 (1 sequence[s]), chr19 (1 sequence[s]), chr23 (1 sequence[s]), chr22 (2 sequence[s]), chr11 (1 sequence[s]), chr12 (1 sequence[s]),\n",
       " Genome from Bos_taurus with 6 chromosomes: CM000195.6 (1 sequence[s]), CM000178.7 (1 sequence[s]), CM000177.6 (1 sequence[s]), CM000188.7 (2 sequence[s]), CM000184.6 (1 sequence[s]), CM000199.8 (1 sequence[s]),\n",
       " Genome from Sus_scrofa with 5 chromosomes: CM000823.4 (1 sequence[s]), CM000826.4 (1 sequence[s]), CM000824.4 (1 sequence[s]), CM000822.4 (1 sequence[s]), CM000812.4 (1 sequence[s]),\n",
       " Genome from Gorilla_gorilla with 6 chromosomes: LT578332.1 (1 sequence[s]), LT578339.1 (1 sequence[s]), LT578340.1 (1 sequence[s]), LT578328.1 (2 sequence[s]), LT578346.1 (1 sequence[s]), LT578343.1 (1 sequence[s])]"
      ]
     },
     "execution_count": 39,
     "metadata": {},
     "output_type": "execute_result"
    }
   ],
   "source": [
    "genomes[:5]"
   ]
  },
  {
   "cell_type": "markdown",
   "metadata": {},
   "source": [
    "#### TODO: look closer into this, how many sequences have annotation at all and how many just lack annotation of the gene"
   ]
  },
  {
   "cell_type": "code",
   "execution_count": 40,
   "metadata": {},
   "outputs": [
    {
     "name": "stdout",
     "output_type": "stream",
     "text": [
      "300 / 759 sequences have any annotations\n"
     ]
    },
    {
     "data": {
      "text/html": [
       "<iframe\n",
       "    scrolling=\"no\"\n",
       "    width=\"100%\"\n",
       "    height=\"545px\"\n",
       "    src=\"iframe_figures/figure_40.html\"\n",
       "    frameborder=\"0\"\n",
       "    allowfullscreen\n",
       "></iframe>\n"
      ]
     },
     "metadata": {},
     "output_type": "display_data"
    }
   ],
   "source": [
    "nannot = 0\n",
    "nelems = []\n",
    "nsequences = 0\n",
    "for genome in genomes:\n",
    "    for sequence in genome:\n",
    "        nsequences += 1\n",
    "        if hasattr(sequence, 'genomic_elements') and len(sequence.genomic_elements):\n",
    "            nannot += 1\n",
    "            nelems.append(len(sequence.genomic_elements))\n",
    "        else:\n",
    "            nelems.append(0)\n",
    "        \n",
    "print(nannot, '/', nsequences, 'sequences have any annotations')\n",
    "\n",
    "import plotly.graph_objects as go\n",
    "fig = go.Figure()\n",
    "fig.add_trace(go.Histogram(x = nelems, nbinsx = max(nelems) + 1))\n",
    "fig.update_layout(xaxis_title = \"number of annotations per sequence\", yaxis_title = \"count\")\n",
    "fig.show()"
   ]
  },
  {
   "cell_type": "code",
   "execution_count": 41,
   "metadata": {},
   "outputs": [],
   "source": [
    "for sequence in genomes[0]:\n",
    "    if len(sequence.genomic_elements) > 1:\n",
    "        print(sequence)\n",
    "        print(\"unique genomic elements:\", len(set(e.toTuple() for e in sequence.genomic_elements)))\n",
    "        for i, element in enumerate(sequence.genomic_elements):\n",
    "            print(i)\n",
    "            print(element.toTuple())\n",
    "            print()\n",
    "            \n",
    "        print(\"----------\")\n",
    "        print()"
   ]
  },
  {
   "cell_type": "code",
   "execution_count": 42,
   "metadata": {},
   "outputs": [
    {
     "data": {
      "text/html": [
       "<iframe\n",
       "    scrolling=\"no\"\n",
       "    width=\"100%\"\n",
       "    height=\"545px\"\n",
       "    src=\"iframe_figures/figure_42.html\"\n",
       "    frameborder=\"0\"\n",
       "    allowfullscreen\n",
       "></iframe>\n"
      ]
     },
     "metadata": {},
     "output_type": "display_data"
    }
   ],
   "source": [
    "import plotly.graph_objects as go\n",
    "hg_annots = [len(s.genomic_elements) for g in genomes if g.species == 'Homo_sapiens' for s in g]\n",
    "fig = go.Figure()\n",
    "fig.add_trace(go.Histogram(\n",
    "    x = hg_annots,\n",
    "    nbinsx = max(hg_annots) + 1\n",
    "))\n",
    "fig.update_layout(xaxis_title = \"number of annotations per human sequence\", yaxis_title = \"count\")\n",
    "fig.show()"
   ]
  },
  {
   "cell_type": "code",
   "execution_count": 43,
   "metadata": {},
   "outputs": [],
   "source": [
    "for genome in genomes:\n",
    "    if genome.species == 'Homo_sapiens':\n",
    "        for i, sequence in enumerate(genome):\n",
    "            if len(sequence.genomic_elements) != 1:\n",
    "                print(i, sequence)"
   ]
  },
  {
   "cell_type": "markdown",
   "metadata": {},
   "source": [
    "---\n",
    "\n",
    "Create Homology-tuples, skip tuples where Homo sapiens is not annotated"
   ]
  },
  {
   "cell_type": "code",
   "execution_count": 44,
   "metadata": {},
   "outputs": [
    {
     "name": "stdout",
     "output_type": "stream",
     "text": [
      "[INFO] >>> Created 7 homology tuples, skipped 0 sequences where human homolog has no annotations\n"
     ]
    }
   ],
   "source": [
    "skippedHumanSequences = []\n",
    "humanToSequences = {}\n",
    "for genome in genomes:\n",
    "    if genome.species == \"Homo_sapiens\":\n",
    "        for sequence in genome:\n",
    "            assert sequence.hasHomologies(), f\"[ERROR] >>> Sequence {sequence} has no homologies\"\n",
    "            assert sequence.elementsPossible(), f\"[ERROR] >>> Sequence {sequence} cannot have annotations\"\n",
    "            assert len(sequence.homology) == 1, f\"[ERROR] >>> Sequence {sequence} has not exactly one homology\"\n",
    "            key = sequence.homology[0].id\n",
    "            \n",
    "            if len(sequence.genomic_elements) == 0:\n",
    "                skippedHumanSequences.append(key)\n",
    "                \n",
    "            if key not in humanToSequences:\n",
    "                humanToSequences[key] = []\n",
    "                \n",
    "nskipped = 0\n",
    "nsequences = 0\n",
    "for genome in genomes:\n",
    "    for sequence in genome:\n",
    "        nsequences += 1\n",
    "        assert sequence.hasHomologies(), f\"[ERROR] >>> Sequence {sequence} has no homologies\"\n",
    "        assert len(sequence.homology) == 1, f\"[ERROR] >>> Sequence {sequence} has not exactly one homology\"\n",
    "        homKey = sequence.homology[0].id\n",
    "        assert homKey in humanToSequences or homKey in skippedHumanSequences, f\"[ERROR] >>> sequence {sequence} has unrecognized homology\"\n",
    "        if homKey in skippedHumanSequences:\n",
    "            nskipped += 1\n",
    "        else:\n",
    "            humanToSequences[homKey].append(sequence)\n",
    "            \n",
    "homologies = list(humanToSequences.values())\n",
    "    \n",
    "nsequencesInTuples = 0\n",
    "for i, homology in enumerate(homologies):\n",
    "    nsequencesInTuples += len(homology)\n",
    "    species = sorted([sequence.species for sequence in homology])\n",
    "    assert sorted(set(species)) == species, f\"[ERROR] >>> Non-unique tuple {i}: {species}\"\n",
    "    assert \"Homo_sapiens\" in species, f\"[ERROR] >>> Tuple {i} has no human: {species}\"\n",
    "    \n",
    "assert nsequencesInTuples + nskipped == nsequences, f\"[ERROR] >>> {nsequencesInTuples + nskipped} != {nsequences}\"\n",
    "print(f\"[INFO] >>> Created {len(homologies)} homology tuples, skipped {nskipped} sequences where human homolog has no annotations\")"
   ]
  },
  {
   "cell_type": "code",
   "execution_count": 45,
   "metadata": {},
   "outputs": [
    {
     "data": {
      "text/plain": [
       "['Homo_sapiens:chr17:4,639,142-4,641,506 (-, length = 2,364, type = sequence)\\nAGAGGAGGAC...CCCGGCTCTG\\n1 genomic elements\\n1 homologies',\n",
       " 'Canis_lupus_familiaris:chr5:31,883,688-31,885,353 (+, length = 1,665, type = sequence)\\nCGCGGGGCCA...GCTCTCCTCC\\n1 genomic elements\\n1 homologies',\n",
       " 'Bos_taurus:CM000195.6:27,473,095-27,474,928 (+, length = 1,833, type = sequence)\\nCAGAGCCGGG...GCCCTTCTCC\\n1 genomic elements\\n1 homologies',\n",
       " 'Sus_scrofa:CM000823.4:54,502,231-54,504,573 (+, length = 2,342, type = sequence)\\nCGGAGCCCCG...GCCCACCACC\\n2 genomic elements\\n1 homologies',\n",
       " 'Gorilla_gorilla:LT578332.1:4,448,142-4,450,472 (-, length = 2,330, type = sequence)\\nAGAGGAGGAC...CCCGGCTCTG\\n1 genomic elements\\n1 homologies',\n",
       " 'Pongo_abelii:CM009279.2:4,415,060-4,417,427 (-, length = 2,367, type = sequence)\\nAGAGGAGGGC...CCCGCCTCTG\\n1 genomic elements\\n1 homologies',\n",
       " 'Crocidura_indochinensis:CroInd_scaffold_223520:184-2,055 (+, length = 1,871, type = sequence)\\nGCTTTTTTCC...GTCCTAATTT\\n0 genomic elements\\n1 homologies',\n",
       " 'Erinaceus_europaeus:JH835297.1:4,815,881-4,818,083 (+, length = 2,202, type = sequence)\\nTGAGTTGTCG...CCTCACTCTC\\n1 genomic elements\\n1 homologies',\n",
       " 'Condylura_cristata:JH655894.1:29,642,611-29,644,372 (-, length = 1,761, type = sequence)\\nAGTGAGCACA...CTCCGGACCG\\n1 genomic elements\\n1 homologies',\n",
       " 'Tamandua_tetradactyla:TamTet_scaffold_141823:4,339-5,785 (-, length = 1,446, type = sequence)\\nGAAGGAGGGC...GCGCCGCCCG\\n0 genomic elements\\n1 homologies',\n",
       " 'Artibeus_jamaicensis:ArtJam_scaffold_65138:12,713-14,697 (-, length = 1,984, type = sequence)\\nGGAGGAAGGG...CCGGACTCCG\\n0 genomic elements\\n1 homologies',\n",
       " 'Solenodon_paradoxus:SolPar_flattened_line_7283:51,427-53,233 (-, length = 1,806, type = sequence)\\nGGGTGACGAC...AGCCCAGCAA\\n0 genomic elements\\n1 homologies',\n",
       " 'Craseonycteris_thonglongyai:CraTho_scaffold_11656:12,532-14,453 (+, length = 1,921, type = sequence)\\nGGGAGCCGGG...GATCTCCTTC\\n0 genomic elements\\n1 homologies',\n",
       " 'Sorex_araneus:JH798159.1:22,416,269-22,418,144 (-, length = 1,875, type = sequence)\\nAAGTTAGGGT...GCCAGGGTCT\\n1 genomic elements\\n1 homologies',\n",
       " 'Lasiurus_borealis:LasBor_scaffold_5926:103,149-105,126 (+, length = 1,977, type = sequence)\\nGGGAGCTGGC...TGTCCTCCTT\\n0 genomic elements\\n1 homologies',\n",
       " 'Uropsilus_gracilis:UroGra_scaffold_26043:23,693-25,775 (-, length = 2,082, type = sequence)\\nAGAAAGCACC...CTCCGGACTG\\n0 genomic elements\\n1 homologies',\n",
       " 'Rousettus_aegyptiacus:RouAeg_scaffold_23538:7,997-10,020 (-, length = 2,023, type = sequence)\\nGGAAGAGGGC...CTCGGCTCCC\\n0 genomic elements\\n1 homologies',\n",
       " 'Galeopterus_variegatus:GalVar_scaffold_26862:39,414-41,300 (+, length = 1,886, type = sequence)\\nCGGAGCCGGG...GCTTTCTTCT\\n0 genomic elements\\n1 homologies',\n",
       " 'Vicugna_pacos:KN270019.1:1,436,375-1,438,373 (+, length = 1,998, type = sequence)\\nNNNNNNNNNN...GCCCTTCTCC\\n0 genomic elements\\n1 homologies',\n",
       " 'Noctilio_leporinus:NocLep_scaffold_9870:104,799-106,775 (-, length = 1,976, type = sequence)\\nGGGGGAAGGG...CCTGGCTCCA\\n0 genomic elements\\n1 homologies',\n",
       " 'Equus_caballus:CM000387.2:49,822,732-49,824,809 (+, length = 2,077, type = sequence)\\nCTCAGGCGGG...ACCCTCCTCC\\n1 genomic elements\\n1 homologies',\n",
       " 'Mustela_putorius:JH418054.1:1,751,138-1,752,796 (+, length = 1,658, type = sequence)\\ngggcctgggc...cccttcctcc\\n0 genomic elements\\n1 homologies',\n",
       " 'Megaderma_lyra:MegLyr_scaffold_32220:19,564-21,696 (-, length = 2,132, type = sequence)\\nAAAGGGGGTC...CCCGGCTCCA\\n0 genomic elements\\n1 homologies',\n",
       " 'Suricata_suricatta:SurSur_flattened_line_22098:2,266-3,961 (+, length = 1,695, type = sequence)\\nGGCGGGCGCG...TTCCTCCTCC\\n0 genomic elements\\n1 homologies',\n",
       " 'Miniopterus_natalensis:LDJU01000208.1:2,677,913-2,681,210 (+, length = 3,297, type = sequence)\\nNNNNNNNNNN...GCCTTCCTCC\\n1 genomic elements\\n1 homologies',\n",
       " 'Tadarida_brasiliensis:TadBra_scaffold_52395:8,306-9,753 (-, length = 1,447, type = sequence)\\nAGAGGAGGGC...CAGCCCACCG\\n0 genomic elements\\n1 homologies',\n",
       " 'Choloepus_hoffmanni:KN184916.1:21,143-22,805 (-, length = 1,662, type = sequence)\\naaggaggacA...CGCCCGCCGG\\n0 genomic elements\\n1 homologies',\n",
       " 'Mormoops_blainvillei:MorMeg_scaffold_9682:17,875-19,924 (+, length = 2,049, type = sequence)\\nTGGAGCCTGG...CCTTTTCTCC\\n0 genomic elements\\n1 homologies',\n",
       " 'Hippopotamus_amphibius:HipAmp_scaffold_914:172,607-174,600 (+, length = 1,993, type = sequence)\\nCGGAGCCGGG...GCCCTCCTCC\\n0 genomic elements\\n1 homologies',\n",
       " 'Spilogale_gracilis:SpiGra_flattened_line_36868:24,731-26,430 (+, length = 1,699, type = sequence)\\nGGGCCAGGGG...GCCTTCCCCC\\n0 genomic elements\\n1 homologies',\n",
       " 'Scalopus_aquaticus:ScaAqu_scaffold_29484:19,736-22,033 (+, length = 2,297, type = sequence)\\nCTGTCAGGAG...GGTGCTCACT\\n0 genomic elements\\n1 homologies',\n",
       " 'Tapirus_terrestris:TapTer_scaffold_5516:222,558-224,664 (+, length = 2,106, type = sequence)\\nCGGAGCTTGG...GCCCTCCTCC\\n0 genomic elements\\n1 homologies',\n",
       " 'Micronycteris_hirsuta:MicHir_scaffold_56525:3,813-5,878 (+, length = 2,065, type = sequence)\\nCTGAGCCGGG...CCCTTCCTCC\\n0 genomic elements\\n1 homologies',\n",
       " 'Rhinolophus_sinicus:LVEH01000642.1:11,073-13,156 (-, length = 2,083, type = sequence)\\nAACGGAGGTG...CCGGGCTCCC\\n0 genomic elements\\n1 homologies',\n",
       " 'Catagonus_wagneri:CatWag_scaffold_34402:4,077-6,105 (+, length = 2,028, type = sequence)\\nAAGAGCCGGG...GCCCTCCTCC\\n0 genomic elements\\n1 homologies',\n",
       " 'Ailuropoda_melanoleuca:LNAT01000407.1:1,853,785-1,855,580 (+, length = 1,795, type = sequence)\\nGGGCGCGCGG...GCATTCCTCC\\n0 genomic elements\\n1 homologies',\n",
       " 'Kogia_breviceps:KogBre_flattened_line_69783:16,234-18,255 (-, length = 2,021, type = sequence)\\nGGAGGAGGGC...TTCGGCTCCG\\n0 genomic elements\\n1 homologies',\n",
       " 'Tonatia_saurophila:TonSau_scaffold_22111:20,596-22,623 (-, length = 2,027, type = sequence)\\nGGAGGAAGGG...CCGGCTCCAG\\n0 genomic elements\\n1 homologies',\n",
       " 'Hyaena_hyaena:HyaHya_flattened_line_62853:20,025-21,945 (+, length = 1,920, type = sequence)\\nGGGCCAGGTG...CACCCCCTCC\\n0 genomic elements\\n1 homologies',\n",
       " 'Dicerorhinus_sumatrensis:PEKH010001542.1:1,149,286-1,151,371 (+, length = 2,085, type = sequence)\\nCGGAGCCGGG...gccctcctcc\\n0 genomic elements\\n1 homologies',\n",
       " 'Desmodus_rotundus:KZ672382.1:10,645,744-10,647,775 (+, length = 2,031, type = sequence)\\nCGGAGCCGGG...TCCTTCCTCT\\n1 genomic elements\\n1 homologies',\n",
       " 'Macroglossus_sobrinus:MacSob_scaffold_16280:1,897-3,873 (+, length = 1,976, type = sequence)\\nGGGAGCCGGG...GCCTTCTTCC\\n0 genomic elements\\n1 homologies',\n",
       " 'Anoura_caudifer:AnoCau_scaffold_20251:39,797-41,941 (+, length = 2,144, type = sequence)\\nTGGAGCCGGG...CCCTTCCTCC\\n0 genomic elements\\n1 homologies',\n",
       " 'Zalophus_californianus:ZalCal_flattened_line_41347:20,055-21,774 (-, length = 1,719, type = sequence)\\nGGAGCAAGGC...CCCCGGACCC\\n0 genomic elements\\n1 homologies',\n",
       " 'Antilocapra_americana:AntAmePen_scaffold_3779:39,133-40,993 (+, length = 1,860, type = sequence)\\nCAGGGCCGGG...GCCCTTCTCC\\n0 genomic elements\\n1 homologies',\n",
       " 'Odocoileus_virginianus:KZ102657.1:426,619-428,485 (-, length = 1,866, type = sequence)\\nggagaagggc...CCCGGCTCCG\\n1 genomic elements\\n1 homologies',\n",
       " 'Eidolon_helvum:KE763832.1:9,541-11,900 (-, length = 2,359, type = sequence)\\nGAAAGAGGGC...CCCGGCTCCC\\n0 genomic elements\\n1 homologies',\n",
       " 'Myotis_davidii:KB110675.1:24,725-27,556 (-, length = 2,831, type = sequence)\\nAAAGAGGGCG...GGACCAGCTC\\n1 genomic elements\\n1 homologies',\n",
       " 'Moschus_moschiferus:MosMos_scaffold_21214:41,124-42,952 (+, length = 1,828, type = sequence)\\nCGGGGCCGGG...GCCCTTCTCC\\n0 genomic elements\\n1 homologies',\n",
       " 'Okapia_johnstoni:LVCL01S0011160.1:218,590-220,451 (-, length = 1,861, type = sequence)\\nGGAGAAGGGC...cccagccctg\\n0 genomic elements\\n1 homologies',\n",
       " 'Pteropus_vampyrus:KN525767.1:358,143-360,182 (-, length = 2,039, type = sequence)\\nGGAAGAGGGC...CCCGGCTCCC\\n1 genomic elements\\n1 homologies',\n",
       " 'Alouatta_palliata:AloPal_scaffold_27094:31,137-33,484 (-, length = 2,347, type = sequence)\\nAGAGGAAGGC...GGCTCCTCTG\\n0 genomic elements\\n1 homologies',\n",
       " 'Inia_geoffrensis:IniGeo_flattened_line_13717:28,540-30,529 (+, length = 1,989, type = sequence)\\nCGGAGCCGAA...GCCCTCCTCC\\n0 genomic elements\\n1 homologies',\n",
       " 'Mellivora_capensis:MelCap_flattened_line_51046:12,623-14,307 (+, length = 1,684, type = sequence)\\nGGGCCGGGCC...TGCCTTGCCC\\n0 genomic elements\\n1 homologies',\n",
       " 'Capra_aegagrus:CM003233.1:28,829,767-28,839,822 (+, length = 10,055, type = sequence)\\nnnnnnccggg...GCCCTTCTCC\\n0 genomic elements\\n1 homologies',\n",
       " 'Tupaia_tana:TupTan_flattened_line_73660:3,460-5,739 (-, length = 2,279, type = sequence)\\nAGAGGACAAC...CCTGGCTCCA\\n0 genomic elements\\n1 homologies',\n",
       " 'Eptesicus_fuscus:JH977759.1:71,016-73,158 (-, length = 2,142, type = sequence)\\naaggagggaa...GCCAGCTCCC\\n2 genomic elements\\n1 homologies',\n",
       " 'Aotus_nancymaae:KZ199789.1:422,570-424,962 (+, length = 2,392, type = sequence)\\nCAGAGGAATC...GCCATCCTCT\\n1 genomic elements\\n1 homologies',\n",
       " 'Hipposideros_armiger:JXIK01000432.1:790,588-792,647 (-, length = 2,059, type = sequence)\\nGACAGAGGTC...CCCGGCTCCC\\n1 genomic elements\\n1 homologies']"
      ]
     },
     "execution_count": 45,
     "metadata": {},
     "output_type": "execute_result"
    }
   ],
   "source": [
    "[str(s) for s in homologies[0]]"
   ]
  },
  {
   "cell_type": "code",
   "execution_count": 46,
   "metadata": {},
   "outputs": [],
   "source": [
    "def homologyTupelToGenomes(homology):\n",
    "    \"\"\" data.addGenomes() expects a list of SequenceRepresentation.Genome objects, but the new\n",
    "          homology-lists are lists of SequenceRepresentation.Sequence. Hotfix here. \"\"\"\n",
    "    genomes = []\n",
    "    for sequence in homology:\n",
    "        genomes.append( SequenceRepresentation.Genome([sequence]) )\n",
    "        \n",
    "    return genomes"
   ]
  },
  {
   "cell_type": "markdown",
   "metadata": {},
   "source": [
    "---\n",
    "\n",
    "### New: Multiple Training Rounds\n",
    "\n",
    "One per homology tuple\n",
    "\n",
    "Using the new `training.py` module"
   ]
  },
  {
   "cell_type": "code",
   "execution_count": null,
   "metadata": {},
   "outputs": [
    {
     "data": {
      "image/png": "[encoded data removed]",
      "text/plain": [
       "<PIL.Image.Image image mode=RGB size=1920x3124 at 0x7F5998E3CE80>"
      ]
     },
     "metadata": {},
     "output_type": "display_data"
    }
   ],
   "source": [
    "assert use_real_data, \"[ERROR] >>> Unsure if this works for non-real data\"\n",
    "\n",
    "# some global settings\n",
    "genome_limit = 50\n",
    "outdir = os.path.join(\".\", datetime.now().strftime(\"%Y%m%d-%H%M%S\")+\"_test\")\n",
    "\n",
    "# make sure that outdir exists\n",
    "os.makedirs(outdir, exist_ok=True)\n",
    "\n",
    "# set logfile\n",
    "logging.basicConfig(filename = os.path.join(outdir, \"logfile.txt\"),\n",
    "                    format=\"%(asctime)s %(levelname)s: %(message)s\", \n",
    "                    encoding='utf-8', level=logging.DEBUG)\n",
    "\n",
    "# training iteration\n",
    "accuracies = []\n",
    "for i, homology in enumerate(homologies):    \n",
    "    data = ProfileFindingSetup.ProfileFindingDataSetup('real')\n",
    "    genome = homologyTupelToGenomes(homology)\n",
    "    genome = genome[:min(len(genome), genome_limit)]\n",
    "    data.addGenomes(genome, verbose=True)\n",
    "    trainsetup = ProfileFindingSetup.ProfileFindingTrainingSetup(data,\n",
    "                                                                 tiles_per_X = 7,\n",
    "                                                                 tile_size = 334,\n",
    "                                                                 U = 200, n_best_profiles=1)\n",
    "    trainsetup.initializeProfiles(enforceU=False, plot=False, overlapTilesize=6)\n",
    "    sensitivity, specificity = training.trainAndEvaluate(trainsetup, outdir, outprefix=f\"{i:03}_\", \n",
    "                                                         trainingWithReporting=True, rand_seed=SEED)\n",
    "    \n",
    "    accuracies.append([i, sensitivity, specificity])\n",
    "    with open(os.path.join(outdir, \"results.json\"), 'wt') as fh:\n",
    "        json.dump(accuracies, fh)"
   ]
  },
  {
   "cell_type": "code",
   "execution_count": 28,
   "metadata": {},
   "outputs": [
    {
     "data": {
      "text/html": [
       "<div>\n",
       "<style scoped>\n",
       "    .dataframe tbody tr th:only-of-type {\n",
       "        vertical-align: middle;\n",
       "    }\n",
       "\n",
       "    .dataframe tbody tr th {\n",
       "        vertical-align: top;\n",
       "    }\n",
       "\n",
       "    .dataframe thead th {\n",
       "        text-align: right;\n",
       "    }\n",
       "</style>\n",
       "<table border=\"1\" class=\"dataframe\">\n",
       "  <thead>\n",
       "    <tr style=\"text-align: right;\">\n",
       "      <th></th>\n",
       "      <th>i</th>\n",
       "      <th>training_time</th>\n",
       "      <th>sensitivity</th>\n",
       "      <th>specificity</th>\n",
       "    </tr>\n",
       "  </thead>\n",
       "  <tbody>\n",
       "    <tr>\n",
       "      <th>0</th>\n",
       "      <td>0</td>\n",
       "      <td>57.98</td>\n",
       "      <td>1.0</td>\n",
       "      <td>1.0</td>\n",
       "    </tr>\n",
       "    <tr>\n",
       "      <th>1</th>\n",
       "      <td>1</td>\n",
       "      <td>1071.35</td>\n",
       "      <td>1.0</td>\n",
       "      <td>1.0</td>\n",
       "    </tr>\n",
       "    <tr>\n",
       "      <th>2</th>\n",
       "      <td>2</td>\n",
       "      <td>17.28</td>\n",
       "      <td>1.0</td>\n",
       "      <td>1.0</td>\n",
       "    </tr>\n",
       "    <tr>\n",
       "      <th>3</th>\n",
       "      <td>3</td>\n",
       "      <td>292.60</td>\n",
       "      <td>0.5</td>\n",
       "      <td>1.0</td>\n",
       "    </tr>\n",
       "    <tr>\n",
       "      <th>4</th>\n",
       "      <td>4</td>\n",
       "      <td>60.35</td>\n",
       "      <td>1.0</td>\n",
       "      <td>1.0</td>\n",
       "    </tr>\n",
       "    <tr>\n",
       "      <th>5</th>\n",
       "      <td>5</td>\n",
       "      <td>11.22</td>\n",
       "      <td>1.0</td>\n",
       "      <td>1.0</td>\n",
       "    </tr>\n",
       "    <tr>\n",
       "      <th>6</th>\n",
       "      <td>6</td>\n",
       "      <td>45.33</td>\n",
       "      <td>1.0</td>\n",
       "      <td>1.0</td>\n",
       "    </tr>\n",
       "  </tbody>\n",
       "</table>\n",
       "</div>"
      ],
      "text/plain": [
       "   i  training_time  sensitivity  specificity\n",
       "0  0          57.98          1.0          1.0\n",
       "1  1        1071.35          1.0          1.0\n",
       "2  2          17.28          1.0          1.0\n",
       "3  3         292.60          0.5          1.0\n",
       "4  4          60.35          1.0          1.0\n",
       "5  5          11.22          1.0          1.0\n",
       "6  6          45.33          1.0          1.0"
      ]
     },
     "execution_count": 28,
     "metadata": {},
     "output_type": "execute_result"
    }
   ],
   "source": [
    "traindir = \"./20231013-172404_test/\"\n",
    "#with open(os.path.join(traindir, \"results.json\"), 'rt') as fh:\n",
    "#    accuracies = json.load(fh)\n",
    "import pandas as pd\n",
    "accuracies = pd.read_csv(os.path.join(traindir, \"results.csv\"))\n",
    "accuracies"
   ]
  },
  {
   "cell_type": "code",
   "execution_count": null,
   "metadata": {},
   "outputs": [],
   "source": [
    "assert False # stop here"
   ]
  },
  {
   "cell_type": "markdown",
   "metadata": {},
   "source": [
    "---\n",
    "\n",
    "### Old apporach:"
   ]
  },
  {
   "cell_type": "code",
   "execution_count": null,
   "metadata": {},
   "outputs": [],
   "source": [
    "# add genomes\n",
    "if use_real_data:\n",
    "    genome_limit = min(len(genomes), 250)\n",
    "    #data.addGenomes(genomes[:genome_limit], verbose=True)\n",
    "    data.addGenomes(homolgyTupelToGenomes( homologies[0][:genome_limit] ), verbose=True)"
   ]
  },
  {
   "cell_type": "markdown",
   "metadata": {},
   "source": [
    "---\n",
    "\n",
    "#### Interlude: Magic Commands\n",
    "\n",
    "https://towardsdatascience.com/speed-up-jupyter-notebooks-20716cbe2025\n",
    "\n",
    "`%time command` prints runtime of command  \n",
    "`%prun command` profiler for command, what steps take how much time? Adds overhead  \n",
    "`%memit command` peak memory usage and memory increment  \n",
    "`%mprun command` memory profiling\n",
    "\n",
    "---"
   ]
  },
  {
   "cell_type": "markdown",
   "metadata": {},
   "source": [
    "### Setup Training"
   ]
  },
  {
   "cell_type": "markdown",
   "metadata": {},
   "source": [
    "    U = 200, tiles_per_X = 13: 6630,315,1,4449\n",
    "    U = 100, tiles_per_X = 13: 6630,315,1,4449\n",
    "    U = 200, tiles_per_X =  7: 3570,4449,315,1"
   ]
  },
  {
   "cell_type": "code",
   "execution_count": null,
   "metadata": {},
   "outputs": [],
   "source": [
    "trainsetup = ProfileFindingSetup.ProfileFindingTrainingSetup(data,\n",
    "                                                             tiles_per_X = 7,\n",
    "                                                             tile_size = 334,\n",
    "                                                             U = 200, n_best_profiles=2)\n",
    "trainsetup.print()"
   ]
  },
  {
   "cell_type": "code",
   "execution_count": null,
   "metadata": {},
   "outputs": [],
   "source": [
    "# set logging level for logomaker to avoid debug message clutter\n",
    "logging.getLogger('trainsetup.plotting.logomaker').setLevel(logging.WARNING)"
   ]
  },
  {
   "cell_type": "code",
   "execution_count": null,
   "metadata": {},
   "outputs": [],
   "source": [
    "trainsetup.initializeProfiles(enforceU=False, plot=True, overlapTilesize=6)"
   ]
  },
  {
   "cell_type": "code",
   "execution_count": null,
   "metadata": {},
   "outputs": [],
   "source": [
    "print_gpu_memory()"
   ]
  },
  {
   "cell_type": "code",
   "execution_count": null,
   "metadata": {},
   "outputs": [],
   "source": [
    "# build and randomly initialize profile model\n",
    "tf.keras.backend.clear_session() # avoid memory cluttering by remains of old models\n",
    "specProModel = None\n",
    "specProModel = model.SpecificProfile(setup = trainsetup,\n",
    "                                     alphabet_size = su.aa_alphabet_size, \n",
    "                                     rand_seed = SEED)\n",
    "\n",
    "if trainsetup.initProfiles is None:\n",
    "    %time P_logit_init = specProModel.seed_P_genome(data.genomes)\n",
    "    specProModel.setP_logit(P_logit_init)"
   ]
  },
  {
   "cell_type": "code",
   "execution_count": null,
   "metadata": {},
   "outputs": [],
   "source": [
    "print_gpu_memory()"
   ]
  },
  {
   "cell_type": "markdown",
   "metadata": {},
   "source": [
    "### Training\n",
    "\n",
    "Hint: If training fails (because conv2d throws strange errors), try shutdown all kernels,\n",
    "in a terminal execute `rm -r ~/.nv` to clear some cache and restart kernel. Usually it then works again."
   ]
  },
  {
   "cell_type": "code",
   "execution_count": null,
   "metadata": {},
   "outputs": [],
   "source": [
    "trainsetup.data.stats()"
   ]
  },
  {
   "cell_type": "code",
   "execution_count": null,
   "metadata": {},
   "outputs": [],
   "source": [
    "def estimateMemoryDemand(setup: ProfileFindingSetup.ProfileFindingTrainingSetup, bytesPerElem = 4):\n",
    "    scaleToGB = bytesPerElem / (1024*1024*1024)\n",
    "    convDim = int(72.01428571428572 * setup.data.N + -1786.3214285714294) # estimate from 20230829_estimateConvolutionTensorDimension.ipynb\n",
    "    # X\n",
    "    Xelems = setup.batch_size * setup.tiles_per_X * setup.data.N * 6 * setup.tile_size * 21\n",
    "    print(f\"X: ({setup.batch_size} * {setup.tiles_per_X} * {setup.data.N} * 6 * {setup.tile_size} * 21) = {Xelems*scaleToGB:.2f} GB\")\n",
    "    # posTracking\n",
    "    PTelems = setup.batch_size * setup.tiles_per_X * setup.data.N * 6 * 4\n",
    "    print(f\"posTrack: ({setup.batch_size} * {setup.tiles_per_X} * {setup.data.N} * 6 * 4) = {PTelems*scaleToGB:.2f} GB\")\n",
    "    # P\n",
    "    Pelems = setup.U * 21 * setup.k\n",
    "    print(f\"P: ({setup.U} * 21 * {setup.k}) = {Pelems*scaleToGB:.2f} GB\")\n",
    "    # convolution\n",
    "    CONVelems = setup.tiles_per_X * setup.data.N * 6 * convDim * (setup.tile_size - setup.k + 1) * 1\n",
    "    print(f\"h.param.: tiles_per_X {setup.tiles_per_X}, N {setup.data.N}, tile_size {setup.tile_size}, k {setup.k}\")\n",
    "    print(f\"conv.: ({setup.tiles_per_X * setup.data.N * 6} * {setup.tile_size - setup.k + 1} * {convDim} * 1) = {CONVelems*scaleToGB:.2f} GB\")\n",
    "    print(f\"conv * 4 = {CONVelems*scaleToGB*4:.2f} GB / {_available_gpu_memory[0]/1024:.2f} GB\")\n",
    "    \n",
    "estimateMemoryDemand(trainsetup)"
   ]
  },
  {
   "cell_type": "code",
   "execution_count": null,
   "metadata": {},
   "outputs": [],
   "source": [
    "trainingWithReporting = True"
   ]
  },
  {
   "cell_type": "code",
   "execution_count": null,
   "metadata": {},
   "outputs": [],
   "source": [
    "print_gpu_memory()"
   ]
  },
  {
   "cell_type": "code",
   "execution_count": null,
   "metadata": {},
   "outputs": [],
   "source": [
    "start = time()\n",
    "if trainingWithReporting:\n",
    "    specProModel.train_reporting(verbose_freq=10)\n",
    "else:\n",
    "    specProModel.train_classic(trainsetup.getDataset(repeat=True))\n",
    "    \n",
    "end = time()\n",
    "print(f\"time: {end-start:.2f}\")"
   ]
  },
  {
   "cell_type": "code",
   "execution_count": null,
   "metadata": {},
   "outputs": [],
   "source": [
    "print_gpu_memory()"
   ]
  },
  {
   "cell_type": "markdown",
   "metadata": {},
   "source": [
    "## Training History"
   ]
  },
  {
   "cell_type": "code",
   "execution_count": null,
   "metadata": {},
   "outputs": [],
   "source": [
    "plotting.plotHistory(specProModel.history)"
   ]
  },
  {
   "cell_type": "markdown",
   "metadata": {},
   "source": [
    "Loss history of trained profiles over epochs"
   ]
  },
  {
   "cell_type": "code",
   "execution_count": null,
   "metadata": {},
   "outputs": [],
   "source": [
    "if trainingWithReporting:\n",
    "    plh = tf.transpose(specProModel.P_report_plosshist).numpy()\n",
    "    fig, ax = plt.subplots(1,1, figsize=(2*1920/100,2*1080/100), dpi=100)\n",
    "    hm = ax.imshow(plh, interpolation = 'nearest', cmap=\"rainbow\")\n",
    "    plt.colorbar(hm)\n",
    "    fig.show()"
   ]
  },
  {
   "cell_type": "markdown",
   "metadata": {},
   "source": [
    "ID and loss of the best profile after each epoch"
   ]
  },
  {
   "cell_type": "code",
   "execution_count": null,
   "metadata": {},
   "outputs": [],
   "source": [
    "if trainingWithReporting:\n",
    "    bestlosshist = [l.numpy() for l in specProModel.P_report_bestlosshist]\n",
    "    bestlosshistIdx = [i.numpy() for i in specProModel.P_report_bestlosshistIdx]"
   ]
  },
  {
   "cell_type": "code",
   "execution_count": null,
   "metadata": {},
   "outputs": [],
   "source": [
    "if trainingWithReporting:\n",
    "    import plotly.express as px\n",
    "    px.scatter(x = list(range(len(bestlosshist))),\n",
    "               y = bestlosshist, \n",
    "               color = bestlosshistIdx).show()"
   ]
  },
  {
   "cell_type": "markdown",
   "metadata": {},
   "source": [
    "Change of best profile ID after each epoch (color change == ID change)"
   ]
  },
  {
   "cell_type": "code",
   "execution_count": null,
   "metadata": {},
   "outputs": [],
   "source": [
    "if trainingWithReporting:\n",
    "    c = 0\n",
    "    bincol = [c]\n",
    "    for i in range(1,len(bestlosshistIdx)):\n",
    "        if bestlosshistIdx[i] != bestlosshistIdx[i-1]:\n",
    "            c += 1\n",
    "\n",
    "        bincol.append(c)\n",
    "\n",
    "    bincol = [c%2 for c in bincol]\n",
    "\n",
    "    px.scatter(x = list(range(len(bestlosshist))),\n",
    "               y = bestlosshist, \n",
    "               color=bincol).show()"
   ]
  },
  {
   "cell_type": "markdown",
   "metadata": {},
   "source": [
    "## Results\n",
    "\n",
    "### Visualize resulting profiles as sequence logos"
   ]
  },
  {
   "cell_type": "code",
   "execution_count": null,
   "metadata": {},
   "outputs": [],
   "source": [
    "if len(specProModel.P_report_discarded) > 0:\n",
    "    Pedge = tf.nn.softmax(tf.transpose(specProModel.P_report_discarded, [1,2,0]), axis=1)\n",
    "    print(\"Edge cases:\")\n",
    "    plotLogo(Pedge)"
   ]
  },
  {
   "cell_type": "code",
   "execution_count": null,
   "metadata": {},
   "outputs": [],
   "source": [
    "if trainingWithReporting:\n",
    "    _,_ = data.expectedPatterns()\n",
    "    P, Pthresh, Ploss = specProModel.getP_report()\n",
    "    Pwhole, PwholeScore, PwholeLoss = specProModel.getP_report_whole()\n",
    "    plotting.plotLogo(P=P, pScores=np.array(Pthresh)/specProModel.setup.match_score_factor, pLosses=Ploss, max_print=10)#, label=\"Score Threshold\")\n",
    "    #plotLogo(P=Pwhole, pScores=PwholeScore, pLosses=PwholeLoss, max_print=10)#, label=\"Score Threshold\")\n",
    "    \n",
    "else:\n",
    "    P, scores, losses = specProModel.getP_optimal(0, lossStatistics=True)\n",
    "    _,_ = data.expectedPatterns()\n",
    "    pScores = specProModel.max_profile_scores(specProModel.setup.getDataset())\n",
    "    pLosses = specProModel.min_profile_losses(specProModel.setup.getDataset())\n",
    "    # sort after loss\n",
    "    plotting.plotLogo(P=P, idxarray = np.argsort(pLosses), pScores=pScores, pLosses=pLosses, max_print=5)#, label=\"loss\")\n",
    "    # sort after scores\n",
    "    #plotLogo(P=P, idxarray = np.argsort(pScores)[::-1], pScores=pScores, pLosses=pLosses, max_print=5)#, label=\"loss\")"
   ]
  },
  {
   "cell_type": "markdown",
   "metadata": {},
   "source": [
    "### Draw Link Image"
   ]
  },
  {
   "cell_type": "code",
   "execution_count": null,
   "metadata": {},
   "outputs": [],
   "source": [
    "# get match sites of profiles\n",
    "thresh = Pthresh if trainingWithReporting else specProModel.setup.match_score_factor * scores\n",
    "\n",
    "onlyPid = None\n",
    "if onlyPid is None:\n",
    "    sites, siteScores, _ = specProModel.get_profile_match_sites(specProModel.setup.getDataset(withPosTracking = True, original_data=True), \n",
    "                                                                thresh, otherP = P)\n",
    "else:\n",
    "    sites, siteScores, _ = specProModel.get_profile_match_sites(specProModel.setup.getDataset(withPosTracking = True, original_data=True), \n",
    "                                                                thresh[onlyPid], otherP = P[:,:,onlyPid:onlyPid+1])\n",
    "    \n",
    "print(\"[DEBUG] >>> sites:\", sites.numpy()[:20,]) # (sites, (genomeID, contigID, pos, u, f))\n",
    "#print(siteScores)"
   ]
  },
  {
   "cell_type": "code",
   "execution_count": null,
   "metadata": {},
   "outputs": [],
   "source": [
    "importlib.reload(Links)\n",
    "#links, linkProfiles, skipped = plotting.sitesToLinks(sites.numpy(), 1000)\n",
    "links, linkProfiles, skipped = Links.linksFromSites(sites, specProModel.setup.k*3, specProModel.setup.data.genomes, 1000)\n",
    "print(f\"[DEBUG] >>> links[:{min(len(links), 2)}]\", links[:min(len(links), 2)])\n",
    "print(\"[DEBUG] >>> len(links)\", len(links))\n",
    "#links = [sorted(l) for l in links]"
   ]
  },
  {
   "cell_type": "code",
   "execution_count": null,
   "metadata": {},
   "outputs": [],
   "source": [
    "linkProfiles"
   ]
  },
  {
   "cell_type": "code",
   "execution_count": null,
   "metadata": {},
   "outputs": [],
   "source": [
    "links[0].MSA()"
   ]
  },
  {
   "cell_type": "code",
   "execution_count": null,
   "metadata": {},
   "outputs": [],
   "source": [
    "links[0].MSA(True)"
   ]
  },
  {
   "cell_type": "code",
   "execution_count": null,
   "metadata": {},
   "outputs": [],
   "source": [
    "kmerSites = []\n",
    "for kmer in trainsetup.initKmerPositions:\n",
    "    kmerSites.extend(trainsetup.initKmerPositions[kmer])\n",
    "\n",
    "masksides = specProModel.getMaskedSites(0)\n",
    "\n",
    "plotting.drawGeneLinks_SequenceRepresentationData(data.genomes, links, \n",
    "                                                  imname=\"links.png\", kmerSites=kmerSites, kmerCol='deeppink',\n",
    "                                                  maskingSites=masksides, maskingCol='chocolate')"
   ]
  },
  {
   "cell_type": "markdown",
   "metadata": {},
   "source": [
    "### Accuracy (draft)\n",
    "\n",
    "Sensitivity: Number of human exons hit by a link / number of human exons\n",
    "\n",
    "Specificity: Number of links that hit human exon / number of links"
   ]
  },
  {
   "cell_type": "code",
   "execution_count": null,
   "metadata": {},
   "outputs": [],
   "source": [
    "def accuracy(links: list[Links.Link]):\n",
    "    assert data.genomes[0].species == 'Homo_sapiens'\n",
    "    #nlinks = len(links)\n",
    "    nlinks = 0\n",
    "    nhumanExons = 0\n",
    "    nexonsHit = 0\n",
    "    nlinksThatHit = 0\n",
    "    for link in links:\n",
    "        occ = link.occs[0]\n",
    "        if link.genomes[0].species == 'Homo_sapiens':\n",
    "            nlinks += 1\n",
    "    \n",
    "    for sequence in data.genomes[0]:\n",
    "        for i, exon in enumerate(sequence.genomic_elements):\n",
    "            nhumanExons += 1\n",
    "            exonHit = False\n",
    "            exonStart, exonEnd = exon.getRelativePositions(sequence)\n",
    "            for link in links:\n",
    "                occ = link.occs[0]\n",
    "                assert link.genomes[0].species == 'Homo_sapiens'\n",
    "                if (occ.sequenceIdx == i) and (exonStart <= occ.position + link.span - 1) and (occ.position < exonEnd):\n",
    "                    exonHit = True\n",
    "                    nlinksThatHit += 1\n",
    "                    \n",
    "            if exonHit:\n",
    "                nexonsHit += 1\n",
    "                \n",
    "    print(f\"Sensitivity: {nexonsHit} / {nhumanExons} = {nexonsHit/nhumanExons}\")\n",
    "    print(f\"Specificity: {nlinksThatHit} / {nlinks} = {nlinksThatHit/nlinks}\")\n",
    "                \n",
    "accuracy(links)"
   ]
  },
  {
   "cell_type": "code",
   "execution_count": null,
   "metadata": {},
   "outputs": [],
   "source": [
    "profileToLinks = [0] * P.shape[-1]\n",
    "for link in links:\n",
    "    u = link[0].profileIdx\n",
    "    profileToLinks[u] += 1\n",
    "    \n",
    "profileToLinks"
   ]
  },
  {
   "cell_type": "markdown",
   "metadata": {},
   "source": [
    "---"
   ]
  },
  {
   "cell_type": "code",
   "execution_count": null,
   "metadata": {},
   "outputs": [],
   "source": [
    "assert False"
   ]
  },
  {
   "cell_type": "markdown",
   "metadata": {},
   "source": [
    "## Investigate"
   ]
  },
  {
   "cell_type": "code",
   "execution_count": null,
   "metadata": {},
   "outputs": [],
   "source": [
    "if len(specProModel.P_report):\n",
    "    plt.hist(tf.reshape(specProModel.getP_report_raw(), (-1)).numpy())\n",
    "else:\n",
    "    plt.hist(tf.reshape(specProModel.P_logit, (-1)).numpy())"
   ]
  },
  {
   "cell_type": "code",
   "execution_count": null,
   "metadata": {},
   "outputs": [],
   "source": [
    "specProModel.P_report_plosshist.shape"
   ]
  },
  {
   "cell_type": "code",
   "execution_count": null,
   "metadata": {},
   "outputs": [],
   "source": [
    "plt.hist(tf.reshape(specProModel.P_report_plosshist, (-1)).numpy())"
   ]
  },
  {
   "cell_type": "code",
   "execution_count": null,
   "metadata": {},
   "outputs": [],
   "source": [
    "blhwindow = bestlosshist[52:62]\n",
    "plt.hist(blhwindow)\n",
    "print(np.mean(blhwindow))\n",
    "print(np.std(blhwindow))\n",
    "print([v-np.mean(blhwindow) for v in blhwindow])"
   ]
  },
  {
   "cell_type": "code",
   "execution_count": null,
   "metadata": {},
   "outputs": [],
   "source": [
    "#tf.reduce_sum(tf.math.square(specProModel.P_logit), axis=[0,1]) / specProModel.P_logit.shape[0] * l2"
   ]
  },
  {
   "cell_type": "code",
   "execution_count": null,
   "metadata": {},
   "outputs": [],
   "source": [
    "#tf.reduce_sum(specProModel.P_logit, axis=[0,1]) #* 0.001"
   ]
  },
  {
   "cell_type": "code",
   "execution_count": null,
   "metadata": {},
   "outputs": [],
   "source": [
    "#specProModel.P_logit[:,:,0]\n",
    "#specProModel.getP_report_raw()[:,:,1]"
   ]
  },
  {
   "cell_type": "code",
   "execution_count": null,
   "metadata": {},
   "outputs": [],
   "source": [
    "Rcount = 0\n",
    "sumlen = 0\n",
    "for s in su.six_frame_translation(data.extractSequences()[0][0]):\n",
    "    Rcount += s.count('R')\n",
    "    sumlen += len(s)\n",
    "    \n",
    "print(Rcount, sumlen, Rcount/sumlen, 6/64)"
   ]
  },
  {
   "cell_type": "code",
   "execution_count": null,
   "metadata": {},
   "outputs": [],
   "source": [
    "if trainingWithReporting:\n",
    "    for i in range(len(specProModel.P_report)):\n",
    "        print(\"profile\", i, \"-- nsites:\", len(specProModel.P_report_masked_sites[i]), \"// nlinks:\", specProModel.P_report_nlinks[i].numpy())"
   ]
  },
  {
   "cell_type": "code",
   "execution_count": null,
   "metadata": {},
   "outputs": [],
   "source": [
    "if trainingWithReporting and False:\n",
    "    for s in specProModel.P_report_masked_sites[0]:\n",
    "        print(s[0])\n",
    "        g = s[1].numpy()\n",
    "        c = s[2].numpy()\n",
    "        a = s[3].numpy()\n",
    "        b = s[4].numpy()\n",
    "        print(genomes[g][c][a-5:b+5])"
   ]
  },
  {
   "cell_type": "code",
   "execution_count": null,
   "metadata": {},
   "outputs": [],
   "source": [
    "import plotly.express as px\n",
    "\n",
    "if not trainingWithReporting:\n",
    "    fig = px.histogram(x=pLosses)\n",
    "    fig.show()\n",
    "\n",
    "    print(scipy.stats.describe(pLosses))\n",
    "    print(\"mean:\", np.mean(pLosses))\n",
    "    print(\"std: \", np.std(pLosses))\n",
    "    print(\"-Z: \", np.mean(pLosses)-np.std(pLosses))\n",
    "    print(\"-2Z:\", np.mean(pLosses)-2*np.std(pLosses))"
   ]
  },
  {
   "cell_type": "code",
   "execution_count": null,
   "metadata": {},
   "outputs": [],
   "source": [
    "if trainingWithReporting:\n",
    "    for i in range(len(specProModel.P_report)):\n",
    "        print(\"profile\", i, \"-- kmer scores:\", specProModel.P_report_kmer_scores[i])\n",
    "        \n",
    "else:\n",
    "    printExpectedPatterns()\n",
    "    z = np.mean(pLosses)-np.std(pLosses) # more or less reasonable loss cutoff\n",
    "    P, scores, losses = specProModel.getP_optimal(dsh, z)\n",
    "    plotLogo(P=P, idxarray = np.argsort(losses), pScores=scores, pLosses=losses, max_print=5)#, label=\"loss\")"
   ]
  },
  {
   "cell_type": "code",
   "execution_count": null,
   "metadata": {
    "tags": []
   },
   "outputs": [],
   "source": [
    "#if not trainingWithReporting:\n",
    "#    printExpectedPatterns()\n",
    "#    plotLogo(P=P, idxarray = np.argsort(-scores), pScores=scores, pLosses=losses, max_print=5)#, label=\"loss\")"
   ]
  },
  {
   "cell_type": "code",
   "execution_count": null,
   "metadata": {},
   "outputs": [],
   "source": [
    "#assert False # stop if run all cells"
   ]
  },
  {
   "cell_type": "markdown",
   "metadata": {},
   "source": [
    "### Get Sensitivity and Specificity"
   ]
  },
  {
   "cell_type": "code",
   "execution_count": null,
   "metadata": {},
   "outputs": [],
   "source": [
    "midK = 6\n",
    "kmerCount = {}\n",
    "genomes = data.extractSequences()\n",
    "for g in range(len(genomes)):\n",
    "    for c in range(len(genomes[g])):\n",
    "        for seq in su.six_frame_translation(genomes[g][c]):\n",
    "            for i in range(len(seq)-midK+1):\n",
    "                kmer = seq[i:i+midK]\n",
    "                if (' ' not in kmer):\n",
    "                    if kmer not in kmerCount:\n",
    "                        kmerCount[kmer] = 0\n",
    "\n",
    "                    kmerCount[kmer] += 1"
   ]
  },
  {
   "cell_type": "code",
   "execution_count": null,
   "metadata": {},
   "outputs": [],
   "source": [
    "len(kmerCount)"
   ]
  },
  {
   "cell_type": "code",
   "execution_count": null,
   "metadata": {},
   "outputs": [],
   "source": [
    "maxbin = max([kmerCount[i] for i in kmerCount])\n",
    "maxbin"
   ]
  },
  {
   "cell_type": "code",
   "execution_count": null,
   "metadata": {},
   "outputs": [],
   "source": [
    "n, bins, _ = plt.hist(x = [kmerCount[i] for i in kmerCount], #if kmerCount[i] >= len(genomes)], \n",
    "                      bins = list(range(1, maxbin+1)))"
   ]
  },
  {
   "cell_type": "code",
   "execution_count": null,
   "metadata": {},
   "outputs": [],
   "source": [
    "len(n)"
   ]
  },
  {
   "cell_type": "code",
   "execution_count": null,
   "metadata": {},
   "outputs": [],
   "source": [
    "print(\"Cumulative number of profiles when kmer occurs >= bin times\")\n",
    "[(str(bins[i])+\"-\"+str(bins[i+1]), sum(n[i:])) for i in range(len(n))]"
   ]
  },
  {
   "cell_type": "code",
   "execution_count": null,
   "metadata": {},
   "outputs": [],
   "source": [
    "def makeP(count, kmerCount=kmerCount, specProModel=specProModel, geq=False):\n",
    "    if geq:\n",
    "        kmers = [kmer for kmer in kmerCount if kmerCount[kmer] >= count]\n",
    "    else:\n",
    "        kmers = [kmer for kmer in kmerCount if kmerCount[kmer] == count]\n",
    "        \n",
    "    P = np.array([dsg.oneHot(kmer) for kmer in kmers]) # U, k, 21\n",
    "    P = np.transpose(P, (1,2,0))\n",
    "    R = specProModel.getR(P).numpy() # (k, 21, U)\n",
    "    thresh = np.sum(np.multiply(P, R), axis=(0,1), dtype=np.float32) # U, P acts as \"sequence\", thus calculating the match score of a perfect kmer match in the sequence\n",
    "    if not geq:\n",
    "        print(\"[INFO] >>> Expected number of sites:\", count, \"*\", P.shape[2], \"=\", count*P.shape[2])\n",
    "    else:\n",
    "        print(\"[INFO] >>> Expected number of sites:\", sum([kmerCount[kmer] for kmer in kmerCount if kmerCount[kmer] >= count]))\n",
    "        \n",
    "    return P, thresh"
   ]
  },
  {
   "cell_type": "code",
   "execution_count": null,
   "metadata": {},
   "outputs": [],
   "source": [
    "if False:\n",
    "    P, Pthresh = makeP(12, geq=True)\n",
    "    print(P.shape)"
   ]
  },
  {
   "cell_type": "code",
   "execution_count": null,
   "metadata": {},
   "outputs": [],
   "source": [
    "if trainingWithReporting:\n",
    "    trainsetup.genomeToAllUC()\n",
    "    #for g in range(len(dsh.genomes)):\n",
    "    #    for c in range(len(dsh.genomes[g])):\n",
    "    #        dsh.genomes[g][c] = dsh.genomes[g][c].upper()\n",
    "\n",
    "# get match sites of profiles\n",
    "thresh = Pthresh if trainingWithReporting else 0.9*scores #match_score_factor*scores\n",
    "\n",
    "onlyPid = None\n",
    "if onlyPid is None:\n",
    "    sites, siteScores, _ = specProModel.get_profile_match_sites(trainsetup.getDataset(withPosTracking = True), thresh, otherP = P)\n",
    "else:\n",
    "    sites, siteScores, _ = specProModel.get_profile_match_sites(trainsetup.getDataset(withPosTracking = True), thresh[onlyPid], otherP = P[:,:,onlyPid:onlyPid+1])\n",
    "    \n",
    "print(sites.numpy()[:20,]) # (sites, (genomeID, contigID, pos, u, f))\n",
    "#print(siteScores)"
   ]
  },
  {
   "cell_type": "code",
   "execution_count": null,
   "metadata": {},
   "outputs": [],
   "source": [
    "if not use_sim_data:\n",
    "    links, linkProfiles, skipped = plotting.sitesToLinks(sites.numpy(), 1000)\n",
    "    print(links[:5])\n",
    "    print(len(links))\n",
    "    links = [sorted(l) for l in links]"
   ]
  },
  {
   "cell_type": "code",
   "execution_count": null,
   "metadata": {},
   "outputs": [],
   "source": [
    "if not use_sim_data:\n",
    "    if len(skipped):\n",
    "        fig = px.histogram(x=[s[1] for s in skipped])\n",
    "        fig.show()"
   ]
  },
  {
   "cell_type": "markdown",
   "metadata": {},
   "source": [
    "### Draw Link Image"
   ]
  },
  {
   "cell_type": "code",
   "execution_count": null,
   "metadata": {},
   "outputs": [],
   "source": [
    "print(specProModel.tracking['masking'])"
   ]
  },
  {
   "cell_type": "code",
   "execution_count": null,
   "metadata": {},
   "outputs": [],
   "source": [
    "def getMaskedSites(idx, specProModel=specProModel):\n",
    "    sites = []\n",
    "    for site in specProModel.P_report_masked_sites[idx]:\n",
    "        seq, g, c, a, b = site\n",
    "        #print(seq, g.numpy(), c.numpy(), a.numpy(), b.numpy())\n",
    "        sites.append((g.numpy(), c.numpy(), a.numpy()))\n",
    "    \n",
    "    return sites"
   ]
  },
  {
   "cell_type": "code",
   "execution_count": null,
   "metadata": {},
   "outputs": [],
   "source": [
    "sites.numpy()"
   ]
  },
  {
   "cell_type": "code",
   "execution_count": null,
   "metadata": {},
   "outputs": [],
   "source": [
    "links"
   ]
  },
  {
   "cell_type": "code",
   "execution_count": null,
   "metadata": {},
   "outputs": [],
   "source": [
    "importlib.reload(plotting)\n",
    "drawGeneLinks = True\n",
    "if drawGeneLinks and False:\n",
    "    if use_sim_data:\n",
    "        #plotting.drawGeneLinks_simData(genomes, links, posDict, kmerSites=kmerPositions, kmerCol='greenyellow',\n",
    "        #                               imname='/home/jovyan/brain/genomegraph/learn_specific_profiles/links.png')\n",
    "        masksides = getMaskedSites(0)\n",
    "        #masksides.extend(getMaskedSites(1))\n",
    "        plotting.drawGeneLinks_simData(genomes, sites.numpy(), posDict, linksAreSites=True, kmerSites=kmerPositions, kmerCol='deeppink',\n",
    "                                       maskingSites=masksides, maskingCol='chocolate',\n",
    "                                       imname='/home/jovyan/brain/genomegraph/learn_specific_profiles/links.png', linkwidth=4)\n",
    "        \n",
    "    if use_real_data and False:\n",
    "        #plotting.drawGeneLinks_realData(datapath, seqnames, links,\n",
    "        #                                '/home/jovyan/brain/genomegraph/learn_specific_profiles/links.png')\n",
    "        plotting.drawGeneLinks_toyData(genomes, links, [], [],\n",
    "                                       '/home/jovyan/brain/genomegraph/learn_specific_profiles/links.png')\n",
    "        \n",
    "    if use_real_data:\n",
    "        masksides = getMaskedSites(0)\n",
    "        plotting.drawGeneLinks_SequenceRepresentationData(sequences, links, '/home/jovyan/brain/genomegraph/learn_specific_profiles/links.png',\n",
    "                                                          kmerSites=kmerPositions, kmerCol='deeppink',\n",
    "                                                          maskingSites=masksides, maskingCol='chocolate')\n",
    "        \n",
    "    if use_toy_data:\n",
    "        plotting.drawGeneLinks_toyData(genomes, links, insertTracking, repeatTracking,\n",
    "                                       '/home/jovyan/brain/genomegraph/learn_specific_profiles/links.png')\n",
    "elif drawGeneLinks:\n",
    "    kmerSites = []\n",
    "    for kmer in trainsetup.initKmerPositions:\n",
    "        kmerSites.extend(trainsetup.initKmerPositions[kmer])\n",
    "        \n",
    "    masksides = getMaskedSites(0)\n",
    "        \n",
    "    plotting.drawGeneLinks_SequenceRepresentationData(data.genomes, links, \n",
    "                                                      imname=None, kmerSites=kmerSites, kmerCol='deeppink',\n",
    "                                                      maskingSites=masksides, maskingCol='chocolate')"
   ]
  },
  {
   "cell_type": "code",
   "execution_count": null,
   "metadata": {},
   "outputs": [],
   "source": [
    "if False and use_sim_data:\n",
    "    links = [sorted(l) for l in links]\n",
    "    tp = 0\n",
    "    noise = 0\n",
    "    for link in links:\n",
    "        if all([o[2] >= posDict['start_codon'] and o[2] <= posDict['3flank_start']-k for o in link]):\n",
    "            tp += 1\n",
    "        else:\n",
    "            noise += 1\n",
    "            \n",
    "    print(\"TP links:\", tp)\n",
    "    print(\"noise:   \", noise)"
   ]
  },
  {
   "cell_type": "code",
   "execution_count": null,
   "metadata": {},
   "outputs": [],
   "source": [
    "if use_real_data: \n",
    "    allcdslen = 0\n",
    "    allgenelen = 0\n",
    "    ncds = 0\n",
    "    ngenes = 0\n",
    "    for o in orthology:\n",
    "        head = parseSequenceHeader(o)\n",
    "        if head['genome'] == 'hg38':\n",
    "            allgenelen += int(head['seqlen'])\n",
    "            ngenes += 1\n",
    "            cds = gtf[head['tid']]\n",
    "            cdslens = [int(e['end'])-int(e['start']) for e in cds if e['feature'] == 'CDS']\n",
    "            allcdslen += sum(cdslens)\n",
    "            ncds += len(cdslens)\n",
    "            #print(o, cdslen)\n",
    "\n",
    "    print(\"total cds length:\", allcdslen)\n",
    "    print(\" mean cds length:\", allcdslen/ncds)\n",
    "    print(\"total gene length:\", allgenelen)\n",
    "    print(\" mean gene length:\", allgenelen/ngenes)"
   ]
  },
  {
   "cell_type": "markdown",
   "metadata": {},
   "source": [
    "    total cds length: 30074\n",
    "     mean cds length: 138.58986175115209\n",
    "    total gene length: 2189045\n",
    "     mean gene length: 109452.25"
   ]
  },
  {
   "cell_type": "code",
   "execution_count": null,
   "metadata": {},
   "outputs": [],
   "source": [
    "#if not use_real_data:\n",
    "#    assert False"
   ]
  },
  {
   "cell_type": "code",
   "execution_count": null,
   "metadata": {},
   "outputs": [],
   "source": [
    "assert False"
   ]
  },
  {
   "cell_type": "markdown",
   "metadata": {},
   "source": [
    "---\n",
    "\n",
    "Make video of tracked profiles"
   ]
  },
  {
   "cell_type": "code",
   "execution_count": null,
   "metadata": {},
   "outputs": [],
   "source": [
    "def removeFiles(path):\n",
    "    assert os.path.isdir(path), \"[ERROR] >>> '{}' is not a directory\".format(path)\n",
    "    for f in os.listdir(path):\n",
    "        file = os.path.join(path, f)\n",
    "        if os.path.isfile(file):\n",
    "            os.remove(file)"
   ]
  },
  {
   "cell_type": "code",
   "execution_count": null,
   "metadata": {},
   "outputs": [],
   "source": [
    "trackSuccessfullProfiles = specProModel.P_report_idx # [10, 2]\n",
    "\n",
    "def reduceTracking(newtrack, trackProfiles=trackProfiles, specProModel=specProModel):\n",
    "    \"\"\"\n",
    "    {\n",
    "            'epoch': [],\n",
    "            'P': [], # list of np.arrays of all tracked profiles (k x 21 x U') where U'=len(track_profiles)\n",
    "            'max_score': [], # list of np.arrays of respective max scores (U')\n",
    "            'masking': [] # lookup sites in self.P_report_masked_sites\n",
    "        }\n",
    "    \"\"\"\n",
    "    tracking = copy.deepcopy(specProModel.tracking)\n",
    "    subidcs = []\n",
    "    for i in newtrack:\n",
    "        subidcs.append(trackProfiles.index(i))\n",
    "        \n",
    "    newP = []\n",
    "    newScore = []\n",
    "    for i in range(len(tracking['epoch'])):\n",
    "        newP.append(tf.gather(tracking['P'][i], subidcs, axis=2))\n",
    "        newScore.append(tf.gather(tracking['max_score'][i], subidcs, axis=0))\n",
    "        \n",
    "    tracking['P'] = newP\n",
    "    tracking['max_score'] = newScore\n",
    "    \n",
    "    return tracking\n",
    "    \n",
    "\n",
    "# TODO: write code to only visualize these profiles instead of all tracked\n",
    "#trackProfiles\n",
    "successfullTracking = reduceTracking(trackSuccessfullProfiles)"
   ]
  },
  {
   "cell_type": "code",
   "execution_count": null,
   "metadata": {},
   "outputs": [],
   "source": [
    "tracking = specProModel.tracking if True else successfullTracking\n",
    "trackp = trackProfiles if True else trackSuccessfullProfiles"
   ]
  },
  {
   "cell_type": "code",
   "execution_count": null,
   "metadata": {},
   "outputs": [],
   "source": [
    "removeFiles(\"/home/jovyan/brain/genomegraph/learn_specific_profiles/track_profiles/\")\n",
    "removeFiles(\"/home/jovyan/brain/genomegraph/learn_specific_profiles/track_links/\")\n",
    "removeFiles(\"/home/jovyan/brain/genomegraph/learn_specific_profiles/track_combined/\")   \n",
    "\n",
    "masksides = None\n",
    "maskepoch = tracking['masking'][0]['after_epoch'] if len(tracking['masking']) > 0 else np.Inf\n",
    "maskepochidx = 0\n",
    "\n",
    "for i in tracking['epoch']:\n",
    "#if True:\n",
    "#    i = 0\n",
    "    print(\"[DEBUG] >>> epoch {0:0>3}/{1}\".format(i, len(tracking['epoch'])), flush=True)\n",
    "    maxLogo = 3\n",
    "    n = min(len(trackp), maxLogo)\n",
    "    dpi = 100\n",
    "    logoh = 1080\n",
    "    logow = 1080//2\n",
    "    #print(\"[DEBUG] >>> {0:0>3}/{1} --- creating logo figure\".format(i, len(specProModel.tracking['epoch'])), flush=True)\n",
    "    fig, ax = plt.subplots(n, 1, figsize=(logow/dpi, logoh/dpi), dpi=dpi)\n",
    "    #print(\"[DEBUG] >>> {0:0>3}/{1} --- plotting logos\".format(i, len(specProModel.tracking['epoch'])), flush=True)\n",
    "    plotting.plotLogo(tracking['P'][i], pNames=trackp, pScores=tracking['max_score'][i].numpy(), ax=ax, max_print=maxLogo)\n",
    "    #print(\"[DEBUG] >>> {0:0>3}/{1} --- saving logos\".format(i, len(specProModel.tracking['epoch'])), flush=True)\n",
    "    fig.savefig(\"/home/jovyan/brain/genomegraph/learn_specific_profiles/track_profiles/{0:0>3}.png\".format(i))\n",
    "    #print(\"[DEBUG] >>> {0:0>3}/{1} --- close logo figure\".format(i, len(specProModel.tracking['epoch'])), flush=True)\n",
    "    plt.close(fig)\n",
    "    \n",
    "    #print(\"[DEBUG] >>> {0:0>3}/{1} --- call allUC\".format(i, len(specProModel.tracking['epoch'])), flush=True)\n",
    "    dsh.allUC()\n",
    "    #print(\"[DEBUG] >>> {0:0>3}/{1} --- get Pt\".format(i, len(specProModel.tracking['epoch'])), flush=True)\n",
    "    Pt = tracking['P'][i]\n",
    "    #print(\"[DEBUG] >>> {0:0>3}/{1} --- get match sites for {2} profiles\".format(i, len(specProModel.tracking['epoch']), Pt.shape[2]), flush=True)\n",
    "    msf = 0.9 if i == 0 else match_score_factor # only show best matches in first epoch\n",
    "    matches, _, _ = specProModel.get_profile_match_sites(dsh.getDataset(withPosTracking=True), \n",
    "                                                         tracking['max_score'][i]*msf,\n",
    "                                                         otherP = Pt)\n",
    "    if i == maskepoch:\n",
    "        ridx = tracking['masking'][maskepochidx]['P_report_masked_sites_index']\n",
    "        if masksides is None:\n",
    "            masksides = getMaskedSites(ridx)\n",
    "        else:\n",
    "            masksides.extend(getMaskedSites(ridx))\n",
    "            \n",
    "        maskepochidx += 1\n",
    "        if maskepochidx < len(tracking['masking']):\n",
    "            maskepoch = tracking['masking'][maskepochidx]['after_epoch']\n",
    "        else:\n",
    "            maskepoch = np.Inf\n",
    "            \n",
    "    #print(\"[DEBUG] >>> {0:0>3}/{1} --- get links\".format(i, len(specProModel.tracking['epoch'])), flush=True)\n",
    "    #links, _, _ = plotting.sitesToLinks(matches.numpy())\n",
    "    #print(\"[DEBUG] >>> {0:0>3}/{1} --- draw gene link figure\".format(i, len(specProModel.tracking['epoch'])), flush=True)\n",
    "    plotting.drawGeneLinks_simData(genomes, matches.numpy(), posDict, \n",
    "                                   imname = \"/home/jovyan/brain/genomegraph/learn_specific_profiles/track_links/{0:0>3}.png\".format(i),\n",
    "                                   linksAreSites=True, kmerSites=kmerPositions, kmerCol='deeppink',\n",
    "                                   maskingSites=masksides, maskingCol='chocolate',\n",
    "                                   highlightProfiles=[i.numpy() for i in trackSuccessfullProfiles],\n",
    "                                   width = 1920-logow, height = 1080, dpi = dpi,\n",
    "                                   show=False)\n",
    "    #print(\"[DEBUG] >>> {0:0>3}/{1} --- combining plots\".format(i, len(specProModel.tracking['epoch'])), flush=True)\n",
    "    plotting.combinePlots([\"/home/jovyan/brain/genomegraph/learn_specific_profiles/track_links/{0:0>3}.png\".format(i),\n",
    "                           \"/home/jovyan/brain/genomegraph/learn_specific_profiles/track_profiles/{0:0>3}.png\".format(i)], \n",
    "                          rows = 1, cols = 2, \n",
    "                          out = \"/home/jovyan/brain/genomegraph/learn_specific_profiles/track_combined/{0:0>3}.png\".format(i))\n",
    "    #print()"
   ]
  },
  {
   "cell_type": "code",
   "execution_count": null,
   "metadata": {},
   "outputs": [],
   "source": [
    "plotting.makeVideo(\"/home/jovyan/brain/genomegraph/learn_specific_profiles/track_links/\", \"track_links.mp4\", 1)\n",
    "plotting.makeVideo(\"/home/jovyan/brain/genomegraph/learn_specific_profiles/track_profiles/\", \"track_profiles.mp4\", 1)\n",
    "plotting.makeVideo(\"/home/jovyan/brain/genomegraph/learn_specific_profiles/track_combined/\", \"track_combined.mp4\", 1)"
   ]
  },
  {
   "cell_type": "markdown",
   "metadata": {},
   "source": [
    "# TODO \n",
    "- [x] Download track_combined.mp4 as `track_combined_c0.05_nc0.1_k12_bgQ_midF4_bgF1.mp4`"
   ]
  },
  {
   "cell_type": "code",
   "execution_count": null,
   "metadata": {},
   "outputs": [],
   "source": [
    "if not use_real_data:\n",
    "    assert False"
   ]
  },
  {
   "cell_type": "markdown",
   "metadata": {},
   "source": [
    "---"
   ]
  },
  {
   "cell_type": "code",
   "execution_count": null,
   "metadata": {},
   "outputs": [],
   "source": [
    "combos = []\n",
    "for a1 in su.aa_alphabet[1:]:\n",
    "    for a2 in su.aa_alphabet[1:]:\n",
    "        for a3 in su.aa_alphabet[1:]:\n",
    "            combos.append(''.join([a1,a2,a3]))\n",
    "            \n",
    "combos"
   ]
  },
  {
   "cell_type": "code",
   "execution_count": null,
   "metadata": {},
   "outputs": [],
   "source": [
    "if False:\n",
    "    maxplot = 4\n",
    "    nplot = 0\n",
    "    P = specProModel.getP()\n",
    "    for g in list(sites.keys()):\n",
    "        for c in list(sites[g].keys()):\n",
    "            gseq = genomes[g][c]\n",
    "            for i in range(len(sites[g][c]['profile'])):\n",
    "                p = sites[g][c]['profile'][i]\n",
    "                pos = sites[g][c]['pos'][i]\n",
    "                score = sites[g][c]['score'][i]\n",
    "                f = sites[g][c]['frame'][i]\n",
    "\n",
    "                match = gseq[pos:(pos+specProModel.k*3)+2]\n",
    "                match_aa = su.six_frame_translation(match)\n",
    "                profile_df = su.makeDFs(P[:,:,p:(p+1)].numpy())[0]\n",
    "                logo = logomaker.Logo(profile_df, vpad=.1, width=1)\n",
    "                logo.style_xticks(anchor=0, spacing=1, rotation=45)\n",
    "                logo.ax.set_ylabel('information (bits)')\n",
    "                logo.ax.set_title(f\"Profile {p}\" + (f\" score={score:.1f}\") + \" | sequence match (frame \"+str(f)+\") \"+', '.join(match_aa))\n",
    "\n",
    "                nplot += 1\n",
    "                if nplot >= maxplot:\n",
    "                    break\n",
    "\n",
    "            if nplot >= maxplot:\n",
    "                break\n",
    "\n",
    "        if nplot >= maxplot:\n",
    "            break"
   ]
  },
  {
   "cell_type": "code",
   "execution_count": null,
   "metadata": {},
   "outputs": [],
   "source": [
    "def parseSequenceHeader(header):\n",
    "    fields = header.split(\"|\")\n",
    "    headDict = {}\n",
    "    for field in fields:\n",
    "        key, value = field.split(\":\")\n",
    "        assert len(field.split(\":\")) == 2, header\n",
    "        assert key not in headDict, header\n",
    "        headDict[key] = value\n",
    "\n",
    "    return headDict"
   ]
  },
  {
   "cell_type": "code",
   "execution_count": null,
   "metadata": {
    "tags": []
   },
   "outputs": [],
   "source": [
    "with open(os.path.join(datapath, \"../hg38.GTF.json\"), 'rt') as fh:\n",
    "    gtf = json.load(fh)\n",
    "    \n",
    "#gtf['ENST00000219797'][:2]"
   ]
  },
  {
   "cell_type": "code",
   "execution_count": null,
   "metadata": {},
   "outputs": [],
   "source": [
    "with open(os.path.join(datapath, \"../orthologs.json\"), 'rt') as fh:\n",
    "    orthology = json.load(fh)\n",
    "    \n",
    "#orthology[list(orthology.keys())[0]]"
   ]
  },
  {
   "cell_type": "code",
   "execution_count": null,
   "metadata": {},
   "outputs": [],
   "source": [
    "nexons = 0\n",
    "northo = 0\n",
    "for seq in seqnames[0]:\n",
    "    seqDict = parseSequenceHeader(seq)\n",
    "    if seqDict['tid'] != 'artificial':\n",
    "        northo += 1\n",
    "    if seqDict['tid'] in gtf:\n",
    "        nexons += len([1 for annot in gtf[seqDict['tid']] if annot['feature'] == 'CDS'])\n",
    "        \n",
    "print(nexons)\n",
    "print(northo)"
   ]
  },
  {
   "cell_type": "code",
   "execution_count": null,
   "metadata": {},
   "outputs": [],
   "source": [
    "# sort links such that genome0 occurrance comes first (if present), i.e. sort each link after first value in occ tuples\n",
    "print(links[0])\n",
    "links = [sorted(l) for l in links]\n",
    "print(links[0])links = [sorted(l) for l in links]"
   ]
  },
  {
   "cell_type": "code",
   "execution_count": null,
   "metadata": {},
   "outputs": [],
   "source": [
    "tolerance = 0#3*k + 3 # allow certain position mismatch in human exons\n",
    "tp = [] # accumulate scores\n",
    "tp_links = [] # collect links for further investigation\n",
    "fp = []\n",
    "noise = []\n",
    "geneNoise = []\n",
    "exonsFound = set()\n",
    "featuresFound = set()\n",
    "orthoFound = set()\n",
    "for link in links:\n",
    "    allArt = True\n",
    "    allGen = True\n",
    "    for occ in link:\n",
    "        #print(\"DEBUG\", occ)\n",
    "        seqname = seqnames[occ[0]][occ[1]]\n",
    "        seqDict = parseSequenceHeader(seqname)\n",
    "        if seqDict['gid'] == 'artificial':\n",
    "            allGen = False\n",
    "        else:\n",
    "            allArt = False\n",
    "            \n",
    "    mscore = 0#np.mean([o[3] for o in link])\n",
    "    if allArt:\n",
    "        fp.append(mscore)\n",
    "    elif not (allArt or allGen):\n",
    "        noise.append(mscore)\n",
    "    else:\n",
    "        assert allGen\n",
    "        rSeq = seqnames[link[0][0]][link[0][1]]\n",
    "        assert rSeq in orthology, rSeq\n",
    "        if all([seqnames[o[0]][o[1]] in orthology[rSeq] for o in link[1:]]):\n",
    "            tp.append(mscore)\n",
    "            tp_links.append(link)\n",
    "            orthoFound.add(rSeq)\n",
    "            seqDict = parseSequenceHeader(rSeq)\n",
    "            tid = seqDict['tid']\n",
    "            pos = link[0][2]\n",
    "            if seqDict['genome'] == 'hg38':\n",
    "                assert tid in gtf, tid+\" not in gtf\"\n",
    "            if tid in gtf:\n",
    "                for feature in gtf[tid]:\n",
    "                    if feature['rstart']-tolerance <= pos and pos <= feature['rend']+tolerance:\n",
    "                        featuresFound.add(str(feature))\n",
    "                        if feature['feature'] == 'CDS':\n",
    "                            exonsFound.add(feature['tag'])\n",
    "                    #else:\n",
    "                    #    print(\"[DEBUG]\", pos, \"not in\", feature['rstart'], feature['rend'], \"(\", feature['feature'],\")\")\n",
    "        else:\n",
    "            geneNoise.append(mscore)"
   ]
  },
  {
   "cell_type": "code",
   "execution_count": null,
   "metadata": {},
   "outputs": [],
   "source": [
    "print(\"TP:\", len(tp), \"| mean score:\", sum(tp)/len(tp) if len(tp) > 0 else 0)\n",
    "print(\"FP:\", len(fp), \"| mean score:\", sum(fp)/len(fp) if len(fp) > 0 else 0)\n",
    "print(\"noise:\", len(noise), \"| mean score:\", sum(noise)/len(noise) if len(noise) > 0 else 0)\n",
    "print(\"geneNoise:\", len(geneNoise), \"| mean score:\", sum(geneNoise)/len(geneNoise) if len(geneNoise) > 0 else 0)\n",
    "\n",
    "print(\"Sn:\", len(exonsFound), \"/\", nexons, \"=\", len(exonsFound)/nexons)\n",
    "print(\"hits:\", len(orthoFound), \"/\", northo, \"=\", len(orthoFound)/northo)"
   ]
  },
  {
   "cell_type": "code",
   "execution_count": null,
   "metadata": {},
   "outputs": [],
   "source": [
    "tp_links"
   ]
  },
  {
   "cell_type": "code",
   "execution_count": null,
   "metadata": {},
   "outputs": [],
   "source": [
    "seqnames[0][1]"
   ]
  },
  {
   "cell_type": "code",
   "execution_count": null,
   "metadata": {},
   "outputs": [],
   "source": [
    "for f in featuresFound:\n",
    "    print(f)"
   ]
  },
  {
   "cell_type": "code",
   "execution_count": null,
   "metadata": {},
   "outputs": [],
   "source": [
    "import plotly.graph_objects as go"
   ]
  },
  {
   "cell_type": "code",
   "execution_count": null,
   "metadata": {},
   "outputs": [],
   "source": [
    "fig = go.Figure()\n",
    "fig.add_trace(go.Histogram(x=tp, name=\"TP\", histnorm='probability'))\n",
    "fig.add_trace(go.Histogram(x=fp, name=\"FP\", histnorm='probability'))\n",
    "fig.add_trace(go.Histogram(x=noise, name=\"noise\", histnorm='probability'))\n",
    "fig.add_trace(go.Histogram(x=geneNoise, name=\"geneNoise\", histnorm='probability'))\n",
    "\n",
    "# Overlay both histograms and reduce opacity to see both histograms\n",
    "#fig.update_layout(barmode='overlay')\n",
    "#fig.update_traces(opacity=0.75)\n",
    "fig.show()"
   ]
  },
  {
   "cell_type": "code",
   "execution_count": null,
   "metadata": {
    "tags": []
   },
   "outputs": [],
   "source": [
    "# STOP HERE IF `RUN ALL CELLS`\n",
    "assert False"
   ]
  },
  {
   "cell_type": "markdown",
   "metadata": {},
   "source": [
    "---\n",
    "\n",
    "\\[moved from directly after model initialization\\]\n",
    "\n",
    "### See How Perfect Pattern / Repeat Profiles Score w.r.t. Loss Function"
   ]
  },
  {
   "cell_type": "code",
   "execution_count": null,
   "metadata": {},
   "outputs": [],
   "source": [
    "runExperiment = False\n",
    "\n",
    "runExperiment = runExperiment and not use_real_data"
   ]
  },
  {
   "cell_type": "code",
   "execution_count": null,
   "metadata": {},
   "outputs": [],
   "source": [
    "if runExperiment:\n",
    "    import experiment\n",
    "    print(importlib.reload(experiment))"
   ]
  },
  {
   "cell_type": "code",
   "execution_count": null,
   "metadata": {},
   "outputs": [],
   "source": [
    "if runExperiment:\n",
    "    pProfile = tf.cast( tf.math.log( dsg.oneHot('MARIQSTANKE') + 1e-6 ), tf.float32)\n",
    "    rProfile = tf.cast( tf.math.log( dsg.oneHot('REPEATAEPER') + 1e-6 ), tf.float32)\n",
    "    \n",
    "    # build and randomly initialize profile model\n",
    "    tf.keras.backend.clear_session() # avoid memory cluttering by remains of old models\n",
    "    specProModel = None\n",
    "    specProModel = model.SpecificProfile(k, su.aa_alphabet_size, units=2, Q=Q, alpha=0, gamma=gamma)\n",
    "\n",
    "    pInit = specProModel._getRandomProfiles()\n",
    "    pInit[:,:,0] = pProfile.numpy()\n",
    "    pInit[:,:,1] = rProfile.numpy()\n",
    "    print(pInit.shape)\n",
    "\n",
    "    specProModel.setP_logit(pInit)\n",
    "    print(specProModel.P_logit.shape)"
   ]
  },
  {
   "cell_type": "code",
   "execution_count": null,
   "metadata": {},
   "outputs": [],
   "source": [
    "if runExperiment:\n",
    "    plotLogo(P=specProModel.getP(), max_print=2)#, label=\"Score Threshold\")"
   ]
  },
  {
   "cell_type": "code",
   "execution_count": null,
   "metadata": {},
   "outputs": [],
   "source": [
    "if runExperiment:\n",
    "    #pscores = experiment.getLossScores(specProModel, 0, genomes, N, tiles_per_X, tile_size, batch_size)\n",
    "    #rscores = experiment.getLossScores(specProModel, 1, genomes, N, tiles_per_X, tile_size, batch_size)\n",
    "    #pscores = experiment.getLossScores_raw(specProModel, 0, genomes, tiles_per_X, tile_size, batch_size)\n",
    "    #rscores = experiment.getLossScores_raw(specProModel, 1, genomes, tiles_per_X, tile_size, batch_size)\n",
    "    #pscores_raw = experiment.getLossScores_raw(specProModel, 0, genomes, tiles_per_X, tile_size, batch_size, lossNorm=False)\n",
    "    #rscores_raw = experiment.getLossScores_raw(specProModel, 1, genomes, tiles_per_X, tile_size, batch_size, lossNorm=False)\n",
    "    #pscores_unmasked = experiment.getLossScores_raw(specProModel, 0, genomes, tiles_per_X, tile_size, batch_size, maskNonSeqScores=False)\n",
    "    #rscores_unmasked = experiment.getLossScores_raw(specProModel, 1, genomes, tiles_per_X, tile_size, batch_size, maskNonSeqScores=False)\n",
    "    pscores_raw_unmasked = experiment.getLossScores_raw(specProModel, 0, genomes, tiles_per_X, tile_size, batch_size, maskNonSeqScores=False, lossNorm=False)\n",
    "    rscores_raw_unmasked = experiment.getLossScores_raw(specProModel, 1, genomes, tiles_per_X, tile_size, batch_size, maskNonSeqScores=False, lossNorm=False)\n",
    "    \n",
    "    plosses = experiment.getLosses(specProModel, 0, genomes, tiles_per_X, tile_size, batch_size)\n",
    "    rlosses = experiment.getLosses(specProModel, 1, genomes, tiles_per_X, tile_size, batch_size)"
   ]
  },
  {
   "cell_type": "code",
   "execution_count": null,
   "metadata": {},
   "outputs": [],
   "source": [
    "if runExperiment:\n",
    "    plosses"
   ]
  },
  {
   "cell_type": "code",
   "execution_count": null,
   "metadata": {},
   "outputs": [],
   "source": [
    "if runExperiment:\n",
    "    rlosses"
   ]
  },
  {
   "cell_type": "markdown",
   "metadata": {},
   "source": [
    "#### Draw Artificial Genomes and Pattern / Repeat Locations"
   ]
  },
  {
   "cell_type": "code",
   "execution_count": null,
   "metadata": {},
   "outputs": [],
   "source": [
    "if runExperiment:\n",
    "    #bins, vals = experiment.ownHist(pscores_raw, 10)\n",
    "    #experiment.plotOwnHist(bins, vals, precision=1)#, ylim=(0, 30))\n",
    "    \n",
    "    #bins, vals = experiment.ownHist(pscores, 1)\n",
    "    #print(set([bins[i] for i in range(len(bins)) if vals[i] > 0]))\n",
    "    #experiment.plotOwnHist(bins, vals, precision=1)#, ylim=(0, 30))\n",
    "    #experiment.plotOwnHist(bins, vals, precision=1, ylim=(0, 30))\n",
    "    \n",
    "    bins, vals = experiment.ownHist(pscores_raw_unmasked, 5)\n",
    "    experiment.plotOwnHist(bins, vals, title='Pattern scores, raw, unmasked', precision=1)#, ylim=(0, 30))\n",
    "    \n",
    "    bins, vals = experiment.ownHist(pscores_raw_unmasked, 5)\n",
    "    experiment.plotOwnHist(bins, vals, title='Pattern scores, raw, unmasked (zoomed)', precision=1, ylim=(0, 10))\n",
    "    \n",
    "    #bins, vals = experiment.ownHist(pscores_unmasked, 0.1)\n",
    "    #print(set([bins[i] for i in range(len(bins)) if vals[i] > 0]))\n",
    "    #experiment.plotOwnHist(bins, vals, title='Pattern loss, unmasked', precision=1)#, ylim=(0, 30))"
   ]
  },
  {
   "cell_type": "code",
   "execution_count": null,
   "metadata": {},
   "outputs": [],
   "source": [
    "if runExperiment:\n",
    "    #bins, vals = experiment.ownHist(pscores_raw, 5)\n",
    "    #experiment.plotOwnHist(bins, vals, title=\"Pattern scores, raw\", precision=1)#, ylim=(0, 30))\n",
    "    \n",
    "    #bins, vals = experiment.ownHistRel(pscores_unmasked, 1)\n",
    "    #print(set([bins[i] for i in range(len(bins)) if vals[i] > 0]))\n",
    "    #experiment.plotOwnHist(bins, vals, precision=1)#, ylim=(0, 30))\n",
    "    print()"
   ]
  },
  {
   "cell_type": "code",
   "execution_count": null,
   "metadata": {},
   "outputs": [],
   "source": [
    "if runExperiment:\n",
    "    #bins, vals = experiment.ownHist(rscores_raw, 10)\n",
    "    #experiment.plotOwnHist(bins, vals, precision=1)#, ylim=(0, 30))\n",
    "    \n",
    "    #bins, vals = experiment.ownHist(rscores, 1)\n",
    "    #print(set([bins[i] for i in range(len(bins)) if vals[i] > 0]))\n",
    "    #experiment.plotOwnHist(bins, vals, precision=1)#, ylim=(0, 30))\n",
    "    #experiment.plotOwnHist(bins, vals, precision=1, ylim=(0, 30))\n",
    "    \n",
    "    bins, vals = experiment.ownHist(rscores_raw_unmasked, 5)\n",
    "    experiment.plotOwnHist(bins, vals, title='Repeat scores, raw, unmasked', precision=1)#, ylim=(0, 30))\n",
    "    \n",
    "    bins, vals = experiment.ownHist(rscores_raw_unmasked, 5)\n",
    "    experiment.plotOwnHist(bins, vals, title='Repeat scores, raw, unmasked (zoomed)', precision=1, ylim=(0, 100))\n",
    "    \n",
    "    #bins, vals = experiment.ownHist(rscores_unmasked, 1)\n",
    "    #print(set([bins[i] for i in range(len(bins)) if vals[i] > 0]))\n",
    "    #experiment.plotOwnHist(bins, vals, title='Repeat loss, unmasked', precision=1)#, ylim=(0, 30))"
   ]
  },
  {
   "cell_type": "markdown",
   "metadata": {},
   "source": [
    "#### Draw Genomes, Pattern and Repeat Locations, and Loss Scores for each Position\n",
    "\n",
    "(scores: thin lines; top line: pattern profile (`MARIQSTANKE`), bottom line: repeat profile (`REPEATAEPER`)"
   ]
  },
  {
   "cell_type": "code",
   "execution_count": null,
   "metadata": {},
   "outputs": [],
   "source": [
    "if runExperiment:\n",
    "    #experiment.drawLossScores(pscores, rscores, genomes, N, insertTracking, repeatTracking, tile_size)\n",
    "    experiment.drawLossScores(None, None, genomes, N, insertTracking, repeatTracking, tile_size)"
   ]
  },
  {
   "cell_type": "code",
   "execution_count": null,
   "metadata": {},
   "outputs": [],
   "source": [
    "if runExperiment:\n",
    "    # reset model\n",
    "    tf.keras.backend.clear_session() # avoid memory cluttering by remains of old models\n",
    "    specProModel = None\n",
    "    %time %memit specProModel = model.SpecificProfile(k, su.aa_alphabet_size, U, Q, alpha=alpha, gamma=gamma)"
   ]
  },
  {
   "cell_type": "markdown",
   "metadata": {},
   "source": [
    "---"
   ]
  },
  {
   "cell_type": "markdown",
   "metadata": {},
   "source": [
    "---"
   ]
  },
  {
   "cell_type": "code",
   "execution_count": null,
   "metadata": {},
   "outputs": [],
   "source": [
    "def getKmersFromSites(sites, genomes, k, P, Q, epsilon=1e-6):\n",
    "    kmers = []\n",
    "    kDNA = k*3\n",
    "    for site in sites:\n",
    "        g = site[0].numpy()\n",
    "        c = site[1].numpy()\n",
    "        a = site[2].numpy()\n",
    "        if a < 0:\n",
    "            kmers.append(\"\")\n",
    "            continue\n",
    "            \n",
    "        b = min(len(genomes[g][c]), a+kDNA)\n",
    "        f = str(site[4].numpy()) if len(site) >= 5 else \"\"\n",
    "        dna = genomes[g][c][a:b]\n",
    "        dnaUC = dna.upper()\n",
    "        dnaPre = genomes[g][c][max(0,a-kDNA):a]\n",
    "        dnaPost = genomes[g][c][b:min(len(genomes[g][c]), b+kDNA)]\n",
    "        aa = dsg.sequence_translation(dnaUC)\n",
    "        aaRC = dsg.sequence_translation(dnaUC, True)\n",
    "        \n",
    "        # re-calculate score\n",
    "        if len(aa) == k:\n",
    "            score = tf.reduce_sum(\n",
    "                tf.math.multiply( dsg.oneHot(aa),\n",
    "                                  tf.math.log( tf.maximum( tf.divide(P, Q), epsilon) ) \n",
    "                                ) \n",
    "            ).numpy()\n",
    "            scoreRC = tf.reduce_sum(\n",
    "                tf.math.multiply( dsg.oneHot(aaRC),\n",
    "                                  tf.math.log( tf.maximum( tf.divide(P, Q), epsilon) ) \n",
    "                                ) \n",
    "            ).numpy()\n",
    "        else:\n",
    "            score = None\n",
    "            scoreRC = None\n",
    "        \n",
    "        kmers.append(dnaPre+\" \"+dna+\" \"+dnaPost+\"   \"+aa+\" // \"+aaRC+\"   \"+str(g)+\", \"+str(c)+\", \"+f+\"   \"+str(a)+\"   \"+str(score)+\" // \"+str(scoreRC))\n",
    "        \n",
    "    return kmers"
   ]
  },
  {
   "cell_type": "code",
   "execution_count": null,
   "metadata": {},
   "outputs": [],
   "source": [
    "# un-mask dataset\n",
    "ucgenomes = []\n",
    "for g in range(len(genomes)):\n",
    "    ucgenomes.append([])\n",
    "    for c in range(len(genomes[g])):\n",
    "        ucgenomes[g].append( genomes[g][c].upper() )"
   ]
  },
  {
   "cell_type": "code",
   "execution_count": null,
   "metadata": {},
   "outputs": [],
   "source": [
    "P, Pthresh = specProModel.getP_report()\n",
    "specProModel.setP_logit(specProModel.getP_report_raw()) # set reported P as profiles, otherwise get matches from randomly chosen seeds\n",
    "ds_sites = dsg.getDataset(ucgenomes, tiles_per_X, tile_size, True).batch(batch_size).prefetch(3)\n",
    "sites, scores = specProModel.get_profile_match_sites(ds_sites, 0, 1)\n",
    "assert len(sites) < 100, print(sites.shape)\n",
    "idx = tf.reshape( tf.argsort(scores, axis=0, direction='DESCENDING'), (-1))\n",
    "kmers = getKmersFromSites(sites, genomes, specProModel.k, P[:,:,1], specProModel.Q, specProModel.epsilon)\n",
    "\n",
    "print(tf.gather(scores ,idx), tf.gather(kmers, idx), sep='\\n')"
   ]
  },
  {
   "cell_type": "code",
   "execution_count": null,
   "metadata": {},
   "outputs": [],
   "source": [
    "_,_=printExpectedPatterns()"
   ]
  },
  {
   "cell_type": "code",
   "execution_count": null,
   "metadata": {},
   "outputs": [],
   "source": [
    "dsg.sequence_translation('cagagaacctgaagctactgctgaacctgaaag'.upper())"
   ]
  },
  {
   "cell_type": "markdown",
   "metadata": {},
   "source": [
    "---"
   ]
  },
  {
   "cell_type": "markdown",
   "metadata": {},
   "source": [
    "## Profile Score Distribution"
   ]
  },
  {
   "cell_type": "code",
   "execution_count": null,
   "metadata": {},
   "outputs": [],
   "source": [
    "def customHist(distType: str, prec = 1):\n",
    "    validDistTypes = ['score', 'loss', 'L5score']\n",
    "    assert distType in validDistTypes, \"distType must be one of \"+str(validDistTypes)\n",
    "    \n",
    "    collect = {}\n",
    "    ds_score = getDataset().batch(batch_size).prefetch(3)\n",
    "    for batch in ds_score:\n",
    "        for X in batch:\n",
    "            S, _, _ = specProModel(X)\n",
    "            if distType == 'score':\n",
    "                for s in np.array(S).flatten():\n",
    "                    score = np.math.floor(s*prec)\n",
    "                    if score not in collect:\n",
    "                        collect[score] = 0\n",
    "                        \n",
    "                    collect[score] += 1\n",
    "                    \n",
    "            if distType == 'loss':\n",
    "                _, LpU, _ = specProModel.loss(S)\n",
    "                for l in LpU:\n",
    "                    loss = np.math.floor(l*prec)\n",
    "                    if loss not in collect:\n",
    "                        collect[loss] = 0\n",
    "                        \n",
    "                    collect[loss] += 1\n",
    "                    \n",
    "            if distType == 'L5score':\n",
    "                gamma = .2\n",
    "                S2 = tf.nn.softmax(gamma*S, axis=0)\n",
    "                S3 = tf.math.multiply(S, tf.square(S2))\n",
    "                for s in np.array(S3).flatten():\n",
    "                    score = np.math.floor(s*prec)\n",
    "                    if score not in collect:\n",
    "                        collect[score] = 0\n",
    "                        \n",
    "                    collect[score] += 1\n",
    "                    \n",
    "    fkeys = [k for k in collect.keys()]\n",
    "    bins = [b for b in range(min(fkeys), max(fkeys)+1)]\n",
    "    vals = [collect[k] if k in collect else 0 for k in bins]\n",
    "    bins = [b/prec for b in bins]\n",
    "    \n",
    "    plt.bar(list(range(len(bins))), vals, tick_label=[str(b) for b in bins])\n",
    "    \n",
    "    return bins, vals"
   ]
  },
  {
   "cell_type": "code",
   "execution_count": null,
   "metadata": {},
   "outputs": [],
   "source": [
    "bins, vals = customHist('L5score', 0.5)"
   ]
  },
  {
   "cell_type": "code",
   "execution_count": null,
   "metadata": {},
   "outputs": [],
   "source": [
    "bins, vals = customHist('loss', 100)"
   ]
  },
  {
   "cell_type": "code",
   "execution_count": null,
   "metadata": {},
   "outputs": [],
   "source": [
    "bins, vals = customHist('score', 0.1)"
   ]
  },
  {
   "cell_type": "markdown",
   "metadata": {},
   "source": [
    "     P:     (k, alphSize, U) \n",
    "     X:     (tilesPerX, N, 6, T, alphSize) \n",
    "     Z:     (tilesPerX, N, 6, T-k+1, U)\n",
    "     S:     (tilesPerX, N, U)"
   ]
  },
  {
   "cell_type": "code",
   "execution_count": null,
   "metadata": {},
   "outputs": [],
   "source": [
    "Scollect = []\n",
    "Lcollect = []\n",
    "\n",
    "if not use_real_data:\n",
    "    ds_score = getDataset().batch(batch_size).prefetch(150)\n",
    "    for batch in ds_score:\n",
    "        for X in batch:\n",
    "            S, _, Z = specProModel(X)\n",
    "            _, LpU, _ = specProModel.loss(S)\n",
    "            Scollect.extend(np.array(S).flatten())\n",
    "            Lcollect.extend(np.array(LpU).flatten())"
   ]
  },
  {
   "cell_type": "code",
   "execution_count": null,
   "metadata": {},
   "outputs": [],
   "source": [
    "plt.hist(Scollect)"
   ]
  },
  {
   "cell_type": "code",
   "execution_count": null,
   "metadata": {},
   "outputs": [],
   "source": [
    "plt.hist(Lcollect)"
   ]
  },
  {
   "cell_type": "code",
   "execution_count": null,
   "metadata": {},
   "outputs": [],
   "source": [
    "if not use_real_data:\n",
    "    gamma = .01 # a small value means a more inclusive meaning of near-best\n",
    "    S2 = tf.nn.softmax(gamma*S, axis=0)\n",
    "    S3 = tf.reduce_max(S2, axis=0) # the closer to 1, the clearer is the champion match a winner\n",
    "    S4 = tf.reduce_max(S, axis=0) # ranges over tiles, or soft max like in L1\n",
    "    S5 = tf.math.multiply(S4, S3) # effectively the best score per genome is divided by the number of matches\n",
    "    loss_by_unit = tf.reduce_sum(S5, axis=0) / U # sum over genomes\n",
    "    L5 = tf.reduce_sum(loss_by_unit) # sum over profiles=units\n",
    "    plt.hist(S4[:,0].numpy().flatten(), bins=20)\n",
    "    S5.shape"
   ]
  },
  {
   "cell_type": "markdown",
   "metadata": {},
   "source": [
    "---\n",
    "\n",
    "### Profile Match Sites"
   ]
  },
  {
   "cell_type": "code",
   "execution_count": null,
   "metadata": {},
   "outputs": [],
   "source": [
    "if trainingWithReporting:\n",
    "    # un-mask dataset\n",
    "    for g in range(len(genomes)):\n",
    "        for c in range(len(genomes[g])):\n",
    "            genomes[g][c] = genomes[g][c].upper()"
   ]
  },
  {
   "cell_type": "code",
   "execution_count": null,
   "metadata": {},
   "outputs": [],
   "source": [
    "#ds_sites = dsg.getDataset(genomes, tiles_per_X, tile_size, True).batch(batch_size).prefetch(3)\n",
    "#specProModel.setP_logit(tf.math.log(specProModel.getP_report())) # set reported P as profiles, otherwise get matches from randomly chosen seeds\n",
    "##Plogit = tf.math.log(P)\n",
    "thresh = Pthresh if trainingWithReporting else match_score_factor*scores\n",
    "sites = specProModel.get_profile_match_sites(dsh.getDataset(withPosTracking = True), thresh, otherP = P)\n",
    "sites"
   ]
  },
  {
   "cell_type": "code",
   "execution_count": null,
   "metadata": {},
   "outputs": [],
   "source": [
    "plotLogo(P=specProModel.getP_report()[:,:,2:3], max_print=1, label=\"loss\")"
   ]
  },
  {
   "cell_type": "code",
   "execution_count": null,
   "metadata": {},
   "outputs": [],
   "source": [
    "print(importlib.reload(dsg))\n",
    "print(genomes[2][28][25029:25029+33])\n",
    "print(dsg.sequence_translation( genomes[2][28][25029:25029+33] ))"
   ]
  },
  {
   "cell_type": "code",
   "execution_count": null,
   "metadata": {},
   "outputs": [],
   "source": [
    "import itertools\n",
    "\n",
    "def sitesToLinks(sites):\n",
    "    links = []\n",
    "    profileToOcc = {}\n",
    "    linkProfiles = set()\n",
    "    for g, c, p, u in sites:\n",
    "        if u not in profileToOcc:\n",
    "            profileToOcc[u] = {}\n",
    "            \n",
    "        if g not in profileToOcc[u]:\n",
    "            profileToOcc[u][g] = []\n",
    "            \n",
    "        profileToOcc[u][g].append([g,c,p])\n",
    "        \n",
    "    for p in profileToOcc:\n",
    "        if (len(profileToOcc[p].keys()) == 1) or (0 not in profileToOcc[p]):\n",
    "            continue\n",
    "            \n",
    "        occs = []\n",
    "        for g in profileToOcc[p]:\n",
    "            occs.append(profileToOcc[p][g])\n",
    "            \n",
    "        l = itertools.product(*occs)\n",
    "        links.extend(l)\n",
    "        linkProfiles.add(p)\n",
    "    \n",
    "    return links, linkProfiles\n",
    "\n",
    "links, linkProfiles = sitesToLinks(sites.numpy())\n",
    "print(links[:5])\n",
    "print(linkProfiles)"
   ]
  },
  {
   "cell_type": "code",
   "execution_count": null,
   "metadata": {},
   "outputs": [],
   "source": [
    "len(links)"
   ]
  },
  {
   "cell_type": "code",
   "execution_count": null,
   "metadata": {},
   "outputs": [],
   "source": [
    "print(insertTracking)"
   ]
  },
  {
   "cell_type": "markdown",
   "metadata": {},
   "source": [
    "#### Visualize Profile Matches"
   ]
  },
  {
   "cell_type": "code",
   "execution_count": null,
   "metadata": {},
   "outputs": [],
   "source": [
    "maxplot = 4\n",
    "nplot = 0\n",
    "P = specProModel.getP()\n",
    "for g in list(sites.keys()):\n",
    "    for c in list(sites[g].keys()):\n",
    "        gseq = genomes[g][c]\n",
    "        for i in range(len(sites[g][c]['profile'])):\n",
    "            p = sites[g][c]['profile'][i]\n",
    "            pos = sites[g][c]['pos'][i]\n",
    "            score = sites[g][c]['score'][i]\n",
    "            f = sites[g][c]['frame'][i]\n",
    "            \n",
    "            match = gseq[pos:(pos+specProModel.k*3)+2]\n",
    "            match_aa = su.six_frame_translation(match)\n",
    "            profile_df = su.makeDFs(P[:,:,p:(p+1)].numpy())[0]\n",
    "            logo = logomaker.Logo(profile_df, vpad=.1, width=1)\n",
    "            logo.style_xticks(anchor=0, spacing=1, rotation=45)\n",
    "            logo.ax.set_ylabel('information (bits)')\n",
    "            logo.ax.set_title(f\"Profile {p}\" + (f\" score={score:.1f}\") + \" | sequence match (frame \"+str(f)+\") \"+', '.join(match_aa))\n",
    "            \n",
    "            nplot += 1\n",
    "            if nplot >= maxplot:\n",
    "                break\n",
    "                \n",
    "        if nplot >= maxplot:\n",
    "            break\n",
    "            \n",
    "    if nplot >= maxplot:\n",
    "        break"
   ]
  },
  {
   "cell_type": "code",
   "execution_count": null,
   "metadata": {},
   "outputs": [],
   "source": [
    "_, _ = printExpectedPatterns()"
   ]
  },
  {
   "cell_type": "markdown",
   "metadata": {},
   "source": [
    "#### \"Sensitivity\" of Profile Matches"
   ]
  },
  {
   "cell_type": "code",
   "execution_count": null,
   "metadata": {},
   "outputs": [],
   "source": [
    "def parseSequenceHeader(header):\n",
    "    fields = header.split(\"|\")\n",
    "    headDict = {}\n",
    "    for field in fields:\n",
    "        key, value = field.split(\":\")\n",
    "        assert len(field.split(\":\")) == 2, header\n",
    "        assert key not in headDict, header\n",
    "        headDict[key] = value\n",
    "\n",
    "    return headDict"
   ]
  },
  {
   "cell_type": "code",
   "execution_count": null,
   "metadata": {
    "tags": []
   },
   "outputs": [],
   "source": [
    "with open(os.path.join(datapath, \"../hg38.GTF.json\"), 'rt') as fh:\n",
    "    gtf = json.load(fh)\n",
    "    \n",
    "gtf['ENST00000219797'][:2]"
   ]
  },
  {
   "cell_type": "code",
   "execution_count": null,
   "metadata": {},
   "outputs": [],
   "source": [
    "with open(os.path.join(datapath, \"../orthologs.json\"), 'rt') as fh:\n",
    "    orthology = json.load(fh)\n",
    "    \n",
    "orthology[list(orthology.keys())[0]]"
   ]
  },
  {
   "cell_type": "code",
   "execution_count": null,
   "metadata": {},
   "outputs": [],
   "source": [
    "seqnames[0][0:2]"
   ]
  },
  {
   "cell_type": "code",
   "execution_count": null,
   "metadata": {},
   "outputs": [],
   "source": [
    "nexons = 0\n",
    "northo = 0\n",
    "for seq in seqnames[0]:\n",
    "    seqDict = parseSequenceHeader(seq)\n",
    "    if seqDict['tid'] != 'artificial':\n",
    "        northo += 1\n",
    "    if seqDict['tid'] in gtf:\n",
    "        nexons += len([1 for annot in gtf[seqDict['tid']] if annot['feature'] == 'CDS'])\n",
    "        \n",
    "print(nexons)\n",
    "print(northo)"
   ]
  },
  {
   "cell_type": "code",
   "execution_count": null,
   "metadata": {},
   "outputs": [],
   "source": [
    "tolerance = 0#3*k + 3 # allow certain position mismatch in human exons\n",
    "tp = [] # accumulate scores\n",
    "tp_links = [] # collect links for further investigation\n",
    "fp = []\n",
    "noise = []\n",
    "geneNoise = []\n",
    "exonsFound = set()\n",
    "featuresFound = set()\n",
    "orthoFound = set()\n",
    "for link in links:\n",
    "    allArt = True\n",
    "    allGen = True\n",
    "    for occ in link:\n",
    "        #print(\"DEBUG\", occ)\n",
    "        seqname = seqnames[occ[0]][occ[1]]\n",
    "        seqDict = parseSequenceHeader(seqname)\n",
    "        if seqDict['gid'] == 'artificial':\n",
    "            allGen = False\n",
    "        else:\n",
    "            allArt = False\n",
    "            \n",
    "    mscore = 0#np.mean([o[3] for o in link])\n",
    "    if allArt:\n",
    "        fp.append(mscore)\n",
    "    elif not (allArt or allGen):\n",
    "        noise.append(mscore)\n",
    "    else:\n",
    "        assert allGen\n",
    "        rSeq = seqnames[link[0][0]][link[0][1]]\n",
    "        assert rSeq in orthology, rSeq\n",
    "        if all([seqnames[o[0]][o[1]] in orthology[rSeq] for o in link[1:]]):\n",
    "            tp.append(mscore)\n",
    "            tp_links.append(link)\n",
    "            orthoFound.add(rSeq)\n",
    "            seqDict = parseSequenceHeader(rSeq)\n",
    "            tid = seqDict['tid']\n",
    "            pos = link[0][2]\n",
    "            if tid in gtf:\n",
    "                for feature in gtf[tid]:\n",
    "                    if feature['rstart']-tolerance <= pos and pos <= feature['rend']+tolerance:\n",
    "                        featuresFound.add(str(feature))\n",
    "                        if feature['feature'] == 'CDS':\n",
    "                            exonsFound.add(feature['tag'])\n",
    "                    else:\n",
    "                        print(\"[DEBUG]\", pos, \"not in\", feature['rstart'], feature['rend'], \"(\", feature['feature'],\")\")\n",
    "        else:\n",
    "            geneNoise.append(mscore)"
   ]
  },
  {
   "cell_type": "code",
   "execution_count": null,
   "metadata": {},
   "outputs": [],
   "source": [
    "print(\"TP:\", len(tp), \"| mean score:\", sum(tp)/len(tp) if len(tp) > 0 else 0)\n",
    "print(\"FP:\", len(fp), \"| mean score:\", sum(fp)/len(fp) if len(fp) > 0 else 0)\n",
    "print(\"noise:\", len(noise), \"| mean score:\", sum(noise)/len(noise) if len(noise) > 0 else 0)\n",
    "print(\"geneNoise:\", len(geneNoise), \"| mean score:\", sum(geneNoise)/len(geneNoise) if len(geneNoise) > 0 else 0)\n",
    "\n",
    "print(\"Sn:\", len(exonsFound), \"/\", nexons, \"=\", len(exonsFound)/nexons)\n",
    "print(\"hits:\", len(orthoFound), \"/\", northo, \"=\", len(orthoFound)/northo)"
   ]
  },
  {
   "cell_type": "code",
   "execution_count": null,
   "metadata": {},
   "outputs": [],
   "source": [
    "tp_links"
   ]
  },
  {
   "cell_type": "code",
   "execution_count": null,
   "metadata": {},
   "outputs": [],
   "source": [
    "seqnames[0][2]"
   ]
  },
  {
   "cell_type": "code",
   "execution_count": null,
   "metadata": {},
   "outputs": [],
   "source": [
    "for f in featuresFound:\n",
    "    print(f)"
   ]
  },
  {
   "cell_type": "code",
   "execution_count": null,
   "metadata": {},
   "outputs": [],
   "source": [
    "import plotly.graph_objects as go"
   ]
  },
  {
   "cell_type": "code",
   "execution_count": null,
   "metadata": {},
   "outputs": [],
   "source": [
    "fig = go.Figure()\n",
    "fig.add_trace(go.Histogram(x=tp, name=\"TP\", histnorm='probability'))\n",
    "fig.add_trace(go.Histogram(x=fp, name=\"FP\", histnorm='probability'))\n",
    "fig.add_trace(go.Histogram(x=noise, name=\"noise\", histnorm='probability'))\n",
    "fig.add_trace(go.Histogram(x=geneNoise, name=\"geneNoise\", histnorm='probability'))\n",
    "\n",
    "# Overlay both histograms and reduce opacity to see both histograms\n",
    "#fig.update_layout(barmode='overlay')\n",
    "#fig.update_traces(opacity=0.75)\n",
    "fig.show()"
   ]
  },
  {
   "cell_type": "code",
   "execution_count": null,
   "metadata": {},
   "outputs": [],
   "source": [
    "assert False # stop here"
   ]
  },
  {
   "cell_type": "code",
   "execution_count": null,
   "metadata": {},
   "outputs": [],
   "source": [
    "Q"
   ]
  },
  {
   "cell_type": "code",
   "execution_count": null,
   "metadata": {},
   "outputs": [],
   "source": [
    "str(P[:,:,0][0].numpy())"
   ]
  },
  {
   "cell_type": "code",
   "execution_count": null,
   "metadata": {},
   "outputs": [],
   "source": [
    "def profileToMEME(p, Q, i):\n",
    "    assert p.shape[1] == len(Q), str(p.shape)+\", \"+str(len(Q))\n",
    "    assert p.shape[1] == len(su.aa_alphabet[1:]), str(p.shape)+\", \"+str(len(su.aa_alphabet[1:]))\n",
    "    \n",
    "    text = 'MEME version 4\\n'\n",
    "    text += 'ALPHABET \"extProtein\" PROTEIN-LIKE\\n'\n",
    "    for aa in su.aa_alphabet[1:]:\n",
    "        text += aa+\"\\n\"\n",
    "        \n",
    "    text += 'END ALPHABET\\n'\n",
    "    text += \"Background letter frequencies\\n\"\n",
    "    freq = \" \".join([su.aa_alphabet[i+1]+\" \"+str(Q[i]) for i in range(len(Q))])\n",
    "    text += freq+\"\\n\"\n",
    "    text += \"MOTIF \"+str(i)+\" \"+str(i)+\"\\n\"\n",
    "    text += \"letter-probability matrix: alength= \"+str(p.shape[1])+\" w= \"+str(p.shape[0])+\"\\n\"\n",
    "    \n"
   ]
  },
  {
   "cell_type": "markdown",
   "metadata": {},
   "source": [
    "    AC  MA0001.1\n",
    "    XX\n",
    "    ID  AGL3\n",
    "    XX\n",
    "    DE  MA0001.1 AGL3; from JASPAR\n",
    "    PO       A     C     G     T\n",
    "    1        0    94     1     2\n",
    "    2        3    75     0    19\n",
    "    3       79     4     3    11\n",
    "    4       40     3     4    50\n",
    "    5       66     1     1    29\n",
    "    6       48     2     0    47\n",
    "    7       65     5     5    22\n",
    "    8       11     2     3    81\n",
    "    9       65     3    28     1\n",
    "    10       0     3    88     6\n",
    "    XX\n",
    "    CC  program: jaspar\n",
    "    XX\n",
    "    //"
   ]
  },
  {
   "cell_type": "code",
   "execution_count": null,
   "metadata": {},
   "outputs": [],
   "source": [
    "def profileToTransfac(p, i):\n",
    "    assert p.shape[1] == len(su.aa_alphabet[1:]), str(p.shape)+\", \"+str(len(su.aa_alphabet[1:]))\n",
    "    text = \"AC  \"+str(i)+\"\\n\"\n",
    "    text += \"XX\\n\"\n",
    "    text += \"ID  \"+str(i)+\"\\n\"\n",
    "    text += \"XX\\n\"\n",
    "    text += \"DE  \"+str(i)+\"\\n\"\n",
    "    text += \"PO  \"+(\" \".join([su.aa_alphabet[i+1] for i in range(len(Q))]))+\"\\n\"\n",
    "    for i in range(p.shape[0]):\n",
    "        text += str(i+1)+\"  \"+(\" \".join(str(v) for v in p.numpy()[i]))+\"\\n\"\n",
    "        \n",
    "    text += \"XX\\n\"\n",
    "    text += \"CC  program: own\\n\"\n",
    "    text += \"//\"\n",
    "    return text"
   ]
  },
  {
   "cell_type": "code",
   "execution_count": null,
   "metadata": {},
   "outputs": [],
   "source": [
    "print(profileToTransfac(P[:,:,0], 0))"
   ]
  },
  {
   "cell_type": "code",
   "execution_count": null,
   "metadata": {},
   "outputs": [],
   "source": [
    "with open(\"/nas-hs/users/matthis/genomegraph/testProfileTransfacOutput.txt\", 'wt') as fh:\n",
    "    for i in range(P.shape[2]):\n",
    "        fh.write(profileToTransfac(P[:,:,i], i))"
   ]
  },
  {
   "cell_type": "code",
   "execution_count": null,
   "metadata": {},
   "outputs": [],
   "source": [
    "def cosineSim(a: np.ndarray, b: np.ndarray):\n",
    "    assert len(a) == len(b)\n",
    "    return np.sum(a*b) / (np.sqrt(np.sum(np.square(a))) * np.sqrt(np.sum(np.square(b))))"
   ]
  },
  {
   "cell_type": "code",
   "execution_count": null,
   "metadata": {},
   "outputs": [],
   "source": [
    "cosineSim(np.array([0,1,0,0]), np.array([1,0,0,0]))"
   ]
  },
  {
   "cell_type": "code",
   "execution_count": null,
   "metadata": {},
   "outputs": [],
   "source": [
    "# modified version of https://gist.github.com/nornagon/6326a643fc30339ece3021013ed9b48c\n",
    "# enforce gapless alignment\n",
    "def smith_waterman(a, b) -> float:\n",
    "    assert a.shape[1] == b.shape[1], str(a.shape)+\", \"+str(b.shape)\n",
    "    # H holds the alignment score at each point, computed incrementally\n",
    "    H = np.zeros((a.shape[0] + 1, b.shape[0] + 1))\n",
    "    for i in range(1, a.shape[0] + 1):\n",
    "        for j in range(1, b.shape[0] + 1):\n",
    "            # The score for substituting the letter a[i-1] for b[j-1]. Generally low\n",
    "            # for mismatch, high for match.\n",
    "            H[i,j] = H[i-1,j-1] + cosineSim(a[i-1], b[j-1])\n",
    "    # The highest score is the best local alignment.\n",
    "    # For our purposes, we don't actually care _what_ the alignment was, just how\n",
    "    # aligned the two strings were.\n",
    "    return H.max()"
   ]
  },
  {
   "cell_type": "code",
   "execution_count": null,
   "metadata": {},
   "outputs": [],
   "source": [
    "def profileLogo(i, title=\"\", P=P):\n",
    "    profile_df = su.makeDFs(P[:,:,i:(i+1)].numpy())[0]\n",
    "    logo = logomaker.Logo(profile_df, vpad=.1, width=1)\n",
    "    logo.style_xticks(anchor=0, spacing=1, rotation=45)\n",
    "    logo.ax.set_ylabel('information (bits)')\n",
    "    logo.ax.set_title(title)"
   ]
  },
  {
   "cell_type": "code",
   "execution_count": null,
   "metadata": {},
   "outputs": [],
   "source": [
    "a = P[:,:,0]\n",
    "profileLogo(0, \"Reference profile\")\n",
    "\n",
    "for i in range(5653,5658):\n",
    "    b = P[:,:,i]\n",
    "    s = smith_waterman(a,b)\n",
    "    profileLogo(i, \"Aligning with score \"+str(s))"
   ]
  },
  {
   "cell_type": "code",
   "execution_count": null,
   "metadata": {},
   "outputs": [],
   "source": [
    "for i in range(P.shape[2]):\n",
    "    for j in range(i+1, P.shape[2]):\n",
    "        if smith_waterman(P[:,:,i], P[:,:,j]) >= P.shape[0]/2:\n",
    "            print(\"Similar:\",i,\"and\",j)\n",
    "            profileLogo(i,str(i))\n",
    "            profileLogo(j,str(j))"
   ]
  },
  {
   "cell_type": "markdown",
   "metadata": {},
   "source": [
    "---"
   ]
  },
  {
   "cell_type": "markdown",
   "metadata": {},
   "source": [
    "## Find Best Profiles\n",
    "\n",
    "Idea: \n",
    "* convert profiles into aa-sequences (translate max. values into aa at each position)\n",
    "* align (or perfect match?) sequences against the 6 possible pattern translations and the insert translations\n",
    "* alignment scores give an idea of how good the profiles are -> allows multiple training runs to account for randomness, evaluate how good the profiles usually are (+ variance)"
   ]
  },
  {
   "cell_type": "code",
   "execution_count": null,
   "metadata": {},
   "outputs": [],
   "source": [
    "from Bio import pairwise2\n",
    "from Bio.pairwise2 import format_alignment"
   ]
  },
  {
   "cell_type": "code",
   "execution_count": null,
   "metadata": {},
   "outputs": [],
   "source": [
    "def runTraining():\n",
    "    tf.keras.backend.clear_session() # avoid memory cluttering by remains of old models\n",
    "    \n",
    "    # build and randomly initialize profile model\n",
    "    specProModel = SpecificProfile(k, su.aa_alphabet_size, U, Q)\n",
    "    \n",
    "    #start = time()\n",
    "    specProModel.train_ds(ds, steps_per_epoch, epochs=500, verbose=False)\n",
    "    #end = time()\n",
    "    #print(f\"time: {end-start:.2f}\")\n",
    "    \n",
    "    #S, R = specProModel(X)\n",
    "    #_, (L1, L2, L4, L7) = specProModel.loss(S)\n",
    "    #pScores = tf.reduce_sum(tf.reduce_max(S,axis=0), axis=0).numpy()\n",
    "    #print(\"pScores\", pScores)\n",
    "    #np.argsort(pScores)\n",
    "    #print (\"loss=\", L1.numpy(), \"\\tL2=\", L2.numpy(), \n",
    "    #       \"\\tL4=\", L4.numpy(), \"\\nS=\", S.numpy())\n",
    "    \n",
    "    P = specProModel.getP()\n",
    "    \n",
    "    return P"
   ]
  },
  {
   "cell_type": "code",
   "execution_count": null,
   "metadata": {},
   "outputs": [],
   "source": [
    "def aaFromProfiles(P):\n",
    "    profiles_aa = []\n",
    "    for pidx in range(P.shape[2]):\n",
    "        pmat = P[:,:,pidx]\n",
    "        profiles_aa.append(su.to_aa_seq(pmat))\n",
    "\n",
    "    return profiles_aa"
   ]
  },
  {
   "cell_type": "code",
   "execution_count": null,
   "metadata": {},
   "outputs": [],
   "source": [
    "def getBestAlignments(profiles, patterns, scoreThreshold = int(k/2)):\n",
    "    scores = []\n",
    "    alignments = []\n",
    "    best_profiles = []\n",
    "    for profile in profiles:\n",
    "        pscores = []\n",
    "        palignments = []\n",
    "        for pattern in patterns:\n",
    "            als = pairwise2.align.localxd(profile, pattern, openA=-1000, extendA=-1000, openB=-1000, extendB=-1000)\n",
    "            s = [al.score for al in als]\n",
    "            if len(s) > 0:\n",
    "                pscores.append(np.argmax(s))\n",
    "                palignments.append(als[np.argmax(s)])\n",
    "\n",
    "        best_al = palignments[np.argmax(pscores)]\n",
    "        if best_al.score >= scoreThreshold:\n",
    "            scores.append(best_al.score)\n",
    "            alignments.append(best_al)\n",
    "            best_profiles.append(profile)\n",
    "\n",
    "    if len(scores) > 0:\n",
    "        sortedIdx = np.argsort([-s for s in scores])\n",
    "        scores = [scores[i] for i in sortedIdx]\n",
    "        alignments = [alignments[i] for i in sortedIdx]\n",
    "        best_profiles = [best_profiles[i] for i in sortedIdx]\n",
    "    \n",
    "    return scores, alignments, best_profiles"
   ]
  },
  {
   "cell_type": "code",
   "execution_count": null,
   "metadata": {},
   "outputs": [],
   "source": [
    "if False:\n",
    "    for i in range(20):\n",
    "        P = runTraining()\n",
    "        profiles = aaFromProfiles(P)\n",
    "        print(\"Run\", i)\n",
    "        if insertPatterns is not None:\n",
    "            print(\"Desired profiles:\")\n",
    "            patternScores, patternAlignments, patternProfiles = getBestAlignments(profiles, desiredPatternAA)\n",
    "            for i in range(len(patternScores)):\n",
    "                    print(patternProfiles[i])\n",
    "                    print(format_alignment(*(patternAlignments[i])))\n",
    "\n",
    "        if repeatPatterns is not None:\n",
    "            print(\"Undesired profiles:\")\n",
    "            repeatScores, repeatAlignments, repeatProfiles = getBestAlignments(profiles, repeatPatternAA)\n",
    "            for i in range(len(repeatScores)):\n",
    "                    print(repeatProfiles[i])\n",
    "                    print(format_alignment(*(repeatAlignments[i])))\n",
    "\n",
    "        print(\"\")\n",
    "        print(\"-----\")\n",
    "        print(\"\")\n",
    "        \n",
    "else:\n",
    "    P = specProModel.getP()\n",
    "    profiles = aaFromProfiles(P)\n",
    "\n",
    "    if insertPatterns is not None:\n",
    "        print(\"Desired profiles:\")\n",
    "        patternScores, patternAlignments, patternProfiles = getBestAlignments(profiles, desiredPatternAA, scoreThreshold=4)\n",
    "        for i in range(len(patternScores)):\n",
    "                print(patternProfiles[i])\n",
    "                print(format_alignment(*(patternAlignments[i])))\n",
    "\n",
    "    if repeatPatterns is not None:\n",
    "        print(\"Undesired profiles:\")\n",
    "        repeatScores, repeatAlignments, repeatProfiles = getBestAlignments(profiles, repeatPatternAA, scoreThreshold=4)\n",
    "        for i in range(len(repeatScores)):\n",
    "            print(repeatProfiles[i])\n",
    "            print(format_alignment(*(repeatAlignments[i])))"
   ]
  },
  {
   "cell_type": "code",
   "execution_count": null,
   "metadata": {},
   "outputs": [],
   "source": [
    "R = specProModel.getR()\n",
    "profiles = aaFromProfiles(R)\n",
    "if insertPatterns is not None:\n",
    "    print(\"Desired profiles:\")\n",
    "    patternScores, patternAlignments, patternProfiles = getBestAlignments(profiles, desiredPatternAA, scoreThreshold=4)\n",
    "    for i in range(len(patternScores)):\n",
    "            print(patternProfiles[i])\n",
    "            print(format_alignment(*(patternAlignments[i])))\n",
    "\n",
    "if repeatPatterns is not None:\n",
    "    print(\"Undesired profiles:\")\n",
    "    repeatScores, repeatAlignments, repeatProfiles = getBestAlignments(profiles, repeatPatternAA, scoreThreshold=4)\n",
    "    for i in range(len(repeatScores)):\n",
    "        print(repeatProfiles[i])\n",
    "        print(format_alignment(*(repeatAlignments[i])))"
   ]
  },
  {
   "cell_type": "markdown",
   "metadata": {},
   "source": [
    "---\n",
    "\n",
    "### Evaluate Parameter Grid"
   ]
  },
  {
   "cell_type": "code",
   "execution_count": null,
   "metadata": {},
   "outputs": [],
   "source": [
    "from datetime import time, datetime\n",
    "import pandas as pd\n",
    "import plotly.graph_objects as go\n",
    "import plotly.express as px"
   ]
  },
  {
   "cell_type": "code",
   "execution_count": null,
   "metadata": {},
   "outputs": [],
   "source": [
    "dfN = pd.read_csv(\"20211111_evaluate_gensize_N.csv\")\n",
    "dfGS = pd.read_csv(\"20211111_evaluate_gensize_GS.csv\")\n",
    "dfNS = pd.read_csv(\"20211111_evaluate_gensize_NS.csv\")\n",
    "print(dfN)\n",
    "print(dfGS)\n",
    "print(dfNS)"
   ]
  },
  {
   "cell_type": "code",
   "execution_count": null,
   "metadata": {},
   "outputs": [],
   "source": [
    "def timeFromStr(tstr: str):\n",
    "    h,m,s = tstr.split(\":\")\n",
    "    s, us = s.split(\".\")\n",
    "    us = float(\"0.\"+us) * 1000000\n",
    "    #print(h,m,s,us)\n",
    "    return time(int(h),int(m),int(s), int(us))\n",
    "\n",
    "def secondsFromStr(tstr: str):\n",
    "    h,m,s = tstr.split(\":\")\n",
    "    seconds = (int(h)*60*60) + (int(m)*60) + float(s)\n",
    "    return seconds\n",
    "    \n",
    "runtime = [secondsFromStr(s) for s in df['runtime']]"
   ]
  },
  {
   "cell_type": "code",
   "execution_count": null,
   "metadata": {},
   "outputs": [],
   "source": [
    "fig = go.Figure()\n",
    "fig.add_trace(go.Scatter(x=df['U'], y=runtime, name=\"runtime\"))\n",
    "fig.update_xaxes(title_text='U')\n",
    "fig.update_yaxes(title_text='runtime [s]')#, type='log')\n",
    "fig.show()\n",
    "\n",
    "\n",
    "fig = go.Figure()\n",
    "fig.add_trace(go.Scatter(x=df['U'], y=df['memory'], name=\"memory [MB]\"))\n",
    "fig.update_xaxes(title_text='U')\n",
    "fig.update_yaxes(title_text='Memory [MB]')\n",
    "fig.show()"
   ]
  },
  {
   "cell_type": "code",
   "execution_count": null,
   "metadata": {},
   "outputs": [],
   "source": [
    "gsN = []\n",
    "for _, row in dfN.iterrows():\n",
    "    gsN.append(int(row['N']) * int(row['genome-sizes']))\n",
    "    \n",
    "gsGS = []\n",
    "for _, row in dfGS.iterrows():\n",
    "    gsGS.append(int(row['N']) * int(row['genome-sizes']))\n",
    "    \n",
    "gsNS = []\n",
    "for _, row in dfNS.iterrows():\n",
    "    gs = [int(s) for s in row['genome-sizes'].split()]\n",
    "    gsNS.append(int(row['N']) * sum(gs))\n",
    "\n",
    "fig = go.Figure()\n",
    "fig.add_trace(go.Scatter(x=gsN, y=[secondsFromStr(s) for s in dfN['runtime']], name=\"runtime N\"))\n",
    "fig.add_trace(go.Scatter(x=gsGS, y=[secondsFromStr(s) for s in dfGS['runtime']], name=\"runtime GS\"))\n",
    "fig.add_trace(go.Scatter(x=gsNS, y=[secondsFromStr(s) for s in dfNS['runtime']], name=\"runtime NS\"))\n",
    "fig.update_xaxes(title_text='genome size')\n",
    "fig.update_yaxes(title_text='runtime [s]')\n",
    "fig.show()\n",
    "\n",
    "\n",
    "fig = go.Figure()\n",
    "fig.add_trace(go.Scatter(x=gsN, y=dfN['memory'], name=\"memory [MB] N\"))\n",
    "fig.add_trace(go.Scatter(x=gsGS, y=dfGS['memory'], name=\"memory [MB] GS\"))\n",
    "fig.add_trace(go.Scatter(x=gsNS, y=dfNS['memory'], name=\"memory [MB] NS\"))\n",
    "fig.update_xaxes(title_text='genome size')\n",
    "fig.update_yaxes(title_text='Memory [MB]')\n",
    "fig.show()"
   ]
  },
  {
   "cell_type": "code",
   "execution_count": null,
   "metadata": {},
   "outputs": [],
   "source": [
    "x = []\n",
    "yr = []\n",
    "ym = []\n",
    "for _, row in dfN.iterrows():\n",
    "    x.append(int(row['N']))\n",
    "    yr.append(secondsFromStr(row['runtime']))\n",
    "    ym.append(float(row['memory']))\n",
    "    \n",
    "fig = go.Figure()\n",
    "fig.add_trace(go.Scatter(x=x, y=yr, name=\"runtime\"))\n",
    "fig.update_xaxes(title_text='genome size')\n",
    "fig.update_yaxes(title_text='runtime [s]')\n",
    "fig.show()\n",
    "\n",
    "\n",
    "fig = go.Figure()\n",
    "fig.add_trace(go.Scatter(x=x, y=ym, name=\"memory [MB] N\"))\n",
    "fig.update_xaxes(title_text='genome size')\n",
    "fig.update_yaxes(title_text='Memory [MB]')\n",
    "fig.show()"
   ]
  },
  {
   "cell_type": "code",
   "execution_count": null,
   "metadata": {},
   "outputs": [],
   "source": [
    "x = []\n",
    "yr = []\n",
    "ym = []\n",
    "for _, row in dfGS.iterrows():\n",
    "    x.append(int(row['genome-sizes']))\n",
    "    yr.append(secondsFromStr(row['runtime']))\n",
    "    ym.append(float(row['memory']))\n",
    "    \n",
    "fig = go.Figure()\n",
    "fig.add_trace(go.Scatter(x=x, y=yr, name=\"runtime\"))\n",
    "fig.update_xaxes(title_text='genome size')\n",
    "fig.update_yaxes(title_text='runtime [s]')\n",
    "fig.show()\n",
    "\n",
    "\n",
    "fig = go.Figure()\n",
    "fig.add_trace(go.Scatter(x=x, y=ym, name=\"memory [MB] N\"))\n",
    "fig.update_xaxes(title_text='genome size')\n",
    "fig.update_yaxes(title_text='Memory [MB]')\n",
    "fig.show()"
   ]
  },
  {
   "cell_type": "code",
   "execution_count": null,
   "metadata": {},
   "outputs": [],
   "source": [
    "x = []\n",
    "yr = []\n",
    "ym = []\n",
    "for _, row in dfNS.iterrows():\n",
    "    x.append(sum([int(s) for s in row['genome-sizes'].split()]))\n",
    "    yr.append(secondsFromStr(row['runtime']))\n",
    "    ym.append(float(row['memory']))\n",
    "    \n",
    "fig = go.Figure()\n",
    "fig.add_trace(go.Scatter(x=x, y=yr, name=\"runtime\"))\n",
    "fig.update_xaxes(title_text='genome size')\n",
    "fig.update_yaxes(title_text='runtime [s]')\n",
    "fig.show()\n",
    "\n",
    "\n",
    "fig = go.Figure()\n",
    "fig.add_trace(go.Scatter(x=x, y=ym, name=\"memory [MB] N\"))\n",
    "fig.update_xaxes(title_text='genome size')\n",
    "fig.update_yaxes(title_text='Memory [MB]')\n",
    "fig.show()"
   ]
  }
 ],
 "metadata": {
  "kernelspec": {
   "display_name": "Python 3",
   "language": "python",
   "name": "python3"
  },
  "language_info": {
   "codemirror_mode": {
    "name": "ipython",
    "version": 3
   },
   "file_extension": ".py",
   "mimetype": "text/x-python",
   "name": "python",
   "nbconvert_exporter": "python",
   "pygments_lexer": "ipython3",
   "version": "3.9.2"
  }
 },
 "nbformat": 4,
 "nbformat_minor": 4
}
