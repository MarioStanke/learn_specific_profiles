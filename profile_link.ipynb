{
 "cells": [
  {
   "cell_type": "markdown",
   "metadata": {},
   "source": [
    "### Custom ML model to identify local similarities (\"links\") with sequence profiles\n",
    "\n",
    "Let $$X \\in \\{0,1\\}^{B\\times N\\times 6 \\times T \\times 22}$$ be a batch of **one-hot encoded input translated sequences**,\n",
    "where $B$ is `batch_size`, $N$ is the number of genomes and $T$ is the `tile_size` (in aa).\n",
    "The 6 is here the number of translated frames in order (0,+),(1,+),(2,+),(0,-),(1,-),(2,-).\n",
    "The 22 is here the size of the considered amino acid alphabet.\n"
   ]
  },
  {
   "cell_type": "code",
   "execution_count": 1,
   "metadata": {},
   "outputs": [],
   "source": [
    "import numpy as np\n",
    "import tensorflow as tf\n",
    "\n",
    "import sequtils as su\n",
    "import seq"
   ]
  },
  {
   "cell_type": "markdown",
   "metadata": {},
   "source": [
    "### Create random genomes as toy data "
   ]
  },
  {
   "cell_type": "code",
   "execution_count": 2,
   "metadata": {},
   "outputs": [],
   "source": [
    "N = 4           # number of genomes\n",
    "tile_size = 20  # tile size measured in amino acids\n",
    "# A tile is a consecutive subsequence of _one_ contig/scaffold/chromosome.\n",
    "# Tiles should be about gene-sized.\n",
    "\n",
    "genome_sizes = [[210,100], [30,220,150], [230,110,120,90], [180]] # in nucleotides\n",
    "genomes = seq.getRandomGenomes(N, tile_size, genome_sizes)"
   ]
  },
  {
   "cell_type": "code",
   "execution_count": 3,
   "metadata": {},
   "outputs": [
    {
     "data": {
      "text/plain": [
       "[['ACTAAGGGCTAAAAGTATGGTTTTTCTTTGACATCTTAGGTTACGGTTTAATGTCTTTTGAATCTATAAACTGCCGTGGCTCAACAAATCGCACGACTTCGGCCTCCGTGAAGTCGACCACAAAGCGTGGTCACGTGGGCCTACTCAAGGGCCAGTGACGAGCTCCGTGGACTCCAGAAGATGAAGCACCAAAAGTATTTACACGCAGGA',\n",
       "  'GCGTCAGAAAAATTTACTAATGGTAGAACAAGTAGTAACCCAGGGGTCTGTGCATAGTCTAAACGGAGGCATACACATGTCGGGGGTGTCTGGTATCTTC'],\n",
       " ['CCTTACCCCCGCACAGCAAGCCCCGCGTCC',\n",
       "  'CCCTACGAGGAAATGTCAACTGGAATATGGGCTCGGTATGATGAACCCAAGAGCCACACAGGCGGTGGCCACAAGAGAACGAAACGGCTCGTTCCAGCAGGAGATTGCGGAAATGTAACCTGGCTTCGCCCTTACACCGGATGATAGATCCGGCTTGATCGATAGCCTGGGGTACGTAATACAACATTATAGCTTCCGCGAACGGTTTCGTATGGCTCAG',\n",
       "  'ATCCACAGACGCGAAATCTCCGCGTTCATGACTTCAGCAAGTGTACCAAACATAGACGTCTTAATGAAAGTGAATGACGACCTTCCTAATATTTATAGTCAAGATATAGCCAACAGTCCAAGGTGTTGCTGCTACCCACAAGGACCATTC'],\n",
       " ['CTACCGCCGGGAGCTGTGTGCACCCATAAACCTCGATTTCGAATGCGAGCGTATTCCCATTTATTCGACCCGGCGTAAGCCGCACCACTCATCTAATTTCGCGGTCCACTGCTTCCCATATAGAAAGGTAGGTGTATGCATTATCTGATAGCAATGGGAAGCCGTTTTAGGAAGTCGAACATAGCGTAAGCGGAGGAAACCTCCGGCTGAGGCCCATGCAACTATACCGC',\n",
       "  'GCATGGAGCGATGATCCCCAGAATACTATTTTGAAGGTTCTAAATAGCGCAGAGCCGTAGGTAGTATACCTGTAGGGACTAAAAGTGGCGGATAGTTCGCAAACACTGTG',\n",
       "  'GCATCTCTCGCCGGCAAGAGATGCTAATAGTACTGCCGGTTGTCGCACATCCGCGACTTGGTCCTCGGGCTGCAACCAAGCATCTAAGCCGGAGATGTGCGCAGACGACACTGCTCTAAT',\n",
       "  'AAAGAGGTTCCTCGATCGTCGCATTCTACTTGTAGACCCTATTACAAGTTATCACCCCTATTATAATGCGATGAGCAGCCATAATGATAA'],\n",
       " ['CGTAACGTCTCCAGCGAATGAGGCTGCGCTTCCACATATCCACTGGGGTCTAGGCCATAGGAAGGTGCGTAATGATAGATTAGCGGTACAGAGATACGTCCGGTGGATCAGATCCCGATGGTGTGATCCTCTCGACCCAAATAGGCCACACCTGCATTCACGTGAACCTTCATGTGGTAT']]"
      ]
     },
     "execution_count": 3,
     "metadata": {},
     "output_type": "execute_result"
    }
   ],
   "source": [
    "genomes"
   ]
  },
  {
   "cell_type": "code",
   "execution_count": 4,
   "metadata": {},
   "outputs": [
    {
     "name": "stdout",
     "output_type": "stream",
     "text": [
      "background freqs:  2840.0 *\n",
      "  0.0000\n",
      "C 0.0313\n",
      "K 0.0324\n",
      "E 0.0310\n",
      "W 0.0180\n",
      "T 0.0609\n",
      "G 0.0630\n",
      "Y 0.0370\n",
      "A 0.0627\n",
      "I 0.0514\n",
      "N 0.0275\n",
      "V 0.0606\n",
      "H 0.0370\n",
      "S 0.0894\n",
      "D 0.0299\n",
      "F 0.0331\n",
      "M 0.0194\n",
      "R 0.0933\n",
      "L 0.0880\n",
      "P 0.0634\n",
      "Q 0.0257\n",
      "* 0.0451\n"
     ]
    },
    {
     "data": {
      "text/plain": [
       "array([9.9989986e-05, 3.1334892e-02, 3.2391120e-02, 3.0982813e-02,\n",
       "       1.7955950e-02, 6.0909394e-02, 6.3021861e-02, 3.6968127e-02,\n",
       "       6.2669784e-02, 5.1403303e-02, 2.7462039e-02, 6.0557317e-02,\n",
       "       3.6968127e-02, 8.9427665e-02, 2.9926581e-02, 3.3095278e-02,\n",
       "       1.9364258e-02, 9.3300514e-02, 8.8019356e-02, 6.3373931e-02,\n",
       "       2.5701651e-02, 4.5065910e-02], dtype=float32)"
      ]
     },
     "execution_count": 4,
     "metadata": {},
     "output_type": "execute_result"
    }
   ],
   "source": [
    "Q = seq.backGroundAAFreqs(genomes, True)\n",
    "# set a small probability for 0-th character (missing aa) to avoid numerical error\n",
    "Q[0] = 0.0001\n",
    "Q /= Q.sum()\n",
    "Q"
   ]
  },
  {
   "cell_type": "markdown",
   "metadata": {},
   "source": [
    "#### Read in the genome"
   ]
  },
  {
   "cell_type": "code",
   "execution_count": 5,
   "metadata": {},
   "outputs": [
    {
     "data": {
      "text/plain": [
       "(2, 4, 6, 20, 22)"
      ]
     },
     "execution_count": 5,
     "metadata": {},
     "output_type": "execute_result"
    }
   ],
   "source": [
    "batch_size = 2  # constrained by RAM and gradient descent performance\n",
    "\n",
    "X = seq.getNextBatch(genomes, batch_size, tile_size, verbose=False)\n",
    "X.shape"
   ]
  },
  {
   "cell_type": "markdown",
   "metadata": {},
   "source": [
    "## TensorFlow Model\n",
    "Let $$P = (P[w,c,u]) \\in [0,1]^{k \\times 22 \\times U}$$\n",
    "be a collection of $U$ amino acid **profiles**, each of length $k$.\n",
    "Let $$ Q = (Q[c]) \\in [0,1]^{22}$$ be a background amino acid distribution.\n",
    "\n",
    "Both are normalized distributions:\n",
    "$$ \\sum_c P[w,c,u] = \\sum_c Q[c] = 1 \\qquad \\forall u,w.$$\n",
    "\n",
    "Define the scores tensor \n",
    "$$ S \\in \\mathbb{R}^ {B\\times N \\times U}$$\n",
    "by\n",
    "$$ S[b,g,u] = \\max_{f=0}^5 \\max_{v=0}^{T-k} \\sum_{w=0}^{k-1} \\sum_{c=0}^{21} X[b,g,f,v+w,c] \\cdot \\ln \\frac {P[w,c,u]}{Q[c]}.$$\n",
    "\n",
    "For a given batch $S[b,g,u]$ is the maximal score that the $u$-th profile scores in the $b$-th tile of genome $g$.\n",
    "It can be computed using a **one dimensional convolution** and max pooling.\n",
    "\n",
    "Define the intermediate variables:\n",
    "\n",
    "$R \\in [0,1]^{k \\times 22 \\times U}$ by \n",
    "$$ R[w,c,u] := \\ln \\frac {P[w,c,u]}{Q[c]}.$$\n",
    "\n",
    "$Z \\in \\mathbb{R}^{B\\times N \\times 6 \\times T-k-1\\times U}$ by\n",
    "$$Z[b,g,f,v,u] := \\sum_{w=0}^{k-1} \\sum_{c=0}^{21} X[b,g,f,v+w,c] \\cdot R[w,c,u].$$\n",
    "\n",
    "**Losses:**\n",
    "Only the best score counts for each frame and tile. Sum them up.\n",
    "$$L_1 = - \\sum_{b=1}^B \\sum_{g=1}^G \\sum_{u=1}^U S[b,g,u]$$ "
   ]
  },
  {
   "cell_type": "code",
   "execution_count": 6,
   "metadata": {},
   "outputs": [],
   "source": [
    "U = 2 # number of profiles to train\n",
    "k = 3 # length of profiles"
   ]
  },
  {
   "cell_type": "code",
   "execution_count": 15,
   "metadata": {},
   "outputs": [],
   "source": [
    "class SpecificProfile(tf.keras.Model):\n",
    "    def __init__(self, k, alphabet_size, units, Q, **kwargs):\n",
    "        super().__init__(**kwargs)\n",
    "        P_logit_init = tf.random.normal([k, alphabet_size, units],\n",
    "                                    stddev=1.,\n",
    "                                    dtype=tf.float32,\n",
    "                                    seed=1)\n",
    "        self.P_logit = tf.Variable(P_logit_init, trainable=True, name=\"P_logit\") \n",
    "        self.Q = Q\n",
    "\n",
    "    def getP(self):\n",
    "        P = tf.nn.softmax(self.P_logit, axis=1, name=\"P\")\n",
    "        return P\n",
    "    \n",
    "    def call(self, X):\n",
    "        P = self.getP()\n",
    "        Q1 = tf.expand_dims(self.Q,0)\n",
    "        Q2 = tf.expand_dims(Q1,-1)\n",
    "        R = tf.math.log(P/Q2)\n",
    "\n",
    "        X1 = tf.expand_dims(X,-1) # 1 input channel\n",
    "        R1 = tf.expand_dims(R,-2) # 1 input channel\n",
    "        Z1 = tf.nn.conv2d(X1, R1, strides=1,\n",
    "                         padding='VALID', data_format=\"NHWC\", name=\"Z\")\n",
    "        Z = tf.squeeze(Z1, 4) # remove input channel dimension\n",
    "\n",
    "        S = tf.reduce_max(Z, axis=[2,3])\n",
    "        return S\n",
    "\n",
    "    # custom loss\n",
    "    def loss(self, S):\n",
    "        L1 = tf.reduce_sum(S)\n",
    "        return L1\n",
    "\n",
    "    @tf.function()\n",
    "    def train_step(self, X):\n",
    "        with tf.GradientTape() as tape:\n",
    "            S = self.call(X)\n",
    "            L = self.loss(S)\n",
    "\n",
    "        grad = tape.gradient(L, self.P_logit)\n",
    "        self.opt.apply_gradients([(grad, self.P_logit)])\n",
    "\n",
    "    def train(self, X):\n",
    "        self.opt = tf.keras.optimizers.Adam(learning_rate=1e-3)\n",
    "        for i in range(10):\n",
    "            self.train_step(X)\n",
    "            if i%100 == 0:\n",
    "                S = self(X)\n",
    "                L = self.loss(S)\n",
    "                print(\"loss=\", L)"
   ]
  },
  {
   "cell_type": "code",
   "execution_count": 16,
   "metadata": {},
   "outputs": [],
   "source": [
    "specProModel = SpecificProfile(k, su.aa_alphabet_size, U, Q)"
   ]
  },
  {
   "cell_type": "markdown",
   "metadata": {},
   "source": [
    "### Training"
   ]
  },
  {
   "cell_type": "code",
   "execution_count": 17,
   "metadata": {},
   "outputs": [
    {
     "name": "stdout",
     "output_type": "stream",
     "text": [
      "loss= tf.Tensor(44.672707, shape=(), dtype=float32)\n"
     ]
    }
   ],
   "source": [
    "specProModel.train(X)"
   ]
  },
  {
   "cell_type": "code",
   "execution_count": 18,
   "metadata": {},
   "outputs": [
    {
     "data": {
      "text/plain": [
       "<tf.Tensor: shape=(3, 22, 2), dtype=float32, numpy=\n",
       "array([[[0.03540362, 0.00621754],\n",
       "        [0.11979353, 0.05192546],\n",
       "        [0.08301315, 0.03391496],\n",
       "        [0.02579159, 0.00638013],\n",
       "        [0.02279522, 0.01840889],\n",
       "        [0.00896827, 0.00634902],\n",
       "        [0.03063946, 0.05137086],\n",
       "        [0.00775049, 0.1074899 ],\n",
       "        [0.01216878, 0.03489775],\n",
       "        [0.05292035, 0.0481878 ],\n",
       "        [0.02760285, 0.01760041],\n",
       "        [0.008845  , 0.11022015],\n",
       "        [0.05242123, 0.01713062],\n",
       "        [0.00432009, 0.00944972],\n",
       "        [0.01287324, 0.01184753],\n",
       "        [0.23534803, 0.00683263],\n",
       "        [0.00178908, 0.01461949],\n",
       "        [0.00745366, 0.02257584],\n",
       "        [0.01405564, 0.04245442],\n",
       "        [0.02160924, 0.02321611],\n",
       "        [0.20044881, 0.00294867],\n",
       "        [0.01398855, 0.35596213]],\n",
       "\n",
       "       [[0.00734191, 0.13321282],\n",
       "        [0.08238347, 0.00758329],\n",
       "        [0.01164624, 0.15153775],\n",
       "        [0.00996538, 0.06966911],\n",
       "        [0.03061597, 0.01181096],\n",
       "        [0.02379844, 0.01656984],\n",
       "        [0.00906169, 0.0549253 ],\n",
       "        [0.0394752 , 0.04449735],\n",
       "        [0.02051418, 0.04618821],\n",
       "        [0.03911001, 0.03075182],\n",
       "        [0.02463917, 0.07121216],\n",
       "        [0.03931397, 0.07804091],\n",
       "        [0.13671681, 0.05540744],\n",
       "        [0.0340975 , 0.03273994],\n",
       "        [0.05088818, 0.01525202],\n",
       "        [0.05180968, 0.02408002],\n",
       "        [0.12758152, 0.10189546],\n",
       "        [0.09722892, 0.01127562],\n",
       "        [0.01036821, 0.00669101],\n",
       "        [0.09016468, 0.00459941],\n",
       "        [0.05151665, 0.00855141],\n",
       "        [0.01176226, 0.02350822]],\n",
       "\n",
       "       [[0.00439501, 0.08560226],\n",
       "        [0.01971745, 0.03015021],\n",
       "        [0.07955846, 0.03690688],\n",
       "        [0.1630487 , 0.05563256],\n",
       "        [0.14449446, 0.02697424],\n",
       "        [0.00510644, 0.01416503],\n",
       "        [0.04632765, 0.04031344],\n",
       "        [0.03823991, 0.09270885],\n",
       "        [0.01709357, 0.03033308],\n",
       "        [0.04158508, 0.12081514],\n",
       "        [0.0824832 , 0.01869003],\n",
       "        [0.06309954, 0.01757674],\n",
       "        [0.02628567, 0.05551953],\n",
       "        [0.0257012 , 0.04114856],\n",
       "        [0.00705149, 0.02745464],\n",
       "        [0.04988524, 0.07207067],\n",
       "        [0.02971738, 0.06464335],\n",
       "        [0.04838685, 0.07567662],\n",
       "        [0.01708719, 0.02009371],\n",
       "        [0.03003805, 0.01978626],\n",
       "        [0.03255945, 0.0090018 ],\n",
       "        [0.02813792, 0.04473645]]], dtype=float32)>"
      ]
     },
     "execution_count": 18,
     "metadata": {},
     "output_type": "execute_result"
    }
   ],
   "source": [
    "P = specProModel.getP()\n",
    "P"
   ]
  },
  {
   "cell_type": "markdown",
   "metadata": {},
   "source": [
    "### Visualize resulting profiles as sequence logos\n"
   ]
  },
  {
   "cell_type": "code",
   "execution_count": 19,
   "metadata": {},
   "outputs": [],
   "source": [
    "dfs = su.makeDFs(P.numpy())\n"
   ]
  },
  {
   "cell_type": "code",
   "execution_count": 20,
   "metadata": {},
   "outputs": [],
   "source": [
    "import logomaker"
   ]
  },
  {
   "cell_type": "code",
   "execution_count": 27,
   "metadata": {},
   "outputs": [
    {
     "data": {
      "text/plain": [
       "Text(0, 0.5, 'information (bits)')"
      ]
     },
     "execution_count": 27,
     "metadata": {},
     "output_type": "execute_result"
    },
    {
     "data": {
      "image/png": "[encoded data removed]",
      "text/plain": [
       "<Figure size 720x180 with 1 Axes>"
      ]
     },
     "metadata": {
      "needs_background": "light"
     },
     "output_type": "display_data"
    }
   ],
   "source": [
    "logo = logomaker.Logo(dfs[0], vpad=.1, width=1)\n",
    "logo.style_xticks(anchor=0, spacing=1, rotation=45)\n",
    "logo.ax.set_ylabel('information (bits)')"
   ]
  },
  {
   "cell_type": "code",
   "execution_count": 14,
   "metadata": {},
   "outputs": [],
   "source": [
    "# dataset = tf.data.Dataset.from_tensor_slices([X])"
   ]
  },
  {
   "cell_type": "code",
   "execution_count": null,
   "metadata": {},
   "outputs": [],
   "source": []
  }
 ],
 "metadata": {
  "kernelspec": {
   "display_name": "Python 3",
   "language": "python",
   "name": "python3"
  },
  "language_info": {
   "codemirror_mode": {
    "name": "ipython",
    "version": 3
   },
   "file_extension": ".py",
   "mimetype": "text/x-python",
   "name": "python",
   "nbconvert_exporter": "python",
   "pygments_lexer": "ipython3",
   "version": "3.8.10"
  }
 },
 "nbformat": 4,
 "nbformat_minor": 4
}
