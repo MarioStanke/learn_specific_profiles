{
 "cells": [
  {
   "cell_type": "markdown",
   "metadata": {},
   "source": [
    "# Obtaining Genome Sequences and Conversion to Tensor"
   ]
  },
  {
   "cell_type": "code",
   "execution_count": 1,
   "metadata": {
    "slideshow": {
     "slide_type": "subslide"
    }
   },
   "outputs": [],
   "source": [
    "# import libraries\n",
    "import itertools\n",
    "import numpy as np\n",
    "import sys\n",
    "from functools import cmp_to_key\n",
    "import tensorflow as tf"
   ]
  },
  {
   "cell_type": "code",
   "execution_count": 2,
   "metadata": {
    "slideshow": {
     "slide_type": "subslide"
    }
   },
   "outputs": [],
   "source": [
    "# import own modules\n",
    "import sequtils as su"
   ]
  },
  {
   "cell_type": "code",
   "execution_count": 3,
   "metadata": {},
   "outputs": [
    {
     "name": "stdout",
     "output_type": "stream",
     "text": [
      "22 \n",
      " [' ', 'C', 'K', 'E', 'W', 'T', 'G', 'Y', 'A', 'I', 'N', 'V', 'H', 'S', 'D', 'F', 'M', 'R', 'L', 'P', 'Q', '*']\n"
     ]
    }
   ],
   "source": [
    "print(su.aa_alphabet_size, \"\\n\", su.aa_alphabet)"
   ]
  },
  {
   "cell_type": "code",
   "execution_count": 4,
   "metadata": {},
   "outputs": [
    {
     "data": {
      "text/plain": [
       "['MT', '*H', 'D', 'MS', 'CH', 'V']"
      ]
     },
     "execution_count": 4,
     "metadata": {},
     "output_type": "execute_result"
    }
   ],
   "source": [
    "su.six_frame_translation(\"ATGACAT\")"
   ]
  },
  {
   "cell_type": "markdown",
   "metadata": {},
   "source": [
    "## Use simulated toy sample genomes"
   ]
  },
  {
   "cell_type": "code",
   "execution_count": 5,
   "metadata": {},
   "outputs": [
    {
     "data": {
      "text/plain": [
       "[['TCGGGCTACCAGATTCGCTCCTAACTCGACAGCTGAGAGCGCTTGTGGCGACTTCACGGGTCAAAGGGGTATCTTTTTTCGTCTGTGCCAGTTTCCCGCTGCCTCGATCTAGTAGCATCACAGGCCACCGAGTTGACCAGCTATCGTTGCCATGAGTTTAGATTCGGCATAGCTCTGGAGTCCATCGGGCCGGTGAAATATAGTTCCAGG',\n",
       "  'ACAAGCTGAATTTGTATCCCCCTAGGCCCCCCCGCCGGTGGCTGCGCAACGATCACCGGCGATCTGGCTAAAAATAACTTAAAAATCATGCGCTAAGATA'],\n",
       " ['TTTCTAGATCCCGCGCGAAATCCCGTTCAG',\n",
       "  'CAGTTTCTCCTCAAGTTGGATGGATTGTCGCTTACAATCTCCCGGAGGTAGTGCTCAACGAAGAAGTAATCGGAAATAGTTCCACTATCTAGAATTTACTCCAGATCCGGTCTGCTTGTGGAGGAAGGACAGATCGTGGGCAGTCACTCTCGCGTAACTTGGAACGGCGGCGTCCGAATCACCAGGACCCAAAGCTCAATGCCTCAGCTTCCCGAATGTG',\n",
       "  'AAATTCGCGTGGCCCTGGTTCGCCTATCGCTAATCGATATTTCCATTCTACGCACCATGATGAATCCGGATCAGACTCAGGAGCGCTCTCCAGGACAGGTGGGAGGCCCGCCTATTCACGACTCGCTATTGAACCGACGAGGCTGCAGCC'],\n",
       " ['CGAGCTAGTAAGAGTCCCGATTGAGGAGACCTAAAGATTAAAGATTTTCGTGCAAACCCTAGACTTGATTTTGTGAGTAGAAGCACAGTGCGTTTAACTAACAAAACTGATAGACATAGCCACGCTCCCCGTTGCCCCCCGTTGAGTTCAAGTTGTCAGCAGAGCCGCGACCTGATAAATACGATAAGGGATAGCACGATGTGACGGCGCGCCCGCGGAGAAGGGCTCAA',\n",
       "  'ACCCCAGAGGATATTGTATGGGTGGTCGGACGGGCGACGCAGTCTAAGCGCCAAGAACCTACAAATACAGGGCTTAGGAGACCGGGAAGAGTGAACCCCTGGACCCCCAA',\n",
       "  'GGCGGTCATGACCCGGAACTTAATTTCACCAGCATCATGTCCCTGCATTCGACCTATAGGGCCGGCCCACGTACTAAGTTCAAAAACCGAAATAGTTAGAAAGCTGTACCTGGAACCCTT',\n",
       "  'GTCCGATAAATTGTACTAGAACGACTGGCAACTCCTGGGCCACAAGACTCCGAAGTAGCCATTCTGGGAGTTCGGTTCTATTGTACTCAT'],\n",
       " ['TACTTTGCATCGATCAGATTCGTTTCGTATCAGTGTTACGCGTCTATAGGGAGTTGCAATGGATGAATTCTGAGCCGTGCGCCTGTACGACTTGATCTCATCTTTTGCCGCAGGCAGGATACGGACCTAGCCTGAAGAACCGTTATATGAGGGTAGTATTGTTTTGCCCTCCAGCGTTAT']]"
      ]
     },
     "execution_count": 5,
     "metadata": {},
     "output_type": "execute_result"
    }
   ],
   "source": [
    "N = 4           # number of genomes\n",
    "tile_size = 20  # tile size measured in amino acids\n",
    "# A tile is a consecutive subsequence of _one_ contig/scaffold/chromosome.\n",
    "# Tiles should be about gene-sized.\n",
    "\n",
    "batch_size = 2  # constrained by RAM and gradient descent performance\n",
    "\n",
    "genome_sizes = [[210,100], [30,220,150], [230,110,120,90], [180]] # in nucleotides\n",
    "genomes = [[''.join(np.random.choice(list(su.dna_alphabet), ctglen))\n",
    "           for ctglen in genome_sizes[i]]\n",
    "           for i in range(N)]\n",
    "genomes"
   ]
  },
  {
   "cell_type": "markdown",
   "metadata": {},
   "source": [
    "### Convert genomes to tensor\n",
    "Let $$X \\in \\{0,1\\}^{B\\times N\\times 6 \\times T \\times 22}$$ be a batch of **one-hot encoded input translated sequences**,\n",
    "where $B$ is `batch_size`, $N$ is the number of genomes and $T$ is the `tile_size` (in aa).\n",
    "The 6 is here the number of translated frames in order (0,+),(1,+),(2,+),(0,-),(1,-),(2,-).\n",
    "The 22 is here the size of the considered amino acid alphabet."
   ]
  },
  {
   "cell_type": "code",
   "execution_count": 6,
   "metadata": {},
   "outputs": [],
   "source": [
    "def getNextBatch(genomes, verbose:bool = False):\n",
    "    \"\"\"\n",
    "    Convert next batch of sequence tiles to a tensor X.\n",
    "    This should be called once for a set of genomes.\n",
    "    The converted tensors are either held in memory or\n",
    "    serialized to disc for quick repeated multiple access during training.\n",
    "    \n",
    "    genomes: list of N lists of nucleotide strings\n",
    "             genomes is consumed (changed) so that iterated calls of getNextBatch eventually result\n",
    "             in empty lists. Genome sequences itself should not be empty strings.\n",
    "    returns:\n",
    "    tensor of shape\n",
    "    \"\"\"\n",
    "    # test whether any sequenes are left\n",
    "    i=0\n",
    "    while i<N and not genomes[i]:\n",
    "        i += 1\n",
    "    if i == N: # all lists empty, genomes is exhausted\n",
    "        return None\n",
    "    \n",
    "    X = np.zeros([batch_size, N, 6, tile_size, su.aa_alphabet_size], dtype=np.float32)\n",
    "    I = np.eye(su.aa_alphabet_size) # for numpy-style one-hot encoding\n",
    "    for b in range(batch_size):\n",
    "        for i in range(N):\n",
    "            # get next up to tile_size amino acids from genome i\n",
    "            slen = 0\n",
    "            if not genomes[i]:\n",
    "                continue # i-th genome already exhausted\n",
    "                \n",
    "            slen = len(genomes[i][0])\n",
    "            translatable_seq = genomes[i][0][:min(slen,\n",
    "                                                  3 * tile_size + 2)]\n",
    "\n",
    "            # some nucleotides are part of both neighboring tiles\n",
    "            aa_seqs = su.six_frame_translation(translatable_seq)\n",
    "            for frame in range(6):\n",
    "                aa_seq = aa_seqs[frame]\n",
    "                x = su.to_idx(aa_seq)\n",
    "                num_aa = x.shape[0]\n",
    "                if (num_aa > 0):\n",
    "                    one_hot = I[x]\n",
    "                    X[b,i,frame,0:num_aa,:] = one_hot\n",
    "                if verbose:\n",
    "                    print (f\"b={b} i={i} f={frame} len={len(aa_seq):>2} {aa_seq:<{tile_size}} \", x)\n",
    "\n",
    "            # remove from genome sequence, what has been used\n",
    "            if len(genomes[i][0]) > 3 * tile_size:\n",
    "                genomes[i][0] = genomes[i][0][3 * tile_size : ]\n",
    "            else: # the rest of the sequence has been used\n",
    "                genomes[i].pop(0)\n",
    "    return X"
   ]
  },
  {
   "cell_type": "code",
   "execution_count": 7,
   "metadata": {
    "slideshow": {
     "slide_type": "subslide"
    }
   },
   "outputs": [
    {
     "name": "stdout",
     "output_type": "stream",
     "text": [
      "b=0 i=0 f=0 len=20 SGYQIRS*LDS*ERLWRLHG  [13  6  7 20  9 17 13 21 18 14 13 21  3 17 18  4 17 18 12  6]\n",
      "b=0 i=0 f=1 len=20 RATRFAPNSTAESACGDFTG  [17  8  5 17 15  8 19 10 13  5  8  3 13  8  1  6 14 15  5  6]\n",
      "b=0 i=0 f=2 len=20 GLPDSLLTRQLRALVATSRV  [ 6 18 19 14 13 18 18  5 17 20 18 17  8 18 11  8  5 13 17 11]\n",
      "b=0 i=0 f=3 len=20 DP*SRHKRSQLSS*ERIW*P  [14 19 21 13 17 12  2 17 13 20 18 13 13 21  3 17  9  4 21 19]\n",
      "b=0 i=0 f=4 len=20 TREVATSALSCRVRSESGSP  [ 5 17  3 11  8  5 13  8 18 13  1 17 11 17 13  3 13  6 13 19]\n",
      "b=0 i=0 f=5 len=20 PVKSPQALSAVELGANLVAR  [19 11  2 13 19 20  8 18 13  8 11  3 18  6  8 10 18 11  8 17]\n",
      "b=0 i=1 f=0 len=10 FLDPARNPVQ            [15 18 14 19  8 17 10 19 11 20]\n",
      "b=0 i=1 f=1 len= 9 F*IPREIPF             [15 21  9 19 17  3  9 19 15]\n",
      "b=0 i=1 f=2 len= 9 SRSRAKSRS             [13 17 13 17  8  2 13 17 13]\n",
      "b=0 i=1 f=3 len=10 LNGISRGI*K            [18 10  6  9 13 17  6  9 21  2]\n",
      "b=0 i=1 f=4 len= 9 *TGFRAGSR             [21  5  6 15 17  8  6 13 17]\n",
      "b=0 i=1 f=5 len= 9 ERDFARDLE             [ 3 17 14 15  8 17 14 18  3]\n",
      "b=0 i=2 f=0 len=20 RASKSPD*GDLKIKDFRANP  [17  8 13  2 13 19 14 21  6 14 18  2  9  2 14 15 17  8 10 19]\n",
      "b=0 i=2 f=1 len=20 ELVRVPIEET*RLKIFVQTL  [ 3 18 11 17 11 19  9  3  3  5 21 17 18  2  9 15 11 20  5 18]\n",
      "b=0 i=2 f=2 len=20 S**ESRLRRPKD*RFSCKP*  [13 21 21  3 13 17 18 17 17 19  2 14 21 17 15 13  1  2 19 21]\n",
      "b=0 i=2 f=3 len=20 LGFARKSLIFRSPQSGLLLA  [18  6 15  8 17  2 13 18  9 15 17 13 19 20 13  6 18 18 18  8]\n",
      "b=0 i=2 f=4 len=20 *GLHENL*SLGLLNRDSY*L  [21  6 18 12  3 10 18 21 13 18  6 18 18 10 17 14 13  7 21 18]\n",
      "b=0 i=2 f=5 len=20 RVCTKIFNL*VSSIGTLTSS  [17 11  1  5  2  9 15 10 18 21 11 13 13  9  6  5 18  5 13 13]\n",
      "b=0 i=3 f=0 len=20 YFASIRFVSYQCYASIGSCN  [ 7 15  8 13  9 17 15 11 13  7 20  1  7  8 13  9  6 13  1 10]\n",
      "b=0 i=3 f=1 len=20 TLHRSDSFRISVTRL*GVAM  [ 5 18 12 17 13 14 13 15 17  9 13 11  5 17 18 21  6 11  8 16]\n",
      "b=0 i=3 f=2 len=20 LCIDQIRFVSVLRVYRELQW  [18  1  9 14 20  9 17 15 11 13 11 18 17 11  7 17  3 18 20  4]\n",
      "b=0 i=3 f=3 len=20 PLQLPIDA*H*YETNLIDAK  [19 18 20 18 19  9 14  8 21 12 21  7  3  5 10 18  9 14  8  2]\n",
      "b=0 i=3 f=4 len=20 HCNSL*TRNTDTKRI*SMQS  [12  1 10 13 18 21  5 17 10  5 14  5  2 17  9 21 13 16 20 13]\n",
      "b=0 i=3 f=5 len=20 IATPYRRVTLIRNESDRCKV  [ 9  8  5 19  7 17 17 11  5 18  9 17 10  3 13 14 17  1  2 11]\n",
      "b=1 i=0 f=0 len=20 SKGYLFSSVPVSRCLDLVAS  [13  2  6  7 18 15 13 13 11 19 11 13 17  1 18 14 18 11  8 13]\n",
      "b=1 i=0 f=1 len=20 QRGIFFRLCQFPAASI**HH  [20 17  6  9 15 15 17 18  1 20 15 19  8  8 13  9 21 21 12 12]\n",
      "b=1 i=0 f=2 len=20 KGVSFFVCASFPLPRSSSIT  [ 2  6 11 13 15 15 11  1  8 13 15 19 18 19 17 13 13 13  9  5]\n",
      "b=1 i=0 f=3 len=20 CDATRSRQRETGTDEKRYPF  [ 1 14  8  5 17 13 17 20 17  3  5  6  5 14  3  2 17  7 19 15]\n",
      "b=1 i=0 f=4 len=20 VMLLDRGSGKLAQTKKDTPL  [11 16 18 18 14 17  6 13  6  2 18  8 20  5  2  2 14  5 19 18]\n",
      "b=1 i=0 f=5 len=20 *CY*IEAAGNWHRRKKIPL*  [21  1  7 21  9  3  8  8  6 10  4 12 17 17  2  2  9 19 18 21]\n",
      "b=1 i=1 f=0 len=20 QFLLKLDGLSLTISRR*CST  [20 15 18 18  2 18 14  6 18 13 18  5  9 13 17 17 21  1 13  5]\n",
      "b=1 i=1 f=1 len=20 SFSSSWMDCRLQSPGGSAQR  [13 15 13 13 13  4 16 14  1 17 18 20 13 19  6  6 13  8 20 17]\n",
      "b=1 i=1 f=2 len=20 VSPQVGWIVAYNLPEVVLNE  [11 13 19 20 11  6  4  9 11  8  7 10 18 19  3 11 11 18 10  3]\n",
      "b=1 i=1 f=3 len=20 FVEHYLREIVSDNPSNLRRN  [15 11  3 12  7 18 17  3  9 11 13 14 10 19 13 10 18 17 17 10]\n",
      "b=1 i=1 f=4 len=20 SLSTTSGRL*ATIHPT*GET  [13 18 13  5  5 13  6 17 18 21  8  5  9 12 19  5 21  6  3  5]\n",
      "b=1 i=1 f=5 len=20 R*ALPPGDCKRQSIQLEEKL  [17 21  8 18 19 19  6 14  1  2 17 20 13  9 20 18  3  3  2 18]\n",
      "b=1 i=2 f=0 len=20 RLDFVSRSTVRLTNKTDRHS  [17 18 14 15 11 13 17 13  5 11 17 18  5 10  2  5 14 17 12 13]\n",
      "b=1 i=2 f=1 len=20 DLIL*VEAQCV*LTKLIDIA  [14 18  9 18 21 11  3  8 20  1 11 21 18  5  2 18  9 14  9  8]\n",
      "b=1 i=2 f=2 len=20 T*FCE*KHSAFN*QN**T*P  [ 5 21 15  1  3 21  2 12 13  8 15 10 21 20 10 21 21  5 21 19]\n",
      "b=1 i=2 f=3 len=20 WLCLSVLLVKRTVLLLTKSS  [ 4 18  1 18 13 11 18 18 11  2 17  5 11 18 18 18  5  2 13 13]\n",
      "b=1 i=2 f=4 len=20 GYVYQFC*LNALCFYSQNQV  [ 6  7 11  7 20 15  1 21 18 10  8 18  1 15  7 13 20 10 20 11]\n",
      "b=1 i=2 f=5 len=20 AMSISFVS*THCASTHKIKS  [ 8 16 13  9 13 15 11 13 21  5 12  1  8 13  5 12  2  9  2 13]\n",
      "b=1 i=3 f=0 len=20 G*ILSRAPVRLDLIFCRRQD  [ 6 21  9 18 13 17  8 19 11 17 18 14 18  9 15  1 17 17 20 14]\n",
      "b=1 i=3 f=1 len=20 DEF*AVRLYDLISSFAAGRI  [14  3 15 21  8 11 17 18  7 14 18  9 13 13 15  8  8  6 17  9]\n",
      "b=1 i=3 f=2 len=20 MNSEPCACTT*SHLLPQAGY  [16 10 13  3 19  1  8  1  5  5 21 13 12 18 18 19 20  8  6  7]\n",
      "b=1 i=3 f=3 len=20 VSCLRQKMRSSRTGARLRIH  [11 13  1 18 17 20  2 16 17 13 13 17  5  6  8 17 18 17  9 12]\n",
      "b=1 i=3 f=4 len=20 YPACGKR*DQVVQAHGSEFI  [ 7 19  8  1  6  2 17 21 14 20 11 11 20  8 12  6 13  3 15  9]\n",
      "b=1 i=3 f=5 len=20 ILPAAKDEIKSYRRTAQNSS  [ 9 18 19  8  8  2 14  3  9  2 13  7 17 17  5  8 20 10 13 13]\n",
      "b=0 i=0 f=0 len=20 QATELTSYRCHEFRFGIALE  [20  8  5  3 18  5 13  7 17  1 12  3 15 17 15  6  9  8 18  3]\n",
      "b=0 i=0 f=1 len=20 RPPS*PAIVAMSLDSA*LWS  [17 19 19 13 21 19  8  9 11  8 16 13 18 14 13  8 21 18  4 13]\n",
      "b=0 i=0 f=2 len=20 GHRVDQLSLP*V*IRHSSGV  [ 6 12 17 11 14 20 18 13 18 19 21 11 21  9 17 12 13 13  6 11]\n",
      "b=0 i=0 f=3 len=20 DSRAMPNLNSWQR*LVNSVA  [14 13 17  8 16 19 10 18 10 13  4 20 17 21 18 11 10 13 11  8]\n",
      "b=0 i=0 f=4 len=20 TPELCRI*THGNDSWSTRWP  [ 5 19  3 18  1 17  9 21  5 12  6 10 14 13  4 13  5 17  4 19]\n",
      "b=0 i=0 f=5 len=20 LQSYAESKLMATIAGQLGGL  [18 20 13  7  8  3 13  2 18 16  8  5  9  8  6 20 18  6  6 18]\n",
      "b=0 i=1 f=0 len=20 KK*SEIVPLSRIYSRSGLLV  [ 2  2 21 13  3  9 11 19 18 13 17  9  7 13 17 13  6 18 18 11]\n",
      "b=0 i=1 f=1 len=20 RSNRK*FHYLEFTPDPVCLW  [17 13 10 17  2 21 15 12  7 18  3 15  5 19 14 19 11  1 18  4]\n",
      "b=0 i=1 f=2 len=20 EVIGNSSTI*NLLQIRSACG  [ 3 11  9  6 10 13 13  5  9 21 10 18 18 20  9 17 13  8  1  6]\n",
      "b=0 i=1 f=3 len=20 STSRPDLE*ILDSGTISDYF  [13  5 13 17 19 14 18  3 21  9 18 14 13  6  5  9 13 14  7 15]\n",
      "b=0 i=1 f=4 len=20 PQADRIWSKF*IVELFPITS  [19 20  8 14 17  9  4 13  2 15 21  9 11  3 18 15 19  9  5 13]\n",
      "b=0 i=1 f=5 len=20 HKQTGSGVNSR*WNYFRLLL  [12  2 20  5  6 13  6 11 10 13 17 21  4 10  7 15 17 18 18 18]\n",
      "b=0 i=2 f=0 len=20 HAPRCPPLSSSCQQSRDLIN  [12  8 19 17  1 19 19 18 13 13 13  1 20 20 13 17 14 18  9 10]\n",
      "b=0 i=2 f=1 len=20 TLPVAPR*VQVVSRAAT**I  [ 5 18 19 11  8 19 17 21 11 20 11 11 13 17  8  8  5 21 21  9]\n",
      "b=0 i=2 f=2 len=20 RSPLPPVEFKLSAEPRPDKY  [17 13 19 18 19 19 11  3 15  2 18 13  8  3 19 17 19 14  2  7]\n",
      "b=0 i=2 f=3 len=20 VFIRSRLC*QLELNGGQRGA  [11 15  9 17 13 17 18  1 21 20 18  3 18 10  6  6 20 17  6  8]\n",
      "b=0 i=2 f=4 len=20 YLSGRGSADNLNSTGGNGER  [ 7 18 13  6 17  6 13  8 14 10 18 10 13  5  6  6 10  6  3 17]\n",
      "b=0 i=2 f=5 len=20 IYQVAALLTT*TQRGATGSV  [ 9  7 20 11  8  8 18 18  5  5 21  5 20 17  6  8  5  6 13 11]\n",
      "b=0 i=3 f=0 len=20 TDLA*RTVI*G*YCFALQRY  [ 5 14 18  8 21 17  5 11  9 21  6 21  7  1 15  8 18 20 17  7]\n",
      "b=0 i=3 f=1 len=19 RT*PEEPLYEGSIVLPSSV   [17  5 21 19  3  3 19 18  7  3  6 13  9 11 18 19 13 13 11]\n",
      "b=0 i=3 f=2 len=19 GPSLKNRYMRVVLFCPPAL   [ 6 19 13 18  2 10 17  7 16 17 11 11 18 15  1 19 19  8 18]\n",
      "b=0 i=3 f=3 len=20 ITLEGKTILPSYNGSSG*VR  [ 9  5 18  3  6  2  5  9 18 19 13  7 10  6 13 13  6 21 11 17]\n",
      "b=0 i=3 f=4 len=19 *RWRAKQYYPHITVLQARS   [21 17  4 17  8  2 20  7  7 19 12  9  5 11 18 20  8 17 13]\n",
      "b=0 i=3 f=5 len=19 NAGGQNNTTLI*RFFRLGP   [10  8  6  6 20 10 10  5  5 18  9 21 17 15 15 17 18  6 19]\n",
      "b=1 i=0 f=0 len=10 SIGPVKYSSR            [13  9  6 19 11  2  7 13 13 17]\n",
      "b=1 i=0 f=1 len= 9 PSGR*NIVP             [19 13  6 17 21 10  9 11 19]\n",
      "b=1 i=0 f=2 len= 9 HRAGEI*FQ             [12 17  8  6  3  9 21 15 20]\n",
      "b=1 i=0 f=3 len=10 PGTIFHRPDG            [19  6  5  9 15 12 17 19 14  6]\n",
      "b=1 i=0 f=4 len= 9 LELYFTGPM             [18  3 18  7 15  5  6 19 16]\n",
      "b=1 i=0 f=5 len= 9 WNYISPARW             [ 4 10  7  9 13 19  8 17  4]\n",
      "b=1 i=1 f=0 len=20 EEGQIVGSHSRVTWNGGVRI  [ 3  3  6 20  9 11  6 13 12 13 17 11  5  4 10  6  6 11 17  9]\n",
      "b=1 i=1 f=1 len=20 RKDRSWAVTLA*LGTAASES  [17  2 14 17 13  4  8 11  5 18  8 21 18  6  5  8  8 13  3 13]\n",
      "b=1 i=1 f=2 len=20 GRTDRGQSLSRNLERRRPNH  [ 6 17  5 14 17  6 20 13 18 13 17 10 18  3 17 17 17 19 10 12]\n",
      "b=1 i=1 f=3 len=20 VIRTPPFQVTRE*LPTICPS  [11  9 17  5 19 19 15 20 11  5 17  3 21 18 19  5  9  1 19 13]\n",
      "b=1 i=1 f=4 len=20 *FGRRRSKLRESDCPRSVLP  [21 15  6 17 17 17 13  2 18 17  3 13 14  1 19 17 13 11 18 19]\n",
      "b=1 i=1 f=5 len=20 DSDAAVPSYARVTAHDLSFL  [14 13 14  8  8 11 19 13  7  8 17 11  5  8 12 14 18 13 15 18]\n",
      "b=1 i=2 f=0 len=16 TIRDSTM*RRARGEGL      [ 5  9 17 14 13  5 16 21 17 17  8 17  6  3  6 18]\n",
      "b=1 i=2 f=1 len=16 R*GIARCDGAPAEKGS      [17 21  6  9  8 17  1 14  6  8 19  8  3  2  6 13]\n",
      "b=1 i=2 f=2 len=16 DKG*HDVTARPRRRAQ      [14  2  6 21 12 14 11  5  8 17 19 17 17 17  8 20]\n",
      "b=1 i=2 f=3 len=16 LSPSPRARRHIVLSLI      [18 13 19 13 19 17  8 17 17 12  9 11 18 13 18  9]\n",
      "b=1 i=2 f=4 len=16 *ALLRGRAVTSCYPLS      [21  8 18 18 17  6 17  8 11  5 13  1  7 19 18 13]\n",
      "b=1 i=2 f=5 len=16 EPFSAGAPSHRAIPYR      [ 3 19 15 13  8  6  8 19 13 12 17  8  9 19  7 17]\n",
      "b=0 i=0 f=0 len=20 TS*ICIPLGPPAGGCATITG  [ 5 13 21  9  1  9 19 18  6 19 19  8  6  6  1  8  5  9  5  6]\n",
      "b=0 i=0 f=1 len=20 QAEFVSP*APPPVAAQRSPA  [20  8  3 15 11 13 19 21  8 19 19 19 11  8  8 20 17 13 19  8]\n",
      "b=0 i=0 f=2 len=20 KLNLYPPRPPRRWLRNDHRR  [ 2 18 10 18  7 19 19 17 19 19 17 17  4 18 17 10 14 12 17 17]\n",
      "b=0 i=0 f=3 len=20 SPVIVAQPPAGGPRGIQIQL  [13 19 11  9 11  8 20 19 19  8  6  6 19 17  6  9 20  9 20 18]\n",
      "b=0 i=0 f=4 len=20 RR*SLRSHRRGGLGGYKFSL  [17 17 21 13 18 17 13 12 17 17  6  6 18  6  6  7  2 15 13 18]\n",
      "b=0 i=0 f=5 len=20 AGDRCAATGGGA*GDTNSAC  [ 8  6 14 17  1  8  8  5  6  6  6  8 21  6 14  5 10 13  8  1]\n",
      "b=0 i=1 f=0 len=13 TRTQSSMPQLPEC         [ 5 17  5 20 13 13 16 19 20 18 19  3  1]\n",
      "b=0 i=1 f=1 len=13 PGPKAQCLSFPNV         [19  6 19  2  8 20  1 18 13 15 19 10 11]\n",
      "b=0 i=1 f=2 len=12 QDPKLNASASRM          [20 14 19  2 18 10  8 13  8 13 17 16]\n",
      "b=0 i=1 f=3 len=13 HIREAEALSFGSW         [12  9 17  3  8  3  8 18 13 15  6 13  4]\n",
      "b=0 i=1 f=4 len=13 TFGKLRH*ALGPG         [ 5 15  6  2 18 17 12 21  8 18  6 19  6]\n",
      "b=0 i=1 f=5 len=12 HSGS*GIELWVL          [12 13  6 13 21  6  9  3 18  4 11 18]\n",
      "b=0 i=2 f=0 len=20 TPEDIVWVVGRATQSKRQEP  [ 5 19  3 14  9 11  4 11 11  6 17  8  5 20 13  2 17 20  3 19]\n",
      "b=0 i=2 f=1 len=20 PQRILYGWSDGRRSLSAKNL  [19 20 17  9 18  7  6  4 13 14  6 17 17 13 18 13  8  2 10 18]\n",
      "b=0 i=2 f=2 len=20 PRGYCMGGRTGDAV*APRTY  [19 17  6  7  1 16  6  6 17  5  6 14  8 11 21  8 19 17  5  7]\n",
      "b=0 i=2 f=3 len=20 VGSWRLDCVARPTTHTISSG  [11  6 13  4 17 18 14  1 11  8 17 19  5  5 12  5  9 13 13  6]\n",
      "b=0 i=2 f=4 len=20 *VLGA*TASPVRPPIQYPLG  [21 11 18  6  8 21  5  8 13 19 11 17 19 19  9 20  7 19 18  6]\n",
      "b=0 i=2 f=5 len=20 RFLALRLRRPSDHPYNILWG  [17 15 18  8 18 17 18 17 17 19 13 14 12 19  7 10  9 18  4  6]\n",
      "b=1 i=0 f=0 len=13 DLAKNNLKIMR*D         [14 18  8  2 10 10 18  2  9 16 17 21 14]\n",
      "b=1 i=0 f=1 len=13 IWLKIT*KSCAKI         [ 9  4 18  2  9  5 21  2 13  1  8  2  9]\n",
      "b=1 i=0 f=2 len=12 SG*K*LKNHALR          [13  6 21  2 21 18  2 10 12  8 18 17]\n",
      "b=1 i=0 f=3 len=13 YLSA*FLSYF*PD         [ 7 18 13  8 21 15 18 13  7 15 21 19 14]\n",
      "b=1 i=0 f=4 len=13 ILAHDF*VIFSQI         [ 9 18  8 12 14 15 21 11  9 15 13 20  9]\n",
      "b=1 i=0 f=5 len=12 S*RMIFKLFLAR          [13 21 17 16  9 15  2 18 15 18  8 17]\n",
      "b=1 i=1 f=0 len=20 KFAWPWFAYR*SIFPFYAP*  [ 2 15  8  4 19  4 15  8  7 17 21 13  9 15 19 15  7  8 19 21]\n",
      "b=1 i=1 f=1 len=20 NSRGPGSPIANRYFHSTHHD  [10 13 17  6 19  6 13 19  9  8 10 17  7 15 12 13  5 12 12 14]\n",
      "b=1 i=1 f=2 len=20 IRVALVRLSLIDISILRTMM  [ 9 17 11  8 18 11 17 18 13 18  9 14  9 13  9 18 17  5 16 16]\n",
      "b=1 i=1 f=3 len=20 HHGA*NGNID*R*ANQGHAN  [12 12  6  8 21 10  6 10  9 14 21 17 21  8 10 20  6 12  8 10]\n",
      "b=1 i=1 f=4 len=20 IMVRRMEISISDRRTRATRI  [ 9 16 11 17 17 16  3  9 13  9 13 14 17 17  5 17  8  5 17  9]\n",
      "b=1 i=1 f=5 len=20 SWCVEWKYRLAIGEPGPREF  [13  4  1 11  3  4  2  7 17 18  8  9  6  3 19  6 19 17  3 15]\n",
      "b=1 i=2 f=0 len=16 TNTGLRRPGRVNPWTP      [ 5 10  5  6 18 17 17 19  6 17 11 10 19  4  5 19]\n",
      "b=1 i=2 f=1 len=16 QIQGLGDREE*TPGPP      [20  9 20  6 18  6 14 17  3  3 21  5 19  6 19 19]\n",
      "b=1 i=2 f=2 len=16 KYRA*ETGKSEPLDPQ      [ 2  7 17  8 21  3  5  6  2 13  3 19 18 14 19 20]\n",
      "b=1 i=2 f=3 len=16 LGVQGFTLPGLLSPVF      [18  6 11 20  6 15  5 18 19  6 18 18 13 19 11 15]\n",
      "b=1 i=2 f=4 len=16 WGSRGSLFPVS*ALYL      [ 4  6 13 17  6 13 18 15 19 11 13 21  8 18  7 18]\n",
      "b=1 i=2 f=5 len=16 GGPGVHSSRSPKPCIC      [ 6  6 19  6 11 12 13 13 17 13 19  2 19  1  9  1]\n",
      "b=0 i=1 f=0 len=20 *IRIRLRSALQDRWEARLFT  [21  9 17  9 17 18 17 13  8 18 20 14 17  4  3  8 17 18 15  5]\n",
      "b=0 i=1 f=1 len=20 ESGSDSGALSRTGGRPAYSR  [ 3 13  6 13 14 13  6  8 18 13 17  5  6  6 17 19  8  7 13 17]\n",
      "b=0 i=1 f=2 len=20 NPDQTQERSPGQVGGPPIHD  [10 19 14 20  5 20  3 17 13 19  6 20 11  6  6 19 19  9 12 14]\n",
      "b=0 i=1 f=3 len=20 VVNRRASHLSWRALLSLIRI  [11 11 10 17 17  8 13 12 18 13  4 17  8 18 18 13 18  9 17  9]\n",
      "b=0 i=1 f=4 len=20 S*IGGPPTCPGERS*V*SGF  [13 21  9  6  6 19 19  5  1 19  6  3 17 13 21 11 21 13  6 15]\n",
      "b=0 i=1 f=5 len=20 RE*AGLPPVLESAPESDPDS  [17  3 21  8  6 18 19 19 11 18  3 13  8 19  3 13 14 19 14 13]\n",
      "b=0 i=2 f=0 len=20 GGHDPELNFTSIMSLHSTYR  [ 6  6 12 14 19  3 18 10 15  5 13  9 16 13 18 12 13  5  7 17]\n",
      "b=0 i=2 f=1 len=20 AVMTRNLISPASCPCIRPIG  [ 8 11 16  5 17 10 18  9 13 19  8 13  1 19  1  9 17 19  9  6]\n",
      "b=0 i=2 f=2 len=20 RS*PGT*FHQHHVPAFDL*G  [17 13 21 19  6  5 21 15 12 20 12 12 11 19  8 15 14 18 21  6]\n",
      "b=0 i=2 f=3 len=20 AL*VECRDMMLVKLSSGS*P  [ 8 18 21 11  3  1 17 14 16 16 18 11  2 18 13 13  6 13 21 19]\n",
      "b=0 i=2 f=4 len=20 PYRSNAGT*CW*N*VPGHDR  [19  7 17 13 10  8  6  5 21  1  4 21 10 21 11 19  6 12 14 17]\n",
      "b=0 i=2 f=5 len=20 PIGRMQGHDAGEIKFRVMTA  [19  9  6 17 16 20  6 12 14  8  6  3  9  2 15 17 11 16  5  8]\n",
      "b=1 i=1 f=0 len=10 TRY*TDEAAA            [ 5 17  7 21  5 14  3  8  8  8]\n",
      "b=1 i=1 f=1 len= 9 LAIEPTRLQ             [18  8  9  3 19  5 17 18 20]\n",
      "b=1 i=1 f=2 len= 9 SLLNRRGCS             [13 18 18 10 17 17  6  1 13]\n",
      "b=1 i=1 f=3 len=10 GCSLVGSIAS            [ 6  1 13 18 11  6 13  9  8 13]\n",
      "b=1 i=1 f=4 len= 9 AAASSVQ*R             [ 8  8  8 13 13 11 20 21 17]\n",
      "b=1 i=1 f=5 len= 9 LQPRRFNSE             [18 20 19 17 17 15 10 13  3]\n",
      "b=1 i=2 f=0 len=20 AGPRTKFKNRNS*KAVPGTL  [ 8  6 19 17  5  2 15  2 10 17 10 13 21  2  8 11 19  6  5 18]\n",
      "b=1 i=2 f=1 len=19 PAHVLSSKTEIVRKLYLEP   [19  8 12 11 18 13 13  2  5  3  9 11 17  2 18  7 18  3 19]\n",
      "b=1 i=2 f=2 len=19 RPTY*VQKPK*LESCTWNP   [17 19  5  7 21 11 20  2 19  2 21 18  3 13  1  5  4 10 19]\n",
      "b=1 i=2 f=3 len=20 KGSRYSFLTISVFELSTWAG  [ 2  6 13 17  7 13 15 18  5  9 13 11 15  3 18 13  5  4  8  6]\n",
      "b=1 i=2 f=4 len=19 RVPGTAF*LFRFLNLVRGP   [17 11 19  6  5  8 15 21 18 15 17 15 18 10 18 11 17  6 19]\n",
      "b=1 i=2 f=5 len=19 GFQVQLSNYFGF*T*YVGR   [ 6 15 20 11 20 18 13 10  7 15  6 15 21  5 21  7 11  6 17]\n",
      "b=0 i=2 f=0 len=20 VR*IVLERLATPGPQDSEVA  [11 17 21  9 11 18  3 17 18  8  5 19  6 19 20 14 13  3 11  8]\n",
      "b=0 i=2 f=1 len=20 SDKLY*NDWQLLGHKTPK*P  [13 14  2 18  7 21 10 14  4 20 18 18  6 12  2  5 19  2 21 19]\n",
      "b=0 i=2 f=2 len=20 PINCTRTTGNSWATRLRSSH  [19  9 10  1  5 17  5  5  6 10 13  4  8  5 17 18 17 13 13 12]\n",
      "b=0 i=2 f=3 len=20 MATSESCGPGVASRSSTIYR  [16  8  5 13  3 13  1  6 19  6 11  8 13 17 13 13  5  9  7 17]\n",
      "b=0 i=2 f=4 len=20 WLLRSLVAQELPVVLVQFIG  [ 4 18 18 17 13 18 11  8 20  3 18 19 11 11 18 11 20 15  9  6]\n",
      "b=0 i=2 f=5 len=20 GYFGVLWPRSCQSF*YNLSD  [ 6  7 15  6 11 18  4 19 17 13  1 20 13 15 21  7 10 18 13 14]\n",
      "b=1 i=2 f=0 len=10 ILGVRFYCTH            [ 9 18  6 11 17 15  7  1  5 12]\n",
      "b=1 i=2 f=1 len= 9 FWEFGSIVL             [15  4  3 15  6 13  9 11 18]\n",
      "b=1 i=2 f=2 len= 9 SGSSVLLYS             [13  6 13 13 11 18 18  7 13]\n",
      "b=1 i=2 f=3 len=10 MSTIEPNSQN            [16 13  5  9  3 19 10 13 20 10]\n",
      "b=1 i=2 f=4 len= 9 *VQ*NRTPR             [21 11 20 21 10 17  5 19 17]\n",
      "b=1 i=2 f=5 len= 9 EYNRTELPE             [ 3  7 10 17  5  3 18 19  3]\n",
      "(2, 4, 6, 20, 22)\n"
     ]
    }
   ],
   "source": [
    "X = getNextBatch(genomes, verbose=True)\n",
    "\n",
    "while (X1 := getNextBatch(genomes, verbose=True)) is not None:\n",
    "    # TODO: loop and store all batches X to disc, for now just\n",
    "    pass\n",
    "    \n",
    "# and use the first batch only\n",
    "print (X.shape)"
   ]
  },
  {
   "cell_type": "code",
   "execution_count": null,
   "metadata": {},
   "outputs": [],
   "source": []
  },
  {
   "cell_type": "code",
   "execution_count": null,
   "metadata": {},
   "outputs": [],
   "source": []
  },
  {
   "cell_type": "code",
   "execution_count": null,
   "metadata": {},
   "outputs": [],
   "source": []
  },
  {
   "cell_type": "code",
   "execution_count": null,
   "metadata": {},
   "outputs": [],
   "source": []
  }
 ],
 "metadata": {
  "kernelspec": {
   "display_name": "Python 3",
   "language": "python",
   "name": "python3"
  },
  "language_info": {
   "codemirror_mode": {
    "name": "ipython",
    "version": 3
   },
   "file_extension": ".py",
   "mimetype": "text/x-python",
   "name": "python",
   "nbconvert_exporter": "python",
   "pygments_lexer": "ipython3",
   "version": "3.8.10"
  }
 },
 "nbformat": 4,
 "nbformat_minor": 4
}
