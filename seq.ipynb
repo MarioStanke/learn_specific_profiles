{
 "cells": [
  {
   "cell_type": "markdown",
   "metadata": {},
   "source": [
    "# Obtaining Genome Sequences and Conversion to Tensor"
   ]
  },
  {
   "cell_type": "code",
   "execution_count": null,
   "metadata": {},
   "outputs": [],
   "source": []
  },
  {
   "cell_type": "code",
   "execution_count": 1,
   "metadata": {
    "slideshow": {
     "slide_type": "subslide"
    }
   },
   "outputs": [],
   "source": [
    "import itertools\n",
    "import numpy as np\n",
    "import sys\n",
    "from functools import cmp_to_key\n",
    "import tensorflow as tf"
   ]
  },
  {
   "cell_type": "code",
   "execution_count": 2,
   "metadata": {},
   "outputs": [],
   "source": [
    "seq = \"ATGACAT\""
   ]
  },
  {
   "cell_type": "code",
   "execution_count": 3,
   "metadata": {
    "slideshow": {
     "slide_type": "subslide"
    }
   },
   "outputs": [],
   "source": [
    "dna_alphabet = \"ACGT\"\n",
    "complements = \"TGCA\"\n",
    "rctbl = str.maketrans(dna_alphabet, complements)\n",
    "dna_alphabet_size = len(dna_alphabet)"
   ]
  },
  {
   "cell_type": "code",
   "execution_count": 4,
   "metadata": {
    "slideshow": {
     "slide_type": "subslide"
    }
   },
   "outputs": [
    {
     "name": "stdout",
     "output_type": "stream",
     "text": [
      "aa alphabet size= 22 \n",
      " [' ', 'C', 'K', 'E', 'W', 'T', 'G', 'Y', 'A', 'I', 'N', 'V', 'H', 'S', 'D', 'F', 'M', 'R', 'L', 'P', 'Q', '*']\n"
     ]
    }
   ],
   "source": [
    "codon_len = 3\n",
    "codon_alphabet_size = dna_alphabet_size ** codon_len # 64\n",
    "genetic_code = { # translation table 1 of NCBI\n",
    "    'ATA':'I', 'ATC':'I', 'ATT':'I', 'ATG':'M', \n",
    "    'ACA':'T', 'ACC':'T', 'ACG':'T', 'ACT':'T', \n",
    "    'AAC':'N', 'AAT':'N', 'AAA':'K', 'AAG':'K', \n",
    "    'AGC':'S', 'AGT':'S', 'AGA':'R', 'AGG':'R',\n",
    "    'CTA':'L', 'CTC':'L', 'CTG':'L', 'CTT':'L', \n",
    "    'CCA':'P', 'CCC':'P', 'CCG':'P', 'CCT':'P', \n",
    "    'CAC':'H', 'CAT':'H', 'CAA':'Q', 'CAG':'Q', \n",
    "    'CGA':'R', 'CGC':'R', 'CGG':'R', 'CGT':'R', \n",
    "    'GTA':'V', 'GTC':'V', 'GTG':'V', 'GTT':'V', \n",
    "    'GCA':'A', 'GCC':'A', 'GCG':'A', 'GCT':'A', \n",
    "    'GAC':'D', 'GAT':'D', 'GAA':'E', 'GAG':'E', \n",
    "    'GGA':'G', 'GGC':'G', 'GGG':'G', 'GGT':'G', \n",
    "    'TCA':'S', 'TCC':'S', 'TCG':'S', 'TCT':'S', \n",
    "    'TTC':'F', 'TTT':'F', 'TTA':'L', 'TTG':'L', \n",
    "    'TAC':'Y', 'TAT':'Y', 'TAA':'*', 'TAG':'*', \n",
    "    'TGC':'C', 'TGT':'C', 'TGA':'*', 'TGG':'W', \n",
    "}\n",
    "\n",
    "aa_alphabet =[' ', # missing value, 0 used for padding\n",
    "              'C', 'K', 'E', 'W', 'T', 'G', 'Y', 'A', 'I', 'N', # 20 regular\n",
    "              'V', 'H', 'S', 'D', 'F', 'M', 'R', 'L', 'P', 'Q', # amino acids\n",
    "             '*' # stop codon\n",
    "             ]\n",
    "aa_alphabet_size = len(aa_alphabet)\n",
    "print(\"aa alphabet size=\", aa_alphabet_size, \"\\n\", aa_alphabet)\n",
    "\n",
    "def six_frame_translation(S):\n",
    "    \"\"\" return all 6 conceptually translated protein sequences \"\"\"\n",
    "    T = []\n",
    "    for seq in (S, S[::-1].translate(rctbl)): # forward, reverse-complement sequence\n",
    "        for f in range(3): # frame\n",
    "            prot = \"\"\n",
    "            for i in range(f, len(S) - codon_len + 1, codon_len):\n",
    "                prot += genetic_code[seq[i:i+codon_len]]\n",
    "            T.append(prot)\n",
    "    return T"
   ]
  },
  {
   "cell_type": "code",
   "execution_count": 5,
   "metadata": {},
   "outputs": [
    {
     "data": {
      "text/plain": [
       "['MT', '*H', 'D', 'MS', 'CH', 'V']"
      ]
     },
     "execution_count": 5,
     "metadata": {},
     "output_type": "execute_result"
    }
   ],
   "source": [
    "six_frame_translation(\"ATGACAT\")"
   ]
  },
  {
   "cell_type": "code",
   "execution_count": 6,
   "metadata": {
    "slideshow": {
     "slide_type": "subslide"
    }
   },
   "outputs": [],
   "source": [
    "nuc_idx = dict((c,i) for i,c in enumerate(dna_alphabet))\n",
    "aa_idx = dict((c,i) for i,c in enumerate(aa_alphabet))\n",
    "\n",
    "def to_idx(seq, idx = aa_idx): # used later to one-hot encode\n",
    "    return np.array(list(idx[c] for c in seq))\n",
    "     "
   ]
  },
  {
   "cell_type": "code",
   "execution_count": 7,
   "metadata": {},
   "outputs": [
    {
     "data": {
      "text/plain": [
       "22"
      ]
     },
     "execution_count": 7,
     "metadata": {},
     "output_type": "execute_result"
    }
   ],
   "source": [
    "aa_alphabet_size"
   ]
  },
  {
   "cell_type": "markdown",
   "metadata": {},
   "source": [
    "## Use simulated toy sample genomes"
   ]
  },
  {
   "cell_type": "code",
   "execution_count": 8,
   "metadata": {},
   "outputs": [
    {
     "data": {
      "text/plain": [
       "[['TGTTGAATGAATGACCTGTCAGGCGACGTCTAGTGTTGCAGGCTACCACGAATTGTCACGCACACCTCTAGTAATTTTTGGTGTGTCATATCCGGATAGTTCTACTGGGATACATCGACAGACCTGCATGTCGGAGTATAAATAGTTGGAGCCGATGGCCGCCTCGCAGCGCGACCTCCTTATCTAGCGGGATATCGTCGACGCAGTGAT',\n",
       "  'CACCAGGGCTAGATACAGACTCGTGCCGTTTAGGCTTACAGCCGCGTTCACTATCCTACCGCATGTCGTGAACAACACGTGTCAATCGAACTGACGAAAA'],\n",
       " ['GTAGTATGAATATTGCGAACGCGTGTGCTC',\n",
       "  'TAAGTGATTCGTCAGTTCTCCCGACAGATAAAAAATGCGTCGTGCCTGAGACTCCGCATGAAATGAGTTAGCTCGTAGCCAACATCCCTATCGGGACCGAACAGGTCAAGAAAGCGAACACGCCTGCGTCGTAGGATTGAACTCCAAACTGACCGTCTCAGGCCTGCGGGACGTAGCGCTGCTTGCTCAATCATCTTCATATATCTGAACTAACTAAGGA',\n",
       "  'TCCCATCCACACGAAATCATCGCATGAAAACTCATGGGTGGCTCATCACATCTCCCTTGTCTTTGCAGTAACGTTGTCGATAAAGGTTGCCAACTAGACCGCCAAAGCGCGCTGTTCTTGCGTAAGGGGTGCTGTCCAAGTCATTGTGTC'],\n",
       " ['CCTTACCAGGTAGCGGGTCTCCTTTGAGGATCAGCGAATGATTAACAGGTTGTGTCTAGAGACGATTAGATGGATTAGACTAAATATAACCAACTATATTCTATTTTCGTTACAAAATTACTGGTAGTTACCTCTTATGAGGTACCGTAGAAGGGTCGGTGAGGCGAGCGCCCGCGGTGAGAACTATCACGTCGTTCACAGTGCAGCGAATGGACGGCGTAGCCGGGAAG',\n",
       "  'GAATGTCTGTTTTGGCACAGCATGTGTGCTTAGGGCAGTGCAAGGACACCCCCTAGTATTCTTTACTCACGTAGCCACCGACTCAATATTGCCGAGGCGTTGATCCATAT',\n",
       "  'ACATGGGACGTACACGGCGCAGAACTCTTCATGCGGGGGGGAAGATCTGAGCTTCTGCTGACTGCTTGAATCGTTACTATACGTATTGATTGGCATGATGTAATGTAGTTGGACTATGCT',\n",
       "  'ATGTAAAGGCGGTATTGCTAACTCTCGCAGGGGAGGACTCATTGAAGTGATCTAGACTTAAACCTAATGCGTCTCGATGAGAGGAATTGG'],\n",
       " ['GTATATGATAAGGATGTGGCGGACAAGCATGTTCACCAAACCCAAGCGCTCAATAACGAACTGCCCTACCAATCAAACAAATCAGTAGCCCCCCTGAGTGGGCCGAAACTTCTAGACATTACGCTGATTCTCGTGGGCTTCGCGAAAGCTTCCAGCCGGCCTGTTAGGGTAGGTGGTCTC']]"
      ]
     },
     "execution_count": 8,
     "metadata": {},
     "output_type": "execute_result"
    }
   ],
   "source": [
    "N = 4           # number of genomes\n",
    "tile_size = 20  # tile size measured in amino acids\n",
    "# A tile is a consecutive subsequence of _one_ contig/scaffold/chromosome.\n",
    "# Tiles should be about gene-sized.\n",
    "\n",
    "batch_size = 2  # constrained by RAM and gradient descent performance\n",
    "\n",
    "genome_sizes = [[210,100], [30,220,150], [230,110,120,90], [180]] # in nucleotides\n",
    "genomes = [[''.join(np.random.choice(list(dna_alphabet), ctglen))\n",
    "           for ctglen in genome_sizes[i]]\n",
    "           for i in range(N)]\n",
    "genomes"
   ]
  },
  {
   "cell_type": "markdown",
   "metadata": {},
   "source": [
    "### Convert genomes to tensor\n",
    "Let $$X \\in \\{0,1\\}^{B\\times N\\times 6 \\times T \\times 22}$$ be a batch of **one-hot encoded input translated sequences**,\n",
    "where $B$ is `batch_size`, $N$ is the number of genomes and $T$ is the `tile_size` (in aa).\n",
    "The 6 is here the number of translated frames in order (0,+),(1,+),(2,+),(0,-),(1,-),(2,-).\n",
    "The 22 is here the size of the considered amino acid alphabet.\n",
    "\n",
    "Define learnable **profile features** $x = (x_{u}) \\in \\mathbb{R}^U$ by\n",
    "$$ x_u = \\max_{t=1}^{\\ell-k+1} \\sum_{w=1}^k \\sum_{v=1}^4 e_{v,t+w} \\ln p_{u,v,w} ,$$\n",
    "\n",
    "which is similar -- and an alternative to -- a **one dimensional convolutional neural network (1-dim CNN)** with a max pooling."
   ]
  },
  {
   "cell_type": "code",
   "execution_count": 9,
   "metadata": {},
   "outputs": [],
   "source": [
    "def getNextBatch(genomes, verbose:bool = False):\n",
    "    \"\"\"\n",
    "    Convert next batch of sequence tiles to a tensor X.\n",
    "    This should be called once for a set of genomes.\n",
    "    The converted tensors are either held in memory or\n",
    "    serialized to disc for quick repeated multiple access during training.\n",
    "    \n",
    "    genomes: list of N lists of nucleotide strings\n",
    "             genomes is consumed (changed) so that iterated calls of getNextBatch eventually result\n",
    "             in empty lists. Genome sequences itself should not be empty strings.\n",
    "    returns:\n",
    "    tensor of shape\n",
    "    \"\"\"\n",
    "    # test whether any sequenes are left\n",
    "    i=0\n",
    "    while i<N and not genomes[i]:\n",
    "        i += 1\n",
    "    if i == N: # all lists empty, genomes is exhausted\n",
    "        return None\n",
    "    \n",
    "    X = np.zeros([batch_size, N, 6, tile_size, aa_alphabet_size], dtype=np.float32)\n",
    "    I = np.eye(aa_alphabet_size) # for numpy-style one-hot encoding\n",
    "    for b in range(batch_size):\n",
    "        for i in range(N):\n",
    "            # get next up to tile_size amino acids from genome i\n",
    "            slen = 0\n",
    "            if not genomes[i]:\n",
    "                continue # i-th genome already exhausted\n",
    "                \n",
    "            slen = len(genomes[i][0])\n",
    "            translatable_seq = genomes[i][0][:min(slen,\n",
    "                                                  3 * tile_size + 2)]\n",
    "\n",
    "            # some nucleotides are part of both neighboring tiles\n",
    "            aa_seqs = six_frame_translation(translatable_seq)\n",
    "            for frame in range(6):\n",
    "                aa_seq = aa_seqs[frame]\n",
    "                x = to_idx(aa_seq)\n",
    "                num_aa = x.shape[0]\n",
    "                if (num_aa > 0):\n",
    "                    one_hot = I[x]\n",
    "                    X[b,i,frame,0:num_aa,:] = one_hot\n",
    "                if verbose:\n",
    "                    print (f\"b={b} i={i} f={frame} len={len(aa_seq):>2} {aa_seq:<{tile_size}} \", x)\n",
    "\n",
    "            # remove from genome sequence, what has been used\n",
    "            if len(genomes[i][0]) > 3 * tile_size:\n",
    "                genomes[i][0] = genomes[i][0][3 * tile_size : ]\n",
    "            else: # the rest of the sequence has been used\n",
    "                genomes[i].pop(0)\n",
    "    return X"
   ]
  },
  {
   "cell_type": "code",
   "execution_count": 10,
   "metadata": {
    "slideshow": {
     "slide_type": "subslide"
    }
   },
   "outputs": [
    {
     "name": "stdout",
     "output_type": "stream",
     "text": [
      "b=0 i=0 f=0 len=20 C*MNDLSGDV*CCRLPRIVT  [ 1 21 16 10 14 18 13  6 14 11 21  1  1 17 18 19 17  9 11  5]\n",
      "b=0 i=0 f=1 len=20 VE*MTCQATSSVAGYHELSR  [11  3 21 16  5  1 20  8  5 13 13 11  8  6  7 12  3 18 13 17]\n",
      "b=0 i=0 f=2 len=20 LNE*PVRRRLVLQATTNCHA  [18 10  3 21 19 11 17 17 17 18 11 18 20  8  5  5 10  1 12  8]\n",
      "b=0 i=0 f=3 len=20 CVTIRGSLQH*TSPDRSFIQ  [ 1 11  5  9 17  6 13 18 20 12 21  5 13 19 14 17 13 15  9 20]\n",
      "b=0 i=0 f=4 len=20 A*QFVVACNTRRRLTGHSFN  [ 8 21 20 15 11 11  8  1 10  5 17 17 17 18  5  6 12 13 15 10]\n",
      "b=0 i=0 f=5 len=20 RDNSW*PATLDVA*QVIHST  [17 14 10 13  4 21 19  8  5 18 14 11  8 21 20 11  9 12 13  5]\n",
      "b=0 i=1 f=0 len=10 VV*ILRTRVL            [11 11 21  9 18 17  5 17 11 18]\n",
      "b=0 i=1 f=1 len= 9 *YEYCERVC             [21  7  3  7  1  3 17 11  1]\n",
      "b=0 i=1 f=2 len= 9 SMNIANACA             [13 16 10  9  8 10  8  1  8]\n",
      "b=0 i=1 f=3 len=10 EHTRSQYSYY            [ 3 12  5 17 13 20  7 13  7  7]\n",
      "b=0 i=1 f=4 len= 9 STRVRNIHT             [13  5 17 11 17 10  9 12  5]\n",
      "b=0 i=1 f=5 len= 9 AHAFAIFIL             [ 8 12  8 15  8  9 15  9 18]\n",
      "b=0 i=2 f=0 len=20 PYQVAGLL*GSAND*QVVSR  [19  7 20 11  8  6 18 18 21  6 13  8 10 14 21 20 11 11 13 17]\n",
      "b=0 i=2 f=1 len=20 LTR*RVSFEDQRMINRLCLE  [18  5 17 21 17 11 13 15  3 14 20 17 16  9 10 17 18  1 18  3]\n",
      "b=0 i=2 f=2 len=20 LPGSGSPLRISE*LTGCV*R  [18 19  6 13  6 13 19 18 17  9 13  3 21 18  5  6  1 11 21 17]\n",
      "b=0 i=2 f=3 len=20 SLDTTC*SFADPQRRPATW*  [13 18 14  5  5  1 21 13 15  8 14 19 20 17 17 19  8  5  4 21]\n",
      "b=0 i=2 f=4 len=20 L*TQPVNHSLILKGDPLPGK  [18 21  5 20 19 11 10 12 13 18  9 18  2  6 14 19 18 19  6  2]\n",
      "b=0 i=2 f=5 len=20 SRHNLLIIR*SSKETRYLVR  [13 17 12 10 18 18  9  9 17 21 13 13  2  3  5 17  7 18 11 17]\n",
      "b=0 i=3 f=0 len=20 VYDKDVADKHVHQTQALNNE  [11  7 14  2 14 11  8 14  2 12 11 12 20  5 20  8 18 10 10  3]\n",
      "b=0 i=3 f=1 len=20 YMIRMWRTSMFTKPKRSITN  [ 7 16  9 17 16  4 17  5 13 16 15  5  2 19  2 17 13  9  5 10]\n",
      "b=0 i=3 f=2 len=20 I**GCGGQACSPNPSAQ*RT  [ 9 21 21  6  1  6  6 20  8  1 13 19 10 19 13  8 20 21 17  5]\n",
      "b=0 i=3 f=3 len=20 SSLLSAWVW*TCLSATSLSY  [13 13 18 18 13  8  4 11  4 21  5  1 18 13  8  5 13 18 13  7]\n",
      "b=0 i=3 f=4 len=20 VRY*ALGFGEHACPPHPYHI  [11 17  7 21  8 18  6 15  6  3 12  8  1 19 19 12 19  7 12  9]\n",
      "b=0 i=3 f=5 len=20 FVIERLGLVNMLVRHILIIY  [15 11  9  3 17 18  6 18 11 10 16 18 11 17 12  9 18  9  9  7]\n",
      "b=1 i=0 f=0 len=20 HTSSNFWCVISG*FYWDTST  [12  5 13 13 10 15  4  1 11  9 13  6 21 15  7  4 14  5 13  5]\n",
      "b=1 i=0 f=1 len=20 TPLVIFGVSYPDSSTGIHRQ  [ 5 19 18 11  9 15  6 11 13  7 19 14 13 13  5  6  9 12 17 20]\n",
      "b=1 i=0 f=2 len=20 HL**FLVCHIRIVLLGYIDR  [12 18 21 21 15 18 11  1 12  9 17  9 11 18 18  6  7  9 14 17]\n",
      "b=1 i=0 f=3 len=20 SVDVSQ*NYPDMTHQKLLEV  [13 11 14 11 13 20 21 10  7 19 14 16  5 12 20  2 18 18  3 11]\n",
      "b=1 i=0 f=4 len=20 LSMYPSRTIRI*HTKNY*RC  [18 13 16  7 19 13 17  5  9 17  9 21 12  5  2 10  7 21 17  1]\n",
      "b=1 i=0 f=5 len=20 CRCIPVELSGYDTPKITRGV  [ 1 17  1  9 19 11  3 18 13  6  7 14  5 19  2  9  5 17  6 11]\n",
      "b=1 i=1 f=0 len=20 *VIRQFSRQIKNASCLRLRM  [21 11  9 17 20 15 13 17 20  9  2 10  8 13  1 18 17 18 17 16]\n",
      "b=1 i=1 f=1 len=20 K*FVSSPDR*KMRRA*DSA*  [ 2 21 15 11 13 13 19 14 17 21  2 16 17 17  8 21 14 13  8 21]\n",
      "b=1 i=1 f=2 len=20 SDSSVLPTDKKCVVPETPHE  [13 14 13 13 11 18 19  5 14  2  2  1 11 11 19  3  5 19 12  3]\n",
      "b=1 i=1 f=3 len=20 FMRSLRHDAFFICREN*RIT  [15 16 17 13 18 17 12 14  8 15 15  9  1 17  3 10 21 17  9  5]\n",
      "b=1 i=1 f=4 len=20 SCGVSGTTHFLSVGRTDESL  [13  1  6 11 13  6  5  5 12 15 18 13 11  6 17  5 14  3 13 18]\n",
      "b=1 i=1 f=5 len=20 HAESQARRIFYLSGELTNHL  [12  8  3 13 20  8 17 17  9 15  7 18 13  6  3 18  5 10 12 18]\n",
      "b=1 i=2 f=0 len=20 DD*MD*TKYNQLYSIFVTKL  [14 14 21 16 14 21  5  2  7 10 20 18  7 13  9 15 11  5  2 18]\n",
      "b=1 i=2 f=1 len=20 TIRWIRLNITNYILFSLQNY  [ 5  9 17  4  9 17 18 10  9  5 10  7  9 18 15 13 18 20 10  7]\n",
      "b=1 i=2 f=2 len=20 RLDGLD*I*PTIFYFRYKIT  [17 18 14  6 18 14 21  9 21 19  5  9 15  7 15 17  7  2  9  5]\n",
      "b=1 i=2 f=3 len=20 SNFVTKIEYSWLYLV*SI*S  [13 10 15 11  5  2  9  3  7 13  4 18  7 18 11 21 13  9 21 13]\n",
      "b=1 i=2 f=4 len=20 VIL*RK*NIVGYI*SNPSNR  [11  9 18 21 17  2 21 10  9 11  6  7  9 21 13 10 19 13 10 17]\n",
      "b=1 i=2 f=5 len=20 *FCNENRI*LVIFSLIHLIV  [21 15  1 10  3 10 17  9 21 18 11  9 15 13 18  9 12 18  9 11]\n",
      "b=1 i=3 f=0 len=20 LPYQSNKSVAPLSGPKLLDI  [18 19  7 20 13 10  2 13 11  8 19 18 13  6 19  2 18 18 14  9]\n",
      "b=1 i=3 f=1 len=20 CPTNQTNQ*PP*VGRNF*TL  [ 1 19  5 10 20  5 10 20 21 19 19 21 11  6 17 10 15 21  5 18]\n",
      "b=1 i=3 f=2 len=20 ALPIKQISSPPEWAETSRHY  [ 8 18 19  9  2 20  9 13 13 19 19  3  4  8  3  5 13 17 12  7]\n",
      "b=1 i=3 f=3 len=20 VMSRSFGPLRGATDLFDW*G  [11 16 13 17 13 15  6 19 18 17  6  8  5 14 18 15 14  4 21  6]\n",
      "b=1 i=3 f=4 len=20 *CLEVSAHSGGLLICLIGRA  [21  1 18  3 11 13  8 12 13  6  6 18 18  9  1 18  9  6 17  8]\n",
      "b=1 i=3 f=5 len=20 NV*KFRPTQGGY*FV*LVGQ  [10 11 21  2 15 17 19  5 20  6  6  7 21 15 11 21 18 11  6 20]\n",
      "b=0 i=0 f=0 len=20 DLHVGV*IVGADGRLAARPP  [14 18 12 11  6 11 21  9 11  6  8 14  6 17 18  8  8 17 19 19]\n",
      "b=0 i=0 f=1 len=20 TCMSEYK*LEPMAASQRDLL  [ 5  1 16 13  3  7  2 21 18  3 19 16  8  8 13 20 17 14 18 18]\n",
      "b=0 i=0 f=2 len=20 PACRSINSWSRWPPRSATSL  [19  8  1 17 13  9 10 13  4 13 17  4 19 19 17 13  8  5 13 18]\n",
      "b=0 i=0 f=3 len=20 *GGRAARRPSAPTIYTPTCR  [21  6  6 17  8  8 17 17 19 13  8 19  5  9  7  5 19  5  1 17]\n",
      "b=0 i=0 f=4 len=20 KEVALRGGHRLQLFILRHAG  [ 2  3 11  8 18 17  6  6 12 17 18 20 18 15  9 18 17 12  8  6]\n",
      "b=0 i=0 f=5 len=20 RRSRCEAAIGSNYLYSDMQV  [17 17 13 17  1  3  8  8  9  6 13 10  7 18  7 13 14 16 20 11]\n",
      "b=0 i=1 f=0 len=20 K*VSS*PTSLSGPNRSRKRT  [ 2 21 11 13 13 21 19  5 13 18 13  6 19 10 17 13 17  2 17  5]\n",
      "b=0 i=1 f=1 len=20 NELARSQHPYRDRTGQESEH  [10  3 18  8 17 13 20 12 19  7 17 14 17  5  6 20  3 13  3 12]\n",
      "b=0 i=1 f=2 len=20 MS*LVANIPIGTEQVKKANT  [16 13 21 18 11  8 10  9 19  9  6  5  3 20 11  2  2  8 10  5]\n",
      "b=0 i=1 f=3 len=20 RVRFLDLFGPDRDVGYELTH  [17 11 17 15 18 14 18 15  6 19 14 17 14 11  6  7  3 18  5 12]\n",
      "b=0 i=1 f=4 len=20 VFAFLTCSVPIGMLATS*LI  [11 15  8 15 18  5  1 13 11 19  9  6 16 18  8  5 13 21 18  9]\n",
      "b=0 i=1 f=5 len=20 CSLS*PVRSR*GCWLRANSF  [ 1 13 18 13 21 19 11 17 13 17 21  6  1  4 18 17  8 10 13 15]\n",
      "b=0 i=2 f=0 len=20 LVVTSYEVP*KGR*GERPR*  [18 11 11  5 13  7  3 11 19 21  2  6 17 21  6  3 17 19 17 21]\n",
      "b=0 i=2 f=1 len=20 W*LPLMRYRRRVGEASARGE  [ 4 21 18 19 18 16 17  7 17 17 17 11  6  3  8 13  8 17  6  3]\n",
      "b=0 i=2 f=2 len=20 GSYLL*GTVEGSVRRAPAVR  [ 6 13  7 18 18 21  6  5 11  3  6 13 11 17 17  8 19  8 11 17]\n",
      "b=0 i=2 f=3 len=20 SHRGRSPHRPFYGTS*EVTT  [13 12 17  6 17 13 19 12 17 19 15  7  6  5 13 21  3 11  5  5]\n",
      "b=0 i=2 f=4 len=20 LTAGARLTDPSTVPHKR*LP  [18  5  8  6  8 17 18  5 14 19 13  5 11 19 12  2 17 21 18 19]\n",
      "b=0 i=2 f=5 len=20 SPRALASPTLLRYLIRGNYQ  [13 19 17  8 18  8 13 19  5 18 18 17  7 18  9 17  6 10  7 20]\n",
      "b=0 i=3 f=0 len=20 TLILVGFAKASSRPVRVGGL  [ 5 18  9 18 11  6 15  8  2  8 13 13 17 19 11 17 11  6  6 18]\n",
      "b=0 i=3 f=1 len=19 R*FSWASRKLPAGLLG*VV   [17 21 15 13  4  8 13 17  2 18 19  8  6 18 18  6 21 11 11]\n",
      "b=0 i=3 f=2 len=19 ADSRGLRESFQPAC*GRWS   [ 8 14 13 17  6 18 17  3 13 15 20 19  8  1 21  6 17  4 13]\n",
      "b=0 i=3 f=3 len=20 ETTYPNRPAGSFREAHENQR  [ 3  5  5  7 19 10 17 19  8  6 13 15 17  3  8 12  3 10 20 17]\n",
      "b=0 i=3 f=4 len=19 RPPTLTGRLEAFAKPTRIS   [17 19 19  5 18  5  6 17 18  3  8 15  8  2 19  5 17  9 13]\n",
      "b=0 i=3 f=5 len=19 DHLP*QAGWKLSRSPRESA   [14 12 18 19 21 20  8  6  4  2 18 13 17 13 19 17  3 13  8]\n",
      "b=1 i=0 f=0 len=10 YLAGYRRRSD            [ 7 18  8  6  7 17 17 17 13 14]\n",
      "b=1 i=0 f=1 len= 9 I*RDIVDAV             [ 9 21 17 14  9 11 14  8 11]\n",
      "b=1 i=0 f=2 len= 9 SSGISSTQ*             [13 13  6  9 13 13  5 20 21]\n",
      "b=1 i=0 f=3 len=10 ITASTISR*I            [ 9  5  8 13  5  9 13 17 21  9]\n",
      "b=1 i=0 f=4 len= 9 SLRRRYPAR             [13 18 17 17 17  7 19  8 17]\n",
      "b=1 i=0 f=5 len= 9 HCVDDIPLD             [12  1 11 14 14  9 19 18 14]\n",
      "b=1 i=1 f=0 len=20 RLRRRIELQTDRLRPAGRSA  [17 18 17 17 17  9  3 18 20  5 14 17 18 17 19  8  6 17 13  8]\n",
      "b=1 i=1 f=1 len=20 ACVVGLNSKLTVSGLRDVAL  [ 8  1 11 11  6 18 10 13  2 18  5 11 13  6 18 17 14 11  8 18]\n",
      "b=1 i=1 f=2 len=20 PAS*D*TPN*PSQACGT*RC  [19  8 13 21 14 21  5 19 10 21 19 13 20  8  1  6  5 21 17  1]\n",
      "b=1 i=1 f=3 len=20 AALRPAGLRRSVWSSILRRR  [ 8  8 18 17 19  8  6 18 17 17 13 11  4 13 13  9 18 17 17 17]\n",
      "b=1 i=1 f=4 len=20 QRYVPQA*DGQFGVQSYDAG  [20 17  7 11 19 20  8 21 14  6 20 15  6 11 20 13  7 14  8  6]\n",
      "b=1 i=1 f=5 len=20 SATSRRPETVSLEFNPTTQA  [13  8  5 13 17 17 19  3  5 11 13 18  3 15 10 19  5  5 20  8]\n",
      "b=1 i=2 f=0 len=16 ELSRRSQCSEWTA*PG      [ 3 18 13 17 17 13 20  1 13  3  4  5  8 21 19  6]\n",
      "b=1 i=2 f=1 len=16 NYHVVHSAANGRRSRE      [10  7 12 11 11 12 13  8  8 10  6 17 17 13 17  3]\n",
      "b=1 i=2 f=2 len=16 TITSFTVQRMDGVAGK      [ 5  9  5 13 15  5 11 20 17 16 14  6 11  8  6  2]\n",
      "b=1 i=2 f=3 len=16 LPGYAVHSLHCERRDS      [18 19  6  7  8 11 12 13 18 12  1  3 17 17 14 13]\n",
      "b=1 i=2 f=4 len=16 FPATPSIRCTVNDVIV      [15 19  8  5 19 13  9 17  1  5 11 10 14 11  9 11]\n",
      "b=1 i=2 f=5 len=16 SRLRRPFAAL*TT**F      [13 17 18 17 17 19 15  8  8 18 21  5  5 21 21 15]\n",
      "(2, 4, 6, 20, 22)\n"
     ]
    }
   ],
   "source": [
    "X = getNextBatch(genomes, verbose=True)\n",
    "\n",
    "# TODO :make a while loop and store all batches X to disc\n",
    "while (X1 := getNextBatch(genomes, verbose=True)) is not None:\n",
    "    # TODO: loop and store all batches X to disc, for now just\n",
    "    break\n",
    "    \n",
    "# and use the first batch only\n",
    "print (X.shape)"
   ]
  },
  {
   "cell_type": "code",
   "execution_count": null,
   "metadata": {},
   "outputs": [],
   "source": []
  },
  {
   "cell_type": "code",
   "execution_count": null,
   "metadata": {},
   "outputs": [],
   "source": []
  },
  {
   "cell_type": "code",
   "execution_count": null,
   "metadata": {},
   "outputs": [],
   "source": []
  },
  {
   "cell_type": "code",
   "execution_count": null,
   "metadata": {},
   "outputs": [],
   "source": []
  }
 ],
 "metadata": {
  "kernelspec": {
   "display_name": "Python 3",
   "language": "python",
   "name": "python3"
  },
  "language_info": {
   "codemirror_mode": {
    "name": "ipython",
    "version": 3
   },
   "file_extension": ".py",
   "mimetype": "text/x-python",
   "name": "python",
   "nbconvert_exporter": "python",
   "pygments_lexer": "ipython3",
   "version": "3.8.10"
  }
 },
 "nbformat": 4,
 "nbformat_minor": 4
}
