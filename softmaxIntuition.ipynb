{
 "cells": [
  {
   "cell_type": "code",
   "execution_count": 1,
   "metadata": {},
   "outputs": [],
   "source": [
    "import tensorflow as tf\n",
    "import plotly.graph_objects as go\n",
    "from ipywidgets import widgets\n",
    "import numpy as np\n",
    "import math"
   ]
  },
  {
   "cell_type": "code",
   "execution_count": 2,
   "metadata": {},
   "outputs": [],
   "source": [
    "gammaSlide = widgets.FloatSlider(\n",
    "    value = 0.2,\n",
    "    min = 0.01,\n",
    "    max = 3,\n",
    "    step = 0.01,\n",
    "    description = \"gamma\"\n",
    ")\n",
    "\n",
    "nSlide = widgets.IntSlider(\n",
    "    value = 1000,\n",
    "    min = 5,\n",
    "    max = 1000,\n",
    "    step = 5,\n",
    "    description = \"n\"\n",
    ")\n",
    "\n",
    "valBoost = widgets.Checkbox(description = 'higher values')\n",
    "matchCase = widgets.Dropdown(options=[('Only Random', 1), ('Single Match', 2), ('10 Repeat Matches', 3)], value=1, description='How many matches')\n",
    "#singleBest = widgets.Checkbox(description = 'single highest value')\n",
    "addZeros = widgets.Checkbox(description = 'add 25% zeros')\n",
    "zscaleSwitch = widgets.Checkbox(description = 'z-normalize')\n",
    "mscaleSwitch = widgets.Checkbox(description = 'minmax-normalize')\n",
    "squareSwitch = widgets.Checkbox(description = 'square softmax')\n",
    "sqrtSwitch = widgets.Checkbox(description = 'sqrt softmax')\n",
    "doubleSwitch = widgets.Checkbox(description = 'double softmax')\n",
    "smnormSwitch = widgets.Checkbox(description = 'minmax normalize softmax')\n",
    "valdivSwitch = widgets.Checkbox(description = 'divide values by softmax')\n",
    "valmulSwitch = widgets.Checkbox(description = 'multiply values with softmax')\n",
    "\n",
    "container = widgets.HBox(children=[nSlide, gammaSlide, valBoost, matchCase, addZeros])\n",
    "container2 = widgets.HBox(children=[zscaleSwitch, mscaleSwitch, squareSwitch, sqrtSwitch, doubleSwitch, smnormSwitch])\n",
    "container3 = widgets.HBox(children=[valdivSwitch, valmulSwitch])"
   ]
  },
  {
   "cell_type": "code",
   "execution_count": 3,
   "metadata": {},
   "outputs": [],
   "source": [
    "realisticValues = True\n",
    "if realisticValues:\n",
    "    values = np.random.choice([-118.4823226928711, -108.17951202392578, -105.08866882324219, -97.87670135498047, -94.78585815429688, -91.69501495361328, -86.54360961914062, -83.45276641845703, -80.36192321777344, -77.27108001708984, -76.24079895019531, -73.14995574951172, -70.05911254882812, -64.90770721435547, -63.87742614746094, -61.816864013671875, -58.72602081298828, -55.63517761230469, -54.604896545410156, -51.51405334472656, -49.4534912109375, -48.42321014404297, -43.27180480957031, -40.18096160888672, -37.090118408203125, -32.968994140625, -29.878150939941406, -26.787307739257812, -15.454216003417969],\n",
    "                              size=nSlide.max,\n",
    "                              p=[0.5565744122640054, 0.00017362004218323987, 0.3369836411338032, 0.00016075929831781472, 0.000109316322856114, 0.08850120890992336, 0.00019934152991409024, 0.00012217706672153916, 2.5721487730850353e-05, 0.014095375276505994, 0.0002122022737795154, 9.002520705797624e-05, 1.9291115798137764e-05, 0.00023792376151036577, 0.0014468336848603323, 7.716446319255105e-05, 1.9291115798137764e-05, 6.430371932712588e-06, 0.0002636452492412161, 5.787334739441329e-05, 0.00013503781058696435, 1.9291115798137764e-05, 0.00022506301764494059, 3.215185966356294e-05, 1.2860743865425176e-05, 0.00010288595092340141, 7.073409125983846e-05, 1.2860743865425176e-05, 1.2860743865425176e-05])\n",
    "else:\n",
    "    values = np.random.gumbel(1, 0.5, nSlide.max)\n",
    "    buf = values[0]\n",
    "    mv = max(values)\n",
    "    mi = np.argmax(values)\n",
    "    values[0] = mv\n",
    "    values[mi] = buf\n",
    "    \n",
    "#print(values)"
   ]
  },
  {
   "cell_type": "code",
   "execution_count": 4,
   "metadata": {},
   "outputs": [],
   "source": [
    "trace1 = go.Bar(x=list(range(nSlide.value)), y=values[0:nSlide.value], name='values')\n",
    "trace2 = go.Bar(x=list(range(nSlide.value)), y=tf.nn.softmax(gammaSlide.value * values[0:nSlide.value]).numpy(), name='softmax')\n",
    "fig = go.FigureWidget(data=[trace1, trace2], \n",
    "                      layout=go.Layout(\n",
    "                          title={'text': \"softmax var: \"+str(np.var(trace2.y))+\"   softmax stdev: \"+str(np.std(trace2.y))+\"   softmax mean: \"+str(np.mean(trace2.y))+\"   softmax median: \"+str(np.median(trace2.y))}\n",
    "                      ))"
   ]
  },
  {
   "cell_type": "code",
   "execution_count": 5,
   "metadata": {},
   "outputs": [],
   "source": [
    "def response(change):\n",
    "    size = nSlide.value\n",
    "    gamma = gammaSlide.value\n",
    "    vals = np.array(values[0:size])\n",
    "    if valBoost.value:\n",
    "        vals *= 10\n",
    "        \n",
    "    if matchCase.value == 2:\n",
    "        if realisticValues:\n",
    "            vals[0] = 33.4895253\n",
    "        else:\n",
    "            vals /= 3\n",
    "            vals[0] *= 3\n",
    "    elif matchCase.value == 3:\n",
    "        if realisticValues:\n",
    "            for i in range(10):\n",
    "                vals[i] = 33.4895253\n",
    "        else:\n",
    "            vals /= 3\n",
    "            for i in range(10):\n",
    "                vals[i] *= 3\n",
    "                \n",
    "    if addZeros.value:\n",
    "        nzeros = len(vals)//4\n",
    "        for i in range(nzeros):\n",
    "            vals[len(vals)-1-i] = 0\n",
    "        \n",
    "    if zscaleSwitch.value:\n",
    "        mean = np.mean(vals)\n",
    "        std = np.std(vals)\n",
    "        vals -= mean\n",
    "        vals /= std\n",
    "        \n",
    "    if mscaleSwitch.value:\n",
    "        maxv = np.max(vals)\n",
    "        minv = np.min(vals)\n",
    "        vals -= minv\n",
    "        vals /= (maxv-minv)\n",
    "        \n",
    "    smruns = 2 if doubleSwitch.value else 1\n",
    "    softmax = vals\n",
    "    for i in range(smruns):\n",
    "        if doubleSwitch.value and i == 1:\n",
    "            smmax = np.max(softmax)\n",
    "            smmin = np.min(softmax)\n",
    "            softmax -= smmin\n",
    "            softmax /= (smmax-smmin)\n",
    "            \n",
    "        softmax = tf.nn.softmax(gamma*softmax).numpy()\n",
    "\n",
    "        if squareSwitch.value:\n",
    "            softmax *= softmax\n",
    "\n",
    "        if sqrtSwitch.value:\n",
    "            softmax = np.sqrt(softmax)\n",
    "    \n",
    "    if smnormSwitch.value:\n",
    "        smmax = np.max(softmax)\n",
    "        smmin = np.min(softmax)\n",
    "        softmax -= smmin\n",
    "        softmax /= (smmax-smmin)\n",
    "        \n",
    "    if valdivSwitch.value:\n",
    "        vals /= softmax\n",
    "        \n",
    "    if valmulSwitch.value:\n",
    "        vals *= softmax\n",
    "    \n",
    "    with fig.batch_update():\n",
    "        fig.data[0].x = list(range(size))\n",
    "        fig.data[1].x = list(range(size))\n",
    "        fig.data[0].y = vals\n",
    "        fig.data[1].y = softmax\n",
    "        fig.layout.title.text = \"softmax var: \"+str(np.var(softmax))+\"   softmax stdev: \"+str(np.std(softmax))+\"   softmax mean: \"+str(np.mean(softmax))+\"   softmax median: \"+str(np.median(softmax))+\"<br>value var: \"+str(np.var(vals))+\"   value stdev: \"+str(np.std(vals))+\"   value mean: \"+str(np.mean(vals))+\"   value median: \"+str(np.median(vals))"
   ]
  },
  {
   "cell_type": "code",
   "execution_count": 6,
   "metadata": {},
   "outputs": [],
   "source": [
    "gammaSlide.observe(response, names='value')\n",
    "nSlide.observe(response, names='value')\n",
    "valBoost.observe(response, names='value')\n",
    "matchCase.observe(response, names='value')\n",
    "addZeros.observe(response, names='value')\n",
    "zscaleSwitch.observe(response, names='value')\n",
    "mscaleSwitch.observe(response, names='value')\n",
    "squareSwitch.observe(response, names='value')\n",
    "sqrtSwitch.observe(response, names='value')\n",
    "doubleSwitch.observe(response, names='value')\n",
    "smnormSwitch.observe(response, names='value')\n",
    "valdivSwitch.observe(response, names='value')\n",
    "valmulSwitch.observe(response, names='value')"
   ]
  },
  {
   "cell_type": "code",
   "execution_count": 7,
   "metadata": {},
   "outputs": [
    {
     "data": {
      "application/vnd.jupyter.widget-view+json": {
       "model_id": "001020bc334344c9af4dbfe993e6b928",
       "version_major": 2,
       "version_minor": 0
      },
      "text/plain": [
       "VBox(children=(HBox(children=(IntSlider(value=1000, description='n', max=1000, min=5, step=5), FloatSlider(val…"
      ]
     },
     "metadata": {},
     "output_type": "display_data"
    }
   ],
   "source": [
    "widgets.VBox([container, container2, container3, fig])"
   ]
  }
 ],
 "metadata": {
  "kernelspec": {
   "display_name": "Python 3",
   "language": "python",
   "name": "python3"
  },
  "language_info": {
   "codemirror_mode": {
    "name": "ipython",
    "version": 3
   },
   "file_extension": ".py",
   "mimetype": "text/x-python",
   "name": "python",
   "nbconvert_exporter": "python",
   "pygments_lexer": "ipython3",
   "version": "3.7.5"
  }
 },
 "nbformat": 4,
 "nbformat_minor": 4
}
