{
 "cells": [
  {
   "cell_type": "markdown",
   "metadata": {},
   "source": [
    "Could not get this to run on wolke.uni-greifswald.de, but in local jupyterhub this works"
   ]
  },
  {
   "cell_type": "code",
   "execution_count": 1,
   "metadata": {},
   "outputs": [],
   "source": [
    "import tensorflow as tf\n",
    "import plotly.graph_objects as go\n",
    "from ipywidgets import widgets\n",
    "import numpy as np\n",
    "import math"
   ]
  },
  {
   "cell_type": "code",
   "execution_count": 92,
   "metadata": {},
   "outputs": [],
   "source": [
    "gammaSlide = widgets.FloatSlider(\n",
    "    value = 0.2,\n",
    "    min = 0.01,\n",
    "    max = 3,\n",
    "    step = 0.01,\n",
    "    description = \"gamma\"\n",
    ")\n",
    "\n",
    "nSlide = widgets.IntSlider(\n",
    "    value = 1000,\n",
    "    min = 5,\n",
    "    max = 1000,\n",
    "    step = 5,\n",
    "    description = \"n\"\n",
    ")\n",
    "\n",
    "valBoost = widgets.Checkbox(description = 'higher values')\n",
    "singleBest = widgets.Checkbox(description = 'single highest value')\n",
    "zscaleSwitch = widgets.Checkbox(description = 'z-normalize')\n",
    "mscaleSwitch = widgets.Checkbox(description = 'minmax-normalize')\n",
    "squareSwitch = widgets.Checkbox(description = 'square softmax')\n",
    "sqrtSwitch = widgets.Checkbox(description = 'sqrt softmax')\n",
    "doubleSwitch = widgets.Checkbox(description = 'double softmax')\n",
    "smnormSwitch = widgets.Checkbox(description = 'minmax normalize softmax')\n",
    "valdivSwitch = widgets.Checkbox(description = 'divide values by softmax')\n",
    "valmulSwitch = widgets.Checkbox(description = 'multiply values with softmax')\n",
    "\n",
    "container = widgets.HBox(children=[nSlide, gammaSlide, valBoost, singleBest])\n",
    "container2 = widgets.HBox(children=[zscaleSwitch, mscaleSwitch, squareSwitch, sqrtSwitch, doubleSwitch, smnormSwitch])\n",
    "container3 = widgets.HBox(children=[valdivSwitch, valmulSwitch])"
   ]
  },
  {
   "cell_type": "code",
   "execution_count": 93,
   "metadata": {},
   "outputs": [],
   "source": [
    "values = np.random.gumbel(1, 0.5, nSlide.max)\n",
    "buf = values[0]\n",
    "mv = max(values)\n",
    "mi = np.argmax(values)\n",
    "values[0] = mv\n",
    "values[mi] = buf\n",
    "#print(values)"
   ]
  },
  {
   "cell_type": "code",
   "execution_count": 94,
   "metadata": {},
   "outputs": [],
   "source": [
    "trace1 = go.Bar(x=list(range(nSlide.value)), y=values[0:nSlide.value], name='values')\n",
    "trace2 = go.Bar(x=list(range(nSlide.value)), y=tf.nn.softmax(gammaSlide.value * values[0:nSlide.value]).numpy(), name='softmax')\n",
    "fig = go.FigureWidget(data=[trace1, trace2], \n",
    "                      layout=go.Layout(\n",
    "                          title={'text': \"softmax var: \"+str(np.var(trace2.y))+\"   softmax stdev: \"+str(np.std(trace2.y))+\"   softmax mean: \"+str(np.mean(trace2.y))+\"   softmax median: \"+str(np.median(trace2.y))}\n",
    "                      ))"
   ]
  },
  {
   "cell_type": "code",
   "execution_count": 95,
   "metadata": {},
   "outputs": [],
   "source": [
    "def response(change):\n",
    "    size = nSlide.value\n",
    "    gamma = gammaSlide.value\n",
    "    vals = np.array(values[0:size])\n",
    "    if valBoost.value:\n",
    "        vals *= 10\n",
    "        \n",
    "    if singleBest.value:\n",
    "        vals /= 3\n",
    "        vals[0] *= 3\n",
    "        \n",
    "    if zscaleSwitch.value:\n",
    "        mean = np.mean(vals)\n",
    "        std = np.std(vals)\n",
    "        vals -= mean\n",
    "        vals /= std\n",
    "        \n",
    "    if mscaleSwitch.value:\n",
    "        maxv = np.max(vals)\n",
    "        minv = np.min(vals)\n",
    "        vals -= minv\n",
    "        vals /= (maxv-minv)\n",
    "        \n",
    "    smruns = 2 if doubleSwitch.value else 1\n",
    "    softmax = vals\n",
    "    for i in range(smruns):\n",
    "        if doubleSwitch.value and i == 1:\n",
    "            smmax = np.max(softmax)\n",
    "            smmin = np.min(softmax)\n",
    "            softmax -= smmin\n",
    "            softmax /= (smmax-smmin)\n",
    "            \n",
    "        softmax = tf.nn.softmax(gamma*softmax).numpy()\n",
    "\n",
    "        if squareSwitch.value:\n",
    "            softmax *= softmax\n",
    "\n",
    "        if sqrtSwitch.value:\n",
    "            softmax = np.sqrt(softmax)\n",
    "    \n",
    "    if smnormSwitch.value:\n",
    "        smmax = np.max(softmax)\n",
    "        smmin = np.min(softmax)\n",
    "        softmax -= smmin\n",
    "        softmax /= (smmax-smmin)\n",
    "        \n",
    "    if valdivSwitch.value:\n",
    "        vals /= softmax\n",
    "        \n",
    "    if valmulSwitch.value:\n",
    "        vals *= softmax\n",
    "    \n",
    "    with fig.batch_update():\n",
    "        fig.data[0].x = list(range(size))\n",
    "        fig.data[1].x = list(range(size))\n",
    "        fig.data[0].y = vals\n",
    "        fig.data[1].y = softmax\n",
    "        fig.layout.title.text = \"softmax var: \"+str(np.var(softmax))+\"   softmax stdev: \"+str(np.std(softmax))+\"   softmax mean: \"+str(np.mean(softmax))+\"   softmax median: \"+str(np.median(softmax))"
   ]
  },
  {
   "cell_type": "code",
   "execution_count": 96,
   "metadata": {},
   "outputs": [],
   "source": [
    "gammaSlide.observe(response, names='value')\n",
    "nSlide.observe(response, names='value')\n",
    "valBoost.observe(response, names='value')\n",
    "singleBest.observe(response, names='value')\n",
    "zscaleSwitch.observe(response, names='value')\n",
    "mscaleSwitch.observe(response, names='value')\n",
    "squareSwitch.observe(response, names='value')\n",
    "sqrtSwitch.observe(response, names='value')\n",
    "doubleSwitch.observe(response, names='value')\n",
    "smnormSwitch.observe(response, names='value')\n",
    "valdivSwitch.observe(response, names='value')\n",
    "valmulSwitch.observe(response, names='value')"
   ]
  },
  {
   "cell_type": "code",
   "execution_count": 97,
   "metadata": {},
   "outputs": [
    {
     "data": {
      "application/vnd.jupyter.widget-view+json": {
       "model_id": "893692d058764fe7b86db7eb5f6e42b6",
       "version_major": 2,
       "version_minor": 0
      },
      "text/plain": [
       "VBox(children=(HBox(children=(IntSlider(value=1000, description='n', max=1000, min=5, step=5), FloatSlider(val…"
      ]
     },
     "metadata": {},
     "output_type": "display_data"
    }
   ],
   "source": [
    "widgets.VBox([container, container2, container3, fig])"
   ]
  }
 ],
 "metadata": {
  "kernelspec": {
   "display_name": "Python 3",
   "language": "python",
   "name": "python3"
  },
  "language_info": {
   "codemirror_mode": {
    "name": "ipython",
    "version": 3
   },
   "file_extension": ".py",
   "mimetype": "text/x-python",
   "name": "python",
   "nbconvert_exporter": "python",
   "pygments_lexer": "ipython3",
   "version": "3.9.2"
  }
 },
 "nbformat": 4,
 "nbformat_minor": 4
}
